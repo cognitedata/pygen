{
 "cells": [
  {
   "cell_type": "code",
   "execution_count": 1,
   "id": "11d4e442-1b96-474d-8f3c-4b545a6184d2",
   "metadata": {},
   "outputs": [],
   "source": [
    "from local import MovieClient\n",
    "from data.load import load"
   ]
  },
  {
   "cell_type": "code",
   "execution_count": 2,
   "id": "285087cd-0d9c-45b1-a845-b469c2959dd2",
   "metadata": {},
   "outputs": [],
   "source": [
    "client = MovieClient(load())"
   ]
  },
  {
   "cell_type": "code",
   "execution_count": 15,
   "id": "f8ab9ce8-f20c-4a65-be60-8356029c1a99",
   "metadata": {},
   "outputs": [
    {
     "data": {
      "text/html": [
       "<div>\n",
       "<style scoped>\n",
       "    .dataframe tbody tr th:only-of-type {\n",
       "        vertical-align: middle;\n",
       "    }\n",
       "\n",
       "    .dataframe tbody tr th {\n",
       "        vertical-align: top;\n",
       "    }\n",
       "\n",
       "    .dataframe thead th {\n",
       "        text-align: right;\n",
       "    }\n",
       "</style>\n",
       "<table border=\"1\" class=\"dataframe\">\n",
       "  <thead>\n",
       "    <tr style=\"text-align: right;\">\n",
       "      <th></th>\n",
       "      <th>external_id</th>\n",
       "      <th>title</th>\n",
       "      <th>release_year</th>\n",
       "      <th>run_time_minutes</th>\n",
       "    </tr>\n",
       "  </thead>\n",
       "  <tbody>\n",
       "    <tr>\n",
       "      <th>0</th>\n",
       "      <td>movie:12_angry_men</td>\n",
       "      <td>12 Angry Men</td>\n",
       "      <td>1957</td>\n",
       "      <td>96.0</td>\n",
       "    </tr>\n",
       "    <tr>\n",
       "      <th>1</th>\n",
       "      <td>movie:django_unchained</td>\n",
       "      <td>Django Unchained</td>\n",
       "      <td>2012</td>\n",
       "      <td>165.0</td>\n",
       "    </tr>\n",
       "    <tr>\n",
       "      <th>2</th>\n",
       "      <td>movie:fargo</td>\n",
       "      <td>Fargo</td>\n",
       "      <td>1996</td>\n",
       "      <td>98.0</td>\n",
       "    </tr>\n",
       "    <tr>\n",
       "      <th>3</th>\n",
       "      <td>movie:gladiator</td>\n",
       "      <td>Gladiator</td>\n",
       "      <td>2000</td>\n",
       "      <td>155.0</td>\n",
       "    </tr>\n",
       "    <tr>\n",
       "      <th>4</th>\n",
       "      <td>movie:inglourious_basterds</td>\n",
       "      <td>Inglourious Basterds</td>\n",
       "      <td>2009</td>\n",
       "      <td>153.0</td>\n",
       "    </tr>\n",
       "    <tr>\n",
       "      <th>5</th>\n",
       "      <td>movie:pulp_fiction</td>\n",
       "      <td>Pulp Fiction</td>\n",
       "      <td>1994</td>\n",
       "      <td>154.0</td>\n",
       "    </tr>\n",
       "    <tr>\n",
       "      <th>6</th>\n",
       "      <td>movie:reservoir_dogs</td>\n",
       "      <td>Reservoir Dogs</td>\n",
       "      <td>1992</td>\n",
       "      <td>99.0</td>\n",
       "    </tr>\n",
       "  </tbody>\n",
       "</table>\n",
       "</div>"
      ],
      "text/plain": [
       "MovieList([Movie(external_id='movie:12_angry_men', title='12 Angry Men', actors=['actor:henry_fonda'], directors=['director:sidney_lumet'], release_year=1957, run_time_minutes=96.0, meta=None),\n",
       "           Movie(external_id='movie:django_unchained', title='Django Unchained', actors=['actor:quentin_tarantino', 'actor:jamie_foxx', 'actor:christoph_waltz', 'actor:samuel_l._jackson'], directors=['director:quentin_tarantino'], release_year=2012, run_time_minutes=165.0, meta=None),\n",
       "           Movie(external_id='movie:fargo', title='Fargo', actors=['actor:frances_mcdormand'], directors=['director:joel_coen', 'director:ethan_coen'], release_year=1996, run_time_minutes=98.0, meta=None),\n",
       "           Movie(external_id='movie:gladiator', title='Gladiator', actors=['actor:russell_crowe'], directors=['director:ridley_scott'], release_year=2000, run_time_minutes=155.0, meta=None),\n",
       "           Movie(external_id='movie:inglourious_basterds', title='Inglourious Basterds', actors=['actor:quentin_tarantino', 'actor:christoph_waltz'], directors=['director:quentin_tarantino'], release_year=2009, run_time_minutes=153.0, meta=None),\n",
       "           Movie(external_id='movie:pulp_fiction', title='Pulp Fiction', actors=['actor:quentin_tarantino', 'actor:samuel_l._jackson', 'actor:john_travolta', 'actor:harvey_keitel'], directors=['director:quentin_tarantino'], release_year=1994, run_time_minutes=154.0, meta=None),\n",
       "           Movie(external_id='movie:reservoir_dogs', title='Reservoir Dogs', actors=['actor:quentin_tarantino', 'actor:harvey_keitel'], directors=['director:quentin_tarantino'], release_year=1992, run_time_minutes=99.0, meta=None)])"
      ]
     },
     "execution_count": 15,
     "metadata": {},
     "output_type": "execute_result"
    }
   ],
   "source": [
    "movies = client.movies.list()\n",
    "\n",
    "movies\n",
    "\n"
   ]
  },
  {
   "cell_type": "code",
   "execution_count": 16,
   "id": "44203f5a-a34f-4e4e-b0f0-b9a5ff0178f3",
   "metadata": {},
   "outputs": [],
   "source": [
    "pulp_fiction = movies[5]"
   ]
  },
  {
   "cell_type": "code",
   "execution_count": 6,
   "id": "755de1d4-a9f4-4c15-89e9-707a4ac84b55",
   "metadata": {},
   "outputs": [
    {
     "name": "stdout",
     "output_type": "stream",
     "text": [
      "Quentin Tarantino\n",
      "Samuel L. Jackson\n",
      "John Travolta\n",
      "Harvey Keitel\n"
     ]
    }
   ],
   "source": [
    "for actor in pulp_fiction.actors:\n",
    "    print(actor.person.name)"
   ]
  },
  {
   "cell_type": "code",
   "execution_count": 7,
   "id": "f732e739-eec5-4839-af97-a1a51c0c87c2",
   "metadata": {},
   "outputs": [
    {
     "name": "stdout",
     "output_type": "stream",
     "text": [
      "Quentin Tarantino\n"
     ]
    }
   ],
   "source": [
    "for director in pulp_fiction.directors:\n",
    "    print(director.person.name)"
   ]
  },
  {
   "cell_type": "code",
   "execution_count": 9,
   "id": "e91ae0b7-5d48-493c-b4c6-749d7ea8eac0",
   "metadata": {},
   "outputs": [
    {
     "data": {
      "text/html": [
       "<div>\n",
       "<style scoped>\n",
       "    .dataframe tbody tr th:only-of-type {\n",
       "        vertical-align: middle;\n",
       "    }\n",
       "\n",
       "    .dataframe tbody tr th {\n",
       "        vertical-align: top;\n",
       "    }\n",
       "\n",
       "    .dataframe thead th {\n",
       "        text-align: right;\n",
       "    }\n",
       "</style>\n",
       "<table border=\"1\" class=\"dataframe\">\n",
       "  <thead>\n",
       "    <tr style=\"text-align: right;\">\n",
       "      <th></th>\n",
       "      <th>external_id</th>\n",
       "      <th>name</th>\n",
       "      <th>birth_year</th>\n",
       "      <th>roles</th>\n",
       "    </tr>\n",
       "  </thead>\n",
       "  <tbody>\n",
       "    <tr>\n",
       "      <th>0</th>\n",
       "      <td>person:russell_crowe</td>\n",
       "      <td>Russell Crowe</td>\n",
       "      <td>1964</td>\n",
       "      <td>[{'external_id': 'actor:russell_crowe', 'won_o...</td>\n",
       "    </tr>\n",
       "    <tr>\n",
       "      <th>1</th>\n",
       "      <td>person:sidney_lumet</td>\n",
       "      <td>Sidney Lumet</td>\n",
       "      <td>1924</td>\n",
       "      <td>[{'external_id': 'director:sidney_lumet', 'won...</td>\n",
       "    </tr>\n",
       "    <tr>\n",
       "      <th>2</th>\n",
       "      <td>person:henry_fonda</td>\n",
       "      <td>Henry Fonda</td>\n",
       "      <td>1905</td>\n",
       "      <td>[{'external_id': 'actor:henry_fonda', 'won_osc...</td>\n",
       "    </tr>\n",
       "    <tr>\n",
       "      <th>3</th>\n",
       "      <td>person:ridley_scott</td>\n",
       "      <td>Ridley Scott</td>\n",
       "      <td>1937</td>\n",
       "      <td>[{'external_id': 'director:ridley_scott', 'won...</td>\n",
       "    </tr>\n",
       "    <tr>\n",
       "      <th>4</th>\n",
       "      <td>person:quentin_tarantino</td>\n",
       "      <td>Quentin Tarantino</td>\n",
       "      <td>1963</td>\n",
       "      <td>[{'external_id': 'actor:quentin_tarantino', 'w...</td>\n",
       "    </tr>\n",
       "    <tr>\n",
       "      <th>5</th>\n",
       "      <td>person:jamie_foxx</td>\n",
       "      <td>Jamie Foxx</td>\n",
       "      <td>1967</td>\n",
       "      <td>[{'external_id': 'actor:jamie_foxx', 'won_osca...</td>\n",
       "    </tr>\n",
       "    <tr>\n",
       "      <th>6</th>\n",
       "      <td>person:christoph_waltz</td>\n",
       "      <td>Christoph Waltz</td>\n",
       "      <td>1956</td>\n",
       "      <td>[{'external_id': 'actor:christoph_waltz', 'won...</td>\n",
       "    </tr>\n",
       "    <tr>\n",
       "      <th>7</th>\n",
       "      <td>person:samuel_l._jackson</td>\n",
       "      <td>Samuel L. Jackson</td>\n",
       "      <td>1948</td>\n",
       "      <td>[{'external_id': 'actor:samuel_l._jackson', 'w...</td>\n",
       "    </tr>\n",
       "    <tr>\n",
       "      <th>8</th>\n",
       "      <td>person:john_travolta</td>\n",
       "      <td>John Travolta</td>\n",
       "      <td>1954</td>\n",
       "      <td>[{'external_id': 'actor:john_travolta', 'won_o...</td>\n",
       "    </tr>\n",
       "    <tr>\n",
       "      <th>9</th>\n",
       "      <td>person:joel_coen</td>\n",
       "      <td>Joel Coen</td>\n",
       "      <td>1954</td>\n",
       "      <td>[{'external_id': 'director:joel_coen', 'won_os...</td>\n",
       "    </tr>\n",
       "    <tr>\n",
       "      <th>10</th>\n",
       "      <td>person:ethan_coen</td>\n",
       "      <td>Ethan Coen</td>\n",
       "      <td>1957</td>\n",
       "      <td>[{'external_id': 'director:ethan_coen', 'won_o...</td>\n",
       "    </tr>\n",
       "    <tr>\n",
       "      <th>11</th>\n",
       "      <td>person:frances_mcdormand</td>\n",
       "      <td>Frances McDormand</td>\n",
       "      <td>1957</td>\n",
       "      <td>[{'external_id': 'actor:frances_mcdormand', 'w...</td>\n",
       "    </tr>\n",
       "    <tr>\n",
       "      <th>12</th>\n",
       "      <td>person:harvey_keitel</td>\n",
       "      <td>Harvey Keitel</td>\n",
       "      <td>1939</td>\n",
       "      <td>[{'external_id': 'actor:harvey_keitel', 'won_o...</td>\n",
       "    </tr>\n",
       "  </tbody>\n",
       "</table>\n",
       "</div>"
      ],
      "text/plain": [
       "PersonList([Person(external_id='person:russell_crowe', name='Russell Crowe', birth_year=1964, roles=[Actor(external_id='actor:russell_crowe', movies=['movie:gladiator'], won_oscar=True, nomination=['leadingactor:russell_crowe:gladiator'], person='person:russell_crowe')]),\n",
       "            Person(external_id='person:sidney_lumet', name='Sidney Lumet', birth_year=1924, roles=[Director(external_id='director:sidney_lumet', movies=['movie:12_angry_men'], won_oscar=True, nomination=['director:sidney_lumet:12_angry_men'], person='person:sidney_lumet')]),\n",
       "            Person(external_id='person:henry_fonda', name='Henry Fonda', birth_year=1905, roles=[Actor(external_id='actor:henry_fonda', movies=['movie:12_angry_men'], won_oscar=False, nomination=[], person='person:henry_fonda')]),\n",
       "            Person(external_id='person:ridley_scott', name='Ridley Scott', birth_year=1937, roles=[Director(external_id='director:ridley_scott', movies=['movie:gladiator'], won_oscar=False, nomination=['director:ridley_scott:gladiator'], person='person:ridley_scott')]),\n",
       "            Person(external_id='person:quentin_tarantino', name='Quentin Tarantino', birth_year=1963, roles=[Actor(external_id='actor:quentin_tarantino', movies=['movie:django_unchained', 'movie:inglourious_basterds', 'movie:pulp_fiction', 'movie:reservoir_dogs'], won_oscar=False, nomination=['director:quentin_tarantino:inglourious_basterds', 'director:quentin_tarantino:pulp_fiction'], person='person:quentin_tarantino'), Director(external_id='director:quentin_tarantino', movies=['movie:django_unchained', 'movie:inglourious_basterds', 'movie:pulp_fiction', 'movie:reservoir_dogs'], won_oscar=True, nomination=['director:quentin_tarantino:inglourious_basterds', 'director:quentin_tarantino:pulp_fiction'], person='person:quentin_tarantino')]),\n",
       "            Person(external_id='person:jamie_foxx', name='Jamie Foxx', birth_year=1967, roles=[Actor(external_id='actor:jamie_foxx', movies=['movie:django_unchained'], won_oscar=True, nomination=[], person='person:jamie_foxx')]),\n",
       "            Person(external_id='person:christoph_waltz', name='Christoph Waltz', birth_year=1956, roles=[Actor(external_id='actor:christoph_waltz', movies=['movie:django_unchained', 'movie:inglourious_basterds'], won_oscar=True, nomination=[], person='person:christoph_waltz'), Director(external_id='director:christoph_waltz', movies=[], won_oscar=True, nomination=[], person='person:christoph_waltz')]),\n",
       "            Person(external_id='person:samuel_l._jackson', name='Samuel L. Jackson', birth_year=1948, roles=[Actor(external_id='actor:samuel_l._jackson', movies=['movie:django_unchained', 'movie:pulp_fiction'], won_oscar=True, nomination=[], person='person:samuel_l._jackson')]),\n",
       "            Person(external_id='person:john_travolta', name='John Travolta', birth_year=1954, roles=[Actor(external_id='actor:john_travolta', movies=['movie:pulp_fiction'], won_oscar=True, nomination=['leadingactor:john_travolta:pulp_fiction'], person='person:john_travolta')]),\n",
       "            Person(external_id='person:joel_coen', name='Joel Coen', birth_year=1954, roles=[Director(external_id='director:joel_coen', movies=['movie:fargo'], won_oscar=False, nomination=['director:joel_coen:fargo'], person='person:joel_coen')]),\n",
       "            Person(external_id='person:ethan_coen', name='Ethan Coen', birth_year=1957, roles=[Director(external_id='director:ethan_coen', movies=['movie:fargo'], won_oscar=False, nomination=[], person='person:ethan_coen')]),\n",
       "            Person(external_id='person:frances_mcdormand', name='Frances McDormand', birth_year=1957, roles=[Actor(external_id='actor:frances_mcdormand', movies=['movie:fargo'], won_oscar=True, nomination=['leadingactressfrances_mcdormand:fargo'], person='person:frances_mcdormand')]),\n",
       "            Person(external_id='person:harvey_keitel', name='Harvey Keitel', birth_year=1939, roles=[Actor(external_id='actor:harvey_keitel', movies=['movie:pulp_fiction', 'movie:reservoir_dogs'], won_oscar=False, nomination=[], person='person:harvey_keitel')])])"
      ]
     },
     "execution_count": 9,
     "metadata": {},
     "output_type": "execute_result"
    }
   ],
   "source": [
    "persons = client.persons.list()\n",
    "\n",
    "persons"
   ]
  },
  {
   "cell_type": "code",
   "execution_count": 10,
   "id": "cd022074-9e8a-483e-bf73-42652057451a",
   "metadata": {},
   "outputs": [],
   "source": [
    "tarantino = persons[4]"
   ]
  },
  {
   "cell_type": "code",
   "execution_count": 14,
   "id": "a7d4af32-6503-4839-b12e-515a164a7f3f",
   "metadata": {},
   "outputs": [
    {
     "name": "stdout",
     "output_type": "stream",
     "text": [
      "Actor\n",
      "Director\n"
     ]
    }
   ],
   "source": [
    "for role in tarantino.roles:\n",
    "    print(type(role).__name__)"
   ]
  },
  {
   "cell_type": "code",
   "execution_count": null,
   "id": "298450f5-2f13-48d1-876a-9b04da3d5ffc",
   "metadata": {},
   "outputs": [],
   "source": []
  }
 ],
 "metadata": {
  "kernelspec": {
   "display_name": "Python 3 (ipykernel)",
   "language": "python",
   "name": "python3"
  },
  "language_info": {
   "codemirror_mode": {
    "name": "ipython",
    "version": 3
   },
   "file_extension": ".py",
   "mimetype": "text/x-python",
   "name": "python",
   "nbconvert_exporter": "python",
   "pygments_lexer": "ipython3",
   "version": "3.10.9"
  }
 },
 "nbformat": 4,
 "nbformat_minor": 5
}
