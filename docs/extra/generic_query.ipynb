{
 "cells": [
  {
   "cell_type": "markdown",
   "id": "30610665-998c-4915-ad48-8a9e56346a00",
   "metadata": {},
   "source": [
    "# Generic Querying \n",
    "\n",
    "Generic querying is an experimental part of `pygen`. This is a method that support a broad set of querying capababilites to an arbitrary Data Model. \n",
    "The generic querying takes care of pagination, implementation details in querying, unpacking the results and so on. Will will demonstrate this capabilitiy wiht the `CogniteCore` model"
   ]
  },
  {
   "cell_type": "code",
   "execution_count": 1,
   "id": "b11b4a98-94ff-4198-8098-cd893a105e19",
   "metadata": {
    "editable": true,
    "slideshow": {
     "slide_type": ""
    },
    "tags": []
   },
   "outputs": [],
   "source": [
    "from cognite.client import ClientConfig, CogniteClient\n",
    "\n",
    "client = CogniteClient(ClientConfig(\"myName\", \"myProject\", None))"
   ]
  },
  {
   "cell_type": "code",
   "execution_count": 2,
   "id": "1f856360-9a58-4d19-aeaf-29b8a1c67061",
   "metadata": {
    "editable": true,
    "slideshow": {
     "slide_type": ""
    },
    "tags": [
     "hide"
    ]
   },
   "outputs": [],
   "source": [
    "import os\n",
    "\n",
    "from cognite.client import CogniteClient\n",
    "from dotenv import load_dotenv\n",
    "\n",
    "load_dotenv(\"../../albert.env\")\n",
    "\n",
    "client = CogniteClient.default_oauth_client_credentials(\n",
    "    project=os.environ[\"CDF_PROJECT\"],\n",
    "    cdf_cluster=os.environ[\"CDF_CLUSTER\"],\n",
    "    tenant_id=os.environ[\"IDP_TENANT_ID\"],\n",
    "    client_id=os.environ[\"IDP_CLIENT_ID\"],\n",
    "    client_secret=os.environ[\"IDP_CLIENT_SECRET\"],\n",
    ")"
   ]
  },
  {
   "cell_type": "markdown",
   "id": "e3e1c34c-211c-4421-aa9d-77848364a9e4",
   "metadata": {
    "editable": true,
    "slideshow": {
     "slide_type": ""
    },
    "tags": []
   },
   "source": [
    "## Setting up method"
   ]
  },
  {
   "cell_type": "code",
   "execution_count": 3,
   "id": "2cc7f20e-f97e-4842-b07e-01e873171404",
   "metadata": {
    "editable": true,
    "slideshow": {
     "slide_type": ""
    },
    "tags": []
   },
   "outputs": [],
   "source": [
    "from pprint import pprint\n",
    "\n",
    "from cognite.client import data_modeling as dm\n",
    "\n",
    "from cognite.pygen import _QueryExecutor"
   ]
  },
  {
   "cell_type": "code",
   "execution_count": 4,
   "id": "04d3f2c3-efc8-45b5-98bf-db10e234ca32",
   "metadata": {
    "editable": true,
    "slideshow": {
     "slide_type": ""
    },
    "tags": []
   },
   "outputs": [],
   "source": [
    "executor = _QueryExecutor(client)"
   ]
  },
  {
   "cell_type": "markdown",
   "id": "4fe5fdea-f555-4045-bb10-2c45c9119dc7",
   "metadata": {
    "editable": true,
    "slideshow": {
     "slide_type": ""
    },
    "tags": []
   },
   "source": [
    "## Listing Properties"
   ]
  },
  {
   "cell_type": "code",
   "execution_count": 5,
   "id": "f0966234-671a-4f7d-94c8-a87c3ea765e2",
   "metadata": {
    "editable": true,
    "slideshow": {
     "slide_type": ""
    },
    "tags": []
   },
   "outputs": [],
   "source": [
    "equipment = dm.ViewId(\"cdf_cdm\", \"CogniteEquipment\", \"v1\")"
   ]
  },
  {
   "cell_type": "code",
   "execution_count": 6,
   "id": "0d4df9db-39e3-47b3-8a85-f8701c21cf52",
   "metadata": {
    "editable": true,
    "slideshow": {
     "slide_type": ""
    },
    "tags": []
   },
   "outputs": [],
   "source": [
    "result = executor.list(\n",
    "    equipment, [\"name\", \"externalId\"], sort=dm.InstanceSort(equipment.as_property_ref(\"name\")), limit=3\n",
    ")"
   ]
  },
  {
   "cell_type": "code",
   "execution_count": 7,
   "id": "42c3b234-901c-4e97-a332-378ba3174d88",
   "metadata": {
    "editable": true,
    "slideshow": {
     "slide_type": ""
    },
    "tags": []
   },
   "outputs": [
    {
     "name": "stdout",
     "output_type": "stream",
     "text": [
      "[{'externalId': 'WMT:23-AE-92527-S1', 'name': '23-AE-92527-S1'},\n",
      " {'externalId': 'WMT:23-AE-92527-S2', 'name': '23-AE-92527-S2'},\n",
      " {'externalId': 'WMT:23-AE-92527-S3', 'name': '23-AE-92527-S3'}]\n"
     ]
    }
   ],
   "source": [
    "pprint(result)"
   ]
  },
  {
   "cell_type": "markdown",
   "id": "a0e4d9aa-b2af-460e-95ec-7ac304c74fdf",
   "metadata": {
    "editable": true,
    "slideshow": {
     "slide_type": ""
    },
    "tags": []
   },
   "source": [
    "## Listing Properties with (reverse) Direct Relation"
   ]
  },
  {
   "cell_type": "code",
   "execution_count": 8,
   "id": "4a2435fc-7c38-42c2-b924-e817d193b820",
   "metadata": {
    "editable": true,
    "slideshow": {
     "slide_type": ""
    },
    "tags": []
   },
   "outputs": [],
   "source": [
    "result = executor.list(\n",
    "    equipment, [\"externalId\", {\"activities\": [\"name\", \"startTime\", \"endTime\", \"externalId\"]}], limit=1\n",
    ")"
   ]
  },
  {
   "cell_type": "code",
   "execution_count": 9,
   "id": "041668bf-66d4-45e2-8fe6-ea76121b8df4",
   "metadata": {
    "editable": true,
    "slideshow": {
     "slide_type": ""
    },
    "tags": []
   },
   "outputs": [
    {
     "name": "stdout",
     "output_type": "stream",
     "text": [
      "[{'activities': [{'externalId': '5267267184983944',\n",
      "                  'name': 'El. *** motor ***/***.'},\n",
      "                 {'externalId': '7542532148080032',\n",
      "                  'name': 'DETALJERT INSPEKSJON AV EX UTSTYR'},\n",
      "                 {'externalId': '3890816994380859',\n",
      "                  'name': 'El. *** motor ***/***.'},\n",
      "                 {'externalId': '1994654812359021',\n",
      "                  'name': 'DETALJERT INSPEKSJON AV EX UTSTYR'},\n",
      "                 {'externalId': '8975897325791316',\n",
      "                  'name': '***-årlig visuell inspeksjon'},\n",
      "                 {'externalId': '5396038908663652', 'name': ''},\n",
      "                 {'externalId': '5591901218775805',\n",
      "                  'name': 'Årlig sampling assessment'},\n",
      "                 {'externalId': '6525225262427728',\n",
      "                  'name': '36MND Elektro DETALJERT INSPEKSJON AV EX UTSTYR'},\n",
      "                 {'externalId': '1471919969115313',\n",
      "                  'name': 'DETALJERT INSPEKSJON AV EX UTSTYR'},\n",
      "                 {'externalId': '6341564007115449',\n",
      "                  'name': '*** MND ELEKTRO. Ettersyn av ***'},\n",
      "                 {'externalId': '3752022002179906',\n",
      "                  'name': '36MND Elektro DETALJERT INSPEKSJON AV EX UTSTYR'},\n",
      "                 {'externalId': '7379838526502732',\n",
      "                  'name': 'DETALJERT INSPEKSJON AV EX UTSTYR'},\n",
      "                 {'externalId': '2600036343829439',\n",
      "                  'name': '*** MND ELEKTRO. Ettersyn av ***'},\n",
      "                 {'externalId': '153779822441762', 'name': ''},\n",
      "                 {'externalId': '5311399525096904',\n",
      "                  'name': 'Årlig sampling assessment'},\n",
      "                 {'externalId': '1483812283636412',\n",
      "                  'name': '***-årlig visuell inspeksjon'},\n",
      "                 {'externalId': '4805561663219723',\n",
      "                  'name': 'Årlig sampling assessment'},\n",
      "                 {'externalId': '8884006857902169',\n",
      "                  'name': 'Årlig sampling assessment'}],\n",
      "  'externalId': 'WMT:23-VA-9110-M01'}]\n"
     ]
    }
   ],
   "source": [
    "pprint(result)"
   ]
  },
  {
   "cell_type": "code",
   "execution_count": 11,
   "id": "ce12266b-d30c-4eda-b8f7-22992d4e5f9b",
   "metadata": {
    "editable": true,
    "slideshow": {
     "slide_type": ""
    },
    "tags": []
   },
   "outputs": [],
   "source": [
    "result = executor.list(equipment, [\"externalId\", {\"asset\": [\"externalId\", \"name\"]}], limit=5)"
   ]
  },
  {
   "cell_type": "code",
   "execution_count": 12,
   "id": "18b10ea0-76d5-41a8-bcec-aff39b01251d",
   "metadata": {
    "editable": true,
    "slideshow": {
     "slide_type": ""
    },
    "tags": []
   },
   "outputs": [
    {
     "name": "stdout",
     "output_type": "stream",
     "text": [
      "[{'externalId': 'WMT:23-VA-9110-M01'},\n",
      " {'externalId': 'WMT:23-FC-92542'},\n",
      " {'externalId': 'WMT:60-EN-9010B+27G2'},\n",
      " {'asset': [{'externalId': 'WMT:23-1ST STAGE COMP DRY GAS SEAL SYS-PH',\n",
      "             'name': '23-1ST STAGE COMP DRY GAS SEAL SYS-PH'}],\n",
      "  'externalId': 'WMT:23-PSV-96173'},\n",
      " {'externalId': 'WMT:23-FO-96195'}]\n"
     ]
    }
   ],
   "source": [
    "pprint(result)"
   ]
  },
  {
   "cell_type": "markdown",
   "id": "2d2e2260-0891-49c6-91e1-329f451833ad",
   "metadata": {
    "editable": true,
    "slideshow": {
     "slide_type": ""
    },
    "tags": []
   },
   "source": [
    "## Listing wiht Edges"
   ]
  },
  {
   "cell_type": "markdown",
   "id": "ee753dd3-953c-4320-93ff-9dd3a951d341",
   "metadata": {
    "editable": true,
    "slideshow": {
     "slide_type": ""
    },
    "tags": []
   },
   "source": [
    "Note that there are no edges connected to any of the core model views. However, if the `asset` property of equipment was an edge \n",
    "the above query would look like"
   ]
  },
  {
   "cell_type": "code",
   "execution_count": null,
   "id": "88dc8ee9-1d26-40be-a2ad-fe36eb09cb00",
   "metadata": {
    "editable": true,
    "slideshow": {
     "slide_type": ""
    },
    "tags": []
   },
   "outputs": [],
   "source": [
    "result = executor.list(equipment, [\"externalId\", {\"asset\": [\"type\", {\"node\": [\"externalId\", \"name\"]}]}], limit=5)"
   ]
  },
  {
   "cell_type": "markdown",
   "id": "de25b49a-09e9-4823-a7ca-de28e0a9bc07",
   "metadata": {
    "editable": true,
    "slideshow": {
     "slide_type": ""
    },
    "tags": []
   },
   "source": [
    "The above query would return the `externalID` and `name` of each asset, in addition to the `type` of the edge connecting the equipment and the asset."
   ]
  },
  {
   "cell_type": "markdown",
   "id": "8bf6d0d9-c788-4e20-9f4b-e5de44a7fcc9",
   "metadata": {
    "editable": true,
    "slideshow": {
     "slide_type": ""
    },
    "tags": []
   },
   "source": [
    "## Aggregations"
   ]
  },
  {
   "cell_type": "markdown",
   "id": "d1527307-ad60-4b14-b250-d238fefd8ec9",
   "metadata": {
    "editable": true,
    "slideshow": {
     "slide_type": ""
    },
    "tags": []
   },
   "source": [
    "### Numeric Aggregation"
   ]
  },
  {
   "cell_type": "code",
   "execution_count": 15,
   "id": "807794cd-d25e-48cf-b89d-0ee28f57f1a4",
   "metadata": {
    "editable": true,
    "slideshow": {
     "slide_type": ""
    },
    "tags": []
   },
   "outputs": [],
   "source": [
    "result = executor.aggregate(equipment, aggregates=dm.aggregations.Count(\"externalId\"))"
   ]
  },
  {
   "cell_type": "code",
   "execution_count": 16,
   "id": "f1baadb9-58be-4c99-9e42-8572243f900e",
   "metadata": {
    "editable": true,
    "slideshow": {
     "slide_type": ""
    },
    "tags": []
   },
   "outputs": [
    {
     "name": "stdout",
     "output_type": "stream",
     "text": [
      "{'count': {'externalId': 1094}}\n"
     ]
    }
   ],
   "source": [
    "pprint(result)"
   ]
  },
  {
   "cell_type": "markdown",
   "id": "88c348f7-1ac0-42e3-a19f-48cbeda16520",
   "metadata": {
    "editable": true,
    "slideshow": {
     "slide_type": ""
    },
    "tags": []
   },
   "source": [
    "### Group by"
   ]
  },
  {
   "cell_type": "code",
   "execution_count": 17,
   "id": "cb761e40-e378-4167-b957-4d7866e4dbf4",
   "metadata": {
    "editable": true,
    "slideshow": {
     "slide_type": ""
    },
    "tags": []
   },
   "outputs": [],
   "source": [
    "result = executor.aggregate(equipment, aggregates=dm.aggregations.Count(\"externalId\"), group_by=\"manufacturer\")"
   ]
  },
  {
   "cell_type": "code",
   "execution_count": 18,
   "id": "f907cfbc-1ed1-43fd-ac6f-b48c61da532d",
   "metadata": {
    "editable": true,
    "slideshow": {
     "slide_type": ""
    },
    "tags": []
   },
   "outputs": [
    {
     "name": "stdout",
     "output_type": "stream",
     "text": [
      "[{'count': {'externalId': 1041}, 'group': {'manufacturer': '1686'}},\n",
      " {'count': {'externalId': 31}, 'group': {'manufacturer': ''}},\n",
      " {'count': {'externalId': 11}, 'group': {'manufacturer': '1350'}},\n",
      " {'count': {'externalId': 9}, 'group': {'manufacturer': '1327'}},\n",
      " {'count': {'externalId': 1}, 'group': {'manufacturer': '1041'}},\n",
      " {'count': {'externalId': 1}, 'group': {'manufacturer': '1314'}}]\n"
     ]
    }
   ],
   "source": [
    "pprint(result)"
   ]
  },
  {
   "cell_type": "markdown",
   "id": "65e01f27-9f86-4c9a-a474-d5c0b8d2904c",
   "metadata": {
    "editable": true,
    "slideshow": {
     "slide_type": ""
    },
    "tags": []
   },
   "source": [
    "### Histogram"
   ]
  },
  {
   "cell_type": "markdown",
   "id": "8131b9c2-380d-4650-9e1e-bfd39ea4cf60",
   "metadata": {
    "editable": true,
    "slideshow": {
     "slide_type": ""
    },
    "tags": []
   },
   "source": [
    "There are no number properties in the `CogniteCore` model with the excpetion of Annotations and 3D. If `CogniteActivity` has the integere `activityCount`, \n",
    "the histogram aggregatoin would look like this"
   ]
  },
  {
   "cell_type": "code",
   "execution_count": 20,
   "id": "2155601b-97cb-4e95-b032-710b05e6c143",
   "metadata": {
    "editable": true,
    "slideshow": {
     "slide_type": ""
    },
    "tags": []
   },
   "outputs": [],
   "source": [
    "activity = dm.ViewId(\"cdf_cdm\", \"CogniteActivity\", \"v1\")"
   ]
  },
  {
   "cell_type": "code",
   "execution_count": null,
   "id": "491d2335-eae6-4227-9ebc-9743b83f75e1",
   "metadata": {
    "editable": true,
    "slideshow": {
     "slide_type": ""
    },
    "tags": []
   },
   "outputs": [],
   "source": [
    "result = executor.aggregate(activity, aggregates=dm.aggregations.Histogram(\"activityCount\", interval=10))"
   ]
  },
  {
   "cell_type": "markdown",
   "id": "32e4c268-996a-4b9d-bab2-a604619a80a2",
   "metadata": {
    "editable": true,
    "slideshow": {
     "slide_type": ""
    },
    "tags": []
   },
   "source": [
    "## Search"
   ]
  },
  {
   "cell_type": "code",
   "execution_count": 22,
   "id": "169e6bc7-a5d4-45f2-b30a-f9c038026a58",
   "metadata": {
    "editable": true,
    "slideshow": {
     "slide_type": ""
    },
    "tags": []
   },
   "outputs": [],
   "source": [
    "result = executor.search(equipment, query=\"23\", limit=5)"
   ]
  },
  {
   "cell_type": "code",
   "execution_count": 23,
   "id": "2dc08646-fa0b-4053-971e-d414983148cb",
   "metadata": {
    "editable": true,
    "slideshow": {
     "slide_type": ""
    },
    "tags": []
   },
   "outputs": [
    {
     "name": "stdout",
     "output_type": "stream",
     "text": [
      "[{'createdTime': 1730210932388,\n",
      "  'description': 'ACCUMULATOR FOR 23-FV-92543',\n",
      "  'externalId': 'WMT:23-FVX-92543',\n",
      "  'files': [],\n",
      "  'instanceType': 'node',\n",
      "  'lastUpdatedTime': 1730210932388,\n",
      "  'manufacturer': '',\n",
      "  'name': '23-FVX-92543',\n",
      "  'serialNumber': '1000000000042272',\n",
      "  'sourceId': '743717',\n",
      "  'sourceUpdatedUser': '8137',\n",
      "  'space': 'springfield_instances',\n",
      "  'version': 1},\n",
      " {'createdTime': 1730210934298,\n",
      "  'description': 'DRAIN POT FOR 23-PDT-96167',\n",
      "  'externalId': 'WMT:23-TX-96167',\n",
      "  'files': [],\n",
      "  'instanceType': 'node',\n",
      "  'lastUpdatedTime': 1730210934298,\n",
      "  'manufacturer': '',\n",
      "  'name': '23-TX-96167',\n",
      "  'serialNumber': '1000000000033347',\n",
      "  'sourceId': '741832',\n",
      "  'sourceUpdatedUser': '8137',\n",
      "  'space': 'springfield_instances',\n",
      "  'version': 1},\n",
      " {'createdTime': 1730210931078,\n",
      "  'description': 'VRD - 1ST STAGE COMPRESSOR OIL SEPARATOR W/ FAN',\n",
      "  'externalId': 'WMT:23-VA-9110-M01',\n",
      "  'files': [],\n",
      "  'instanceType': 'node',\n",
      "  'lastUpdatedTime': 1730210931078,\n",
      "  'manufacturer': '1686',\n",
      "  'name': '23-VA-9110-M01',\n",
      "  'serialNumber': '1000000000716787',\n",
      "  'sourceId': '346857',\n",
      "  'sourceUpdatedUser': '1001',\n",
      "  'space': 'springfield_instances',\n",
      "  'version': 1},\n",
      " {'createdTime': 1730210931078,\n",
      "  'description': 'SOFT TAG VRD - PH 1STSTGCOMP HOT GAS BP',\n",
      "  'externalId': 'WMT:23-FC-92542',\n",
      "  'files': [],\n",
      "  'instanceType': 'node',\n",
      "  'lastUpdatedTime': 1730210931078,\n",
      "  'manufacturer': '1686',\n",
      "  'name': '23-FC-92542',\n",
      "  'serialNumber': '1000000000250724',\n",
      "  'sourceId': '682941',\n",
      "  'sourceUpdatedUser': '1001',\n",
      "  'space': 'springfield_instances',\n",
      "  'version': 1},\n",
      " {'createdTime': 1730210931078,\n",
      "  'description': 'VRD - PH 1STSTG LUBE OIL COOLER',\n",
      "  'externalId': 'WMT:23-FO-96195',\n",
      "  'files': [],\n",
      "  'instanceType': 'node',\n",
      "  'lastUpdatedTime': 1730210931078,\n",
      "  'manufacturer': '1686',\n",
      "  'name': '23-FO-96195',\n",
      "  'serialNumber': '1000000000707047',\n",
      "  'sourceId': '345798',\n",
      "  'sourceUpdatedUser': '9802',\n",
      "  'space': 'springfield_instances',\n",
      "  'version': 1}]\n"
     ]
    }
   ],
   "source": [
    "pprint(result)"
   ]
  },
  {
   "cell_type": "markdown",
   "id": "f227567f-2398-449c-8f18-1ee14ea7b1d6",
   "metadata": {},
   "source": [
    "## Search with nested properties"
   ]
  },
  {
   "cell_type": "code",
   "execution_count": 31,
   "id": "4dfe9f84-ed90-4454-a17d-87e156c3d789",
   "metadata": {
    "editable": true,
    "slideshow": {
     "slide_type": ""
    },
    "tags": []
   },
   "outputs": [
    {
     "data": {
      "text/plain": [
       "[{'externalId': 'WMT:23-VA-9110-M01',\n",
       "  'manufacturer': '1686',\n",
       "  'activities': [{'externalId': '5267267184983944',\n",
       "    'name': 'El. *** motor ***/***.'},\n",
       "   {'externalId': '7542532148080032',\n",
       "    'name': 'DETALJERT INSPEKSJON AV EX UTSTYR'},\n",
       "   {'externalId': '3890816994380859', 'name': 'El. *** motor ***/***.'},\n",
       "   {'externalId': '1994654812359021',\n",
       "    'name': 'DETALJERT INSPEKSJON AV EX UTSTYR'},\n",
       "   {'externalId': '8975897325791316', 'name': '***-årlig visuell inspeksjon'},\n",
       "   {'externalId': '5396038908663652', 'name': ''},\n",
       "   {'externalId': '5591901218775805', 'name': 'Årlig sampling assessment'},\n",
       "   {'externalId': '6525225262427728',\n",
       "    'name': '36MND Elektro DETALJERT INSPEKSJON AV EX UTSTYR'},\n",
       "   {'externalId': '1471919969115313',\n",
       "    'name': 'DETALJERT INSPEKSJON AV EX UTSTYR'},\n",
       "   {'externalId': '6341564007115449',\n",
       "    'name': '*** MND ELEKTRO. Ettersyn av ***'},\n",
       "   {'externalId': '3752022002179906',\n",
       "    'name': '36MND Elektro DETALJERT INSPEKSJON AV EX UTSTYR'},\n",
       "   {'externalId': '7379838526502732',\n",
       "    'name': 'DETALJERT INSPEKSJON AV EX UTSTYR'},\n",
       "   {'externalId': '2600036343829439',\n",
       "    'name': '*** MND ELEKTRO. Ettersyn av ***'},\n",
       "   {'externalId': '153779822441762', 'name': ''},\n",
       "   {'externalId': '5311399525096904', 'name': 'Årlig sampling assessment'},\n",
       "   {'externalId': '1483812283636412', 'name': '***-årlig visuell inspeksjon'},\n",
       "   {'externalId': '4805561663219723', 'name': 'Årlig sampling assessment'},\n",
       "   {'externalId': '8884006857902169', 'name': 'Årlig sampling assessment'}]},\n",
       " {'externalId': 'WMT:23-FC-92542', 'manufacturer': '1686'}]"
      ]
     },
     "execution_count": 31,
     "metadata": {},
     "output_type": "execute_result"
    }
   ],
   "source": [
    "result = executor.search(\n",
    "    equipment,\n",
    "    properties=[\"externalId\", \"manufacturer\", {\"activities\": [\"name\", \"externalId\"]}],\n",
    "    query=\"23\",\n",
    "    search_properties=[\"name\"],\n",
    "    limit=2,\n",
    ")\n",
    "result"
   ]
  },
  {
   "cell_type": "code",
   "execution_count": null,
   "id": "bbc06123-fe25-40fe-a2a9-3942e5444bed",
   "metadata": {},
   "outputs": [],
   "source": []
  }
 ],
 "metadata": {
  "kernelspec": {
   "display_name": "Python 3 (ipykernel)",
   "language": "python",
   "name": "python3"
  },
  "language_info": {
   "codemirror_mode": {
    "name": "ipython",
    "version": 3
   },
   "file_extension": ".py",
   "mimetype": "text/x-python",
   "name": "python",
   "nbconvert_exporter": "python",
   "pygments_lexer": "ipython3",
   "version": "3.10.11"
  }
 },
 "nbformat": 4,
 "nbformat_minor": 5
}
