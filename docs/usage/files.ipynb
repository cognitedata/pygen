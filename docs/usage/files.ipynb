{
 "cells": [
  {
   "cell_type": "code",
   "execution_count": 1,
   "id": "e32acfc3-632c-479e-95be-331461c4d5f9",
   "metadata": {
    "editable": true,
    "slideshow": {
     "slide_type": ""
    },
    "tags": [
     "hide"
    ]
   },
   "outputs": [],
   "source": [
    "# This is just to enable improting the generated SDK from the examples folder in the pygen repository\n",
    "import sys\n",
    "import warnings\n",
    "\n",
    "from tests.constants import REPO_ROOT\n",
    "\n",
    "warnings.filterwarnings(\"ignore\")\n",
    "\n",
    "sys.path.append(str(REPO_ROOT / \"examples\"))"
   ]
  },
  {
   "attachments": {},
   "cell_type": "markdown",
   "id": "34ed5247-d76c-4b22-a5d9-6ead02628433",
   "metadata": {},
   "source": [
    "# Working with Files\n",
    "\n",
    "To demonstrate working with files, we notice that `DataSheet` is an extension of `CogniteFile` in the `WindTurbine` model\n",
    "\n",
    "<img src=\"images/windturbine_model.png\" width=\"800\">"
   ]
  },
  {
   "cell_type": "code",
   "execution_count": 2,
   "id": "7c998b1d-8c54-458f-8493-2bc291ba32bd",
   "metadata": {},
   "outputs": [],
   "source": [
    "from wind_turbine import WindTurbineClient"
   ]
  },
  {
   "cell_type": "code",
   "execution_count": 3,
   "id": "e884e5dd-aaa9-4a40-8449-da77c202f8cc",
   "metadata": {},
   "outputs": [],
   "source": [
    "pygen = WindTurbineClient.from_toml(\"config.toml\")"
   ]
  },
  {
   "cell_type": "markdown",
   "id": "b85525b0-4f93-44e8-961a-9b81df7adff5",
   "metadata": {},
   "source": [
    "## Listing file metadata\n",
    "\n",
    "We can list the filemetadata directly with the `data_sheet` attribute"
   ]
  },
  {
   "cell_type": "code",
   "execution_count": 5,
   "id": "1822855a-2802-4ca9-88da-f1644474f683",
   "metadata": {},
   "outputs": [
    {
     "data": {
      "text/html": [
       "<div>\n",
       "<style scoped>\n",
       "    .dataframe tbody tr th:only-of-type {\n",
       "        vertical-align: middle;\n",
       "    }\n",
       "\n",
       "    .dataframe tbody tr th {\n",
       "        vertical-align: top;\n",
       "    }\n",
       "\n",
       "    .dataframe thead th {\n",
       "        text-align: right;\n",
       "    }\n",
       "</style>\n",
       "<table border=\"1\" class=\"dataframe\">\n",
       "  <thead>\n",
       "    <tr style=\"text-align: right;\">\n",
       "      <th></th>\n",
       "      <th>space</th>\n",
       "      <th>external_id</th>\n",
       "      <th>is_uploaded</th>\n",
       "      <th>name</th>\n",
       "      <th>uploaded_time</th>\n",
       "      <th>data_record</th>\n",
       "    </tr>\n",
       "  </thead>\n",
       "  <tbody>\n",
       "    <tr>\n",
       "      <th>0</th>\n",
       "      <td>files_metadata_instances</td>\n",
       "      <td>PH-25578-P-4110119-001.pdf</td>\n",
       "      <td>True</td>\n",
       "      <td>PH-25578-P-4110119-001.pdf</td>\n",
       "      <td>2024-10-20 15:00:15.655000+00:00</td>\n",
       "      <td>{'version': 4, 'last_updated_time': 2024-10-20...</td>\n",
       "    </tr>\n",
       "    <tr>\n",
       "      <th>1</th>\n",
       "      <td>files_metadata_instances</td>\n",
       "      <td>PH-ME-P-0153-001.pdf</td>\n",
       "      <td>True</td>\n",
       "      <td>PH-ME-P-0153-001.pdf</td>\n",
       "      <td>2024-10-20 15:00:17.037000+00:00</td>\n",
       "      <td>{'version': 6, 'last_updated_time': 2024-10-20...</td>\n",
       "    </tr>\n",
       "    <tr>\n",
       "      <th>2</th>\n",
       "      <td>files_metadata_instances</td>\n",
       "      <td>PH-ME-P-0152-001.pdf</td>\n",
       "      <td>True</td>\n",
       "      <td>PH-ME-P-0152-001.pdf</td>\n",
       "      <td>2024-10-20 15:00:16.770000+00:00</td>\n",
       "      <td>{'version': 6, 'last_updated_time': 2024-10-20...</td>\n",
       "    </tr>\n",
       "    <tr>\n",
       "      <th>3</th>\n",
       "      <td>files_metadata_instances</td>\n",
       "      <td>PH-ME-P-0160-001.pdf</td>\n",
       "      <td>True</td>\n",
       "      <td>PH-ME-P-0160-001.pdf</td>\n",
       "      <td>2024-10-20 15:00:17.793000+00:00</td>\n",
       "      <td>{'version': 6, 'last_updated_time': 2024-10-20...</td>\n",
       "    </tr>\n",
       "    <tr>\n",
       "      <th>4</th>\n",
       "      <td>files_metadata_instances</td>\n",
       "      <td>PH-ME-P-0156-002.pdf</td>\n",
       "      <td>True</td>\n",
       "      <td>PH-ME-P-0156-002.pdf</td>\n",
       "      <td>2024-10-20 15:00:17.530000+00:00</td>\n",
       "      <td>{'version': 6, 'last_updated_time': 2024-10-20...</td>\n",
       "    </tr>\n",
       "  </tbody>\n",
       "</table>\n",
       "</div>"
      ],
      "text/plain": [
       "DataSheetList([DataSheet(space='files_metadata_instances', external_id='PH-25578-P-4110119-001.pdf', data_record=DataRecord(version=4, last_updated_time=datetime.datetime(2024, 10, 20, 15, 57, 33, 851000, tzinfo=TzInfo(UTC)), created_time=datetime.datetime(2024, 10, 20, 14, 26, 50, 634000, tzinfo=TzInfo(UTC)), deleted_time=None), node_type=None, description=None, directory=None, is_uploaded=True, mime_type=None, name='PH-25578-P-4110119-001.pdf', uploaded_time=datetime.datetime(2024, 10, 20, 15, 0, 15, 655000, tzinfo=TzInfo(UTC))),\n",
       "               DataSheet(space='files_metadata_instances', external_id='PH-ME-P-0153-001.pdf', data_record=DataRecord(version=6, last_updated_time=datetime.datetime(2024, 10, 20, 15, 57, 33, 851000, tzinfo=TzInfo(UTC)), created_time=datetime.datetime(2024, 10, 20, 14, 26, 50, 634000, tzinfo=TzInfo(UTC)), deleted_time=None), node_type=None, description=None, directory=None, is_uploaded=True, mime_type=None, name='PH-ME-P-0153-001.pdf', uploaded_time=datetime.datetime(2024, 10, 20, 15, 0, 17, 37000, tzinfo=TzInfo(UTC))),\n",
       "               DataSheet(space='files_metadata_instances', external_id='PH-ME-P-0152-001.pdf', data_record=DataRecord(version=6, last_updated_time=datetime.datetime(2024, 10, 20, 15, 57, 33, 851000, tzinfo=TzInfo(UTC)), created_time=datetime.datetime(2024, 10, 20, 14, 26, 50, 634000, tzinfo=TzInfo(UTC)), deleted_time=None), node_type=None, description=None, directory=None, is_uploaded=True, mime_type=None, name='PH-ME-P-0152-001.pdf', uploaded_time=datetime.datetime(2024, 10, 20, 15, 0, 16, 770000, tzinfo=TzInfo(UTC))),\n",
       "               DataSheet(space='files_metadata_instances', external_id='PH-ME-P-0160-001.pdf', data_record=DataRecord(version=6, last_updated_time=datetime.datetime(2024, 10, 20, 15, 57, 33, 851000, tzinfo=TzInfo(UTC)), created_time=datetime.datetime(2024, 10, 20, 14, 26, 50, 634000, tzinfo=TzInfo(UTC)), deleted_time=None), node_type=None, description=None, directory=None, is_uploaded=True, mime_type=None, name='PH-ME-P-0160-001.pdf', uploaded_time=datetime.datetime(2024, 10, 20, 15, 0, 17, 793000, tzinfo=TzInfo(UTC))),\n",
       "               DataSheet(space='files_metadata_instances', external_id='PH-ME-P-0156-002.pdf', data_record=DataRecord(version=6, last_updated_time=datetime.datetime(2024, 10, 20, 15, 57, 33, 851000, tzinfo=TzInfo(UTC)), created_time=datetime.datetime(2024, 10, 20, 14, 26, 50, 787000, tzinfo=TzInfo(UTC)), deleted_time=None), node_type=None, description=None, directory=None, is_uploaded=True, mime_type=None, name='PH-ME-P-0156-002.pdf', uploaded_time=datetime.datetime(2024, 10, 20, 15, 0, 17, 530000, tzinfo=TzInfo(UTC)))])"
      ]
     },
     "execution_count": 5,
     "metadata": {},
     "output_type": "execute_result"
    }
   ],
   "source": [
    "files = pygen.data_sheet.list(limit=5)\n",
    "files"
   ]
  },
  {
   "cell_type": "markdown",
   "id": "a9f953c7-efb8-482e-a354-3b58f8c8290a",
   "metadata": {},
   "source": [
    "## Retriving File Content\n",
    "\n",
    "To retrieve data points we use the `.select()` method in the same way as when we do regular queries.\n",
    "\n",
    "For example, if we want to view the `data_sheet` for the `hornsea_1_mill_1` turbine:"
   ]
  },
  {
   "cell_type": "code",
   "execution_count": 6,
   "id": "8cbe6b5b-7f26-4078-a93c-f482757a54e7",
   "metadata": {},
   "outputs": [],
   "source": [
    "from pathlib import Path"
   ]
  },
  {
   "cell_type": "code",
   "execution_count": 9,
   "id": "cdc8620a-7cf8-4201-bcaa-09fb1ab651e7",
   "metadata": {},
   "outputs": [],
   "source": [
    "my_dir = Path(\"my_dir\")\n",
    "my_dir.mkdir()"
   ]
  },
  {
   "cell_type": "code",
   "execution_count": 10,
   "id": "0ae2bf45-a673-4377-a9ef-6aca11c0aca1",
   "metadata": {},
   "outputs": [],
   "source": [
    "(pygen.wind_turbine.select().name.equals(\"hornsea_1_mill_1\").datasheets.content.download(my_dir))"
   ]
  },
  {
   "cell_type": "code",
   "execution_count": 11,
   "id": "d2f77e3b-32d8-45fb-8633-36ba1681007c",
   "metadata": {},
   "outputs": [
    {
     "data": {
      "text/plain": [
       "[WindowsPath('my_dir/windmill_schematics.pdf')]"
      ]
     },
     "execution_count": 11,
     "metadata": {},
     "output_type": "execute_result"
    }
   ],
   "source": [
    "list(my_dir.iterdir())"
   ]
  },
  {
   "cell_type": "code",
   "execution_count": 13,
   "id": "45606be8-bf9e-451d-8218-ae625c26dd7f",
   "metadata": {},
   "outputs": [],
   "source": [
    "# cleanup\n",
    "import shutil\n",
    "\n",
    "shutil.rmtree(my_dir)"
   ]
  },
  {
   "cell_type": "code",
   "execution_count": null,
   "id": "7d2add73-f1d2-4e86-ac5e-5fb04e5d2fc2",
   "metadata": {},
   "outputs": [],
   "source": []
  }
 ],
 "metadata": {
  "kernelspec": {
   "display_name": "Python 3 (ipykernel)",
   "language": "python",
   "name": "python3"
  },
  "language_info": {
   "codemirror_mode": {
    "name": "ipython",
    "version": 3
   },
   "file_extension": ".py",
   "mimetype": "text/x-python",
   "name": "python",
   "nbconvert_exporter": "python",
   "pygments_lexer": "ipython3",
   "version": "3.10.11"
  }
 },
 "nbformat": 4,
 "nbformat_minor": 5
}
