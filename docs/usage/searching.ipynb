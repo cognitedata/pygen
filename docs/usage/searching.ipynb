{
 "cells": [
  {
   "cell_type": "markdown",
   "id": "8e3c8883-6b53-48a5-9cb8-caeccf81d6d5",
   "metadata": {
    "editable": true,
    "slideshow": {
     "slide_type": ""
    },
    "tags": []
   },
   "source": [
    "# Searching Instances: Search\n",
    "\n",
    "We assume that you have [generated a SDK](generation.html) for the `WindTurbine` model and have a client ready to go.\n",
    "\n",
    "`pygen` automatically generates a search method for the text based properties in the views."
   ]
  },
  {
   "cell_type": "code",
   "execution_count": 1,
   "id": "e60cab60-1d68-45fc-85f5-187b9bf91cd5",
   "metadata": {
    "editable": true,
    "slideshow": {
     "slide_type": ""
    },
    "tags": [
     "hide"
    ]
   },
   "outputs": [],
   "source": [
    "import warnings\n",
    "\n",
    "warnings.filterwarnings(\"ignore\")\n",
    "# This is just to enable improting the generated SDK from the examples folder in the pygen repository\n",
    "import sys  # noqa: E402\n",
    "\n",
    "from tests.constants import REPO_ROOT  # noqa: E402\n",
    "\n",
    "sys.path.append(str(REPO_ROOT / \"examples\"))"
   ]
  },
  {
   "cell_type": "code",
   "execution_count": 3,
   "id": "648ee5fb-eb51-4df4-be94-c157e1ab32fe",
   "metadata": {
    "editable": true,
    "slideshow": {
     "slide_type": ""
    },
    "tags": []
   },
   "outputs": [],
   "source": [
    "from wind_turbine import WindTurbineClient"
   ]
  },
  {
   "cell_type": "code",
   "execution_count": 4,
   "id": "192e768d-c0c4-496b-bb7f-fed87ce436ce",
   "metadata": {
    "editable": true,
    "slideshow": {
     "slide_type": ""
    },
    "tags": []
   },
   "outputs": [],
   "source": [
    "pygen = WindTurbineClient.from_toml(\"config.toml\")"
   ]
  },
  {
   "cell_type": "code",
   "execution_count": 6,
   "id": "e34affbd-2adc-4e60-9786-09f8f9d868ca",
   "metadata": {
    "editable": true,
    "slideshow": {
     "slide_type": ""
    },
    "tags": []
   },
   "outputs": [
    {
     "data": {
      "text/html": [
       "<div>\n",
       "<style scoped>\n",
       "    .dataframe tbody tr th:only-of-type {\n",
       "        vertical-align: middle;\n",
       "    }\n",
       "\n",
       "    .dataframe tbody tr th {\n",
       "        vertical-align: top;\n",
       "    }\n",
       "\n",
       "    .dataframe thead th {\n",
       "        text-align: right;\n",
       "    }\n",
       "</style>\n",
       "<table border=\"1\" class=\"dataframe\">\n",
       "  <thead>\n",
       "    <tr style=\"text-align: right;\">\n",
       "      <th></th>\n",
       "      <th>space</th>\n",
       "      <th>external_id</th>\n",
       "      <th>capacity</th>\n",
       "      <th>name</th>\n",
       "      <th>blades</th>\n",
       "      <th>datasheets</th>\n",
       "      <th>nacelle</th>\n",
       "      <th>rotor</th>\n",
       "      <th>windfarm</th>\n",
       "      <th>data_record</th>\n",
       "    </tr>\n",
       "  </thead>\n",
       "  <tbody>\n",
       "    <tr>\n",
       "      <th>0</th>\n",
       "      <td>sp_wind</td>\n",
       "      <td>hornsea_1_mill_3</td>\n",
       "      <td>7.0</td>\n",
       "      <td>hornsea_1_mill_3</td>\n",
       "      <td>[hornsea_1_mill_3_blade_A, hornsea_1_mill_3_bl...</td>\n",
       "      <td>[windmill_schematics]</td>\n",
       "      <td>hornsea_1_mill_3_nacelle</td>\n",
       "      <td>hornsea_1_mill_3_rotor</td>\n",
       "      <td>Hornsea 1</td>\n",
       "      <td>{'version': 4, 'last_updated_time': 2024-11-16...</td>\n",
       "    </tr>\n",
       "    <tr>\n",
       "      <th>1</th>\n",
       "      <td>sp_wind</td>\n",
       "      <td>hornsea_1_mill_2</td>\n",
       "      <td>7.0</td>\n",
       "      <td>hornsea_1_mill_2</td>\n",
       "      <td>[hornsea_1_mill_2_blade_B, hornsea_1_mill_2_bl...</td>\n",
       "      <td>[windmill_schematics]</td>\n",
       "      <td>hornsea_1_mill_2_nacelle</td>\n",
       "      <td>hornsea_1_mill_2_rotor</td>\n",
       "      <td>Hornsea 1</td>\n",
       "      <td>{'version': 4, 'last_updated_time': 2024-11-16...</td>\n",
       "    </tr>\n",
       "    <tr>\n",
       "      <th>2</th>\n",
       "      <td>sp_wind</td>\n",
       "      <td>hornsea_1_mill_1</td>\n",
       "      <td>7.0</td>\n",
       "      <td>hornsea_1_mill_1</td>\n",
       "      <td>[hornsea_1_mill_1_blade_A, hornsea_1_mill_1_bl...</td>\n",
       "      <td>[windmill_schematics]</td>\n",
       "      <td>hornsea_1_mill_1_nacelle</td>\n",
       "      <td>hornsea_1_mill_1_rotor</td>\n",
       "      <td>Hornsea 1</td>\n",
       "      <td>{'version': 4, 'last_updated_time': 2024-11-16...</td>\n",
       "    </tr>\n",
       "    <tr>\n",
       "      <th>3</th>\n",
       "      <td>sp_wind</td>\n",
       "      <td>hornsea_1_mill_4</td>\n",
       "      <td>7.0</td>\n",
       "      <td>hornsea_1_mill_4</td>\n",
       "      <td>[hornsea_1_mill_4_blade_C, hornsea_1_mill_4_bl...</td>\n",
       "      <td>[windmill_schematics]</td>\n",
       "      <td>hornsea_1_mill_4_nacelle</td>\n",
       "      <td>hornsea_1_mill_4_rotor</td>\n",
       "      <td>Hornsea 1</td>\n",
       "      <td>{'version': 4, 'last_updated_time': 2024-11-16...</td>\n",
       "    </tr>\n",
       "    <tr>\n",
       "      <th>4</th>\n",
       "      <td>sp_wind</td>\n",
       "      <td>hornsea_1_mill_5</td>\n",
       "      <td>7.0</td>\n",
       "      <td>hornsea_1_mill_5</td>\n",
       "      <td>[hornsea_1_mill_5_blade_B, hornsea_1_mill_5_bl...</td>\n",
       "      <td>[windmill_schematics]</td>\n",
       "      <td>hornsea_1_mill_5_nacelle</td>\n",
       "      <td>hornsea_1_mill_5_rotor</td>\n",
       "      <td>Hornsea 1</td>\n",
       "      <td>{'version': 4, 'last_updated_time': 2024-11-16...</td>\n",
       "    </tr>\n",
       "  </tbody>\n",
       "</table>\n",
       "</div>"
      ],
      "text/plain": [
       "WindTurbineList([WindTurbine(space='sp_wind', external_id='hornsea_1_mill_3', data_record=DataRecord(version=4, last_updated_time=datetime.datetime(2024, 11, 16, 14, 59, 42, 454000, tzinfo=TzInfo(UTC)), created_time=datetime.datetime(2024, 11, 16, 14, 8, 1, 544000, tzinfo=TzInfo(UTC)), deleted_time=None), node_type=None, capacity=7.0, description=None, name='hornsea_1_mill_3', power_curve=None, windfarm='Hornsea 1'),\n",
       "                 WindTurbine(space='sp_wind', external_id='hornsea_1_mill_2', data_record=DataRecord(version=4, last_updated_time=datetime.datetime(2024, 11, 16, 14, 59, 42, 454000, tzinfo=TzInfo(UTC)), created_time=datetime.datetime(2024, 11, 16, 14, 8, 1, 544000, tzinfo=TzInfo(UTC)), deleted_time=None), node_type=None, capacity=7.0, description=None, name='hornsea_1_mill_2', power_curve=None, windfarm='Hornsea 1'),\n",
       "                 WindTurbine(space='sp_wind', external_id='hornsea_1_mill_1', data_record=DataRecord(version=4, last_updated_time=datetime.datetime(2024, 11, 16, 14, 59, 42, 454000, tzinfo=TzInfo(UTC)), created_time=datetime.datetime(2024, 11, 16, 14, 8, 1, 544000, tzinfo=TzInfo(UTC)), deleted_time=None), node_type=None, capacity=7.0, description=None, name='hornsea_1_mill_1', power_curve=None, windfarm='Hornsea 1'),\n",
       "                 WindTurbine(space='sp_wind', external_id='hornsea_1_mill_4', data_record=DataRecord(version=4, last_updated_time=datetime.datetime(2024, 11, 16, 14, 59, 42, 454000, tzinfo=TzInfo(UTC)), created_time=datetime.datetime(2024, 11, 16, 14, 8, 1, 544000, tzinfo=TzInfo(UTC)), deleted_time=None), node_type=None, capacity=7.0, description=None, name='hornsea_1_mill_4', power_curve=None, windfarm='Hornsea 1'),\n",
       "                 WindTurbine(space='sp_wind', external_id='hornsea_1_mill_5', data_record=DataRecord(version=4, last_updated_time=datetime.datetime(2024, 11, 16, 14, 59, 42, 454000, tzinfo=TzInfo(UTC)), created_time=datetime.datetime(2024, 11, 16, 14, 8, 1, 544000, tzinfo=TzInfo(UTC)), deleted_time=None), node_type=None, capacity=7.0, description=None, name='hornsea_1_mill_5', power_curve=None, windfarm='Hornsea 1')])"
      ]
     },
     "execution_count": 6,
     "metadata": {},
     "output_type": "execute_result"
    }
   ],
   "source": [
    "result = pygen.wind_turbine.search(\"Hornsea\")\n",
    "result"
   ]
  },
  {
   "cell_type": "code",
   "execution_count": 7,
   "id": "d423e7ea-7571-46f3-b862-225448ce6056",
   "metadata": {
    "editable": true,
    "slideshow": {
     "slide_type": ""
    },
    "tags": []
   },
   "outputs": [
    {
     "data": {
      "text/html": [
       "<div>\n",
       "<style scoped>\n",
       "    .dataframe tbody tr th:only-of-type {\n",
       "        vertical-align: middle;\n",
       "    }\n",
       "\n",
       "    .dataframe tbody tr th {\n",
       "        vertical-align: top;\n",
       "    }\n",
       "\n",
       "    .dataframe thead th {\n",
       "        text-align: right;\n",
       "    }\n",
       "</style>\n",
       "<table border=\"1\" class=\"dataframe\">\n",
       "  <thead>\n",
       "    <tr style=\"text-align: right;\">\n",
       "      <th></th>\n",
       "      <th>value</th>\n",
       "    </tr>\n",
       "  </thead>\n",
       "  <tbody>\n",
       "    <tr>\n",
       "      <th>space</th>\n",
       "      <td>sp_wind</td>\n",
       "    </tr>\n",
       "    <tr>\n",
       "      <th>external_id</th>\n",
       "      <td>hornsea_1_mill_3</td>\n",
       "    </tr>\n",
       "    <tr>\n",
       "      <th>data_record</th>\n",
       "      <td>{'version': 4, 'last_updated_time': 2024-11-16...</td>\n",
       "    </tr>\n",
       "    <tr>\n",
       "      <th>node_type</th>\n",
       "      <td>None</td>\n",
       "    </tr>\n",
       "    <tr>\n",
       "      <th>capacity</th>\n",
       "      <td>7.0</td>\n",
       "    </tr>\n",
       "    <tr>\n",
       "      <th>description</th>\n",
       "      <td>None</td>\n",
       "    </tr>\n",
       "    <tr>\n",
       "      <th>name</th>\n",
       "      <td>hornsea_1_mill_3</td>\n",
       "    </tr>\n",
       "    <tr>\n",
       "      <th>blades</th>\n",
       "      <td>[hornsea_1_mill_3_blade_A, hornsea_1_mill_3_bl...</td>\n",
       "    </tr>\n",
       "    <tr>\n",
       "      <th>datasheets</th>\n",
       "      <td>[windmill_schematics]</td>\n",
       "    </tr>\n",
       "    <tr>\n",
       "      <th>metmast</th>\n",
       "      <td>None</td>\n",
       "    </tr>\n",
       "    <tr>\n",
       "      <th>nacelle</th>\n",
       "      <td>hornsea_1_mill_3_nacelle</td>\n",
       "    </tr>\n",
       "    <tr>\n",
       "      <th>power_curve</th>\n",
       "      <td>None</td>\n",
       "    </tr>\n",
       "    <tr>\n",
       "      <th>rotor</th>\n",
       "      <td>hornsea_1_mill_3_rotor</td>\n",
       "    </tr>\n",
       "    <tr>\n",
       "      <th>windfarm</th>\n",
       "      <td>Hornsea 1</td>\n",
       "    </tr>\n",
       "  </tbody>\n",
       "</table>\n",
       "</div>"
      ],
      "text/plain": [
       "WindTurbine(space='sp_wind', external_id='hornsea_1_mill_3', data_record=DataRecord(version=4, last_updated_time=datetime.datetime(2024, 11, 16, 14, 59, 42, 454000, tzinfo=TzInfo(UTC)), created_time=datetime.datetime(2024, 11, 16, 14, 8, 1, 544000, tzinfo=TzInfo(UTC)), deleted_time=None), node_type=None, capacity=7.0, description=None, name='hornsea_1_mill_3', power_curve=None, windfarm='Hornsea 1')"
      ]
     },
     "execution_count": 7,
     "metadata": {},
     "output_type": "execute_result"
    }
   ],
   "source": [
    "result[0]"
   ]
  },
  {
   "cell_type": "markdown",
   "id": "e63a0da2-8935-4cbf-91df-73804a995750",
   "metadata": {
    "editable": true,
    "slideshow": {
     "slide_type": ""
    },
    "tags": []
   },
   "source": [
    "By default, `search` checks all text fields in the underlying view, but we can also specify which properties to search"
   ]
  },
  {
   "cell_type": "code",
   "execution_count": 9,
   "id": "21b1b251-1e79-4a8e-bbb2-b08b236e5a49",
   "metadata": {
    "editable": true,
    "slideshow": {
     "slide_type": ""
    },
    "tags": []
   },
   "outputs": [
    {
     "data": {
      "text/html": [
       "<div>\n",
       "<style scoped>\n",
       "    .dataframe tbody tr th:only-of-type {\n",
       "        vertical-align: middle;\n",
       "    }\n",
       "\n",
       "    .dataframe tbody tr th {\n",
       "        vertical-align: top;\n",
       "    }\n",
       "\n",
       "    .dataframe thead th {\n",
       "        text-align: right;\n",
       "    }\n",
       "</style>\n",
       "<table border=\"1\" class=\"dataframe\">\n",
       "  <thead>\n",
       "    <tr style=\"text-align: right;\">\n",
       "      <th></th>\n",
       "      <th>space</th>\n",
       "      <th>external_id</th>\n",
       "      <th>capacity</th>\n",
       "      <th>name</th>\n",
       "      <th>blades</th>\n",
       "      <th>datasheets</th>\n",
       "      <th>nacelle</th>\n",
       "      <th>rotor</th>\n",
       "      <th>windfarm</th>\n",
       "      <th>data_record</th>\n",
       "    </tr>\n",
       "  </thead>\n",
       "  <tbody>\n",
       "    <tr>\n",
       "      <th>0</th>\n",
       "      <td>sp_wind</td>\n",
       "      <td>hornsea_1_mill_3</td>\n",
       "      <td>7.0</td>\n",
       "      <td>hornsea_1_mill_3</td>\n",
       "      <td>[hornsea_1_mill_3_blade_A, hornsea_1_mill_3_bl...</td>\n",
       "      <td>[windmill_schematics]</td>\n",
       "      <td>hornsea_1_mill_3_nacelle</td>\n",
       "      <td>hornsea_1_mill_3_rotor</td>\n",
       "      <td>Hornsea 1</td>\n",
       "      <td>{'version': 4, 'last_updated_time': 2024-11-16...</td>\n",
       "    </tr>\n",
       "    <tr>\n",
       "      <th>1</th>\n",
       "      <td>sp_wind</td>\n",
       "      <td>hornsea_1_mill_2</td>\n",
       "      <td>7.0</td>\n",
       "      <td>hornsea_1_mill_2</td>\n",
       "      <td>[hornsea_1_mill_2_blade_B, hornsea_1_mill_2_bl...</td>\n",
       "      <td>[windmill_schematics]</td>\n",
       "      <td>hornsea_1_mill_2_nacelle</td>\n",
       "      <td>hornsea_1_mill_2_rotor</td>\n",
       "      <td>Hornsea 1</td>\n",
       "      <td>{'version': 4, 'last_updated_time': 2024-11-16...</td>\n",
       "    </tr>\n",
       "    <tr>\n",
       "      <th>2</th>\n",
       "      <td>sp_wind</td>\n",
       "      <td>hornsea_1_mill_1</td>\n",
       "      <td>7.0</td>\n",
       "      <td>hornsea_1_mill_1</td>\n",
       "      <td>[hornsea_1_mill_1_blade_A, hornsea_1_mill_1_bl...</td>\n",
       "      <td>[windmill_schematics]</td>\n",
       "      <td>hornsea_1_mill_1_nacelle</td>\n",
       "      <td>hornsea_1_mill_1_rotor</td>\n",
       "      <td>Hornsea 1</td>\n",
       "      <td>{'version': 4, 'last_updated_time': 2024-11-16...</td>\n",
       "    </tr>\n",
       "    <tr>\n",
       "      <th>3</th>\n",
       "      <td>sp_wind</td>\n",
       "      <td>hornsea_1_mill_4</td>\n",
       "      <td>7.0</td>\n",
       "      <td>hornsea_1_mill_4</td>\n",
       "      <td>[hornsea_1_mill_4_blade_C, hornsea_1_mill_4_bl...</td>\n",
       "      <td>[windmill_schematics]</td>\n",
       "      <td>hornsea_1_mill_4_nacelle</td>\n",
       "      <td>hornsea_1_mill_4_rotor</td>\n",
       "      <td>Hornsea 1</td>\n",
       "      <td>{'version': 4, 'last_updated_time': 2024-11-16...</td>\n",
       "    </tr>\n",
       "    <tr>\n",
       "      <th>4</th>\n",
       "      <td>sp_wind</td>\n",
       "      <td>hornsea_1_mill_5</td>\n",
       "      <td>7.0</td>\n",
       "      <td>hornsea_1_mill_5</td>\n",
       "      <td>[hornsea_1_mill_5_blade_B, hornsea_1_mill_5_bl...</td>\n",
       "      <td>[windmill_schematics]</td>\n",
       "      <td>hornsea_1_mill_5_nacelle</td>\n",
       "      <td>hornsea_1_mill_5_rotor</td>\n",
       "      <td>Hornsea 1</td>\n",
       "      <td>{'version': 4, 'last_updated_time': 2024-11-16...</td>\n",
       "    </tr>\n",
       "  </tbody>\n",
       "</table>\n",
       "</div>"
      ],
      "text/plain": [
       "WindTurbineList([WindTurbine(space='sp_wind', external_id='hornsea_1_mill_3', data_record=DataRecord(version=4, last_updated_time=datetime.datetime(2024, 11, 16, 14, 59, 42, 454000, tzinfo=TzInfo(UTC)), created_time=datetime.datetime(2024, 11, 16, 14, 8, 1, 544000, tzinfo=TzInfo(UTC)), deleted_time=None), node_type=None, capacity=7.0, description=None, name='hornsea_1_mill_3', power_curve=None, windfarm='Hornsea 1'),\n",
       "                 WindTurbine(space='sp_wind', external_id='hornsea_1_mill_2', data_record=DataRecord(version=4, last_updated_time=datetime.datetime(2024, 11, 16, 14, 59, 42, 454000, tzinfo=TzInfo(UTC)), created_time=datetime.datetime(2024, 11, 16, 14, 8, 1, 544000, tzinfo=TzInfo(UTC)), deleted_time=None), node_type=None, capacity=7.0, description=None, name='hornsea_1_mill_2', power_curve=None, windfarm='Hornsea 1'),\n",
       "                 WindTurbine(space='sp_wind', external_id='hornsea_1_mill_1', data_record=DataRecord(version=4, last_updated_time=datetime.datetime(2024, 11, 16, 14, 59, 42, 454000, tzinfo=TzInfo(UTC)), created_time=datetime.datetime(2024, 11, 16, 14, 8, 1, 544000, tzinfo=TzInfo(UTC)), deleted_time=None), node_type=None, capacity=7.0, description=None, name='hornsea_1_mill_1', power_curve=None, windfarm='Hornsea 1'),\n",
       "                 WindTurbine(space='sp_wind', external_id='hornsea_1_mill_4', data_record=DataRecord(version=4, last_updated_time=datetime.datetime(2024, 11, 16, 14, 59, 42, 454000, tzinfo=TzInfo(UTC)), created_time=datetime.datetime(2024, 11, 16, 14, 8, 1, 544000, tzinfo=TzInfo(UTC)), deleted_time=None), node_type=None, capacity=7.0, description=None, name='hornsea_1_mill_4', power_curve=None, windfarm='Hornsea 1'),\n",
       "                 WindTurbine(space='sp_wind', external_id='hornsea_1_mill_5', data_record=DataRecord(version=4, last_updated_time=datetime.datetime(2024, 11, 16, 14, 59, 42, 454000, tzinfo=TzInfo(UTC)), created_time=datetime.datetime(2024, 11, 16, 14, 8, 1, 544000, tzinfo=TzInfo(UTC)), deleted_time=None), node_type=None, capacity=7.0, description=None, name='hornsea_1_mill_5', power_curve=None, windfarm='Hornsea 1')])"
      ]
     },
     "execution_count": 9,
     "metadata": {},
     "output_type": "execute_result"
    }
   ],
   "source": [
    "result = pygen.wind_turbine.search(\"Hornsea\", properties=\"windfarm\")\n",
    "result"
   ]
  },
  {
   "cell_type": "markdown",
   "id": "08613dd0-9b59-4501-ade2-dd80621808f0",
   "metadata": {
    "editable": true,
    "slideshow": {
     "slide_type": ""
    },
    "tags": []
   },
   "source": [
    "The `.search` methods has the same filtering options as the `.list` method"
   ]
  },
  {
   "cell_type": "code",
   "execution_count": 10,
   "id": "ea7a551d-4ef2-454b-b29b-dc6fe7501420",
   "metadata": {
    "editable": true,
    "slideshow": {
     "slide_type": ""
    },
    "tags": []
   },
   "outputs": [
    {
     "data": {
      "text/html": [
       "<div>\n",
       "<style scoped>\n",
       "    .dataframe tbody tr th:only-of-type {\n",
       "        vertical-align: middle;\n",
       "    }\n",
       "\n",
       "    .dataframe tbody tr th {\n",
       "        vertical-align: top;\n",
       "    }\n",
       "\n",
       "    .dataframe thead th {\n",
       "        text-align: right;\n",
       "    }\n",
       "</style>\n",
       "<table border=\"1\" class=\"dataframe\">\n",
       "  <thead>\n",
       "    <tr style=\"text-align: right;\">\n",
       "      <th></th>\n",
       "      <th>space</th>\n",
       "      <th>external_id</th>\n",
       "      <th>capacity</th>\n",
       "      <th>name</th>\n",
       "      <th>blades</th>\n",
       "      <th>datasheets</th>\n",
       "      <th>nacelle</th>\n",
       "      <th>rotor</th>\n",
       "      <th>windfarm</th>\n",
       "      <th>data_record</th>\n",
       "    </tr>\n",
       "  </thead>\n",
       "  <tbody>\n",
       "    <tr>\n",
       "      <th>0</th>\n",
       "      <td>sp_wind</td>\n",
       "      <td>hornsea_1_mill_3</td>\n",
       "      <td>7.0</td>\n",
       "      <td>hornsea_1_mill_3</td>\n",
       "      <td>[hornsea_1_mill_3_blade_A, hornsea_1_mill_3_bl...</td>\n",
       "      <td>[windmill_schematics]</td>\n",
       "      <td>hornsea_1_mill_3_nacelle</td>\n",
       "      <td>hornsea_1_mill_3_rotor</td>\n",
       "      <td>Hornsea 1</td>\n",
       "      <td>{'version': 4, 'last_updated_time': 2024-11-16...</td>\n",
       "    </tr>\n",
       "    <tr>\n",
       "      <th>1</th>\n",
       "      <td>sp_wind</td>\n",
       "      <td>hornsea_1_mill_2</td>\n",
       "      <td>7.0</td>\n",
       "      <td>hornsea_1_mill_2</td>\n",
       "      <td>[hornsea_1_mill_2_blade_B, hornsea_1_mill_2_bl...</td>\n",
       "      <td>[windmill_schematics]</td>\n",
       "      <td>hornsea_1_mill_2_nacelle</td>\n",
       "      <td>hornsea_1_mill_2_rotor</td>\n",
       "      <td>Hornsea 1</td>\n",
       "      <td>{'version': 4, 'last_updated_time': 2024-11-16...</td>\n",
       "    </tr>\n",
       "    <tr>\n",
       "      <th>2</th>\n",
       "      <td>sp_wind</td>\n",
       "      <td>hornsea_1_mill_1</td>\n",
       "      <td>7.0</td>\n",
       "      <td>hornsea_1_mill_1</td>\n",
       "      <td>[hornsea_1_mill_1_blade_A, hornsea_1_mill_1_bl...</td>\n",
       "      <td>[windmill_schematics]</td>\n",
       "      <td>hornsea_1_mill_1_nacelle</td>\n",
       "      <td>hornsea_1_mill_1_rotor</td>\n",
       "      <td>Hornsea 1</td>\n",
       "      <td>{'version': 4, 'last_updated_time': 2024-11-16...</td>\n",
       "    </tr>\n",
       "    <tr>\n",
       "      <th>3</th>\n",
       "      <td>sp_wind</td>\n",
       "      <td>hornsea_1_mill_4</td>\n",
       "      <td>7.0</td>\n",
       "      <td>hornsea_1_mill_4</td>\n",
       "      <td>[hornsea_1_mill_4_blade_C, hornsea_1_mill_4_bl...</td>\n",
       "      <td>[windmill_schematics]</td>\n",
       "      <td>hornsea_1_mill_4_nacelle</td>\n",
       "      <td>hornsea_1_mill_4_rotor</td>\n",
       "      <td>Hornsea 1</td>\n",
       "      <td>{'version': 4, 'last_updated_time': 2024-11-16...</td>\n",
       "    </tr>\n",
       "    <tr>\n",
       "      <th>4</th>\n",
       "      <td>sp_wind</td>\n",
       "      <td>hornsea_1_mill_5</td>\n",
       "      <td>7.0</td>\n",
       "      <td>hornsea_1_mill_5</td>\n",
       "      <td>[hornsea_1_mill_5_blade_B, hornsea_1_mill_5_bl...</td>\n",
       "      <td>[windmill_schematics]</td>\n",
       "      <td>hornsea_1_mill_5_nacelle</td>\n",
       "      <td>hornsea_1_mill_5_rotor</td>\n",
       "      <td>Hornsea 1</td>\n",
       "      <td>{'version': 4, 'last_updated_time': 2024-11-16...</td>\n",
       "    </tr>\n",
       "  </tbody>\n",
       "</table>\n",
       "</div>"
      ],
      "text/plain": [
       "WindTurbineList([WindTurbine(space='sp_wind', external_id='hornsea_1_mill_3', data_record=DataRecord(version=4, last_updated_time=datetime.datetime(2024, 11, 16, 14, 59, 42, 454000, tzinfo=TzInfo(UTC)), created_time=datetime.datetime(2024, 11, 16, 14, 8, 1, 544000, tzinfo=TzInfo(UTC)), deleted_time=None), node_type=None, capacity=7.0, description=None, name='hornsea_1_mill_3', power_curve=None, windfarm='Hornsea 1'),\n",
       "                 WindTurbine(space='sp_wind', external_id='hornsea_1_mill_2', data_record=DataRecord(version=4, last_updated_time=datetime.datetime(2024, 11, 16, 14, 59, 42, 454000, tzinfo=TzInfo(UTC)), created_time=datetime.datetime(2024, 11, 16, 14, 8, 1, 544000, tzinfo=TzInfo(UTC)), deleted_time=None), node_type=None, capacity=7.0, description=None, name='hornsea_1_mill_2', power_curve=None, windfarm='Hornsea 1'),\n",
       "                 WindTurbine(space='sp_wind', external_id='hornsea_1_mill_1', data_record=DataRecord(version=4, last_updated_time=datetime.datetime(2024, 11, 16, 14, 59, 42, 454000, tzinfo=TzInfo(UTC)), created_time=datetime.datetime(2024, 11, 16, 14, 8, 1, 544000, tzinfo=TzInfo(UTC)), deleted_time=None), node_type=None, capacity=7.0, description=None, name='hornsea_1_mill_1', power_curve=None, windfarm='Hornsea 1'),\n",
       "                 WindTurbine(space='sp_wind', external_id='hornsea_1_mill_4', data_record=DataRecord(version=4, last_updated_time=datetime.datetime(2024, 11, 16, 14, 59, 42, 454000, tzinfo=TzInfo(UTC)), created_time=datetime.datetime(2024, 11, 16, 14, 8, 1, 544000, tzinfo=TzInfo(UTC)), deleted_time=None), node_type=None, capacity=7.0, description=None, name='hornsea_1_mill_4', power_curve=None, windfarm='Hornsea 1'),\n",
       "                 WindTurbine(space='sp_wind', external_id='hornsea_1_mill_5', data_record=DataRecord(version=4, last_updated_time=datetime.datetime(2024, 11, 16, 14, 59, 42, 454000, tzinfo=TzInfo(UTC)), created_time=datetime.datetime(2024, 11, 16, 14, 8, 1, 544000, tzinfo=TzInfo(UTC)), deleted_time=None), node_type=None, capacity=7.0, description=None, name='hornsea_1_mill_5', power_curve=None, windfarm='Hornsea 1')])"
      ]
     },
     "execution_count": 10,
     "metadata": {},
     "output_type": "execute_result"
    }
   ],
   "source": [
    "result = pygen.wind_turbine.search(\"Hornsea\", min_capacity=6.0)\n",
    "result"
   ]
  },
  {
   "cell_type": "markdown",
   "id": "4d5a7769-787b-41fe-9db2-d5aaf93bc507",
   "metadata": {
    "editable": true,
    "slideshow": {
     "slide_type": ""
    },
    "tags": []
   },
   "source": [
    "Note that `.search()` should be used for searching and not filtering. If you only want to filter use the `.list()` method"
   ]
  },
  {
   "cell_type": "markdown",
   "id": "d60518d1-743d-4016-b970-bb370e6b41b3",
   "metadata": {
    "editable": true,
    "slideshow": {
     "slide_type": ""
    },
    "tags": []
   },
   "source": [
    "Next section: [Aggregation](aggregation.html)"
   ]
  },
  {
   "cell_type": "code",
   "execution_count": null,
   "id": "73d23314-1a4b-4995-9daf-0abaa8b1aaef",
   "metadata": {
    "editable": true,
    "slideshow": {
     "slide_type": ""
    },
    "tags": []
   },
   "outputs": [],
   "source": []
  }
 ],
 "metadata": {
  "kernelspec": {
   "display_name": "Python 3 (ipykernel)",
   "language": "python",
   "name": "python3"
  },
  "language_info": {
   "codemirror_mode": {
    "name": "ipython",
    "version": 3
   },
   "file_extension": ".py",
   "mimetype": "text/x-python",
   "name": "python",
   "nbconvert_exporter": "python",
   "pygments_lexer": "ipython3",
   "version": "3.10.11"
  }
 },
 "nbformat": 4,
 "nbformat_minor": 5
}
