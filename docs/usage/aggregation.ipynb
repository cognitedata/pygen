{
 "cells": [
  {
   "cell_type": "markdown",
   "id": "62dc99d9-5728-4c9f-968b-3d297891e292",
   "metadata": {
    "editable": true,
    "slideshow": {
     "slide_type": ""
    },
    "tags": []
   },
   "source": [
    "# Aggregating Instances: Aggregate and Histogram\n",
    "\n",
    "We assume that you have [generated a SDK](generation.html) for the `WindTurbine` model and have a client ready to go.\n",
    "\n",
    "`pygen` automatically generates an aggregate and a histogram method for the properties in the views."
   ]
  },
  {
   "cell_type": "code",
   "execution_count": 1,
   "id": "b0e77a9c-c48a-4d61-902a-f5337a140f83",
   "metadata": {
    "editable": true,
    "slideshow": {
     "slide_type": ""
    },
    "tags": [
     "hide"
    ]
   },
   "outputs": [],
   "source": [
    "import warnings\n",
    "\n",
    "warnings.filterwarnings(\"ignore\")\n",
    "# This is just to enable improting the generated SDK from the examples folder in the pygen repository\n",
    "import sys  # noqa: E402\n",
    "\n",
    "from tests.constants import REPO_ROOT  # noqa: E402\n",
    "\n",
    "sys.path.append(str(REPO_ROOT / \"examples\"))"
   ]
  },
  {
   "cell_type": "code",
   "execution_count": 2,
   "id": "419e30a2-f6d7-4cca-904e-2d6554d843c7",
   "metadata": {
    "editable": true,
    "slideshow": {
     "slide_type": ""
    },
    "tags": []
   },
   "outputs": [],
   "source": [
    "from wind_turbine import WindTurbineClient"
   ]
  },
  {
   "cell_type": "code",
   "execution_count": 3,
   "id": "423bdf8a-29bd-4a88-a127-22c9d0e075a2",
   "metadata": {
    "editable": true,
    "slideshow": {
     "slide_type": ""
    },
    "tags": []
   },
   "outputs": [],
   "source": [
    "pygen = WindTurbineClient.from_toml(\"config.toml\")"
   ]
  },
  {
   "cell_type": "code",
   "execution_count": 5,
   "id": "246782ea-2701-4f0c-8522-9c4cdad03747",
   "metadata": {
    "editable": true,
    "slideshow": {
     "slide_type": ""
    },
    "tags": []
   },
   "outputs": [
    {
     "data": {
      "text/plain": [
       "[AvgValue(property='capacity', value=6.857142857142857)]"
      ]
     },
     "execution_count": 5,
     "metadata": {},
     "output_type": "execute_result"
    }
   ],
   "source": [
    "result = pygen.generating_unit.aggregate(\"avg\", property=\"capacity\")\n",
    "result"
   ]
  },
  {
   "cell_type": "markdown",
   "id": "f61c7a70-1b27-4bf6-9b33-a056c1e9d874",
   "metadata": {
    "editable": true,
    "slideshow": {
     "slide_type": ""
    },
    "tags": []
   },
   "source": [
    "The `aggregate`methods combines all the aggrgagations and properties pased in"
   ]
  },
  {
   "cell_type": "code",
   "execution_count": 7,
   "id": "7bcca6f9-91b6-4cef-ac84-be9333f19b0b",
   "metadata": {
    "editable": true,
    "slideshow": {
     "slide_type": ""
    },
    "tags": []
   },
   "outputs": [
    {
     "data": {
      "text/plain": [
       "[CountValue(property='capacity', value=5),\n",
       " CountValue(property='windfarm', value=5),\n",
       " CountValue(property='name', value=5)]"
      ]
     },
     "execution_count": 7,
     "metadata": {},
     "output_type": "execute_result"
    }
   ],
   "source": [
    "result = pygen.wind_turbine.aggregate(\n",
    "    \"count\",\n",
    "    property=[\"name\", \"windfarm\", \"capacity\"],\n",
    ")\n",
    "result"
   ]
  },
  {
   "cell_type": "markdown",
   "id": "3bf9bcf5-5a91-4eb4-8943-0270c88cce91",
   "metadata": {
    "editable": true,
    "slideshow": {
     "slide_type": ""
    },
    "tags": []
   },
   "source": [
    "Typically, you have to specify which properties you want to aggregate on, however, for count you can skip the properties and pygen will just take the first property it finds."
   ]
  },
  {
   "cell_type": "code",
   "execution_count": 8,
   "id": "ee50ae54-42b8-4c90-8918-41c33d553948",
   "metadata": {
    "editable": true,
    "slideshow": {
     "slide_type": ""
    },
    "tags": []
   },
   "outputs": [
    {
     "data": {
      "text/plain": [
       "[CountValue(property='externalId', value=7)]"
      ]
     },
     "execution_count": 8,
     "metadata": {},
     "output_type": "execute_result"
    }
   ],
   "source": [
    "result = pygen.generating_unit.aggregate(\"count\")\n",
    "result"
   ]
  },
  {
   "cell_type": "markdown",
   "id": "1d4c0ed8-7cf0-490d-ae96-0c1c7cef75f8",
   "metadata": {
    "editable": true,
    "slideshow": {
     "slide_type": ""
    },
    "tags": []
   },
   "source": [
    "You can also group by when you aggregate"
   ]
  },
  {
   "cell_type": "code",
   "execution_count": 9,
   "id": "fa28145a-f37b-4701-9716-9e9bb156c622",
   "metadata": {
    "editable": true,
    "slideshow": {
     "slide_type": ""
    },
    "tags": []
   },
   "outputs": [
    {
     "data": {
      "text/html": [
       "<div>\n",
       "<style scoped>\n",
       "    .dataframe tbody tr th:only-of-type {\n",
       "        vertical-align: middle;\n",
       "    }\n",
       "\n",
       "    .dataframe tbody tr th {\n",
       "        vertical-align: top;\n",
       "    }\n",
       "\n",
       "    .dataframe thead th {\n",
       "        text-align: right;\n",
       "    }\n",
       "</style>\n",
       "<table border=\"1\" class=\"dataframe\">\n",
       "  <thead>\n",
       "    <tr style=\"text-align: right;\">\n",
       "      <th></th>\n",
       "      <th>aggregates</th>\n",
       "      <th>group</th>\n",
       "    </tr>\n",
       "  </thead>\n",
       "  <tbody>\n",
       "    <tr>\n",
       "      <th>0</th>\n",
       "      <td>[{'aggregate': 'avg', 'property': 'capacity', ...</td>\n",
       "      <td>{'windfarm': 'Hornsea 1'}</td>\n",
       "    </tr>\n",
       "  </tbody>\n",
       "</table>\n",
       "</div>"
      ],
      "text/plain": [
       "InstanceAggregationResultList([<InstanceAggregationResult() at 0x1e0fc7dd9c0>])"
      ]
     },
     "execution_count": 9,
     "metadata": {},
     "output_type": "execute_result"
    }
   ],
   "source": [
    "result = pygen.wind_turbine.aggregate(\"avg\", property=\"capacity\", group_by=\"windfarm\")\n",
    "result"
   ]
  },
  {
   "cell_type": "code",
   "execution_count": 10,
   "id": "f035896f-50a1-4c3b-9de7-d516abd9768e",
   "metadata": {
    "editable": true,
    "slideshow": {
     "slide_type": ""
    },
    "tags": []
   },
   "outputs": [
    {
     "data": {
      "text/plain": [
       "({'windfarm': 'Hornsea 1'}, [AvgValue(property='capacity', value=7.0)])"
      ]
     },
     "execution_count": 10,
     "metadata": {},
     "output_type": "execute_result"
    }
   ],
   "source": [
    "result[0].group, result[0].aggregates"
   ]
  },
  {
   "cell_type": "markdown",
   "id": "1f20f69e-58cd-4111-bf80-7c638512191b",
   "metadata": {
    "editable": true,
    "slideshow": {
     "slide_type": ""
    },
    "tags": []
   },
   "source": [
    "In addition, we have `histogram` aggregation on a separate method"
   ]
  },
  {
   "cell_type": "code",
   "execution_count": 11,
   "id": "edab9ca4-8a37-4e6a-a93e-b2b180bfd27a",
   "metadata": {
    "editable": true,
    "slideshow": {
     "slide_type": ""
    },
    "tags": []
   },
   "outputs": [
    {
     "data": {
      "text/plain": [
       "HistogramValue(property='position', interval=5.0, buckets=[])"
      ]
     },
     "execution_count": 11,
     "metadata": {},
     "output_type": "execute_result"
    }
   ],
   "source": [
    "result = pygen.sensor_position.histogram(\"position\", interval=5.0)\n",
    "result"
   ]
  },
  {
   "cell_type": "code",
   "execution_count": 30,
   "id": "25ac3506-8708-44c8-88e9-d1308cc06527",
   "metadata": {
    "editable": true,
    "slideshow": {
     "slide_type": ""
    },
    "tags": []
   },
   "outputs": [],
   "source": [
    "import matplotlib.pyplot as plt"
   ]
  },
  {
   "cell_type": "code",
   "execution_count": 31,
   "id": "2c96d43d-cd2e-4bc2-938b-cfa7182a6754",
   "metadata": {
    "editable": true,
    "slideshow": {
     "slide_type": ""
    },
    "tags": []
   },
   "outputs": [
    {
     "data": {
      "image/png": "[encoded data removed]",
      "text/plain": [
       "<Figure size 640x480 with 1 Axes>"
      ]
     },
     "metadata": {},
     "output_type": "display_data"
    }
   ],
   "source": [
    "plt.bar([b.start for b in result.buckets], [b.count for b in result.buckets])\n",
    "plt.xlabel(\"Sensor position\")\n",
    "plt.ylabel(\"Sensor count\");"
   ]
  },
  {
   "cell_type": "markdown",
   "id": "b7b009e5-11b5-46d8-94f4-0fc60de5efee",
   "metadata": {
    "editable": true,
    "slideshow": {
     "slide_type": ""
    },
    "tags": []
   },
   "source": [
    "Next section: [Querying](querying.html)"
   ]
  },
  {
   "cell_type": "code",
   "execution_count": null,
   "id": "4eef9bf0-031b-461e-861d-c5863e7607e6",
   "metadata": {
    "editable": true,
    "slideshow": {
     "slide_type": ""
    },
    "tags": []
   },
   "outputs": [],
   "source": []
  },
  {
   "cell_type": "code",
   "execution_count": null,
   "id": "ccc2ef89-cf05-458b-9448-c216177e30f0",
   "metadata": {},
   "outputs": [],
   "source": []
  }
 ],
 "metadata": {
  "kernelspec": {
   "display_name": "Python 3 (ipykernel)",
   "language": "python",
   "name": "python3"
  },
  "language_info": {
   "codemirror_mode": {
    "name": "ipython",
    "version": 3
   },
   "file_extension": ".py",
   "mimetype": "text/x-python",
   "name": "python",
   "nbconvert_exporter": "python",
   "pygments_lexer": "ipython3",
   "version": "3.10.11"
  }
 },
 "nbformat": 4,
 "nbformat_minor": 5
}
