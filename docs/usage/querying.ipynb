{
 "cells": [
  {
   "cell_type": "markdown",
   "id": "12e9032a-1546-41fb-b1b4-09e24029953a",
   "metadata": {
    "editable": true,
    "slideshow": {
     "slide_type": ""
    },
    "tags": []
   },
   "source": [
    "# Querying\n",
    "\n",
    "We assume that you have [generated a SDK](generation.html) for the `Windmill` model and have a client ready to go.\n",
    "\n",
    "`pygen` supports quering nodes via edges. Including, handeling circular dependencies. \n",
    "\n",
    "For example, if we want to list the all the blades with sensor positoins we can do the followind query:"
   ]
  },
  {
   "cell_type": "code",
   "execution_count": 9,
   "id": "c78c5e7a-7037-430a-b3b0-733f797e4967",
   "metadata": {
    "editable": true,
    "slideshow": {
     "slide_type": ""
    },
    "tags": [
     "hide"
    ]
   },
   "outputs": [],
   "source": [
    "import warnings\n",
    "warnings.filterwarnings('ignore')\n",
    "# This is just to enable improting the generated SDK from the examples folder in the pygen repository\n",
    "import sys\n",
    "from tests.constants import REPO_ROOT\n",
    "sys.path.append(str(REPO_ROOT / \"examples\" ))"
   ]
  },
  {
   "cell_type": "code",
   "execution_count": 10,
   "id": "fc71a9a0-e244-4fb8-b541-621b7f8a7ac6",
   "metadata": {
    "editable": true,
    "slideshow": {
     "slide_type": ""
    },
    "tags": []
   },
   "outputs": [],
   "source": [
    "from windmill.client import WindmillClient"
   ]
  },
  {
   "cell_type": "code",
   "execution_count": 11,
   "id": "6342bcfd-ccba-4d74-a3d8-208da21689c3",
   "metadata": {
    "editable": true,
    "slideshow": {
     "slide_type": ""
    },
    "tags": []
   },
   "outputs": [],
   "source": [
    "client = WindmillClient.from_toml(\"config.toml\")"
   ]
  },
  {
   "cell_type": "markdown",
   "id": "968da7c2-dc35-429a-9b18-f3962b8e47e7",
   "metadata": {
    "editable": true,
    "jp-MarkdownHeadingCollapsed": true,
    "slideshow": {
     "slide_type": ""
    },
    "tags": []
   },
   "source": [
    "## Querying along Edges"
   ]
  },
  {
   "cell_type": "code",
   "execution_count": 12,
   "id": "67413c75-97f2-4e17-8376-bff741fa73a9",
   "metadata": {
    "editable": true,
    "slideshow": {
     "slide_type": ""
    },
    "tags": []
   },
   "outputs": [],
   "source": [
    "blades = client.blade(limit=5).sensor_positions(limit=-1).query()"
   ]
  },
  {
   "cell_type": "code",
   "execution_count": 13,
   "id": "5a01083d-b221-42a6-9a13-5e2ece250620",
   "metadata": {
    "editable": true,
    "slideshow": {
     "slide_type": ""
    },
    "tags": []
   },
   "outputs": [
    {
     "data": {
      "text/plain": [
       "{'space': 'windmill-instances',\n",
       " 'external_id': 'blade:1',\n",
       " 'version': 1,\n",
       " 'last_updated_time': datetime.datetime(2023, 12, 25, 7, 47, 50, 40000, tzinfo=TzInfo(UTC)),\n",
       " 'created_time': datetime.datetime(2023, 12, 25, 7, 47, 50, 40000, tzinfo=TzInfo(UTC)),\n",
       " 'deleted_time': None,\n",
       " 'is_damaged': False,\n",
       " 'name': 'A',\n",
       " 'sensor_positions': [{'space': 'windmill-instances',\n",
       "   'external_id': 'sensorposition:1',\n",
       "   'version': 1,\n",
       "   'last_updated_time': datetime.datetime(2023, 12, 25, 7, 47, 50, 40000, tzinfo=TzInfo(UTC)),\n",
       "   'created_time': datetime.datetime(2023, 12, 25, 7, 47, 50, 40000, tzinfo=TzInfo(UTC)),\n",
       "   'deleted_time': None,\n",
       "   'edgewise_bend_mom_crosstalk_corrected': None,\n",
       "   'edgewise_bend_mom_offset': None,\n",
       "   'edgewise_bend_mom_offset_crosstalk_corrected': None,\n",
       "   'edgewisewise_bend_mom': None,\n",
       "   'flapwise_bend_mom': 'V52-WindTurbine.MxA6',\n",
       "   'flapwise_bend_mom_crosstalk_corrected': None,\n",
       "   'flapwise_bend_mom_offset': None,\n",
       "   'flapwise_bend_mom_offset_crosstalk_corrected': None,\n",
       "   'position': 19.6},\n",
       "  {'space': 'windmill-instances',\n",
       "   'external_id': 'sensorposition:2',\n",
       "   'version': 1,\n",
       "   'last_updated_time': datetime.datetime(2023, 12, 25, 7, 47, 50, 40000, tzinfo=TzInfo(UTC)),\n",
       "   'created_time': datetime.datetime(2023, 12, 25, 7, 47, 50, 40000, tzinfo=TzInfo(UTC)),\n",
       "   'deleted_time': None,\n",
       "   'edgewise_bend_mom_crosstalk_corrected': None,\n",
       "   'edgewise_bend_mom_offset': 'V52-WindTurbine.MyA3_O',\n",
       "   'edgewise_bend_mom_offset_crosstalk_corrected': None,\n",
       "   'edgewisewise_bend_mom': 'V52-WindTurbine.MyA3',\n",
       "   'flapwise_bend_mom': 'V52-WindTurbine.MxA3',\n",
       "   'flapwise_bend_mom_crosstalk_corrected': None,\n",
       "   'flapwise_bend_mom_offset': 'V52-WindTurbine.MxA3_O',\n",
       "   'flapwise_bend_mom_offset_crosstalk_corrected': None,\n",
       "   'position': 6.6},\n",
       "  {'space': 'windmill-instances',\n",
       "   'external_id': 'sensorposition:3',\n",
       "   'version': 1,\n",
       "   'last_updated_time': datetime.datetime(2023, 12, 25, 7, 47, 50, 40000, tzinfo=TzInfo(UTC)),\n",
       "   'created_time': datetime.datetime(2023, 12, 25, 7, 47, 50, 40000, tzinfo=TzInfo(UTC)),\n",
       "   'deleted_time': None,\n",
       "   'edgewise_bend_mom_crosstalk_corrected': 'V52-WindTurbine.MyA4cr',\n",
       "   'edgewise_bend_mom_offset': 'V52-WindTurbine.MyA4_O',\n",
       "   'edgewise_bend_mom_offset_crosstalk_corrected': 'V52-WindTurbine.MyA4_Ocr',\n",
       "   'edgewisewise_bend_mom': 'V52-WindTurbine.MyA4',\n",
       "   'flapwise_bend_mom': 'V52-WindTurbine.MxA4',\n",
       "   'flapwise_bend_mom_crosstalk_corrected': 'V52-WindTurbine.MxA4cr',\n",
       "   'flapwise_bend_mom_offset': 'V52-WindTurbine.MxA4_O',\n",
       "   'flapwise_bend_mom_offset_crosstalk_corrected': 'V52-WindTurbine.MxA4_Ocr',\n",
       "   'position': 6.7},\n",
       "  {'space': 'windmill-instances',\n",
       "   'external_id': 'sensorposition:4',\n",
       "   'version': 1,\n",
       "   'last_updated_time': datetime.datetime(2023, 12, 25, 7, 47, 50, 40000, tzinfo=TzInfo(UTC)),\n",
       "   'created_time': datetime.datetime(2023, 12, 25, 7, 47, 50, 40000, tzinfo=TzInfo(UTC)),\n",
       "   'deleted_time': None,\n",
       "   'edgewise_bend_mom_crosstalk_corrected': None,\n",
       "   'edgewise_bend_mom_offset': None,\n",
       "   'edgewise_bend_mom_offset_crosstalk_corrected': None,\n",
       "   'edgewisewise_bend_mom': None,\n",
       "   'flapwise_bend_mom': 'V52-WindTurbine.MxA5',\n",
       "   'flapwise_bend_mom_crosstalk_corrected': None,\n",
       "   'flapwise_bend_mom_offset': None,\n",
       "   'flapwise_bend_mom_offset_crosstalk_corrected': None,\n",
       "   'position': 13.1},\n",
       "  {'space': 'windmill-instances',\n",
       "   'external_id': 'sensorposition:5',\n",
       "   'version': 1,\n",
       "   'last_updated_time': datetime.datetime(2023, 12, 25, 7, 47, 50, 40000, tzinfo=TzInfo(UTC)),\n",
       "   'created_time': datetime.datetime(2023, 12, 25, 7, 47, 50, 40000, tzinfo=TzInfo(UTC)),\n",
       "   'deleted_time': None,\n",
       "   'edgewise_bend_mom_crosstalk_corrected': 'V52-WindTurbine.MyA1cr',\n",
       "   'edgewise_bend_mom_offset': 'V52-WindTurbine.MyA1_O',\n",
       "   'edgewise_bend_mom_offset_crosstalk_corrected': 'V52-WindTurbine.MyA1_Ocr',\n",
       "   'edgewisewise_bend_mom': 'V52-WindTurbine.MyA1',\n",
       "   'flapwise_bend_mom': 'V52-WindTurbine.MxA1',\n",
       "   'flapwise_bend_mom_crosstalk_corrected': 'V52-WindTurbine.MxA1cr',\n",
       "   'flapwise_bend_mom_offset': 'V52-WindTurbine.MxA1_O',\n",
       "   'flapwise_bend_mom_offset_crosstalk_corrected': 'V52-WindTurbine.MxA1_Ocr',\n",
       "   'position': 1.4},\n",
       "  {'space': 'windmill-instances',\n",
       "   'external_id': 'sensorposition:6',\n",
       "   'version': 1,\n",
       "   'last_updated_time': datetime.datetime(2023, 12, 25, 7, 47, 50, 40000, tzinfo=TzInfo(UTC)),\n",
       "   'created_time': datetime.datetime(2023, 12, 25, 7, 47, 50, 40000, tzinfo=TzInfo(UTC)),\n",
       "   'deleted_time': None,\n",
       "   'edgewise_bend_mom_crosstalk_corrected': 'V52-WindTurbine.MyA2cr',\n",
       "   'edgewise_bend_mom_offset': 'V52-WindTurbine.MyA2_O',\n",
       "   'edgewise_bend_mom_offset_crosstalk_corrected': 'V52-WindTurbine.MyA2_Ocr',\n",
       "   'edgewisewise_bend_mom': 'V52-WindTurbine.MyA2',\n",
       "   'flapwise_bend_mom': 'V52-WindTurbine.MxA2',\n",
       "   'flapwise_bend_mom_crosstalk_corrected': 'V52-WindTurbine.MxA2cr',\n",
       "   'flapwise_bend_mom_offset': 'V52-WindTurbine.MxA2_O',\n",
       "   'flapwise_bend_mom_offset_crosstalk_corrected': 'V52-WindTurbine.MxA2_Ocr',\n",
       "   'position': 1.5}]}"
      ]
     },
     "execution_count": 13,
     "metadata": {},
     "output_type": "execute_result"
    }
   ],
   "source": [
    "blades[0].model_dump()"
   ]
  },
  {
   "cell_type": "markdown",
   "id": "f7a11389-b290-47f6-91e3-41dd8b50a1a1",
   "metadata": {
    "editable": true,
    "slideshow": {
     "slide_type": ""
    },
    "tags": []
   },
   "source": [
    "**Call Explaination**\n",
    "The call `client.blade(limit=5).sensor_positions(limit=-1).query()` requires some extra explaination. \n",
    "\n",
    "1. The first call, `.blade(limit=5)`, filters which blades that we want.\n",
    "2. In the second call, `.sensor_positions(limit=-1)`, we specify that we want all sensor position edges connected to the blades we found in the first call.\n",
    "3. The last call `.query()` tells `pygen` to execute the query.\n"
   ]
  },
  {
   "cell_type": "markdown",
   "id": "8041da22-30c7-487e-bb7f-efb687fd217e",
   "metadata": {
    "editable": true,
    "slideshow": {
     "slide_type": ""
    },
    "tags": []
   },
   "source": [
    "We can build arbitrary long queries this way and we always finish with `.query()` to execute the query. For example, we can take all windmills at the 'Hornsea 1' windfarm and include all blades and sensor position connected to these blades."
   ]
  },
  {
   "cell_type": "code",
   "execution_count": 15,
   "id": "b946c27d-1cbf-496f-8aeb-f74c369d6408",
   "metadata": {
    "editable": true,
    "slideshow": {
     "slide_type": ""
    },
    "tags": []
   },
   "outputs": [],
   "source": [
    "windmills_at_hornsea_with_blades_and_sensors = client.windmill(windfarm=\"Hornsea 1\").blades(limit=-1).sensor_positions(limit=-1).query()"
   ]
  },
  {
   "cell_type": "code",
   "execution_count": 16,
   "id": "c3b89dd6-995f-43d9-bfeb-4dd19d2b2cdd",
   "metadata": {
    "editable": true,
    "slideshow": {
     "slide_type": ""
    },
    "tags": []
   },
   "outputs": [
    {
     "data": {
      "text/html": [
       "<div>\n",
       "<style scoped>\n",
       "    .dataframe tbody tr th:only-of-type {\n",
       "        vertical-align: middle;\n",
       "    }\n",
       "\n",
       "    .dataframe tbody tr th {\n",
       "        vertical-align: top;\n",
       "    }\n",
       "\n",
       "    .dataframe thead th {\n",
       "        text-align: right;\n",
       "    }\n",
       "</style>\n",
       "<table border=\"1\" class=\"dataframe\">\n",
       "  <thead>\n",
       "    <tr style=\"text-align: right;\">\n",
       "      <th></th>\n",
       "      <th>external_id</th>\n",
       "      <th>blades</th>\n",
       "      <th>capacity</th>\n",
       "      <th>metmast</th>\n",
       "      <th>nacelle</th>\n",
       "      <th>name</th>\n",
       "      <th>rotor</th>\n",
       "      <th>windfarm</th>\n",
       "    </tr>\n",
       "  </thead>\n",
       "  <tbody>\n",
       "    <tr>\n",
       "      <th>0</th>\n",
       "      <td>hornsea_1_mill_3</td>\n",
       "      <td>[{'space': 'windmill-instances', 'external_id'...</td>\n",
       "      <td>7.0</td>\n",
       "      <td>None</td>\n",
       "      <td>nacelle:1</td>\n",
       "      <td>hornsea_1_mill_3</td>\n",
       "      <td>rotor:1</td>\n",
       "      <td>Hornsea 1</td>\n",
       "    </tr>\n",
       "    <tr>\n",
       "      <th>1</th>\n",
       "      <td>hornsea_1_mill_2</td>\n",
       "      <td>[{'space': 'windmill-instances', 'external_id'...</td>\n",
       "      <td>7.0</td>\n",
       "      <td>None</td>\n",
       "      <td>nacelle:2</td>\n",
       "      <td>hornsea_1_mill_2</td>\n",
       "      <td>rotor:2</td>\n",
       "      <td>Hornsea 1</td>\n",
       "    </tr>\n",
       "    <tr>\n",
       "      <th>2</th>\n",
       "      <td>hornsea_1_mill_1</td>\n",
       "      <td>[{'space': 'windmill-instances', 'external_id'...</td>\n",
       "      <td>7.0</td>\n",
       "      <td>None</td>\n",
       "      <td>nacelle:3</td>\n",
       "      <td>hornsea_1_mill_1</td>\n",
       "      <td>rotor:3</td>\n",
       "      <td>Hornsea 1</td>\n",
       "    </tr>\n",
       "  </tbody>\n",
       "</table>\n",
       "</div>"
      ],
      "text/plain": [
       "WindmillList([Windmill(space='windmill-instances', external_id='hornsea_1_mill_3', version=1, last_updated_time=datetime.datetime(2023, 12, 25, 7, 47, 50, 40000, tzinfo=TzInfo(UTC)), created_time=datetime.datetime(2023, 12, 25, 7, 47, 50, 40000, tzinfo=TzInfo(UTC)), deleted_time=None, capacity=7.0, name='hornsea_1_mill_3', windfarm='Hornsea 1'),\n",
       "              Windmill(space='windmill-instances', external_id='hornsea_1_mill_2', version=1, last_updated_time=datetime.datetime(2023, 12, 25, 7, 47, 50, 40000, tzinfo=TzInfo(UTC)), created_time=datetime.datetime(2023, 12, 25, 7, 47, 50, 40000, tzinfo=TzInfo(UTC)), deleted_time=None, capacity=7.0, name='hornsea_1_mill_2', windfarm='Hornsea 1'),\n",
       "              Windmill(space='windmill-instances', external_id='hornsea_1_mill_1', version=1, last_updated_time=datetime.datetime(2023, 12, 25, 7, 47, 50, 40000, tzinfo=TzInfo(UTC)), created_time=datetime.datetime(2023, 12, 25, 7, 47, 50, 40000, tzinfo=TzInfo(UTC)), deleted_time=None, capacity=7.0, name='hornsea_1_mill_1', windfarm='Hornsea 1')])"
      ]
     },
     "execution_count": 16,
     "metadata": {},
     "output_type": "execute_result"
    }
   ],
   "source": [
    "windmills_at_hornsea_with_blades_and_sensors"
   ]
  },
  {
   "cell_type": "code",
   "execution_count": 17,
   "id": "85e2ac68-eee9-4677-82a0-e55603e072ae",
   "metadata": {
    "editable": true,
    "slideshow": {
     "slide_type": ""
    },
    "tags": []
   },
   "outputs": [
    {
     "name": "stdout",
     "output_type": "stream",
     "text": [
      "hornsea_1_mill_3 has 3 blades\n",
      "blade:1 is connected to hornsea_1_mill_3 and has sensors: sensorposition:1, sensorposition:2, sensorposition:3, sensorposition:4, sensorposition:5, sensorposition:6\n",
      "blade:2 is connected to hornsea_1_mill_3 and has sensors: sensorposition:7, sensorposition:8, sensorposition:9, sensorposition:10, sensorposition:11, sensorposition:12\n",
      "blade:3 is connected to hornsea_1_mill_3 and has sensors: sensorposition:13, sensorposition:14, sensorposition:15, sensorposition:16, sensorposition:17, sensorposition:18\n",
      "\n",
      "\n",
      "hornsea_1_mill_2 has 3 blades\n",
      "blade:4 is connected to hornsea_1_mill_2 and has sensors: sensorposition:19, sensorposition:20, sensorposition:21, sensorposition:22, sensorposition:23, sensorposition:24\n",
      "blade:5 is connected to hornsea_1_mill_2 and has sensors: sensorposition:25, sensorposition:26, sensorposition:27, sensorposition:28, sensorposition:29, sensorposition:30\n",
      "blade:6 is connected to hornsea_1_mill_2 and has sensors: sensorposition:31, sensorposition:32, sensorposition:33, sensorposition:34, sensorposition:35, sensorposition:36\n",
      "\n",
      "\n",
      "hornsea_1_mill_1 has 3 blades\n",
      "blade:7 is connected to hornsea_1_mill_1 and has sensors: sensorposition:37, sensorposition:38, sensorposition:39, sensorposition:40, sensorposition:41, sensorposition:42\n",
      "blade:8 is connected to hornsea_1_mill_1 and has sensors: sensorposition:43, sensorposition:44, sensorposition:45, sensorposition:46, sensorposition:47, sensorposition:48\n",
      "blade:9 is connected to hornsea_1_mill_1 and has sensors: sensorposition:49, sensorposition:50, sensorposition:51, sensorposition:52, sensorposition:53, sensorposition:54\n",
      "\n",
      "\n"
     ]
    }
   ],
   "source": [
    "for windmill in windmills_at_hornsea_with_blades_and_sensors:\n",
    "    print(f\"{windmill.name} has {len(windmill.blades)} blades\")\n",
    "    for blade in windmill.blades:\n",
    "        print(f\"{blade.external_id} is connected to {windmill.name} and has sensors: {', '.join([sensor.external_id for sensor in blade.sensor_positions])}\")\n",
    "    print(\"\\n\")"
   ]
  },
  {
   "cell_type": "markdown",
   "id": "e9608221-8bba-4322-852e-fa41f22f2d33",
   "metadata": {
    "editable": true,
    "slideshow": {
     "slide_type": ""
    },
    "tags": []
   },
   "source": [
    "We can dig into the nested structure of one of them by dumping it do a dictinary."
   ]
  },
  {
   "cell_type": "code",
   "execution_count": 18,
   "id": "18e27965-6a54-4d5c-951e-7f67c7b75dc2",
   "metadata": {
    "editable": true,
    "slideshow": {
     "slide_type": ""
    },
    "tags": []
   },
   "outputs": [
    {
     "data": {
      "text/plain": [
       "{'space': 'windmill-instances',\n",
       " 'external_id': 'hornsea_1_mill_2',\n",
       " 'version': 1,\n",
       " 'last_updated_time': datetime.datetime(2023, 12, 25, 7, 47, 50, 40000, tzinfo=TzInfo(UTC)),\n",
       " 'created_time': datetime.datetime(2023, 12, 25, 7, 47, 50, 40000, tzinfo=TzInfo(UTC)),\n",
       " 'deleted_time': None,\n",
       " 'blades': [{'space': 'windmill-instances',\n",
       "   'external_id': 'blade:4',\n",
       "   'version': 1,\n",
       "   'last_updated_time': datetime.datetime(2023, 12, 25, 7, 47, 50, 40000, tzinfo=TzInfo(UTC)),\n",
       "   'created_time': datetime.datetime(2023, 12, 25, 7, 47, 50, 40000, tzinfo=TzInfo(UTC)),\n",
       "   'deleted_time': None,\n",
       "   'is_damaged': True,\n",
       "   'name': 'B',\n",
       "   'sensor_positions': [{'space': 'windmill-instances',\n",
       "     'external_id': 'sensorposition:19',\n",
       "     'version': 1,\n",
       "     'last_updated_time': datetime.datetime(2023, 12, 25, 7, 47, 50, 40000, tzinfo=TzInfo(UTC)),\n",
       "     'created_time': datetime.datetime(2023, 12, 25, 7, 47, 50, 40000, tzinfo=TzInfo(UTC)),\n",
       "     'deleted_time': None,\n",
       "     'edgewise_bend_mom_crosstalk_corrected': None,\n",
       "     'edgewise_bend_mom_offset': None,\n",
       "     'edgewise_bend_mom_offset_crosstalk_corrected': None,\n",
       "     'edgewisewise_bend_mom': None,\n",
       "     'flapwise_bend_mom': None,\n",
       "     'flapwise_bend_mom_crosstalk_corrected': None,\n",
       "     'flapwise_bend_mom_offset': None,\n",
       "     'flapwise_bend_mom_offset_crosstalk_corrected': None,\n",
       "     'position': 13.1},\n",
       "    {'space': 'windmill-instances',\n",
       "     'external_id': 'sensorposition:20',\n",
       "     'version': 1,\n",
       "     'last_updated_time': datetime.datetime(2023, 12, 25, 7, 47, 50, 40000, tzinfo=TzInfo(UTC)),\n",
       "     'created_time': datetime.datetime(2023, 12, 25, 7, 47, 50, 40000, tzinfo=TzInfo(UTC)),\n",
       "     'deleted_time': None,\n",
       "     'edgewise_bend_mom_crosstalk_corrected': 'V52-WindTurbine.MyB2cr',\n",
       "     'edgewise_bend_mom_offset': None,\n",
       "     'edgewise_bend_mom_offset_crosstalk_corrected': None,\n",
       "     'edgewisewise_bend_mom': 'V52-WindTurbine.MyB2',\n",
       "     'flapwise_bend_mom': 'V52-WindTurbine.MxB2',\n",
       "     'flapwise_bend_mom_crosstalk_corrected': 'V52-WindTurbine.MxB2cr',\n",
       "     'flapwise_bend_mom_offset': None,\n",
       "     'flapwise_bend_mom_offset_crosstalk_corrected': None,\n",
       "     'position': 1.5},\n",
       "    {'space': 'windmill-instances',\n",
       "     'external_id': 'sensorposition:21',\n",
       "     'version': 1,\n",
       "     'last_updated_time': datetime.datetime(2023, 12, 25, 7, 47, 50, 40000, tzinfo=TzInfo(UTC)),\n",
       "     'created_time': datetime.datetime(2023, 12, 25, 7, 47, 50, 40000, tzinfo=TzInfo(UTC)),\n",
       "     'deleted_time': None,\n",
       "     'edgewise_bend_mom_crosstalk_corrected': None,\n",
       "     'edgewise_bend_mom_offset': None,\n",
       "     'edgewise_bend_mom_offset_crosstalk_corrected': None,\n",
       "     'edgewisewise_bend_mom': None,\n",
       "     'flapwise_bend_mom': None,\n",
       "     'flapwise_bend_mom_crosstalk_corrected': None,\n",
       "     'flapwise_bend_mom_offset': None,\n",
       "     'flapwise_bend_mom_offset_crosstalk_corrected': None,\n",
       "     'position': 19.6},\n",
       "    {'space': 'windmill-instances',\n",
       "     'external_id': 'sensorposition:22',\n",
       "     'version': 1,\n",
       "     'last_updated_time': datetime.datetime(2023, 12, 25, 7, 47, 50, 40000, tzinfo=TzInfo(UTC)),\n",
       "     'created_time': datetime.datetime(2023, 12, 25, 7, 47, 50, 40000, tzinfo=TzInfo(UTC)),\n",
       "     'deleted_time': None,\n",
       "     'edgewise_bend_mom_crosstalk_corrected': 'V52-WindTurbine.MyB3cr',\n",
       "     'edgewise_bend_mom_offset': None,\n",
       "     'edgewise_bend_mom_offset_crosstalk_corrected': None,\n",
       "     'edgewisewise_bend_mom': 'V52-WindTurbine.MyB3',\n",
       "     'flapwise_bend_mom': 'V52-WindTurbine.MxB3',\n",
       "     'flapwise_bend_mom_crosstalk_corrected': 'V52-WindTurbine.MxB3cr',\n",
       "     'flapwise_bend_mom_offset': None,\n",
       "     'flapwise_bend_mom_offset_crosstalk_corrected': None,\n",
       "     'position': 6.6},\n",
       "    {'space': 'windmill-instances',\n",
       "     'external_id': 'sensorposition:23',\n",
       "     'version': 1,\n",
       "     'last_updated_time': datetime.datetime(2023, 12, 25, 7, 47, 50, 40000, tzinfo=TzInfo(UTC)),\n",
       "     'created_time': datetime.datetime(2023, 12, 25, 7, 47, 50, 40000, tzinfo=TzInfo(UTC)),\n",
       "     'deleted_time': None,\n",
       "     'edgewise_bend_mom_crosstalk_corrected': None,\n",
       "     'edgewise_bend_mom_offset': None,\n",
       "     'edgewise_bend_mom_offset_crosstalk_corrected': None,\n",
       "     'edgewisewise_bend_mom': 'V52-WindTurbine.MyB4',\n",
       "     'flapwise_bend_mom': 'V52-WindTurbine.MxB4',\n",
       "     'flapwise_bend_mom_crosstalk_corrected': None,\n",
       "     'flapwise_bend_mom_offset': None,\n",
       "     'flapwise_bend_mom_offset_crosstalk_corrected': None,\n",
       "     'position': 6.7},\n",
       "    {'space': 'windmill-instances',\n",
       "     'external_id': 'sensorposition:24',\n",
       "     'version': 1,\n",
       "     'last_updated_time': datetime.datetime(2023, 12, 25, 7, 47, 50, 40000, tzinfo=TzInfo(UTC)),\n",
       "     'created_time': datetime.datetime(2023, 12, 25, 7, 47, 50, 40000, tzinfo=TzInfo(UTC)),\n",
       "     'deleted_time': None,\n",
       "     'edgewise_bend_mom_crosstalk_corrected': 'V52-WindTurbine.MyB1cr',\n",
       "     'edgewise_bend_mom_offset': None,\n",
       "     'edgewise_bend_mom_offset_crosstalk_corrected': None,\n",
       "     'edgewisewise_bend_mom': 'V52-WindTurbine.MyB1',\n",
       "     'flapwise_bend_mom': 'V52-WindTurbine.MxB1',\n",
       "     'flapwise_bend_mom_crosstalk_corrected': 'V52-WindTurbine.MxB1cr',\n",
       "     'flapwise_bend_mom_offset': None,\n",
       "     'flapwise_bend_mom_offset_crosstalk_corrected': None,\n",
       "     'position': 1.4}]},\n",
       "  {'space': 'windmill-instances',\n",
       "   'external_id': 'blade:5',\n",
       "   'version': 1,\n",
       "   'last_updated_time': datetime.datetime(2023, 12, 25, 7, 47, 50, 40000, tzinfo=TzInfo(UTC)),\n",
       "   'created_time': datetime.datetime(2023, 12, 25, 7, 47, 50, 40000, tzinfo=TzInfo(UTC)),\n",
       "   'deleted_time': None,\n",
       "   'is_damaged': False,\n",
       "   'name': 'C',\n",
       "   'sensor_positions': [{'space': 'windmill-instances',\n",
       "     'external_id': 'sensorposition:25',\n",
       "     'version': 1,\n",
       "     'last_updated_time': datetime.datetime(2023, 12, 25, 7, 47, 50, 40000, tzinfo=TzInfo(UTC)),\n",
       "     'created_time': datetime.datetime(2023, 12, 25, 7, 47, 50, 40000, tzinfo=TzInfo(UTC)),\n",
       "     'deleted_time': None,\n",
       "     'edgewise_bend_mom_crosstalk_corrected': None,\n",
       "     'edgewise_bend_mom_offset': None,\n",
       "     'edgewise_bend_mom_offset_crosstalk_corrected': None,\n",
       "     'edgewisewise_bend_mom': None,\n",
       "     'flapwise_bend_mom': None,\n",
       "     'flapwise_bend_mom_crosstalk_corrected': None,\n",
       "     'flapwise_bend_mom_offset': None,\n",
       "     'flapwise_bend_mom_offset_crosstalk_corrected': None,\n",
       "     'position': 19.6},\n",
       "    {'space': 'windmill-instances',\n",
       "     'external_id': 'sensorposition:26',\n",
       "     'version': 1,\n",
       "     'last_updated_time': datetime.datetime(2023, 12, 25, 7, 47, 50, 40000, tzinfo=TzInfo(UTC)),\n",
       "     'created_time': datetime.datetime(2023, 12, 25, 7, 47, 50, 40000, tzinfo=TzInfo(UTC)),\n",
       "     'deleted_time': None,\n",
       "     'edgewise_bend_mom_crosstalk_corrected': 'V52-WindTurbine.MyC2cr',\n",
       "     'edgewise_bend_mom_offset': None,\n",
       "     'edgewise_bend_mom_offset_crosstalk_corrected': None,\n",
       "     'edgewisewise_bend_mom': 'V52-WindTurbine.MyC2',\n",
       "     'flapwise_bend_mom': 'V52-WindTurbine.MxC2',\n",
       "     'flapwise_bend_mom_crosstalk_corrected': 'V52-WindTurbine.MxC2cr',\n",
       "     'flapwise_bend_mom_offset': None,\n",
       "     'flapwise_bend_mom_offset_crosstalk_corrected': None,\n",
       "     'position': 1.5},\n",
       "    {'space': 'windmill-instances',\n",
       "     'external_id': 'sensorposition:27',\n",
       "     'version': 1,\n",
       "     'last_updated_time': datetime.datetime(2023, 12, 25, 7, 47, 50, 40000, tzinfo=TzInfo(UTC)),\n",
       "     'created_time': datetime.datetime(2023, 12, 25, 7, 47, 50, 40000, tzinfo=TzInfo(UTC)),\n",
       "     'deleted_time': None,\n",
       "     'edgewise_bend_mom_crosstalk_corrected': None,\n",
       "     'edgewise_bend_mom_offset': None,\n",
       "     'edgewise_bend_mom_offset_crosstalk_corrected': None,\n",
       "     'edgewisewise_bend_mom': None,\n",
       "     'flapwise_bend_mom': None,\n",
       "     'flapwise_bend_mom_crosstalk_corrected': None,\n",
       "     'flapwise_bend_mom_offset': None,\n",
       "     'flapwise_bend_mom_offset_crosstalk_corrected': None,\n",
       "     'position': 13.1},\n",
       "    {'space': 'windmill-instances',\n",
       "     'external_id': 'sensorposition:28',\n",
       "     'version': 1,\n",
       "     'last_updated_time': datetime.datetime(2023, 12, 25, 7, 47, 50, 40000, tzinfo=TzInfo(UTC)),\n",
       "     'created_time': datetime.datetime(2023, 12, 25, 7, 47, 50, 40000, tzinfo=TzInfo(UTC)),\n",
       "     'deleted_time': None,\n",
       "     'edgewise_bend_mom_crosstalk_corrected': 'V52-WindTurbine.MyC4cr',\n",
       "     'edgewise_bend_mom_offset': None,\n",
       "     'edgewise_bend_mom_offset_crosstalk_corrected': None,\n",
       "     'edgewisewise_bend_mom': 'V52-WindTurbine.MyC4',\n",
       "     'flapwise_bend_mom': 'V52-WindTurbine.MxC4',\n",
       "     'flapwise_bend_mom_crosstalk_corrected': 'V52-WindTurbine.MxC4cr',\n",
       "     'flapwise_bend_mom_offset': None,\n",
       "     'flapwise_bend_mom_offset_crosstalk_corrected': None,\n",
       "     'position': 6.7},\n",
       "    {'space': 'windmill-instances',\n",
       "     'external_id': 'sensorposition:29',\n",
       "     'version': 1,\n",
       "     'last_updated_time': datetime.datetime(2023, 12, 25, 7, 47, 50, 40000, tzinfo=TzInfo(UTC)),\n",
       "     'created_time': datetime.datetime(2023, 12, 25, 7, 47, 50, 40000, tzinfo=TzInfo(UTC)),\n",
       "     'deleted_time': None,\n",
       "     'edgewise_bend_mom_crosstalk_corrected': 'V52-WindTurbine.MyC1cr',\n",
       "     'edgewise_bend_mom_offset': None,\n",
       "     'edgewise_bend_mom_offset_crosstalk_corrected': None,\n",
       "     'edgewisewise_bend_mom': 'V52-WindTurbine.MyC1',\n",
       "     'flapwise_bend_mom': 'V52-WindTurbine.MxC1',\n",
       "     'flapwise_bend_mom_crosstalk_corrected': 'V52-WindTurbine.MxC1cr',\n",
       "     'flapwise_bend_mom_offset': None,\n",
       "     'flapwise_bend_mom_offset_crosstalk_corrected': None,\n",
       "     'position': 1.4},\n",
       "    {'space': 'windmill-instances',\n",
       "     'external_id': 'sensorposition:30',\n",
       "     'version': 1,\n",
       "     'last_updated_time': datetime.datetime(2023, 12, 25, 7, 47, 50, 40000, tzinfo=TzInfo(UTC)),\n",
       "     'created_time': datetime.datetime(2023, 12, 25, 7, 47, 50, 40000, tzinfo=TzInfo(UTC)),\n",
       "     'deleted_time': None,\n",
       "     'edgewise_bend_mom_crosstalk_corrected': 'V52-WindTurbine.MyC3cr',\n",
       "     'edgewise_bend_mom_offset': None,\n",
       "     'edgewise_bend_mom_offset_crosstalk_corrected': None,\n",
       "     'edgewisewise_bend_mom': 'V52-WindTurbine.MyC3',\n",
       "     'flapwise_bend_mom': 'V52-WindTurbine.MxC3',\n",
       "     'flapwise_bend_mom_crosstalk_corrected': 'V52-WindTurbine.MxC3cr',\n",
       "     'flapwise_bend_mom_offset': None,\n",
       "     'flapwise_bend_mom_offset_crosstalk_corrected': None,\n",
       "     'position': 6.6}]},\n",
       "  {'space': 'windmill-instances',\n",
       "   'external_id': 'blade:6',\n",
       "   'version': 1,\n",
       "   'last_updated_time': datetime.datetime(2023, 12, 25, 7, 47, 50, 40000, tzinfo=TzInfo(UTC)),\n",
       "   'created_time': datetime.datetime(2023, 12, 25, 7, 47, 50, 40000, tzinfo=TzInfo(UTC)),\n",
       "   'deleted_time': None,\n",
       "   'is_damaged': False,\n",
       "   'name': 'A',\n",
       "   'sensor_positions': [{'space': 'windmill-instances',\n",
       "     'external_id': 'sensorposition:31',\n",
       "     'version': 1,\n",
       "     'last_updated_time': datetime.datetime(2023, 12, 25, 7, 47, 50, 40000, tzinfo=TzInfo(UTC)),\n",
       "     'created_time': datetime.datetime(2023, 12, 25, 7, 47, 50, 40000, tzinfo=TzInfo(UTC)),\n",
       "     'deleted_time': None,\n",
       "     'edgewise_bend_mom_crosstalk_corrected': 'V52-WindTurbine.MyA1cr',\n",
       "     'edgewise_bend_mom_offset': 'V52-WindTurbine.MyA1_O',\n",
       "     'edgewise_bend_mom_offset_crosstalk_corrected': 'V52-WindTurbine.MyA1_Ocr',\n",
       "     'edgewisewise_bend_mom': 'V52-WindTurbine.MyA1',\n",
       "     'flapwise_bend_mom': 'V52-WindTurbine.MxA1',\n",
       "     'flapwise_bend_mom_crosstalk_corrected': 'V52-WindTurbine.MxA1cr',\n",
       "     'flapwise_bend_mom_offset': 'V52-WindTurbine.MxA1_O',\n",
       "     'flapwise_bend_mom_offset_crosstalk_corrected': 'V52-WindTurbine.MxA1_Ocr',\n",
       "     'position': 1.4},\n",
       "    {'space': 'windmill-instances',\n",
       "     'external_id': 'sensorposition:32',\n",
       "     'version': 1,\n",
       "     'last_updated_time': datetime.datetime(2023, 12, 25, 7, 47, 50, 40000, tzinfo=TzInfo(UTC)),\n",
       "     'created_time': datetime.datetime(2023, 12, 25, 7, 47, 50, 40000, tzinfo=TzInfo(UTC)),\n",
       "     'deleted_time': None,\n",
       "     'edgewise_bend_mom_crosstalk_corrected': None,\n",
       "     'edgewise_bend_mom_offset': None,\n",
       "     'edgewise_bend_mom_offset_crosstalk_corrected': None,\n",
       "     'edgewisewise_bend_mom': None,\n",
       "     'flapwise_bend_mom': 'V52-WindTurbine.MxA6',\n",
       "     'flapwise_bend_mom_crosstalk_corrected': None,\n",
       "     'flapwise_bend_mom_offset': None,\n",
       "     'flapwise_bend_mom_offset_crosstalk_corrected': None,\n",
       "     'position': 19.6},\n",
       "    {'space': 'windmill-instances',\n",
       "     'external_id': 'sensorposition:33',\n",
       "     'version': 1,\n",
       "     'last_updated_time': datetime.datetime(2023, 12, 25, 7, 47, 50, 40000, tzinfo=TzInfo(UTC)),\n",
       "     'created_time': datetime.datetime(2023, 12, 25, 7, 47, 50, 40000, tzinfo=TzInfo(UTC)),\n",
       "     'deleted_time': None,\n",
       "     'edgewise_bend_mom_crosstalk_corrected': None,\n",
       "     'edgewise_bend_mom_offset': 'V52-WindTurbine.MyA3_O',\n",
       "     'edgewise_bend_mom_offset_crosstalk_corrected': None,\n",
       "     'edgewisewise_bend_mom': 'V52-WindTurbine.MyA3',\n",
       "     'flapwise_bend_mom': 'V52-WindTurbine.MxA3',\n",
       "     'flapwise_bend_mom_crosstalk_corrected': None,\n",
       "     'flapwise_bend_mom_offset': 'V52-WindTurbine.MxA3_O',\n",
       "     'flapwise_bend_mom_offset_crosstalk_corrected': None,\n",
       "     'position': 6.6},\n",
       "    {'space': 'windmill-instances',\n",
       "     'external_id': 'sensorposition:34',\n",
       "     'version': 1,\n",
       "     'last_updated_time': datetime.datetime(2023, 12, 25, 7, 47, 50, 40000, tzinfo=TzInfo(UTC)),\n",
       "     'created_time': datetime.datetime(2023, 12, 25, 7, 47, 50, 40000, tzinfo=TzInfo(UTC)),\n",
       "     'deleted_time': None,\n",
       "     'edgewise_bend_mom_crosstalk_corrected': 'V52-WindTurbine.MyA2cr',\n",
       "     'edgewise_bend_mom_offset': 'V52-WindTurbine.MyA2_O',\n",
       "     'edgewise_bend_mom_offset_crosstalk_corrected': 'V52-WindTurbine.MyA2_Ocr',\n",
       "     'edgewisewise_bend_mom': 'V52-WindTurbine.MyA2',\n",
       "     'flapwise_bend_mom': 'V52-WindTurbine.MxA2',\n",
       "     'flapwise_bend_mom_crosstalk_corrected': 'V52-WindTurbine.MxA2cr',\n",
       "     'flapwise_bend_mom_offset': 'V52-WindTurbine.MxA2_O',\n",
       "     'flapwise_bend_mom_offset_crosstalk_corrected': 'V52-WindTurbine.MxA2_Ocr',\n",
       "     'position': 1.5},\n",
       "    {'space': 'windmill-instances',\n",
       "     'external_id': 'sensorposition:35',\n",
       "     'version': 1,\n",
       "     'last_updated_time': datetime.datetime(2023, 12, 25, 7, 47, 50, 40000, tzinfo=TzInfo(UTC)),\n",
       "     'created_time': datetime.datetime(2023, 12, 25, 7, 47, 50, 40000, tzinfo=TzInfo(UTC)),\n",
       "     'deleted_time': None,\n",
       "     'edgewise_bend_mom_crosstalk_corrected': 'V52-WindTurbine.MyA4cr',\n",
       "     'edgewise_bend_mom_offset': 'V52-WindTurbine.MyA4_O',\n",
       "     'edgewise_bend_mom_offset_crosstalk_corrected': 'V52-WindTurbine.MyA4_Ocr',\n",
       "     'edgewisewise_bend_mom': 'V52-WindTurbine.MyA4',\n",
       "     'flapwise_bend_mom': 'V52-WindTurbine.MxA4',\n",
       "     'flapwise_bend_mom_crosstalk_corrected': 'V52-WindTurbine.MxA4cr',\n",
       "     'flapwise_bend_mom_offset': 'V52-WindTurbine.MxA4_O',\n",
       "     'flapwise_bend_mom_offset_crosstalk_corrected': 'V52-WindTurbine.MxA4_Ocr',\n",
       "     'position': 6.7},\n",
       "    {'space': 'windmill-instances',\n",
       "     'external_id': 'sensorposition:36',\n",
       "     'version': 1,\n",
       "     'last_updated_time': datetime.datetime(2023, 12, 25, 7, 47, 50, 40000, tzinfo=TzInfo(UTC)),\n",
       "     'created_time': datetime.datetime(2023, 12, 25, 7, 47, 50, 40000, tzinfo=TzInfo(UTC)),\n",
       "     'deleted_time': None,\n",
       "     'edgewise_bend_mom_crosstalk_corrected': None,\n",
       "     'edgewise_bend_mom_offset': None,\n",
       "     'edgewise_bend_mom_offset_crosstalk_corrected': None,\n",
       "     'edgewisewise_bend_mom': None,\n",
       "     'flapwise_bend_mom': 'V52-WindTurbine.MxA5',\n",
       "     'flapwise_bend_mom_crosstalk_corrected': None,\n",
       "     'flapwise_bend_mom_offset': None,\n",
       "     'flapwise_bend_mom_offset_crosstalk_corrected': None,\n",
       "     'position': 13.1}]}],\n",
       " 'capacity': 7.0,\n",
       " 'metmast': None,\n",
       " 'nacelle': 'nacelle:2',\n",
       " 'name': 'hornsea_1_mill_2',\n",
       " 'rotor': 'rotor:2',\n",
       " 'windfarm': 'Hornsea 1'}"
      ]
     },
     "execution_count": 18,
     "metadata": {},
     "output_type": "execute_result"
    }
   ],
   "source": [
    "windmills_at_hornsea_with_blades_and_sensors[1].model_dump()"
   ]
  },
  {
   "cell_type": "markdown",
   "id": "2a186cb0-60a1-412c-8f81-a30aa0cf8931",
   "metadata": {
    "editable": true,
    "slideshow": {
     "slide_type": ""
    },
    "tags": []
   },
   "source": [
    "Notice that when we query we can easily get very large structures. So we should always use query with filtering options to only query the specific part of the data you have an interesst. "
   ]
  },
  {
   "cell_type": "markdown",
   "id": "052be635-44ae-4bf3-aede-54c40e26b4f5",
   "metadata": {
    "editable": true,
    "slideshow": {
     "slide_type": ""
    },
    "tags": []
   },
   "source": [
    "## Querying with Direct Relations"
   ]
  },
  {
   "cell_type": "markdown",
   "id": "d1c05070-443e-4203-a6e7-4a96265a2418",
   "metadata": {
    "editable": true,
    "slideshow": {
     "slide_type": ""
    },
    "tags": []
   },
   "source": [
    "We can include the direct relations by specifing them on the `.query()` call"
   ]
  },
  {
   "cell_type": "code",
   "execution_count": 19,
   "id": "6cf32be2-c857-4566-aa4d-291d03b19085",
   "metadata": {
    "editable": true,
    "slideshow": {
     "slide_type": ""
    },
    "tags": []
   },
   "outputs": [],
   "source": [
    "windmills = client.windmill(limit=2).query(retrieve_nacelle=True, retrieve_rotor=True)"
   ]
  },
  {
   "cell_type": "code",
   "execution_count": 21,
   "id": "441a89f9-401d-4a5a-89c7-ae0c8d3f700a",
   "metadata": {
    "editable": true,
    "slideshow": {
     "slide_type": ""
    },
    "tags": []
   },
   "outputs": [
    {
     "data": {
      "text/html": [
       "<div>\n",
       "<style scoped>\n",
       "    .dataframe tbody tr th:only-of-type {\n",
       "        vertical-align: middle;\n",
       "    }\n",
       "\n",
       "    .dataframe tbody tr th {\n",
       "        vertical-align: top;\n",
       "    }\n",
       "\n",
       "    .dataframe thead th {\n",
       "        text-align: right;\n",
       "    }\n",
       "</style>\n",
       "<table border=\"1\" class=\"dataframe\">\n",
       "  <thead>\n",
       "    <tr style=\"text-align: right;\">\n",
       "      <th></th>\n",
       "      <th>value</th>\n",
       "    </tr>\n",
       "  </thead>\n",
       "  <tbody>\n",
       "    <tr>\n",
       "      <th>external_id</th>\n",
       "      <td>nacelle:1</td>\n",
       "    </tr>\n",
       "    <tr>\n",
       "      <th>acc_from_back_side_x</th>\n",
       "      <td>V52-WindTurbine.Acc1N</td>\n",
       "    </tr>\n",
       "    <tr>\n",
       "      <th>acc_from_back_side_y</th>\n",
       "      <td>V52-WindTurbine.Acc2N</td>\n",
       "    </tr>\n",
       "    <tr>\n",
       "      <th>acc_from_back_side_z</th>\n",
       "      <td>V52-WindTurbine.Acc3N</td>\n",
       "    </tr>\n",
       "    <tr>\n",
       "      <th>gearbox</th>\n",
       "      <td>gearbox:1</td>\n",
       "    </tr>\n",
       "    <tr>\n",
       "      <th>generator</th>\n",
       "      <td>generator:1</td>\n",
       "    </tr>\n",
       "    <tr>\n",
       "      <th>high_speed_shaft</th>\n",
       "      <td>highspeedshaft:1</td>\n",
       "    </tr>\n",
       "    <tr>\n",
       "      <th>main_shaft</th>\n",
       "      <td>mainshaft:1</td>\n",
       "    </tr>\n",
       "    <tr>\n",
       "      <th>power_inverter</th>\n",
       "      <td>powerinverter:1</td>\n",
       "    </tr>\n",
       "    <tr>\n",
       "      <th>yaw_direction</th>\n",
       "      <td>V52-WindTurbine.yaw</td>\n",
       "    </tr>\n",
       "    <tr>\n",
       "      <th>yaw_error</th>\n",
       "      <td>V52-WindTurbine.YawErr</td>\n",
       "    </tr>\n",
       "  </tbody>\n",
       "</table>\n",
       "</div>"
      ],
      "text/plain": [
       "Nacelle(space='windmill-instances', external_id='nacelle:1', version=2, last_updated_time=datetime.datetime(2023, 12, 25, 7, 47, 50, 40000, tzinfo=TzInfo(UTC)), created_time=datetime.datetime(2023, 12, 25, 7, 47, 50, 40000, tzinfo=TzInfo(UTC)), deleted_time=None, acc_from_back_side_x='V52-WindTurbine.Acc1N', acc_from_back_side_y='V52-WindTurbine.Acc2N', acc_from_back_side_z='V52-WindTurbine.Acc3N', yaw_direction='V52-WindTurbine.yaw', yaw_error='V52-WindTurbine.YawErr')"
      ]
     },
     "execution_count": 21,
     "metadata": {},
     "output_type": "execute_result"
    }
   ],
   "source": [
    "windmills[0].nacelle"
   ]
  },
  {
   "cell_type": "code",
   "execution_count": null,
   "id": "6aa9cb76-7317-47fa-8708-3bec70b857da",
   "metadata": {
    "editable": true,
    "slideshow": {
     "slide_type": ""
    },
    "tags": []
   },
   "outputs": [],
   "source": []
  },
  {
   "cell_type": "markdown",
   "id": "d3357b72-8c1c-48f6-88ad-e7b8ef8b5626",
   "metadata": {
    "editable": true,
    "slideshow": {
     "slide_type": ""
    },
    "tags": []
   },
   "source": [
    "Next section: [Creating and Deleting](creating_deleting.html)"
   ]
  }
 ],
 "metadata": {
  "kernelspec": {
   "display_name": "Python 3 (ipykernel)",
   "language": "python",
   "name": "python3"
  },
  "language_info": {
   "codemirror_mode": {
    "name": "ipython",
    "version": 3
   },
   "file_extension": ".py",
   "mimetype": "text/x-python",
   "name": "python",
   "nbconvert_exporter": "python",
   "pygments_lexer": "ipython3",
   "version": "3.9.13"
  }
 },
 "nbformat": 4,
 "nbformat_minor": 5
}
