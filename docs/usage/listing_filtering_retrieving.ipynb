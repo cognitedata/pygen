{
 "cells": [
  {
   "cell_type": "markdown",
   "id": "b1cb328f-b364-4ff2-b7a9-1d8c204ef4c8",
   "metadata": {
    "editable": true,
    "slideshow": {
     "slide_type": ""
    },
    "tags": []
   },
   "source": [
    "# Listing, Retrieving, and Filtering\n",
    "\n",
    "We assume that you have [generated a SDK](generation.html) for the `Windmill` model and have a client ready to go."
   ]
  },
  {
   "attachments": {},
   "cell_type": "markdown",
   "id": "2e5c1449-49df-410f-bc3a-82ac58c27a1a",
   "metadata": {
    "editable": true,
    "slideshow": {
     "slide_type": ""
    },
    "tags": []
   },
   "source": [
    "<img src=\"images/windmill_expanded.png\" width=\"400\">"
   ]
  },
  {
   "cell_type": "code",
   "execution_count": 1,
   "id": "8b26431a-4154-4b3d-83a7-9c4e598bbc3b",
   "metadata": {
    "editable": true,
    "slideshow": {
     "slide_type": ""
    },
    "tags": [
     "hide"
    ]
   },
   "outputs": [],
   "source": [
    "import warnings\n",
    "warnings.filterwarnings('ignore')\n",
    "# This is just to enable improting the generated SDK from the examples folder in the pygen repository\n",
    "import sys\n",
    "from tests.constants import REPO_ROOT\n",
    "sys.path.append(str(REPO_ROOT / \"examples\" ))"
   ]
  },
  {
   "cell_type": "code",
   "execution_count": 2,
   "id": "11d4e442-1b96-474d-8f3c-4b545a6184d2",
   "metadata": {
    "editable": true,
    "pycharm": {
     "is_executing": true
    },
    "slideshow": {
     "slide_type": ""
    },
    "tags": []
   },
   "outputs": [],
   "source": [
    "from windmill import WindmillClient"
   ]
  },
  {
   "cell_type": "code",
   "execution_count": 3,
   "id": "285087cd-0d9c-45b1-a845-b469c2959dd2",
   "metadata": {
    "editable": true,
    "slideshow": {
     "slide_type": ""
    },
    "tags": []
   },
   "outputs": [],
   "source": [
    "client = WindmillClient.from_toml(\"config.toml\")"
   ]
  },
  {
   "cell_type": "markdown",
   "id": "1025f6b8-06fc-4b2f-afdb-ffc6adb27b5e",
   "metadata": {
    "editable": true,
    "slideshow": {
     "slide_type": ""
    },
    "tags": []
   },
   "source": [
    "## Reading Instances: List and Retrieve"
   ]
  },
  {
   "cell_type": "markdown",
   "id": "30e33ee7-50be-4bb5-b21e-9c04ef87eb75",
   "metadata": {
    "editable": true,
    "slideshow": {
     "slide_type": ""
    },
    "tags": []
   },
   "source": [
    "Lets list the available windmills: "
   ]
  },
  {
   "cell_type": "code",
   "execution_count": 4,
   "id": "8abf2713-13c3-4eb4-930b-e0445e13050c",
   "metadata": {},
   "outputs": [
    {
     "data": {
      "text/html": [
       "<div>\n",
       "<style scoped>\n",
       "    .dataframe tbody tr th:only-of-type {\n",
       "        vertical-align: middle;\n",
       "    }\n",
       "\n",
       "    .dataframe tbody tr th {\n",
       "        vertical-align: top;\n",
       "    }\n",
       "\n",
       "    .dataframe thead th {\n",
       "        text-align: right;\n",
       "    }\n",
       "</style>\n",
       "<table border=\"1\" class=\"dataframe\">\n",
       "  <thead>\n",
       "    <tr style=\"text-align: right;\">\n",
       "      <th></th>\n",
       "      <th>external_id</th>\n",
       "      <th>external_id</th>\n",
       "      <th>node_type</th>\n",
       "      <th>blades</th>\n",
       "      <th>capacity</th>\n",
       "      <th>metmast</th>\n",
       "      <th>nacelle</th>\n",
       "      <th>name</th>\n",
       "      <th>rotor</th>\n",
       "      <th>windfarm</th>\n",
       "    </tr>\n",
       "  </thead>\n",
       "  <tbody>\n",
       "    <tr>\n",
       "      <th>0</th>\n",
       "      <td>hornsea_1_mill_3</td>\n",
       "      <td>hornsea_1_mill_3</td>\n",
       "      <td>None</td>\n",
       "      <td>[blade:1, blade:2, blade:3]</td>\n",
       "      <td>7.0</td>\n",
       "      <td>None</td>\n",
       "      <td>nacelle:1</td>\n",
       "      <td>hornsea_1_mill_3</td>\n",
       "      <td>rotor:1</td>\n",
       "      <td>Hornsea 1</td>\n",
       "    </tr>\n",
       "    <tr>\n",
       "      <th>1</th>\n",
       "      <td>hornsea_1_mill_2</td>\n",
       "      <td>hornsea_1_mill_2</td>\n",
       "      <td>None</td>\n",
       "      <td>[blade:4, blade:5, blade:6]</td>\n",
       "      <td>7.0</td>\n",
       "      <td>None</td>\n",
       "      <td>nacelle:2</td>\n",
       "      <td>hornsea_1_mill_2</td>\n",
       "      <td>rotor:2</td>\n",
       "      <td>Hornsea 1</td>\n",
       "    </tr>\n",
       "    <tr>\n",
       "      <th>2</th>\n",
       "      <td>hornsea_1_mill_1</td>\n",
       "      <td>hornsea_1_mill_1</td>\n",
       "      <td>None</td>\n",
       "      <td>[blade:7, blade:8, blade:9]</td>\n",
       "      <td>7.0</td>\n",
       "      <td>None</td>\n",
       "      <td>nacelle:3</td>\n",
       "      <td>hornsea_1_mill_1</td>\n",
       "      <td>rotor:3</td>\n",
       "      <td>Hornsea 1</td>\n",
       "    </tr>\n",
       "    <tr>\n",
       "      <th>3</th>\n",
       "      <td>hornsea_1_mill_4</td>\n",
       "      <td>hornsea_1_mill_4</td>\n",
       "      <td>None</td>\n",
       "      <td>[blade:10, blade:11, blade:12]</td>\n",
       "      <td>7.0</td>\n",
       "      <td>None</td>\n",
       "      <td>nacelle:4</td>\n",
       "      <td>hornsea_1_mill_4</td>\n",
       "      <td>rotor:4</td>\n",
       "      <td>Hornsea 1</td>\n",
       "    </tr>\n",
       "    <tr>\n",
       "      <th>4</th>\n",
       "      <td>hornsea_1_mill_5</td>\n",
       "      <td>hornsea_1_mill_5</td>\n",
       "      <td>None</td>\n",
       "      <td>[blade:13, blade:14, blade:15]</td>\n",
       "      <td>7.0</td>\n",
       "      <td>None</td>\n",
       "      <td>nacelle:5</td>\n",
       "      <td>hornsea_1_mill_5</td>\n",
       "      <td>rotor:5</td>\n",
       "      <td>Hornsea 1</td>\n",
       "    </tr>\n",
       "  </tbody>\n",
       "</table>\n",
       "</div>"
      ],
      "text/plain": [
       "WindmillList([Windmill(space='windmill-instances', external_id='hornsea_1_mill_3', data_record=DataRecord(version=1, last_updated_time=datetime.datetime(2023, 12, 25, 7, 47, 50, 40000, tzinfo=TzInfo(UTC)), created_time=datetime.datetime(2023, 12, 25, 7, 47, 50, 40000, tzinfo=TzInfo(UTC)), deleted_time=None), node_type=None, capacity=7.0, name='hornsea_1_mill_3', windfarm='Hornsea 1'),\n",
       "              Windmill(space='windmill-instances', external_id='hornsea_1_mill_2', data_record=DataRecord(version=1, last_updated_time=datetime.datetime(2023, 12, 25, 7, 47, 50, 40000, tzinfo=TzInfo(UTC)), created_time=datetime.datetime(2023, 12, 25, 7, 47, 50, 40000, tzinfo=TzInfo(UTC)), deleted_time=None), node_type=None, capacity=7.0, name='hornsea_1_mill_2', windfarm='Hornsea 1'),\n",
       "              Windmill(space='windmill-instances', external_id='hornsea_1_mill_1', data_record=DataRecord(version=1, last_updated_time=datetime.datetime(2023, 12, 25, 7, 47, 50, 40000, tzinfo=TzInfo(UTC)), created_time=datetime.datetime(2023, 12, 25, 7, 47, 50, 40000, tzinfo=TzInfo(UTC)), deleted_time=None), node_type=None, capacity=7.0, name='hornsea_1_mill_1', windfarm='Hornsea 1'),\n",
       "              Windmill(space='windmill-instances', external_id='hornsea_1_mill_4', data_record=DataRecord(version=1, last_updated_time=datetime.datetime(2023, 12, 25, 7, 47, 50, 40000, tzinfo=TzInfo(UTC)), created_time=datetime.datetime(2023, 12, 25, 7, 47, 50, 40000, tzinfo=TzInfo(UTC)), deleted_time=None), node_type=None, capacity=7.0, name='hornsea_1_mill_4', windfarm='Hornsea 1'),\n",
       "              Windmill(space='windmill-instances', external_id='hornsea_1_mill_5', data_record=DataRecord(version=1, last_updated_time=datetime.datetime(2023, 12, 25, 7, 47, 50, 40000, tzinfo=TzInfo(UTC)), created_time=datetime.datetime(2023, 12, 25, 7, 47, 50, 40000, tzinfo=TzInfo(UTC)), deleted_time=None), node_type=None, capacity=7.0, name='hornsea_1_mill_5', windfarm='Hornsea 1')])"
      ]
     },
     "execution_count": 4,
     "metadata": {},
     "output_type": "execute_result"
    }
   ],
   "source": [
    "windmills = client.windmill.list()\n",
    "windmills"
   ]
  },
  {
   "cell_type": "markdown",
   "id": "5f570610-9963-4500-ae90-9d49f3dd0c0f",
   "metadata": {},
   "source": [
    "The windmill view has edges to Blades and Metmast. When we do a `list` or `retrieve` call on the `client.windmill`, edges are automatically added with the external ID to the end node.\n",
    "\n",
    "```\n",
    "type Windmill {\r\n",
    "  name: String\r\n",
    "  windfarm: String\r\n",
    "  capacity: Float\r\n",
    "  rotor: Rotor\r\n",
    "  nacelle: Nacelle\r\n",
    "  blades: [Blade]\r\n",
    "  metmast: [Metmast]\r\n",
    "}\n",
    "```\n",
    "\n",
    "This means that we easily can use those external ids to retrieve for example a s`blade`director:"
   ]
  },
  {
   "cell_type": "code",
   "execution_count": 5,
   "id": "f3a6ad26-8e6c-440b-a9f0-5d67fb0a768d",
   "metadata": {},
   "outputs": [
    {
     "data": {
      "text/html": [
       "<div>\n",
       "<style scoped>\n",
       "    .dataframe tbody tr th:only-of-type {\n",
       "        vertical-align: middle;\n",
       "    }\n",
       "\n",
       "    .dataframe tbody tr th {\n",
       "        vertical-align: top;\n",
       "    }\n",
       "\n",
       "    .dataframe thead th {\n",
       "        text-align: right;\n",
       "    }\n",
       "</style>\n",
       "<table border=\"1\" class=\"dataframe\">\n",
       "  <thead>\n",
       "    <tr style=\"text-align: right;\">\n",
       "      <th></th>\n",
       "      <th>value</th>\n",
       "    </tr>\n",
       "  </thead>\n",
       "  <tbody>\n",
       "    <tr>\n",
       "      <th>space</th>\n",
       "      <td>windmill-instances</td>\n",
       "    </tr>\n",
       "    <tr>\n",
       "      <th>external_id</th>\n",
       "      <td>hornsea_1_mill_3</td>\n",
       "    </tr>\n",
       "    <tr>\n",
       "      <th>data_record</th>\n",
       "      <td>{'version': 1, 'last_updated_time': 2023-12-25...</td>\n",
       "    </tr>\n",
       "    <tr>\n",
       "      <th>node_type</th>\n",
       "      <td>None</td>\n",
       "    </tr>\n",
       "    <tr>\n",
       "      <th>blades</th>\n",
       "      <td>[blade:1, blade:2, blade:3]</td>\n",
       "    </tr>\n",
       "    <tr>\n",
       "      <th>capacity</th>\n",
       "      <td>7.0</td>\n",
       "    </tr>\n",
       "    <tr>\n",
       "      <th>metmast</th>\n",
       "      <td>None</td>\n",
       "    </tr>\n",
       "    <tr>\n",
       "      <th>nacelle</th>\n",
       "      <td>nacelle:1</td>\n",
       "    </tr>\n",
       "    <tr>\n",
       "      <th>name</th>\n",
       "      <td>hornsea_1_mill_3</td>\n",
       "    </tr>\n",
       "    <tr>\n",
       "      <th>rotor</th>\n",
       "      <td>rotor:1</td>\n",
       "    </tr>\n",
       "    <tr>\n",
       "      <th>windfarm</th>\n",
       "      <td>Hornsea 1</td>\n",
       "    </tr>\n",
       "  </tbody>\n",
       "</table>\n",
       "</div>"
      ],
      "text/plain": [
       "Windmill(space='windmill-instances', external_id='hornsea_1_mill_3', data_record=DataRecord(version=1, last_updated_time=datetime.datetime(2023, 12, 25, 7, 47, 50, 40000, tzinfo=TzInfo(UTC)), created_time=datetime.datetime(2023, 12, 25, 7, 47, 50, 40000, tzinfo=TzInfo(UTC)), deleted_time=None), node_type=None, capacity=7.0, name='hornsea_1_mill_3', windfarm='Hornsea 1')"
      ]
     },
     "execution_count": 5,
     "metadata": {},
     "output_type": "execute_result"
    }
   ],
   "source": [
    "windmill3 = windmills[0]\n",
    "windmill3"
   ]
  },
  {
   "cell_type": "code",
   "execution_count": 6,
   "id": "33fed55e-3913-43db-8e12-4c6a1bf4cb68",
   "metadata": {},
   "outputs": [],
   "source": [
    "blade1 = client.blade.retrieve(external_id=\"blade:1\")"
   ]
  },
  {
   "cell_type": "code",
   "execution_count": 7,
   "id": "077753c4-2e7f-4392-a518-ba990eb3c7f8",
   "metadata": {},
   "outputs": [
    {
     "data": {
      "text/html": [
       "<div>\n",
       "<style scoped>\n",
       "    .dataframe tbody tr th:only-of-type {\n",
       "        vertical-align: middle;\n",
       "    }\n",
       "\n",
       "    .dataframe tbody tr th {\n",
       "        vertical-align: top;\n",
       "    }\n",
       "\n",
       "    .dataframe thead th {\n",
       "        text-align: right;\n",
       "    }\n",
       "</style>\n",
       "<table border=\"1\" class=\"dataframe\">\n",
       "  <thead>\n",
       "    <tr style=\"text-align: right;\">\n",
       "      <th></th>\n",
       "      <th>value</th>\n",
       "    </tr>\n",
       "  </thead>\n",
       "  <tbody>\n",
       "    <tr>\n",
       "      <th>space</th>\n",
       "      <td>windmill-instances</td>\n",
       "    </tr>\n",
       "    <tr>\n",
       "      <th>external_id</th>\n",
       "      <td>blade:1</td>\n",
       "    </tr>\n",
       "    <tr>\n",
       "      <th>data_record</th>\n",
       "      <td>{'version': 1, 'last_updated_time': 2023-12-25...</td>\n",
       "    </tr>\n",
       "    <tr>\n",
       "      <th>node_type</th>\n",
       "      <td>None</td>\n",
       "    </tr>\n",
       "    <tr>\n",
       "      <th>is_damaged</th>\n",
       "      <td>False</td>\n",
       "    </tr>\n",
       "    <tr>\n",
       "      <th>name</th>\n",
       "      <td>A</td>\n",
       "    </tr>\n",
       "    <tr>\n",
       "      <th>sensor_positions</th>\n",
       "      <td>[sensorposition:1, sensorposition:2, sensorpos...</td>\n",
       "    </tr>\n",
       "  </tbody>\n",
       "</table>\n",
       "</div>"
      ],
      "text/plain": [
       "Blade(space='windmill-instances', external_id='blade:1', data_record=DataRecord(version=1, last_updated_time=datetime.datetime(2023, 12, 25, 7, 47, 50, 40000, tzinfo=TzInfo(UTC)), created_time=datetime.datetime(2023, 12, 25, 7, 47, 50, 40000, tzinfo=TzInfo(UTC)), deleted_time=None), node_type=None, is_damaged=False, name='A')"
      ]
     },
     "execution_count": 7,
     "metadata": {},
     "output_type": "execute_result"
    }
   ],
   "source": [
    "blade1"
   ]
  },
  {
   "cell_type": "markdown",
   "id": "25317678-b4b3-4509-9a21-6e5ecbe81210",
   "metadata": {},
   "source": [
    "If we want to avoid retrieving the edges when doing `.list` call we can set the parameter `retrieve_edges` to false "
   ]
  },
  {
   "cell_type": "code",
   "execution_count": 8,
   "id": "0a28c9b6-f32c-41b0-bdc8-248722182628",
   "metadata": {},
   "outputs": [
    {
     "data": {
      "text/html": [
       "<div>\n",
       "<style scoped>\n",
       "    .dataframe tbody tr th:only-of-type {\n",
       "        vertical-align: middle;\n",
       "    }\n",
       "\n",
       "    .dataframe tbody tr th {\n",
       "        vertical-align: top;\n",
       "    }\n",
       "\n",
       "    .dataframe thead th {\n",
       "        text-align: right;\n",
       "    }\n",
       "</style>\n",
       "<table border=\"1\" class=\"dataframe\">\n",
       "  <thead>\n",
       "    <tr style=\"text-align: right;\">\n",
       "      <th></th>\n",
       "      <th>external_id</th>\n",
       "      <th>external_id</th>\n",
       "      <th>node_type</th>\n",
       "      <th>blades</th>\n",
       "      <th>capacity</th>\n",
       "      <th>metmast</th>\n",
       "      <th>nacelle</th>\n",
       "      <th>name</th>\n",
       "      <th>rotor</th>\n",
       "      <th>windfarm</th>\n",
       "    </tr>\n",
       "  </thead>\n",
       "  <tbody>\n",
       "    <tr>\n",
       "      <th>0</th>\n",
       "      <td>hornsea_1_mill_3</td>\n",
       "      <td>hornsea_1_mill_3</td>\n",
       "      <td>None</td>\n",
       "      <td>None</td>\n",
       "      <td>7.0</td>\n",
       "      <td>None</td>\n",
       "      <td>nacelle:1</td>\n",
       "      <td>hornsea_1_mill_3</td>\n",
       "      <td>rotor:1</td>\n",
       "      <td>Hornsea 1</td>\n",
       "    </tr>\n",
       "    <tr>\n",
       "      <th>1</th>\n",
       "      <td>hornsea_1_mill_2</td>\n",
       "      <td>hornsea_1_mill_2</td>\n",
       "      <td>None</td>\n",
       "      <td>None</td>\n",
       "      <td>7.0</td>\n",
       "      <td>None</td>\n",
       "      <td>nacelle:2</td>\n",
       "      <td>hornsea_1_mill_2</td>\n",
       "      <td>rotor:2</td>\n",
       "      <td>Hornsea 1</td>\n",
       "    </tr>\n",
       "    <tr>\n",
       "      <th>2</th>\n",
       "      <td>hornsea_1_mill_1</td>\n",
       "      <td>hornsea_1_mill_1</td>\n",
       "      <td>None</td>\n",
       "      <td>None</td>\n",
       "      <td>7.0</td>\n",
       "      <td>None</td>\n",
       "      <td>nacelle:3</td>\n",
       "      <td>hornsea_1_mill_1</td>\n",
       "      <td>rotor:3</td>\n",
       "      <td>Hornsea 1</td>\n",
       "    </tr>\n",
       "    <tr>\n",
       "      <th>3</th>\n",
       "      <td>hornsea_1_mill_4</td>\n",
       "      <td>hornsea_1_mill_4</td>\n",
       "      <td>None</td>\n",
       "      <td>None</td>\n",
       "      <td>7.0</td>\n",
       "      <td>None</td>\n",
       "      <td>nacelle:4</td>\n",
       "      <td>hornsea_1_mill_4</td>\n",
       "      <td>rotor:4</td>\n",
       "      <td>Hornsea 1</td>\n",
       "    </tr>\n",
       "    <tr>\n",
       "      <th>4</th>\n",
       "      <td>hornsea_1_mill_5</td>\n",
       "      <td>hornsea_1_mill_5</td>\n",
       "      <td>None</td>\n",
       "      <td>None</td>\n",
       "      <td>7.0</td>\n",
       "      <td>None</td>\n",
       "      <td>nacelle:5</td>\n",
       "      <td>hornsea_1_mill_5</td>\n",
       "      <td>rotor:5</td>\n",
       "      <td>Hornsea 1</td>\n",
       "    </tr>\n",
       "  </tbody>\n",
       "</table>\n",
       "</div>"
      ],
      "text/plain": [
       "WindmillList([Windmill(space='windmill-instances', external_id='hornsea_1_mill_3', data_record=DataRecord(version=1, last_updated_time=datetime.datetime(2023, 12, 25, 7, 47, 50, 40000, tzinfo=TzInfo(UTC)), created_time=datetime.datetime(2023, 12, 25, 7, 47, 50, 40000, tzinfo=TzInfo(UTC)), deleted_time=None), node_type=None, capacity=7.0, name='hornsea_1_mill_3', windfarm='Hornsea 1'),\n",
       "              Windmill(space='windmill-instances', external_id='hornsea_1_mill_2', data_record=DataRecord(version=1, last_updated_time=datetime.datetime(2023, 12, 25, 7, 47, 50, 40000, tzinfo=TzInfo(UTC)), created_time=datetime.datetime(2023, 12, 25, 7, 47, 50, 40000, tzinfo=TzInfo(UTC)), deleted_time=None), node_type=None, capacity=7.0, name='hornsea_1_mill_2', windfarm='Hornsea 1'),\n",
       "              Windmill(space='windmill-instances', external_id='hornsea_1_mill_1', data_record=DataRecord(version=1, last_updated_time=datetime.datetime(2023, 12, 25, 7, 47, 50, 40000, tzinfo=TzInfo(UTC)), created_time=datetime.datetime(2023, 12, 25, 7, 47, 50, 40000, tzinfo=TzInfo(UTC)), deleted_time=None), node_type=None, capacity=7.0, name='hornsea_1_mill_1', windfarm='Hornsea 1'),\n",
       "              Windmill(space='windmill-instances', external_id='hornsea_1_mill_4', data_record=DataRecord(version=1, last_updated_time=datetime.datetime(2023, 12, 25, 7, 47, 50, 40000, tzinfo=TzInfo(UTC)), created_time=datetime.datetime(2023, 12, 25, 7, 47, 50, 40000, tzinfo=TzInfo(UTC)), deleted_time=None), node_type=None, capacity=7.0, name='hornsea_1_mill_4', windfarm='Hornsea 1'),\n",
       "              Windmill(space='windmill-instances', external_id='hornsea_1_mill_5', data_record=DataRecord(version=1, last_updated_time=datetime.datetime(2023, 12, 25, 7, 47, 50, 40000, tzinfo=TzInfo(UTC)), created_time=datetime.datetime(2023, 12, 25, 7, 47, 50, 40000, tzinfo=TzInfo(UTC)), deleted_time=None), node_type=None, capacity=7.0, name='hornsea_1_mill_5', windfarm='Hornsea 1')])"
      ]
     },
     "execution_count": 8,
     "metadata": {},
     "output_type": "execute_result"
    }
   ],
   "source": [
    "client.windmill.list(retrieve_edges=False)"
   ]
  },
  {
   "cell_type": "markdown",
   "id": "6f0f9d4e-9d87-4cbf-aa7d-004bd7574e87",
   "metadata": {},
   "source": [
    "### To dictionary and JSON"
   ]
  },
  {
   "cell_type": "markdown",
   "id": "2f154ff5-5355-45de-b78c-61755a396e9e",
   "metadata": {},
   "source": [
    "Note that all the data classes returned by the API is `pydantic` data classes. That means that methods such as `.model_dump()` and `.model_dump_json()` are readaliy available, or `.dict()` and `.json()` if you use `pydantic` v1. "
   ]
  },
  {
   "cell_type": "code",
   "execution_count": 9,
   "id": "49fe5fee-ff65-43a5-82bb-c79b76adfa65",
   "metadata": {},
   "outputs": [],
   "source": [
    "windmill = client.windmill.retrieve(\"hornsea_1_mill_4\")"
   ]
  },
  {
   "cell_type": "code",
   "execution_count": 10,
   "id": "3780b8ed-a37f-4eaf-bf33-f685127f85d7",
   "metadata": {},
   "outputs": [
    {
     "data": {
      "text/plain": [
       "{'space': 'windmill-instances',\n",
       " 'external_id': 'hornsea_1_mill_4',\n",
       " 'data_record': {'version': 1,\n",
       "  'last_updated_time': datetime.datetime(2023, 12, 25, 7, 47, 50, 40000, tzinfo=TzInfo(UTC)),\n",
       "  'created_time': datetime.datetime(2023, 12, 25, 7, 47, 50, 40000, tzinfo=TzInfo(UTC)),\n",
       "  'deleted_time': None},\n",
       " 'node_type': None,\n",
       " 'blades': ['blade:10', 'blade:11', 'blade:12'],\n",
       " 'capacity': 7.0,\n",
       " 'metmast': None,\n",
       " 'nacelle': 'nacelle:4',\n",
       " 'name': 'hornsea_1_mill_4',\n",
       " 'rotor': 'rotor:4',\n",
       " 'windfarm': 'Hornsea 1'}"
      ]
     },
     "execution_count": 10,
     "metadata": {},
     "output_type": "execute_result"
    }
   ],
   "source": [
    "windmill.model_dump()"
   ]
  },
  {
   "cell_type": "code",
   "execution_count": 11,
   "id": "c0f07720-d211-4008-936e-c69284a34a92",
   "metadata": {},
   "outputs": [
    {
     "data": {
      "text/plain": [
       "'{\"space\":\"windmill-instances\",\"external_id\":\"hornsea_1_mill_4\",\"data_record\":{\"version\":1,\"last_updated_time\":\"2023-12-25T07:47:50.040000Z\",\"created_time\":\"2023-12-25T07:47:50.040000Z\",\"deleted_time\":null},\"node_type\":null,\"blades\":[\"blade:10\",\"blade:11\",\"blade:12\"],\"capacity\":7.0,\"metmast\":null,\"nacelle\":\"nacelle:4\",\"name\":\"hornsea_1_mill_4\",\"rotor\":\"rotor:4\",\"windfarm\":\"Hornsea 1\"}'"
      ]
     },
     "execution_count": 11,
     "metadata": {},
     "output_type": "execute_result"
    }
   ],
   "source": [
    "windmill.model_dump_json()"
   ]
  },
  {
   "cell_type": "markdown",
   "id": "6e2e1c6e-dba0-47fe-8fbc-59f2fc94e96a",
   "metadata": {},
   "source": [
    "Furhermore, note that properties such as `space`, `version`, `last_updated_time` are showing up when we call `model_dump()` and `model_json_dump()`. The reason is that, when we display an object in a Jupyter notebook, the data classes from `pygen` is set up to automatically call `.to_pandas()`. The `.to_pandas()` method skips the `node` properties by default to avoid cluttering the properties that are special to the node type. We can include them by setting the parameter `include_instance_properties` to `True`"
   ]
  },
  {
   "cell_type": "code",
   "execution_count": 12,
   "id": "f7e44638-2f4c-4392-b307-42032b5a6ff7",
   "metadata": {},
   "outputs": [
    {
     "data": {
      "text/plain": [
       "external_id                  hornsea_1_mill_4\n",
       "blades         [blade:10, blade:11, blade:12]\n",
       "capacity                                  7.0\n",
       "metmast                                  None\n",
       "nacelle                             nacelle:4\n",
       "name                         hornsea_1_mill_4\n",
       "rotor                                 rotor:4\n",
       "windfarm                            Hornsea 1\n",
       "dtype: object"
      ]
     },
     "execution_count": 12,
     "metadata": {},
     "output_type": "execute_result"
    }
   ],
   "source": [
    "windmill.to_pandas()"
   ]
  },
  {
   "cell_type": "code",
   "execution_count": 13,
   "id": "e3c431a7-c2c8-4272-ac27-4dafb9adb404",
   "metadata": {},
   "outputs": [
    {
     "data": {
      "text/plain": [
       "space                              windmill-instances\n",
       "external_id                          hornsea_1_mill_4\n",
       "version                                             1\n",
       "last_updated_time    2023-12-25 07:47:50.040000+00:00\n",
       "created_time         2023-12-25 07:47:50.040000+00:00\n",
       "deleted_time                                     None\n",
       "blades                 [blade:10, blade:11, blade:12]\n",
       "capacity                                          7.0\n",
       "metmast                                          None\n",
       "nacelle                                     nacelle:4\n",
       "name                                 hornsea_1_mill_4\n",
       "rotor                                         rotor:4\n",
       "windfarm                                    Hornsea 1\n",
       "dtype: object"
      ]
     },
     "execution_count": 13,
     "metadata": {},
     "output_type": "execute_result"
    }
   ],
   "source": [
    "windmill.to_pandas(include_instance_properties=True)"
   ]
  },
  {
   "cell_type": "markdown",
   "id": "d80352a0-28fb-437b-a176-ef8ca4b4426c",
   "metadata": {
    "editable": true,
    "slideshow": {
     "slide_type": ""
    },
    "tags": []
   },
   "source": [
    "## Filtering Instances: List\n",
    "\n",
    "`pygen` automatically generates filters for the list method based on the propery types of the fields in the views."
   ]
  },
  {
   "cell_type": "markdown",
   "id": "994636a7-82eb-4e6d-9228-3c4e9eb96bcb",
   "metadata": {
    "editable": true,
    "slideshow": {
     "slide_type": ""
    },
    "tags": []
   },
   "source": [
    "For example, if we want to find all windmills with capacity above 6.0 we can do it as follows"
   ]
  },
  {
   "cell_type": "code",
   "execution_count": 14,
   "id": "75e20485-f42e-4e15-a9c4-709e92be4c96",
   "metadata": {},
   "outputs": [
    {
     "data": {
      "text/html": [
       "<div>\n",
       "<style scoped>\n",
       "    .dataframe tbody tr th:only-of-type {\n",
       "        vertical-align: middle;\n",
       "    }\n",
       "\n",
       "    .dataframe tbody tr th {\n",
       "        vertical-align: top;\n",
       "    }\n",
       "\n",
       "    .dataframe thead th {\n",
       "        text-align: right;\n",
       "    }\n",
       "</style>\n",
       "<table border=\"1\" class=\"dataframe\">\n",
       "  <thead>\n",
       "    <tr style=\"text-align: right;\">\n",
       "      <th></th>\n",
       "      <th>external_id</th>\n",
       "      <th>blades</th>\n",
       "      <th>capacity</th>\n",
       "      <th>metmast</th>\n",
       "      <th>nacelle</th>\n",
       "      <th>name</th>\n",
       "      <th>rotor</th>\n",
       "      <th>windfarm</th>\n",
       "    </tr>\n",
       "  </thead>\n",
       "  <tbody>\n",
       "    <tr>\n",
       "      <th>0</th>\n",
       "      <td>hornsea_1_mill_3</td>\n",
       "      <td>[blade:1, blade:2, blade:3]</td>\n",
       "      <td>7.0</td>\n",
       "      <td>None</td>\n",
       "      <td>nacelle:1</td>\n",
       "      <td>hornsea_1_mill_3</td>\n",
       "      <td>rotor:1</td>\n",
       "      <td>Hornsea 1</td>\n",
       "    </tr>\n",
       "    <tr>\n",
       "      <th>1</th>\n",
       "      <td>hornsea_1_mill_2</td>\n",
       "      <td>[blade:4, blade:5, blade:6]</td>\n",
       "      <td>7.0</td>\n",
       "      <td>None</td>\n",
       "      <td>nacelle:2</td>\n",
       "      <td>hornsea_1_mill_2</td>\n",
       "      <td>rotor:2</td>\n",
       "      <td>Hornsea 1</td>\n",
       "    </tr>\n",
       "    <tr>\n",
       "      <th>2</th>\n",
       "      <td>hornsea_1_mill_1</td>\n",
       "      <td>[blade:7, blade:8, blade:9]</td>\n",
       "      <td>7.0</td>\n",
       "      <td>None</td>\n",
       "      <td>nacelle:3</td>\n",
       "      <td>hornsea_1_mill_1</td>\n",
       "      <td>rotor:3</td>\n",
       "      <td>Hornsea 1</td>\n",
       "    </tr>\n",
       "    <tr>\n",
       "      <th>3</th>\n",
       "      <td>hornsea_1_mill_4</td>\n",
       "      <td>[blade:10, blade:11, blade:12]</td>\n",
       "      <td>7.0</td>\n",
       "      <td>None</td>\n",
       "      <td>nacelle:4</td>\n",
       "      <td>hornsea_1_mill_4</td>\n",
       "      <td>rotor:4</td>\n",
       "      <td>Hornsea 1</td>\n",
       "    </tr>\n",
       "    <tr>\n",
       "      <th>4</th>\n",
       "      <td>hornsea_1_mill_5</td>\n",
       "      <td>[blade:13, blade:14, blade:15]</td>\n",
       "      <td>7.0</td>\n",
       "      <td>None</td>\n",
       "      <td>nacelle:5</td>\n",
       "      <td>hornsea_1_mill_5</td>\n",
       "      <td>rotor:5</td>\n",
       "      <td>Hornsea 1</td>\n",
       "    </tr>\n",
       "  </tbody>\n",
       "</table>\n",
       "</div>"
      ],
      "text/plain": [
       "WindmillList([Windmill(space='windmill-instances', external_id='hornsea_1_mill_3', version=1, last_updated_time=datetime.datetime(2023, 12, 25, 7, 47, 50, 40000, tzinfo=TzInfo(UTC)), created_time=datetime.datetime(2023, 12, 25, 7, 47, 50, 40000, tzinfo=TzInfo(UTC)), deleted_time=None, capacity=7.0, name='hornsea_1_mill_3', windfarm='Hornsea 1'),\n",
       "              Windmill(space='windmill-instances', external_id='hornsea_1_mill_2', version=1, last_updated_time=datetime.datetime(2023, 12, 25, 7, 47, 50, 40000, tzinfo=TzInfo(UTC)), created_time=datetime.datetime(2023, 12, 25, 7, 47, 50, 40000, tzinfo=TzInfo(UTC)), deleted_time=None, capacity=7.0, name='hornsea_1_mill_2', windfarm='Hornsea 1'),\n",
       "              Windmill(space='windmill-instances', external_id='hornsea_1_mill_1', version=1, last_updated_time=datetime.datetime(2023, 12, 25, 7, 47, 50, 40000, tzinfo=TzInfo(UTC)), created_time=datetime.datetime(2023, 12, 25, 7, 47, 50, 40000, tzinfo=TzInfo(UTC)), deleted_time=None, capacity=7.0, name='hornsea_1_mill_1', windfarm='Hornsea 1'),\n",
       "              Windmill(space='windmill-instances', external_id='hornsea_1_mill_4', version=1, last_updated_time=datetime.datetime(2023, 12, 25, 7, 47, 50, 40000, tzinfo=TzInfo(UTC)), created_time=datetime.datetime(2023, 12, 25, 7, 47, 50, 40000, tzinfo=TzInfo(UTC)), deleted_time=None, capacity=7.0, name='hornsea_1_mill_4', windfarm='Hornsea 1'),\n",
       "              Windmill(space='windmill-instances', external_id='hornsea_1_mill_5', version=1, last_updated_time=datetime.datetime(2023, 12, 25, 7, 47, 50, 40000, tzinfo=TzInfo(UTC)), created_time=datetime.datetime(2023, 12, 25, 7, 47, 50, 40000, tzinfo=TzInfo(UTC)), deleted_time=None, capacity=7.0, name='hornsea_1_mill_5', windfarm='Hornsea 1')])"
      ]
     },
     "execution_count": 14,
     "metadata": {},
     "output_type": "execute_result"
    }
   ],
   "source": [
    "client.windmill.list(min_capacity=6.0)"
   ]
  },
  {
   "cell_type": "markdown",
   "id": "cea6b171-a46b-4a5f-82a9-a5f11b322b36",
   "metadata": {},
   "source": [
    "Or lets us find all windmills located at the windfarm `Hornsea 1` "
   ]
  },
  {
   "cell_type": "code",
   "execution_count": 15,
   "id": "25224749-de5c-4b60-aa5c-515e4f13038c",
   "metadata": {
    "editable": true,
    "slideshow": {
     "slide_type": ""
    },
    "tags": []
   },
   "outputs": [
    {
     "data": {
      "text/html": [
       "<div>\n",
       "<style scoped>\n",
       "    .dataframe tbody tr th:only-of-type {\n",
       "        vertical-align: middle;\n",
       "    }\n",
       "\n",
       "    .dataframe tbody tr th {\n",
       "        vertical-align: top;\n",
       "    }\n",
       "\n",
       "    .dataframe thead th {\n",
       "        text-align: right;\n",
       "    }\n",
       "</style>\n",
       "<table border=\"1\" class=\"dataframe\">\n",
       "  <thead>\n",
       "    <tr style=\"text-align: right;\">\n",
       "      <th></th>\n",
       "      <th>external_id</th>\n",
       "      <th>blades</th>\n",
       "      <th>capacity</th>\n",
       "      <th>metmast</th>\n",
       "      <th>nacelle</th>\n",
       "      <th>name</th>\n",
       "      <th>rotor</th>\n",
       "      <th>windfarm</th>\n",
       "    </tr>\n",
       "  </thead>\n",
       "  <tbody>\n",
       "    <tr>\n",
       "      <th>0</th>\n",
       "      <td>hornsea_1_mill_3</td>\n",
       "      <td>[blade:1, blade:2, blade:3]</td>\n",
       "      <td>7.0</td>\n",
       "      <td>None</td>\n",
       "      <td>nacelle:1</td>\n",
       "      <td>hornsea_1_mill_3</td>\n",
       "      <td>rotor:1</td>\n",
       "      <td>Hornsea 1</td>\n",
       "    </tr>\n",
       "    <tr>\n",
       "      <th>1</th>\n",
       "      <td>hornsea_1_mill_2</td>\n",
       "      <td>[blade:4, blade:5, blade:6]</td>\n",
       "      <td>7.0</td>\n",
       "      <td>None</td>\n",
       "      <td>nacelle:2</td>\n",
       "      <td>hornsea_1_mill_2</td>\n",
       "      <td>rotor:2</td>\n",
       "      <td>Hornsea 1</td>\n",
       "    </tr>\n",
       "    <tr>\n",
       "      <th>2</th>\n",
       "      <td>hornsea_1_mill_1</td>\n",
       "      <td>[blade:7, blade:8, blade:9]</td>\n",
       "      <td>7.0</td>\n",
       "      <td>None</td>\n",
       "      <td>nacelle:3</td>\n",
       "      <td>hornsea_1_mill_1</td>\n",
       "      <td>rotor:3</td>\n",
       "      <td>Hornsea 1</td>\n",
       "    </tr>\n",
       "    <tr>\n",
       "      <th>3</th>\n",
       "      <td>hornsea_1_mill_4</td>\n",
       "      <td>[blade:10, blade:11, blade:12]</td>\n",
       "      <td>7.0</td>\n",
       "      <td>None</td>\n",
       "      <td>nacelle:4</td>\n",
       "      <td>hornsea_1_mill_4</td>\n",
       "      <td>rotor:4</td>\n",
       "      <td>Hornsea 1</td>\n",
       "    </tr>\n",
       "    <tr>\n",
       "      <th>4</th>\n",
       "      <td>hornsea_1_mill_5</td>\n",
       "      <td>[blade:13, blade:14, blade:15]</td>\n",
       "      <td>7.0</td>\n",
       "      <td>None</td>\n",
       "      <td>nacelle:5</td>\n",
       "      <td>hornsea_1_mill_5</td>\n",
       "      <td>rotor:5</td>\n",
       "      <td>Hornsea 1</td>\n",
       "    </tr>\n",
       "  </tbody>\n",
       "</table>\n",
       "</div>"
      ],
      "text/plain": [
       "WindmillList([Windmill(space='windmill-instances', external_id='hornsea_1_mill_3', version=1, last_updated_time=datetime.datetime(2023, 12, 25, 7, 47, 50, 40000, tzinfo=TzInfo(UTC)), created_time=datetime.datetime(2023, 12, 25, 7, 47, 50, 40000, tzinfo=TzInfo(UTC)), deleted_time=None, capacity=7.0, name='hornsea_1_mill_3', windfarm='Hornsea 1'),\n",
       "              Windmill(space='windmill-instances', external_id='hornsea_1_mill_2', version=1, last_updated_time=datetime.datetime(2023, 12, 25, 7, 47, 50, 40000, tzinfo=TzInfo(UTC)), created_time=datetime.datetime(2023, 12, 25, 7, 47, 50, 40000, tzinfo=TzInfo(UTC)), deleted_time=None, capacity=7.0, name='hornsea_1_mill_2', windfarm='Hornsea 1'),\n",
       "              Windmill(space='windmill-instances', external_id='hornsea_1_mill_1', version=1, last_updated_time=datetime.datetime(2023, 12, 25, 7, 47, 50, 40000, tzinfo=TzInfo(UTC)), created_time=datetime.datetime(2023, 12, 25, 7, 47, 50, 40000, tzinfo=TzInfo(UTC)), deleted_time=None, capacity=7.0, name='hornsea_1_mill_1', windfarm='Hornsea 1'),\n",
       "              Windmill(space='windmill-instances', external_id='hornsea_1_mill_4', version=1, last_updated_time=datetime.datetime(2023, 12, 25, 7, 47, 50, 40000, tzinfo=TzInfo(UTC)), created_time=datetime.datetime(2023, 12, 25, 7, 47, 50, 40000, tzinfo=TzInfo(UTC)), deleted_time=None, capacity=7.0, name='hornsea_1_mill_4', windfarm='Hornsea 1'),\n",
       "              Windmill(space='windmill-instances', external_id='hornsea_1_mill_5', version=1, last_updated_time=datetime.datetime(2023, 12, 25, 7, 47, 50, 40000, tzinfo=TzInfo(UTC)), created_time=datetime.datetime(2023, 12, 25, 7, 47, 50, 40000, tzinfo=TzInfo(UTC)), deleted_time=None, capacity=7.0, name='hornsea_1_mill_5', windfarm='Hornsea 1')])"
      ]
     },
     "execution_count": 15,
     "metadata": {},
     "output_type": "execute_result"
    }
   ],
   "source": [
    "client.windmill.list(windfarm=\"Hornsea 1\")"
   ]
  },
  {
   "cell_type": "markdown",
   "id": "26eef54f-3e51-40bc-859a-11f4361e9cf8",
   "metadata": {
    "editable": true,
    "slideshow": {
     "slide_type": ""
    },
    "tags": []
   },
   "source": [
    "The available filters depends on the data type of the properties in the data model. \n",
    "\n",
    "Typical filtering for the different data types are:\n",
    "\n",
    "* Text -> Equals, Prefix, and In filters\n",
    "* Number -> Range filter\n",
    "* Boolean -> Equals filter\n",
    "* Date and Timestamp -> Range filter\n",
    "* Direct relation -> Equals and In filters\n"
   ]
  },
  {
   "cell_type": "markdown",
   "id": "b4befcb8-6309-4d61-a772-c9c2676059b7",
   "metadata": {
    "editable": true,
    "slideshow": {
     "slide_type": ""
    },
    "tags": []
   },
   "source": [
    "Next section: [Searching](searching.html)"
   ]
  },
  {
   "cell_type": "code",
   "execution_count": null,
   "id": "dd08926b-0926-4409-930d-5d590e95a41a",
   "metadata": {
    "editable": true,
    "slideshow": {
     "slide_type": ""
    },
    "tags": []
   },
   "outputs": [],
   "source": []
  }
 ],
 "metadata": {
  "kernelspec": {
   "display_name": "Python 3 (ipykernel)",
   "language": "python",
   "name": "python3"
  },
  "language_info": {
   "codemirror_mode": {
    "name": "ipython",
    "version": 3
   },
   "file_extension": ".py",
   "mimetype": "text/x-python",
   "name": "python",
   "nbconvert_exporter": "python",
   "pygments_lexer": "ipython3",
   "version": "3.9.13"
  }
 },
 "nbformat": 4,
 "nbformat_minor": 5
}
