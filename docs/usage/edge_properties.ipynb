{
 "cells": [
  {
   "cell_type": "code",
   "execution_count": 1,
   "id": "e32acfc3-632c-479e-95be-331461c4d5f9",
   "metadata": {
    "editable": true,
    "slideshow": {
     "slide_type": ""
    },
    "tags": [
     "hide"
    ]
   },
   "outputs": [],
   "source": [
    "# This is just to enable improting the generated SDK from the examples folder in the pygen repository\n",
    "import sys\n",
    "import warnings\n",
    "\n",
    "from tests.constants import REPO_ROOT\n",
    "\n",
    "warnings.filterwarnings(\"ignore\")\n",
    "\n",
    "sys.path.append(str(REPO_ROOT / \"examples\"))"
   ]
  },
  {
   "attachments": {},
   "cell_type": "markdown",
   "id": "34ed5247-d76c-4b22-a5d9-6ead02628433",
   "metadata": {},
   "source": [
    "# Working with Edges\n",
    "\n",
    "In this tutorial, we use edges with properties. We notice that the connection between `WindTurbine` and `Metmast`goes through an edge with the property `distance`.\n",
    "\n",
    "<img src=\"images/windturbine_model.png\" width=\"800\">\n"
   ]
  },
  {
   "cell_type": "code",
   "execution_count": 2,
   "id": "7c998b1d-8c54-458f-8493-2bc291ba32bd",
   "metadata": {},
   "outputs": [],
   "source": [
    "from wind_turbine import WindTurbineClient"
   ]
  },
  {
   "cell_type": "code",
   "execution_count": 3,
   "id": "e884e5dd-aaa9-4a40-8449-da77c202f8cc",
   "metadata": {},
   "outputs": [],
   "source": [
    "pygen = WindTurbineClient.from_toml(\"config.toml\")"
   ]
  },
  {
   "cell_type": "markdown",
   "id": "9e8a5c3c-a7f0-4ee5-a9bb-906e9bd94942",
   "metadata": {},
   "source": [
    "## Listing and Filtering Edges"
   ]
  },
  {
   "cell_type": "markdown",
   "id": "a095350c-834d-4606-8582-b536ca8a9282",
   "metadata": {},
   "source": [
    "The `Distance` edges are available on the `wind_turbine` class, and have a `list` method we can use to list and filter all edges of this type."
   ]
  },
  {
   "cell_type": "code",
   "execution_count": 6,
   "id": "c5f449e7-7daf-42fb-8417-73f70f212094",
   "metadata": {},
   "outputs": [
    {
     "data": {
      "text/html": [
       "<div>\n",
       "<style scoped>\n",
       "    .dataframe tbody tr th:only-of-type {\n",
       "        vertical-align: middle;\n",
       "    }\n",
       "\n",
       "    .dataframe tbody tr th {\n",
       "        vertical-align: top;\n",
       "    }\n",
       "\n",
       "    .dataframe thead th {\n",
       "        text-align: right;\n",
       "    }\n",
       "</style>\n",
       "<table border=\"1\" class=\"dataframe\">\n",
       "  <thead>\n",
       "    <tr style=\"text-align: right;\">\n",
       "      <th></th>\n",
       "      <th>space</th>\n",
       "      <th>external_id</th>\n",
       "      <th>edge_type</th>\n",
       "      <th>start_node</th>\n",
       "      <th>end_node</th>\n",
       "      <th>distance</th>\n",
       "      <th>data_record</th>\n",
       "    </tr>\n",
       "  </thead>\n",
       "  <tbody>\n",
       "    <tr>\n",
       "      <th>0</th>\n",
       "      <td>sp_wind</td>\n",
       "      <td>turbine1_to_utsira</td>\n",
       "      <td>{'space': 'sp_pygen_power_enterprise', 'extern...</td>\n",
       "      <td>{'space': 'sp_wind', 'external_id': 'hornsea_1...</td>\n",
       "      <td>{'space': 'sp_wind', 'external_id': 'utsira_st...</td>\n",
       "      <td>1000.0</td>\n",
       "      <td>{'version': 1, 'last_updated_time': 2024-11-16...</td>\n",
       "    </tr>\n",
       "    <tr>\n",
       "      <th>1</th>\n",
       "      <td>sp_wind</td>\n",
       "      <td>turbine2_to_utsira</td>\n",
       "      <td>{'space': 'sp_pygen_power_enterprise', 'extern...</td>\n",
       "      <td>{'space': 'sp_wind', 'external_id': 'hornsea_1...</td>\n",
       "      <td>{'space': 'sp_wind', 'external_id': 'utsira_st...</td>\n",
       "      <td>1200.0</td>\n",
       "      <td>{'version': 1, 'last_updated_time': 2024-11-16...</td>\n",
       "    </tr>\n",
       "    <tr>\n",
       "      <th>2</th>\n",
       "      <td>sp_wind</td>\n",
       "      <td>turbine3_to_utsira</td>\n",
       "      <td>{'space': 'sp_pygen_power_enterprise', 'extern...</td>\n",
       "      <td>{'space': 'sp_wind', 'external_id': 'hornsea_1...</td>\n",
       "      <td>{'space': 'sp_wind', 'external_id': 'utsira_st...</td>\n",
       "      <td>700.0</td>\n",
       "      <td>{'version': 1, 'last_updated_time': 2024-11-16...</td>\n",
       "    </tr>\n",
       "    <tr>\n",
       "      <th>3</th>\n",
       "      <td>sp_wind</td>\n",
       "      <td>turbine4_to_utsira</td>\n",
       "      <td>{'space': 'sp_pygen_power_enterprise', 'extern...</td>\n",
       "      <td>{'space': 'sp_wind', 'external_id': 'hornsea_1...</td>\n",
       "      <td>{'space': 'sp_wind', 'external_id': 'utsira_st...</td>\n",
       "      <td>1500.0</td>\n",
       "      <td>{'version': 1, 'last_updated_time': 2024-11-16...</td>\n",
       "    </tr>\n",
       "    <tr>\n",
       "      <th>4</th>\n",
       "      <td>sp_wind</td>\n",
       "      <td>turbine5_to_utsira</td>\n",
       "      <td>{'space': 'sp_pygen_power_enterprise', 'extern...</td>\n",
       "      <td>{'space': 'sp_wind', 'external_id': 'hornsea_1...</td>\n",
       "      <td>{'space': 'sp_wind', 'external_id': 'utsira_st...</td>\n",
       "      <td>2100.0</td>\n",
       "      <td>{'version': 1, 'last_updated_time': 2024-11-16...</td>\n",
       "    </tr>\n",
       "  </tbody>\n",
       "</table>\n",
       "</div>"
      ],
      "text/plain": [
       "DistanceList([Distance(space='sp_wind', external_id='turbine1_to_utsira', edge_type=DirectRelationReference(space='sp_pygen_power_enterprise', external_id='Distance'), start_node=DirectRelationReference(space='sp_wind', external_id='hornsea_1_mill_1'), end_node=NodeId(space='sp_wind', external_id='utsira_station'), data_record=DataRecord(version=1, last_updated_time=datetime.datetime(2024, 11, 16, 14, 15, 45, 543000, tzinfo=TzInfo(UTC)), created_time=datetime.datetime(2024, 11, 16, 14, 15, 45, 543000, tzinfo=TzInfo(UTC)), deleted_time=None), distance=1000.0),\n",
       "              Distance(space='sp_wind', external_id='turbine2_to_utsira', edge_type=DirectRelationReference(space='sp_pygen_power_enterprise', external_id='Distance'), start_node=DirectRelationReference(space='sp_wind', external_id='hornsea_1_mill_2'), end_node=NodeId(space='sp_wind', external_id='utsira_station'), data_record=DataRecord(version=1, last_updated_time=datetime.datetime(2024, 11, 16, 14, 15, 45, 543000, tzinfo=TzInfo(UTC)), created_time=datetime.datetime(2024, 11, 16, 14, 15, 45, 543000, tzinfo=TzInfo(UTC)), deleted_time=None), distance=1200.0),\n",
       "              Distance(space='sp_wind', external_id='turbine3_to_utsira', edge_type=DirectRelationReference(space='sp_pygen_power_enterprise', external_id='Distance'), start_node=DirectRelationReference(space='sp_wind', external_id='hornsea_1_mill_3'), end_node=NodeId(space='sp_wind', external_id='utsira_station'), data_record=DataRecord(version=1, last_updated_time=datetime.datetime(2024, 11, 16, 14, 15, 45, 543000, tzinfo=TzInfo(UTC)), created_time=datetime.datetime(2024, 11, 16, 14, 15, 45, 543000, tzinfo=TzInfo(UTC)), deleted_time=None), distance=700.0),\n",
       "              Distance(space='sp_wind', external_id='turbine4_to_utsira', edge_type=DirectRelationReference(space='sp_pygen_power_enterprise', external_id='Distance'), start_node=DirectRelationReference(space='sp_wind', external_id='hornsea_1_mill_4'), end_node=NodeId(space='sp_wind', external_id='utsira_station'), data_record=DataRecord(version=1, last_updated_time=datetime.datetime(2024, 11, 16, 14, 15, 45, 543000, tzinfo=TzInfo(UTC)), created_time=datetime.datetime(2024, 11, 16, 14, 15, 45, 543000, tzinfo=TzInfo(UTC)), deleted_time=None), distance=1500.0),\n",
       "              Distance(space='sp_wind', external_id='turbine5_to_utsira', edge_type=DirectRelationReference(space='sp_pygen_power_enterprise', external_id='Distance'), start_node=DirectRelationReference(space='sp_wind', external_id='hornsea_1_mill_5'), end_node=NodeId(space='sp_wind', external_id='utsira_station'), data_record=DataRecord(version=1, last_updated_time=datetime.datetime(2024, 11, 16, 14, 15, 45, 543000, tzinfo=TzInfo(UTC)), created_time=datetime.datetime(2024, 11, 16, 14, 15, 45, 543000, tzinfo=TzInfo(UTC)), deleted_time=None), distance=2100.0)])"
      ]
     },
     "execution_count": 6,
     "metadata": {},
     "output_type": "execute_result"
    }
   ],
   "source": [
    "pygen.wind_turbine.metmast_edge.list(limit=5)"
   ]
  },
  {
   "cell_type": "markdown",
   "id": "688a4dc5-f57d-4547-b1a1-1bfd5195d42f",
   "metadata": {},
   "source": [
    "The `Distance` edge is also used in the data model from `MetMast` to `WindTurbine` so we can list it from the metmast as well."
   ]
  },
  {
   "cell_type": "code",
   "execution_count": 8,
   "id": "5f9b4896-02a2-48cc-96aa-dd3d592c17cc",
   "metadata": {},
   "outputs": [
    {
     "data": {
      "text/html": [
       "<div>\n",
       "<style scoped>\n",
       "    .dataframe tbody tr th:only-of-type {\n",
       "        vertical-align: middle;\n",
       "    }\n",
       "\n",
       "    .dataframe tbody tr th {\n",
       "        vertical-align: top;\n",
       "    }\n",
       "\n",
       "    .dataframe thead th {\n",
       "        text-align: right;\n",
       "    }\n",
       "</style>\n",
       "<table border=\"1\" class=\"dataframe\">\n",
       "  <thead>\n",
       "    <tr style=\"text-align: right;\">\n",
       "      <th></th>\n",
       "      <th>space</th>\n",
       "      <th>external_id</th>\n",
       "      <th>edge_type</th>\n",
       "      <th>start_node</th>\n",
       "      <th>end_node</th>\n",
       "      <th>distance</th>\n",
       "      <th>data_record</th>\n",
       "    </tr>\n",
       "  </thead>\n",
       "  <tbody>\n",
       "    <tr>\n",
       "      <th>0</th>\n",
       "      <td>sp_wind</td>\n",
       "      <td>turbine1_to_utsira</td>\n",
       "      <td>{'space': 'sp_pygen_power_enterprise', 'extern...</td>\n",
       "      <td>{'space': 'sp_wind', 'external_id': 'hornsea_1...</td>\n",
       "      <td>{'space': 'sp_wind', 'external_id': 'utsira_st...</td>\n",
       "      <td>1000.0</td>\n",
       "      <td>{'version': 1, 'last_updated_time': 2024-11-16...</td>\n",
       "    </tr>\n",
       "    <tr>\n",
       "      <th>1</th>\n",
       "      <td>sp_wind</td>\n",
       "      <td>turbine2_to_utsira</td>\n",
       "      <td>{'space': 'sp_pygen_power_enterprise', 'extern...</td>\n",
       "      <td>{'space': 'sp_wind', 'external_id': 'hornsea_1...</td>\n",
       "      <td>{'space': 'sp_wind', 'external_id': 'utsira_st...</td>\n",
       "      <td>1200.0</td>\n",
       "      <td>{'version': 1, 'last_updated_time': 2024-11-16...</td>\n",
       "    </tr>\n",
       "    <tr>\n",
       "      <th>2</th>\n",
       "      <td>sp_wind</td>\n",
       "      <td>turbine4_to_utsira</td>\n",
       "      <td>{'space': 'sp_pygen_power_enterprise', 'extern...</td>\n",
       "      <td>{'space': 'sp_wind', 'external_id': 'hornsea_1...</td>\n",
       "      <td>{'space': 'sp_wind', 'external_id': 'utsira_st...</td>\n",
       "      <td>1500.0</td>\n",
       "      <td>{'version': 1, 'last_updated_time': 2024-11-16...</td>\n",
       "    </tr>\n",
       "    <tr>\n",
       "      <th>3</th>\n",
       "      <td>sp_wind</td>\n",
       "      <td>turbine5_to_utsira</td>\n",
       "      <td>{'space': 'sp_pygen_power_enterprise', 'extern...</td>\n",
       "      <td>{'space': 'sp_wind', 'external_id': 'hornsea_1...</td>\n",
       "      <td>{'space': 'sp_wind', 'external_id': 'utsira_st...</td>\n",
       "      <td>2100.0</td>\n",
       "      <td>{'version': 1, 'last_updated_time': 2024-11-16...</td>\n",
       "    </tr>\n",
       "    <tr>\n",
       "      <th>4</th>\n",
       "      <td>sp_wind</td>\n",
       "      <td>turbine3_to_hitra</td>\n",
       "      <td>{'space': 'sp_pygen_power_enterprise', 'extern...</td>\n",
       "      <td>{'space': 'sp_wind', 'external_id': 'hornsea_1...</td>\n",
       "      <td>{'space': 'sp_wind', 'external_id': 'hitra_sta...</td>\n",
       "      <td>1100.0</td>\n",
       "      <td>{'version': 1, 'last_updated_time': 2024-11-16...</td>\n",
       "    </tr>\n",
       "  </tbody>\n",
       "</table>\n",
       "</div>"
      ],
      "text/plain": [
       "DistanceList([Distance(space='sp_wind', external_id='turbine1_to_utsira', edge_type=DirectRelationReference(space='sp_pygen_power_enterprise', external_id='Distance'), start_node=DirectRelationReference(space='sp_wind', external_id='hornsea_1_mill_1'), end_node=NodeId(space='sp_wind', external_id='utsira_station'), data_record=DataRecord(version=1, last_updated_time=datetime.datetime(2024, 11, 16, 14, 15, 45, 543000, tzinfo=TzInfo(UTC)), created_time=datetime.datetime(2024, 11, 16, 14, 15, 45, 543000, tzinfo=TzInfo(UTC)), deleted_time=None), distance=1000.0),\n",
       "              Distance(space='sp_wind', external_id='turbine2_to_utsira', edge_type=DirectRelationReference(space='sp_pygen_power_enterprise', external_id='Distance'), start_node=DirectRelationReference(space='sp_wind', external_id='hornsea_1_mill_2'), end_node=NodeId(space='sp_wind', external_id='utsira_station'), data_record=DataRecord(version=1, last_updated_time=datetime.datetime(2024, 11, 16, 14, 15, 45, 543000, tzinfo=TzInfo(UTC)), created_time=datetime.datetime(2024, 11, 16, 14, 15, 45, 543000, tzinfo=TzInfo(UTC)), deleted_time=None), distance=1200.0),\n",
       "              Distance(space='sp_wind', external_id='turbine4_to_utsira', edge_type=DirectRelationReference(space='sp_pygen_power_enterprise', external_id='Distance'), start_node=DirectRelationReference(space='sp_wind', external_id='hornsea_1_mill_4'), end_node=NodeId(space='sp_wind', external_id='utsira_station'), data_record=DataRecord(version=1, last_updated_time=datetime.datetime(2024, 11, 16, 14, 15, 45, 543000, tzinfo=TzInfo(UTC)), created_time=datetime.datetime(2024, 11, 16, 14, 15, 45, 543000, tzinfo=TzInfo(UTC)), deleted_time=None), distance=1500.0),\n",
       "              Distance(space='sp_wind', external_id='turbine5_to_utsira', edge_type=DirectRelationReference(space='sp_pygen_power_enterprise', external_id='Distance'), start_node=DirectRelationReference(space='sp_wind', external_id='hornsea_1_mill_5'), end_node=NodeId(space='sp_wind', external_id='utsira_station'), data_record=DataRecord(version=1, last_updated_time=datetime.datetime(2024, 11, 16, 14, 15, 45, 543000, tzinfo=TzInfo(UTC)), created_time=datetime.datetime(2024, 11, 16, 14, 15, 45, 543000, tzinfo=TzInfo(UTC)), deleted_time=None), distance=2100.0),\n",
       "              Distance(space='sp_wind', external_id='turbine3_to_hitra', edge_type=DirectRelationReference(space='sp_pygen_power_enterprise', external_id='Distance'), start_node=DirectRelationReference(space='sp_wind', external_id='hornsea_1_mill_3'), end_node=NodeId(space='sp_wind', external_id='hitra_station'), data_record=DataRecord(version=1, last_updated_time=datetime.datetime(2024, 11, 16, 14, 15, 45, 543000, tzinfo=TzInfo(UTC)), created_time=datetime.datetime(2024, 11, 16, 14, 15, 45, 543000, tzinfo=TzInfo(UTC)), deleted_time=None), distance=1100.0)])"
      ]
     },
     "execution_count": 8,
     "metadata": {},
     "output_type": "execute_result"
    }
   ],
   "source": [
    "pygen.metmast.wind_turbines_edge.list(min_distance=1000, limit=5)"
   ]
  },
  {
   "cell_type": "markdown",
   "id": "3b0a4961-c58b-49f6-b1d0-34510279f096",
   "metadata": {},
   "source": [
    "Note, that we now also are filtering on the edge."
   ]
  },
  {
   "cell_type": "markdown",
   "id": "3955c1a0-7b1e-4426-a86b-55576ee36d02",
   "metadata": {},
   "source": [
    "## Query/Filterin/Selecting with Edges\n",
    "\n",
    "Edges are seldom used in isolation. However, they can be very powerful when we want to fetch data based on the properties in the edge.\n",
    "\n",
    "For example, if we want to find all wheather stations within 1000 meter of a given WindTurbine we can write"
   ]
  },
  {
   "cell_type": "code",
   "execution_count": 14,
   "id": "649aab44-643a-4dce-bec9-6e45969fd8fe",
   "metadata": {},
   "outputs": [
    {
     "data": {
      "text/html": [
       "<div>\n",
       "<style scoped>\n",
       "    .dataframe tbody tr th:only-of-type {\n",
       "        vertical-align: middle;\n",
       "    }\n",
       "\n",
       "    .dataframe tbody tr th {\n",
       "        vertical-align: top;\n",
       "    }\n",
       "\n",
       "    .dataframe thead th {\n",
       "        text-align: right;\n",
       "    }\n",
       "</style>\n",
       "<table border=\"1\" class=\"dataframe\">\n",
       "  <thead>\n",
       "    <tr style=\"text-align: right;\">\n",
       "      <th></th>\n",
       "      <th>space</th>\n",
       "      <th>external_id</th>\n",
       "      <th>position</th>\n",
       "      <th>temperature</th>\n",
       "      <th>tilt_angle</th>\n",
       "      <th>wind_speed</th>\n",
       "      <th>data_record</th>\n",
       "    </tr>\n",
       "  </thead>\n",
       "  <tbody>\n",
       "    <tr>\n",
       "      <th>0</th>\n",
       "      <td>sp_wind</td>\n",
       "      <td>utsira_station</td>\n",
       "      <td>62.0</td>\n",
       "      <td>utsira_station_temperature</td>\n",
       "      <td>utsira_station_tilt_angle</td>\n",
       "      <td>utsira_station_wind_speed</td>\n",
       "      <td>{'version': 1, 'last_updated_time': 2024-11-16...</td>\n",
       "    </tr>\n",
       "    <tr>\n",
       "      <th>1</th>\n",
       "      <td>sp_wind</td>\n",
       "      <td>hitra_station</td>\n",
       "      <td>63.0</td>\n",
       "      <td>hitra_station_temperature</td>\n",
       "      <td>hitra_station_tilt_angle</td>\n",
       "      <td>hitra_station_wind_speed</td>\n",
       "      <td>{'version': 1, 'last_updated_time': 2024-11-16...</td>\n",
       "    </tr>\n",
       "  </tbody>\n",
       "</table>\n",
       "</div>"
      ],
      "text/plain": [
       "MetmastList([Metmast(space='sp_wind', external_id='utsira_station', data_record=DataRecord(version=1, last_updated_time=datetime.datetime(2024, 11, 16, 14, 8, 1, 544000, tzinfo=TzInfo(UTC)), created_time=datetime.datetime(2024, 11, 16, 14, 8, 1, 544000, tzinfo=TzInfo(UTC)), deleted_time=None), node_type=None, position=62.0, temperature='utsira_station_temperature', tilt_angle='utsira_station_tilt_angle', wind_speed='utsira_station_wind_speed'),\n",
       "             Metmast(space='sp_wind', external_id='hitra_station', data_record=DataRecord(version=1, last_updated_time=datetime.datetime(2024, 11, 16, 14, 8, 1, 544000, tzinfo=TzInfo(UTC)), created_time=datetime.datetime(2024, 11, 16, 14, 8, 1, 544000, tzinfo=TzInfo(UTC)), deleted_time=None), node_type=None, position=63.0, temperature='hitra_station_temperature', tilt_angle='hitra_station_tilt_angle', wind_speed='hitra_station_wind_speed')])"
      ]
     },
     "execution_count": 14,
     "metadata": {},
     "output_type": "execute_result"
    }
   ],
   "source": [
    "metmast = (\n",
    "    pygen.wind_turbine.select()\n",
    "    .name.equals(\"hornsea_1_mill_1\")\n",
    "    .metmast.distance.range(0, 1000)\n",
    "    .end_node.list_metmast(limit=-1)\n",
    ")\n",
    "metmast"
   ]
  },
  {
   "cell_type": "code",
   "execution_count": 15,
   "id": "a88b2480-06c6-4e51-8877-62ece1a95d4c",
   "metadata": {},
   "outputs": [
    {
     "data": {
      "text/html": [
       "<div>\n",
       "<style scoped>\n",
       "    .dataframe tbody tr th:only-of-type {\n",
       "        vertical-align: middle;\n",
       "    }\n",
       "\n",
       "    .dataframe tbody tr th {\n",
       "        vertical-align: top;\n",
       "    }\n",
       "\n",
       "    .dataframe thead th {\n",
       "        text-align: right;\n",
       "    }\n",
       "</style>\n",
       "<table border=\"1\" class=\"dataframe\">\n",
       "  <thead>\n",
       "    <tr style=\"text-align: right;\">\n",
       "      <th></th>\n",
       "      <th>space</th>\n",
       "      <th>external_id</th>\n",
       "      <th>capacity</th>\n",
       "      <th>name</th>\n",
       "      <th>blades</th>\n",
       "      <th>datasheets</th>\n",
       "      <th>metmast</th>\n",
       "      <th>nacelle</th>\n",
       "      <th>rotor</th>\n",
       "      <th>windfarm</th>\n",
       "      <th>data_record</th>\n",
       "    </tr>\n",
       "  </thead>\n",
       "  <tbody>\n",
       "    <tr>\n",
       "      <th>0</th>\n",
       "      <td>sp_wind</td>\n",
       "      <td>hornsea_1_mill_1</td>\n",
       "      <td>7.0</td>\n",
       "      <td>hornsea_1_mill_1</td>\n",
       "      <td>[hornsea_1_mill_1_blade_A, hornsea_1_mill_1_bl...</td>\n",
       "      <td>[windmill_schematics]</td>\n",
       "      <td>[{'space': 'sp_wind', 'external_id': 'turbine1...</td>\n",
       "      <td>hornsea_1_mill_1_nacelle</td>\n",
       "      <td>hornsea_1_mill_1_rotor</td>\n",
       "      <td>Hornsea 1</td>\n",
       "      <td>{'version': 4, 'last_updated_time': 2024-11-16...</td>\n",
       "    </tr>\n",
       "  </tbody>\n",
       "</table>\n",
       "</div>"
      ],
      "text/plain": [
       "WindTurbineList([WindTurbine(space='sp_wind', external_id='hornsea_1_mill_1', data_record=DataRecord(version=4, last_updated_time=datetime.datetime(2024, 11, 16, 14, 59, 42, 454000, tzinfo=TzInfo(UTC)), created_time=datetime.datetime(2024, 11, 16, 14, 8, 1, 544000, tzinfo=TzInfo(UTC)), deleted_time=None), node_type=None, capacity=7.0, description=None, name='hornsea_1_mill_1', power_curve=None, windfarm='Hornsea 1')])"
      ]
     },
     "execution_count": 15,
     "metadata": {},
     "output_type": "execute_result"
    }
   ],
   "source": [
    "turbine = (\n",
    "    pygen.wind_turbine.select()\n",
    "    .name.equals(\"hornsea_1_mill_1\")\n",
    "    .metmast.distance.range(0, 1000)\n",
    "    .end_node.list_full(limit=-1)\n",
    ")\n",
    "turbine"
   ]
  },
  {
   "cell_type": "code",
   "execution_count": 19,
   "id": "f464477f-cc58-44d5-aede-646dad9150e2",
   "metadata": {},
   "outputs": [
    {
     "data": {
      "text/html": [
       "<div>\n",
       "<style scoped>\n",
       "    .dataframe tbody tr th:only-of-type {\n",
       "        vertical-align: middle;\n",
       "    }\n",
       "\n",
       "    .dataframe tbody tr th {\n",
       "        vertical-align: top;\n",
       "    }\n",
       "\n",
       "    .dataframe thead th {\n",
       "        text-align: right;\n",
       "    }\n",
       "</style>\n",
       "<table border=\"1\" class=\"dataframe\">\n",
       "  <thead>\n",
       "    <tr style=\"text-align: right;\">\n",
       "      <th></th>\n",
       "      <th>value</th>\n",
       "    </tr>\n",
       "  </thead>\n",
       "  <tbody>\n",
       "    <tr>\n",
       "      <th>space</th>\n",
       "      <td>sp_wind</td>\n",
       "    </tr>\n",
       "    <tr>\n",
       "      <th>external_id</th>\n",
       "      <td>turbine1_to_utsira</td>\n",
       "    </tr>\n",
       "    <tr>\n",
       "      <th>edge_type</th>\n",
       "      <td>{'space': 'sp_pygen_power_enterprise', 'extern...</td>\n",
       "    </tr>\n",
       "    <tr>\n",
       "      <th>start_node</th>\n",
       "      <td>{'space': 'sp_wind', 'external_id': 'hornsea_1...</td>\n",
       "    </tr>\n",
       "    <tr>\n",
       "      <th>end_node</th>\n",
       "      <td>{'space': 'sp_wind', 'external_id': 'utsira_st...</td>\n",
       "    </tr>\n",
       "    <tr>\n",
       "      <th>data_record</th>\n",
       "      <td>{'version': 1, 'last_updated_time': 2024-11-16...</td>\n",
       "    </tr>\n",
       "    <tr>\n",
       "      <th>distance</th>\n",
       "      <td>1000.0</td>\n",
       "    </tr>\n",
       "  </tbody>\n",
       "</table>\n",
       "</div>"
      ],
      "text/plain": [
       "Distance(space='sp_wind', external_id='turbine1_to_utsira', edge_type=DirectRelationReference(space='sp_pygen_power_enterprise', external_id='Distance'), start_node=DirectRelationReference(space='sp_wind', external_id='hornsea_1_mill_1'), end_node=Metmast(space='sp_wind', external_id='utsira_station', data_record=DataRecord(version=1, last_updated_time=datetime.datetime(2024, 11, 16, 14, 8, 1, 544000, tzinfo=TzInfo(UTC)), created_time=datetime.datetime(2024, 11, 16, 14, 8, 1, 544000, tzinfo=TzInfo(UTC)), deleted_time=None), node_type=None, position=62.0, temperature='utsira_station_temperature', tilt_angle='utsira_station_tilt_angle', wind_speed='utsira_station_wind_speed'), data_record=DataRecord(version=1, last_updated_time=datetime.datetime(2024, 11, 16, 14, 15, 45, 543000, tzinfo=TzInfo(UTC)), created_time=datetime.datetime(2024, 11, 16, 14, 15, 45, 543000, tzinfo=TzInfo(UTC)), deleted_time=None), distance=1000.0)"
      ]
     },
     "execution_count": 19,
     "metadata": {},
     "output_type": "execute_result"
    }
   ],
   "source": [
    "turbine[0].metmast[0]"
   ]
  },
  {
   "cell_type": "markdown",
   "id": "cd9d711e-1ced-4c8b-9d9b-314d1d2b3753",
   "metadata": {},
   "source": [
    "## Create Edges with Properties"
   ]
  },
  {
   "cell_type": "markdown",
   "id": "62ee4978-04e0-4050-9e2a-a2204017e6da",
   "metadata": {},
   "source": [
    "Creating edges with properties are always done with the nodes these edges belong. This means, you cannot create edges alone, they always have to be connected to nodes.\n",
    "\n",
    "The creation of edges are done as a step between the nodes when the edges has at least one property:"
   ]
  },
  {
   "cell_type": "code",
   "execution_count": 20,
   "id": "2eedcac2-d566-4e4d-aab7-0f6a55caf437",
   "metadata": {},
   "outputs": [],
   "source": [
    "from wind_turbine import data_classes as data_cls"
   ]
  },
  {
   "cell_type": "code",
   "execution_count": 26,
   "id": "8755569b-dc09-45e2-86ca-dfc9f0777638",
   "metadata": {},
   "outputs": [],
   "source": [
    "new_turbine = data_cls.WindTurbineWrite(\n",
    "    external_id=\"doctriono_b\",\n",
    "    name=\"A new Wind Turbine\",\n",
    "    capacity=8.0,\n",
    "    metmast=[\n",
    "        data_cls.DistanceWrite(\n",
    "            distance=500.0,\n",
    "            end_node=data_cls.MetmastWrite(\n",
    "                external_id=\"doctrino_weather\",\n",
    "                position=42.0,\n",
    "            ),\n",
    "        )\n",
    "    ],\n",
    ")"
   ]
  },
  {
   "cell_type": "markdown",
   "id": "d01197a5-5a99-4623-8ef4-bff1e97f4c97",
   "metadata": {},
   "source": [
    "We can now create the new turbine with a memast startion"
   ]
  },
  {
   "cell_type": "code",
   "execution_count": 27,
   "id": "ee02ed18-3fd7-485a-b57c-35ed0da96840",
   "metadata": {},
   "outputs": [],
   "source": [
    "created = pygen.upsert(new_turbine)"
   ]
  },
  {
   "cell_type": "code",
   "execution_count": 28,
   "id": "f89f701e-2095-4aa9-a7ee-a4b1db3b3f25",
   "metadata": {},
   "outputs": [
    {
     "data": {
      "text/html": [
       "<div>\n",
       "<style scoped>\n",
       "    .dataframe tbody tr th:only-of-type {\n",
       "        vertical-align: middle;\n",
       "    }\n",
       "\n",
       "    .dataframe tbody tr th {\n",
       "        vertical-align: top;\n",
       "    }\n",
       "\n",
       "    .dataframe thead th {\n",
       "        text-align: right;\n",
       "    }\n",
       "</style>\n",
       "<table border=\"1\" class=\"dataframe\">\n",
       "  <thead>\n",
       "    <tr style=\"text-align: right;\">\n",
       "      <th></th>\n",
       "      <th>space</th>\n",
       "      <th>instance_type</th>\n",
       "      <th>external_id</th>\n",
       "      <th>version</th>\n",
       "      <th>was_modified</th>\n",
       "      <th>last_updated_time</th>\n",
       "      <th>created_time</th>\n",
       "    </tr>\n",
       "  </thead>\n",
       "  <tbody>\n",
       "    <tr>\n",
       "      <th>0</th>\n",
       "      <td>sp_wind</td>\n",
       "      <td>node</td>\n",
       "      <td>doctriono_b</td>\n",
       "      <td>1</td>\n",
       "      <td>True</td>\n",
       "      <td>2024-11-16 21:19:33.212</td>\n",
       "      <td>2024-11-16 21:19:33.212</td>\n",
       "    </tr>\n",
       "    <tr>\n",
       "      <th>1</th>\n",
       "      <td>sp_wind</td>\n",
       "      <td>node</td>\n",
       "      <td>doctrino_weather</td>\n",
       "      <td>1</td>\n",
       "      <td>True</td>\n",
       "      <td>2024-11-16 21:19:33.212</td>\n",
       "      <td>2024-11-16 21:19:33.212</td>\n",
       "    </tr>\n",
       "  </tbody>\n",
       "</table>\n",
       "</div>"
      ],
      "text/plain": [
       "NodeApplyResultList([<NodeApplyResult(space='sp_wind', external_id='doctriono_b', version=1) at 0x278a33ffd00>,\n",
       "                     <NodeApplyResult(space='sp_wind', external_id='doctrino_weather', version=1) at 0x278a33ffa60>])"
      ]
     },
     "execution_count": 28,
     "metadata": {},
     "output_type": "execute_result"
    }
   ],
   "source": [
    "created.nodes"
   ]
  },
  {
   "cell_type": "code",
   "execution_count": 29,
   "id": "dbccf29d-d70c-4241-89e6-684d4abeea9f",
   "metadata": {},
   "outputs": [
    {
     "data": {
      "text/html": [
       "<div>\n",
       "<style scoped>\n",
       "    .dataframe tbody tr th:only-of-type {\n",
       "        vertical-align: middle;\n",
       "    }\n",
       "\n",
       "    .dataframe tbody tr th {\n",
       "        vertical-align: top;\n",
       "    }\n",
       "\n",
       "    .dataframe thead th {\n",
       "        text-align: right;\n",
       "    }\n",
       "</style>\n",
       "<table border=\"1\" class=\"dataframe\">\n",
       "  <thead>\n",
       "    <tr style=\"text-align: right;\">\n",
       "      <th></th>\n",
       "      <th>space</th>\n",
       "      <th>instance_type</th>\n",
       "      <th>external_id</th>\n",
       "      <th>version</th>\n",
       "      <th>was_modified</th>\n",
       "      <th>last_updated_time</th>\n",
       "      <th>created_time</th>\n",
       "    </tr>\n",
       "  </thead>\n",
       "  <tbody>\n",
       "    <tr>\n",
       "      <th>0</th>\n",
       "      <td>sp_wind</td>\n",
       "      <td>edge</td>\n",
       "      <td>doctriono_b:doctrino_weather</td>\n",
       "      <td>1</td>\n",
       "      <td>True</td>\n",
       "      <td>2024-11-16 21:19:33.212</td>\n",
       "      <td>2024-11-16 21:19:33.212</td>\n",
       "    </tr>\n",
       "  </tbody>\n",
       "</table>\n",
       "</div>"
      ],
      "text/plain": [
       "EdgeApplyResultList([<EdgeApplyResult(space='sp_wind', external_id='doctriono_b:doctrino_weather', version=1) at 0x278a33fefe0>])"
      ]
     },
     "execution_count": 29,
     "metadata": {},
     "output_type": "execute_result"
    }
   ],
   "source": [
    "created.edges"
   ]
  },
  {
   "cell_type": "code",
   "execution_count": 30,
   "id": "1bb77238-8bc6-4311-851e-946da33b5881",
   "metadata": {},
   "outputs": [
    {
     "data": {
      "text/html": [
       "<div>\n",
       "<style scoped>\n",
       "    .dataframe tbody tr th:only-of-type {\n",
       "        vertical-align: middle;\n",
       "    }\n",
       "\n",
       "    .dataframe tbody tr th {\n",
       "        vertical-align: top;\n",
       "    }\n",
       "\n",
       "    .dataframe thead th {\n",
       "        text-align: right;\n",
       "    }\n",
       "</style>\n",
       "<table border=\"1\" class=\"dataframe\">\n",
       "  <thead>\n",
       "    <tr style=\"text-align: right;\">\n",
       "      <th></th>\n",
       "    </tr>\n",
       "  </thead>\n",
       "  <tbody>\n",
       "  </tbody>\n",
       "</table>\n",
       "</div>"
      ],
      "text/plain": [
       "TimeSeriesList([])"
      ]
     },
     "execution_count": 30,
     "metadata": {},
     "output_type": "execute_result"
    }
   ],
   "source": [
    "created.time_series"
   ]
  },
  {
   "cell_type": "code",
   "execution_count": 32,
   "id": "73a7a944-abc1-45ad-9f66-0530aee46592",
   "metadata": {},
   "outputs": [
    {
     "data": {
      "text/plain": [
       "InstancesDeleteResult(nodes=[NodeId(space='sp_wind', external_id='doctriono_b'), NodeId(space='sp_wind', external_id='doctrino_weather')], edges=[EdgeId(space='sp_wind', external_id='doctriono_b:doctrino_weather')])"
      ]
     },
     "execution_count": 32,
     "metadata": {},
     "output_type": "execute_result"
    }
   ],
   "source": [
    "# Clean\n",
    "pygen.delete(new_turbine)"
   ]
  },
  {
   "cell_type": "markdown",
   "id": "6410f1f7-d1bc-41bc-a848-60497c7f8e2f",
   "metadata": {},
   "source": [
    "## (Advanced) External ID Hook\n",
    "`pygen` sets the `external_id` for edges automatically for you. This is done with an `external_id` hook, and if you want to control this behavior you can overwrite this hook to control how external ids are set.\n"
   ]
  },
  {
   "cell_type": "code",
   "execution_count": 35,
   "id": "d0e4ffc8-2e35-48e2-9da3-b34afa1583f7",
   "metadata": {},
   "outputs": [],
   "source": [
    "from wind_turbine import data_classes as data_cls"
   ]
  },
  {
   "cell_type": "code",
   "execution_count": 36,
   "id": "3c600abf-f445-4637-984a-c1e3022076b7",
   "metadata": {},
   "outputs": [
    {
     "data": {
      "text/plain": [
       "<function wind_turbine.data_classes._core.base.default_edge_external_id_factory(start_node: 'DomainModelWrite | str | dm.NodeId', end_node: 'DomainModelWrite | str | dm.NodeId', edge_type: 'dm.DirectRelationReference') -> 'str'>"
      ]
     },
     "execution_count": 36,
     "metadata": {},
     "output_type": "execute_result"
    }
   ],
   "source": [
    "data_cls.DomainRelationWrite.external_id_factory"
   ]
  },
  {
   "cell_type": "markdown",
   "id": "28f420ea-0ff0-488c-b112-b10a11406cc0",
   "metadata": {},
   "source": [
    "We can for example set this to a uuid"
   ]
  },
  {
   "cell_type": "code",
   "execution_count": 37,
   "id": "94bb003a-5a61-4c45-9a4a-857320a7debf",
   "metadata": {},
   "outputs": [],
   "source": [
    "from uuid import uuid4"
   ]
  },
  {
   "cell_type": "code",
   "execution_count": 44,
   "id": "94db9b2f-20e1-4673-9917-dcf497f83ea3",
   "metadata": {},
   "outputs": [],
   "source": [
    "def my_id_creator(*_, **__) -> str:\n",
    "    return str(uuid4())"
   ]
  },
  {
   "cell_type": "code",
   "execution_count": 45,
   "id": "72876b3e-6893-43d6-96e2-0aff410d4da7",
   "metadata": {},
   "outputs": [],
   "source": [
    "data_cls.DomainRelationWrite.external_id_factory = my_id_creator"
   ]
  },
  {
   "cell_type": "markdown",
   "id": "3daec491-f0d6-4cec-ae53-b224e2f60949",
   "metadata": {},
   "source": [
    "We now repeat the example above"
   ]
  },
  {
   "cell_type": "code",
   "execution_count": 46,
   "id": "b546e7b9-9b17-4799-ad35-686b4dc7de35",
   "metadata": {},
   "outputs": [],
   "source": [
    "new_turbine = data_cls.WindTurbineWrite(\n",
    "    external_id=\"doctriono_b\",\n",
    "    name=\"A new Wind Turbine\",\n",
    "    capacity=8.0,\n",
    "    metmast=[\n",
    "        data_cls.DistanceWrite(\n",
    "            distance=500.0,\n",
    "            end_node=data_cls.MetmastWrite(\n",
    "                external_id=\"doctrino_weather\",\n",
    "                position=42.0,\n",
    "            ),\n",
    "        )\n",
    "    ],\n",
    ")"
   ]
  },
  {
   "cell_type": "code",
   "execution_count": 47,
   "id": "60abda43-6047-4fad-882d-ae1d718d1925",
   "metadata": {},
   "outputs": [],
   "source": [
    "resources = new_turbine.to_instances_write()"
   ]
  },
  {
   "cell_type": "code",
   "execution_count": 48,
   "id": "25c8d2b4-9990-49aa-8e18-970855d5fb29",
   "metadata": {},
   "outputs": [
    {
     "data": {
      "text/plain": [
       "'4a1c28c7-3296-4742-9d9e-25aa6cf826ea'"
      ]
     },
     "execution_count": 48,
     "metadata": {},
     "output_type": "execute_result"
    }
   ],
   "source": [
    "resources.edges[0].external_id"
   ]
  },
  {
   "cell_type": "markdown",
   "id": "e431fbc8-3c82-4c90-966d-e1498b571cf3",
   "metadata": {},
   "source": [
    "We notice that this time the external ID of the edge is set to an UUID"
   ]
  },
  {
   "cell_type": "markdown",
   "id": "b2376680-6ce2-4031-9cfe-4036d0288233",
   "metadata": {},
   "source": [
    "We can reset back to the default external id hook, by calling the following"
   ]
  },
  {
   "cell_type": "code",
   "execution_count": 61,
   "id": "18ebcf45-0fe3-4a53-9045-f92e298b8f61",
   "metadata": {},
   "outputs": [],
   "source": [
    "data_cls.DomainRelationWrite.reset_external_id_factory()"
   ]
  },
  {
   "cell_type": "markdown",
   "id": "92291259-cfbb-4477-9a0e-96ebc5f8ac80",
   "metadata": {},
   "source": [
    "**Note** If we do not want to use the external id hook, we can pass in the `external_id` directly "
   ]
  },
  {
   "cell_type": "code",
   "execution_count": 63,
   "id": "777c8476-f2bc-4073-a292-daf71318bf94",
   "metadata": {},
   "outputs": [],
   "source": [
    "new_turbine = data_cls.WindTurbineWrite(\n",
    "    external_id=\"doctriono_b\",\n",
    "    name=\"A new Wind Turbine\",\n",
    "    capacity=8.0,\n",
    "    metmast=[\n",
    "        data_cls.DistanceWrite(\n",
    "            external_id=\"distance_from_doctrino_b_to_doctrino_weather\",\n",
    "            distance=500.0,\n",
    "            end_node=data_cls.MetmastWrite(\n",
    "                external_id=\"doctrino_weather\",\n",
    "                position=42.0,\n",
    "            ),\n",
    "        )\n",
    "    ],\n",
    ")"
   ]
  },
  {
   "cell_type": "code",
   "execution_count": 64,
   "id": "a14f6fb8-f9c5-4111-9fe5-16c6eb0ccd5a",
   "metadata": {},
   "outputs": [
    {
     "data": {
      "text/plain": [
       "'distance_from_doctrino_b_to_doctrino_weather'"
      ]
     },
     "execution_count": 64,
     "metadata": {},
     "output_type": "execute_result"
    }
   ],
   "source": [
    "new_turbine.to_instances_write().edges[0].external_id"
   ]
  },
  {
   "cell_type": "code",
   "execution_count": null,
   "id": "32ab80f1-851d-462c-a45a-f63d493f729d",
   "metadata": {},
   "outputs": [],
   "source": []
  }
 ],
 "metadata": {
  "kernelspec": {
   "display_name": "Python 3 (ipykernel)",
   "language": "python",
   "name": "python3"
  },
  "language_info": {
   "codemirror_mode": {
    "name": "ipython",
    "version": 3
   },
   "file_extension": ".py",
   "mimetype": "text/x-python",
   "name": "python",
   "nbconvert_exporter": "python",
   "pygments_lexer": "ipython3",
   "version": "3.10.11"
  }
 },
 "nbformat": 4,
 "nbformat_minor": 5
}
