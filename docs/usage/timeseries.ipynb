{
 "cells": [
  {
   "cell_type": "code",
   "execution_count": 7,
   "id": "e32acfc3-632c-479e-95be-331461c4d5f9",
   "metadata": {
    "editable": true,
    "slideshow": {
     "slide_type": ""
    },
    "tags": [
     "hide"
    ]
   },
   "outputs": [],
   "source": [
    "# This is just to enable improting the generated SDK from the examples folder in the pygen repository\n",
    "import sys\n",
    "import warnings\n",
    "\n",
    "from tests.constants import REPO_ROOT\n",
    "\n",
    "warnings.filterwarnings(\"ignore\")\n",
    "\n",
    "sys.path.append(str(REPO_ROOT / \"examples\"))"
   ]
  },
  {
   "attachments": {},
   "cell_type": "markdown",
   "id": "34ed5247-d76c-4b22-a5d9-6ead02628433",
   "metadata": {},
   "source": [
    "# Working with Time Series\n",
    "\n",
    "To demonstrate working with time series, we notice that `SensorTimeSeries` is an extension of `CogniteTimeSeries` in the `WindTurbine` model\n",
    "\n",
    "<img src=\"images/windturbine_model.png\" width=\"800\">"
   ]
  },
  {
   "cell_type": "code",
   "execution_count": 8,
   "id": "7c998b1d-8c54-458f-8493-2bc291ba32bd",
   "metadata": {},
   "outputs": [],
   "source": [
    "from wind_turbine import WindTurbineClient"
   ]
  },
  {
   "cell_type": "code",
   "execution_count": 9,
   "id": "e884e5dd-aaa9-4a40-8449-da77c202f8cc",
   "metadata": {},
   "outputs": [],
   "source": [
    "pygen = WindTurbineClient.from_toml(\"config.toml\")"
   ]
  },
  {
   "cell_type": "markdown",
   "id": "b85525b0-4f93-44e8-961a-9b81df7adff5",
   "metadata": {},
   "source": [
    "## Listing timeseries\n",
    "\n",
    "We can list the timeseries directly with the `sensor_time_series` attribute"
   ]
  },
  {
   "cell_type": "code",
   "execution_count": 10,
   "id": "1822855a-2802-4ca9-88da-f1644474f683",
   "metadata": {},
   "outputs": [
    {
     "data": {
      "text/html": [
       "<div>\n",
       "<style scoped>\n",
       "    .dataframe tbody tr th:only-of-type {\n",
       "        vertical-align: middle;\n",
       "    }\n",
       "\n",
       "    .dataframe tbody tr th {\n",
       "        vertical-align: top;\n",
       "    }\n",
       "\n",
       "    .dataframe thead th {\n",
       "        text-align: right;\n",
       "    }\n",
       "</style>\n",
       "<table border=\"1\" class=\"dataframe\">\n",
       "  <thead>\n",
       "    <tr style=\"text-align: right;\">\n",
       "      <th></th>\n",
       "      <th>space</th>\n",
       "      <th>external_id</th>\n",
       "      <th>aliases</th>\n",
       "      <th>concept_id</th>\n",
       "      <th>description</th>\n",
       "      <th>is_step</th>\n",
       "      <th>name</th>\n",
       "      <th>source_unit</th>\n",
       "      <th>standard_name</th>\n",
       "      <th>type_</th>\n",
       "      <th>data_record</th>\n",
       "    </tr>\n",
       "  </thead>\n",
       "  <tbody>\n",
       "    <tr>\n",
       "      <th>0</th>\n",
       "      <td>sp_wind</td>\n",
       "      <td>V52-WindTurbine.Gear_D_Z</td>\n",
       "      <td>[Gearbox Displacement]</td>\n",
       "      <td>http://purl.org/aspect/gearbox_displacement</td>\n",
       "      <td>Gearbox Displacement Z (laser sensor) (not cal...</td>\n",
       "      <td>False</td>\n",
       "      <td>Gear_D_Z</td>\n",
       "      <td>V</td>\n",
       "      <td>gearbox_displacement</td>\n",
       "      <td>numeric</td>\n",
       "      <td>{'version': 1, 'last_updated_time': 2024-11-16...</td>\n",
       "    </tr>\n",
       "    <tr>\n",
       "      <th>1</th>\n",
       "      <td>sp_wind</td>\n",
       "      <td>V52-WindTurbine.MyA4_O</td>\n",
       "      <td>[Edgewise Bending Moment]</td>\n",
       "      <td>http://purl.org/aspect/edgewise_bending_moment</td>\n",
       "      <td>Edgewise Bend. Mom. Blade A R6.6m Offset</td>\n",
       "      <td>False</td>\n",
       "      <td>MyA4_O</td>\n",
       "      <td>kNm</td>\n",
       "      <td>edgewise_bending_moment</td>\n",
       "      <td>numeric</td>\n",
       "      <td>{'version': 1, 'last_updated_time': 2024-11-16...</td>\n",
       "    </tr>\n",
       "    <tr>\n",
       "      <th>2</th>\n",
       "      <td>sp_wind</td>\n",
       "      <td>V52-WindTurbine.cnt0</td>\n",
       "      <td>[Low Speed Shaft Rotational Speed]</td>\n",
       "      <td>http://purl.org/aspect/low_speed_shaft_rotatio...</td>\n",
       "      <td>Revolution per minutes of the low speed shaft,...</td>\n",
       "      <td>False</td>\n",
       "      <td>cnt0</td>\n",
       "      <td>RPM</td>\n",
       "      <td>low_speed_shaft_rotational_speed</td>\n",
       "      <td>numeric</td>\n",
       "      <td>{'version': 1, 'last_updated_time': 2024-11-16...</td>\n",
       "    </tr>\n",
       "    <tr>\n",
       "      <th>3</th>\n",
       "      <td>sp_wind</td>\n",
       "      <td>witznitz_efficiency</td>\n",
       "      <td>[Witznitz Efficiency]</td>\n",
       "      <td>http://purl.org/aspect/solarPanel/efficiency</td>\n",
       "      <td>Witznitz Efficiency</td>\n",
       "      <td>False</td>\n",
       "      <td>Witznitz Efficiency</td>\n",
       "      <td>percent</td>\n",
       "      <td>Witznitz Efficiency</td>\n",
       "      <td>numeric</td>\n",
       "      <td>{'version': 1, 'last_updated_time': 2024-11-16...</td>\n",
       "    </tr>\n",
       "    <tr>\n",
       "      <th>4</th>\n",
       "      <td>sp_wind</td>\n",
       "      <td>V52-WindTurbine.MxA4_O</td>\n",
       "      <td>[Flapwise Bending Moment]</td>\n",
       "      <td>http://purl.org/aspect/flapwise_bending_moment</td>\n",
       "      <td>Flapwise Bend. Mom. Blade A R6.6m Offset</td>\n",
       "      <td>False</td>\n",
       "      <td>MxA4_O</td>\n",
       "      <td>kNm</td>\n",
       "      <td>flapwise_bending_moment</td>\n",
       "      <td>numeric</td>\n",
       "      <td>{'version': 1, 'last_updated_time': 2024-11-16...</td>\n",
       "    </tr>\n",
       "  </tbody>\n",
       "</table>\n",
       "</div>"
      ],
      "text/plain": [
       "SensorTimeSeriesList([SensorTimeSeries(space='sp_wind', external_id='V52-WindTurbine.Gear_D_Z', data_record=DataRecord(version=1, last_updated_time=datetime.datetime(2024, 11, 16, 14, 8, 1, 544000, tzinfo=TzInfo(UTC)), created_time=datetime.datetime(2024, 11, 16, 14, 8, 1, 544000, tzinfo=TzInfo(UTC)), deleted_time=None), node_type=None, aliases=['Gearbox Displacement'], concept_id='http://purl.org/aspect/gearbox_displacement', description='Gearbox Displacement Z (laser sensor) (not calibrated)', is_step=False, name='Gear_D_Z', source_unit='V', standard_name='gearbox_displacement', type_='numeric'),\n",
       "                      SensorTimeSeries(space='sp_wind', external_id='V52-WindTurbine.MyA4_O', data_record=DataRecord(version=1, last_updated_time=datetime.datetime(2024, 11, 16, 14, 8, 1, 544000, tzinfo=TzInfo(UTC)), created_time=datetime.datetime(2024, 11, 16, 14, 8, 1, 544000, tzinfo=TzInfo(UTC)), deleted_time=None), node_type=None, aliases=['Edgewise Bending Moment'], concept_id='http://purl.org/aspect/edgewise_bending_moment', description='Edgewise Bend. Mom. Blade A R6.6m Offset', is_step=False, name='MyA4_O', source_unit='kNm', standard_name='edgewise_bending_moment', type_='numeric'),\n",
       "                      SensorTimeSeries(space='sp_wind', external_id='V52-WindTurbine.cnt0', data_record=DataRecord(version=1, last_updated_time=datetime.datetime(2024, 11, 16, 14, 8, 1, 544000, tzinfo=TzInfo(UTC)), created_time=datetime.datetime(2024, 11, 16, 14, 8, 1, 544000, tzinfo=TzInfo(UTC)), deleted_time=None), node_type=None, aliases=['Low Speed Shaft Rotational Speed'], concept_id='http://purl.org/aspect/low_speed_shaft_rotational_speed', description='Revolution per minutes of the low speed shaft, used for rotor position', is_step=False, name='cnt0', source_unit='RPM', standard_name='low_speed_shaft_rotational_speed', type_='numeric'),\n",
       "                      SensorTimeSeries(space='sp_wind', external_id='witznitz_efficiency', data_record=DataRecord(version=1, last_updated_time=datetime.datetime(2024, 11, 16, 14, 8, 1, 544000, tzinfo=TzInfo(UTC)), created_time=datetime.datetime(2024, 11, 16, 14, 8, 1, 544000, tzinfo=TzInfo(UTC)), deleted_time=None), node_type=None, aliases=['Witznitz Efficiency'], concept_id='http://purl.org/aspect/solarPanel/efficiency', description='Witznitz Efficiency', is_step=False, name='Witznitz Efficiency', source_unit='percent', standard_name='Witznitz Efficiency', type_='numeric'),\n",
       "                      SensorTimeSeries(space='sp_wind', external_id='V52-WindTurbine.MxA4_O', data_record=DataRecord(version=1, last_updated_time=datetime.datetime(2024, 11, 16, 14, 8, 1, 544000, tzinfo=TzInfo(UTC)), created_time=datetime.datetime(2024, 11, 16, 14, 8, 1, 544000, tzinfo=TzInfo(UTC)), deleted_time=None), node_type=None, aliases=['Flapwise Bending Moment'], concept_id='http://purl.org/aspect/flapwise_bending_moment', description='Flapwise Bend. Mom. Blade A R6.6m Offset', is_step=False, name='MxA4_O', source_unit='kNm', standard_name='flapwise_bending_moment', type_='numeric')])"
      ]
     },
     "execution_count": 10,
     "metadata": {},
     "output_type": "execute_result"
    }
   ],
   "source": [
    "timeseries = pygen.sensor_time_series.list(limit=5)\n",
    "timeseries"
   ]
  },
  {
   "cell_type": "markdown",
   "id": "a9f953c7-efb8-482e-a354-3b58f8c8290a",
   "metadata": {},
   "source": [
    "## Retriving Data Points\n",
    "\n",
    "To retrieve data points we use the `.select()` method in the same way as when we do regular queries.\n",
    "\n",
    "For example, if we want to view the `rotor_speed_controller` of the rotor for the `hornsea_1_mill_1` turbine:"
   ]
  },
  {
   "cell_type": "code",
   "execution_count": 11,
   "id": "0ae2bf45-a673-4377-a9ef-6aca11c0aca1",
   "metadata": {},
   "outputs": [
    {
     "data": {
      "text/html": [
       "<div>\n",
       "<style scoped>\n",
       "    .dataframe tbody tr th:only-of-type {\n",
       "        vertical-align: middle;\n",
       "    }\n",
       "\n",
       "    .dataframe tbody tr th {\n",
       "        vertical-align: top;\n",
       "    }\n",
       "\n",
       "    .dataframe thead th {\n",
       "        text-align: right;\n",
       "    }\n",
       "</style>\n",
       "<table border=\"1\" class=\"dataframe\">\n",
       "  <thead>\n",
       "    <tr style=\"text-align: right;\">\n",
       "      <th></th>\n",
       "      <th>NodeId(sp_wind, V52-WindTurbine.ROT)</th>\n",
       "    </tr>\n",
       "  </thead>\n",
       "  <tbody>\n",
       "    <tr>\n",
       "      <th>2018-01-01 16:00:00.020</th>\n",
       "      <td>23.6999</td>\n",
       "    </tr>\n",
       "    <tr>\n",
       "      <th>2018-01-01 16:00:00.040</th>\n",
       "      <td>23.6999</td>\n",
       "    </tr>\n",
       "    <tr>\n",
       "      <th>2018-01-01 16:00:00.060</th>\n",
       "      <td>23.6999</td>\n",
       "    </tr>\n",
       "    <tr>\n",
       "      <th>2018-01-01 16:00:00.080</th>\n",
       "      <td>23.6999</td>\n",
       "    </tr>\n",
       "    <tr>\n",
       "      <th>2018-01-01 16:00:00.100</th>\n",
       "      <td>23.6999</td>\n",
       "    </tr>\n",
       "    <tr>\n",
       "      <th>...</th>\n",
       "      <td>...</td>\n",
       "    </tr>\n",
       "    <tr>\n",
       "      <th>2018-01-01 16:00:01.920</th>\n",
       "      <td>24.0995</td>\n",
       "    </tr>\n",
       "    <tr>\n",
       "      <th>2018-01-01 16:00:01.940</th>\n",
       "      <td>24.0995</td>\n",
       "    </tr>\n",
       "    <tr>\n",
       "      <th>2018-01-01 16:00:01.960</th>\n",
       "      <td>24.0995</td>\n",
       "    </tr>\n",
       "    <tr>\n",
       "      <th>2018-01-01 16:00:01.980</th>\n",
       "      <td>24.0995</td>\n",
       "    </tr>\n",
       "    <tr>\n",
       "      <th>2018-01-01 16:00:02.000</th>\n",
       "      <td>24.0995</td>\n",
       "    </tr>\n",
       "  </tbody>\n",
       "</table>\n",
       "<p>100 rows × 1 columns</p>\n",
       "</div>"
      ],
      "text/plain": [
       "                         NodeId(sp_wind, V52-WindTurbine.ROT)\n",
       "2018-01-01 16:00:00.020                               23.6999\n",
       "2018-01-01 16:00:00.040                               23.6999\n",
       "2018-01-01 16:00:00.060                               23.6999\n",
       "2018-01-01 16:00:00.080                               23.6999\n",
       "2018-01-01 16:00:00.100                               23.6999\n",
       "...                                                       ...\n",
       "2018-01-01 16:00:01.920                               24.0995\n",
       "2018-01-01 16:00:01.940                               24.0995\n",
       "2018-01-01 16:00:01.960                               24.0995\n",
       "2018-01-01 16:00:01.980                               24.0995\n",
       "2018-01-01 16:00:02.000                               24.0995\n",
       "\n",
       "[100 rows x 1 columns]"
      ]
     },
     "execution_count": 11,
     "metadata": {},
     "output_type": "execute_result"
    }
   ],
   "source": [
    "df = (\n",
    "    pygen.wind_turbine.select()\n",
    "    .name.equals(\"hornsea_1_mill_1\")\n",
    "    .rotor.rotor_speed_controller.data.retrieve_dataframe(limit=100)\n",
    ")\n",
    "df"
   ]
  },
  {
   "cell_type": "markdown",
   "id": "a5c3d924-d41d-4b55-962a-0cd2ea35557d",
   "metadata": {},
   "source": [
    "## Retrieving <code>pandas</code> DataFrame in Time Zone"
   ]
  },
  {
   "cell_type": "code",
   "execution_count": 14,
   "id": "b4a6ed4d-3710-49e7-945f-f4165e618979",
   "metadata": {},
   "outputs": [],
   "source": [
    "from zoneinfo import ZoneInfo"
   ]
  },
  {
   "cell_type": "code",
   "execution_count": 15,
   "id": "6ff38faa-46c6-43d2-9390-3b458519f3fb",
   "metadata": {},
   "outputs": [],
   "source": [
    "tz = ZoneInfo(\"Europe/Oslo\")"
   ]
  },
  {
   "cell_type": "code",
   "execution_count": 18,
   "id": "cd8417c3-49d3-4c53-afd1-29e44d216dae",
   "metadata": {},
   "outputs": [
    {
     "data": {
      "text/html": [
       "<div>\n",
       "<style scoped>\n",
       "    .dataframe tbody tr th:only-of-type {\n",
       "        vertical-align: middle;\n",
       "    }\n",
       "\n",
       "    .dataframe tbody tr th {\n",
       "        vertical-align: top;\n",
       "    }\n",
       "\n",
       "    .dataframe thead th {\n",
       "        text-align: right;\n",
       "    }\n",
       "</style>\n",
       "<table border=\"1\" class=\"dataframe\">\n",
       "  <thead>\n",
       "    <tr style=\"text-align: right;\">\n",
       "      <th></th>\n",
       "      <th>NodeId(sp_wind, V52-WindTurbine.ROT)</th>\n",
       "    </tr>\n",
       "  </thead>\n",
       "  <tbody>\n",
       "    <tr>\n",
       "      <th>2018-01-01 17:00:00.020000+01:00</th>\n",
       "      <td>23.6999</td>\n",
       "    </tr>\n",
       "    <tr>\n",
       "      <th>2018-01-01 17:00:00.040000+01:00</th>\n",
       "      <td>23.6999</td>\n",
       "    </tr>\n",
       "    <tr>\n",
       "      <th>2018-01-01 17:00:00.060000+01:00</th>\n",
       "      <td>23.6999</td>\n",
       "    </tr>\n",
       "    <tr>\n",
       "      <th>2018-01-01 17:00:00.080000+01:00</th>\n",
       "      <td>23.6999</td>\n",
       "    </tr>\n",
       "    <tr>\n",
       "      <th>2018-01-01 17:00:00.100000+01:00</th>\n",
       "      <td>23.6999</td>\n",
       "    </tr>\n",
       "    <tr>\n",
       "      <th>...</th>\n",
       "      <td>...</td>\n",
       "    </tr>\n",
       "    <tr>\n",
       "      <th>2018-01-01 17:00:19.920000+01:00</th>\n",
       "      <td>23.9998</td>\n",
       "    </tr>\n",
       "    <tr>\n",
       "      <th>2018-01-01 17:00:19.940000+01:00</th>\n",
       "      <td>23.9998</td>\n",
       "    </tr>\n",
       "    <tr>\n",
       "      <th>2018-01-01 17:00:19.960000+01:00</th>\n",
       "      <td>23.9998</td>\n",
       "    </tr>\n",
       "    <tr>\n",
       "      <th>2018-01-01 17:00:19.980000+01:00</th>\n",
       "      <td>23.9998</td>\n",
       "    </tr>\n",
       "    <tr>\n",
       "      <th>2018-01-01 17:00:20+01:00</th>\n",
       "      <td>23.9998</td>\n",
       "    </tr>\n",
       "  </tbody>\n",
       "</table>\n",
       "<p>1000 rows × 1 columns</p>\n",
       "</div>"
      ],
      "text/plain": [
       "                                  NodeId(sp_wind, V52-WindTurbine.ROT)\n",
       "2018-01-01 17:00:00.020000+01:00                               23.6999\n",
       "2018-01-01 17:00:00.040000+01:00                               23.6999\n",
       "2018-01-01 17:00:00.060000+01:00                               23.6999\n",
       "2018-01-01 17:00:00.080000+01:00                               23.6999\n",
       "2018-01-01 17:00:00.100000+01:00                               23.6999\n",
       "...                                                                ...\n",
       "2018-01-01 17:00:19.920000+01:00                               23.9998\n",
       "2018-01-01 17:00:19.940000+01:00                               23.9998\n",
       "2018-01-01 17:00:19.960000+01:00                               23.9998\n",
       "2018-01-01 17:00:19.980000+01:00                               23.9998\n",
       "2018-01-01 17:00:20+01:00                                      23.9998\n",
       "\n",
       "[1000 rows x 1 columns]"
      ]
     },
     "execution_count": 18,
     "metadata": {},
     "output_type": "execute_result"
    }
   ],
   "source": [
    "df = (\n",
    "    pygen.wind_turbine.select()\n",
    "    .name.equals(\"hornsea_1_mill_1\")\n",
    "    .rotor.rotor_speed_controller.data.retrieve_dataframe(limit=1_000, timezone=tz)\n",
    ")\n",
    "df"
   ]
  },
  {
   "cell_type": "markdown",
   "id": "f71b408d-4f79-4e42-ae8c-d18465a1e60b",
   "metadata": {},
   "source": [
    "## Plotting Timeseries\n",
    "\n",
    "`pandas` has built in plotting and thus just chose a retrive methods that returns a `pandas` DataFrame and call `.plot()` on it."
   ]
  },
  {
   "cell_type": "code",
   "execution_count": 19,
   "id": "11062a42-96ec-4fd5-a93b-075713ce775b",
   "metadata": {},
   "outputs": [
    {
     "data": {
      "image/png": "[encoded data removed]",
      "text/plain": [
       "<Figure size 1500x700 with 1 Axes>"
      ]
     },
     "metadata": {},
     "output_type": "display_data"
    }
   ],
   "source": [
    "df.plot(figsize=(15, 7));"
   ]
  },
  {
   "cell_type": "code",
   "execution_count": null,
   "id": "7d2add73-f1d2-4e86-ac5e-5fb04e5d2fc2",
   "metadata": {},
   "outputs": [],
   "source": []
  }
 ],
 "metadata": {
  "kernelspec": {
   "display_name": "Python 3 (ipykernel)",
   "language": "python",
   "name": "python3"
  },
  "language_info": {
   "codemirror_mode": {
    "name": "ipython",
    "version": 3
   },
   "file_extension": ".py",
   "mimetype": "text/x-python",
   "name": "python",
   "nbconvert_exporter": "python",
   "pygments_lexer": "ipython3",
   "version": "3.10.11"
  }
 },
 "nbformat": 4,
 "nbformat_minor": 5
}
