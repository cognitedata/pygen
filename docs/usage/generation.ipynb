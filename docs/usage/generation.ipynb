{
 "cells": [
  {
   "cell_type": "markdown",
   "id": "b1cb328f-b364-4ff2-b7a9-1d8c204ef4c8",
   "metadata": {
    "editable": true,
    "slideshow": {
     "slide_type": ""
    },
    "tags": []
   },
   "source": [
    "# Generation of SDK\n",
    "\n",
    "In the usage section, we wil work with the following model of for wind turbines.\n"
   ]
  },
  {
   "attachments": {},
   "cell_type": "markdown",
   "id": "2e5c1449-49df-410f-bc3a-82ac58c27a1a",
   "metadata": {},
   "source": [
    "<img src=\"images/windturbine_model.png\" width=\"800\">"
   ]
  },
  {
   "cell_type": "markdown",
   "id": "9b1d8958-0175-43bc-96cb-2cf3ea2e228a",
   "metadata": {},
   "source": [
    "## Generation of SDK"
   ]
  },
  {
   "cell_type": "markdown",
   "id": "24c6bb39-d3a0-4976-ac6d-93c3a585c31c",
   "metadata": {},
   "source": [
    "To create a new Python SDK for the data model above, we assume you have installed `cognite-pygen[cli]` withe the CLI option.\n",
    "\n",
    "Furthermore, we have the model above located in the space `sp_pygen_power` with the external id `WindTurbine` and this is version `1`.\n",
    "\n",
    "We generate a new SDK with the following command\n",
    "```bash\n",
    "pygen generate --space sp_pygen_power --external-id WindTurbine --version 1 --tenant-id <tenant-id> --client-id <client-id> --client-secret <client-secret> --cdf-cluster <cdf-cluster> --cdf-project <cdf-project> \n",
    "```\n",
    "\n",
    "This create the SDK with the following folder structure\n",
    "\n",
    "```\n",
    "wind_turbine/\n",
    "├── _api\n",
    "│   ├── __init__.py\n",
    "│   ├── _core.py\n",
    "│   ├── blade.py\n",
    "│   ├── blade_query.py\n",
    "│   ├── blade_sensor_positions.py\n",
    "...\n",
    "│   ├── wind_turbine.py\n",
    "│   ├── wind_turbine_metmast.py\n",
    "│   └── wind_turbine_query.py\n",
    "├── data_classes\n",
    "│   ├── `__init__`.py\n",
    "│   ├── _core.py\n",
    "│   ├── _blade.py\n",
    "│   ├── _gearbox.py\n",
    "│   ├── _generator.py\n",
    "│   ├── _high_speed_shaft.py\n",
    "│   ├── _main_shaft.py\n",
    "│   ├── _metmast.py\n",
    "│   ├── _nacelle.py\n",
    "│   ├── _power_inverter.py\n",
    "│   ├── _rotor.py\n",
    "│   ├── _sensor_position.py\n",
    "│   └── _wind_turbine.py\n",
    "├── __init__.py\n",
    "└── _api_client.py\n",
    "```\n",
    "\n",
    "This is now available and can be imported"
   ]
  },
  {
   "cell_type": "markdown",
   "id": "dd430737-6369-41ec-a117-d621590a2d12",
   "metadata": {},
   "source": [
    "## Creating Client"
   ]
  },
  {
   "cell_type": "code",
   "execution_count": 6,
   "id": "8b26431a-4154-4b3d-83a7-9c4e598bbc3b",
   "metadata": {
    "editable": true,
    "slideshow": {
     "slide_type": ""
    },
    "tags": [
     "hide"
    ]
   },
   "outputs": [],
   "source": [
    "import warnings\n",
    "\n",
    "warnings.filterwarnings(\"ignore\")\n",
    "# This is just to enable improting the generated SDK from the examples folder in the pygen repository\n",
    "import sys  # noqa: E402\n",
    "\n",
    "from tests.constants import REPO_ROOT  # noqa: E402\n",
    "\n",
    "sys.path.append(str(REPO_ROOT / \"examples\"))"
   ]
  },
  {
   "cell_type": "markdown",
   "id": "61244389-a2f8-4f5f-9308-a10be3055597",
   "metadata": {},
   "source": [
    "### Creating a Client using CogniteClient"
   ]
  },
  {
   "cell_type": "markdown",
   "id": "01b20f09-8201-43c6-9c3b-9806bd9de77b",
   "metadata": {
    "editable": true,
    "pycharm": {
     "is_executing": true
    },
    "slideshow": {
     "slide_type": ""
    },
    "tags": []
   },
   "source": [
    "First, we need an instantiate `CogniteClient`, we can obtain this from any of the supported\n",
    "methods in the `cognite-sdk`:"
   ]
  },
  {
   "cell_type": "code",
   "execution_count": 7,
   "id": "2228e0fb-1e5f-4072-b9ec-023b1ebd8015",
   "metadata": {},
   "outputs": [],
   "source": [
    "from cognite.client import CogniteClient"
   ]
  },
  {
   "cell_type": "markdown",
   "id": "002bf51a-c00c-4937-b35e-b47b7753385f",
   "metadata": {},
   "source": [
    "**Service Principal in Microsoft Entra**"
   ]
  },
  {
   "cell_type": "code",
   "execution_count": 8,
   "id": "53cb0263-e78a-4dd9-b011-ff0545286148",
   "metadata": {},
   "outputs": [],
   "source": [
    "cognite_client = CogniteClient.default_oauth_client_credentials(\n",
    "    project=\"<my-cdf-project>\",\n",
    "    cdf_cluster=\"<my-cdf-cluster>\",\n",
    "    tenant_id=\"<my_domain>.onmicrosoft.com\",\n",
    "    client_id=\"<my_service_principal_client_id>\",\n",
    "    client_secret=\"<my_service_principal_client_secret>\",\n",
    ")"
   ]
  },
  {
   "cell_type": "markdown",
   "id": "f6fe3284-3949-46ed-9da2-c6b7f7fcab83",
   "metadata": {},
   "source": [
    "**Interactive Login Microsoft Entra**"
   ]
  },
  {
   "cell_type": "code",
   "execution_count": 9,
   "id": "1ae56fdd-3b9f-44b7-bf36-74feb2a80c26",
   "metadata": {},
   "outputs": [],
   "source": [
    "cognite_client = CogniteClient.default_oauth_interactive(\n",
    "    project=\"<my-cdf-project>\",\n",
    "    cdf_cluster=\"<my-cdf-cluster>\",\n",
    "    tenant_id=\"cognitepygen.onmicrosoft.com\",\n",
    "    client_id=\"<my_service_principal_client_id>\",\n",
    ")"
   ]
  },
  {
   "cell_type": "markdown",
   "id": "513e0e7d-ff3a-4f58-9e20-7f195f49e0e9",
   "metadata": {},
   "source": [
    "**Device Code**"
   ]
  },
  {
   "cell_type": "code",
   "execution_count": 10,
   "id": "b0d4ab6e-a0de-44ad-9f6b-84646917dbab",
   "metadata": {},
   "outputs": [],
   "source": [
    "from cognite.client import ClientConfig\n",
    "from cognite.client.credentials import OAuthDeviceCode"
   ]
  },
  {
   "cell_type": "code",
   "execution_count": 11,
   "id": "5a9b8f63-68a5-43c9-8d7f-349e58519347",
   "metadata": {},
   "outputs": [],
   "source": [
    "credentials = OAuthDeviceCode.default_for_azure_ad(\n",
    "    tenant_id=\"cognitepygen.onmicrosoft.com\",\n",
    "    client_id=\"<device_client_id>\",\n",
    "    cdf_cluster=\"<my-cdf-cluster>\",\n",
    ")\n",
    "\n",
    "cognite_client = CogniteClient(\n",
    "    ClientConfig(client_name=\"client-name\", project=\"<my-cdf-project>\", credentials=credentials)\n",
    ")"
   ]
  },
  {
   "cell_type": "markdown",
   "id": "0c2a5dd6-8876-4799-b8fb-7a680181d28c",
   "metadata": {},
   "source": [
    "With this `cognite_client` we can now instansiate a WindmillClient"
   ]
  },
  {
   "cell_type": "code",
   "execution_count": 12,
   "id": "971b9c49-725f-4161-8aa8-81be0426814a",
   "metadata": {},
   "outputs": [],
   "source": [
    "from wind_turbine import WindTurbineClient"
   ]
  },
  {
   "cell_type": "code",
   "execution_count": 13,
   "id": "117c7f35-6cc9-45f1-8265-bb5398154c0c",
   "metadata": {},
   "outputs": [],
   "source": [
    "pygen = WindTurbineClient(cognite_client)"
   ]
  },
  {
   "cell_type": "markdown",
   "id": "49129118-28f6-466a-b586-9c6ac98edaf1",
   "metadata": {},
   "source": [
    "### Creating a Client from TOML"
   ]
  },
  {
   "cell_type": "markdown",
   "id": "e7538d55-6f14-4443-84a2-a0604d10ab53",
   "metadata": {},
   "source": [
    "An alternative way of creating a `WindTurbineClient` is directly from a `TOML` file.\n",
    "\n",
    "We have a configuration file next to this notebook with the format\n",
    "\n",
    "```toml\n",
    "[cognite]\n",
    "project = \"<cdf-project>\"\n",
    "tenant_id = \"<tenant-id>\"\n",
    "cdf_cluster = \"<cdf-cluster>\"\n",
    "client_id = \"<client-id>\"\n",
    "client_secret = \"<client-secret>\"\n",
    "\n",
    "```\n",
    "\n",
    "This enables us to create a `WindTurbineClient` directly"
   ]
  },
  {
   "cell_type": "code",
   "execution_count": 14,
   "id": "285087cd-0d9c-45b1-a845-b469c2959dd2",
   "metadata": {
    "editable": true,
    "slideshow": {
     "slide_type": ""
    },
    "tags": []
   },
   "outputs": [],
   "source": [
    "pygen = WindTurbineClient.from_toml(\"config.toml\")"
   ]
  },
  {
   "cell_type": "markdown",
   "id": "a0b98f8e-f08f-429f-bb4e-9e95e45e07ee",
   "metadata": {},
   "source": [
    "The client has now been instantiated and is ready to go, [listing filtering and retrieving](listing_filtering_retrieving.html)."
   ]
  },
  {
   "cell_type": "code",
   "execution_count": 15,
   "id": "50c96070-4bd3-4584-b30c-ccc9a588aa72",
   "metadata": {},
   "outputs": [
    {
     "data": {
      "text/html": [
       "<strong>WindTurbineClient</strong> generated from data model (\"sp_pygen_power\", \"WindTurbine\", \"1\")<br />\n",
       "with the following APIs available<br />\n",
       "&nbsp;&nbsp;&nbsp;&nbsp;.blade<br />\n",
       "&nbsp;&nbsp;&nbsp;&nbsp;.data_sheet<br />\n",
       "&nbsp;&nbsp;&nbsp;&nbsp;.gearbox<br />\n",
       "&nbsp;&nbsp;&nbsp;&nbsp;.generating_unit<br />\n",
       "&nbsp;&nbsp;&nbsp;&nbsp;.generator<br />\n",
       "&nbsp;&nbsp;&nbsp;&nbsp;.high_speed_shaft<br />\n",
       "&nbsp;&nbsp;&nbsp;&nbsp;.main_shaft<br />\n",
       "&nbsp;&nbsp;&nbsp;&nbsp;.metmast<br />\n",
       "&nbsp;&nbsp;&nbsp;&nbsp;.nacelle<br />\n",
       "&nbsp;&nbsp;&nbsp;&nbsp;.power_inverter<br />\n",
       "&nbsp;&nbsp;&nbsp;&nbsp;.rotor<br />\n",
       "&nbsp;&nbsp;&nbsp;&nbsp;.sensor_position<br />\n",
       "&nbsp;&nbsp;&nbsp;&nbsp;.sensor_time_series<br />\n",
       "&nbsp;&nbsp;&nbsp;&nbsp;.solar_panel<br />\n",
       "&nbsp;&nbsp;&nbsp;&nbsp;.wind_turbine<br />\n",
       "<br />\n",
       "and with the methods:<br />\n",
       "&nbsp;&nbsp;&nbsp;&nbsp;.upsert - Create or update any instance.<br />\n",
       "&nbsp;&nbsp;&nbsp;&nbsp;.delete - Delete instances.<br />\n"
      ],
      "text/plain": [
       "<wind_turbine._api_client.WindTurbineClient at 0x22878513b50>"
      ]
     },
     "execution_count": 15,
     "metadata": {},
     "output_type": "execute_result"
    }
   ],
   "source": [
    "pygen"
   ]
  },
  {
   "cell_type": "code",
   "execution_count": null,
   "id": "9ec8da1d-8b6e-4670-96b0-e0648d4bc32c",
   "metadata": {},
   "outputs": [],
   "source": []
  }
 ],
 "metadata": {
  "kernelspec": {
   "display_name": "Python 3 (ipykernel)",
   "language": "python",
   "name": "python3"
  },
  "language_info": {
   "codemirror_mode": {
    "name": "ipython",
    "version": 3
   },
   "file_extension": ".py",
   "mimetype": "text/x-python",
   "name": "python",
   "nbconvert_exporter": "python",
   "pygments_lexer": "ipython3",
   "version": "3.10.11"
  }
 },
 "nbformat": 4,
 "nbformat_minor": 5
}
