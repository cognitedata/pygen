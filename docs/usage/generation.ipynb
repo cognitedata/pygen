{
 "cells": [
  {
   "cell_type": "markdown",
   "id": "b1cb328f-b364-4ff2-b7a9-1d8c204ef4c8",
   "metadata": {
    "editable": true,
    "slideshow": {
     "slide_type": ""
    },
    "tags": []
   },
   "source": [
    "# Generation of SDK\n",
    "\n",
    "In most of the usage demonstration we wil work with the following model of a windmill.\n"
   ]
  },
  {
   "attachments": {},
   "cell_type": "markdown",
   "id": "2e5c1449-49df-410f-bc3a-82ac58c27a1a",
   "metadata": {},
   "source": [
    "<img src=\"images/windmill_model.png\" width=\"800\">"
   ]
  },
  {
   "cell_type": "markdown",
   "id": "9b1d8958-0175-43bc-96cb-2cf3ea2e228a",
   "metadata": {},
   "source": [
    "## Generation of SDK"
   ]
  },
  {
   "cell_type": "markdown",
   "id": "24c6bb39-d3a0-4976-ac6d-93c3a585c31c",
   "metadata": {},
   "source": [
    "To create a new Python SDK for the data model above, we assume you have installed `cognite-pygen[cli]` withe the CLI option.\n",
    "\n",
    "Furthermore, we have the model above located in the space `power-models` with the external id `Windmill` and this is version `1`.\n",
    "\n",
    "We generate a new SDK with the following command\n",
    "```bash\n",
    "pygen --space power-models --external-id Windmill --version 1 --tenant-id <tenant-id> --client-id <client-id> --client-secret <client-secret> --cdf-cluster <cdf-cluster> --cdf-procect <cdf-project> --top-level-package windmill.client --client-name WindmillClient\n",
    "```\n",
    "\n",
    "This create the SDK with the following folder structure\n",
    "\n",
    "```\n",
    "windmill/client\n",
    "├── _api\n",
    "│   ├── __init__.py\n",
    "│   ├── _core.py\n",
    "│   ├── blade.py\n",
    "│   ├── blade_query.py\n",
    "│   ├── blade_sensor_positions.py\n",
    "...\n",
    "│   ├── windmill.py\n",
    "│   ├── windmill_blades.py\n",
    "│   ├── windmill-metmast.py\n",
    "│   └── windmill_query.py\n",
    "├── data_classes\n",
    "│   ├── `__init__`.py\n",
    "│   ├── _core.py\n",
    "│   ├── _blade.py\n",
    "│   ├── _gearbox.py\n",
    "│   ├── _generator.py\n",
    "│   ├── _high_speed_shaft.py\n",
    "│   ├── _main_shaft.py\n",
    "│   ├── _metmast.py\n",
    "│   ├── _nacelle.py\n",
    "│   ├── _power_inverter.py\n",
    "│   ├── _rotor.py\n",
    "│   ├── _sensor_position.py\n",
    "│   └── _windmill.py\n",
    "├── __init__.py\n",
    "└── _api_client.py\n",
    "```\n",
    "\n",
    "This is now available and can be imported"
   ]
  },
  {
   "cell_type": "markdown",
   "id": "dd430737-6369-41ec-a117-d621590a2d12",
   "metadata": {},
   "source": [
    "## Creating Client"
   ]
  },
  {
   "cell_type": "markdown",
   "id": "bd6136e5-529a-4571-b23f-039f453d8998",
   "metadata": {},
   "source": [
    "We have a configuration file next to this notebook with the format\n",
    "\n",
    "```toml\n",
    "[cognite]\n",
    "project = \"<cdf-project>\"\n",
    "tenant_id = \"<tenant-id>\"\n",
    "cdf_cluster = \"<cdf-cluster>\"\n",
    "client_id = \"<client-id>\"\n",
    "client_secret = \"<client-secret>\"\n",
    "\n",
    "```\n",
    "\n",
    "This enables us to easily create a new movie client"
   ]
  },
  {
   "cell_type": "code",
   "execution_count": 1,
   "id": "8b26431a-4154-4b3d-83a7-9c4e598bbc3b",
   "metadata": {
    "editable": true,
    "slideshow": {
     "slide_type": ""
    },
    "tags": [
     "hide"
    ]
   },
   "outputs": [],
   "source": [
    "import warnings\n",
    "warnings.filterwarnings('ignore')\n",
    "# This is just to enable improting the generated SDK from the examples folder in the pygen repository\n",
    "import sys\n",
    "from tests.constants import REPO_ROOT\n",
    "sys.path.append(str(REPO_ROOT / \"examples\" ))"
   ]
  },
  {
   "cell_type": "code",
   "execution_count": 2,
   "id": "11d4e442-1b96-474d-8f3c-4b545a6184d2",
   "metadata": {
    "editable": true,
    "pycharm": {
     "is_executing": true
    },
    "slideshow": {
     "slide_type": ""
    },
    "tags": []
   },
   "outputs": [],
   "source": [
    "from windmill.client import WindmillClient"
   ]
  },
  {
   "cell_type": "code",
   "execution_count": 3,
   "id": "285087cd-0d9c-45b1-a845-b469c2959dd2",
   "metadata": {
    "editable": true,
    "slideshow": {
     "slide_type": ""
    },
    "tags": []
   },
   "outputs": [],
   "source": [
    "client = WindmillClient.from_toml(\"config.toml\")"
   ]
  },
  {
   "cell_type": "markdown",
   "id": "a0b98f8e-f08f-429f-bb4e-9e95e45e07ee",
   "metadata": {},
   "source": [
    "The client has now been instantiated and is ready to go, [listing filtering and retrieving](listing_filtering_retrieving.html)."
   ]
  },
  {
   "cell_type": "code",
   "execution_count": null,
   "id": "50c96070-4bd3-4584-b30c-ccc9a588aa72",
   "metadata": {},
   "outputs": [],
   "source": []
  }
 ],
 "metadata": {
  "kernelspec": {
   "display_name": "Python 3 (ipykernel)",
   "language": "python",
   "name": "python3"
  },
  "language_info": {
   "codemirror_mode": {
    "name": "ipython",
    "version": 3
   },
   "file_extension": ".py",
   "mimetype": "text/x-python",
   "name": "python",
   "nbconvert_exporter": "python",
   "pygments_lexer": "ipython3",
   "version": "3.9.13"
  }
 },
 "nbformat": 4,
 "nbformat_minor": 5
}
