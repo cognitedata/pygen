{
 "cells": [
  {
   "cell_type": "markdown",
   "id": "f0e3bddd-b863-416a-a189-8e27869e12c1",
   "metadata": {
    "editable": true,
    "slideshow": {
     "slide_type": ""
    },
    "tags": []
   },
   "source": [
    "**Prerequisites**\n",
    "- Access to a CDF Project.\n",
    "- Know how to install and setup `Python`.\n",
    "- Launch a `Python` notebook."
   ]
  },
  {
   "cell_type": "markdown",
   "id": "d7f3077e-fdf3-4abb-b026-b703602eee64",
   "metadata": {
    "editable": true,
    "slideshow": {
     "slide_type": ""
    },
    "tags": []
   },
   "source": [
    "## Generating SDK for Your Data Model"
   ]
  },
  {
   "cell_type": "markdown",
   "id": "80d418bc-e7f3-415c-a40c-21a5d21b465c",
   "metadata": {},
   "source": [
    "`pygen` supports generating an SDK on the fly for easy exploration in a notebook\n",
    "\n",
    "First, instansiate a `CogniteClient`. This can be done with any of the supported methods from\n",
    "the `cognite-sdk`:"
   ]
  },
  {
   "cell_type": "code",
   "execution_count": 1,
   "id": "5338d302-050a-4fa5-af56-28eae7d869e1",
   "metadata": {},
   "outputs": [],
   "source": [
    "from cognite.client import CogniteClient"
   ]
  },
  {
   "cell_type": "markdown",
   "id": "d8ecef2f-4a25-4058-95a2-f21bfdd02636",
   "metadata": {},
   "source": [
    "**Service Principal in Microsoft Entra**"
   ]
  },
  {
   "cell_type": "code",
   "execution_count": 2,
   "id": "8fcb8136-2f73-468d-9edf-f3a46c7f4455",
   "metadata": {},
   "outputs": [],
   "source": [
    "client = CogniteClient.default_oauth_client_credentials(\n",
    "    project=\"<my-cdf-project>\",\n",
    "    cdf_cluster=\"<my-cdf-cluster>\",\n",
    "    tenant_id=\"<my_domain>.onmicrosoft.com\",\n",
    "    client_id=\"<my_service_principal_client_id>\",\n",
    "    client_secret=\"<my_service_principal_client_secret>\",\n",
    ")"
   ]
  },
  {
   "cell_type": "markdown",
   "id": "dd43133b-3958-4d5a-9245-27f1ba8d98ee",
   "metadata": {},
   "source": [
    "**Interactive Login Microsoft Entra**"
   ]
  },
  {
   "cell_type": "code",
   "execution_count": 5,
   "id": "e33aaa96-ffa0-4a05-bfdc-0077582fc324",
   "metadata": {},
   "outputs": [],
   "source": [
    "client = CogniteClient.default_oauth_interactive(\n",
    "    project=\"<my-cdf-project>\",\n",
    "    cdf_cluster=\"<my-cdf-cluster>\",\n",
    "    tenant_id=\"cognitepygen.onmicrosoft.com\",\n",
    "    client_id=\"<my_service_principal_client_id>\",\n",
    ")"
   ]
  },
  {
   "cell_type": "markdown",
   "id": "e34f2d1c-7d4d-4515-9fb1-8a437c942417",
   "metadata": {},
   "source": [
    "**Device Code**"
   ]
  },
  {
   "cell_type": "code",
   "execution_count": 8,
   "id": "7193da2d-d0d9-4094-96e6-5141e7070ecf",
   "metadata": {},
   "outputs": [],
   "source": [
    "from cognite.client import ClientConfig\n",
    "from cognite.client.credentials import OAuthDeviceCode"
   ]
  },
  {
   "cell_type": "code",
   "execution_count": 12,
   "id": "e17c0975-ecbd-4dcf-988c-572df473e32f",
   "metadata": {},
   "outputs": [],
   "source": [
    "credentials = OAuthDeviceCode.default_for_azure_ad(\n",
    "    tenant_id=\"cognitepygen.onmicrosoft.com\",\n",
    "    client_id=\"<device_client_id>\",\n",
    "    cdf_cluster=\"<my-cdf-cluster>\",\n",
    ")\n",
    "\n",
    "client = CogniteClient(ClientConfig(client_name=\"client-name\", project=\"<my-cdf-project>\", credentials=credentials))"
   ]
  },
  {
   "cell_type": "markdown",
   "id": "03f0ccb4-e1bf-4e3d-a943-b47ce9a60936",
   "metadata": {},
   "source": [
    "For convenience pygen has a helper method for loading credentials from a `toml` file"
   ]
  },
  {
   "cell_type": "code",
   "execution_count": 2,
   "id": "aaa728bd-0602-4bc7-8227-730bb4c67385",
   "metadata": {},
   "outputs": [],
   "source": [
    "from cognite.pygen import generate_sdk_notebook, load_cognite_client_from_toml"
   ]
  },
  {
   "cell_type": "markdown",
   "id": "7f85f739-058f-49a5-9deb-5f438c00c4dd",
   "metadata": {},
   "source": [
    "We have a local `.toml` file on the following format to create a `CogniteClient`\n",
    "\n",
    "```toml\n",
    "[cognite]\n",
    "project = \"<cdf-project>\"\n",
    "tenant_id = \"<tenant-id>\"\n",
    "cdf_cluster = \"<cdf-cluster>\"\n",
    "client_id = \"<client-id>\"\n",
    "client_secret = \"<client-secret>\"\n",
    "```\n",
    "Then, we use the following function from `pygen` to create a `CogniteClient"
   ]
  },
  {
   "cell_type": "code",
   "execution_count": 3,
   "id": "6c4d7d0b-d8ba-4555-9229-039b3c718499",
   "metadata": {},
   "outputs": [],
   "source": [
    "client = load_cognite_client_from_toml(\"config.toml\")"
   ]
  },
  {
   "cell_type": "markdown",
   "id": "74588050-c126-487f-a675-0c183b7c6e80",
   "metadata": {},
   "source": [
    "We can now create a SDK for the following data model."
   ]
  },
  {
   "cell_type": "code",
   "execution_count": 4,
   "id": "5a74184f-4f32-4c0f-9be5-ceeabaf6915c",
   "metadata": {},
   "outputs": [
    {
     "name": "stdout",
     "output_type": "stream",
     "text": [
      "Successfully retrieved data model(s) ('sp_pygen_power', 'WindTurbine', '1')\n",
      "Name collision detected in ViewId(space='sp_pygen_power', external_id='SensorTimeSeries', version='1'): 'type'. An underscore will be added to the 'type' to avoid name collision.\n",
      "Writing SDK to C:\\Users\\ANDERS~1\\AppData\\Local\\Temp\\pygen\\sp_pygen_power_WindTurbine_1\\wind_turbine\n",
      "Done!\n",
      "Added C:\\Users\\ANDERS~1\\AppData\\Local\\Temp\\pygen\\sp_pygen_power_WindTurbine_1 to sys.path to enable import\n",
      "Imported wind_turbine\n",
      "You can now use the generated SDK in the current Python session.\n",
      "The data classes are available by importing, for example, `from wind_turbine.data_classes import BladeWrite`\n"
     ]
    }
   ],
   "source": [
    "pygen = generate_sdk_notebook(\n",
    "    (\"sp_pygen_power\", \"WindTurbine\", \"1\"),\n",
    "    client,\n",
    ")"
   ]
  },
  {
   "cell_type": "markdown",
   "id": "67435fe7-36c7-40f9-8554-4a84dfb2df45",
   "metadata": {},
   "source": [
    "The function above does the following:\n",
    "1. Downloads the data model.\n",
    "1. Generates an SDK.\n",
    "1. Puts it in the temporary folder / `pygen`\n",
    "1. Adds that folder to the `sys.path`\n",
    "1. Imports the client\n",
    "1. Instantiates then new client\n"
   ]
  },
  {
   "cell_type": "markdown",
   "id": "fac6e188-47cf-46d9-adc2-1de32d9eb173",
   "metadata": {},
   "source": [
    "### Use Generated SDK"
   ]
  },
  {
   "cell_type": "code",
   "execution_count": 5,
   "id": "49b791d7-7507-43a2-a09a-8c4a1c2d0036",
   "metadata": {},
   "outputs": [
    {
     "data": {
      "text/html": [
       "<div>\n",
       "<style scoped>\n",
       "    .dataframe tbody tr th:only-of-type {\n",
       "        vertical-align: middle;\n",
       "    }\n",
       "\n",
       "    .dataframe tbody tr th {\n",
       "        vertical-align: top;\n",
       "    }\n",
       "\n",
       "    .dataframe thead th {\n",
       "        text-align: right;\n",
       "    }\n",
       "</style>\n",
       "<table border=\"1\" class=\"dataframe\">\n",
       "  <thead>\n",
       "    <tr style=\"text-align: right;\">\n",
       "      <th></th>\n",
       "      <th>space</th>\n",
       "      <th>external_id</th>\n",
       "      <th>name</th>\n",
       "      <th>capacity</th>\n",
       "      <th>windfarm</th>\n",
       "      <th>rotor</th>\n",
       "      <th>nacelle</th>\n",
       "      <th>blades</th>\n",
       "      <th>datasheets</th>\n",
       "      <th>data_record</th>\n",
       "    </tr>\n",
       "  </thead>\n",
       "  <tbody>\n",
       "    <tr>\n",
       "      <th>0</th>\n",
       "      <td>sp_wind</td>\n",
       "      <td>hornsea_1_mill_3</td>\n",
       "      <td>hornsea_1_mill_3</td>\n",
       "      <td>7.0</td>\n",
       "      <td>Hornsea 1</td>\n",
       "      <td>{'space': 'sp_wind', 'external_id': 'hornsea_1...</td>\n",
       "      <td>{'space': 'sp_wind', 'external_id': 'hornsea_1...</td>\n",
       "      <td>[{'space': 'sp_wind', 'external_id': 'hornsea_...</td>\n",
       "      <td>[{'space': 'sp_wind', 'external_id': 'windmill...</td>\n",
       "      <td>{'version': 4, 'last_updated_time': 2024-11-16...</td>\n",
       "    </tr>\n",
       "    <tr>\n",
       "      <th>1</th>\n",
       "      <td>sp_wind</td>\n",
       "      <td>hornsea_1_mill_2</td>\n",
       "      <td>hornsea_1_mill_2</td>\n",
       "      <td>7.0</td>\n",
       "      <td>Hornsea 1</td>\n",
       "      <td>{'space': 'sp_wind', 'external_id': 'hornsea_1...</td>\n",
       "      <td>{'space': 'sp_wind', 'external_id': 'hornsea_1...</td>\n",
       "      <td>[{'space': 'sp_wind', 'external_id': 'hornsea_...</td>\n",
       "      <td>[{'space': 'sp_wind', 'external_id': 'windmill...</td>\n",
       "      <td>{'version': 4, 'last_updated_time': 2024-11-16...</td>\n",
       "    </tr>\n",
       "    <tr>\n",
       "      <th>2</th>\n",
       "      <td>sp_wind</td>\n",
       "      <td>hornsea_1_mill_1</td>\n",
       "      <td>hornsea_1_mill_1</td>\n",
       "      <td>7.0</td>\n",
       "      <td>Hornsea 1</td>\n",
       "      <td>{'space': 'sp_wind', 'external_id': 'hornsea_1...</td>\n",
       "      <td>{'space': 'sp_wind', 'external_id': 'hornsea_1...</td>\n",
       "      <td>[{'space': 'sp_wind', 'external_id': 'hornsea_...</td>\n",
       "      <td>[{'space': 'sp_wind', 'external_id': 'windmill...</td>\n",
       "      <td>{'version': 4, 'last_updated_time': 2024-11-16...</td>\n",
       "    </tr>\n",
       "    <tr>\n",
       "      <th>3</th>\n",
       "      <td>sp_wind</td>\n",
       "      <td>hornsea_1_mill_4</td>\n",
       "      <td>hornsea_1_mill_4</td>\n",
       "      <td>7.0</td>\n",
       "      <td>Hornsea 1</td>\n",
       "      <td>{'space': 'sp_wind', 'external_id': 'hornsea_1...</td>\n",
       "      <td>{'space': 'sp_wind', 'external_id': 'hornsea_1...</td>\n",
       "      <td>[{'space': 'sp_wind', 'external_id': 'hornsea_...</td>\n",
       "      <td>[{'space': 'sp_wind', 'external_id': 'windmill...</td>\n",
       "      <td>{'version': 4, 'last_updated_time': 2024-11-16...</td>\n",
       "    </tr>\n",
       "    <tr>\n",
       "      <th>4</th>\n",
       "      <td>sp_wind</td>\n",
       "      <td>hornsea_1_mill_5</td>\n",
       "      <td>hornsea_1_mill_5</td>\n",
       "      <td>7.0</td>\n",
       "      <td>Hornsea 1</td>\n",
       "      <td>{'space': 'sp_wind', 'external_id': 'hornsea_1...</td>\n",
       "      <td>{'space': 'sp_wind', 'external_id': 'hornsea_1...</td>\n",
       "      <td>[{'space': 'sp_wind', 'external_id': 'hornsea_...</td>\n",
       "      <td>[{'space': 'sp_wind', 'external_id': 'windmill...</td>\n",
       "      <td>{'version': 4, 'last_updated_time': 2024-11-16...</td>\n",
       "    </tr>\n",
       "  </tbody>\n",
       "</table>\n",
       "</div>"
      ],
      "text/plain": [
       "WindTurbineList([WindTurbine(space='sp_wind', external_id='hornsea_1_mill_3', data_record=DataRecord(version=4, last_updated_time=datetime.datetime(2024, 11, 16, 14, 59, 42, 454000, tzinfo=TzInfo(UTC)), created_time=datetime.datetime(2024, 11, 16, 14, 8, 1, 544000, tzinfo=TzInfo(UTC)), deleted_time=None), node_type=None, name='hornsea_1_mill_3', description=None, capacity=7.0, windfarm='Hornsea 1', power_curve=None),\n",
       "                 WindTurbine(space='sp_wind', external_id='hornsea_1_mill_2', data_record=DataRecord(version=4, last_updated_time=datetime.datetime(2024, 11, 16, 14, 59, 42, 454000, tzinfo=TzInfo(UTC)), created_time=datetime.datetime(2024, 11, 16, 14, 8, 1, 544000, tzinfo=TzInfo(UTC)), deleted_time=None), node_type=None, name='hornsea_1_mill_2', description=None, capacity=7.0, windfarm='Hornsea 1', power_curve=None),\n",
       "                 WindTurbine(space='sp_wind', external_id='hornsea_1_mill_1', data_record=DataRecord(version=4, last_updated_time=datetime.datetime(2024, 11, 16, 14, 59, 42, 454000, tzinfo=TzInfo(UTC)), created_time=datetime.datetime(2024, 11, 16, 14, 8, 1, 544000, tzinfo=TzInfo(UTC)), deleted_time=None), node_type=None, name='hornsea_1_mill_1', description=None, capacity=7.0, windfarm='Hornsea 1', power_curve=None),\n",
       "                 WindTurbine(space='sp_wind', external_id='hornsea_1_mill_4', data_record=DataRecord(version=4, last_updated_time=datetime.datetime(2024, 11, 16, 14, 59, 42, 454000, tzinfo=TzInfo(UTC)), created_time=datetime.datetime(2024, 11, 16, 14, 8, 1, 544000, tzinfo=TzInfo(UTC)), deleted_time=None), node_type=None, name='hornsea_1_mill_4', description=None, capacity=7.0, windfarm='Hornsea 1', power_curve=None),\n",
       "                 WindTurbine(space='sp_wind', external_id='hornsea_1_mill_5', data_record=DataRecord(version=4, last_updated_time=datetime.datetime(2024, 11, 16, 14, 59, 42, 454000, tzinfo=TzInfo(UTC)), created_time=datetime.datetime(2024, 11, 16, 14, 8, 1, 544000, tzinfo=TzInfo(UTC)), deleted_time=None), node_type=None, name='hornsea_1_mill_5', description=None, capacity=7.0, windfarm='Hornsea 1', power_curve=None)])"
      ]
     },
     "execution_count": 5,
     "metadata": {},
     "output_type": "execute_result"
    }
   ],
   "source": [
    "pygen.wind_turbine.list(limit=5)"
   ]
  },
  {
   "cell_type": "code",
   "execution_count": 7,
   "id": "b381e656-f021-4990-aeb9-3dbb1be401f9",
   "metadata": {},
   "outputs": [
    {
     "data": {
      "text/html": [
       "<div>\n",
       "<style scoped>\n",
       "    .dataframe tbody tr th:only-of-type {\n",
       "        vertical-align: middle;\n",
       "    }\n",
       "\n",
       "    .dataframe tbody tr th {\n",
       "        vertical-align: top;\n",
       "    }\n",
       "\n",
       "    .dataframe thead th {\n",
       "        text-align: right;\n",
       "    }\n",
       "</style>\n",
       "<table border=\"1\" class=\"dataframe\">\n",
       "  <thead>\n",
       "    <tr style=\"text-align: right;\">\n",
       "      <th></th>\n",
       "      <th>space</th>\n",
       "      <th>external_id</th>\n",
       "      <th>position</th>\n",
       "      <th>wind_speed</th>\n",
       "      <th>tilt_angle</th>\n",
       "      <th>temperature</th>\n",
       "      <th>data_record</th>\n",
       "    </tr>\n",
       "  </thead>\n",
       "  <tbody>\n",
       "    <tr>\n",
       "      <th>0</th>\n",
       "      <td>sp_wind</td>\n",
       "      <td>utsira_station</td>\n",
       "      <td>62.0</td>\n",
       "      <td>utsira_station_wind_speed</td>\n",
       "      <td>utsira_station_tilt_angle</td>\n",
       "      <td>utsira_station_temperature</td>\n",
       "      <td>{'version': 1, 'last_updated_time': 2024-11-16...</td>\n",
       "    </tr>\n",
       "    <tr>\n",
       "      <th>1</th>\n",
       "      <td>sp_wind</td>\n",
       "      <td>hitra_station</td>\n",
       "      <td>63.0</td>\n",
       "      <td>hitra_station_wind_speed</td>\n",
       "      <td>hitra_station_tilt_angle</td>\n",
       "      <td>hitra_station_temperature</td>\n",
       "      <td>{'version': 1, 'last_updated_time': 2024-11-16...</td>\n",
       "    </tr>\n",
       "    <tr>\n",
       "      <th>2</th>\n",
       "      <td>sp_wind</td>\n",
       "      <td>smola_station</td>\n",
       "      <td>64.0</td>\n",
       "      <td>smola_station_wind_speed</td>\n",
       "      <td>smola_station_tilt_angle</td>\n",
       "      <td>smola_station_temperature</td>\n",
       "      <td>{'version': 1, 'last_updated_time': 2024-11-16...</td>\n",
       "    </tr>\n",
       "  </tbody>\n",
       "</table>\n",
       "</div>"
      ],
      "text/plain": [
       "MetmastList([Metmast(space='sp_wind', external_id='utsira_station', data_record=DataRecord(version=1, last_updated_time=datetime.datetime(2024, 11, 16, 14, 8, 1, 544000, tzinfo=TzInfo(UTC)), created_time=datetime.datetime(2024, 11, 16, 14, 8, 1, 544000, tzinfo=TzInfo(UTC)), deleted_time=None), node_type=None, position=62.0, wind_speed='utsira_station_wind_speed', tilt_angle='utsira_station_tilt_angle', temperature='utsira_station_temperature'),\n",
       "             Metmast(space='sp_wind', external_id='hitra_station', data_record=DataRecord(version=1, last_updated_time=datetime.datetime(2024, 11, 16, 14, 8, 1, 544000, tzinfo=TzInfo(UTC)), created_time=datetime.datetime(2024, 11, 16, 14, 8, 1, 544000, tzinfo=TzInfo(UTC)), deleted_time=None), node_type=None, position=63.0, wind_speed='hitra_station_wind_speed', tilt_angle='hitra_station_tilt_angle', temperature='hitra_station_temperature'),\n",
       "             Metmast(space='sp_wind', external_id='smola_station', data_record=DataRecord(version=1, last_updated_time=datetime.datetime(2024, 11, 16, 14, 8, 1, 544000, tzinfo=TzInfo(UTC)), created_time=datetime.datetime(2024, 11, 16, 14, 8, 1, 544000, tzinfo=TzInfo(UTC)), deleted_time=None), node_type=None, position=64.0, wind_speed='smola_station_wind_speed', tilt_angle='smola_station_tilt_angle', temperature='smola_station_temperature')])"
      ]
     },
     "execution_count": 7,
     "metadata": {},
     "output_type": "execute_result"
    }
   ],
   "source": [
    "pygen.metmast.list()"
   ]
  },
  {
   "cell_type": "markdown",
   "id": "fc506e2f-5abd-489a-ac68-7055ee11715a",
   "metadata": {},
   "source": [
    "To see a more complete example of functionality for the generated client see the Usage section in the documentation."
   ]
  },
  {
   "cell_type": "markdown",
   "id": "b6833b96-d2c8-4d7e-a5ac-16beabc181b7",
   "metadata": {},
   "source": [
    "## Generating SDK using Demo Data Model\n",
    "\n",
    "In case you want to try out `pygen`, but do not have a data model with data available, `pygen` comes with a demo data model included in the package."
   ]
  },
  {
   "cell_type": "code",
   "execution_count": 1,
   "id": "9be401df-31fc-4232-8cab-4a17e0ac9d29",
   "metadata": {},
   "outputs": [],
   "source": [
    "from cognite.pygen import demo, load_cognite_client_from_toml"
   ]
  },
  {
   "cell_type": "code",
   "execution_count": 2,
   "id": "041e9119-c329-431b-a90a-febde16e114c",
   "metadata": {},
   "outputs": [],
   "source": [
    "solar = demo.SolarFarmAPM()\n",
    "client = load_cognite_client_from_toml()"
   ]
  },
  {
   "cell_type": "code",
   "execution_count": 3,
   "id": "0257052e-aa2d-487d-9995-92f21888f3ba",
   "metadata": {},
   "outputs": [
    {
     "name": "stdout",
     "output_type": "stream",
     "text": [
      "Data model DataModelId(space='pygen', external_id='SolarFarmAPM', version='1') already exists, skipping deployment\n",
      "✅  Data Model Ready!\n",
      "Skipping TimeSeries creation, all 4 TimeSeries already exist\n",
      "Skipping FileMetadata creation, all 3 FileMetadata already exist\n",
      "All 17 nodes already exists\n",
      "All 21 edges already exists\n",
      "✅  Population Complete!\n",
      "Writing SDK to C:\\Users\\ANDERS~1\\AppData\\Local\\Temp\\pygen\n",
      "Done!\n",
      "Added C:\\Users\\ANDERS~1\\AppData\\Local\\Temp\\pygen to sys.path to enable import\n",
      "Imported solar_farm_apm.client\n",
      "✅  SDK Generated!\n",
      "CPU times: total: 469 ms\n",
      "Wall time: 3.41 s\n"
     ]
    }
   ],
   "source": [
    "%%time\n",
    "pygen = solar.create(client)"
   ]
  },
  {
   "cell_type": "markdown",
   "id": "2543604b-4f12-4d0b-948a-29428f760693",
   "metadata": {},
   "source": [
    "### Use Generated SDK\n",
    "We can now inspect the data model using our newly generated SDK."
   ]
  },
  {
   "cell_type": "code",
   "execution_count": 4,
   "id": "4d538615-7190-4b5c-822c-b1356a60adf8",
   "metadata": {},
   "outputs": [
    {
     "data": {
      "text/html": [
       "<div>\n",
       "<style scoped>\n",
       "    .dataframe tbody tr th:only-of-type {\n",
       "        vertical-align: middle;\n",
       "    }\n",
       "\n",
       "    .dataframe tbody tr th {\n",
       "        vertical-align: top;\n",
       "    }\n",
       "\n",
       "    .dataframe thead th {\n",
       "        text-align: right;\n",
       "    }\n",
       "</style>\n",
       "<table border=\"1\" class=\"dataframe\">\n",
       "  <thead>\n",
       "    <tr style=\"text-align: right;\">\n",
       "      <th></th>\n",
       "      <th>external_id</th>\n",
       "      <th>area_id</th>\n",
       "      <th>category_id</th>\n",
       "      <th>created_date</th>\n",
       "      <th>description</th>\n",
       "      <th>documents</th>\n",
       "      <th>is_active</th>\n",
       "      <th>is_critical_line</th>\n",
       "      <th>linked_assets</th>\n",
       "      <th>metrics</th>\n",
       "      <th>name</th>\n",
       "      <th>parent</th>\n",
       "      <th>source_db</th>\n",
       "      <th>tag</th>\n",
       "      <th>updated_date</th>\n",
       "      <th>version</th>\n",
       "      <th>last_updated_time</th>\n",
       "      <th>created_time</th>\n",
       "      <th>deleted_time</th>\n",
       "    </tr>\n",
       "  </thead>\n",
       "  <tbody>\n",
       "    <tr>\n",
       "      <th>0</th>\n",
       "      <td>solarfarm:fornebu</td>\n",
       "      <td>1</td>\n",
       "      <td>1</td>\n",
       "      <td>2017-01-01 00:00:00+00:00</td>\n",
       "      <td>The most sunny place in Norway</td>\n",
       "      <td>[]</td>\n",
       "      <td>True</td>\n",
       "      <td>True</td>\n",
       "      <td>[]</td>\n",
       "      <td>[]</td>\n",
       "      <td>Fornebu</td>\n",
       "      <td>None</td>\n",
       "      <td>AlbertCerebrum</td>\n",
       "      <td></td>\n",
       "      <td>2023-01-01 00:00:00+00:00</td>\n",
       "      <td>2</td>\n",
       "      <td>2023-08-20 07:48:17.799000+00:00</td>\n",
       "      <td>2023-08-20 07:48:17.799000+00:00</td>\n",
       "      <td>None</td>\n",
       "    </tr>\n",
       "    <tr>\n",
       "      <th>1</th>\n",
       "      <td>solarpanel:sunny</td>\n",
       "      <td>2</td>\n",
       "      <td>2</td>\n",
       "      <td>2017-01-01 00:00:00+00:00</td>\n",
       "      <td>The panel on the first building</td>\n",
       "      <td>[]</td>\n",
       "      <td>True</td>\n",
       "      <td>False</td>\n",
       "      <td>[inverter:sunny]</td>\n",
       "      <td>[]</td>\n",
       "      <td>Solar Panel Sunny</td>\n",
       "      <td>solarfarm:fornebu</td>\n",
       "      <td>AlbertCerebrum</td>\n",
       "      <td></td>\n",
       "      <td>2022-01-01 00:00:00+00:00</td>\n",
       "      <td>1</td>\n",
       "      <td>2023-08-20 07:48:17.799000+00:00</td>\n",
       "      <td>2023-08-20 07:48:17.799000+00:00</td>\n",
       "      <td>None</td>\n",
       "    </tr>\n",
       "    <tr>\n",
       "      <th>2</th>\n",
       "      <td>solarpanel:cloudy</td>\n",
       "      <td>3</td>\n",
       "      <td>2</td>\n",
       "      <td>2020-01-01 00:00:00+00:00</td>\n",
       "      <td>The panel on the second building</td>\n",
       "      <td>[]</td>\n",
       "      <td>True</td>\n",
       "      <td>True</td>\n",
       "      <td>[inverter:cloudy]</td>\n",
       "      <td>[]</td>\n",
       "      <td>Solar Panel Cloudy</td>\n",
       "      <td>solarfarm:fornebu</td>\n",
       "      <td>AlbertCerebrum</td>\n",
       "      <td></td>\n",
       "      <td>2022-01-01 00:00:00+00:00</td>\n",
       "      <td>1</td>\n",
       "      <td>2023-08-20 07:48:17.799000+00:00</td>\n",
       "      <td>2023-08-20 07:48:17.799000+00:00</td>\n",
       "      <td>None</td>\n",
       "    </tr>\n",
       "    <tr>\n",
       "      <th>3</th>\n",
       "      <td>transformer:sunny</td>\n",
       "      <td>2</td>\n",
       "      <td>3</td>\n",
       "      <td>2017-01-01 00:00:00+00:00</td>\n",
       "      <td>The transformer connected to sunny</td>\n",
       "      <td>[]</td>\n",
       "      <td>True</td>\n",
       "      <td>False</td>\n",
       "      <td>[substation:fornebu]</td>\n",
       "      <td>[]</td>\n",
       "      <td>Transformer Sunny</td>\n",
       "      <td>solarfarm:fornebu</td>\n",
       "      <td>AlbertCerebrum</td>\n",
       "      <td></td>\n",
       "      <td>2022-01-01 00:00:00+00:00</td>\n",
       "      <td>1</td>\n",
       "      <td>2023-08-20 07:48:17.799000+00:00</td>\n",
       "      <td>2023-08-20 07:48:17.799000+00:00</td>\n",
       "      <td>None</td>\n",
       "    </tr>\n",
       "    <tr>\n",
       "      <th>4</th>\n",
       "      <td>transformer:cloudy</td>\n",
       "      <td>3</td>\n",
       "      <td>3</td>\n",
       "      <td>2017-01-01 00:00:00+00:00</td>\n",
       "      <td>The transformer connected to cloudy</td>\n",
       "      <td>[]</td>\n",
       "      <td>True</td>\n",
       "      <td>False</td>\n",
       "      <td>[substation:fornebu]</td>\n",
       "      <td>[]</td>\n",
       "      <td>Transformer Cloudy</td>\n",
       "      <td>solarfarm:fornebu</td>\n",
       "      <td>AlbertCerebrum</td>\n",
       "      <td></td>\n",
       "      <td>2021-01-01 00:00:00+00:00</td>\n",
       "      <td>1</td>\n",
       "      <td>2023-08-20 07:48:17.799000+00:00</td>\n",
       "      <td>2023-08-20 07:48:17.799000+00:00</td>\n",
       "      <td>None</td>\n",
       "    </tr>\n",
       "    <tr>\n",
       "      <th>5</th>\n",
       "      <td>transformer:saver</td>\n",
       "      <td>4</td>\n",
       "      <td>3</td>\n",
       "      <td>2022-01-01 00:00:00+00:00</td>\n",
       "      <td>The transformer connected to battery</td>\n",
       "      <td>[]</td>\n",
       "      <td>True</td>\n",
       "      <td>True</td>\n",
       "      <td>[substation:fornebu]</td>\n",
       "      <td>[]</td>\n",
       "      <td>Transformer Saver</td>\n",
       "      <td>solarfarm:fornebu</td>\n",
       "      <td>AlbertCerebrum</td>\n",
       "      <td></td>\n",
       "      <td>2023-03-01 00:00:00+00:00</td>\n",
       "      <td>1</td>\n",
       "      <td>2023-08-20 07:48:17.799000+00:00</td>\n",
       "      <td>2023-08-20 07:48:17.799000+00:00</td>\n",
       "      <td>None</td>\n",
       "    </tr>\n",
       "    <tr>\n",
       "      <th>6</th>\n",
       "      <td>inverter:sunny</td>\n",
       "      <td>2</td>\n",
       "      <td>4</td>\n",
       "      <td>2017-01-01 00:00:00+00:00</td>\n",
       "      <td>The inverter connected to sunny</td>\n",
       "      <td>[]</td>\n",
       "      <td>True</td>\n",
       "      <td>False</td>\n",
       "      <td>[transformer:sunny]</td>\n",
       "      <td>[]</td>\n",
       "      <td>Inverter Sunny</td>\n",
       "      <td>solarfarm:fornebu</td>\n",
       "      <td>AlbertCerebrum</td>\n",
       "      <td></td>\n",
       "      <td>2022-01-01 00:00:00+00:00</td>\n",
       "      <td>1</td>\n",
       "      <td>2023-08-20 07:48:17.799000+00:00</td>\n",
       "      <td>2023-08-20 07:48:17.799000+00:00</td>\n",
       "      <td>None</td>\n",
       "    </tr>\n",
       "    <tr>\n",
       "      <th>7</th>\n",
       "      <td>inverter:cloudy</td>\n",
       "      <td>3</td>\n",
       "      <td>4</td>\n",
       "      <td>2017-01-01 00:00:00+00:00</td>\n",
       "      <td>The inverter connected to cloudy</td>\n",
       "      <td>[]</td>\n",
       "      <td>True</td>\n",
       "      <td>False</td>\n",
       "      <td>[transformer:cloudy]</td>\n",
       "      <td>[]</td>\n",
       "      <td>Inverter Cloudy</td>\n",
       "      <td>solarfarm:fornebu</td>\n",
       "      <td>AlbertCerebrum</td>\n",
       "      <td></td>\n",
       "      <td>2021-01-01 00:00:00+00:00</td>\n",
       "      <td>1</td>\n",
       "      <td>2023-08-20 07:48:17.799000+00:00</td>\n",
       "      <td>2023-08-20 07:48:17.799000+00:00</td>\n",
       "      <td>None</td>\n",
       "    </tr>\n",
       "    <tr>\n",
       "      <th>8</th>\n",
       "      <td>inverter:saver</td>\n",
       "      <td>4</td>\n",
       "      <td>4</td>\n",
       "      <td>2022-01-01 00:00:00+00:00</td>\n",
       "      <td>The inverter connected to battery</td>\n",
       "      <td>[]</td>\n",
       "      <td>True</td>\n",
       "      <td>True</td>\n",
       "      <td>[transformer:saver]</td>\n",
       "      <td>[]</td>\n",
       "      <td>Inverter Saver</td>\n",
       "      <td>solarfarm:fornebu</td>\n",
       "      <td>AlbertCerebrum</td>\n",
       "      <td></td>\n",
       "      <td>2023-03-01 00:00:00+00:00</td>\n",
       "      <td>1</td>\n",
       "      <td>2023-08-20 07:48:17.799000+00:00</td>\n",
       "      <td>2023-08-20 07:48:17.799000+00:00</td>\n",
       "      <td>None</td>\n",
       "    </tr>\n",
       "    <tr>\n",
       "      <th>9</th>\n",
       "      <td>substation:fornebu</td>\n",
       "      <td>1</td>\n",
       "      <td>4</td>\n",
       "      <td>2017-01-01 00:00:00+00:00</td>\n",
       "      <td>The substation for the solar farm</td>\n",
       "      <td>[]</td>\n",
       "      <td>True</td>\n",
       "      <td>True</td>\n",
       "      <td>[]</td>\n",
       "      <td>[]</td>\n",
       "      <td>Fornebu station</td>\n",
       "      <td>solarfarm:fornebu</td>\n",
       "      <td>AlbertCerebrum</td>\n",
       "      <td></td>\n",
       "      <td>2023-03-01 00:00:00+00:00</td>\n",
       "      <td>1</td>\n",
       "      <td>2023-08-20 07:48:17.799000+00:00</td>\n",
       "      <td>2023-08-20 07:48:17.799000+00:00</td>\n",
       "      <td>None</td>\n",
       "    </tr>\n",
       "    <tr>\n",
       "      <th>10</th>\n",
       "      <td>battery:winter</td>\n",
       "      <td>4</td>\n",
       "      <td>5</td>\n",
       "      <td>2020-01-01 00:00:00+00:00</td>\n",
       "      <td>The battery for the solar farm</td>\n",
       "      <td>[]</td>\n",
       "      <td>True</td>\n",
       "      <td>True</td>\n",
       "      <td>[inverter:saver]</td>\n",
       "      <td>[]</td>\n",
       "      <td>Saver</td>\n",
       "      <td>solarfarm:fornebu</td>\n",
       "      <td>AlbertCerebrum</td>\n",
       "      <td></td>\n",
       "      <td>2020-06-01 00:00:00+00:00</td>\n",
       "      <td>1</td>\n",
       "      <td>2023-08-20 07:48:17.799000+00:00</td>\n",
       "      <td>2023-08-20 07:48:17.799000+00:00</td>\n",
       "      <td>None</td>\n",
       "    </tr>\n",
       "  </tbody>\n",
       "</table>\n",
       "</div>"
      ],
      "text/plain": [
       "AssetList([Asset(external_id='solarfarm:fornebu', version=2, last_updated_time=datetime.datetime(2023, 8, 20, 7, 48, 17, 799000, tzinfo=TzInfo(UTC)), created_time=datetime.datetime(2023, 8, 20, 7, 48, 17, 799000, tzinfo=TzInfo(UTC)), deleted_time=None, area_id=1, category_id=1, created_date=datetime.datetime(2017, 1, 1, 0, 0, tzinfo=TzInfo(UTC)), description='The most sunny place in Norway', documents=[], is_active=True, is_critical_line=True, linked_assets=[], metrics=[], name='Fornebu', parent=None, source_db='AlbertCerebrum', tag='', updated_date=datetime.datetime(2023, 1, 1, 0, 0, tzinfo=TzInfo(UTC))),\n",
       "           Asset(external_id='solarpanel:sunny', version=1, last_updated_time=datetime.datetime(2023, 8, 20, 7, 48, 17, 799000, tzinfo=TzInfo(UTC)), created_time=datetime.datetime(2023, 8, 20, 7, 48, 17, 799000, tzinfo=TzInfo(UTC)), deleted_time=None, area_id=2, category_id=2, created_date=datetime.datetime(2017, 1, 1, 0, 0, tzinfo=TzInfo(UTC)), description='The panel on the first building', documents=[], is_active=True, is_critical_line=False, linked_assets=['inverter:sunny'], metrics=[], name='Solar Panel Sunny', parent='solarfarm:fornebu', source_db='AlbertCerebrum', tag='', updated_date=datetime.datetime(2022, 1, 1, 0, 0, tzinfo=TzInfo(UTC))),\n",
       "           Asset(external_id='solarpanel:cloudy', version=1, last_updated_time=datetime.datetime(2023, 8, 20, 7, 48, 17, 799000, tzinfo=TzInfo(UTC)), created_time=datetime.datetime(2023, 8, 20, 7, 48, 17, 799000, tzinfo=TzInfo(UTC)), deleted_time=None, area_id=3, category_id=2, created_date=datetime.datetime(2020, 1, 1, 0, 0, tzinfo=TzInfo(UTC)), description='The panel on the second building', documents=[], is_active=True, is_critical_line=True, linked_assets=['inverter:cloudy'], metrics=[], name='Solar Panel Cloudy', parent='solarfarm:fornebu', source_db='AlbertCerebrum', tag='', updated_date=datetime.datetime(2022, 1, 1, 0, 0, tzinfo=TzInfo(UTC))),\n",
       "           Asset(external_id='transformer:sunny', version=1, last_updated_time=datetime.datetime(2023, 8, 20, 7, 48, 17, 799000, tzinfo=TzInfo(UTC)), created_time=datetime.datetime(2023, 8, 20, 7, 48, 17, 799000, tzinfo=TzInfo(UTC)), deleted_time=None, area_id=2, category_id=3, created_date=datetime.datetime(2017, 1, 1, 0, 0, tzinfo=TzInfo(UTC)), description='The transformer connected to sunny', documents=[], is_active=True, is_critical_line=False, linked_assets=['substation:fornebu'], metrics=[], name='Transformer Sunny', parent='solarfarm:fornebu', source_db='AlbertCerebrum', tag='', updated_date=datetime.datetime(2022, 1, 1, 0, 0, tzinfo=TzInfo(UTC))),\n",
       "           Asset(external_id='transformer:cloudy', version=1, last_updated_time=datetime.datetime(2023, 8, 20, 7, 48, 17, 799000, tzinfo=TzInfo(UTC)), created_time=datetime.datetime(2023, 8, 20, 7, 48, 17, 799000, tzinfo=TzInfo(UTC)), deleted_time=None, area_id=3, category_id=3, created_date=datetime.datetime(2017, 1, 1, 0, 0, tzinfo=TzInfo(UTC)), description='The transformer connected to cloudy', documents=[], is_active=True, is_critical_line=False, linked_assets=['substation:fornebu'], metrics=[], name='Transformer Cloudy', parent='solarfarm:fornebu', source_db='AlbertCerebrum', tag='', updated_date=datetime.datetime(2021, 1, 1, 0, 0, tzinfo=TzInfo(UTC))),\n",
       "           Asset(external_id='transformer:saver', version=1, last_updated_time=datetime.datetime(2023, 8, 20, 7, 48, 17, 799000, tzinfo=TzInfo(UTC)), created_time=datetime.datetime(2023, 8, 20, 7, 48, 17, 799000, tzinfo=TzInfo(UTC)), deleted_time=None, area_id=4, category_id=3, created_date=datetime.datetime(2022, 1, 1, 0, 0, tzinfo=TzInfo(UTC)), description='The transformer connected to battery', documents=[], is_active=True, is_critical_line=True, linked_assets=['substation:fornebu'], metrics=[], name='Transformer Saver', parent='solarfarm:fornebu', source_db='AlbertCerebrum', tag='', updated_date=datetime.datetime(2023, 3, 1, 0, 0, tzinfo=TzInfo(UTC))),\n",
       "           Asset(external_id='inverter:sunny', version=1, last_updated_time=datetime.datetime(2023, 8, 20, 7, 48, 17, 799000, tzinfo=TzInfo(UTC)), created_time=datetime.datetime(2023, 8, 20, 7, 48, 17, 799000, tzinfo=TzInfo(UTC)), deleted_time=None, area_id=2, category_id=4, created_date=datetime.datetime(2017, 1, 1, 0, 0, tzinfo=TzInfo(UTC)), description='The inverter connected to sunny', documents=[], is_active=True, is_critical_line=False, linked_assets=['transformer:sunny'], metrics=[], name='Inverter Sunny', parent='solarfarm:fornebu', source_db='AlbertCerebrum', tag='', updated_date=datetime.datetime(2022, 1, 1, 0, 0, tzinfo=TzInfo(UTC))),\n",
       "           Asset(external_id='inverter:cloudy', version=1, last_updated_time=datetime.datetime(2023, 8, 20, 7, 48, 17, 799000, tzinfo=TzInfo(UTC)), created_time=datetime.datetime(2023, 8, 20, 7, 48, 17, 799000, tzinfo=TzInfo(UTC)), deleted_time=None, area_id=3, category_id=4, created_date=datetime.datetime(2017, 1, 1, 0, 0, tzinfo=TzInfo(UTC)), description='The inverter connected to cloudy', documents=[], is_active=True, is_critical_line=False, linked_assets=['transformer:cloudy'], metrics=[], name='Inverter Cloudy', parent='solarfarm:fornebu', source_db='AlbertCerebrum', tag='', updated_date=datetime.datetime(2021, 1, 1, 0, 0, tzinfo=TzInfo(UTC))),\n",
       "           Asset(external_id='inverter:saver', version=1, last_updated_time=datetime.datetime(2023, 8, 20, 7, 48, 17, 799000, tzinfo=TzInfo(UTC)), created_time=datetime.datetime(2023, 8, 20, 7, 48, 17, 799000, tzinfo=TzInfo(UTC)), deleted_time=None, area_id=4, category_id=4, created_date=datetime.datetime(2022, 1, 1, 0, 0, tzinfo=TzInfo(UTC)), description='The inverter connected to battery', documents=[], is_active=True, is_critical_line=True, linked_assets=['transformer:saver'], metrics=[], name='Inverter Saver', parent='solarfarm:fornebu', source_db='AlbertCerebrum', tag='', updated_date=datetime.datetime(2023, 3, 1, 0, 0, tzinfo=TzInfo(UTC))),\n",
       "           Asset(external_id='substation:fornebu', version=1, last_updated_time=datetime.datetime(2023, 8, 20, 7, 48, 17, 799000, tzinfo=TzInfo(UTC)), created_time=datetime.datetime(2023, 8, 20, 7, 48, 17, 799000, tzinfo=TzInfo(UTC)), deleted_time=None, area_id=1, category_id=4, created_date=datetime.datetime(2017, 1, 1, 0, 0, tzinfo=TzInfo(UTC)), description='The substation for the solar farm', documents=[], is_active=True, is_critical_line=True, linked_assets=[], metrics=[], name='Fornebu station', parent='solarfarm:fornebu', source_db='AlbertCerebrum', tag='', updated_date=datetime.datetime(2023, 3, 1, 0, 0, tzinfo=TzInfo(UTC))),\n",
       "           Asset(external_id='battery:winter', version=1, last_updated_time=datetime.datetime(2023, 8, 20, 7, 48, 17, 799000, tzinfo=TzInfo(UTC)), created_time=datetime.datetime(2023, 8, 20, 7, 48, 17, 799000, tzinfo=TzInfo(UTC)), deleted_time=None, area_id=4, category_id=5, created_date=datetime.datetime(2020, 1, 1, 0, 0, tzinfo=TzInfo(UTC)), description='The battery for the solar farm', documents=[], is_active=True, is_critical_line=True, linked_assets=['inverter:saver'], metrics=[], name='Saver', parent='solarfarm:fornebu', source_db='AlbertCerebrum', tag='', updated_date=datetime.datetime(2020, 6, 1, 0, 0, tzinfo=TzInfo(UTC)))])"
      ]
     },
     "execution_count": 4,
     "metadata": {},
     "output_type": "execute_result"
    }
   ],
   "source": [
    "pygen.assets.list()"
   ]
  },
  {
   "cell_type": "code",
   "execution_count": 5,
   "id": "b7ba45f7-6d93-451c-add4-e1f0db706100",
   "metadata": {},
   "outputs": [
    {
     "data": {
      "text/plain": [
       "WorkOrder(external_id='planned:1001', version=2, last_updated_time=datetime.datetime(2023, 8, 20, 7, 48, 17, 799000, tzinfo=TzInfo(UTC)), created_time=datetime.datetime(2023, 8, 20, 7, 48, 17, 799000, tzinfo=TzInfo(UTC)), deleted_time=None, actual_hours=3, created_date=datetime.datetime(2023, 1, 1, 0, 0, tzinfo=TzInfo(UTC)), description='Inspect solar panels', due_date=datetime.datetime(2023, 1, 1, 0, 0, tzinfo=TzInfo(UTC)), duration_hours=5, end_time=datetime.datetime(2023, 1, 2, 0, 0, tzinfo=TzInfo(UTC)), is_active=False, is_cancelled=False, is_completed=True, is_safety_critical=False, linked_assets=['solarpanel:sunny', 'solarpanel:cloudy'], percentage_progress=100, planned_start=datetime.datetime(2023, 1, 1, 0, 0, tzinfo=TzInfo(UTC)), priority_description='Medium Planned Priority', program_number='1', start_time=datetime.datetime(2023, 1, 1, 0, 0, tzinfo=TzInfo(UTC)), status='Done', title='Planned Inspection', work_items=['work:inspection:1001', 'work:cleaning:1001'], work_order_number='1', work_package_number='1')"
      ]
     },
     "execution_count": 5,
     "metadata": {},
     "output_type": "execute_result"
    }
   ],
   "source": [
    "pygen.work_orders.retrieve(\"planned:1001\")"
   ]
  },
  {
   "cell_type": "markdown",
   "id": "90aae569-710c-4312-b9f8-baf980c9f408",
   "metadata": {},
   "source": [
    "Once we are finished exploting `pygen` using the demo data we can remove it with the `.clean()` method"
   ]
  },
  {
   "cell_type": "code",
   "execution_count": 6,
   "id": "cda1f52e-fdd9-4df0-a568-88a741ee5cbb",
   "metadata": {},
   "outputs": [
    {
     "name": "stdout",
     "output_type": "stream",
     "text": [
      "About to delete data model DataModelId(space='pygen', external_id='SolarFarmAPM', version='1')\n",
      "About to delete views [ViewId(space='pygen', external_id='WorkItem', version='e3b9053e1dd01e'), ViewId(space='pygen', external_id='WorkOrder', version='27f589c97cdb01'), ViewId(space='pygen', external_id='Asset', version='a974167b65241a')]\n",
      "About to delete containers [ContainerId(space='pygen', external_id='Asset'), ContainerId(space='pygen', external_id='WorkOrder'), ContainerId(space='pygen', external_id='WorkItem')] along with all nodes and edges\n",
      "About to delete space pygen\n"
     ]
    },
    {
     "name": "stdin",
     "output_type": "stream",
     "text": [
      "Are you sure? [n/y]  y\n"
     ]
    },
    {
     "name": "stdout",
     "output_type": "stream",
     "text": [
      "Deleted 4 TimeSeries\n",
      "Deleted 3 FileMetadata\n",
      "Deleted 17 nodes\n",
      "Deleted 0 edges\n",
      "Deleted 4 type nodes\n",
      "Deleted data model DataModelId(space='pygen', external_id='SolarFarmAPM', version='1')\n",
      "Deleted views [ViewId(space='pygen', external_id='WorkItem', version='e3b9053e1dd01e'), ViewId(space='pygen', external_id='WorkOrder', version='27f589c97cdb01'), ViewId(space='pygen', external_id='Asset', version='a974167b65241a')]\n",
      "Deleted containers [ContainerId(space='pygen', external_id='Asset'), ContainerId(space='pygen', external_id='WorkOrder'), ContainerId(space='pygen', external_id='WorkItem')]\n",
      "Deleted space pygen\n"
     ]
    }
   ],
   "source": [
    "solar.clean(client)"
   ]
  },
  {
   "cell_type": "code",
   "execution_count": null,
   "id": "7c52526d-9d49-4209-98e7-92399a7d0164",
   "metadata": {},
   "outputs": [],
   "source": []
  }
 ],
 "metadata": {
  "kernelspec": {
   "display_name": "Python 3 (ipykernel)",
   "language": "python",
   "name": "python3"
  },
  "language_info": {
   "codemirror_mode": {
    "name": "ipython",
    "version": 3
   },
   "file_extension": ".py",
   "mimetype": "text/x-python",
   "name": "python",
   "nbconvert_exporter": "python",
   "pygments_lexer": "ipython3",
   "version": "3.10.11"
  }
 },
 "nbformat": 4,
 "nbformat_minor": 5
}
