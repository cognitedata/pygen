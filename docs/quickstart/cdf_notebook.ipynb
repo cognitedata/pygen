{
 "cells": [
  {
   "cell_type": "markdown",
   "metadata": {
    "editable": true,
    "slideshow": {
     "slide_type": ""
    },
    "tags": []
   },
   "source": [
    "# Exploration in CDF Notebook\n",
    "\n",
    "**Prerequisites**\n",
    "- Access to a CDF Project.\n",
    "- Curiousity 🤔!\n",
    "- Some very basic Python understanding or just some boldness. "
   ]
  },
  {
   "cell_type": "markdown",
   "metadata": {
    "editable": true,
    "slideshow": {
     "slide_type": ""
    },
    "tags": []
   },
   "source": [
    "## If you have ZERO Python knowledge, but feel good 😁\n",
    "\n",
    "* You can copy the cells below and past them into notebook.\n",
    "* You execute cells by pressing `shift+enter`\n",
    "* Auto complete with `tab`.\n",
    "* You can check available commands by first type a variable and press `shift+tab`. For example, after running the line `movie = pygen.generate_sdk_notebook(data_model_id, client)` you can in subsequent cells write `movie.` and press `shift+tab` to see that there are options such as `actor` and `movie` available ."
   ]
  },
  {
   "cell_type": "markdown",
   "metadata": {
    "editable": true,
    "slideshow": {
     "slide_type": ""
    },
    "tags": []
   },
   "source": [
    "## Installing `pygen` in the notebook environment."
   ]
  },
  {
   "cell_type": "code",
   "execution_count": 1,
   "metadata": {
    "editable": true,
    "slideshow": {
     "slide_type": ""
    },
    "tags": []
   },
   "outputs": [],
   "source": [
    "%pip install cognite-pygen"
   ]
  },
  {
   "cell_type": "markdown",
   "metadata": {},
   "source": [
    "## Generating SDK for Your Data Model\n"
   ]
  },
  {
   "cell_type": "code",
   "execution_count": 2,
   "metadata": {},
   "outputs": [],
   "source": [
    "from cognite.client import CogniteClient\n",
    "from cognite import pygen"
   ]
  },
  {
   "cell_type": "code",
   "execution_count": 3,
   "metadata": {},
   "outputs": [
    {
     "data": {
      "text/plain": [
       "'0.17.3'"
      ]
     },
     "execution_count": 3,
     "metadata": {},
     "output_type": "execute_result"
    }
   ],
   "source": [
    "# Show version, if you have an older you can run \n",
    "# the installation cell above with:\n",
    "# %pip install cognite-pygen==0.17.3\n",
    "pygen.__version__"
   ]
  },
  {
   "cell_type": "code",
   "execution_count": 4,
   "metadata": {},
   "outputs": [],
   "source": [
    "client = CogniteClient()"
   ]
  },
  {
   "cell_type": "code",
   "execution_count": 5,
   "metadata": {},
   "outputs": [],
   "source": [
    "space = \"IntegrationTestsImmutable\"\n",
    "data_model_external_id = \"Movie\"\n",
    "data_model_version = \"2\"\n",
    "data_model_id = (space, data_model_external_id, data_model_version)"
   ]
  },
  {
   "cell_type": "code",
   "execution_count": 6,
   "metadata": {},
   "outputs": [
    {
     "name": "stdout",
     "output_type": "stream",
     "text": [
      "Successfully retrieved data model(s) ('IntegrationTestsImmutable', 'Movie', '2')\n",
      "Writing SDK to /tmp/pygen\n",
      "Done!\n",
      "Added /tmp/pygen to sys.path to enable import\n",
      "Imported movie.client\n"
     ]
    }
   ],
   "source": [
    "movie = pygen.generate_sdk_notebook(data_model_id, client)"
   ]
  },
  {
   "cell_type": "markdown",
   "metadata": {},
   "source": [
    "### Using the Generated SDK"
   ]
  },
  {
   "cell_type": "code",
   "execution_count": 7,
   "metadata": {},
   "outputs": [
    {
     "data": {
      "text/html": [
       "<div>\n",
       "<style scoped>\n",
       "    .dataframe tbody tr th:only-of-type {\n",
       "        vertical-align: middle;\n",
       "    }\n",
       "\n",
       "    .dataframe tbody tr th {\n",
       "        vertical-align: top;\n",
       "    }\n",
       "\n",
       "    .dataframe thead th {\n",
       "        text-align: right;\n",
       "    }\n",
       "</style>\n",
       "<table border=\"1\" class=\"dataframe\">\n",
       "  <thead>\n",
       "    <tr style=\"text-align: right;\">\n",
       "      <th></th>\n",
       "      <th>external_id</th>\n",
       "      <th>movies</th>\n",
       "      <th>nomination</th>\n",
       "      <th>person</th>\n",
       "      <th>won_oscar</th>\n",
       "      <th>version</th>\n",
       "      <th>last_updated_time</th>\n",
       "      <th>created_time</th>\n",
       "      <th>deleted_time</th>\n",
       "    </tr>\n",
       "  </thead>\n",
       "  <tbody>\n",
       "    <tr>\n",
       "      <th>0</th>\n",
       "      <td>director:ethan_coen</td>\n",
       "      <td>[movie:fargo]</td>\n",
       "      <td>[]</td>\n",
       "      <td>person:ethan_coen</td>\n",
       "      <td>True</td>\n",
       "      <td>1</td>\n",
       "      <td>2023-05-15 17:11:36.668000+00:00</td>\n",
       "      <td>2023-05-15 17:11:36.668000+00:00</td>\n",
       "      <td>None</td>\n",
       "    </tr>\n",
       "    <tr>\n",
       "      <th>1</th>\n",
       "      <td>director:ridley_scott</td>\n",
       "      <td>[movie:gladiator]</td>\n",
       "      <td>[director:ridley_scott:gladiator]</td>\n",
       "      <td>person:ridley_scott</td>\n",
       "      <td>False</td>\n",
       "      <td>1</td>\n",
       "      <td>2023-05-15 17:11:36.668000+00:00</td>\n",
       "      <td>2023-05-15 17:11:36.668000+00:00</td>\n",
       "      <td>None</td>\n",
       "    </tr>\n",
       "    <tr>\n",
       "      <th>2</th>\n",
       "      <td>director:sidney_lumet</td>\n",
       "      <td>[movie:12_angry_men]</td>\n",
       "      <td>[director:sidney_lumet:12_angry_men]</td>\n",
       "      <td>person:sidney_lumet</td>\n",
       "      <td>True</td>\n",
       "      <td>1</td>\n",
       "      <td>2023-05-15 17:11:36.668000+00:00</td>\n",
       "      <td>2023-05-15 17:11:36.668000+00:00</td>\n",
       "      <td>None</td>\n",
       "    </tr>\n",
       "    <tr>\n",
       "      <th>3</th>\n",
       "      <td>director:quentin_tarantino</td>\n",
       "      <td>[movie:inglourious_basterds, movie:django_unch...</td>\n",
       "      <td>[director:quentin_tarantino:pulp_fiction, dire...</td>\n",
       "      <td>person:quentin_tarantino</td>\n",
       "      <td>True</td>\n",
       "      <td>1</td>\n",
       "      <td>2023-05-15 17:11:36.668000+00:00</td>\n",
       "      <td>2023-05-15 17:11:36.668000+00:00</td>\n",
       "      <td>None</td>\n",
       "    </tr>\n",
       "    <tr>\n",
       "      <th>4</th>\n",
       "      <td>director:christoph_waltz</td>\n",
       "      <td>[]</td>\n",
       "      <td>[]</td>\n",
       "      <td>person:christoph_waltz</td>\n",
       "      <td>True</td>\n",
       "      <td>1</td>\n",
       "      <td>2023-05-15 17:11:36.668000+00:00</td>\n",
       "      <td>2023-05-15 17:11:36.668000+00:00</td>\n",
       "      <td>None</td>\n",
       "    </tr>\n",
       "  </tbody>\n",
       "</table>\n",
       "</div>"
      ],
      "text/plain": [
       "ActorList([Actor(external_id='director:ethan_coen', version=1, last_updated_time=datetime.datetime(2023, 5, 15, 17, 11, 36, 668000, tzinfo=datetime.timezone.utc), created_time=datetime.datetime(2023, 5, 15, 17, 11, 36, 668000, tzinfo=datetime.timezone.utc), deleted_time=None, movies=['movie:fargo'], nomination=[], person='person:ethan_coen', won_oscar=True),\n",
       "           Actor(external_id='director:ridley_scott', version=1, last_updated_time=datetime.datetime(2023, 5, 15, 17, 11, 36, 668000, tzinfo=datetime.timezone.utc), created_time=datetime.datetime(2023, 5, 15, 17, 11, 36, 668000, tzinfo=datetime.timezone.utc), deleted_time=None, movies=['movie:gladiator'], nomination=['director:ridley_scott:gladiator'], person='person:ridley_scott', won_oscar=False),\n",
       "           Actor(external_id='director:sidney_lumet', version=1, last_updated_time=datetime.datetime(2023, 5, 15, 17, 11, 36, 668000, tzinfo=datetime.timezone.utc), created_time=datetime.datetime(2023, 5, 15, 17, 11, 36, 668000, tzinfo=datetime.timezone.utc), deleted_time=None, movies=['movie:12_angry_men'], nomination=['director:sidney_lumet:12_angry_men'], person='person:sidney_lumet', won_oscar=True),\n",
       "           Actor(external_id='director:quentin_tarantino', version=1, last_updated_time=datetime.datetime(2023, 5, 15, 17, 11, 36, 668000, tzinfo=datetime.timezone.utc), created_time=datetime.datetime(2023, 5, 15, 17, 11, 36, 668000, tzinfo=datetime.timezone.utc), deleted_time=None, movies=['movie:inglourious_basterds', 'movie:django_unchained', 'movie:pulp_fiction', 'movie:reservoir_dogs'], nomination=['director:quentin_tarantino:pulp_fiction', 'director:quentin_tarantino:inglourious_basterds'], person='person:quentin_tarantino', won_oscar=True),\n",
       "           Actor(external_id='director:christoph_waltz', version=1, last_updated_time=datetime.datetime(2023, 5, 15, 17, 11, 36, 668000, tzinfo=datetime.timezone.utc), created_time=datetime.datetime(2023, 5, 15, 17, 11, 36, 668000, tzinfo=datetime.timezone.utc), deleted_time=None, movies=[], nomination=[], person='person:christoph_waltz', won_oscar=True)])"
      ]
     },
     "execution_count": 7,
     "metadata": {},
     "output_type": "execute_result"
    }
   ],
   "source": [
    "movie.actors.list(limit=5)"
   ]
  },
  {
   "cell_type": "code",
   "execution_count": 8,
   "metadata": {},
   "outputs": [
    {
     "data": {
      "text/html": [
       "<div>\n",
       "<style scoped>\n",
       "    .dataframe tbody tr th:only-of-type {\n",
       "        vertical-align: middle;\n",
       "    }\n",
       "\n",
       "    .dataframe tbody tr th {\n",
       "        vertical-align: top;\n",
       "    }\n",
       "\n",
       "    .dataframe thead th {\n",
       "        text-align: right;\n",
       "    }\n",
       "</style>\n",
       "<table border=\"1\" class=\"dataframe\">\n",
       "  <thead>\n",
       "    <tr style=\"text-align: right;\">\n",
       "      <th></th>\n",
       "      <th>external_id</th>\n",
       "      <th>actors</th>\n",
       "      <th>directors</th>\n",
       "      <th>meta</th>\n",
       "      <th>rating</th>\n",
       "      <th>release_year</th>\n",
       "      <th>run_time_minutes</th>\n",
       "      <th>title</th>\n",
       "      <th>version</th>\n",
       "      <th>last_updated_time</th>\n",
       "      <th>created_time</th>\n",
       "      <th>deleted_time</th>\n",
       "    </tr>\n",
       "  </thead>\n",
       "  <tbody>\n",
       "    <tr>\n",
       "      <th>0</th>\n",
       "      <td>movie:reservoir_dogs</td>\n",
       "      <td>[actor:quentin_tarantino, actor:harvey_keitel]</td>\n",
       "      <td>[director:quentin_tarantino]</td>\n",
       "      <td>None</td>\n",
       "      <td>rating:reservoir_dogs</td>\n",
       "      <td>1992</td>\n",
       "      <td>99.0</td>\n",
       "      <td>Reservoir Dogs</td>\n",
       "      <td>1</td>\n",
       "      <td>2023-05-15 17:03:06.715000+00:00</td>\n",
       "      <td>2023-05-15 17:03:06.715000+00:00</td>\n",
       "      <td>None</td>\n",
       "    </tr>\n",
       "    <tr>\n",
       "      <th>1</th>\n",
       "      <td>movie:pulp_fiction</td>\n",
       "      <td>[actor:harvey_keitel, actor:quentin_tarantino,...</td>\n",
       "      <td>[director:quentin_tarantino]</td>\n",
       "      <td>None</td>\n",
       "      <td>rating:pulp_fiction</td>\n",
       "      <td>1994</td>\n",
       "      <td>154.0</td>\n",
       "      <td>Pulp Fiction</td>\n",
       "      <td>1</td>\n",
       "      <td>2023-05-15 17:03:06.715000+00:00</td>\n",
       "      <td>2023-05-15 17:03:06.715000+00:00</td>\n",
       "      <td>None</td>\n",
       "    </tr>\n",
       "    <tr>\n",
       "      <th>2</th>\n",
       "      <td>movie:fargo</td>\n",
       "      <td>[actor:frances_mcdormand]</td>\n",
       "      <td>[director:ethan_coen, director:joel_coen]</td>\n",
       "      <td>None</td>\n",
       "      <td>rating:fargo</td>\n",
       "      <td>1996</td>\n",
       "      <td>98.0</td>\n",
       "      <td>Fargo</td>\n",
       "      <td>1</td>\n",
       "      <td>2023-05-15 17:03:06.715000+00:00</td>\n",
       "      <td>2023-05-15 17:03:06.715000+00:00</td>\n",
       "      <td>None</td>\n",
       "    </tr>\n",
       "    <tr>\n",
       "      <th>3</th>\n",
       "      <td>movie:django_unchained</td>\n",
       "      <td>[actor:samuel_l._jackson, actor:christoph_walt...</td>\n",
       "      <td>[director:quentin_tarantino]</td>\n",
       "      <td>None</td>\n",
       "      <td>rating:django_unchained</td>\n",
       "      <td>2012</td>\n",
       "      <td>165.0</td>\n",
       "      <td>Django Unchained</td>\n",
       "      <td>1</td>\n",
       "      <td>2023-05-15 17:03:06.715000+00:00</td>\n",
       "      <td>2023-05-15 17:03:06.715000+00:00</td>\n",
       "      <td>None</td>\n",
       "    </tr>\n",
       "    <tr>\n",
       "      <th>4</th>\n",
       "      <td>movie:inglourious_basterds</td>\n",
       "      <td>[actor:quentin_tarantino, actor:christoph_waltz]</td>\n",
       "      <td>[director:quentin_tarantino]</td>\n",
       "      <td>None</td>\n",
       "      <td>rating:inglourious_basterds</td>\n",
       "      <td>2009</td>\n",
       "      <td>153.0</td>\n",
       "      <td>Inglourious Basterds</td>\n",
       "      <td>1</td>\n",
       "      <td>2023-05-15 17:03:06.715000+00:00</td>\n",
       "      <td>2023-05-15 17:03:06.715000+00:00</td>\n",
       "      <td>None</td>\n",
       "    </tr>\n",
       "  </tbody>\n",
       "</table>\n",
       "</div>"
      ],
      "text/plain": [
       "MovieList([Movie(external_id='movie:reservoir_dogs', version=1, last_updated_time=datetime.datetime(2023, 5, 15, 17, 3, 6, 715000, tzinfo=datetime.timezone.utc), created_time=datetime.datetime(2023, 5, 15, 17, 3, 6, 715000, tzinfo=datetime.timezone.utc), deleted_time=None, actors=['actor:quentin_tarantino', 'actor:harvey_keitel'], directors=['director:quentin_tarantino'], meta=None, rating='rating:reservoir_dogs', release_year=1992, run_time_minutes=99.0, title='Reservoir Dogs'),\n",
       "           Movie(external_id='movie:pulp_fiction', version=1, last_updated_time=datetime.datetime(2023, 5, 15, 17, 3, 6, 715000, tzinfo=datetime.timezone.utc), created_time=datetime.datetime(2023, 5, 15, 17, 3, 6, 715000, tzinfo=datetime.timezone.utc), deleted_time=None, actors=['actor:harvey_keitel', 'actor:quentin_tarantino', 'actor:samuel_l._jackson', 'actor:john_travolta'], directors=['director:quentin_tarantino'], meta=None, rating='rating:pulp_fiction', release_year=1994, run_time_minutes=154.0, title='Pulp Fiction'),\n",
       "           Movie(external_id='movie:fargo', version=1, last_updated_time=datetime.datetime(2023, 5, 15, 17, 3, 6, 715000, tzinfo=datetime.timezone.utc), created_time=datetime.datetime(2023, 5, 15, 17, 3, 6, 715000, tzinfo=datetime.timezone.utc), deleted_time=None, actors=['actor:frances_mcdormand'], directors=['director:ethan_coen', 'director:joel_coen'], meta=None, rating='rating:fargo', release_year=1996, run_time_minutes=98.0, title='Fargo'),\n",
       "           Movie(external_id='movie:django_unchained', version=1, last_updated_time=datetime.datetime(2023, 5, 15, 17, 3, 6, 715000, tzinfo=datetime.timezone.utc), created_time=datetime.datetime(2023, 5, 15, 17, 3, 6, 715000, tzinfo=datetime.timezone.utc), deleted_time=None, actors=['actor:samuel_l._jackson', 'actor:christoph_waltz', 'actor:quentin_tarantino', 'actor:jamie_foxx'], directors=['director:quentin_tarantino'], meta=None, rating='rating:django_unchained', release_year=2012, run_time_minutes=165.0, title='Django Unchained'),\n",
       "           Movie(external_id='movie:inglourious_basterds', version=1, last_updated_time=datetime.datetime(2023, 5, 15, 17, 3, 6, 715000, tzinfo=datetime.timezone.utc), created_time=datetime.datetime(2023, 5, 15, 17, 3, 6, 715000, tzinfo=datetime.timezone.utc), deleted_time=None, actors=['actor:quentin_tarantino', 'actor:christoph_waltz'], directors=['director:quentin_tarantino'], meta=None, rating='rating:inglourious_basterds', release_year=2009, run_time_minutes=153.0, title='Inglourious Basterds')])"
      ]
     },
     "execution_count": 8,
     "metadata": {},
     "output_type": "execute_result"
    }
   ],
   "source": [
    "movie.movies.list(limit=5)"
   ]
  },
  {
   "cell_type": "markdown",
   "metadata": {},
   "source": [
    "To see a more complete example of functionality for the generated client see the Examples section in the documentation.\n"
   ]
  },
  {
   "cell_type": "markdown",
   "metadata": {
    "collapsed": false,
    "jupyter": {
     "outputs_hidden": false
    }
   },
   "source": [
    "## Generating SDK using Demo Data Model\n",
    "In case you want to try out `pygen`, but do not have a data model with data available, `pygen` comes with a demo data model included in the package."
   ]
  },
  {
   "cell_type": "code",
   "execution_count": 9,
   "metadata": {},
   "outputs": [],
   "source": [
    "from cognite.client import CogniteClient\n",
    "from cognite.pygen import demo"
   ]
  },
  {
   "cell_type": "code",
   "execution_count": 10,
   "metadata": {},
   "outputs": [],
   "source": [
    "solar = demo.SolarFarmAPM()\n",
    "client = CogniteClient()"
   ]
  },
  {
   "cell_type": "code",
   "execution_count": 11,
   "metadata": {},
   "outputs": [
    {
     "name": "stdout",
     "output_type": "stream",
     "text": [
      "Created space pygen\n",
      "Deployed data model DataModelId(space='pygen', external_id='SolarFarmAPM', version='1')\n",
      "✅  Data Model Ready!\n",
      "Created 4 TimeSeries\n",
      "Created 3 FileMetadata\n",
      "Created 17 nodes\n",
      "Created 21 edges\n",
      "✅  Population Complete!\n",
      "Writing SDK to /tmp/pygen\n",
      "Done!\n",
      "/tmp/pygen already in sys.path\n",
      "Imported solar_farm_apm.client\n",
      "✅  SDK Generated!\n",
      "CPU times: user 0 ns, sys: 0 ns, total: 0 ns\n",
      "Wall time: 5.32 s\n"
     ]
    }
   ],
   "source": [
    "%%time\n",
    "farm = solar.create(client)"
   ]
  },
  {
   "cell_type": "markdown",
   "metadata": {},
   "source": [
    "### Use Generated SDK\n",
    "We can now inspect the data model using our newly generated SDK."
   ]
  },
  {
   "cell_type": "code",
   "execution_count": 12,
   "metadata": {},
   "outputs": [
    {
     "data": {
      "text/html": [
       "<div>\n",
       "<style scoped>\n",
       "    .dataframe tbody tr th:only-of-type {\n",
       "        vertical-align: middle;\n",
       "    }\n",
       "\n",
       "    .dataframe tbody tr th {\n",
       "        vertical-align: top;\n",
       "    }\n",
       "\n",
       "    .dataframe thead th {\n",
       "        text-align: right;\n",
       "    }\n",
       "</style>\n",
       "<table border=\"1\" class=\"dataframe\">\n",
       "  <thead>\n",
       "    <tr style=\"text-align: right;\">\n",
       "      <th></th>\n",
       "      <th>external_id</th>\n",
       "      <th>area_id</th>\n",
       "      <th>category_id</th>\n",
       "      <th>created_date</th>\n",
       "      <th>description</th>\n",
       "      <th>documents</th>\n",
       "      <th>is_active</th>\n",
       "      <th>is_critical_line</th>\n",
       "      <th>linked_assets</th>\n",
       "      <th>metrics</th>\n",
       "      <th>name</th>\n",
       "      <th>parent</th>\n",
       "      <th>source_db</th>\n",
       "      <th>tag</th>\n",
       "      <th>updated_date</th>\n",
       "      <th>version</th>\n",
       "      <th>last_updated_time</th>\n",
       "      <th>created_time</th>\n",
       "      <th>deleted_time</th>\n",
       "    </tr>\n",
       "  </thead>\n",
       "  <tbody>\n",
       "    <tr>\n",
       "      <th>0</th>\n",
       "      <td>solarfarm:fornebu</td>\n",
       "      <td>1</td>\n",
       "      <td>1</td>\n",
       "      <td>2017-01-01 00:00:00+00:00</td>\n",
       "      <td>The most sunny place in Norway</td>\n",
       "      <td>[]</td>\n",
       "      <td>True</td>\n",
       "      <td>True</td>\n",
       "      <td>[]</td>\n",
       "      <td>[]</td>\n",
       "      <td>Fornebu</td>\n",
       "      <td>None</td>\n",
       "      <td>AlbertCerebrum</td>\n",
       "      <td></td>\n",
       "      <td>2023-01-01 00:00:00+00:00</td>\n",
       "      <td>2</td>\n",
       "      <td>2023-08-20 10:41:56.033000+00:00</td>\n",
       "      <td>2023-08-20 10:41:56.033000+00:00</td>\n",
       "      <td>None</td>\n",
       "    </tr>\n",
       "    <tr>\n",
       "      <th>1</th>\n",
       "      <td>solarpanel:sunny</td>\n",
       "      <td>2</td>\n",
       "      <td>2</td>\n",
       "      <td>2017-01-01 00:00:00+00:00</td>\n",
       "      <td>The panel on the first building</td>\n",
       "      <td>[]</td>\n",
       "      <td>True</td>\n",
       "      <td>False</td>\n",
       "      <td>[inverter:sunny]</td>\n",
       "      <td>[]</td>\n",
       "      <td>Solar Panel Sunny</td>\n",
       "      <td>solarfarm:fornebu</td>\n",
       "      <td>AlbertCerebrum</td>\n",
       "      <td></td>\n",
       "      <td>2022-01-01 00:00:00+00:00</td>\n",
       "      <td>1</td>\n",
       "      <td>2023-08-20 10:41:56.033000+00:00</td>\n",
       "      <td>2023-08-20 10:41:56.033000+00:00</td>\n",
       "      <td>None</td>\n",
       "    </tr>\n",
       "    <tr>\n",
       "      <th>2</th>\n",
       "      <td>solarpanel:cloudy</td>\n",
       "      <td>3</td>\n",
       "      <td>2</td>\n",
       "      <td>2020-01-01 00:00:00+00:00</td>\n",
       "      <td>The panel on the second building</td>\n",
       "      <td>[]</td>\n",
       "      <td>True</td>\n",
       "      <td>True</td>\n",
       "      <td>[inverter:cloudy]</td>\n",
       "      <td>[]</td>\n",
       "      <td>Solar Panel Cloudy</td>\n",
       "      <td>solarfarm:fornebu</td>\n",
       "      <td>AlbertCerebrum</td>\n",
       "      <td></td>\n",
       "      <td>2022-01-01 00:00:00+00:00</td>\n",
       "      <td>1</td>\n",
       "      <td>2023-08-20 10:41:56.033000+00:00</td>\n",
       "      <td>2023-08-20 10:41:56.033000+00:00</td>\n",
       "      <td>None</td>\n",
       "    </tr>\n",
       "    <tr>\n",
       "      <th>3</th>\n",
       "      <td>transformer:sunny</td>\n",
       "      <td>2</td>\n",
       "      <td>3</td>\n",
       "      <td>2017-01-01 00:00:00+00:00</td>\n",
       "      <td>The transformer connected to sunny</td>\n",
       "      <td>[]</td>\n",
       "      <td>True</td>\n",
       "      <td>False</td>\n",
       "      <td>[substation:fornebu]</td>\n",
       "      <td>[]</td>\n",
       "      <td>Transformer Sunny</td>\n",
       "      <td>solarfarm:fornebu</td>\n",
       "      <td>AlbertCerebrum</td>\n",
       "      <td></td>\n",
       "      <td>2022-01-01 00:00:00+00:00</td>\n",
       "      <td>1</td>\n",
       "      <td>2023-08-20 10:41:56.033000+00:00</td>\n",
       "      <td>2023-08-20 10:41:56.033000+00:00</td>\n",
       "      <td>None</td>\n",
       "    </tr>\n",
       "    <tr>\n",
       "      <th>4</th>\n",
       "      <td>transformer:cloudy</td>\n",
       "      <td>3</td>\n",
       "      <td>3</td>\n",
       "      <td>2017-01-01 00:00:00+00:00</td>\n",
       "      <td>The transformer connected to cloudy</td>\n",
       "      <td>[]</td>\n",
       "      <td>True</td>\n",
       "      <td>False</td>\n",
       "      <td>[substation:fornebu]</td>\n",
       "      <td>[]</td>\n",
       "      <td>Transformer Cloudy</td>\n",
       "      <td>solarfarm:fornebu</td>\n",
       "      <td>AlbertCerebrum</td>\n",
       "      <td></td>\n",
       "      <td>2021-01-01 00:00:00+00:00</td>\n",
       "      <td>1</td>\n",
       "      <td>2023-08-20 10:41:56.033000+00:00</td>\n",
       "      <td>2023-08-20 10:41:56.033000+00:00</td>\n",
       "      <td>None</td>\n",
       "    </tr>\n",
       "    <tr>\n",
       "      <th>5</th>\n",
       "      <td>transformer:saver</td>\n",
       "      <td>4</td>\n",
       "      <td>3</td>\n",
       "      <td>2022-01-01 00:00:00+00:00</td>\n",
       "      <td>The transformer connected to battery</td>\n",
       "      <td>[]</td>\n",
       "      <td>True</td>\n",
       "      <td>True</td>\n",
       "      <td>[substation:fornebu]</td>\n",
       "      <td>[]</td>\n",
       "      <td>Transformer Saver</td>\n",
       "      <td>solarfarm:fornebu</td>\n",
       "      <td>AlbertCerebrum</td>\n",
       "      <td></td>\n",
       "      <td>2023-03-01 00:00:00+00:00</td>\n",
       "      <td>1</td>\n",
       "      <td>2023-08-20 10:41:56.033000+00:00</td>\n",
       "      <td>2023-08-20 10:41:56.033000+00:00</td>\n",
       "      <td>None</td>\n",
       "    </tr>\n",
       "    <tr>\n",
       "      <th>6</th>\n",
       "      <td>inverter:sunny</td>\n",
       "      <td>2</td>\n",
       "      <td>4</td>\n",
       "      <td>2017-01-01 00:00:00+00:00</td>\n",
       "      <td>The inverter connected to sunny</td>\n",
       "      <td>[]</td>\n",
       "      <td>True</td>\n",
       "      <td>False</td>\n",
       "      <td>[transformer:sunny]</td>\n",
       "      <td>[]</td>\n",
       "      <td>Inverter Sunny</td>\n",
       "      <td>solarfarm:fornebu</td>\n",
       "      <td>AlbertCerebrum</td>\n",
       "      <td></td>\n",
       "      <td>2022-01-01 00:00:00+00:00</td>\n",
       "      <td>1</td>\n",
       "      <td>2023-08-20 10:41:56.033000+00:00</td>\n",
       "      <td>2023-08-20 10:41:56.033000+00:00</td>\n",
       "      <td>None</td>\n",
       "    </tr>\n",
       "    <tr>\n",
       "      <th>7</th>\n",
       "      <td>inverter:cloudy</td>\n",
       "      <td>3</td>\n",
       "      <td>4</td>\n",
       "      <td>2017-01-01 00:00:00+00:00</td>\n",
       "      <td>The inverter connected to cloudy</td>\n",
       "      <td>[]</td>\n",
       "      <td>True</td>\n",
       "      <td>False</td>\n",
       "      <td>[transformer:cloudy]</td>\n",
       "      <td>[]</td>\n",
       "      <td>Inverter Cloudy</td>\n",
       "      <td>solarfarm:fornebu</td>\n",
       "      <td>AlbertCerebrum</td>\n",
       "      <td></td>\n",
       "      <td>2021-01-01 00:00:00+00:00</td>\n",
       "      <td>1</td>\n",
       "      <td>2023-08-20 10:41:56.033000+00:00</td>\n",
       "      <td>2023-08-20 10:41:56.033000+00:00</td>\n",
       "      <td>None</td>\n",
       "    </tr>\n",
       "    <tr>\n",
       "      <th>8</th>\n",
       "      <td>inverter:saver</td>\n",
       "      <td>4</td>\n",
       "      <td>4</td>\n",
       "      <td>2022-01-01 00:00:00+00:00</td>\n",
       "      <td>The inverter connected to battery</td>\n",
       "      <td>[]</td>\n",
       "      <td>True</td>\n",
       "      <td>True</td>\n",
       "      <td>[transformer:saver]</td>\n",
       "      <td>[]</td>\n",
       "      <td>Inverter Saver</td>\n",
       "      <td>solarfarm:fornebu</td>\n",
       "      <td>AlbertCerebrum</td>\n",
       "      <td></td>\n",
       "      <td>2023-03-01 00:00:00+00:00</td>\n",
       "      <td>1</td>\n",
       "      <td>2023-08-20 10:41:56.033000+00:00</td>\n",
       "      <td>2023-08-20 10:41:56.033000+00:00</td>\n",
       "      <td>None</td>\n",
       "    </tr>\n",
       "    <tr>\n",
       "      <th>9</th>\n",
       "      <td>substation:fornebu</td>\n",
       "      <td>1</td>\n",
       "      <td>4</td>\n",
       "      <td>2017-01-01 00:00:00+00:00</td>\n",
       "      <td>The substation for the solar farm</td>\n",
       "      <td>[]</td>\n",
       "      <td>True</td>\n",
       "      <td>True</td>\n",
       "      <td>[]</td>\n",
       "      <td>[]</td>\n",
       "      <td>Fornebu station</td>\n",
       "      <td>solarfarm:fornebu</td>\n",
       "      <td>AlbertCerebrum</td>\n",
       "      <td></td>\n",
       "      <td>2023-03-01 00:00:00+00:00</td>\n",
       "      <td>1</td>\n",
       "      <td>2023-08-20 10:41:56.033000+00:00</td>\n",
       "      <td>2023-08-20 10:41:56.033000+00:00</td>\n",
       "      <td>None</td>\n",
       "    </tr>\n",
       "    <tr>\n",
       "      <th>10</th>\n",
       "      <td>battery:winter</td>\n",
       "      <td>4</td>\n",
       "      <td>5</td>\n",
       "      <td>2020-01-01 00:00:00+00:00</td>\n",
       "      <td>The battery for the solar farm</td>\n",
       "      <td>[]</td>\n",
       "      <td>True</td>\n",
       "      <td>True</td>\n",
       "      <td>[inverter:saver]</td>\n",
       "      <td>[]</td>\n",
       "      <td>Saver</td>\n",
       "      <td>solarfarm:fornebu</td>\n",
       "      <td>AlbertCerebrum</td>\n",
       "      <td></td>\n",
       "      <td>2020-06-01 00:00:00+00:00</td>\n",
       "      <td>1</td>\n",
       "      <td>2023-08-20 10:41:56.033000+00:00</td>\n",
       "      <td>2023-08-20 10:41:56.033000+00:00</td>\n",
       "      <td>None</td>\n",
       "    </tr>\n",
       "  </tbody>\n",
       "</table>\n",
       "</div>"
      ],
      "text/plain": [
       "AssetList([Asset(external_id='solarfarm:fornebu', version=2, last_updated_time=datetime.datetime(2023, 8, 20, 10, 41, 56, 33000, tzinfo=datetime.timezone.utc), created_time=datetime.datetime(2023, 8, 20, 10, 41, 56, 33000, tzinfo=datetime.timezone.utc), deleted_time=None, area_id=1, category_id=1, created_date=datetime.datetime(2017, 1, 1, 0, 0, tzinfo=datetime.timezone.utc), description='The most sunny place in Norway', documents=[], is_active=True, is_critical_line=True, linked_assets=[], metrics=[], name='Fornebu', parent=None, source_db='AlbertCerebrum', tag='', updated_date=datetime.datetime(2023, 1, 1, 0, 0, tzinfo=datetime.timezone.utc)),\n",
       "           Asset(external_id='solarpanel:sunny', version=1, last_updated_time=datetime.datetime(2023, 8, 20, 10, 41, 56, 33000, tzinfo=datetime.timezone.utc), created_time=datetime.datetime(2023, 8, 20, 10, 41, 56, 33000, tzinfo=datetime.timezone.utc), deleted_time=None, area_id=2, category_id=2, created_date=datetime.datetime(2017, 1, 1, 0, 0, tzinfo=datetime.timezone.utc), description='The panel on the first building', documents=[], is_active=True, is_critical_line=False, linked_assets=['inverter:sunny'], metrics=[], name='Solar Panel Sunny', parent='solarfarm:fornebu', source_db='AlbertCerebrum', tag='', updated_date=datetime.datetime(2022, 1, 1, 0, 0, tzinfo=datetime.timezone.utc)),\n",
       "           Asset(external_id='solarpanel:cloudy', version=1, last_updated_time=datetime.datetime(2023, 8, 20, 10, 41, 56, 33000, tzinfo=datetime.timezone.utc), created_time=datetime.datetime(2023, 8, 20, 10, 41, 56, 33000, tzinfo=datetime.timezone.utc), deleted_time=None, area_id=3, category_id=2, created_date=datetime.datetime(2020, 1, 1, 0, 0, tzinfo=datetime.timezone.utc), description='The panel on the second building', documents=[], is_active=True, is_critical_line=True, linked_assets=['inverter:cloudy'], metrics=[], name='Solar Panel Cloudy', parent='solarfarm:fornebu', source_db='AlbertCerebrum', tag='', updated_date=datetime.datetime(2022, 1, 1, 0, 0, tzinfo=datetime.timezone.utc)),\n",
       "           Asset(external_id='transformer:sunny', version=1, last_updated_time=datetime.datetime(2023, 8, 20, 10, 41, 56, 33000, tzinfo=datetime.timezone.utc), created_time=datetime.datetime(2023, 8, 20, 10, 41, 56, 33000, tzinfo=datetime.timezone.utc), deleted_time=None, area_id=2, category_id=3, created_date=datetime.datetime(2017, 1, 1, 0, 0, tzinfo=datetime.timezone.utc), description='The transformer connected to sunny', documents=[], is_active=True, is_critical_line=False, linked_assets=['substation:fornebu'], metrics=[], name='Transformer Sunny', parent='solarfarm:fornebu', source_db='AlbertCerebrum', tag='', updated_date=datetime.datetime(2022, 1, 1, 0, 0, tzinfo=datetime.timezone.utc)),\n",
       "           Asset(external_id='transformer:cloudy', version=1, last_updated_time=datetime.datetime(2023, 8, 20, 10, 41, 56, 33000, tzinfo=datetime.timezone.utc), created_time=datetime.datetime(2023, 8, 20, 10, 41, 56, 33000, tzinfo=datetime.timezone.utc), deleted_time=None, area_id=3, category_id=3, created_date=datetime.datetime(2017, 1, 1, 0, 0, tzinfo=datetime.timezone.utc), description='The transformer connected to cloudy', documents=[], is_active=True, is_critical_line=False, linked_assets=['substation:fornebu'], metrics=[], name='Transformer Cloudy', parent='solarfarm:fornebu', source_db='AlbertCerebrum', tag='', updated_date=datetime.datetime(2021, 1, 1, 0, 0, tzinfo=datetime.timezone.utc)),\n",
       "           Asset(external_id='transformer:saver', version=1, last_updated_time=datetime.datetime(2023, 8, 20, 10, 41, 56, 33000, tzinfo=datetime.timezone.utc), created_time=datetime.datetime(2023, 8, 20, 10, 41, 56, 33000, tzinfo=datetime.timezone.utc), deleted_time=None, area_id=4, category_id=3, created_date=datetime.datetime(2022, 1, 1, 0, 0, tzinfo=datetime.timezone.utc), description='The transformer connected to battery', documents=[], is_active=True, is_critical_line=True, linked_assets=['substation:fornebu'], metrics=[], name='Transformer Saver', parent='solarfarm:fornebu', source_db='AlbertCerebrum', tag='', updated_date=datetime.datetime(2023, 3, 1, 0, 0, tzinfo=datetime.timezone.utc)),\n",
       "           Asset(external_id='inverter:sunny', version=1, last_updated_time=datetime.datetime(2023, 8, 20, 10, 41, 56, 33000, tzinfo=datetime.timezone.utc), created_time=datetime.datetime(2023, 8, 20, 10, 41, 56, 33000, tzinfo=datetime.timezone.utc), deleted_time=None, area_id=2, category_id=4, created_date=datetime.datetime(2017, 1, 1, 0, 0, tzinfo=datetime.timezone.utc), description='The inverter connected to sunny', documents=[], is_active=True, is_critical_line=False, linked_assets=['transformer:sunny'], metrics=[], name='Inverter Sunny', parent='solarfarm:fornebu', source_db='AlbertCerebrum', tag='', updated_date=datetime.datetime(2022, 1, 1, 0, 0, tzinfo=datetime.timezone.utc)),\n",
       "           Asset(external_id='inverter:cloudy', version=1, last_updated_time=datetime.datetime(2023, 8, 20, 10, 41, 56, 33000, tzinfo=datetime.timezone.utc), created_time=datetime.datetime(2023, 8, 20, 10, 41, 56, 33000, tzinfo=datetime.timezone.utc), deleted_time=None, area_id=3, category_id=4, created_date=datetime.datetime(2017, 1, 1, 0, 0, tzinfo=datetime.timezone.utc), description='The inverter connected to cloudy', documents=[], is_active=True, is_critical_line=False, linked_assets=['transformer:cloudy'], metrics=[], name='Inverter Cloudy', parent='solarfarm:fornebu', source_db='AlbertCerebrum', tag='', updated_date=datetime.datetime(2021, 1, 1, 0, 0, tzinfo=datetime.timezone.utc)),\n",
       "           Asset(external_id='inverter:saver', version=1, last_updated_time=datetime.datetime(2023, 8, 20, 10, 41, 56, 33000, tzinfo=datetime.timezone.utc), created_time=datetime.datetime(2023, 8, 20, 10, 41, 56, 33000, tzinfo=datetime.timezone.utc), deleted_time=None, area_id=4, category_id=4, created_date=datetime.datetime(2022, 1, 1, 0, 0, tzinfo=datetime.timezone.utc), description='The inverter connected to battery', documents=[], is_active=True, is_critical_line=True, linked_assets=['transformer:saver'], metrics=[], name='Inverter Saver', parent='solarfarm:fornebu', source_db='AlbertCerebrum', tag='', updated_date=datetime.datetime(2023, 3, 1, 0, 0, tzinfo=datetime.timezone.utc)),\n",
       "           Asset(external_id='substation:fornebu', version=1, last_updated_time=datetime.datetime(2023, 8, 20, 10, 41, 56, 33000, tzinfo=datetime.timezone.utc), created_time=datetime.datetime(2023, 8, 20, 10, 41, 56, 33000, tzinfo=datetime.timezone.utc), deleted_time=None, area_id=1, category_id=4, created_date=datetime.datetime(2017, 1, 1, 0, 0, tzinfo=datetime.timezone.utc), description='The substation for the solar farm', documents=[], is_active=True, is_critical_line=True, linked_assets=[], metrics=[], name='Fornebu station', parent='solarfarm:fornebu', source_db='AlbertCerebrum', tag='', updated_date=datetime.datetime(2023, 3, 1, 0, 0, tzinfo=datetime.timezone.utc)),\n",
       "           Asset(external_id='battery:winter', version=1, last_updated_time=datetime.datetime(2023, 8, 20, 10, 41, 56, 33000, tzinfo=datetime.timezone.utc), created_time=datetime.datetime(2023, 8, 20, 10, 41, 56, 33000, tzinfo=datetime.timezone.utc), deleted_time=None, area_id=4, category_id=5, created_date=datetime.datetime(2020, 1, 1, 0, 0, tzinfo=datetime.timezone.utc), description='The battery for the solar farm', documents=[], is_active=True, is_critical_line=True, linked_assets=['inverter:saver'], metrics=[], name='Saver', parent='solarfarm:fornebu', source_db='AlbertCerebrum', tag='', updated_date=datetime.datetime(2020, 6, 1, 0, 0, tzinfo=datetime.timezone.utc))])"
      ]
     },
     "execution_count": 12,
     "metadata": {},
     "output_type": "execute_result"
    }
   ],
   "source": [
    "farm.assets.list()"
   ]
  },
  {
   "cell_type": "code",
   "execution_count": 13,
   "metadata": {},
   "outputs": [
    {
     "data": {
      "text/plain": [
       "{'external_id': 'planned:1001',\n",
       " 'version': 2,\n",
       " 'last_updated_time': datetime.datetime(2023, 8, 20, 10, 41, 56, 33000, tzinfo=datetime.timezone.utc),\n",
       " 'created_time': datetime.datetime(2023, 8, 20, 10, 41, 56, 33000, tzinfo=datetime.timezone.utc),\n",
       " 'deleted_time': None,\n",
       " 'actual_hours': 3,\n",
       " 'created_date': datetime.datetime(2023, 1, 1, 0, 0, tzinfo=datetime.timezone.utc),\n",
       " 'description': 'Inspect solar panels',\n",
       " 'due_date': datetime.datetime(2023, 1, 1, 0, 0, tzinfo=datetime.timezone.utc),\n",
       " 'duration_hours': 5,\n",
       " 'end_time': datetime.datetime(2023, 1, 2, 0, 0, tzinfo=datetime.timezone.utc),\n",
       " 'is_active': False,\n",
       " 'is_cancelled': False,\n",
       " 'is_completed': True,\n",
       " 'is_safety_critical': False,\n",
       " 'linked_assets': ['solarpanel:sunny', 'solarpanel:cloudy'],\n",
       " 'percentage_progress': 100,\n",
       " 'planned_start': datetime.datetime(2023, 1, 1, 0, 0, tzinfo=datetime.timezone.utc),\n",
       " 'priority_description': 'Medium Planned Priority',\n",
       " 'program_number': '1',\n",
       " 'start_time': datetime.datetime(2023, 1, 1, 0, 0, tzinfo=datetime.timezone.utc),\n",
       " 'status': 'Done',\n",
       " 'title': 'Planned Inspection',\n",
       " 'work_items': ['work:inspection:1001', 'work:cleaning:1001'],\n",
       " 'work_order_number': '1',\n",
       " 'work_package_number': '1'}"
      ]
     },
     "execution_count": 13,
     "metadata": {},
     "output_type": "execute_result"
    }
   ],
   "source": [
    "farm.work_orders.retrieve(\"planned:1001\").dict()"
   ]
  },
  {
   "cell_type": "markdown",
   "metadata": {},
   "source": [
    "### Cleaning Up\n",
    "Once you are finished with testing and want to remove the data model and data, you can use the `.clean()` method."
   ]
  },
  {
   "cell_type": "code",
   "execution_count": 14,
   "metadata": {},
   "outputs": [
    {
     "name": "stdout",
     "output_type": "stream",
     "text": [
      "Deleted 4 TimeSeries\n",
      "Deleted 3 FileMetadata\n",
      "Deleted 17 nodes\n",
      "Deleted 0 edges\n",
      "Deleted 4 type nodes\n",
      "Deleted data model DataModelId(space='pygen', external_id='SolarFarmAPM', version='1')\n",
      "Deleted views [ViewId(space='pygen', external_id='WorkItem', version='e3b9053e1dd01e'), ViewId(space='pygen', external_id='WorkOrder', version='27f589c97cdb01'), ViewId(space='pygen', external_id='Asset', version='a974167b65241a')]\n",
      "Deleted containers [ContainerId(space='pygen', external_id='WorkOrder'), ContainerId(space='pygen', external_id='Asset'), ContainerId(space='pygen', external_id='WorkItem')]\n",
      "Deleted space pygen\n"
     ]
    }
   ],
   "source": [
    "solar.clean(client, auto_confirm=True)"
   ]
  },
  {
   "cell_type": "code",
   "execution_count": null,
   "metadata": {},
   "outputs": [],
   "source": []
  }
 ],
 "metadata": {
  "kernelspec": {
   "display_name": "Python (Pyodide)",
   "language": "python",
   "name": "python"
  },
  "language_info": {
   "codemirror_mode": {
    "name": "python",
    "version": 3
   },
   "file_extension": ".py",
   "mimetype": "text/x-python",
   "name": "python",
   "nbconvert_exporter": "python",
   "pygments_lexer": "ipython3",
   "version": "3.8"
  }
 },
 "nbformat": 4,
 "nbformat_minor": 4
}
