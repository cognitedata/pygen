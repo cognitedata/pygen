{
  "metadata": {
    "kernelspec": {
      "display_name": "Python (Pyodide)",
      "language": "python",
      "name": "python"
    },
    "language_info": {
      "codemirror_mode": {
        "name": "python",
        "version": 3
      },
      "file_extension": ".py",
      "mimetype": "text/x-python",
      "name": "python",
      "nbconvert_exporter": "python",
      "pygments_lexer": "ipython3",
      "version": "3.8"
    }
  },
  "nbformat_minor": 4,
  "nbformat": 4,
  "cells": [
    {
      "cell_type": "markdown",
      "source": "# Exploration in CDF Notebook\n\n**Prerequisites**\n- Access to a CDF Project.\n- Some very basic Python understanding or feel up for a challenge. ",
      "metadata": {
        "editable": true,
        "slideshow": {
          "slide_type": ""
        },
        "tags": []
      }
    },
    {
      "cell_type": "markdown",
      "source": "## If you have ZERO Python knowledge and are up for a challenge\n\n* You can copy the cells below and past them into notebook.\n* You execute cells by pressing `shift+enter`\n* Auto complete with `tab`.\n* You can check available commands by first type a variable and press `shift+tab`. For example, after running the line `pygen = generate_sdk_notebook(data_model_id, client)` you can in subsequent cells write `pygen.` and press `shift+tab` to see that there are options such as `wind_turbine` and `metmast` available .",
      "metadata": {
        "editable": true,
        "slideshow": {
          "slide_type": ""
        },
        "tags": []
      }
    },
    {
      "cell_type": "markdown",
      "source": "## Installing `pygen` in the notebook environment.",
      "metadata": {
        "editable": true,
        "slideshow": {
          "slide_type": ""
        },
        "tags": []
      }
    },
    {
      "cell_type": "code",
      "source": "%pip install cognite-pygen",
      "metadata": {
        "editable": true,
        "slideshow": {
          "slide_type": ""
        },
        "tags": [],
        "trusted": true
      },
      "outputs": [],
      "execution_count": 1
    },
    {
      "cell_type": "markdown",
      "source": "In case you have issues with the installation, check out the [troubleshooting](../installation.html#pyodide-troubleshooting) in the installation guide.",
      "metadata": {}
    },
    {
      "cell_type": "markdown",
      "source": "## Generating SDK for Your Data Model\n",
      "metadata": {}
    },
    {
      "cell_type": "code",
      "source": "from cognite.client import CogniteClient\n\nfrom cognite.pygen import __version__, generate_sdk_notebook",
      "metadata": {
        "trusted": true
      },
      "outputs": [],
      "execution_count": 2
    },
    {
      "cell_type": "code",
      "source": "# Show version, if you have an older you can run\n# the installation cell above with:\n# %pip install cognite-pygen==0.32.5\n__version__",
      "metadata": {
        "trusted": true
      },
      "outputs": [
        {
          "execution_count": 3,
          "output_type": "execute_result",
          "data": {
            "text/plain": "'0.99.49'"
          },
          "metadata": {}
        }
      ],
      "execution_count": 3
    },
    {
      "cell_type": "code",
      "source": "client = CogniteClient()",
      "metadata": {
        "trusted": true
      },
      "outputs": [],
      "execution_count": 4
    },
    {
      "cell_type": "code",
      "source": "space = \"sp_pygen_power\"\ndata_model_external_id = \"WindTurbine\"\ndata_model_version = \"1\"\ndata_model_id = (space, data_model_external_id, data_model_version)",
      "metadata": {
        "trusted": true
      },
      "outputs": [],
      "execution_count": 5
    },
    {
      "cell_type": "code",
      "source": "pygen = generate_sdk_notebook(data_model_id, client)",
      "metadata": {
        "trusted": true
      },
      "outputs": [
        {
          "name": "stdout",
          "text": "Successfully retrieved data model(s) ('sp_pygen_power', 'WindTurbine', '1')\nName collision detected in ViewId(space='sp_pygen_power', external_id='SensorTimeSeries', version='1'): 'type'. An underscore will be added to the 'type' to avoid name collision.\nWriting SDK to /tmp/pygen/sp_pygen_power_WindTurbine_1/wind_turbine\nDone!\nAdded /tmp/pygen/sp_pygen_power_WindTurbine_1 to sys.path to enable import\nImported wind_turbine\nYou can now use the generated SDK in the current Python session.\nThe data classes are available by importing, for example, `from wind_turbine.data_classes import BladeWrite`\n",
          "output_type": "stream"
        }
      ],
      "execution_count": 6
    },
    {
      "cell_type": "markdown",
      "source": "### Using the Generated SDK",
      "metadata": {}
    },
    {
      "cell_type": "code",
      "source": "pygen.wind_turbine.list(limit=5)",
      "metadata": {
        "trusted": true
      },
      "outputs": [
        {
          "execution_count": 7,
          "output_type": "execute_result",
          "data": {
            "text/plain": "WindTurbineList([WindTurbine(space='sp_wind', external_id='hornsea_1_mill_3', data_record=DataRecord(version=4, last_updated_time=datetime.datetime(2024, 11, 16, 14, 59, 42, 454000, tzinfo=TzInfo(UTC)), created_time=datetime.datetime(2024, 11, 16, 14, 8, 1, 544000, tzinfo=TzInfo(UTC)), deleted_time=None), node_type=None, name='hornsea_1_mill_3', description=None, capacity=7.0, windfarm='Hornsea 1', power_curve=None),\n                 WindTurbine(space='sp_wind', external_id='hornsea_1_mill_2', data_record=DataRecord(version=4, last_updated_time=datetime.datetime(2024, 11, 16, 14, 59, 42, 454000, tzinfo=TzInfo(UTC)), created_time=datetime.datetime(2024, 11, 16, 14, 8, 1, 544000, tzinfo=TzInfo(UTC)), deleted_time=None), node_type=None, name='hornsea_1_mill_2', description=None, capacity=7.0, windfarm='Hornsea 1', power_curve=None),\n                 WindTurbine(space='sp_wind', external_id='hornsea_1_mill_1', data_record=DataRecord(version=4, last_updated_time=datetime.datetime(2024, 11, 16, 14, 59, 42, 454000, tzinfo=TzInfo(UTC)), created_time=datetime.datetime(2024, 11, 16, 14, 8, 1, 544000, tzinfo=TzInfo(UTC)), deleted_time=None), node_type=None, name='hornsea_1_mill_1', description=None, capacity=7.0, windfarm='Hornsea 1', power_curve=None),\n                 WindTurbine(space='sp_wind', external_id='hornsea_1_mill_4', data_record=DataRecord(version=4, last_updated_time=datetime.datetime(2024, 11, 16, 14, 59, 42, 454000, tzinfo=TzInfo(UTC)), created_time=datetime.datetime(2024, 11, 16, 14, 8, 1, 544000, tzinfo=TzInfo(UTC)), deleted_time=None), node_type=None, name='hornsea_1_mill_4', description=None, capacity=7.0, windfarm='Hornsea 1', power_curve=None),\n                 WindTurbine(space='sp_wind', external_id='hornsea_1_mill_5', data_record=DataRecord(version=4, last_updated_time=datetime.datetime(2024, 11, 16, 14, 59, 42, 454000, tzinfo=TzInfo(UTC)), created_time=datetime.datetime(2024, 11, 16, 14, 8, 1, 544000, tzinfo=TzInfo(UTC)), deleted_time=None), node_type=None, name='hornsea_1_mill_5', description=None, capacity=7.0, windfarm='Hornsea 1', power_curve=None)])",
            "text/html": "<div>\n<style scoped>\n    .dataframe tbody tr th:only-of-type {\n        vertical-align: middle;\n    }\n\n    .dataframe tbody tr th {\n        vertical-align: top;\n    }\n\n    .dataframe thead th {\n        text-align: right;\n    }\n</style>\n<table border=\"1\" class=\"dataframe\">\n  <thead>\n    <tr style=\"text-align: right;\">\n      <th></th>\n      <th>space</th>\n      <th>external_id</th>\n      <th>name</th>\n      <th>capacity</th>\n      <th>windfarm</th>\n      <th>rotor</th>\n      <th>nacelle</th>\n      <th>blades</th>\n      <th>datasheets</th>\n      <th>data_record</th>\n    </tr>\n  </thead>\n  <tbody>\n    <tr>\n      <th>0</th>\n      <td>sp_wind</td>\n      <td>hornsea_1_mill_3</td>\n      <td>hornsea_1_mill_3</td>\n      <td>7.0</td>\n      <td>Hornsea 1</td>\n      <td>{'space': 'sp_wind', 'external_id': 'hornsea_1...</td>\n      <td>{'space': 'sp_wind', 'external_id': 'hornsea_1...</td>\n      <td>[{'space': 'sp_wind', 'external_id': 'hornsea_...</td>\n      <td>[{'space': 'sp_wind', 'external_id': 'windmill...</td>\n      <td>{'version': 4, 'last_updated_time': 2024-11-16...</td>\n    </tr>\n    <tr>\n      <th>1</th>\n      <td>sp_wind</td>\n      <td>hornsea_1_mill_2</td>\n      <td>hornsea_1_mill_2</td>\n      <td>7.0</td>\n      <td>Hornsea 1</td>\n      <td>{'space': 'sp_wind', 'external_id': 'hornsea_1...</td>\n      <td>{'space': 'sp_wind', 'external_id': 'hornsea_1...</td>\n      <td>[{'space': 'sp_wind', 'external_id': 'hornsea_...</td>\n      <td>[{'space': 'sp_wind', 'external_id': 'windmill...</td>\n      <td>{'version': 4, 'last_updated_time': 2024-11-16...</td>\n    </tr>\n    <tr>\n      <th>2</th>\n      <td>sp_wind</td>\n      <td>hornsea_1_mill_1</td>\n      <td>hornsea_1_mill_1</td>\n      <td>7.0</td>\n      <td>Hornsea 1</td>\n      <td>{'space': 'sp_wind', 'external_id': 'hornsea_1...</td>\n      <td>{'space': 'sp_wind', 'external_id': 'hornsea_1...</td>\n      <td>[{'space': 'sp_wind', 'external_id': 'hornsea_...</td>\n      <td>[{'space': 'sp_wind', 'external_id': 'windmill...</td>\n      <td>{'version': 4, 'last_updated_time': 2024-11-16...</td>\n    </tr>\n    <tr>\n      <th>3</th>\n      <td>sp_wind</td>\n      <td>hornsea_1_mill_4</td>\n      <td>hornsea_1_mill_4</td>\n      <td>7.0</td>\n      <td>Hornsea 1</td>\n      <td>{'space': 'sp_wind', 'external_id': 'hornsea_1...</td>\n      <td>{'space': 'sp_wind', 'external_id': 'hornsea_1...</td>\n      <td>[{'space': 'sp_wind', 'external_id': 'hornsea_...</td>\n      <td>[{'space': 'sp_wind', 'external_id': 'windmill...</td>\n      <td>{'version': 4, 'last_updated_time': 2024-11-16...</td>\n    </tr>\n    <tr>\n      <th>4</th>\n      <td>sp_wind</td>\n      <td>hornsea_1_mill_5</td>\n      <td>hornsea_1_mill_5</td>\n      <td>7.0</td>\n      <td>Hornsea 1</td>\n      <td>{'space': 'sp_wind', 'external_id': 'hornsea_1...</td>\n      <td>{'space': 'sp_wind', 'external_id': 'hornsea_1...</td>\n      <td>[{'space': 'sp_wind', 'external_id': 'hornsea_...</td>\n      <td>[{'space': 'sp_wind', 'external_id': 'windmill...</td>\n      <td>{'version': 4, 'last_updated_time': 2024-11-16...</td>\n    </tr>\n  </tbody>\n</table>\n</div>"
          },
          "metadata": {}
        }
      ],
      "execution_count": 7
    },
    {
      "cell_type": "code",
      "source": "pygen.metmast.list(limit=2)",
      "metadata": {
        "trusted": true
      },
      "outputs": [
        {
          "execution_count": 8,
          "output_type": "execute_result",
          "data": {
            "text/plain": "MetmastList([Metmast(space='sp_wind', external_id='utsira_station', data_record=DataRecord(version=1, last_updated_time=datetime.datetime(2024, 11, 16, 14, 8, 1, 544000, tzinfo=TzInfo(UTC)), created_time=datetime.datetime(2024, 11, 16, 14, 8, 1, 544000, tzinfo=TzInfo(UTC)), deleted_time=None), node_type=None, position=62.0, wind_speed='utsira_station_wind_speed', tilt_angle='utsira_station_tilt_angle', temperature='utsira_station_temperature'),\n             Metmast(space='sp_wind', external_id='hitra_station', data_record=DataRecord(version=1, last_updated_time=datetime.datetime(2024, 11, 16, 14, 8, 1, 544000, tzinfo=TzInfo(UTC)), created_time=datetime.datetime(2024, 11, 16, 14, 8, 1, 544000, tzinfo=TzInfo(UTC)), deleted_time=None), node_type=None, position=63.0, wind_speed='hitra_station_wind_speed', tilt_angle='hitra_station_tilt_angle', temperature='hitra_station_temperature')])",
            "text/html": "<div>\n<style scoped>\n    .dataframe tbody tr th:only-of-type {\n        vertical-align: middle;\n    }\n\n    .dataframe tbody tr th {\n        vertical-align: top;\n    }\n\n    .dataframe thead th {\n        text-align: right;\n    }\n</style>\n<table border=\"1\" class=\"dataframe\">\n  <thead>\n    <tr style=\"text-align: right;\">\n      <th></th>\n      <th>space</th>\n      <th>external_id</th>\n      <th>position</th>\n      <th>wind_speed</th>\n      <th>tilt_angle</th>\n      <th>temperature</th>\n      <th>data_record</th>\n    </tr>\n  </thead>\n  <tbody>\n    <tr>\n      <th>0</th>\n      <td>sp_wind</td>\n      <td>utsira_station</td>\n      <td>62.0</td>\n      <td>utsira_station_wind_speed</td>\n      <td>utsira_station_tilt_angle</td>\n      <td>utsira_station_temperature</td>\n      <td>{'version': 1, 'last_updated_time': 2024-11-16...</td>\n    </tr>\n    <tr>\n      <th>1</th>\n      <td>sp_wind</td>\n      <td>hitra_station</td>\n      <td>63.0</td>\n      <td>hitra_station_wind_speed</td>\n      <td>hitra_station_tilt_angle</td>\n      <td>hitra_station_temperature</td>\n      <td>{'version': 1, 'last_updated_time': 2024-11-16...</td>\n    </tr>\n  </tbody>\n</table>\n</div>"
          },
          "metadata": {}
        }
      ],
      "execution_count": 8
    },
    {
      "cell_type": "markdown",
      "source": "To see a more complete example of functionality for the generated client see the Usage section in the documentation.\n",
      "metadata": {}
    },
    {
      "cell_type": "markdown",
      "source": "## Generating SDK using Demo Data Model\nIn case you want to try out `pygen`, but do not have a data model with data available, `pygen` comes with a demo data model included in the package.",
      "metadata": {}
    },
    {
      "cell_type": "code",
      "source": "from cognite.client import CogniteClient\n\nfrom cognite.pygen import demo",
      "metadata": {},
      "outputs": [],
      "execution_count": 9
    },
    {
      "cell_type": "code",
      "source": "solar = demo.SolarFarmAPM()\nclient = CogniteClient()",
      "metadata": {},
      "outputs": [],
      "execution_count": 10
    },
    {
      "cell_type": "code",
      "source": "%%time\nfarm = solar.create(client)",
      "metadata": {},
      "outputs": [
        {
          "name": "stdout",
          "output_type": "stream",
          "text": [
            "Created space pygen\n",
            "\n",
            "Deployed data model DataModelId(space='pygen', external_id='SolarFarmAPM', version='1')\n",
            "\n",
            "✅  Data Model Ready!\n",
            "\n",
            "Created 4 TimeSeries\n",
            "\n",
            "Created 3 FileMetadata\n",
            "\n",
            "Created 17 nodes\n",
            "\n",
            "Created 21 edges\n",
            "\n",
            "✅  Population Complete!\n",
            "\n",
            "Writing SDK to /tmp/pygen\n",
            "\n",
            "Done!\n",
            "\n",
            "/tmp/pygen already in sys.path\n",
            "\n",
            "Imported solar_farm_apm.client\n",
            "\n",
            "✅  SDK Generated!\n",
            "\n",
            "CPU times: user 0 ns, sys: 0 ns, total: 0 ns\n",
            "\n",
            "Wall time: 5.32 s\n"
          ]
        }
      ],
      "execution_count": 11
    },
    {
      "cell_type": "markdown",
      "source": "### Use Generated SDK\nWe can now inspect the data model using our newly generated SDK.",
      "metadata": {}
    },
    {
      "cell_type": "code",
      "source": "farm.assets.list()",
      "metadata": {},
      "outputs": [
        {
          "data": {
            "text/html": [
              "<div>\n",
              "<style scoped>\n",
              "    .dataframe tbody tr th:only-of-type {\n",
              "        vertical-align: middle;\n",
              "    }\n",
              "\n",
              "    .dataframe tbody tr th {\n",
              "        vertical-align: top;\n",
              "    }\n",
              "\n",
              "    .dataframe thead th {\n",
              "        text-align: right;\n",
              "    }\n",
              "</style>\n",
              "<table border=\"1\" class=\"dataframe\">\n",
              "  <thead>\n",
              "    <tr style=\"text-align: right;\">\n",
              "      <th></th>\n",
              "      <th>external_id</th>\n",
              "      <th>area_id</th>\n",
              "      <th>category_id</th>\n",
              "      <th>created_date</th>\n",
              "      <th>description</th>\n",
              "      <th>documents</th>\n",
              "      <th>is_active</th>\n",
              "      <th>is_critical_line</th>\n",
              "      <th>linked_assets</th>\n",
              "      <th>metrics</th>\n",
              "      <th>name</th>\n",
              "      <th>parent</th>\n",
              "      <th>source_db</th>\n",
              "      <th>tag</th>\n",
              "      <th>updated_date</th>\n",
              "      <th>version</th>\n",
              "      <th>last_updated_time</th>\n",
              "      <th>created_time</th>\n",
              "      <th>deleted_time</th>\n",
              "    </tr>\n",
              "  </thead>\n",
              "  <tbody>\n",
              "    <tr>\n",
              "      <th>0</th>\n",
              "      <td>solarfarm:fornebu</td>\n",
              "      <td>1</td>\n",
              "      <td>1</td>\n",
              "      <td>2017-01-01 00:00:00+00:00</td>\n",
              "      <td>The most sunny place in Norway</td>\n",
              "      <td>[]</td>\n",
              "      <td>True</td>\n",
              "      <td>True</td>\n",
              "      <td>[]</td>\n",
              "      <td>[]</td>\n",
              "      <td>Fornebu</td>\n",
              "      <td>None</td>\n",
              "      <td>AlbertCerebrum</td>\n",
              "      <td></td>\n",
              "      <td>2023-01-01 00:00:00+00:00</td>\n",
              "      <td>2</td>\n",
              "      <td>2023-08-20 10:41:56.033000+00:00</td>\n",
              "      <td>2023-08-20 10:41:56.033000+00:00</td>\n",
              "      <td>None</td>\n",
              "    </tr>\n",
              "    <tr>\n",
              "      <th>1</th>\n",
              "      <td>solarpanel:sunny</td>\n",
              "      <td>2</td>\n",
              "      <td>2</td>\n",
              "      <td>2017-01-01 00:00:00+00:00</td>\n",
              "      <td>The panel on the first building</td>\n",
              "      <td>[]</td>\n",
              "      <td>True</td>\n",
              "      <td>False</td>\n",
              "      <td>[inverter:sunny]</td>\n",
              "      <td>[]</td>\n",
              "      <td>Solar Panel Sunny</td>\n",
              "      <td>solarfarm:fornebu</td>\n",
              "      <td>AlbertCerebrum</td>\n",
              "      <td></td>\n",
              "      <td>2022-01-01 00:00:00+00:00</td>\n",
              "      <td>1</td>\n",
              "      <td>2023-08-20 10:41:56.033000+00:00</td>\n",
              "      <td>2023-08-20 10:41:56.033000+00:00</td>\n",
              "      <td>None</td>\n",
              "    </tr>\n",
              "    <tr>\n",
              "      <th>2</th>\n",
              "      <td>solarpanel:cloudy</td>\n",
              "      <td>3</td>\n",
              "      <td>2</td>\n",
              "      <td>2020-01-01 00:00:00+00:00</td>\n",
              "      <td>The panel on the second building</td>\n",
              "      <td>[]</td>\n",
              "      <td>True</td>\n",
              "      <td>True</td>\n",
              "      <td>[inverter:cloudy]</td>\n",
              "      <td>[]</td>\n",
              "      <td>Solar Panel Cloudy</td>\n",
              "      <td>solarfarm:fornebu</td>\n",
              "      <td>AlbertCerebrum</td>\n",
              "      <td></td>\n",
              "      <td>2022-01-01 00:00:00+00:00</td>\n",
              "      <td>1</td>\n",
              "      <td>2023-08-20 10:41:56.033000+00:00</td>\n",
              "      <td>2023-08-20 10:41:56.033000+00:00</td>\n",
              "      <td>None</td>\n",
              "    </tr>\n",
              "    <tr>\n",
              "      <th>3</th>\n",
              "      <td>transformer:sunny</td>\n",
              "      <td>2</td>\n",
              "      <td>3</td>\n",
              "      <td>2017-01-01 00:00:00+00:00</td>\n",
              "      <td>The transformer connected to sunny</td>\n",
              "      <td>[]</td>\n",
              "      <td>True</td>\n",
              "      <td>False</td>\n",
              "      <td>[substation:fornebu]</td>\n",
              "      <td>[]</td>\n",
              "      <td>Transformer Sunny</td>\n",
              "      <td>solarfarm:fornebu</td>\n",
              "      <td>AlbertCerebrum</td>\n",
              "      <td></td>\n",
              "      <td>2022-01-01 00:00:00+00:00</td>\n",
              "      <td>1</td>\n",
              "      <td>2023-08-20 10:41:56.033000+00:00</td>\n",
              "      <td>2023-08-20 10:41:56.033000+00:00</td>\n",
              "      <td>None</td>\n",
              "    </tr>\n",
              "    <tr>\n",
              "      <th>4</th>\n",
              "      <td>transformer:cloudy</td>\n",
              "      <td>3</td>\n",
              "      <td>3</td>\n",
              "      <td>2017-01-01 00:00:00+00:00</td>\n",
              "      <td>The transformer connected to cloudy</td>\n",
              "      <td>[]</td>\n",
              "      <td>True</td>\n",
              "      <td>False</td>\n",
              "      <td>[substation:fornebu]</td>\n",
              "      <td>[]</td>\n",
              "      <td>Transformer Cloudy</td>\n",
              "      <td>solarfarm:fornebu</td>\n",
              "      <td>AlbertCerebrum</td>\n",
              "      <td></td>\n",
              "      <td>2021-01-01 00:00:00+00:00</td>\n",
              "      <td>1</td>\n",
              "      <td>2023-08-20 10:41:56.033000+00:00</td>\n",
              "      <td>2023-08-20 10:41:56.033000+00:00</td>\n",
              "      <td>None</td>\n",
              "    </tr>\n",
              "    <tr>\n",
              "      <th>5</th>\n",
              "      <td>transformer:saver</td>\n",
              "      <td>4</td>\n",
              "      <td>3</td>\n",
              "      <td>2022-01-01 00:00:00+00:00</td>\n",
              "      <td>The transformer connected to battery</td>\n",
              "      <td>[]</td>\n",
              "      <td>True</td>\n",
              "      <td>True</td>\n",
              "      <td>[substation:fornebu]</td>\n",
              "      <td>[]</td>\n",
              "      <td>Transformer Saver</td>\n",
              "      <td>solarfarm:fornebu</td>\n",
              "      <td>AlbertCerebrum</td>\n",
              "      <td></td>\n",
              "      <td>2023-03-01 00:00:00+00:00</td>\n",
              "      <td>1</td>\n",
              "      <td>2023-08-20 10:41:56.033000+00:00</td>\n",
              "      <td>2023-08-20 10:41:56.033000+00:00</td>\n",
              "      <td>None</td>\n",
              "    </tr>\n",
              "    <tr>\n",
              "      <th>6</th>\n",
              "      <td>inverter:sunny</td>\n",
              "      <td>2</td>\n",
              "      <td>4</td>\n",
              "      <td>2017-01-01 00:00:00+00:00</td>\n",
              "      <td>The inverter connected to sunny</td>\n",
              "      <td>[]</td>\n",
              "      <td>True</td>\n",
              "      <td>False</td>\n",
              "      <td>[transformer:sunny]</td>\n",
              "      <td>[]</td>\n",
              "      <td>Inverter Sunny</td>\n",
              "      <td>solarfarm:fornebu</td>\n",
              "      <td>AlbertCerebrum</td>\n",
              "      <td></td>\n",
              "      <td>2022-01-01 00:00:00+00:00</td>\n",
              "      <td>1</td>\n",
              "      <td>2023-08-20 10:41:56.033000+00:00</td>\n",
              "      <td>2023-08-20 10:41:56.033000+00:00</td>\n",
              "      <td>None</td>\n",
              "    </tr>\n",
              "    <tr>\n",
              "      <th>7</th>\n",
              "      <td>inverter:cloudy</td>\n",
              "      <td>3</td>\n",
              "      <td>4</td>\n",
              "      <td>2017-01-01 00:00:00+00:00</td>\n",
              "      <td>The inverter connected to cloudy</td>\n",
              "      <td>[]</td>\n",
              "      <td>True</td>\n",
              "      <td>False</td>\n",
              "      <td>[transformer:cloudy]</td>\n",
              "      <td>[]</td>\n",
              "      <td>Inverter Cloudy</td>\n",
              "      <td>solarfarm:fornebu</td>\n",
              "      <td>AlbertCerebrum</td>\n",
              "      <td></td>\n",
              "      <td>2021-01-01 00:00:00+00:00</td>\n",
              "      <td>1</td>\n",
              "      <td>2023-08-20 10:41:56.033000+00:00</td>\n",
              "      <td>2023-08-20 10:41:56.033000+00:00</td>\n",
              "      <td>None</td>\n",
              "    </tr>\n",
              "    <tr>\n",
              "      <th>8</th>\n",
              "      <td>inverter:saver</td>\n",
              "      <td>4</td>\n",
              "      <td>4</td>\n",
              "      <td>2022-01-01 00:00:00+00:00</td>\n",
              "      <td>The inverter connected to battery</td>\n",
              "      <td>[]</td>\n",
              "      <td>True</td>\n",
              "      <td>True</td>\n",
              "      <td>[transformer:saver]</td>\n",
              "      <td>[]</td>\n",
              "      <td>Inverter Saver</td>\n",
              "      <td>solarfarm:fornebu</td>\n",
              "      <td>AlbertCerebrum</td>\n",
              "      <td></td>\n",
              "      <td>2023-03-01 00:00:00+00:00</td>\n",
              "      <td>1</td>\n",
              "      <td>2023-08-20 10:41:56.033000+00:00</td>\n",
              "      <td>2023-08-20 10:41:56.033000+00:00</td>\n",
              "      <td>None</td>\n",
              "    </tr>\n",
              "    <tr>\n",
              "      <th>9</th>\n",
              "      <td>substation:fornebu</td>\n",
              "      <td>1</td>\n",
              "      <td>4</td>\n",
              "      <td>2017-01-01 00:00:00+00:00</td>\n",
              "      <td>The substation for the solar farm</td>\n",
              "      <td>[]</td>\n",
              "      <td>True</td>\n",
              "      <td>True</td>\n",
              "      <td>[]</td>\n",
              "      <td>[]</td>\n",
              "      <td>Fornebu station</td>\n",
              "      <td>solarfarm:fornebu</td>\n",
              "      <td>AlbertCerebrum</td>\n",
              "      <td></td>\n",
              "      <td>2023-03-01 00:00:00+00:00</td>\n",
              "      <td>1</td>\n",
              "      <td>2023-08-20 10:41:56.033000+00:00</td>\n",
              "      <td>2023-08-20 10:41:56.033000+00:00</td>\n",
              "      <td>None</td>\n",
              "    </tr>\n",
              "    <tr>\n",
              "      <th>10</th>\n",
              "      <td>battery:winter</td>\n",
              "      <td>4</td>\n",
              "      <td>5</td>\n",
              "      <td>2020-01-01 00:00:00+00:00</td>\n",
              "      <td>The battery for the solar farm</td>\n",
              "      <td>[]</td>\n",
              "      <td>True</td>\n",
              "      <td>True</td>\n",
              "      <td>[inverter:saver]</td>\n",
              "      <td>[]</td>\n",
              "      <td>Saver</td>\n",
              "      <td>solarfarm:fornebu</td>\n",
              "      <td>AlbertCerebrum</td>\n",
              "      <td></td>\n",
              "      <td>2020-06-01 00:00:00+00:00</td>\n",
              "      <td>1</td>\n",
              "      <td>2023-08-20 10:41:56.033000+00:00</td>\n",
              "      <td>2023-08-20 10:41:56.033000+00:00</td>\n",
              "      <td>None</td>\n",
              "    </tr>\n",
              "  </tbody>\n",
              "</table>\n",
              "</div>"
            ],
            "text/plain": [
              "AssetList([Asset(external_id='solarfarm:fornebu', version=2, last_updated_time=datetime.datetime(2023, 8, 20, 10, 41, 56, 33000, tzinfo=datetime.timezone.utc), created_time=datetime.datetime(2023, 8, 20, 10, 41, 56, 33000, tzinfo=datetime.timezone.utc), deleted_time=None, area_id=1, category_id=1, created_date=datetime.datetime(2017, 1, 1, 0, 0, tzinfo=datetime.timezone.utc), description='The most sunny place in Norway', documents=[], is_active=True, is_critical_line=True, linked_assets=[], metrics=[], name='Fornebu', parent=None, source_db='AlbertCerebrum', tag='', updated_date=datetime.datetime(2023, 1, 1, 0, 0, tzinfo=datetime.timezone.utc)),\n",
              "           Asset(external_id='solarpanel:sunny', version=1, last_updated_time=datetime.datetime(2023, 8, 20, 10, 41, 56, 33000, tzinfo=datetime.timezone.utc), created_time=datetime.datetime(2023, 8, 20, 10, 41, 56, 33000, tzinfo=datetime.timezone.utc), deleted_time=None, area_id=2, category_id=2, created_date=datetime.datetime(2017, 1, 1, 0, 0, tzinfo=datetime.timezone.utc), description='The panel on the first building', documents=[], is_active=True, is_critical_line=False, linked_assets=['inverter:sunny'], metrics=[], name='Solar Panel Sunny', parent='solarfarm:fornebu', source_db='AlbertCerebrum', tag='', updated_date=datetime.datetime(2022, 1, 1, 0, 0, tzinfo=datetime.timezone.utc)),\n",
              "           Asset(external_id='solarpanel:cloudy', version=1, last_updated_time=datetime.datetime(2023, 8, 20, 10, 41, 56, 33000, tzinfo=datetime.timezone.utc), created_time=datetime.datetime(2023, 8, 20, 10, 41, 56, 33000, tzinfo=datetime.timezone.utc), deleted_time=None, area_id=3, category_id=2, created_date=datetime.datetime(2020, 1, 1, 0, 0, tzinfo=datetime.timezone.utc), description='The panel on the second building', documents=[], is_active=True, is_critical_line=True, linked_assets=['inverter:cloudy'], metrics=[], name='Solar Panel Cloudy', parent='solarfarm:fornebu', source_db='AlbertCerebrum', tag='', updated_date=datetime.datetime(2022, 1, 1, 0, 0, tzinfo=datetime.timezone.utc)),\n",
              "           Asset(external_id='transformer:sunny', version=1, last_updated_time=datetime.datetime(2023, 8, 20, 10, 41, 56, 33000, tzinfo=datetime.timezone.utc), created_time=datetime.datetime(2023, 8, 20, 10, 41, 56, 33000, tzinfo=datetime.timezone.utc), deleted_time=None, area_id=2, category_id=3, created_date=datetime.datetime(2017, 1, 1, 0, 0, tzinfo=datetime.timezone.utc), description='The transformer connected to sunny', documents=[], is_active=True, is_critical_line=False, linked_assets=['substation:fornebu'], metrics=[], name='Transformer Sunny', parent='solarfarm:fornebu', source_db='AlbertCerebrum', tag='', updated_date=datetime.datetime(2022, 1, 1, 0, 0, tzinfo=datetime.timezone.utc)),\n",
              "           Asset(external_id='transformer:cloudy', version=1, last_updated_time=datetime.datetime(2023, 8, 20, 10, 41, 56, 33000, tzinfo=datetime.timezone.utc), created_time=datetime.datetime(2023, 8, 20, 10, 41, 56, 33000, tzinfo=datetime.timezone.utc), deleted_time=None, area_id=3, category_id=3, created_date=datetime.datetime(2017, 1, 1, 0, 0, tzinfo=datetime.timezone.utc), description='The transformer connected to cloudy', documents=[], is_active=True, is_critical_line=False, linked_assets=['substation:fornebu'], metrics=[], name='Transformer Cloudy', parent='solarfarm:fornebu', source_db='AlbertCerebrum', tag='', updated_date=datetime.datetime(2021, 1, 1, 0, 0, tzinfo=datetime.timezone.utc)),\n",
              "           Asset(external_id='transformer:saver', version=1, last_updated_time=datetime.datetime(2023, 8, 20, 10, 41, 56, 33000, tzinfo=datetime.timezone.utc), created_time=datetime.datetime(2023, 8, 20, 10, 41, 56, 33000, tzinfo=datetime.timezone.utc), deleted_time=None, area_id=4, category_id=3, created_date=datetime.datetime(2022, 1, 1, 0, 0, tzinfo=datetime.timezone.utc), description='The transformer connected to battery', documents=[], is_active=True, is_critical_line=True, linked_assets=['substation:fornebu'], metrics=[], name='Transformer Saver', parent='solarfarm:fornebu', source_db='AlbertCerebrum', tag='', updated_date=datetime.datetime(2023, 3, 1, 0, 0, tzinfo=datetime.timezone.utc)),\n",
              "           Asset(external_id='inverter:sunny', version=1, last_updated_time=datetime.datetime(2023, 8, 20, 10, 41, 56, 33000, tzinfo=datetime.timezone.utc), created_time=datetime.datetime(2023, 8, 20, 10, 41, 56, 33000, tzinfo=datetime.timezone.utc), deleted_time=None, area_id=2, category_id=4, created_date=datetime.datetime(2017, 1, 1, 0, 0, tzinfo=datetime.timezone.utc), description='The inverter connected to sunny', documents=[], is_active=True, is_critical_line=False, linked_assets=['transformer:sunny'], metrics=[], name='Inverter Sunny', parent='solarfarm:fornebu', source_db='AlbertCerebrum', tag='', updated_date=datetime.datetime(2022, 1, 1, 0, 0, tzinfo=datetime.timezone.utc)),\n",
              "           Asset(external_id='inverter:cloudy', version=1, last_updated_time=datetime.datetime(2023, 8, 20, 10, 41, 56, 33000, tzinfo=datetime.timezone.utc), created_time=datetime.datetime(2023, 8, 20, 10, 41, 56, 33000, tzinfo=datetime.timezone.utc), deleted_time=None, area_id=3, category_id=4, created_date=datetime.datetime(2017, 1, 1, 0, 0, tzinfo=datetime.timezone.utc), description='The inverter connected to cloudy', documents=[], is_active=True, is_critical_line=False, linked_assets=['transformer:cloudy'], metrics=[], name='Inverter Cloudy', parent='solarfarm:fornebu', source_db='AlbertCerebrum', tag='', updated_date=datetime.datetime(2021, 1, 1, 0, 0, tzinfo=datetime.timezone.utc)),\n",
              "           Asset(external_id='inverter:saver', version=1, last_updated_time=datetime.datetime(2023, 8, 20, 10, 41, 56, 33000, tzinfo=datetime.timezone.utc), created_time=datetime.datetime(2023, 8, 20, 10, 41, 56, 33000, tzinfo=datetime.timezone.utc), deleted_time=None, area_id=4, category_id=4, created_date=datetime.datetime(2022, 1, 1, 0, 0, tzinfo=datetime.timezone.utc), description='The inverter connected to battery', documents=[], is_active=True, is_critical_line=True, linked_assets=['transformer:saver'], metrics=[], name='Inverter Saver', parent='solarfarm:fornebu', source_db='AlbertCerebrum', tag='', updated_date=datetime.datetime(2023, 3, 1, 0, 0, tzinfo=datetime.timezone.utc)),\n",
              "           Asset(external_id='substation:fornebu', version=1, last_updated_time=datetime.datetime(2023, 8, 20, 10, 41, 56, 33000, tzinfo=datetime.timezone.utc), created_time=datetime.datetime(2023, 8, 20, 10, 41, 56, 33000, tzinfo=datetime.timezone.utc), deleted_time=None, area_id=1, category_id=4, created_date=datetime.datetime(2017, 1, 1, 0, 0, tzinfo=datetime.timezone.utc), description='The substation for the solar farm', documents=[], is_active=True, is_critical_line=True, linked_assets=[], metrics=[], name='Fornebu station', parent='solarfarm:fornebu', source_db='AlbertCerebrum', tag='', updated_date=datetime.datetime(2023, 3, 1, 0, 0, tzinfo=datetime.timezone.utc)),\n",
              "           Asset(external_id='battery:winter', version=1, last_updated_time=datetime.datetime(2023, 8, 20, 10, 41, 56, 33000, tzinfo=datetime.timezone.utc), created_time=datetime.datetime(2023, 8, 20, 10, 41, 56, 33000, tzinfo=datetime.timezone.utc), deleted_time=None, area_id=4, category_id=5, created_date=datetime.datetime(2020, 1, 1, 0, 0, tzinfo=datetime.timezone.utc), description='The battery for the solar farm', documents=[], is_active=True, is_critical_line=True, linked_assets=['inverter:saver'], metrics=[], name='Saver', parent='solarfarm:fornebu', source_db='AlbertCerebrum', tag='', updated_date=datetime.datetime(2020, 6, 1, 0, 0, tzinfo=datetime.timezone.utc))])"
            ]
          },
          "execution_count": 12,
          "metadata": {},
          "output_type": "execute_result"
        }
      ],
      "execution_count": 12
    },
    {
      "cell_type": "code",
      "source": "farm.work_orders.retrieve(\"planned:1001\").dict()",
      "metadata": {},
      "outputs": [
        {
          "data": {
            "text/plain": [
              "{'external_id': 'planned:1001',\n",
              " 'version': 2,\n",
              " 'last_updated_time': datetime.datetime(2023, 8, 20, 10, 41, 56, 33000, tzinfo=datetime.timezone.utc),\n",
              " 'created_time': datetime.datetime(2023, 8, 20, 10, 41, 56, 33000, tzinfo=datetime.timezone.utc),\n",
              " 'deleted_time': None,\n",
              " 'actual_hours': 3,\n",
              " 'created_date': datetime.datetime(2023, 1, 1, 0, 0, tzinfo=datetime.timezone.utc),\n",
              " 'description': 'Inspect solar panels',\n",
              " 'due_date': datetime.datetime(2023, 1, 1, 0, 0, tzinfo=datetime.timezone.utc),\n",
              " 'duration_hours': 5,\n",
              " 'end_time': datetime.datetime(2023, 1, 2, 0, 0, tzinfo=datetime.timezone.utc),\n",
              " 'is_active': False,\n",
              " 'is_cancelled': False,\n",
              " 'is_completed': True,\n",
              " 'is_safety_critical': False,\n",
              " 'linked_assets': ['solarpanel:sunny', 'solarpanel:cloudy'],\n",
              " 'percentage_progress': 100,\n",
              " 'planned_start': datetime.datetime(2023, 1, 1, 0, 0, tzinfo=datetime.timezone.utc),\n",
              " 'priority_description': 'Medium Planned Priority',\n",
              " 'program_number': '1',\n",
              " 'start_time': datetime.datetime(2023, 1, 1, 0, 0, tzinfo=datetime.timezone.utc),\n",
              " 'status': 'Done',\n",
              " 'title': 'Planned Inspection',\n",
              " 'work_items': ['work:inspection:1001', 'work:cleaning:1001'],\n",
              " 'work_order_number': '1',\n",
              " 'work_package_number': '1'}"
            ]
          },
          "execution_count": 13,
          "metadata": {},
          "output_type": "execute_result"
        }
      ],
      "execution_count": 13
    },
    {
      "cell_type": "markdown",
      "source": "### Cleaning Up\nOnce you are finished with testing and want to remove the data model and data, you can use the `.clean()` method.",
      "metadata": {}
    },
    {
      "cell_type": "code",
      "source": "solar.clean(client, auto_confirm=True)",
      "metadata": {},
      "outputs": [
        {
          "name": "stdout",
          "output_type": "stream",
          "text": [
            "Deleted 4 TimeSeries\n",
            "\n",
            "Deleted 3 FileMetadata\n",
            "\n",
            "Deleted 17 nodes\n",
            "\n",
            "Deleted 0 edges\n",
            "\n",
            "Deleted 4 type nodes\n",
            "\n",
            "Deleted data model DataModelId(space='pygen', external_id='SolarFarmAPM', version='1')\n",
            "\n",
            "Deleted views [ViewId(space='pygen', external_id='WorkItem', version='e3b9053e1dd01e'), ViewId(space='pygen', external_id='WorkOrder', version='27f589c97cdb01'), ViewId(space='pygen', external_id='Asset', version='a974167b65241a')]\n",
            "\n",
            "Deleted containers [ContainerId(space='pygen', external_id='WorkOrder'), ContainerId(space='pygen', external_id='Asset'), ContainerId(space='pygen', external_id='WorkItem')]\n",
            "\n",
            "Deleted space pygen\n"
          ]
        }
      ],
      "execution_count": 14
    },
    {
      "cell_type": "code",
      "source": "",
      "metadata": {},
      "outputs": [],
      "execution_count": null
    }
  ]
}