{
 "metadata": {
  "kernelspec": {
   "display_name": "Python (Pyodide)",
   "language": "python",
   "name": "python"
  },
  "language_info": {
   "codemirror_mode": {
    "name": "python",
    "version": 3
   },
   "file_extension": ".py",
   "mimetype": "text/x-python",
   "name": "python",
   "nbconvert_exporter": "python",
   "pygments_lexer": "ipython3",
   "version": "3.8"
  }
 },
 "nbformat_minor": 4,
 "nbformat": 4,
 "cells": [
  {
   "cell_type": "markdown",
   "source": "# Exploration in CDF Notebook\n\n**Prerequisites**\n- Access to a CDF Project.\n- Some very basic Python understanding or feel up for a challenge. ",
   "metadata": {
    "editable": true,
    "slideshow": {
     "slide_type": ""
    },
    "tags": []
   }
  },
  {
   "cell_type": "markdown",
   "source": "## If you have ZERO Python knowledge and are up for a challenge\n\n* You can copy the cells below and past them into notebook.\n* You execute cells by pressing `shift+enter`\n* Auto complete with `tab`.\n* You can check available commands by first type a variable and press `shift+tab`. For example, after running the line `movie = pygen.generate_sdk_notebook(data_model_id, client)` you can in subsequent cells write `movie.` and press `shift+tab` to see that there are options such as `actor` and `movie` available .",
   "metadata": {
    "editable": true,
    "slideshow": {
     "slide_type": ""
    },
    "tags": []
   }
  },
  {
   "cell_type": "markdown",
   "source": "## Installing `pygen` in the notebook environment.",
   "metadata": {
    "editable": true,
    "slideshow": {
     "slide_type": ""
    },
    "tags": []
   }
  },
  {
   "cell_type": "code",
   "source": "%pip install cognite-pygen",
   "metadata": {
    "editable": true,
    "slideshow": {
     "slide_type": ""
    },
    "tags": [],
    "trusted": true
   },
   "execution_count": 1,
   "outputs": []
  },
  {
   "metadata": {},
   "cell_type": "markdown",
   "source": "In case you have issues with the installation, check out the [troubleshooting](../installation.html#pyodide-troubleshooting) in the installation guide."
  },
  {
   "cell_type": "markdown",
   "source": "## Generating SDK for Your Data Model\n",
   "metadata": {}
  },
  {
   "cell_type": "code",
   "source": "from cognite.client import CogniteClient\nfrom cognite import pygen",
   "metadata": {
    "trusted": true
   },
   "execution_count": 2,
   "outputs": []
  },
  {
   "cell_type": "code",
   "source": "# Show version, if you have an older you can run \n# the installation cell above with:\n# %pip install cognite-pygen==0.32.5\npygen.__version__",
   "metadata": {
    "trusted": true
   },
   "execution_count": 3,
   "outputs": []
  },
  {
   "cell_type": "code",
   "source": "client = CogniteClient()",
   "metadata": {
    "trusted": true
   },
   "execution_count": 4,
   "outputs": []
  },
  {
   "cell_type": "code",
   "source": "space = \"power-models\"\ndata_model_external_id = \"Windmill\"\ndata_model_version = \"1\"\ndata_model_id = (space, data_model_external_id, data_model_version)",
   "metadata": {
    "trusted": true
   },
   "execution_count": 5,
   "outputs": []
  },
  {
   "cell_type": "code",
   "source": "client = pygen.generate_sdk_notebook(data_model_id, client)",
   "metadata": {
    "trusted": true
   },
   "execution_count": 7,
   "outputs": []
  },
  {
   "cell_type": "markdown",
   "source": "### Using the Generated SDK",
   "metadata": {}
  },
  {
   "cell_type": "code",
   "source": "client.windmill.list(limit=5)",
   "metadata": {
    "trusted": true
   },
   "execution_count": 8,
   "outputs": []
  },
  {
   "cell_type": "code",
   "source": "client.sensor_position.list(limit=5)",
   "metadata": {
    "trusted": true
   },
   "execution_count": 9,
   "outputs": []
  },
  {
   "cell_type": "markdown",
   "source": "To see a more complete example of functionality for the generated client see the Usage section in the documentation.\n",
   "metadata": {}
  },
  {
   "cell_type": "markdown",
   "source": "## Generating SDK using Demo Data Model\nIn case you want to try out `pygen`, but do not have a data model with data available, `pygen` comes with a demo data model included in the package.",
   "metadata": {}
  },
  {
   "cell_type": "code",
   "source": "from cognite.client import CogniteClient\nfrom cognite.pygen import demo",
   "metadata": {},
   "execution_count": 9,
   "outputs": []
  },
  {
   "cell_type": "code",
   "source": "solar = demo.SolarFarmAPM()\nclient = CogniteClient()",
   "metadata": {},
   "execution_count": 10,
   "outputs": []
  },
  {
   "cell_type": "code",
   "source": "%%time\nfarm = solar.create(client)",
   "metadata": {},
   "execution_count": 11,
   "outputs": []
  },
  {
   "cell_type": "markdown",
   "source": "### Use Generated SDK\nWe can now inspect the data model using our newly generated SDK.",
   "metadata": {}
  },
  {
   "cell_type": "code",
   "source": "farm.assets.list()",
   "metadata": {},
   "execution_count": 12,
   "outputs": []
  },
  {
   "cell_type": "code",
   "source": "farm.work_orders.retrieve(\"planned:1001\").dict()",
   "metadata": {},
   "execution_count": 13,
   "outputs": []
  },
  {
   "cell_type": "markdown",
   "source": "### Cleaning Up\nOnce you are finished with testing and want to remove the data model and data, you can use the `.clean()` method.",
   "metadata": {}
  },
  {
   "cell_type": "code",
   "source": "solar.clean(client, auto_confirm=True)",
   "metadata": {},
   "execution_count": 14,
   "outputs": []
  },
  {
   "cell_type": "code",
   "source": "",
   "metadata": {},
   "execution_count": null,
   "outputs": []
  }
 ]
}
