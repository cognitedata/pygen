{
 "cells": [
  {
   "cell_type": "markdown",
   "metadata": {
    "editable": true,
    "slideshow": {
     "slide_type": ""
    },
    "tags": []
   },
   "source": "# Exploration in CDF Notebook\n\n**Prerequisites**\n- Access to a CDF Project.\n- Some very basic Python understanding or feel up for a challenge. "
  },
  {
   "cell_type": "markdown",
   "metadata": {
    "editable": true,
    "slideshow": {
     "slide_type": ""
    },
    "tags": []
   },
   "source": "## If you have ZERO Python knowledge and are up for a challenge\n\n* You can copy the cells below and past them into notebook.\n* You execute cells by pressing `shift+enter`\n* Auto complete with `tab`.\n* You can check available commands by first type a variable and press `shift+tab`. For example, after running the line `movie = pygen.generate_sdk_notebook(data_model_id, client)` you can in subsequent cells write `movie.` and press `shift+tab` to see that there are options such as `actor` and `movie` available ."
  },
  {
   "cell_type": "markdown",
   "metadata": {
    "editable": true,
    "slideshow": {
     "slide_type": ""
    },
    "tags": []
   },
   "source": "## Installing `pygen` in the notebook environment."
  },
  {
   "cell_type": "code",
   "execution_count": 1,
   "metadata": {
    "editable": true,
    "slideshow": {
     "slide_type": ""
    },
    "tags": [],
    "trusted": true
   },
   "outputs": [],
   "source": [
    "%pip install cognite-pygen"
   ]
  },
  {
   "cell_type": "markdown",
   "metadata": {},
   "source": "In case you have issues with the installation, check out the [troubleshooting](../installation.html#pyodide-troubleshooting) in the installation guide."
  },
  {
   "cell_type": "markdown",
   "metadata": {},
   "source": "## Generating SDK for Your Data Model\n"
  },
  {
   "cell_type": "code",
   "execution_count": 2,
   "metadata": {
    "trusted": true
   },
   "outputs": [],
   "source": [
    "from cognite.client import CogniteClient\n",
    "\n",
    "from cognite import pygen"
   ]
  },
  {
   "cell_type": "code",
   "execution_count": 3,
   "metadata": {
    "trusted": true
   },
   "outputs": [
    {
     "data": {
      "text/plain": "'0.32.5'"
     },
     "execution_count": 3,
     "metadata": {},
     "output_type": "execute_result"
    }
   ],
   "source": [
    "# Show version, if you have an older you can run\n",
    "# the installation cell above with:\n",
    "# %pip install cognite-pygen==0.32.5\n",
    "pygen.__version__"
   ]
  },
  {
   "cell_type": "code",
   "execution_count": 4,
   "metadata": {
    "trusted": true
   },
   "outputs": [],
   "source": [
    "client = CogniteClient()"
   ]
  },
  {
   "cell_type": "code",
   "execution_count": 5,
   "metadata": {
    "trusted": true
   },
   "outputs": [],
   "source": [
    "space = \"power-models\"\n",
    "data_model_external_id = \"Windmill\"\n",
    "data_model_version = \"1\"\n",
    "data_model_id = (space, data_model_external_id, data_model_version)"
   ]
  },
  {
   "cell_type": "code",
   "execution_count": 7,
   "metadata": {
    "trusted": true
   },
   "outputs": [
    {
     "name": "stdout",
     "output_type": "stream",
     "text": "Successfully retrieved data model(s) ('power-models', 'Windmill', '1')\nWriting SDK to /tmp/pygen\nDone!\n/tmp/pygen already in sys.path\nImported windmill.client\n"
    }
   ],
   "source": [
    "client = pygen.generate_sdk_notebook(data_model_id, client)"
   ]
  },
  {
   "cell_type": "markdown",
   "metadata": {},
   "source": "### Using the Generated SDK"
  },
  {
   "cell_type": "code",
   "execution_count": 8,
   "metadata": {
    "trusted": true
   },
   "outputs": [
    {
     "data": {
      "text/html": "<div>\n<style scoped>\n    .dataframe tbody tr th:only-of-type {\n        vertical-align: middle;\n    }\n\n    .dataframe tbody tr th {\n        vertical-align: top;\n    }\n\n    .dataframe thead th {\n        text-align: right;\n    }\n</style>\n<table border=\"1\" class=\"dataframe\">\n  <thead>\n    <tr style=\"text-align: right;\">\n      <th></th>\n      <th>external_id</th>\n      <th>name</th>\n      <th>windfarm</th>\n      <th>capacity</th>\n      <th>rotor</th>\n      <th>nacelle</th>\n      <th>blades</th>\n      <th>metmast</th>\n    </tr>\n  </thead>\n  <tbody>\n    <tr>\n      <th>0</th>\n      <td>hornsea_1_mill_3</td>\n      <td>hornsea_1_mill_3</td>\n      <td>Hornsea 1</td>\n      <td>7.0</td>\n      <td>rotor:1</td>\n      <td>nacelle:1</td>\n      <td>[blade:1, blade:2, blade:3]</td>\n      <td>None</td>\n    </tr>\n    <tr>\n      <th>1</th>\n      <td>hornsea_1_mill_2</td>\n      <td>hornsea_1_mill_2</td>\n      <td>Hornsea 1</td>\n      <td>7.0</td>\n      <td>rotor:2</td>\n      <td>nacelle:2</td>\n      <td>[blade:4, blade:5, blade:6]</td>\n      <td>None</td>\n    </tr>\n    <tr>\n      <th>2</th>\n      <td>hornsea_1_mill_1</td>\n      <td>hornsea_1_mill_1</td>\n      <td>Hornsea 1</td>\n      <td>7.0</td>\n      <td>rotor:3</td>\n      <td>nacelle:3</td>\n      <td>[blade:7, blade:8, blade:9]</td>\n      <td>None</td>\n    </tr>\n    <tr>\n      <th>3</th>\n      <td>hornsea_1_mill_4</td>\n      <td>hornsea_1_mill_4</td>\n      <td>Hornsea 1</td>\n      <td>7.0</td>\n      <td>rotor:4</td>\n      <td>nacelle:4</td>\n      <td>[blade:10, blade:11, blade:12]</td>\n      <td>None</td>\n    </tr>\n    <tr>\n      <th>4</th>\n      <td>hornsea_1_mill_5</td>\n      <td>hornsea_1_mill_5</td>\n      <td>Hornsea 1</td>\n      <td>7.0</td>\n      <td>rotor:5</td>\n      <td>nacelle:5</td>\n      <td>[blade:13, blade:14, blade:15]</td>\n      <td>None</td>\n    </tr>\n  </tbody>\n</table>\n</div>",
      "text/plain": "WindmillList([Windmill(space='windmill-instances', external_id='hornsea_1_mill_3', version=1, last_updated_time=datetime.datetime(2023, 12, 25, 7, 47, 50, 40000, tzinfo=datetime.timezone.utc), created_time=datetime.datetime(2023, 12, 25, 7, 47, 50, 40000, tzinfo=datetime.timezone.utc), deleted_time=None, name='hornsea_1_mill_3', windfarm='Hornsea 1', capacity=7.0),\n              Windmill(space='windmill-instances', external_id='hornsea_1_mill_2', version=1, last_updated_time=datetime.datetime(2023, 12, 25, 7, 47, 50, 40000, tzinfo=datetime.timezone.utc), created_time=datetime.datetime(2023, 12, 25, 7, 47, 50, 40000, tzinfo=datetime.timezone.utc), deleted_time=None, name='hornsea_1_mill_2', windfarm='Hornsea 1', capacity=7.0),\n              Windmill(space='windmill-instances', external_id='hornsea_1_mill_1', version=1, last_updated_time=datetime.datetime(2023, 12, 25, 7, 47, 50, 40000, tzinfo=datetime.timezone.utc), created_time=datetime.datetime(2023, 12, 25, 7, 47, 50, 40000, tzinfo=datetime.timezone.utc), deleted_time=None, name='hornsea_1_mill_1', windfarm='Hornsea 1', capacity=7.0),\n              Windmill(space='windmill-instances', external_id='hornsea_1_mill_4', version=1, last_updated_time=datetime.datetime(2023, 12, 25, 7, 47, 50, 40000, tzinfo=datetime.timezone.utc), created_time=datetime.datetime(2023, 12, 25, 7, 47, 50, 40000, tzinfo=datetime.timezone.utc), deleted_time=None, name='hornsea_1_mill_4', windfarm='Hornsea 1', capacity=7.0),\n              Windmill(space='windmill-instances', external_id='hornsea_1_mill_5', version=1, last_updated_time=datetime.datetime(2023, 12, 25, 7, 47, 50, 40000, tzinfo=datetime.timezone.utc), created_time=datetime.datetime(2023, 12, 25, 7, 47, 50, 40000, tzinfo=datetime.timezone.utc), deleted_time=None, name='hornsea_1_mill_5', windfarm='Hornsea 1', capacity=7.0)])"
     },
     "execution_count": 8,
     "metadata": {},
     "output_type": "execute_result"
    }
   ],
   "source": [
    "client.windmill.list(limit=5)"
   ]
  },
  {
   "cell_type": "code",
   "execution_count": 9,
   "metadata": {
    "trusted": true
   },
   "outputs": [
    {
     "data": {
      "text/html": "<div>\n<style scoped>\n    .dataframe tbody tr th:only-of-type {\n        vertical-align: middle;\n    }\n\n    .dataframe tbody tr th {\n        vertical-align: top;\n    }\n\n    .dataframe thead th {\n        text-align: right;\n    }\n</style>\n<table border=\"1\" class=\"dataframe\">\n  <thead>\n    <tr style=\"text-align: right;\">\n      <th></th>\n      <th>external_id</th>\n      <th>position</th>\n      <th>flapwise_bend_mom</th>\n      <th>flapwise_bend_mom_offset</th>\n      <th>flapwise_bend_mom_crosstalk_corrected</th>\n      <th>flapwise_bend_mom_offset_crosstalk_corrected</th>\n      <th>edgewisewise_bend_mom</th>\n      <th>edgewise_bend_mom_offset</th>\n      <th>edgewise_bend_mom_crosstalk_corrected</th>\n      <th>edgewise_bend_mom_offset_crosstalk_corrected</th>\n    </tr>\n  </thead>\n  <tbody>\n    <tr>\n      <th>0</th>\n      <td>sensorposition:1</td>\n      <td>19.6</td>\n      <td>V52-WindTurbine.MxA6</td>\n      <td>None</td>\n      <td>None</td>\n      <td>None</td>\n      <td>None</td>\n      <td>None</td>\n      <td>None</td>\n      <td>None</td>\n    </tr>\n    <tr>\n      <th>1</th>\n      <td>sensorposition:2</td>\n      <td>6.6</td>\n      <td>V52-WindTurbine.MxA3</td>\n      <td>V52-WindTurbine.MxA3_O</td>\n      <td>None</td>\n      <td>None</td>\n      <td>V52-WindTurbine.MyA3</td>\n      <td>V52-WindTurbine.MyA3_O</td>\n      <td>None</td>\n      <td>None</td>\n    </tr>\n    <tr>\n      <th>2</th>\n      <td>sensorposition:3</td>\n      <td>6.7</td>\n      <td>V52-WindTurbine.MxA4</td>\n      <td>V52-WindTurbine.MxA4_O</td>\n      <td>V52-WindTurbine.MxA4cr</td>\n      <td>V52-WindTurbine.MxA4_Ocr</td>\n      <td>V52-WindTurbine.MyA4</td>\n      <td>V52-WindTurbine.MyA4_O</td>\n      <td>V52-WindTurbine.MyA4cr</td>\n      <td>V52-WindTurbine.MyA4_Ocr</td>\n    </tr>\n    <tr>\n      <th>3</th>\n      <td>sensorposition:4</td>\n      <td>13.1</td>\n      <td>V52-WindTurbine.MxA5</td>\n      <td>None</td>\n      <td>None</td>\n      <td>None</td>\n      <td>None</td>\n      <td>None</td>\n      <td>None</td>\n      <td>None</td>\n    </tr>\n    <tr>\n      <th>4</th>\n      <td>sensorposition:5</td>\n      <td>1.4</td>\n      <td>V52-WindTurbine.MxA1</td>\n      <td>V52-WindTurbine.MxA1_O</td>\n      <td>V52-WindTurbine.MxA1cr</td>\n      <td>V52-WindTurbine.MxA1_Ocr</td>\n      <td>V52-WindTurbine.MyA1</td>\n      <td>V52-WindTurbine.MyA1_O</td>\n      <td>V52-WindTurbine.MyA1cr</td>\n      <td>V52-WindTurbine.MyA1_Ocr</td>\n    </tr>\n  </tbody>\n</table>\n</div>",
      "text/plain": "SensorPositionList([SensorPosition(space='windmill-instances', external_id='sensorposition:1', version=1, last_updated_time=datetime.datetime(2023, 12, 25, 7, 47, 50, 40000, tzinfo=datetime.timezone.utc), created_time=datetime.datetime(2023, 12, 25, 7, 47, 50, 40000, tzinfo=datetime.timezone.utc), deleted_time=None, position=19.6, flapwise_bend_mom='V52-WindTurbine.MxA6', flapwise_bend_mom_offset=None, flapwise_bend_mom_crosstalk_corrected=None, flapwise_bend_mom_offset_crosstalk_corrected=None, edgewisewise_bend_mom=None, edgewise_bend_mom_offset=None, edgewise_bend_mom_crosstalk_corrected=None, edgewise_bend_mom_offset_crosstalk_corrected=None),\n                    SensorPosition(space='windmill-instances', external_id='sensorposition:2', version=1, last_updated_time=datetime.datetime(2023, 12, 25, 7, 47, 50, 40000, tzinfo=datetime.timezone.utc), created_time=datetime.datetime(2023, 12, 25, 7, 47, 50, 40000, tzinfo=datetime.timezone.utc), deleted_time=None, position=6.6, flapwise_bend_mom='V52-WindTurbine.MxA3', flapwise_bend_mom_offset='V52-WindTurbine.MxA3_O', flapwise_bend_mom_crosstalk_corrected=None, flapwise_bend_mom_offset_crosstalk_corrected=None, edgewisewise_bend_mom='V52-WindTurbine.MyA3', edgewise_bend_mom_offset='V52-WindTurbine.MyA3_O', edgewise_bend_mom_crosstalk_corrected=None, edgewise_bend_mom_offset_crosstalk_corrected=None),\n                    SensorPosition(space='windmill-instances', external_id='sensorposition:3', version=1, last_updated_time=datetime.datetime(2023, 12, 25, 7, 47, 50, 40000, tzinfo=datetime.timezone.utc), created_time=datetime.datetime(2023, 12, 25, 7, 47, 50, 40000, tzinfo=datetime.timezone.utc), deleted_time=None, position=6.7, flapwise_bend_mom='V52-WindTurbine.MxA4', flapwise_bend_mom_offset='V52-WindTurbine.MxA4_O', flapwise_bend_mom_crosstalk_corrected='V52-WindTurbine.MxA4cr', flapwise_bend_mom_offset_crosstalk_corrected='V52-WindTurbine.MxA4_Ocr', edgewisewise_bend_mom='V52-WindTurbine.MyA4', edgewise_bend_mom_offset='V52-WindTurbine.MyA4_O', edgewise_bend_mom_crosstalk_corrected='V52-WindTurbine.MyA4cr', edgewise_bend_mom_offset_crosstalk_corrected='V52-WindTurbine.MyA4_Ocr'),\n                    SensorPosition(space='windmill-instances', external_id='sensorposition:4', version=1, last_updated_time=datetime.datetime(2023, 12, 25, 7, 47, 50, 40000, tzinfo=datetime.timezone.utc), created_time=datetime.datetime(2023, 12, 25, 7, 47, 50, 40000, tzinfo=datetime.timezone.utc), deleted_time=None, position=13.1, flapwise_bend_mom='V52-WindTurbine.MxA5', flapwise_bend_mom_offset=None, flapwise_bend_mom_crosstalk_corrected=None, flapwise_bend_mom_offset_crosstalk_corrected=None, edgewisewise_bend_mom=None, edgewise_bend_mom_offset=None, edgewise_bend_mom_crosstalk_corrected=None, edgewise_bend_mom_offset_crosstalk_corrected=None),\n                    SensorPosition(space='windmill-instances', external_id='sensorposition:5', version=1, last_updated_time=datetime.datetime(2023, 12, 25, 7, 47, 50, 40000, tzinfo=datetime.timezone.utc), created_time=datetime.datetime(2023, 12, 25, 7, 47, 50, 40000, tzinfo=datetime.timezone.utc), deleted_time=None, position=1.4, flapwise_bend_mom='V52-WindTurbine.MxA1', flapwise_bend_mom_offset='V52-WindTurbine.MxA1_O', flapwise_bend_mom_crosstalk_corrected='V52-WindTurbine.MxA1cr', flapwise_bend_mom_offset_crosstalk_corrected='V52-WindTurbine.MxA1_Ocr', edgewisewise_bend_mom='V52-WindTurbine.MyA1', edgewise_bend_mom_offset='V52-WindTurbine.MyA1_O', edgewise_bend_mom_crosstalk_corrected='V52-WindTurbine.MyA1cr', edgewise_bend_mom_offset_crosstalk_corrected='V52-WindTurbine.MyA1_Ocr')])"
     },
     "execution_count": 9,
     "metadata": {},
     "output_type": "execute_result"
    }
   ],
   "source": [
    "client.sensor_position.list(limit=5)"
   ]
  },
  {
   "cell_type": "markdown",
   "metadata": {},
   "source": "To see a more complete example of functionality for the generated client see the Usage section in the documentation.\n"
  },
  {
   "cell_type": "markdown",
   "metadata": {},
   "source": "## Generating SDK using Demo Data Model\nIn case you want to try out `pygen`, but do not have a data model with data available, `pygen` comes with a demo data model included in the package."
  },
  {
   "cell_type": "code",
   "execution_count": 9,
   "metadata": {},
   "outputs": [],
   "source": [
    "from cognite.client import CogniteClient\n",
    "\n",
    "from cognite.pygen import demo"
   ]
  },
  {
   "cell_type": "code",
   "execution_count": 10,
   "metadata": {},
   "outputs": [],
   "source": [
    "solar = demo.SolarFarmAPM()\n",
    "client = CogniteClient()"
   ]
  },
  {
   "cell_type": "code",
   "execution_count": 11,
   "metadata": {},
   "outputs": [
    {
     "name": "stdout",
     "output_type": "stream",
     "text": "Created space pygen\n\nDeployed data model DataModelId(space='pygen', external_id='SolarFarmAPM', version='1')\n\n✅  Data Model Ready!\n\nCreated 4 TimeSeries\n\nCreated 3 FileMetadata\n\nCreated 17 nodes\n\nCreated 21 edges\n\n✅  Population Complete!\n\nWriting SDK to /tmp/pygen\n\nDone!\n\n/tmp/pygen already in sys.path\n\nImported solar_farm_apm.client\n\n✅  SDK Generated!\n\nCPU times: user 0 ns, sys: 0 ns, total: 0 ns\n\nWall time: 5.32 s\n"
    }
   ],
   "source": [
    "%%time\n",
    "farm = solar.create(client)"
   ]
  },
  {
   "cell_type": "markdown",
   "metadata": {},
   "source": "### Use Generated SDK\nWe can now inspect the data model using our newly generated SDK."
  },
  {
   "cell_type": "code",
   "execution_count": 12,
   "metadata": {},
   "outputs": [
    {
     "data": {
      "text/html": [
       "<div>\n",
       "<style scoped>\n",
       "    .dataframe tbody tr th:only-of-type {\n",
       "        vertical-align: middle;\n",
       "    }\n",
       "\n",
       "    .dataframe tbody tr th {\n",
       "        vertical-align: top;\n",
       "    }\n",
       "\n",
       "    .dataframe thead th {\n",
       "        text-align: right;\n",
       "    }\n",
       "</style>\n",
       "<table border=\"1\" class=\"dataframe\">\n",
       "  <thead>\n",
       "    <tr style=\"text-align: right;\">\n",
       "      <th></th>\n",
       "      <th>external_id</th>\n",
       "      <th>area_id</th>\n",
       "      <th>category_id</th>\n",
       "      <th>created_date</th>\n",
       "      <th>description</th>\n",
       "      <th>documents</th>\n",
       "      <th>is_active</th>\n",
       "      <th>is_critical_line</th>\n",
       "      <th>linked_assets</th>\n",
       "      <th>metrics</th>\n",
       "      <th>name</th>\n",
       "      <th>parent</th>\n",
       "      <th>source_db</th>\n",
       "      <th>tag</th>\n",
       "      <th>updated_date</th>\n",
       "      <th>version</th>\n",
       "      <th>last_updated_time</th>\n",
       "      <th>created_time</th>\n",
       "      <th>deleted_time</th>\n",
       "    </tr>\n",
       "  </thead>\n",
       "  <tbody>\n",
       "    <tr>\n",
       "      <th>0</th>\n",
       "      <td>solarfarm:fornebu</td>\n",
       "      <td>1</td>\n",
       "      <td>1</td>\n",
       "      <td>2017-01-01 00:00:00+00:00</td>\n",
       "      <td>The most sunny place in Norway</td>\n",
       "      <td>[]</td>\n",
       "      <td>True</td>\n",
       "      <td>True</td>\n",
       "      <td>[]</td>\n",
       "      <td>[]</td>\n",
       "      <td>Fornebu</td>\n",
       "      <td>None</td>\n",
       "      <td>AlbertCerebrum</td>\n",
       "      <td></td>\n",
       "      <td>2023-01-01 00:00:00+00:00</td>\n",
       "      <td>2</td>\n",
       "      <td>2023-08-20 10:41:56.033000+00:00</td>\n",
       "      <td>2023-08-20 10:41:56.033000+00:00</td>\n",
       "      <td>None</td>\n",
       "    </tr>\n",
       "    <tr>\n",
       "      <th>1</th>\n",
       "      <td>solarpanel:sunny</td>\n",
       "      <td>2</td>\n",
       "      <td>2</td>\n",
       "      <td>2017-01-01 00:00:00+00:00</td>\n",
       "      <td>The panel on the first building</td>\n",
       "      <td>[]</td>\n",
       "      <td>True</td>\n",
       "      <td>False</td>\n",
       "      <td>[inverter:sunny]</td>\n",
       "      <td>[]</td>\n",
       "      <td>Solar Panel Sunny</td>\n",
       "      <td>solarfarm:fornebu</td>\n",
       "      <td>AlbertCerebrum</td>\n",
       "      <td></td>\n",
       "      <td>2022-01-01 00:00:00+00:00</td>\n",
       "      <td>1</td>\n",
       "      <td>2023-08-20 10:41:56.033000+00:00</td>\n",
       "      <td>2023-08-20 10:41:56.033000+00:00</td>\n",
       "      <td>None</td>\n",
       "    </tr>\n",
       "    <tr>\n",
       "      <th>2</th>\n",
       "      <td>solarpanel:cloudy</td>\n",
       "      <td>3</td>\n",
       "      <td>2</td>\n",
       "      <td>2020-01-01 00:00:00+00:00</td>\n",
       "      <td>The panel on the second building</td>\n",
       "      <td>[]</td>\n",
       "      <td>True</td>\n",
       "      <td>True</td>\n",
       "      <td>[inverter:cloudy]</td>\n",
       "      <td>[]</td>\n",
       "      <td>Solar Panel Cloudy</td>\n",
       "      <td>solarfarm:fornebu</td>\n",
       "      <td>AlbertCerebrum</td>\n",
       "      <td></td>\n",
       "      <td>2022-01-01 00:00:00+00:00</td>\n",
       "      <td>1</td>\n",
       "      <td>2023-08-20 10:41:56.033000+00:00</td>\n",
       "      <td>2023-08-20 10:41:56.033000+00:00</td>\n",
       "      <td>None</td>\n",
       "    </tr>\n",
       "    <tr>\n",
       "      <th>3</th>\n",
       "      <td>transformer:sunny</td>\n",
       "      <td>2</td>\n",
       "      <td>3</td>\n",
       "      <td>2017-01-01 00:00:00+00:00</td>\n",
       "      <td>The transformer connected to sunny</td>\n",
       "      <td>[]</td>\n",
       "      <td>True</td>\n",
       "      <td>False</td>\n",
       "      <td>[substation:fornebu]</td>\n",
       "      <td>[]</td>\n",
       "      <td>Transformer Sunny</td>\n",
       "      <td>solarfarm:fornebu</td>\n",
       "      <td>AlbertCerebrum</td>\n",
       "      <td></td>\n",
       "      <td>2022-01-01 00:00:00+00:00</td>\n",
       "      <td>1</td>\n",
       "      <td>2023-08-20 10:41:56.033000+00:00</td>\n",
       "      <td>2023-08-20 10:41:56.033000+00:00</td>\n",
       "      <td>None</td>\n",
       "    </tr>\n",
       "    <tr>\n",
       "      <th>4</th>\n",
       "      <td>transformer:cloudy</td>\n",
       "      <td>3</td>\n",
       "      <td>3</td>\n",
       "      <td>2017-01-01 00:00:00+00:00</td>\n",
       "      <td>The transformer connected to cloudy</td>\n",
       "      <td>[]</td>\n",
       "      <td>True</td>\n",
       "      <td>False</td>\n",
       "      <td>[substation:fornebu]</td>\n",
       "      <td>[]</td>\n",
       "      <td>Transformer Cloudy</td>\n",
       "      <td>solarfarm:fornebu</td>\n",
       "      <td>AlbertCerebrum</td>\n",
       "      <td></td>\n",
       "      <td>2021-01-01 00:00:00+00:00</td>\n",
       "      <td>1</td>\n",
       "      <td>2023-08-20 10:41:56.033000+00:00</td>\n",
       "      <td>2023-08-20 10:41:56.033000+00:00</td>\n",
       "      <td>None</td>\n",
       "    </tr>\n",
       "    <tr>\n",
       "      <th>5</th>\n",
       "      <td>transformer:saver</td>\n",
       "      <td>4</td>\n",
       "      <td>3</td>\n",
       "      <td>2022-01-01 00:00:00+00:00</td>\n",
       "      <td>The transformer connected to battery</td>\n",
       "      <td>[]</td>\n",
       "      <td>True</td>\n",
       "      <td>True</td>\n",
       "      <td>[substation:fornebu]</td>\n",
       "      <td>[]</td>\n",
       "      <td>Transformer Saver</td>\n",
       "      <td>solarfarm:fornebu</td>\n",
       "      <td>AlbertCerebrum</td>\n",
       "      <td></td>\n",
       "      <td>2023-03-01 00:00:00+00:00</td>\n",
       "      <td>1</td>\n",
       "      <td>2023-08-20 10:41:56.033000+00:00</td>\n",
       "      <td>2023-08-20 10:41:56.033000+00:00</td>\n",
       "      <td>None</td>\n",
       "    </tr>\n",
       "    <tr>\n",
       "      <th>6</th>\n",
       "      <td>inverter:sunny</td>\n",
       "      <td>2</td>\n",
       "      <td>4</td>\n",
       "      <td>2017-01-01 00:00:00+00:00</td>\n",
       "      <td>The inverter connected to sunny</td>\n",
       "      <td>[]</td>\n",
       "      <td>True</td>\n",
       "      <td>False</td>\n",
       "      <td>[transformer:sunny]</td>\n",
       "      <td>[]</td>\n",
       "      <td>Inverter Sunny</td>\n",
       "      <td>solarfarm:fornebu</td>\n",
       "      <td>AlbertCerebrum</td>\n",
       "      <td></td>\n",
       "      <td>2022-01-01 00:00:00+00:00</td>\n",
       "      <td>1</td>\n",
       "      <td>2023-08-20 10:41:56.033000+00:00</td>\n",
       "      <td>2023-08-20 10:41:56.033000+00:00</td>\n",
       "      <td>None</td>\n",
       "    </tr>\n",
       "    <tr>\n",
       "      <th>7</th>\n",
       "      <td>inverter:cloudy</td>\n",
       "      <td>3</td>\n",
       "      <td>4</td>\n",
       "      <td>2017-01-01 00:00:00+00:00</td>\n",
       "      <td>The inverter connected to cloudy</td>\n",
       "      <td>[]</td>\n",
       "      <td>True</td>\n",
       "      <td>False</td>\n",
       "      <td>[transformer:cloudy]</td>\n",
       "      <td>[]</td>\n",
       "      <td>Inverter Cloudy</td>\n",
       "      <td>solarfarm:fornebu</td>\n",
       "      <td>AlbertCerebrum</td>\n",
       "      <td></td>\n",
       "      <td>2021-01-01 00:00:00+00:00</td>\n",
       "      <td>1</td>\n",
       "      <td>2023-08-20 10:41:56.033000+00:00</td>\n",
       "      <td>2023-08-20 10:41:56.033000+00:00</td>\n",
       "      <td>None</td>\n",
       "    </tr>\n",
       "    <tr>\n",
       "      <th>8</th>\n",
       "      <td>inverter:saver</td>\n",
       "      <td>4</td>\n",
       "      <td>4</td>\n",
       "      <td>2022-01-01 00:00:00+00:00</td>\n",
       "      <td>The inverter connected to battery</td>\n",
       "      <td>[]</td>\n",
       "      <td>True</td>\n",
       "      <td>True</td>\n",
       "      <td>[transformer:saver]</td>\n",
       "      <td>[]</td>\n",
       "      <td>Inverter Saver</td>\n",
       "      <td>solarfarm:fornebu</td>\n",
       "      <td>AlbertCerebrum</td>\n",
       "      <td></td>\n",
       "      <td>2023-03-01 00:00:00+00:00</td>\n",
       "      <td>1</td>\n",
       "      <td>2023-08-20 10:41:56.033000+00:00</td>\n",
       "      <td>2023-08-20 10:41:56.033000+00:00</td>\n",
       "      <td>None</td>\n",
       "    </tr>\n",
       "    <tr>\n",
       "      <th>9</th>\n",
       "      <td>substation:fornebu</td>\n",
       "      <td>1</td>\n",
       "      <td>4</td>\n",
       "      <td>2017-01-01 00:00:00+00:00</td>\n",
       "      <td>The substation for the solar farm</td>\n",
       "      <td>[]</td>\n",
       "      <td>True</td>\n",
       "      <td>True</td>\n",
       "      <td>[]</td>\n",
       "      <td>[]</td>\n",
       "      <td>Fornebu station</td>\n",
       "      <td>solarfarm:fornebu</td>\n",
       "      <td>AlbertCerebrum</td>\n",
       "      <td></td>\n",
       "      <td>2023-03-01 00:00:00+00:00</td>\n",
       "      <td>1</td>\n",
       "      <td>2023-08-20 10:41:56.033000+00:00</td>\n",
       "      <td>2023-08-20 10:41:56.033000+00:00</td>\n",
       "      <td>None</td>\n",
       "    </tr>\n",
       "    <tr>\n",
       "      <th>10</th>\n",
       "      <td>battery:winter</td>\n",
       "      <td>4</td>\n",
       "      <td>5</td>\n",
       "      <td>2020-01-01 00:00:00+00:00</td>\n",
       "      <td>The battery for the solar farm</td>\n",
       "      <td>[]</td>\n",
       "      <td>True</td>\n",
       "      <td>True</td>\n",
       "      <td>[inverter:saver]</td>\n",
       "      <td>[]</td>\n",
       "      <td>Saver</td>\n",
       "      <td>solarfarm:fornebu</td>\n",
       "      <td>AlbertCerebrum</td>\n",
       "      <td></td>\n",
       "      <td>2020-06-01 00:00:00+00:00</td>\n",
       "      <td>1</td>\n",
       "      <td>2023-08-20 10:41:56.033000+00:00</td>\n",
       "      <td>2023-08-20 10:41:56.033000+00:00</td>\n",
       "      <td>None</td>\n",
       "    </tr>\n",
       "  </tbody>\n",
       "</table>\n",
       "</div>"
      ],
      "text/plain": [
       "AssetList([Asset(external_id='solarfarm:fornebu', version=2, last_updated_time=datetime.datetime(2023, 8, 20, 10, 41, 56, 33000, tzinfo=datetime.timezone.utc), created_time=datetime.datetime(2023, 8, 20, 10, 41, 56, 33000, tzinfo=datetime.timezone.utc), deleted_time=None, area_id=1, category_id=1, created_date=datetime.datetime(2017, 1, 1, 0, 0, tzinfo=datetime.timezone.utc), description='The most sunny place in Norway', documents=[], is_active=True, is_critical_line=True, linked_assets=[], metrics=[], name='Fornebu', parent=None, source_db='AlbertCerebrum', tag='', updated_date=datetime.datetime(2023, 1, 1, 0, 0, tzinfo=datetime.timezone.utc)),\n",
       "           Asset(external_id='solarpanel:sunny', version=1, last_updated_time=datetime.datetime(2023, 8, 20, 10, 41, 56, 33000, tzinfo=datetime.timezone.utc), created_time=datetime.datetime(2023, 8, 20, 10, 41, 56, 33000, tzinfo=datetime.timezone.utc), deleted_time=None, area_id=2, category_id=2, created_date=datetime.datetime(2017, 1, 1, 0, 0, tzinfo=datetime.timezone.utc), description='The panel on the first building', documents=[], is_active=True, is_critical_line=False, linked_assets=['inverter:sunny'], metrics=[], name='Solar Panel Sunny', parent='solarfarm:fornebu', source_db='AlbertCerebrum', tag='', updated_date=datetime.datetime(2022, 1, 1, 0, 0, tzinfo=datetime.timezone.utc)),\n",
       "           Asset(external_id='solarpanel:cloudy', version=1, last_updated_time=datetime.datetime(2023, 8, 20, 10, 41, 56, 33000, tzinfo=datetime.timezone.utc), created_time=datetime.datetime(2023, 8, 20, 10, 41, 56, 33000, tzinfo=datetime.timezone.utc), deleted_time=None, area_id=3, category_id=2, created_date=datetime.datetime(2020, 1, 1, 0, 0, tzinfo=datetime.timezone.utc), description='The panel on the second building', documents=[], is_active=True, is_critical_line=True, linked_assets=['inverter:cloudy'], metrics=[], name='Solar Panel Cloudy', parent='solarfarm:fornebu', source_db='AlbertCerebrum', tag='', updated_date=datetime.datetime(2022, 1, 1, 0, 0, tzinfo=datetime.timezone.utc)),\n",
       "           Asset(external_id='transformer:sunny', version=1, last_updated_time=datetime.datetime(2023, 8, 20, 10, 41, 56, 33000, tzinfo=datetime.timezone.utc), created_time=datetime.datetime(2023, 8, 20, 10, 41, 56, 33000, tzinfo=datetime.timezone.utc), deleted_time=None, area_id=2, category_id=3, created_date=datetime.datetime(2017, 1, 1, 0, 0, tzinfo=datetime.timezone.utc), description='The transformer connected to sunny', documents=[], is_active=True, is_critical_line=False, linked_assets=['substation:fornebu'], metrics=[], name='Transformer Sunny', parent='solarfarm:fornebu', source_db='AlbertCerebrum', tag='', updated_date=datetime.datetime(2022, 1, 1, 0, 0, tzinfo=datetime.timezone.utc)),\n",
       "           Asset(external_id='transformer:cloudy', version=1, last_updated_time=datetime.datetime(2023, 8, 20, 10, 41, 56, 33000, tzinfo=datetime.timezone.utc), created_time=datetime.datetime(2023, 8, 20, 10, 41, 56, 33000, tzinfo=datetime.timezone.utc), deleted_time=None, area_id=3, category_id=3, created_date=datetime.datetime(2017, 1, 1, 0, 0, tzinfo=datetime.timezone.utc), description='The transformer connected to cloudy', documents=[], is_active=True, is_critical_line=False, linked_assets=['substation:fornebu'], metrics=[], name='Transformer Cloudy', parent='solarfarm:fornebu', source_db='AlbertCerebrum', tag='', updated_date=datetime.datetime(2021, 1, 1, 0, 0, tzinfo=datetime.timezone.utc)),\n",
       "           Asset(external_id='transformer:saver', version=1, last_updated_time=datetime.datetime(2023, 8, 20, 10, 41, 56, 33000, tzinfo=datetime.timezone.utc), created_time=datetime.datetime(2023, 8, 20, 10, 41, 56, 33000, tzinfo=datetime.timezone.utc), deleted_time=None, area_id=4, category_id=3, created_date=datetime.datetime(2022, 1, 1, 0, 0, tzinfo=datetime.timezone.utc), description='The transformer connected to battery', documents=[], is_active=True, is_critical_line=True, linked_assets=['substation:fornebu'], metrics=[], name='Transformer Saver', parent='solarfarm:fornebu', source_db='AlbertCerebrum', tag='', updated_date=datetime.datetime(2023, 3, 1, 0, 0, tzinfo=datetime.timezone.utc)),\n",
       "           Asset(external_id='inverter:sunny', version=1, last_updated_time=datetime.datetime(2023, 8, 20, 10, 41, 56, 33000, tzinfo=datetime.timezone.utc), created_time=datetime.datetime(2023, 8, 20, 10, 41, 56, 33000, tzinfo=datetime.timezone.utc), deleted_time=None, area_id=2, category_id=4, created_date=datetime.datetime(2017, 1, 1, 0, 0, tzinfo=datetime.timezone.utc), description='The inverter connected to sunny', documents=[], is_active=True, is_critical_line=False, linked_assets=['transformer:sunny'], metrics=[], name='Inverter Sunny', parent='solarfarm:fornebu', source_db='AlbertCerebrum', tag='', updated_date=datetime.datetime(2022, 1, 1, 0, 0, tzinfo=datetime.timezone.utc)),\n",
       "           Asset(external_id='inverter:cloudy', version=1, last_updated_time=datetime.datetime(2023, 8, 20, 10, 41, 56, 33000, tzinfo=datetime.timezone.utc), created_time=datetime.datetime(2023, 8, 20, 10, 41, 56, 33000, tzinfo=datetime.timezone.utc), deleted_time=None, area_id=3, category_id=4, created_date=datetime.datetime(2017, 1, 1, 0, 0, tzinfo=datetime.timezone.utc), description='The inverter connected to cloudy', documents=[], is_active=True, is_critical_line=False, linked_assets=['transformer:cloudy'], metrics=[], name='Inverter Cloudy', parent='solarfarm:fornebu', source_db='AlbertCerebrum', tag='', updated_date=datetime.datetime(2021, 1, 1, 0, 0, tzinfo=datetime.timezone.utc)),\n",
       "           Asset(external_id='inverter:saver', version=1, last_updated_time=datetime.datetime(2023, 8, 20, 10, 41, 56, 33000, tzinfo=datetime.timezone.utc), created_time=datetime.datetime(2023, 8, 20, 10, 41, 56, 33000, tzinfo=datetime.timezone.utc), deleted_time=None, area_id=4, category_id=4, created_date=datetime.datetime(2022, 1, 1, 0, 0, tzinfo=datetime.timezone.utc), description='The inverter connected to battery', documents=[], is_active=True, is_critical_line=True, linked_assets=['transformer:saver'], metrics=[], name='Inverter Saver', parent='solarfarm:fornebu', source_db='AlbertCerebrum', tag='', updated_date=datetime.datetime(2023, 3, 1, 0, 0, tzinfo=datetime.timezone.utc)),\n",
       "           Asset(external_id='substation:fornebu', version=1, last_updated_time=datetime.datetime(2023, 8, 20, 10, 41, 56, 33000, tzinfo=datetime.timezone.utc), created_time=datetime.datetime(2023, 8, 20, 10, 41, 56, 33000, tzinfo=datetime.timezone.utc), deleted_time=None, area_id=1, category_id=4, created_date=datetime.datetime(2017, 1, 1, 0, 0, tzinfo=datetime.timezone.utc), description='The substation for the solar farm', documents=[], is_active=True, is_critical_line=True, linked_assets=[], metrics=[], name='Fornebu station', parent='solarfarm:fornebu', source_db='AlbertCerebrum', tag='', updated_date=datetime.datetime(2023, 3, 1, 0, 0, tzinfo=datetime.timezone.utc)),\n",
       "           Asset(external_id='battery:winter', version=1, last_updated_time=datetime.datetime(2023, 8, 20, 10, 41, 56, 33000, tzinfo=datetime.timezone.utc), created_time=datetime.datetime(2023, 8, 20, 10, 41, 56, 33000, tzinfo=datetime.timezone.utc), deleted_time=None, area_id=4, category_id=5, created_date=datetime.datetime(2020, 1, 1, 0, 0, tzinfo=datetime.timezone.utc), description='The battery for the solar farm', documents=[], is_active=True, is_critical_line=True, linked_assets=['inverter:saver'], metrics=[], name='Saver', parent='solarfarm:fornebu', source_db='AlbertCerebrum', tag='', updated_date=datetime.datetime(2020, 6, 1, 0, 0, tzinfo=datetime.timezone.utc))])"
      ]
     },
     "execution_count": 12,
     "metadata": {},
     "output_type": "execute_result"
    }
   ],
   "source": [
    "farm.assets.list()"
   ]
  },
  {
   "cell_type": "code",
   "execution_count": 13,
   "metadata": {},
   "outputs": [
    {
     "data": {
      "text/plain": [
       "{'external_id': 'planned:1001',\n",
       " 'version': 2,\n",
       " 'last_updated_time': datetime.datetime(2023, 8, 20, 10, 41, 56, 33000, tzinfo=datetime.timezone.utc),\n",
       " 'created_time': datetime.datetime(2023, 8, 20, 10, 41, 56, 33000, tzinfo=datetime.timezone.utc),\n",
       " 'deleted_time': None,\n",
       " 'actual_hours': 3,\n",
       " 'created_date': datetime.datetime(2023, 1, 1, 0, 0, tzinfo=datetime.timezone.utc),\n",
       " 'description': 'Inspect solar panels',\n",
       " 'due_date': datetime.datetime(2023, 1, 1, 0, 0, tzinfo=datetime.timezone.utc),\n",
       " 'duration_hours': 5,\n",
       " 'end_time': datetime.datetime(2023, 1, 2, 0, 0, tzinfo=datetime.timezone.utc),\n",
       " 'is_active': False,\n",
       " 'is_cancelled': False,\n",
       " 'is_completed': True,\n",
       " 'is_safety_critical': False,\n",
       " 'linked_assets': ['solarpanel:sunny', 'solarpanel:cloudy'],\n",
       " 'percentage_progress': 100,\n",
       " 'planned_start': datetime.datetime(2023, 1, 1, 0, 0, tzinfo=datetime.timezone.utc),\n",
       " 'priority_description': 'Medium Planned Priority',\n",
       " 'program_number': '1',\n",
       " 'start_time': datetime.datetime(2023, 1, 1, 0, 0, tzinfo=datetime.timezone.utc),\n",
       " 'status': 'Done',\n",
       " 'title': 'Planned Inspection',\n",
       " 'work_items': ['work:inspection:1001', 'work:cleaning:1001'],\n",
       " 'work_order_number': '1',\n",
       " 'work_package_number': '1'}"
      ]
     },
     "execution_count": 13,
     "metadata": {},
     "output_type": "execute_result"
    }
   ],
   "source": [
    "farm.work_orders.retrieve(\"planned:1001\").dict()"
   ]
  },
  {
   "cell_type": "markdown",
   "metadata": {},
   "source": "### Cleaning Up\nOnce you are finished with testing and want to remove the data model and data, you can use the `.clean()` method."
  },
  {
   "cell_type": "code",
   "execution_count": 14,
   "metadata": {},
   "outputs": [
    {
     "name": "stdout",
     "output_type": "stream",
     "text": "Deleted 4 TimeSeries\n\nDeleted 3 FileMetadata\n\nDeleted 17 nodes\n\nDeleted 0 edges\n\nDeleted 4 type nodes\n\nDeleted data model DataModelId(space='pygen', external_id='SolarFarmAPM', version='1')\n\nDeleted views [ViewId(space='pygen', external_id='WorkItem', version='e3b9053e1dd01e'), ViewId(space='pygen', external_id='WorkOrder', version='27f589c97cdb01'), ViewId(space='pygen', external_id='Asset', version='a974167b65241a')]\n\nDeleted containers [ContainerId(space='pygen', external_id='WorkOrder'), ContainerId(space='pygen', external_id='Asset'), ContainerId(space='pygen', external_id='WorkItem')]\n\nDeleted space pygen\n"
    }
   ],
   "source": [
    "solar.clean(client, auto_confirm=True)"
   ]
  },
  {
   "cell_type": "code",
   "execution_count": null,
   "metadata": {},
   "outputs": [],
   "source": []
  }
 ],
 "metadata": {
  "kernelspec": {
   "display_name": "Python (Pyodide)",
   "language": "python",
   "name": "python"
  },
  "language_info": {
   "codemirror_mode": {
    "name": "python",
    "version": 3
   },
   "file_extension": ".py",
   "mimetype": "text/x-python",
   "name": "python",
   "nbconvert_exporter": "python",
   "pygments_lexer": "ipython3",
   "version": "3.8"
  }
 },
 "nbformat": 4,
 "nbformat_minor": 4
}
