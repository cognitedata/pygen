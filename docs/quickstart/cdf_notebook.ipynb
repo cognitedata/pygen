{
 "metadata": {
  "language_info": {
   "codemirror_mode": {
    "name": "python",
    "version": 3
   },
   "file_extension": ".py",
   "mimetype": "text/x-python",
   "name": "python",
   "nbconvert_exporter": "python",
   "pygments_lexer": "ipython3",
   "version": "3.8"
  },
  "kernelspec": {
   "name": "python",
   "display_name": "Python (Pyodide)",
   "language": "python"
  }
 },
 "nbformat_minor": 4,
 "nbformat": 4,
 "cells": [
  {
   "cell_type": "markdown",
   "source": [
    "# DSHubLite\n",
    "- DSHubLite is a Jupyter notebook environment running entirely in your web browser.\n",
    "- Authentication is taken care of for you, so go ahead and run the cells below to get started!\n",
    "- Note that all files are stored locally in your browser, including the generated SDK."
   ],
   "metadata": {}
  },
  {
   "cell_type": "markdown",
   "source": [
    "## Installing `pygen` in the notebook environment."
   ],
   "metadata": {}
  },
  {
   "cell_type": "code",
   "source": [
    "%pip install cognite-pygen"
   ],
   "metadata": {
    "trusted": true
   },
   "execution_count": 5,
   "outputs": []
  },
  {
   "cell_type": "markdown",
   "source": [
    "## Generating SDK for Movie Model"
   ],
   "metadata": {}
  },
  {
   "cell_type": "code",
   "source": [
    "from cognite.client import CogniteClient\n",
    "from cognite.pygen import generate_sdk_notebook, _version"
   ],
   "metadata": {
    "trusted": true
   },
   "execution_count": 12,
   "outputs": []
  },
  {
   "cell_type": "code",
   "source": [
    "# Show \n",
    "_version.__version__"
   ],
   "metadata": {
    "trusted": true
   },
   "execution_count": 22,
   "outputs": [
    {
     "execution_count": 22,
     "output_type": "execute_result",
     "data": {
      "text/plain": "'0.16.0'"
     },
     "metadata": {}
    }
   ]
  },
  {
   "cell_type": "code",
   "source": [
    "space = \"IntegrationTestsImmutable\"\n",
    "data_model_external_id = \"Movie\"\n",
    "data_model_version = \"2\"\n",
    "data_model_id = (space, data_model_external_id, data_model_version)\n",
    "client = CogniteClient()"
   ],
   "metadata": {
    "trusted": true
   },
   "execution_count": 14,
   "outputs": []
  },
  {
   "cell_type": "code",
   "source": [
    "movie = generate_sdk_notebook(client, data_model_id)"
   ],
   "metadata": {
    "trusted": true
   },
   "execution_count": 16,
   "outputs": [
    {
     "name": "stdout",
     "text": "Successfully retrieved data model(s) ('IntegrationTestsImmutable', 'Movie', '2')\nWriting SDK to /tmp/pygen\nDone!\nAdded /tmp/pygen to sys.path to enable import\nImported movie.client\n",
     "output_type": "stream"
    }
   ]
  },
  {
   "cell_type": "markdown",
   "source": [
    "## Using the Generated SDK"
   ],
   "metadata": {}
  },
  {
   "cell_type": "code",
   "source": [
    "movie.actors.list(limit=5)"
   ],
   "metadata": {
    "trusted": true
   },
   "execution_count": 18,
   "outputs": [
    {
     "execution_count": 18,
     "output_type": "execute_result",
     "data": {
      "text/plain": "ActorList([Actor(external_id='director:ethan_coen', version=1, last_updated_time=datetime.datetime(2023, 5, 15, 17, 11, 36, 668000, tzinfo=datetime.timezone.utc), created_time=datetime.datetime(2023, 5, 15, 17, 11, 36, 668000, tzinfo=datetime.timezone.utc), deleted_time=None, movies=['movie:fargo'], nomination=[], person='person:ethan_coen', won_oscar=True),\n           Actor(external_id='director:ridley_scott', version=1, last_updated_time=datetime.datetime(2023, 5, 15, 17, 11, 36, 668000, tzinfo=datetime.timezone.utc), created_time=datetime.datetime(2023, 5, 15, 17, 11, 36, 668000, tzinfo=datetime.timezone.utc), deleted_time=None, movies=['movie:gladiator'], nomination=['director:ridley_scott:gladiator'], person='person:ridley_scott', won_oscar=False),\n           Actor(external_id='director:sidney_lumet', version=1, last_updated_time=datetime.datetime(2023, 5, 15, 17, 11, 36, 668000, tzinfo=datetime.timezone.utc), created_time=datetime.datetime(2023, 5, 15, 17, 11, 36, 668000, tzinfo=datetime.timezone.utc), deleted_time=None, movies=['movie:12_angry_men'], nomination=['director:sidney_lumet:12_angry_men'], person='person:sidney_lumet', won_oscar=True),\n           Actor(external_id='director:quentin_tarantino', version=1, last_updated_time=datetime.datetime(2023, 5, 15, 17, 11, 36, 668000, tzinfo=datetime.timezone.utc), created_time=datetime.datetime(2023, 5, 15, 17, 11, 36, 668000, tzinfo=datetime.timezone.utc), deleted_time=None, movies=['movie:inglourious_basterds', 'movie:django_unchained', 'movie:pulp_fiction', 'movie:reservoir_dogs'], nomination=['director:quentin_tarantino:pulp_fiction', 'director:quentin_tarantino:inglourious_basterds'], person='person:quentin_tarantino', won_oscar=True),\n           Actor(external_id='director:christoph_waltz', version=1, last_updated_time=datetime.datetime(2023, 5, 15, 17, 11, 36, 668000, tzinfo=datetime.timezone.utc), created_time=datetime.datetime(2023, 5, 15, 17, 11, 36, 668000, tzinfo=datetime.timezone.utc), deleted_time=None, movies=[], nomination=[], person='person:christoph_waltz', won_oscar=True)])",
      "text/html": "<div>\n<style scoped>\n    .dataframe tbody tr th:only-of-type {\n        vertical-align: middle;\n    }\n\n    .dataframe tbody tr th {\n        vertical-align: top;\n    }\n\n    .dataframe thead th {\n        text-align: right;\n    }\n</style>\n<table border=\"1\" class=\"dataframe\">\n  <thead>\n    <tr style=\"text-align: right;\">\n      <th></th>\n      <th>external_id</th>\n      <th>version</th>\n      <th>last_updated_time</th>\n      <th>created_time</th>\n      <th>deleted_time</th>\n      <th>movies</th>\n      <th>nomination</th>\n      <th>person</th>\n      <th>won_oscar</th>\n    </tr>\n  </thead>\n  <tbody>\n    <tr>\n      <th>0</th>\n      <td>director:ethan_coen</td>\n      <td>1</td>\n      <td>2023-05-15 17:11:36.668000+00:00</td>\n      <td>2023-05-15 17:11:36.668000+00:00</td>\n      <td>None</td>\n      <td>[movie:fargo]</td>\n      <td>[]</td>\n      <td>person:ethan_coen</td>\n      <td>True</td>\n    </tr>\n    <tr>\n      <th>1</th>\n      <td>director:ridley_scott</td>\n      <td>1</td>\n      <td>2023-05-15 17:11:36.668000+00:00</td>\n      <td>2023-05-15 17:11:36.668000+00:00</td>\n      <td>None</td>\n      <td>[movie:gladiator]</td>\n      <td>[director:ridley_scott:gladiator]</td>\n      <td>person:ridley_scott</td>\n      <td>False</td>\n    </tr>\n    <tr>\n      <th>2</th>\n      <td>director:sidney_lumet</td>\n      <td>1</td>\n      <td>2023-05-15 17:11:36.668000+00:00</td>\n      <td>2023-05-15 17:11:36.668000+00:00</td>\n      <td>None</td>\n      <td>[movie:12_angry_men]</td>\n      <td>[director:sidney_lumet:12_angry_men]</td>\n      <td>person:sidney_lumet</td>\n      <td>True</td>\n    </tr>\n    <tr>\n      <th>3</th>\n      <td>director:quentin_tarantino</td>\n      <td>1</td>\n      <td>2023-05-15 17:11:36.668000+00:00</td>\n      <td>2023-05-15 17:11:36.668000+00:00</td>\n      <td>None</td>\n      <td>[movie:inglourious_basterds, movie:django_unch...</td>\n      <td>[director:quentin_tarantino:pulp_fiction, dire...</td>\n      <td>person:quentin_tarantino</td>\n      <td>True</td>\n    </tr>\n    <tr>\n      <th>4</th>\n      <td>director:christoph_waltz</td>\n      <td>1</td>\n      <td>2023-05-15 17:11:36.668000+00:00</td>\n      <td>2023-05-15 17:11:36.668000+00:00</td>\n      <td>None</td>\n      <td>[]</td>\n      <td>[]</td>\n      <td>person:christoph_waltz</td>\n      <td>True</td>\n    </tr>\n  </tbody>\n</table>\n</div>"
     },
     "metadata": {}
    }
   ]
  },
  {
   "cell_type": "code",
   "source": [
    "movie.movies.list(limit=5)"
   ],
   "metadata": {
    "trusted": true
   },
   "execution_count": 20,
   "outputs": [
    {
     "execution_count": 20,
     "output_type": "execute_result",
     "data": {
      "text/plain": "MovieList([Movie(external_id='movie:reservoir_dogs', version=1, last_updated_time=datetime.datetime(2023, 5, 15, 17, 3, 6, 715000, tzinfo=datetime.timezone.utc), created_time=datetime.datetime(2023, 5, 15, 17, 3, 6, 715000, tzinfo=datetime.timezone.utc), deleted_time=None, actors=['actor:quentin_tarantino', 'actor:harvey_keitel'], directors=['director:quentin_tarantino'], meta=None, rating='rating:reservoir_dogs', release_year=1992, run_time_minutes=99.0, title='Reservoir Dogs'),\n           Movie(external_id='movie:pulp_fiction', version=1, last_updated_time=datetime.datetime(2023, 5, 15, 17, 3, 6, 715000, tzinfo=datetime.timezone.utc), created_time=datetime.datetime(2023, 5, 15, 17, 3, 6, 715000, tzinfo=datetime.timezone.utc), deleted_time=None, actors=['actor:harvey_keitel', 'actor:quentin_tarantino', 'actor:samuel_l._jackson', 'actor:john_travolta'], directors=['director:quentin_tarantino'], meta=None, rating='rating:pulp_fiction', release_year=1994, run_time_minutes=154.0, title='Pulp Fiction'),\n           Movie(external_id='movie:fargo', version=1, last_updated_time=datetime.datetime(2023, 5, 15, 17, 3, 6, 715000, tzinfo=datetime.timezone.utc), created_time=datetime.datetime(2023, 5, 15, 17, 3, 6, 715000, tzinfo=datetime.timezone.utc), deleted_time=None, actors=['actor:frances_mcdormand'], directors=['director:ethan_coen', 'director:joel_coen'], meta=None, rating='rating:fargo', release_year=1996, run_time_minutes=98.0, title='Fargo'),\n           Movie(external_id='movie:django_unchained', version=1, last_updated_time=datetime.datetime(2023, 5, 15, 17, 3, 6, 715000, tzinfo=datetime.timezone.utc), created_time=datetime.datetime(2023, 5, 15, 17, 3, 6, 715000, tzinfo=datetime.timezone.utc), deleted_time=None, actors=['actor:samuel_l._jackson', 'actor:christoph_waltz', 'actor:quentin_tarantino', 'actor:jamie_foxx'], directors=['director:quentin_tarantino'], meta=None, rating='rating:django_unchained', release_year=2012, run_time_minutes=165.0, title='Django Unchained'),\n           Movie(external_id='movie:inglourious_basterds', version=1, last_updated_time=datetime.datetime(2023, 5, 15, 17, 3, 6, 715000, tzinfo=datetime.timezone.utc), created_time=datetime.datetime(2023, 5, 15, 17, 3, 6, 715000, tzinfo=datetime.timezone.utc), deleted_time=None, actors=['actor:quentin_tarantino', 'actor:christoph_waltz'], directors=['director:quentin_tarantino'], meta=None, rating='rating:inglourious_basterds', release_year=2009, run_time_minutes=153.0, title='Inglourious Basterds')])",
      "text/html": "<div>\n<style scoped>\n    .dataframe tbody tr th:only-of-type {\n        vertical-align: middle;\n    }\n\n    .dataframe tbody tr th {\n        vertical-align: top;\n    }\n\n    .dataframe thead th {\n        text-align: right;\n    }\n</style>\n<table border=\"1\" class=\"dataframe\">\n  <thead>\n    <tr style=\"text-align: right;\">\n      <th></th>\n      <th>external_id</th>\n      <th>version</th>\n      <th>last_updated_time</th>\n      <th>created_time</th>\n      <th>deleted_time</th>\n      <th>actors</th>\n      <th>directors</th>\n      <th>meta</th>\n      <th>rating</th>\n      <th>release_year</th>\n      <th>run_time_minutes</th>\n      <th>title</th>\n    </tr>\n  </thead>\n  <tbody>\n    <tr>\n      <th>0</th>\n      <td>movie:reservoir_dogs</td>\n      <td>1</td>\n      <td>2023-05-15 17:03:06.715000+00:00</td>\n      <td>2023-05-15 17:03:06.715000+00:00</td>\n      <td>None</td>\n      <td>[actor:quentin_tarantino, actor:harvey_keitel]</td>\n      <td>[director:quentin_tarantino]</td>\n      <td>None</td>\n      <td>rating:reservoir_dogs</td>\n      <td>1992</td>\n      <td>99.0</td>\n      <td>Reservoir Dogs</td>\n    </tr>\n    <tr>\n      <th>1</th>\n      <td>movie:pulp_fiction</td>\n      <td>1</td>\n      <td>2023-05-15 17:03:06.715000+00:00</td>\n      <td>2023-05-15 17:03:06.715000+00:00</td>\n      <td>None</td>\n      <td>[actor:harvey_keitel, actor:quentin_tarantino,...</td>\n      <td>[director:quentin_tarantino]</td>\n      <td>None</td>\n      <td>rating:pulp_fiction</td>\n      <td>1994</td>\n      <td>154.0</td>\n      <td>Pulp Fiction</td>\n    </tr>\n    <tr>\n      <th>2</th>\n      <td>movie:fargo</td>\n      <td>1</td>\n      <td>2023-05-15 17:03:06.715000+00:00</td>\n      <td>2023-05-15 17:03:06.715000+00:00</td>\n      <td>None</td>\n      <td>[actor:frances_mcdormand]</td>\n      <td>[director:ethan_coen, director:joel_coen]</td>\n      <td>None</td>\n      <td>rating:fargo</td>\n      <td>1996</td>\n      <td>98.0</td>\n      <td>Fargo</td>\n    </tr>\n    <tr>\n      <th>3</th>\n      <td>movie:django_unchained</td>\n      <td>1</td>\n      <td>2023-05-15 17:03:06.715000+00:00</td>\n      <td>2023-05-15 17:03:06.715000+00:00</td>\n      <td>None</td>\n      <td>[actor:samuel_l._jackson, actor:christoph_walt...</td>\n      <td>[director:quentin_tarantino]</td>\n      <td>None</td>\n      <td>rating:django_unchained</td>\n      <td>2012</td>\n      <td>165.0</td>\n      <td>Django Unchained</td>\n    </tr>\n    <tr>\n      <th>4</th>\n      <td>movie:inglourious_basterds</td>\n      <td>1</td>\n      <td>2023-05-15 17:03:06.715000+00:00</td>\n      <td>2023-05-15 17:03:06.715000+00:00</td>\n      <td>None</td>\n      <td>[actor:quentin_tarantino, actor:christoph_waltz]</td>\n      <td>[director:quentin_tarantino]</td>\n      <td>None</td>\n      <td>rating:inglourious_basterds</td>\n      <td>2009</td>\n      <td>153.0</td>\n      <td>Inglourious Basterds</td>\n    </tr>\n  </tbody>\n</table>\n</div>"
     },
     "metadata": {}
    }
   ]
  },
  {
   "cell_type": "markdown",
   "source": [
    "To see a more complete example of functionality for the generated client see the Examples section in the documentation.\n"
   ],
   "metadata": {
    "collapsed": false
   }
  },
  {
   "cell_type": "code",
   "execution_count": null,
   "outputs": [],
   "source": [],
   "metadata": {
    "collapsed": false
   }
  }
 ]
}
