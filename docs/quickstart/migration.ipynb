{
 "cells": [
  {
   "cell_type": "markdown",
   "metadata": {
    "editable": true,
    "slideshow": {
     "slide_type": ""
    },
    "tags": []
   },
   "source": [
    "# Data Migration\n",
    "**Prerequisites**\n",
    "- Access to a CDF Project.\n",
    "- Know how to use a terminal, so you can run `pygen` from the command line to \n",
    "  generate the SDK.\n",
    "- Knowledge of your the data and data models."
   ]
  },
  {
   "cell_type": "code",
   "execution_count": 1,
   "metadata": {
    "editable": true,
    "slideshow": {
     "slide_type": ""
    },
    "tags": [
     "hide"
    ]
   },
   "outputs": [],
   "source": [
    "import warnings\n",
    "warnings.filterwarnings('ignore')\n",
    "# This is just to enable improting the generated SDK from the examples folder in the pygen repository\n",
    "import sys\n",
    "from tests.constants import REPO_ROOT\n",
    "sys.path.append(str(REPO_ROOT / \"examples\" ))"
   ]
  },
  {
   "cell_type": "markdown",
   "metadata": {
    "editable": true,
    "jp-MarkdownHeadingCollapsed": true,
    "slideshow": {
     "slide_type": ""
    },
    "tags": []
   },
   "source": [
    "## Introduction to Problem"
   ]
  },
  {
   "attachments": {},
   "cell_type": "markdown",
   "metadata": {
    "editable": true,
    "slideshow": {
     "slide_type": ""
    },
    "tags": []
   },
   "source": [
    "In the development of a solution, it is common that you move from one data model to another. Typically, the physicaly storage of data, the containers, stays the same, or are extended, \n",
    "and only the views of a data model change. In this case, there is no need for a data migration and all you do is update the solution code for the new model. \n",
    "\n",
    "If you, however, need to change how the data is stored in the containers, you need to move the data from one model to the other. A common to do this is to use CDF Transformations. An alternative\n",
    "ways is to use `pygen` for data migration.\n",
    "\n",
    "#### Advantage of CDF Transformations\n",
    "* Can handle large volume of data, millions of instances.\n",
    "* You can write the transformations in the UI using SQL.\n",
    "\n",
    "\n",
    "#### Advantages of using `pygen` \n",
    "* Edges are automatically created.\n",
    "* Can handle medium volume of data, hundreds of thousands of instances.\n",
    "* Support doing very custom migration (what ever you can do in Python code).\n",
    "\n",
    "**Why** would you **chose `pygen`** over **CDF Transformations**? If you are more comfortable with `Python` than writing `SQL`, you have data models with a of one-to-many edges, the number of nodes and edges (instances) is in the order of hundreds of thousands.\n",
    "\n",
    "\n"
   ]
  },
  {
   "attachments": {},
   "cell_type": "markdown",
   "metadata": {
    "editable": true,
    "jp-MarkdownHeadingCollapsed": true,
    "slideshow": {
     "slide_type": ""
    },
    "tags": []
   },
   "source": [
    "## Use Case"
   ]
  },
  {
   "cell_type": "markdown",
   "metadata": {},
   "source": [
    "The use case we use in this guide is moving from one Asset Performance Model to another. \n",
    "\n",
    "We wil refer to the model we are moving away from as the **source** model and\n",
    "the model we are moving to as the **destination** model.\n",
    "\n",
    "**Source** Model\n",
    "\n",
    "\n",
    "<img src=\"images/source_model.png\" width=\"400\">"
   ]
  },
  {
   "attachments": {},
   "cell_type": "markdown",
   "metadata": {},
   "source": [
    "**Destination Model**:\n",
    "\n",
    "\n",
    "<img src=\"images/destination_model.png\" width=\"400\">"
   ]
  },
  {
   "cell_type": "markdown",
   "metadata": {},
   "source": [
    "As we see in the illustratoins above (click to enlarge), we have many more edges in the destination than the source model, \n",
    "whiche means this is a good use case for using `pygen` for the data migration."
   ]
  },
  {
   "cell_type": "markdown",
   "metadata": {},
   "source": [
    "In this guide, we will not do the entire migration, but instead focus on the `APM_Template` to `Template` migration."
   ]
  },
  {
   "cell_type": "markdown",
   "metadata": {},
   "source": [
    "## Generating SDKs"
   ]
  },
  {
   "cell_type": "markdown",
   "metadata": {},
   "source": [
    "For demo purposes we will generate the SDKs in this notebook, however, depending on your use case it might be useful to use the `pygen` CLI to generate the SDKs.\n",
    "\n",
    "Migration scrips are often a one of, meaning you are not expected to regenerat the SDK as the model changes, thus if you generate it locally, you can do changes\n",
    "to the generated code as you are not expecting this to change later. \n",
    "\n",
    "Note that we have set up a `config.toml` with credentials to connect to CDF"
   ]
  },
  {
   "cell_type": "code",
   "execution_count": 1,
   "metadata": {},
   "outputs": [],
   "source": [
    "from cognite.pygen import load_cognite_client_from_toml, generate_sdk_notebook"
   ]
  },
  {
   "cell_type": "code",
   "execution_count": 2,
   "metadata": {},
   "outputs": [],
   "source": [
    "client = load_cognite_client_from_toml()"
   ]
  },
  {
   "cell_type": "code",
   "execution_count": 3,
   "metadata": {},
   "outputs": [
    {
     "name": "stdout",
     "output_type": "stream",
     "text": [
      "Successfully retrieved data model(s) ('APM_AppData_4', 'APM_AppData_4', '7')\n",
      "Writing SDK to C:\\Users\\ANDERS~1\\AppData\\Local\\Temp\\pygen\n",
      "Done!\n",
      "Added C:\\Users\\ANDERS~1\\AppData\\Local\\Temp\\pygen to sys.path to enable import\n",
      "Imported apm_app_data_4.client\n"
     ]
    }
   ],
   "source": [
    "source = generate_sdk_notebook((\"APM_AppData_4\", \"APM_AppData_4\", \"7\"), client)"
   ]
  },
  {
   "cell_type": "code",
   "execution_count": 4,
   "metadata": {},
   "outputs": [
    {
     "name": "stdout",
     "output_type": "stream",
     "text": [
      "Successfully retrieved data model(s) ('IntegrationTestsImmutable', 'ApmAppData', 'v3')\n",
      "Writing SDK to C:\\Users\\ANDERS~1\\AppData\\Local\\Temp\\pygen\n",
      "Done!\n",
      "C:\\Users\\ANDERS~1\\AppData\\Local\\Temp\\pygen already in sys.path\n",
      "Imported apm_app_data.client\n"
     ]
    }
   ],
   "source": [
    "destination = generate_sdk_notebook((\"IntegrationTestsImmutable\", \"ApmAppData\", \"v3\"), client)"
   ]
  },
  {
   "cell_type": "markdown",
   "metadata": {},
   "source": [
    "## Retrieving Data"
   ]
  },
  {
   "cell_type": "markdown",
   "metadata": {},
   "source": [
    "When retrieving the data we typically want only want nodes from one space, so we filter on space. In addition, it important that we retrieve all edges so we can \n",
    "connect the `templates` with the `templates_items`."
   ]
  },
  {
   "cell_type": "code",
   "execution_count": 13,
   "metadata": {},
   "outputs": [],
   "source": [
    "templates = source.apm_template.list(space=\"sourceSpace\", retrieve_edges=True, limit=-1)\n",
    "items = source.apm_checklist_item.list(space=\"sourceSpace\", retrieve_edges=True, limit=-1)"
   ]
  },
  {
   "cell_type": "code",
   "execution_count": 14,
   "metadata": {},
   "outputs": [
    {
     "data": {
      "text/plain": [
       "(50, 0)"
      ]
     },
     "execution_count": 14,
     "metadata": {},
     "output_type": "execute_result"
    }
   ],
   "source": [
    "len(templates), len(items)"
   ]
  },
  {
   "cell_type": "markdown",
   "metadata": {},
   "source": [
    "## Transformation"
   ]
  },
  {
   "cell_type": "markdown",
   "metadata": {},
   "source": [
    "client"
   ]
  },
  {
   "cell_type": "code",
   "execution_count": 16,
   "metadata": {},
   "outputs": [],
   "source": [
    "from collections import defaultdict"
   ]
  },
  {
   "cell_type": "code",
   "execution_count": 17,
   "metadata": {},
   "outputs": [],
   "source": [
    "from cognite.client import data_modeling as dm"
   ]
  },
  {
   "cell_type": "code",
   "execution_count": 19,
   "metadata": {},
   "outputs": [],
   "source": [
    "edges = client.data_modeling.instances.list(\"edge\", filter=dm.filters.Equals([\"edge\", \"space\"], \"APM_AppData_4\"), limit=-1)"
   ]
  },
  {
   "cell_type": "code",
   "execution_count": 20,
   "metadata": {},
   "outputs": [
    {
     "data": {
      "text/plain": [
       "92"
      ]
     },
     "execution_count": 20,
     "metadata": {},
     "output_type": "execute_result"
    }
   ],
   "source": [
    "len(edges)"
   ]
  },
  {
   "cell_type": "markdown",
   "metadata": {},
   "source": [
    "## Writing Data"
   ]
  },
  {
   "cell_type": "code",
   "execution_count": null,
   "metadata": {},
   "outputs": [],
   "source": []
  }
 ],
 "metadata": {
  "kernelspec": {
   "display_name": "Python 3 (ipykernel)",
   "language": "python",
   "name": "python3"
  },
  "language_info": {
   "codemirror_mode": {
    "name": "ipython",
    "version": 3
   },
   "file_extension": ".py",
   "mimetype": "text/x-python",
   "name": "python",
   "nbconvert_exporter": "python",
   "pygments_lexer": "ipython3",
   "version": "3.9.13"
  }
 },
 "nbformat": 4,
 "nbformat_minor": 4
}
