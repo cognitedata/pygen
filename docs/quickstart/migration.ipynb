{
 "cells": [
  {
   "cell_type": "markdown",
   "metadata": {
    "editable": true,
    "slideshow": {
     "slide_type": ""
    },
    "tags": []
   },
   "source": [
    "# Data Migration\n",
    "**Prerequisites**\n",
    "- Access to a CDF Project.\n",
    "- Know how to use a terminal, so you can run `pygen` from the command line to \n",
    "  generate the SDK.\n",
    "- Knowledge of your the data and data models."
   ]
  },
  {
   "cell_type": "code",
   "execution_count": 1,
   "metadata": {
    "editable": true,
    "slideshow": {
     "slide_type": ""
    },
    "tags": [
     "hide"
    ]
   },
   "outputs": [],
   "source": [
    "import warnings\n",
    "warnings.filterwarnings('ignore')\n",
    "# This is just to enable improting the generated SDK from the examples folder in the pygen repository\n",
    "import sys\n",
    "from tests.constants import REPO_ROOT\n",
    "sys.path.append(str(REPO_ROOT / \"examples\" ))"
   ]
  },
  {
   "cell_type": "markdown",
   "metadata": {
    "editable": true,
    "slideshow": {
     "slide_type": ""
    },
    "tags": []
   },
   "source": [
    "## Introduction to Problem"
   ]
  },
  {
   "attachments": {},
   "cell_type": "markdown",
   "metadata": {
    "editable": true,
    "slideshow": {
     "slide_type": ""
    },
    "tags": []
   },
   "source": [
    "In the development of a solution, it is common that you move from one data model to another. Typically, the physicaly storage of data, the containers, stays the same, or are extended, \n",
    "and only the views of a data model change. In this case, there is no need for a data migration and all you do is update the solution code for the new model. \n",
    "\n",
    "If you, however, need to change how the data is stored in the containers, you need to move the data from one model to the other. A common to do this is to use CDF Transformations. An alternative\n",
    "ways is to use `pygen` for data migration.\n",
    "\n",
    "#### Advantage of CDF Transformations\n",
    "* Can handle large volume of data, millions of instances.\n",
    "* You can write the transformations in the UI using SQL.\n",
    "\n",
    "\n",
    "#### Advantages of using `pygen` \n",
    "* Edges are automatically created.\n",
    "* Can handle medium volume of data, hundreds of thousands of instances.\n",
    "* Support doing very custom migration (what ever you can do in Python code).\n",
    "\n",
    "**Why** would you **chose `pygen`** over **CDF Transformations**? If you are more comfortable with `Python` than writing `SQL`, you have data models with a of one-to-many edges, the number of nodes and edges (instances) is in the order of hundreds of thousands.\n",
    "\n",
    "\n"
   ]
  },
  {
   "attachments": {},
   "cell_type": "markdown",
   "metadata": {
    "editable": true,
    "slideshow": {
     "slide_type": ""
    },
    "tags": []
   },
   "source": [
    "## Use Case"
   ]
  },
  {
   "cell_type": "markdown",
   "metadata": {},
   "source": [
    "The use case we use in this guide is moving from one Asset Performance Model to another. \n",
    "\n",
    "We wil refer to the model we are moving away from as the **source** model and\n",
    "the model we are moving to as the **destination** model.\n",
    "\n",
    "**Source** Model\n",
    "\n",
    "\n",
    "<img src=\"images/source_model.png\" width=\"400\">"
   ]
  },
  {
   "attachments": {},
   "cell_type": "markdown",
   "metadata": {},
   "source": [
    "**Destination Model**:\n",
    "\n",
    "\n",
    "<img src=\"images/destination_model.png\" width=\"400\">"
   ]
  },
  {
   "cell_type": "markdown",
   "metadata": {},
   "source": [
    "As we see in the illustratoins above (click to enlarge), we have many more edges in the destination than the source model, \n",
    "whiche means this is a good use case for using `pygen` for the data migration."
   ]
  },
  {
   "cell_type": "markdown",
   "metadata": {},
   "source": [
    "In this guide, we will not do the entire migration, but instead focus on the `APM_Template` to `Template` migration."
   ]
  },
  {
   "cell_type": "markdown",
   "metadata": {},
   "source": [
    "## Generating SDKs"
   ]
  },
  {
   "cell_type": "markdown",
   "metadata": {},
   "source": [
    "For demo purposes we will generate the SDKs in this notebook, however, depending on your use case it might be useful to use the `pygen` CLI to generate the SDKs.\n",
    "\n",
    "Migration scrips are often a one of, meaning you are not expected to regenerat the SDK as the model changes, thus if you generate it locally, you can do changes\n",
    "to the generated code as you are not expecting this to change later. This can be useful if you want to do some customization to the generated code.\n",
    "\n",
    "Note that we have set up a `config.toml` with credentials to connect to CDF."
   ]
  },
  {
   "cell_type": "code",
   "execution_count": 1,
   "metadata": {},
   "outputs": [],
   "source": [
    "from cognite.pygen import load_cognite_client_from_toml, generate_sdk_notebook"
   ]
  },
  {
   "cell_type": "code",
   "execution_count": 2,
   "metadata": {},
   "outputs": [],
   "source": [
    "client = load_cognite_client_from_toml(\"config.toml\")"
   ]
  },
  {
   "cell_type": "code",
   "execution_count": 3,
   "metadata": {},
   "outputs": [
    {
     "name": "stdout",
     "output_type": "stream",
     "text": [
      "Successfully retrieved data model(s) ('APM_AppData_4', 'APM_AppData_4', '7')\n",
      "Writing SDK to C:\\Users\\ANDERS~1\\AppData\\Local\\Temp\\pygen\n",
      "Done!\n",
      "Added C:\\Users\\ANDERS~1\\AppData\\Local\\Temp\\pygen to sys.path to enable import\n",
      "Imported apm_app_data_4.client\n"
     ]
    }
   ],
   "source": [
    "source = generate_sdk_notebook((\"APM_AppData_4\", \"APM_AppData_4\", \"7\"), client)"
   ]
  },
  {
   "cell_type": "code",
   "execution_count": 4,
   "metadata": {},
   "outputs": [
    {
     "name": "stdout",
     "output_type": "stream",
     "text": [
      "Successfully retrieved data model(s) ('IntegrationTestsImmutable', 'ApmAppData', 'v3')\n",
      "Writing SDK to C:\\Users\\ANDERS~1\\AppData\\Local\\Temp\\pygen\n",
      "Done!\n",
      "C:\\Users\\ANDERS~1\\AppData\\Local\\Temp\\pygen already in sys.path\n",
      "Imported apm_app_data.client\n"
     ]
    }
   ],
   "source": [
    "destination = generate_sdk_notebook((\"IntegrationTestsImmutable\", \"ApmAppData\", \"v3\"), client)"
   ]
  },
  {
   "cell_type": "markdown",
   "metadata": {},
   "source": [
    "## Retrieving Data"
   ]
  },
  {
   "cell_type": "markdown",
   "metadata": {},
   "source": [
    "It is common to store the nodes and edges, i.e., instances, in a differen space than the data model. To only get instances from an instance space, `sourceSpace`, \n",
    "we filter for it. In addition, it important that we retrieve all edges so we can connect the `templates` with the `templates_items`."
   ]
  },
  {
   "cell_type": "code",
   "execution_count": 8,
   "metadata": {},
   "outputs": [],
   "source": [
    "templates = source.apm_template.list(space=\"sourceSpace\", retrieve_edges=True, limit=-1)\n",
    "template_items = source.apm_template_item.list(space=\"sourceSpace\", limit=-1)"
   ]
  },
  {
   "cell_type": "code",
   "execution_count": 9,
   "metadata": {},
   "outputs": [
    {
     "data": {
      "text/plain": [
       "(50, 105)"
      ]
     },
     "execution_count": 9,
     "metadata": {},
     "output_type": "execute_result"
    }
   ],
   "source": [
    "len(templates), len(template_items)"
   ]
  },
  {
   "cell_type": "markdown",
   "metadata": {},
   "source": [
    "## Convesting the Data"
   ]
  },
  {
   "cell_type": "markdown",
   "metadata": {},
   "source": [
    "We do the conversion in in the following steps\n",
    "\n",
    "1. We show some of the data of the source templates. This is usefult to have as a reference when writing the transformation code\n",
    "2. We put the `APMTemplateItem`s into a dictionary, `template_items_by_external_id` so we can easily reference it.\n",
    "3. We include a few other dictionaries, `visiblity_by_item_external_id`, `schedules_by_item_external_id`, `measurements_by_external_id`, and `visiblity_by_external_id`.\n",
    "   This is to show how we can include data from different sources. \n",
    "5. We iterate through all the `APMTemplates` and do the transformation for each `template_item`(s)s and `template`\n"
   ]
  },
  {
   "cell_type": "code",
   "execution_count": 37,
   "metadata": {},
   "outputs": [],
   "source": [
    "# Importing the new destination data classes\n",
    "from apm_app_data.client.data_classes import TemplateApply, TemplateItemApply, TemplateApplyList"
   ]
  },
  {
   "cell_type": "code",
   "execution_count": 12,
   "metadata": {},
   "outputs": [
    {
     "data": {
      "text/html": [
       "<div>\n",
       "<style scoped>\n",
       "    .dataframe tbody tr th:only-of-type {\n",
       "        vertical-align: middle;\n",
       "    }\n",
       "\n",
       "    .dataframe tbody tr th {\n",
       "        vertical-align: top;\n",
       "    }\n",
       "\n",
       "    .dataframe thead th {\n",
       "        text-align: right;\n",
       "    }\n",
       "</style>\n",
       "<table border=\"1\" class=\"dataframe\">\n",
       "  <thead>\n",
       "    <tr style=\"text-align: right;\">\n",
       "      <th></th>\n",
       "      <th>external_id</th>\n",
       "      <th>assigned_to</th>\n",
       "      <th>created_by_external_id</th>\n",
       "      <th>is_archived</th>\n",
       "      <th>root_location_external_id</th>\n",
       "      <th>status</th>\n",
       "      <th>title</th>\n",
       "      <th>updated_by_external_id</th>\n",
       "      <th>template_items</th>\n",
       "      <th>space</th>\n",
       "      <th>version</th>\n",
       "      <th>last_updated_time</th>\n",
       "      <th>created_time</th>\n",
       "      <th>deleted_time</th>\n",
       "    </tr>\n",
       "  </thead>\n",
       "  <tbody>\n",
       "    <tr>\n",
       "      <th>0</th>\n",
       "      <td>108c5106-f638-4d9c-8ef2-4b470ed94495</td>\n",
       "      <td>None</td>\n",
       "      <td>80d32fb4-bcbc-44ae-abed-fee53b148d82</td>\n",
       "      <td>False</td>\n",
       "      <td>31d9f834-a1ab-452a-b2a5-875f0e9f384a</td>\n",
       "      <td>OnHold</td>\n",
       "      <td>good</td>\n",
       "      <td>f1e7d13d-3fd2-42e4-bebc-68ad2aa905eb</td>\n",
       "      <td>[bef8179e-9e0c-44a8-8577-cf6e5ce0bd8f, 479ef47...</td>\n",
       "      <td>sourceSpace</td>\n",
       "      <td>1</td>\n",
       "      <td>2023-11-05 10:53:03.351000+00:00</td>\n",
       "      <td>2023-11-05 10:53:03.351000+00:00</td>\n",
       "      <td>None</td>\n",
       "    </tr>\n",
       "    <tr>\n",
       "      <th>1</th>\n",
       "      <td>32f92434-e5fb-49c1-b4c4-1a454ed699ea</td>\n",
       "      <td>None</td>\n",
       "      <td>6dbb225f-5059-4ff2-9543-7ab400e235e9</td>\n",
       "      <td>False</td>\n",
       "      <td>dac4077b-61d6-445c-a4f4-f6f3247125ab</td>\n",
       "      <td>OnHold</td>\n",
       "      <td>three</td>\n",
       "      <td>df561fd7-dad6-484e-95f7-ae967fb00ed3</td>\n",
       "      <td>[f6ce45c7-b5a6-4a3b-b549-91e4a05580a7, bbbdda6...</td>\n",
       "      <td>sourceSpace</td>\n",
       "      <td>1</td>\n",
       "      <td>2023-11-05 10:53:03.351000+00:00</td>\n",
       "      <td>2023-11-05 10:53:03.351000+00:00</td>\n",
       "      <td>None</td>\n",
       "    </tr>\n",
       "    <tr>\n",
       "      <th>2</th>\n",
       "      <td>6b072855-8408-4c21-b1a3-5caf4bd22204</td>\n",
       "      <td>None</td>\n",
       "      <td>863a0cd1-f55e-4529-ac50-34090596a279</td>\n",
       "      <td>True</td>\n",
       "      <td>1b582c43-bc07-4ab7-959e-cf7e434711a0</td>\n",
       "      <td>Completed</td>\n",
       "      <td>also</td>\n",
       "      <td>37d17cd1-2bbe-416a-b7b1-111e44c64b36</td>\n",
       "      <td>[8b3670e5-a6e4-4636-8066-ee54c0a52582, 29989d8...</td>\n",
       "      <td>sourceSpace</td>\n",
       "      <td>1</td>\n",
       "      <td>2023-11-05 10:53:03.351000+00:00</td>\n",
       "      <td>2023-11-05 10:53:03.351000+00:00</td>\n",
       "      <td>None</td>\n",
       "    </tr>\n",
       "    <tr>\n",
       "      <th>3</th>\n",
       "      <td>95c51139-438b-4fd8-a5ce-b80dbcd77db4</td>\n",
       "      <td>None</td>\n",
       "      <td>ac5c7d3f-564b-44d2-bdc6-6eaf23b075ce</td>\n",
       "      <td>True</td>\n",
       "      <td>1b582c43-bc07-4ab7-959e-cf7e434711a0</td>\n",
       "      <td>Completed</td>\n",
       "      <td>likely</td>\n",
       "      <td>caba29e9-fa98-438d-b5b7-6d43677764d3</td>\n",
       "      <td>[cc2adb6c-34e8-4258-8634-3213c789854c, ffede5f...</td>\n",
       "      <td>sourceSpace</td>\n",
       "      <td>1</td>\n",
       "      <td>2023-11-05 10:53:03.351000+00:00</td>\n",
       "      <td>2023-11-05 10:53:03.351000+00:00</td>\n",
       "      <td>None</td>\n",
       "    </tr>\n",
       "    <tr>\n",
       "      <th>4</th>\n",
       "      <td>9544b2c9-9abe-4a9b-b106-3db9510363c2</td>\n",
       "      <td>None</td>\n",
       "      <td>b3fd00cb-8b06-4365-aac5-b0fcf6f8044c</td>\n",
       "      <td>True</td>\n",
       "      <td>41ad2ff1-88b6-4c45-9bfd-a76d0c0ba9c6</td>\n",
       "      <td>Cancelled</td>\n",
       "      <td>thing</td>\n",
       "      <td>ac5c7d3f-564b-44d2-bdc6-6eaf23b075ce</td>\n",
       "      <td>[502250e9-237b-4c87-85a3-ee100601bdba, 1881a55...</td>\n",
       "      <td>sourceSpace</td>\n",
       "      <td>1</td>\n",
       "      <td>2023-11-05 10:53:03.351000+00:00</td>\n",
       "      <td>2023-11-05 10:53:03.351000+00:00</td>\n",
       "      <td>None</td>\n",
       "    </tr>\n",
       "  </tbody>\n",
       "</table>\n",
       "</div>"
      ],
      "text/plain": [
       "                            external_id assigned_to  \\\n",
       "0  108c5106-f638-4d9c-8ef2-4b470ed94495        None   \n",
       "1  32f92434-e5fb-49c1-b4c4-1a454ed699ea        None   \n",
       "2  6b072855-8408-4c21-b1a3-5caf4bd22204        None   \n",
       "3  95c51139-438b-4fd8-a5ce-b80dbcd77db4        None   \n",
       "4  9544b2c9-9abe-4a9b-b106-3db9510363c2        None   \n",
       "\n",
       "                 created_by_external_id  is_archived  \\\n",
       "0  80d32fb4-bcbc-44ae-abed-fee53b148d82        False   \n",
       "1  6dbb225f-5059-4ff2-9543-7ab400e235e9        False   \n",
       "2  863a0cd1-f55e-4529-ac50-34090596a279         True   \n",
       "3  ac5c7d3f-564b-44d2-bdc6-6eaf23b075ce         True   \n",
       "4  b3fd00cb-8b06-4365-aac5-b0fcf6f8044c         True   \n",
       "\n",
       "              root_location_external_id     status   title  \\\n",
       "0  31d9f834-a1ab-452a-b2a5-875f0e9f384a     OnHold    good   \n",
       "1  dac4077b-61d6-445c-a4f4-f6f3247125ab     OnHold   three   \n",
       "2  1b582c43-bc07-4ab7-959e-cf7e434711a0  Completed    also   \n",
       "3  1b582c43-bc07-4ab7-959e-cf7e434711a0  Completed  likely   \n",
       "4  41ad2ff1-88b6-4c45-9bfd-a76d0c0ba9c6  Cancelled   thing   \n",
       "\n",
       "                 updated_by_external_id  \\\n",
       "0  f1e7d13d-3fd2-42e4-bebc-68ad2aa905eb   \n",
       "1  df561fd7-dad6-484e-95f7-ae967fb00ed3   \n",
       "2  37d17cd1-2bbe-416a-b7b1-111e44c64b36   \n",
       "3  caba29e9-fa98-438d-b5b7-6d43677764d3   \n",
       "4  ac5c7d3f-564b-44d2-bdc6-6eaf23b075ce   \n",
       "\n",
       "                                      template_items        space  version  \\\n",
       "0  [bef8179e-9e0c-44a8-8577-cf6e5ce0bd8f, 479ef47...  sourceSpace        1   \n",
       "1  [f6ce45c7-b5a6-4a3b-b549-91e4a05580a7, bbbdda6...  sourceSpace        1   \n",
       "2  [8b3670e5-a6e4-4636-8066-ee54c0a52582, 29989d8...  sourceSpace        1   \n",
       "3  [cc2adb6c-34e8-4258-8634-3213c789854c, ffede5f...  sourceSpace        1   \n",
       "4  [502250e9-237b-4c87-85a3-ee100601bdba, 1881a55...  sourceSpace        1   \n",
       "\n",
       "                 last_updated_time                     created_time  \\\n",
       "0 2023-11-05 10:53:03.351000+00:00 2023-11-05 10:53:03.351000+00:00   \n",
       "1 2023-11-05 10:53:03.351000+00:00 2023-11-05 10:53:03.351000+00:00   \n",
       "2 2023-11-05 10:53:03.351000+00:00 2023-11-05 10:53:03.351000+00:00   \n",
       "3 2023-11-05 10:53:03.351000+00:00 2023-11-05 10:53:03.351000+00:00   \n",
       "4 2023-11-05 10:53:03.351000+00:00 2023-11-05 10:53:03.351000+00:00   \n",
       "\n",
       "  deleted_time  \n",
       "0         None  \n",
       "1         None  \n",
       "2         None  \n",
       "3         None  \n",
       "4         None  "
      ]
     },
     "execution_count": 12,
     "metadata": {},
     "output_type": "execute_result"
    }
   ],
   "source": [
    "templates.to_pandas().head(5)"
   ]
  },
  {
   "cell_type": "code",
   "execution_count": 13,
   "metadata": {},
   "outputs": [
    {
     "data": {
      "text/html": [
       "<div>\n",
       "<style scoped>\n",
       "    .dataframe tbody tr th:only-of-type {\n",
       "        vertical-align: middle;\n",
       "    }\n",
       "\n",
       "    .dataframe tbody tr th {\n",
       "        vertical-align: top;\n",
       "    }\n",
       "\n",
       "    .dataframe thead th {\n",
       "        text-align: right;\n",
       "    }\n",
       "</style>\n",
       "<table border=\"1\" class=\"dataframe\">\n",
       "  <thead>\n",
       "    <tr style=\"text-align: right;\">\n",
       "      <th></th>\n",
       "      <th>external_id</th>\n",
       "      <th>asset_external_id</th>\n",
       "      <th>created_by_external_id</th>\n",
       "      <th>labels</th>\n",
       "      <th>order</th>\n",
       "      <th>template_external_id</th>\n",
       "      <th>title</th>\n",
       "      <th>updated_by_external_id</th>\n",
       "      <th>space</th>\n",
       "      <th>version</th>\n",
       "      <th>last_updated_time</th>\n",
       "      <th>created_time</th>\n",
       "      <th>deleted_time</th>\n",
       "    </tr>\n",
       "  </thead>\n",
       "  <tbody>\n",
       "    <tr>\n",
       "      <th>91</th>\n",
       "      <td>3396be3e-d4dd-4546-b6a2-e73c1036431f</td>\n",
       "      <td>3dccb9c8-92e4-43e6-9b09-cbb7dd767cbf</td>\n",
       "      <td>146b3ec8-ec8e-48c3-a68d-dbdcd53ef962</td>\n",
       "      <td>[#f495e3]</td>\n",
       "      <td>4142</td>\n",
       "      <td>9199d796-9bf6-4fc8-9376-5101d533009a</td>\n",
       "      <td>suffer</td>\n",
       "      <td>None</td>\n",
       "      <td>sourceSpace</td>\n",
       "      <td>1</td>\n",
       "      <td>2023-11-05 10:53:03.351000+00:00</td>\n",
       "      <td>2023-11-05 10:53:03.351000+00:00</td>\n",
       "      <td>None</td>\n",
       "    </tr>\n",
       "    <tr>\n",
       "      <th>49</th>\n",
       "      <td>44731c25-e7e6-4b2c-aae5-0d2b495f17f9</td>\n",
       "      <td>95d2dae0-a976-4400-8cbf-e6870790f00f</td>\n",
       "      <td>05b39884-406c-4523-a302-24834ec842c4</td>\n",
       "      <td>[#f4d89f, #dd6388, #f495e3]</td>\n",
       "      <td>4142</td>\n",
       "      <td>4a9c75d8-3213-4e6f-9c2c-c8750ecdb4a9</td>\n",
       "      <td>newspaper</td>\n",
       "      <td>None</td>\n",
       "      <td>sourceSpace</td>\n",
       "      <td>1</td>\n",
       "      <td>2023-11-05 10:53:03.351000+00:00</td>\n",
       "      <td>2023-11-05 10:53:03.351000+00:00</td>\n",
       "      <td>None</td>\n",
       "    </tr>\n",
       "    <tr>\n",
       "      <th>73</th>\n",
       "      <td>3130d24c-b528-46de-abe3-4e1e86c4dc90</td>\n",
       "      <td>3233aa0e-9c01-433e-9706-71352468aa80</td>\n",
       "      <td>0f53f902-a251-4b66-a9ae-7eb4eb6890da</td>\n",
       "      <td>[#f495e3]</td>\n",
       "      <td>8088</td>\n",
       "      <td>6fe2a770-70d6-4ca3-85db-76ee5369b1f2</td>\n",
       "      <td>feeling</td>\n",
       "      <td>None</td>\n",
       "      <td>sourceSpace</td>\n",
       "      <td>1</td>\n",
       "      <td>2023-11-05 10:53:03.351000+00:00</td>\n",
       "      <td>2023-11-05 10:53:03.351000+00:00</td>\n",
       "      <td>None</td>\n",
       "    </tr>\n",
       "    <tr>\n",
       "      <th>4</th>\n",
       "      <td>f6ce45c7-b5a6-4a3b-b549-91e4a05580a7</td>\n",
       "      <td>f4f6daa5-1241-48a8-99a6-5c594c4bbe1f</td>\n",
       "      <td>66f3e1db-db6d-4283-963c-d6284217d06c</td>\n",
       "      <td>[#7fe0a9, #f495e3, #f4d89f]</td>\n",
       "      <td>765</td>\n",
       "      <td>32f92434-e5fb-49c1-b4c4-1a454ed699ea</td>\n",
       "      <td>person</td>\n",
       "      <td>None</td>\n",
       "      <td>sourceSpace</td>\n",
       "      <td>1</td>\n",
       "      <td>2023-11-05 10:53:03.351000+00:00</td>\n",
       "      <td>2023-11-05 10:53:03.351000+00:00</td>\n",
       "      <td>None</td>\n",
       "    </tr>\n",
       "    <tr>\n",
       "      <th>90</th>\n",
       "      <td>35b5ff44-b05e-4979-9af2-94932a750797</td>\n",
       "      <td>c9da1796-ebc7-4205-99dc-dcdcc1c5f252</td>\n",
       "      <td>891ffc81-5d83-4cfa-b306-5ede51a5293f</td>\n",
       "      <td>[#f495e3, #dd6388]</td>\n",
       "      <td>8193</td>\n",
       "      <td>9199d796-9bf6-4fc8-9376-5101d533009a</td>\n",
       "      <td>main</td>\n",
       "      <td>None</td>\n",
       "      <td>sourceSpace</td>\n",
       "      <td>1</td>\n",
       "      <td>2023-11-05 10:53:03.351000+00:00</td>\n",
       "      <td>2023-11-05 10:53:03.351000+00:00</td>\n",
       "      <td>None</td>\n",
       "    </tr>\n",
       "  </tbody>\n",
       "</table>\n",
       "</div>"
      ],
      "text/plain": [
       "                             external_id  \\\n",
       "91  3396be3e-d4dd-4546-b6a2-e73c1036431f   \n",
       "49  44731c25-e7e6-4b2c-aae5-0d2b495f17f9   \n",
       "73  3130d24c-b528-46de-abe3-4e1e86c4dc90   \n",
       "4   f6ce45c7-b5a6-4a3b-b549-91e4a05580a7   \n",
       "90  35b5ff44-b05e-4979-9af2-94932a750797   \n",
       "\n",
       "                       asset_external_id  \\\n",
       "91  3dccb9c8-92e4-43e6-9b09-cbb7dd767cbf   \n",
       "49  95d2dae0-a976-4400-8cbf-e6870790f00f   \n",
       "73  3233aa0e-9c01-433e-9706-71352468aa80   \n",
       "4   f4f6daa5-1241-48a8-99a6-5c594c4bbe1f   \n",
       "90  c9da1796-ebc7-4205-99dc-dcdcc1c5f252   \n",
       "\n",
       "                  created_by_external_id                       labels  order  \\\n",
       "91  146b3ec8-ec8e-48c3-a68d-dbdcd53ef962                    [#f495e3]   4142   \n",
       "49  05b39884-406c-4523-a302-24834ec842c4  [#f4d89f, #dd6388, #f495e3]   4142   \n",
       "73  0f53f902-a251-4b66-a9ae-7eb4eb6890da                    [#f495e3]   8088   \n",
       "4   66f3e1db-db6d-4283-963c-d6284217d06c  [#7fe0a9, #f495e3, #f4d89f]    765   \n",
       "90  891ffc81-5d83-4cfa-b306-5ede51a5293f           [#f495e3, #dd6388]   8193   \n",
       "\n",
       "                    template_external_id      title updated_by_external_id  \\\n",
       "91  9199d796-9bf6-4fc8-9376-5101d533009a     suffer                   None   \n",
       "49  4a9c75d8-3213-4e6f-9c2c-c8750ecdb4a9  newspaper                   None   \n",
       "73  6fe2a770-70d6-4ca3-85db-76ee5369b1f2    feeling                   None   \n",
       "4   32f92434-e5fb-49c1-b4c4-1a454ed699ea     person                   None   \n",
       "90  9199d796-9bf6-4fc8-9376-5101d533009a       main                   None   \n",
       "\n",
       "          space  version                last_updated_time  \\\n",
       "91  sourceSpace        1 2023-11-05 10:53:03.351000+00:00   \n",
       "49  sourceSpace        1 2023-11-05 10:53:03.351000+00:00   \n",
       "73  sourceSpace        1 2023-11-05 10:53:03.351000+00:00   \n",
       "4   sourceSpace        1 2023-11-05 10:53:03.351000+00:00   \n",
       "90  sourceSpace        1 2023-11-05 10:53:03.351000+00:00   \n",
       "\n",
       "                       created_time deleted_time  \n",
       "91 2023-11-05 10:53:03.351000+00:00         None  \n",
       "49 2023-11-05 10:53:03.351000+00:00         None  \n",
       "73 2023-11-05 10:53:03.351000+00:00         None  \n",
       "4  2023-11-05 10:53:03.351000+00:00         None  \n",
       "90 2023-11-05 10:53:03.351000+00:00         None  "
      ]
     },
     "execution_count": 13,
     "metadata": {},
     "output_type": "execute_result"
    }
   ],
   "source": [
    "template_items.to_pandas().sample(5)"
   ]
  },
  {
   "cell_type": "code",
   "execution_count": 20,
   "metadata": {},
   "outputs": [],
   "source": [
    "template_item_by_external_id = {item.external_id: item for item in template_items}\n",
    "\n",
    "# The visiblity, schedules, and measurements are changes to the new template,\n",
    "# and thus the source of these needs to come from elsewhere. The point of including \n",
    "# these data structers is to show how \n",
    "visiblity_by_item_external_id: dict[str, str] = {}\n",
    "schedules_by_item_external_id: dict[str, list[str]] = {}\n",
    "measurements_by_external_id: dict[str, list[str]] = {}\n",
    "\n",
    "visiblity_by_external_id: dict[str, str] = {}"
   ]
  },
  {
   "cell_type": "code",
   "execution_count": 24,
   "metadata": {},
   "outputs": [],
   "source": [
    "destination_templates = TemplateApplyList([])\n",
    "for template in templates:\n",
    "    destination_items = []\n",
    "    for item_external_id in template.template_items or []:\n",
    "        item = template_item_by_external_id[item_external_id]\n",
    "        destination_item = TemplateItemApply(\n",
    "            external_id=item.external_id,\n",
    "            space=\"destinationSpace\",\n",
    "            title=item.title,\n",
    "            labels=item.labels,\n",
    "            visibility=visiblity_by_item_external_id.get(item.external_id),\n",
    "            created_by=item.created_by_external_id,\n",
    "            updated_by=item.updated_by_external_id,\n",
    "            is_archived=template.is_archived,\n",
    "            order=item.order,\n",
    "            asset=item.asset_external_id,\n",
    "            schedules=schedules_by_item_external_id.get(item.external_id),\n",
    "            measurements=measurements_by_external_id.get(item.external_id),            \n",
    "        )\n",
    "        destination_items.append(destination_item)\n",
    "    \n",
    "    destination_template = TemplateApply(\n",
    "        external_id=template.external_id,\n",
    "        space=\"destinationSpace\",\n",
    "        title=template.title,\n",
    "        visibility=visiblity_by_external_id.get(template.external_id),\n",
    "        created_by=template.created_by_external_id,\n",
    "        updated_by=template.updated_by_external_id,\n",
    "        is_archived=template.is_archived,\n",
    "        status=template.status,\n",
    "        labels=list({label for item in destination_items for label in item.labels}),\n",
    "        root_location=template.root_location_external_id,\n",
    "        assigned_to=template.assigned_to,\n",
    "        template_items=destination_items,\n",
    "    )\n",
    "    destination_templates.append(destination_template)"
   ]
  },
  {
   "cell_type": "markdown",
   "metadata": {},
   "source": [
    "## How <code>pygen</code> Creates Edges"
   ]
  },
  {
   "cell_type": "markdown",
   "metadata": {},
   "source": [
    "`pygen` create edges by looking at the relationships in the generated data classes. \n",
    "\n",
    "For example, in the current example we have the `TemplateItem` node which have the fields `schedules` and `measurements`. When writing to CDF `pygen` iterates through all the `TemplateItems` and check these fields, and if there is a `string` it is assumed to be the `external_id` of the end node, and `pygen` creates an edge to it. If it is an `object` that object is assumed to be the end node and `pygen` creates an edge to it.\n",
    "\n",
    "We can inspect what pygen is doing by calling the `.to_instances_apply()` method and check the results.\n",
    "\n"
   ]
  },
  {
   "cell_type": "code",
   "execution_count": 26,
   "metadata": {},
   "outputs": [
    {
     "data": {
      "text/html": [
       "<div>\n",
       "<style scoped>\n",
       "    .dataframe tbody tr th:only-of-type {\n",
       "        vertical-align: middle;\n",
       "    }\n",
       "\n",
       "    .dataframe tbody tr th {\n",
       "        vertical-align: top;\n",
       "    }\n",
       "\n",
       "    .dataframe thead th {\n",
       "        text-align: right;\n",
       "    }\n",
       "</style>\n",
       "<table border=\"1\" class=\"dataframe\">\n",
       "  <thead>\n",
       "    <tr style=\"text-align: right;\">\n",
       "      <th></th>\n",
       "      <th>value</th>\n",
       "    </tr>\n",
       "  </thead>\n",
       "  <tbody>\n",
       "    <tr>\n",
       "      <th>space</th>\n",
       "      <td>destinationSpace</td>\n",
       "    </tr>\n",
       "    <tr>\n",
       "      <th>external_id</th>\n",
       "      <td>108c5106-f638-4d9c-8ef2-4b470ed94495</td>\n",
       "    </tr>\n",
       "    <tr>\n",
       "      <th>existing_version</th>\n",
       "      <td>None</td>\n",
       "    </tr>\n",
       "    <tr>\n",
       "      <th>title</th>\n",
       "      <td>good</td>\n",
       "    </tr>\n",
       "    <tr>\n",
       "      <th>description</th>\n",
       "      <td>None</td>\n",
       "    </tr>\n",
       "    <tr>\n",
       "      <th>labels</th>\n",
       "      <td>[#f495e3, #f4d89f, #7fe0a9, #8516fc, #dd6388]</td>\n",
       "    </tr>\n",
       "    <tr>\n",
       "      <th>visibility</th>\n",
       "      <td>None</td>\n",
       "    </tr>\n",
       "    <tr>\n",
       "      <th>created_by</th>\n",
       "      <td>80d32fb4-bcbc-44ae-abed-fee53b148d82</td>\n",
       "    </tr>\n",
       "    <tr>\n",
       "      <th>updated_by</th>\n",
       "      <td>f1e7d13d-3fd2-42e4-bebc-68ad2aa905eb</td>\n",
       "    </tr>\n",
       "    <tr>\n",
       "      <th>is_archived</th>\n",
       "      <td>False</td>\n",
       "    </tr>\n",
       "    <tr>\n",
       "      <th>status</th>\n",
       "      <td>OnHold</td>\n",
       "    </tr>\n",
       "    <tr>\n",
       "      <th>root_location</th>\n",
       "      <td>31d9f834-a1ab-452a-b2a5-875f0e9f384a</td>\n",
       "    </tr>\n",
       "    <tr>\n",
       "      <th>assigned_to</th>\n",
       "      <td>None</td>\n",
       "    </tr>\n",
       "    <tr>\n",
       "      <th>template_items</th>\n",
       "      <td>[{'space': 'destinationSpace', 'external_id': ...</td>\n",
       "    </tr>\n",
       "  </tbody>\n",
       "</table>\n",
       "</div>"
      ],
      "text/plain": [
       "TemplateApply(space='destinationSpace', external_id='108c5106-f638-4d9c-8ef2-4b470ed94495', existing_version=None, title='good', description=None, labels=['#f495e3', '#f4d89f', '#7fe0a9', '#8516fc', '#dd6388'], visibility=None, is_archived=False, status='OnHold', assigned_to=None)"
      ]
     },
     "execution_count": 26,
     "metadata": {},
     "output_type": "execute_result"
    }
   ],
   "source": [
    "destination_templates[0]"
   ]
  },
  {
   "cell_type": "code",
   "execution_count": 31,
   "metadata": {},
   "outputs": [
    {
     "data": {
      "text/plain": [
       "4"
      ]
     },
     "execution_count": 31,
     "metadata": {},
     "output_type": "execute_result"
    }
   ],
   "source": [
    "len(destination_templates[0].template_items)"
   ]
  },
  {
   "cell_type": "code",
   "execution_count": 27,
   "metadata": {},
   "outputs": [],
   "source": [
    "instances = destination_templates[0].to_instances_apply()"
   ]
  },
  {
   "cell_type": "code",
   "execution_count": 28,
   "metadata": {},
   "outputs": [
    {
     "data": {
      "text/html": [
       "<div>\n",
       "<style scoped>\n",
       "    .dataframe tbody tr th:only-of-type {\n",
       "        vertical-align: middle;\n",
       "    }\n",
       "\n",
       "    .dataframe tbody tr th {\n",
       "        vertical-align: top;\n",
       "    }\n",
       "\n",
       "    .dataframe thead th {\n",
       "        text-align: right;\n",
       "    }\n",
       "</style>\n",
       "<table border=\"1\" class=\"dataframe\">\n",
       "  <thead>\n",
       "    <tr style=\"text-align: right;\">\n",
       "      <th></th>\n",
       "      <th>instance_type</th>\n",
       "      <th>space</th>\n",
       "      <th>external_id</th>\n",
       "      <th>sources</th>\n",
       "    </tr>\n",
       "  </thead>\n",
       "  <tbody>\n",
       "    <tr>\n",
       "      <th>0</th>\n",
       "      <td>node</td>\n",
       "      <td>destinationSpace</td>\n",
       "      <td>108c5106-f638-4d9c-8ef2-4b470ed94495</td>\n",
       "      <td>[{'properties': {'title': 'good', 'labels': ['...</td>\n",
       "    </tr>\n",
       "    <tr>\n",
       "      <th>1</th>\n",
       "      <td>node</td>\n",
       "      <td>destinationSpace</td>\n",
       "      <td>bef8179e-9e0c-44a8-8577-cf6e5ce0bd8f</td>\n",
       "      <td>[{'properties': {'title': 'half', 'labels': ['...</td>\n",
       "    </tr>\n",
       "    <tr>\n",
       "      <th>2</th>\n",
       "      <td>node</td>\n",
       "      <td>destinationSpace</td>\n",
       "      <td>479ef472-a2c1-4f03-b38d-7e29e4f90227</td>\n",
       "      <td>[{'properties': {'title': 'agreement', 'labels...</td>\n",
       "    </tr>\n",
       "    <tr>\n",
       "      <th>3</th>\n",
       "      <td>node</td>\n",
       "      <td>destinationSpace</td>\n",
       "      <td>a92cfb02-09cd-4b47-b870-a7aded8aed07</td>\n",
       "      <td>[{'properties': {'title': 'behind', 'labels': ...</td>\n",
       "    </tr>\n",
       "    <tr>\n",
       "      <th>4</th>\n",
       "      <td>node</td>\n",
       "      <td>destinationSpace</td>\n",
       "      <td>54e8a840-624d-41cb-91a3-1b978e292565</td>\n",
       "      <td>[{'properties': {'title': 'wall', 'labels': ['...</td>\n",
       "    </tr>\n",
       "  </tbody>\n",
       "</table>\n",
       "</div>"
      ],
      "text/plain": [
       "NodeApplyList([<NodeApply(space='destinationSpace', external_id='108c5106-f638-4d9c-8ef2-4b470ed94495') at 0x1b942bd71c0>,\n",
       "               <NodeApply(space='destinationSpace', external_id='bef8179e-9e0c-44a8-8577-cf6e5ce0bd8f') at 0x1b942bd7310>,\n",
       "               <NodeApply(space='destinationSpace', external_id='479ef472-a2c1-4f03-b38d-7e29e4f90227') at 0x1b942bd7a30>,\n",
       "               <NodeApply(space='destinationSpace', external_id='a92cfb02-09cd-4b47-b870-a7aded8aed07') at 0x1b942bd7c70>,\n",
       "               <NodeApply(space='destinationSpace', external_id='54e8a840-624d-41cb-91a3-1b978e292565') at 0x1b942bd7eb0>])"
      ]
     },
     "execution_count": 28,
     "metadata": {},
     "output_type": "execute_result"
    }
   ],
   "source": [
    "instances.nodes"
   ]
  },
  {
   "cell_type": "code",
   "execution_count": 29,
   "metadata": {},
   "outputs": [
    {
     "data": {
      "text/html": [
       "<div>\n",
       "<style scoped>\n",
       "    .dataframe tbody tr th:only-of-type {\n",
       "        vertical-align: middle;\n",
       "    }\n",
       "\n",
       "    .dataframe tbody tr th {\n",
       "        vertical-align: top;\n",
       "    }\n",
       "\n",
       "    .dataframe thead th {\n",
       "        text-align: right;\n",
       "    }\n",
       "</style>\n",
       "<table border=\"1\" class=\"dataframe\">\n",
       "  <thead>\n",
       "    <tr style=\"text-align: right;\">\n",
       "      <th></th>\n",
       "      <th>instance_type</th>\n",
       "      <th>space</th>\n",
       "      <th>external_id</th>\n",
       "      <th>type</th>\n",
       "      <th>start_node</th>\n",
       "      <th>end_node</th>\n",
       "    </tr>\n",
       "  </thead>\n",
       "  <tbody>\n",
       "    <tr>\n",
       "      <th>0</th>\n",
       "      <td>edge</td>\n",
       "      <td>destinationSpace</td>\n",
       "      <td>108c5106-f638-4d9c-8ef2-4b470ed94495:bef8179e-...</td>\n",
       "      <td>{'space': 'cdf_apm', 'external_id': 'reference...</td>\n",
       "      <td>{'space': 'destinationSpace', 'external_id': '...</td>\n",
       "      <td>{'space': 'destinationSpace', 'external_id': '...</td>\n",
       "    </tr>\n",
       "    <tr>\n",
       "      <th>1</th>\n",
       "      <td>edge</td>\n",
       "      <td>destinationSpace</td>\n",
       "      <td>108c5106-f638-4d9c-8ef2-4b470ed94495:479ef472-...</td>\n",
       "      <td>{'space': 'cdf_apm', 'external_id': 'reference...</td>\n",
       "      <td>{'space': 'destinationSpace', 'external_id': '...</td>\n",
       "      <td>{'space': 'destinationSpace', 'external_id': '...</td>\n",
       "    </tr>\n",
       "    <tr>\n",
       "      <th>2</th>\n",
       "      <td>edge</td>\n",
       "      <td>destinationSpace</td>\n",
       "      <td>108c5106-f638-4d9c-8ef2-4b470ed94495:a92cfb02-...</td>\n",
       "      <td>{'space': 'cdf_apm', 'external_id': 'reference...</td>\n",
       "      <td>{'space': 'destinationSpace', 'external_id': '...</td>\n",
       "      <td>{'space': 'destinationSpace', 'external_id': '...</td>\n",
       "    </tr>\n",
       "    <tr>\n",
       "      <th>3</th>\n",
       "      <td>edge</td>\n",
       "      <td>destinationSpace</td>\n",
       "      <td>108c5106-f638-4d9c-8ef2-4b470ed94495:54e8a840-...</td>\n",
       "      <td>{'space': 'cdf_apm', 'external_id': 'reference...</td>\n",
       "      <td>{'space': 'destinationSpace', 'external_id': '...</td>\n",
       "      <td>{'space': 'destinationSpace', 'external_id': '...</td>\n",
       "    </tr>\n",
       "  </tbody>\n",
       "</table>\n",
       "</div>"
      ],
      "text/plain": [
       "EdgeApplyList([<EdgeApply(space='destinationSpace', external_id='108c5106-f638-4d9c-8ef2-4b470ed94495:bef8179e-9e0c-44a8-8577-cf6e5ce0bd8f') at 0x1b942bd7160>,\n",
       "               <EdgeApply(space='destinationSpace', external_id='108c5106-f638-4d9c-8ef2-4b470ed94495:479ef472-a2c1-4f03-b38d-7e29e4f90227') at 0x1b942bd7700>,\n",
       "               <EdgeApply(space='destinationSpace', external_id='108c5106-f638-4d9c-8ef2-4b470ed94495:a92cfb02-09cd-4b47-b870-a7aded8aed07') at 0x1b942bd7b20>,\n",
       "               <EdgeApply(space='destinationSpace', external_id='108c5106-f638-4d9c-8ef2-4b470ed94495:54e8a840-624d-41cb-91a3-1b978e292565') at 0x1b942bd7d60>])"
      ]
     },
     "execution_count": 29,
     "metadata": {},
     "output_type": "execute_result"
    }
   ],
   "source": [
    "instances.edges"
   ]
  },
  {
   "cell_type": "markdown",
   "metadata": {},
   "source": [
    "We can see here that for one `Template` item with 4 `TemplateItem`s `pygen` creates one node for each `=5`, and an edge connecting each of the `TemplateItem` to `Template` `=4`."
   ]
  },
  {
   "cell_type": "code",
   "execution_count": 39,
   "metadata": {},
   "outputs": [],
   "source": [
    "all_instances = destination_templates.to_instances_apply()"
   ]
  },
  {
   "cell_type": "markdown",
   "metadata": {},
   "source": [
    "By doing the `.to_instances_apply` call on the all the destination `Templates` we can see how \n",
    "many nodes and edges we are expecting to create."
   ]
  },
  {
   "cell_type": "code",
   "execution_count": 41,
   "metadata": {},
   "outputs": [
    {
     "data": {
      "text/plain": [
       "(155, 105)"
      ]
     },
     "execution_count": 41,
     "metadata": {},
     "output_type": "execute_result"
    }
   ],
   "source": [
    "len(all_instances.nodes), len(all_instances.edges)"
   ]
  },
  {
   "cell_type": "markdown",
   "metadata": {},
   "source": [
    "Note that for the use case we are using in this example one of the changes to the new model is that a lot of the relationships are made explicit. For example, in the old template we have `root_location_external_id`, while now we have direct link `root_location`. Due to the way `pygen` automatically creates edges this becomes an easier migration as if `pygen` knows that there should be an edge and have a `string` it is assumed to be an `external_id`. \n"
   ]
  },
  {
   "cell_type": "markdown",
   "metadata": {},
   "source": [
    "## Writing Data"
   ]
  },
  {
   "cell_type": "code",
   "execution_count": 42,
   "metadata": {
    "editable": true,
    "slideshow": {
     "slide_type": ""
    },
    "tags": [
     "hide"
    ]
   },
   "outputs": [],
   "source": [
    "# In case the space doesn't exists. This cell is hidden from the tutorial\n",
    "from cognite.client import data_modeling as dm\n",
    "client.data_modeling.spaces.apply(dm.SpaceApply(\"destinationSpace\", name=\"Destination space\", description=\"For the data migration tutorial\"));"
   ]
  },
  {
   "cell_type": "markdown",
   "metadata": {},
   "source": [
    "We are no ready to write the new `Template` data to the new model.\n",
    "\n",
    "We use the `destination` client and call `.apply` on the `template`."
   ]
  },
  {
   "cell_type": "code",
   "execution_count": 44,
   "metadata": {},
   "outputs": [
    {
     "ename": "CogniteAPIError",
     "evalue": "Cannot auto-create a direct relation target in node '108c5106-f638-4d9c-8ef2-4b470ed94495' because it has a container constraint. The target node must already exist and have data in the specified container. | code: 400 | X-Request-ID: c714095b-5925-9737-b118-c38d2942eeee\nThe API Failed to process some items.\nSuccessful (2xx): []\nUnknown (5xx): []\nFailed (4xx): ['108c5106-f638-4d9c-8ef2-4b470ed94495', 'bef8179e-9e0c-44a8-8577-cf6e5ce0bd8f', '479ef472-a2c1-4f03-b38d-7e29e4f90227', 'a92cfb02-09cd-4b47-b870-a7aded8aed07', '54e8a840-624d-41cb-91a3-1b978e292565', '32f92434-e5fb-49c1-b4c4-1a454ed699ea', 'f6ce45c7-b5a6-4a3b-b549-91e4a05580a7', 'bbbdda6e-b6d7-41e8-a722-3ed00031a9ba', '7a11b48e-a547-43cc-b907-83ef6ef363d3', '6b072855-8408-4c21-b1a3-5caf4bd22204', '8b3670e5-a6e4-4636-8066-ee54c0a52582', '29989d84-cd33-484f-a46f-b169249bdb14', 'e85f295b-da0f-48c5-8ef8-c25a1921047c', '95c51139-438b-4fd8-a5ce-b80dbcd77db4', 'cc2adb6c-34e8-4258-8634-3213c789854c', 'ffede5fa-f5ce-4f4a-8522-aaa874eed73f', '18597902-9887-42b6-84bd-444887cfa038', '9544b2c9-9abe-4a9b-b106-3db9510363c2', '502250e9-237b-4c87-85a3-ee100601bdba', '1881a55f-b084-4148-a2d1-41638a03bc7f', '8ffedeed-53ea-40d3-8ace-92baf19566ac', '21d6aa38-3157-4647-b286-009685c786d8', '326c4d28-2b7d-4853-bc96-01a2b13cc12b', '29e1422c-5a85-41ba-a941-5255619e5eb2', '973757d9-b5b2-4d25-b965-cc476fc3a576', '7ddac720-a272-4848-aa1f-f7ea571630d3', '5fed1620-fdaa-4c35-a530-a8d506a2bd8e', '2a740f5c-b9c8-4e26-a872-3e9e70bf99eb', 'a9072f9a-f814-45d1-8dbb-308b98ac3474', '36afcdd3-b2e5-4ed0-af47-07ba45f50c4f', 'e942481b-8abe-424d-8852-bbeb9ed53c02', 'ff4b6c85-d9a9-41d3-a006-d14f7d0a6214', '5a51f73f-6818-4001-b91e-655fe6a49eea', '13ed7d32-34cf-40dc-afd5-a285f90cf399', '0dba57ba-c183-4886-a348-9c909dfa4bb7', 'ed37db64-e895-40a4-9e9f-ae9e823a3327', '396b8a5c-5ba6-4107-89b6-88f57d799d8f', '46b2715d-669e-4de4-b73c-184aa811ddaa', '1f904a52-5040-4f8f-9698-7f8cbabf61f3', '36ddc3a4-9c95-4ce3-8027-69405e539086', 'f5e27135-a2ee-433d-b00f-268fa951b4f2', '73b4aa49-232d-4870-a7d8-9e1dd89c84ad', 'd8a5fb0f-5671-40f2-9c23-0edbf3aafdb4', '3b67394a-8d9d-411b-b0a1-0e9eda88ddff', '2d2c6486-a354-4992-a4f9-b48f7068c544', '945a6cd3-ecc8-43f2-9081-9f5e3e3662c8', '624c684e-e729-4e91-b705-7ab578b91b18', 'd6d4ccdc-dadf-4e08-9427-f5e67ff04f54', '769b621a-3f15-49eb-9333-009a399f2f21', 'c985dd32-fbf9-4790-9154-1c66dd0fa3b0', '8795fdc0-d617-475b-aec6-256d92e7b8cd', '067204a9-353d-44e9-ba69-168c230f3544', '6d1c7069-1539-4f9d-a892-5177c7de03a0', 'af55234f-0810-49a6-95e5-641524f718ec', '0feb34a0-ad42-4b95-8f25-56ffebed819a', '5e29b453-4c29-483c-9ca9-321266f6e4aa', '94c4480e-6085-4be1-a9c4-d3b4d62b00be', '8b5a9463-3a83-4b3b-a967-5383aea7b969', '93e9d0ad-7aff-4dfe-8ea7-727addab2d02', 'fe00f01f-fceb-43f9-8d10-7fb653024c64', '000ca4b9-c46a-4a3c-8ade-c82a0249d633', '7809bf4a-7dec-456d-ba8f-489e395b9dfd', 'a75486ad-93b9-4879-9bf3-58de83db695b', '4cb57e47-f0ed-4b3b-9efa-294ec00a3068', '7a7c6d82-680f-4505-8ec9-a98f4515ca9a', '7a692ad6-7f44-44e2-b70d-f7ccdf1da93a', '310b60ad-7b6a-4552-a3cb-57bbb3cc5874', '4a9c75d8-3213-4e6f-9c2c-c8750ecdb4a9', '6ee91d87-ccae-4e24-8447-dbed9e4529e5', '44731c25-e7e6-4b2c-aae5-0d2b495f17f9', '2bcaeaac-9fdc-4c28-9e35-da53a7421f73', '3ee0b618-b7d1-4f54-ae22-e2749944696a', 'a5e5a4d1-bce4-43db-8e71-08f6b377a2f0', 'e2567f5c-237d-4247-918c-cb7e67cea15d', 'b32db00d-33c7-4a32-a5b6-8da6bc21c9e3', 'f43f0292-d3fa-464c-a9bb-93a4decbca2b', '562e670c-9cd6-4fd9-83eb-3ca2e257c3c8', '339e568d-7f96-4c3d-b40f-adc37de748e2', '3c921edc-d86b-4c8a-af7d-83b410f7a2e4', 'ac8611d6-9e69-4938-9ae6-d7578bf88ac2', 'b99437c6-7671-424f-a07a-04a07ca659f2', 'e3ecd31a-72bd-41fc-8977-c3a54f14748d', '1b35469b-11ee-48aa-85c6-218b2c802713', 'c255e852-9bfd-4017-b5fc-6ea8ef48cb3b', '03c494b3-3de6-4aa6-ae8e-84b7b749e729', '22b948c0-7da0-4324-aec3-0f5c9dc9fefd', '2e6caeab-547e-40d4-9875-57197b7816b2', '9d23fe0f-eb42-4782-9107-96a27159c952', 'a3ac5825-8674-48ef-9bdc-ea326c16fdb4', '24a6d2ec-22c3-48c2-a709-eb0648339473', '169eb44e-96be-4bbc-a117-1c664a672f40', '672acbf8-aed3-4174-b8c8-076d13f6263f', 'b93f7511-43a3-423b-ac91-97faec5e1ae5', '78bbec25-03a3-4f4d-bfb5-7e047717d27c', '13ba3237-3c08-4d76-8de1-97d00bc1b72c', '79bd1733-afa5-4b6c-9d2f-e8458f042e7e', '454a1dcf-5017-4a11-9c66-5040f235f526', 'c3084885-5554-4010-b3dd-00322a5baf6f', 'a929ecd6-075a-46bb-a95f-759833bd9a21', 'fca75feb-8587-4311-b102-ab277f7a5860', '485c47ce-d2ac-4b4a-a4a8-c10647e92aee', 'fc354f90-99f1-48c5-b3ee-da917cbd7f1b', '97f352a2-f74f-4df3-87a2-b8e525ba197c', '6fe2a770-70d6-4ca3-85db-76ee5369b1f2', '3130d24c-b528-46de-abe3-4e1e86c4dc90', '4a1f48dd-1094-4e42-846e-935f39c20458', 'd55040f1-9d3e-4046-bda7-58652111064a', 'b7d5f341-88c0-4e27-a42d-2a35fe6dc08f', 'f644521e-fdd0-4021-8f52-ff8cf5e655f9', '2394a3c2-4205-4c72-95c3-c77503dad7b8', 'fa61f002-9b24-4a92-a55e-235e116323da', '57255e52-4858-456b-908d-bda5c99b1b92', '3ed032be-81fd-4743-ac64-9f78958e43c0', 'acd07034-830d-420f-b163-080145aa7844', '11ec48cc-b2d2-43dd-9f43-60f3f8b3b1b4', 'db840b9f-34a7-4049-af38-487c6b0ef283', '3ce8fc96-4d40-4b4e-b826-a6e76dbab681', 'e7a81ba1-0a44-4d7c-90b1-5bb1e5c77f95', '51dd70f1-7ceb-418a-86d2-ae0881b8479c', 'bb479412-b9bf-44c6-a067-58df6ba233c3', 'bf123b1c-fd1a-411b-99d4-17dcdb3e6499', '156fc529-b365-4341-8d7b-c87cb155b50c', 'd8c9a57d-a1de-47cd-b5af-e770eafb1d92', 'a3aff056-a373-40fc-9072-ade83ec9c502', '4bb17080-1fb9-4fd7-bb86-9386b67fb51e', 'fcad7224-c48c-4275-a53a-04b9f8d86cfd', '1fad20b7-b117-409f-a51a-8ed00325e6bb', '8f93e582-bdde-42b8-baa9-cf34b7dc7495', '75abfe50-41b2-4fbf-afee-5a1167487997', 'e52f8099-5077-404e-ab01-e5020ab143a4', '9199d796-9bf6-4fc8-9376-5101d533009a', '5d539221-371a-4c9c-abb6-f88108b98a0d', '35b5ff44-b05e-4979-9af2-94932a750797', '3396be3e-d4dd-4546-b6a2-e73c1036431f', 'e1b02f31-cfab-4b89-a330-2e5548682a19', '56321a6d-07eb-41e1-9a23-94817635d073', '414b7ca8-106e-4a60-8df8-929bd97fcc72', '70cffe6b-05a1-4525-8ee4-c00a91e25bde', 'd4a8df7f-0379-4535-919a-7dad862a7221', '8b4f55f2-bc32-4fef-afb0-fcf4b8744f3b', 'd8cca168-59f4-4f2b-8bee-7d93b4aafd1f', 'a3eee13b-76d0-4521-994a-69aa5ecc122c', '62516725-b6e2-4cdb-957c-23aae67a2a0b', '2446a7e0-bc36-496a-bef5-194490d5ac0f', 'f8791a74-66c1-4ab3-aa95-5ab56644bf13', '7522e53a-7863-480b-8496-443f64faa174', 'c6d4933a-454f-47e4-9c04-cdaaa33b77f4', 'd1ab7af2-71ea-47d0-8629-2ab9fe559ead', '4d46282f-7498-4abb-b328-7082c567287b', '185e08b3-fd2c-4cd9-b988-b0251f7b1de2', 'ce9b7760-734e-4022-ad99-a06523f9139c', '98c25973-a9cc-4670-8348-b5103b22fe2d', 'e908217e-2761-4575-ab9a-3f5774e714c6', '619e99f2-ecc9-491c-bc3b-5c674c18362a', 'df8804fb-5451-4051-b56c-784d31fb1bc3', '108c5106-f638-4d9c-8ef2-4b470ed94495:bef8179e-9e0c-44a8-8577-cf6e5ce0bd8f', '108c5106-f638-4d9c-8ef2-4b470ed94495:479ef472-a2c1-4f03-b38d-7e29e4f90227', '108c5106-f638-4d9c-8ef2-4b470ed94495:a92cfb02-09cd-4b47-b870-a7aded8aed07', '108c5106-f638-4d9c-8ef2-4b470ed94495:54e8a840-624d-41cb-91a3-1b978e292565', '32f92434-e5fb-49c1-b4c4-1a454ed699ea:f6ce45c7-b5a6-4a3b-b549-91e4a05580a7', '32f92434-e5fb-49c1-b4c4-1a454ed699ea:bbbdda6e-b6d7-41e8-a722-3ed00031a9ba', '32f92434-e5fb-49c1-b4c4-1a454ed699ea:7a11b48e-a547-43cc-b907-83ef6ef363d3', '6b072855-8408-4c21-b1a3-5caf4bd22204:8b3670e5-a6e4-4636-8066-ee54c0a52582', '6b072855-8408-4c21-b1a3-5caf4bd22204:29989d84-cd33-484f-a46f-b169249bdb14', '6b072855-8408-4c21-b1a3-5caf4bd22204:e85f295b-da0f-48c5-8ef8-c25a1921047c', '95c51139-438b-4fd8-a5ce-b80dbcd77db4:cc2adb6c-34e8-4258-8634-3213c789854c', '95c51139-438b-4fd8-a5ce-b80dbcd77db4:ffede5fa-f5ce-4f4a-8522-aaa874eed73f', '95c51139-438b-4fd8-a5ce-b80dbcd77db4:18597902-9887-42b6-84bd-444887cfa038', '9544b2c9-9abe-4a9b-b106-3db9510363c2:502250e9-237b-4c87-85a3-ee100601bdba', '9544b2c9-9abe-4a9b-b106-3db9510363c2:1881a55f-b084-4148-a2d1-41638a03bc7f', '9544b2c9-9abe-4a9b-b106-3db9510363c2:8ffedeed-53ea-40d3-8ace-92baf19566ac', '21d6aa38-3157-4647-b286-009685c786d8:326c4d28-2b7d-4853-bc96-01a2b13cc12b', '21d6aa38-3157-4647-b286-009685c786d8:29e1422c-5a85-41ba-a941-5255619e5eb2', '21d6aa38-3157-4647-b286-009685c786d8:973757d9-b5b2-4d25-b965-cc476fc3a576', '21d6aa38-3157-4647-b286-009685c786d8:7ddac720-a272-4848-aa1f-f7ea571630d3', '5fed1620-fdaa-4c35-a530-a8d506a2bd8e:2a740f5c-b9c8-4e26-a872-3e9e70bf99eb', '5fed1620-fdaa-4c35-a530-a8d506a2bd8e:a9072f9a-f814-45d1-8dbb-308b98ac3474', 'e942481b-8abe-424d-8852-bbeb9ed53c02:ff4b6c85-d9a9-41d3-a006-d14f7d0a6214', 'e942481b-8abe-424d-8852-bbeb9ed53c02:5a51f73f-6818-4001-b91e-655fe6a49eea', 'e942481b-8abe-424d-8852-bbeb9ed53c02:13ed7d32-34cf-40dc-afd5-a285f90cf399', '0dba57ba-c183-4886-a348-9c909dfa4bb7:ed37db64-e895-40a4-9e9f-ae9e823a3327', '0dba57ba-c183-4886-a348-9c909dfa4bb7:396b8a5c-5ba6-4107-89b6-88f57d799d8f', '0dba57ba-c183-4886-a348-9c909dfa4bb7:46b2715d-669e-4de4-b73c-184aa811ddaa', '1f904a52-5040-4f8f-9698-7f8cbabf61f3:36ddc3a4-9c95-4ce3-8027-69405e539086', '1f904a52-5040-4f8f-9698-7f8cbabf61f3:f5e27135-a2ee-433d-b00f-268fa951b4f2', '1f904a52-5040-4f8f-9698-7f8cbabf61f3:73b4aa49-232d-4870-a7d8-9e1dd89c84ad', 'd8a5fb0f-5671-40f2-9c23-0edbf3aafdb4:3b67394a-8d9d-411b-b0a1-0e9eda88ddff', 'd8a5fb0f-5671-40f2-9c23-0edbf3aafdb4:2d2c6486-a354-4992-a4f9-b48f7068c544', '945a6cd3-ecc8-43f2-9081-9f5e3e3662c8:624c684e-e729-4e91-b705-7ab578b91b18', '945a6cd3-ecc8-43f2-9081-9f5e3e3662c8:d6d4ccdc-dadf-4e08-9427-f5e67ff04f54', '945a6cd3-ecc8-43f2-9081-9f5e3e3662c8:769b621a-3f15-49eb-9333-009a399f2f21', '067204a9-353d-44e9-ba69-168c230f3544:6d1c7069-1539-4f9d-a892-5177c7de03a0', '067204a9-353d-44e9-ba69-168c230f3544:af55234f-0810-49a6-95e5-641524f718ec', '067204a9-353d-44e9-ba69-168c230f3544:0feb34a0-ad42-4b95-8f25-56ffebed819a', '067204a9-353d-44e9-ba69-168c230f3544:5e29b453-4c29-483c-9ca9-321266f6e4aa', '94c4480e-6085-4be1-a9c4-d3b4d62b00be:8b5a9463-3a83-4b3b-a967-5383aea7b969', '94c4480e-6085-4be1-a9c4-d3b4d62b00be:93e9d0ad-7aff-4dfe-8ea7-727addab2d02', '94c4480e-6085-4be1-a9c4-d3b4d62b00be:fe00f01f-fceb-43f9-8d10-7fb653024c64', '94c4480e-6085-4be1-a9c4-d3b4d62b00be:000ca4b9-c46a-4a3c-8ade-c82a0249d633', '7809bf4a-7dec-456d-ba8f-489e395b9dfd:a75486ad-93b9-4879-9bf3-58de83db695b', '7809bf4a-7dec-456d-ba8f-489e395b9dfd:4cb57e47-f0ed-4b3b-9efa-294ec00a3068', '7809bf4a-7dec-456d-ba8f-489e395b9dfd:7a7c6d82-680f-4505-8ec9-a98f4515ca9a', '7a692ad6-7f44-44e2-b70d-f7ccdf1da93a:310b60ad-7b6a-4552-a3cb-57bbb3cc5874', '4a9c75d8-3213-4e6f-9c2c-c8750ecdb4a9:6ee91d87-ccae-4e24-8447-dbed9e4529e5', '4a9c75d8-3213-4e6f-9c2c-c8750ecdb4a9:44731c25-e7e6-4b2c-aae5-0d2b495f17f9', '4a9c75d8-3213-4e6f-9c2c-c8750ecdb4a9:2bcaeaac-9fdc-4c28-9e35-da53a7421f73', '3ee0b618-b7d1-4f54-ae22-e2749944696a:a5e5a4d1-bce4-43db-8e71-08f6b377a2f0', '3ee0b618-b7d1-4f54-ae22-e2749944696a:e2567f5c-237d-4247-918c-cb7e67cea15d', '3ee0b618-b7d1-4f54-ae22-e2749944696a:b32db00d-33c7-4a32-a5b6-8da6bc21c9e3', '3ee0b618-b7d1-4f54-ae22-e2749944696a:f43f0292-d3fa-464c-a9bb-93a4decbca2b', '562e670c-9cd6-4fd9-83eb-3ca2e257c3c8:339e568d-7f96-4c3d-b40f-adc37de748e2', '562e670c-9cd6-4fd9-83eb-3ca2e257c3c8:3c921edc-d86b-4c8a-af7d-83b410f7a2e4', '562e670c-9cd6-4fd9-83eb-3ca2e257c3c8:ac8611d6-9e69-4938-9ae6-d7578bf88ac2', 'b99437c6-7671-424f-a07a-04a07ca659f2:e3ecd31a-72bd-41fc-8977-c3a54f14748d', '1b35469b-11ee-48aa-85c6-218b2c802713:c255e852-9bfd-4017-b5fc-6ea8ef48cb3b', '1b35469b-11ee-48aa-85c6-218b2c802713:03c494b3-3de6-4aa6-ae8e-84b7b749e729', '1b35469b-11ee-48aa-85c6-218b2c802713:22b948c0-7da0-4324-aec3-0f5c9dc9fefd', '2e6caeab-547e-40d4-9875-57197b7816b2:9d23fe0f-eb42-4782-9107-96a27159c952', '2e6caeab-547e-40d4-9875-57197b7816b2:a3ac5825-8674-48ef-9bdc-ea326c16fdb4', '24a6d2ec-22c3-48c2-a709-eb0648339473:169eb44e-96be-4bbc-a117-1c664a672f40', '24a6d2ec-22c3-48c2-a709-eb0648339473:672acbf8-aed3-4174-b8c8-076d13f6263f', '24a6d2ec-22c3-48c2-a709-eb0648339473:b93f7511-43a3-423b-ac91-97faec5e1ae5', '78bbec25-03a3-4f4d-bfb5-7e047717d27c:13ba3237-3c08-4d76-8de1-97d00bc1b72c', '78bbec25-03a3-4f4d-bfb5-7e047717d27c:79bd1733-afa5-4b6c-9d2f-e8458f042e7e', '454a1dcf-5017-4a11-9c66-5040f235f526:c3084885-5554-4010-b3dd-00322a5baf6f', '454a1dcf-5017-4a11-9c66-5040f235f526:a929ecd6-075a-46bb-a95f-759833bd9a21', '454a1dcf-5017-4a11-9c66-5040f235f526:fca75feb-8587-4311-b102-ab277f7a5860', '485c47ce-d2ac-4b4a-a4a8-c10647e92aee:fc354f90-99f1-48c5-b3ee-da917cbd7f1b', '6fe2a770-70d6-4ca3-85db-76ee5369b1f2:3130d24c-b528-46de-abe3-4e1e86c4dc90', '6fe2a770-70d6-4ca3-85db-76ee5369b1f2:4a1f48dd-1094-4e42-846e-935f39c20458', '6fe2a770-70d6-4ca3-85db-76ee5369b1f2:d55040f1-9d3e-4046-bda7-58652111064a', 'b7d5f341-88c0-4e27-a42d-2a35fe6dc08f:f644521e-fdd0-4021-8f52-ff8cf5e655f9', 'b7d5f341-88c0-4e27-a42d-2a35fe6dc08f:2394a3c2-4205-4c72-95c3-c77503dad7b8', 'fa61f002-9b24-4a92-a55e-235e116323da:57255e52-4858-456b-908d-bda5c99b1b92', 'acd07034-830d-420f-b163-080145aa7844:11ec48cc-b2d2-43dd-9f43-60f3f8b3b1b4', 'db840b9f-34a7-4049-af38-487c6b0ef283:3ce8fc96-4d40-4b4e-b826-a6e76dbab681', 'db840b9f-34a7-4049-af38-487c6b0ef283:e7a81ba1-0a44-4d7c-90b1-5bb1e5c77f95', 'bb479412-b9bf-44c6-a067-58df6ba233c3:bf123b1c-fd1a-411b-99d4-17dcdb3e6499', 'bb479412-b9bf-44c6-a067-58df6ba233c3:156fc529-b365-4341-8d7b-c87cb155b50c', 'bb479412-b9bf-44c6-a067-58df6ba233c3:d8c9a57d-a1de-47cd-b5af-e770eafb1d92', 'bb479412-b9bf-44c6-a067-58df6ba233c3:a3aff056-a373-40fc-9072-ade83ec9c502', '1fad20b7-b117-409f-a51a-8ed00325e6bb:8f93e582-bdde-42b8-baa9-cf34b7dc7495', '1fad20b7-b117-409f-a51a-8ed00325e6bb:75abfe50-41b2-4fbf-afee-5a1167487997', '1fad20b7-b117-409f-a51a-8ed00325e6bb:e52f8099-5077-404e-ab01-e5020ab143a4', '9199d796-9bf6-4fc8-9376-5101d533009a:5d539221-371a-4c9c-abb6-f88108b98a0d', '9199d796-9bf6-4fc8-9376-5101d533009a:35b5ff44-b05e-4979-9af2-94932a750797', '9199d796-9bf6-4fc8-9376-5101d533009a:3396be3e-d4dd-4546-b6a2-e73c1036431f', '9199d796-9bf6-4fc8-9376-5101d533009a:e1b02f31-cfab-4b89-a330-2e5548682a19', '414b7ca8-106e-4a60-8df8-929bd97fcc72:70cffe6b-05a1-4525-8ee4-c00a91e25bde', '414b7ca8-106e-4a60-8df8-929bd97fcc72:d4a8df7f-0379-4535-919a-7dad862a7221', 'd8cca168-59f4-4f2b-8bee-7d93b4aafd1f:a3eee13b-76d0-4521-994a-69aa5ecc122c', 'd8cca168-59f4-4f2b-8bee-7d93b4aafd1f:62516725-b6e2-4cdb-957c-23aae67a2a0b', 'd8cca168-59f4-4f2b-8bee-7d93b4aafd1f:2446a7e0-bc36-496a-bef5-194490d5ac0f', '7522e53a-7863-480b-8496-443f64faa174:c6d4933a-454f-47e4-9c04-cdaaa33b77f4', '7522e53a-7863-480b-8496-443f64faa174:d1ab7af2-71ea-47d0-8629-2ab9fe559ead', '7522e53a-7863-480b-8496-443f64faa174:4d46282f-7498-4abb-b328-7082c567287b', '185e08b3-fd2c-4cd9-b988-b0251f7b1de2:ce9b7760-734e-4022-ad99-a06523f9139c', '185e08b3-fd2c-4cd9-b988-b0251f7b1de2:98c25973-a9cc-4670-8348-b5103b22fe2d', 'e908217e-2761-4575-ab9a-3f5774e714c6:619e99f2-ecc9-491c-bc3b-5c674c18362a', 'e908217e-2761-4575-ab9a-3f5774e714c6:df8804fb-5451-4051-b56c-784d31fb1bc3']",
     "output_type": "error",
     "traceback": [
      "\u001b[1;31m---------------------------------------------------------------------------\u001b[0m",
      "\u001b[1;31mCogniteAPIError\u001b[0m                           Traceback (most recent call last)",
      "Cell \u001b[1;32mIn[44], line 1\u001b[0m\n\u001b[1;32m----> 1\u001b[0m results \u001b[38;5;241m=\u001b[39m \u001b[43mdestination\u001b[49m\u001b[38;5;241;43m.\u001b[39;49m\u001b[43mtemplate\u001b[49m\u001b[38;5;241;43m.\u001b[39;49m\u001b[43mapply\u001b[49m\u001b[43m(\u001b[49m\u001b[43mdestination_templates\u001b[49m\u001b[43m)\u001b[49m\n",
      "File \u001b[1;32mC:\\Users\\ANDERS~1\\AppData\\Local\\Temp\\pygen\\apm_app_data\\client\\_api\\template.py:139\u001b[0m, in \u001b[0;36mTemplateAPI.apply\u001b[1;34m(self, template, replace)\u001b[0m\n\u001b[0;32m    137\u001b[0m \u001b[38;5;28;01melse\u001b[39;00m:\n\u001b[0;32m    138\u001b[0m     instances \u001b[38;5;241m=\u001b[39m TemplateApplyList(template)\u001b[38;5;241m.\u001b[39mto_instances_apply(\u001b[38;5;28mself\u001b[39m\u001b[38;5;241m.\u001b[39m_view_by_write_class)\n\u001b[1;32m--> 139\u001b[0m \u001b[38;5;28;01mreturn\u001b[39;00m \u001b[38;5;28;43mself\u001b[39;49m\u001b[38;5;241;43m.\u001b[39;49m\u001b[43m_client\u001b[49m\u001b[38;5;241;43m.\u001b[39;49m\u001b[43mdata_modeling\u001b[49m\u001b[38;5;241;43m.\u001b[39;49m\u001b[43minstances\u001b[49m\u001b[38;5;241;43m.\u001b[39;49m\u001b[43mapply\u001b[49m\u001b[43m(\u001b[49m\n\u001b[0;32m    140\u001b[0m \u001b[43m    \u001b[49m\u001b[43mnodes\u001b[49m\u001b[38;5;241;43m=\u001b[39;49m\u001b[43minstances\u001b[49m\u001b[38;5;241;43m.\u001b[39;49m\u001b[43mnodes\u001b[49m\u001b[43m,\u001b[49m\n\u001b[0;32m    141\u001b[0m \u001b[43m    \u001b[49m\u001b[43medges\u001b[49m\u001b[38;5;241;43m=\u001b[39;49m\u001b[43minstances\u001b[49m\u001b[38;5;241;43m.\u001b[39;49m\u001b[43medges\u001b[49m\u001b[43m,\u001b[49m\n\u001b[0;32m    142\u001b[0m \u001b[43m    \u001b[49m\u001b[43mauto_create_start_nodes\u001b[49m\u001b[38;5;241;43m=\u001b[39;49m\u001b[38;5;28;43;01mTrue\u001b[39;49;00m\u001b[43m,\u001b[49m\n\u001b[0;32m    143\u001b[0m \u001b[43m    \u001b[49m\u001b[43mauto_create_end_nodes\u001b[49m\u001b[38;5;241;43m=\u001b[39;49m\u001b[38;5;28;43;01mTrue\u001b[39;49;00m\u001b[43m,\u001b[49m\n\u001b[0;32m    144\u001b[0m \u001b[43m    \u001b[49m\u001b[43mreplace\u001b[49m\u001b[38;5;241;43m=\u001b[39;49m\u001b[43mreplace\u001b[49m\u001b[43m,\u001b[49m\n\u001b[0;32m    145\u001b[0m \u001b[43m\u001b[49m\u001b[43m)\u001b[49m\n",
      "File \u001b[1;32m~\\AppData\\Local\\pypoetry\\Cache\\virtualenvs\\cognite-pygen-9ATJrLbx-py3.9\\lib\\site-packages\\cognite\\client\\_api\\data_modeling\\instances.py:645\u001b[0m, in \u001b[0;36mInstancesAPI.apply\u001b[1;34m(self, nodes, edges, auto_create_start_nodes, auto_create_end_nodes, auto_create_direct_relations, skip_on_version_conflict, replace)\u001b[0m\n\u001b[0;32m    642\u001b[0m edges \u001b[38;5;241m=\u001b[39m edges \u001b[38;5;129;01mor\u001b[39;00m []\n\u001b[0;32m    643\u001b[0m edges \u001b[38;5;241m=\u001b[39m edges \u001b[38;5;28;01mif\u001b[39;00m \u001b[38;5;28misinstance\u001b[39m(edges, Sequence) \u001b[38;5;28;01melse\u001b[39;00m [edges]\n\u001b[1;32m--> 645\u001b[0m res \u001b[38;5;241m=\u001b[39m \u001b[38;5;28;43mself\u001b[39;49m\u001b[38;5;241;43m.\u001b[39;49m\u001b[43m_create_multiple\u001b[49m\u001b[43m(\u001b[49m\n\u001b[0;32m    646\u001b[0m \u001b[43m    \u001b[49m\u001b[43mitems\u001b[49m\u001b[38;5;241;43m=\u001b[39;49m\u001b[43m(\u001b[49m\u001b[38;5;241;43m*\u001b[39;49m\u001b[43mnodes\u001b[49m\u001b[43m,\u001b[49m\u001b[43m \u001b[49m\u001b[38;5;241;43m*\u001b[39;49m\u001b[43medges\u001b[49m\u001b[43m)\u001b[49m\u001b[43m,\u001b[49m\n\u001b[0;32m    647\u001b[0m \u001b[43m    \u001b[49m\u001b[43mlist_cls\u001b[49m\u001b[38;5;241;43m=\u001b[39;49m\u001b[43m_NodeOrEdgeApplyResultList\u001b[49m\u001b[43m,\u001b[49m\n\u001b[0;32m    648\u001b[0m \u001b[43m    \u001b[49m\u001b[43mresource_cls\u001b[49m\u001b[38;5;241;43m=\u001b[39;49m\u001b[43m_NodeOrEdgeApplyResultAdapter\u001b[49m\u001b[43m,\u001b[49m\u001b[43m  \u001b[49m\u001b[38;5;66;43;03m# type: ignore[type-var]\u001b[39;49;00m\n\u001b[0;32m    649\u001b[0m \u001b[43m    \u001b[49m\u001b[43mextra_body_fields\u001b[49m\u001b[38;5;241;43m=\u001b[39;49m\u001b[43mother_parameters\u001b[49m\u001b[43m,\u001b[49m\n\u001b[0;32m    650\u001b[0m \u001b[43m    \u001b[49m\u001b[43minput_resource_cls\u001b[49m\u001b[38;5;241;43m=\u001b[39;49m\u001b[43m_NodeOrEdgeApplyAdapter\u001b[49m\u001b[43m,\u001b[49m\u001b[43m  \u001b[49m\u001b[38;5;66;43;03m# type: ignore[arg-type]\u001b[39;49;00m\n\u001b[0;32m    651\u001b[0m \u001b[43m    \u001b[49m\u001b[43mexecutor\u001b[49m\u001b[38;5;241;43m=\u001b[39;49m\u001b[43mget_data_modeling_executor\u001b[49m\u001b[43m(\u001b[49m\u001b[43m)\u001b[49m\u001b[43m,\u001b[49m\n\u001b[0;32m    652\u001b[0m \u001b[43m\u001b[49m\u001b[43m)\u001b[49m\n\u001b[0;32m    653\u001b[0m \u001b[38;5;28;01mreturn\u001b[39;00m InstancesApplyResult(\n\u001b[0;32m    654\u001b[0m     nodes\u001b[38;5;241m=\u001b[39mNodeApplyResultList([item \u001b[38;5;28;01mfor\u001b[39;00m item \u001b[38;5;129;01min\u001b[39;00m res \u001b[38;5;28;01mif\u001b[39;00m \u001b[38;5;28misinstance\u001b[39m(item, NodeApplyResult)]),\n\u001b[0;32m    655\u001b[0m     edges\u001b[38;5;241m=\u001b[39mEdgeApplyResultList([item \u001b[38;5;28;01mfor\u001b[39;00m item \u001b[38;5;129;01min\u001b[39;00m res \u001b[38;5;28;01mif\u001b[39;00m \u001b[38;5;28misinstance\u001b[39m(item, EdgeApplyResult)]),\n\u001b[0;32m    656\u001b[0m )\n",
      "File \u001b[1;32m~\\AppData\\Local\\pypoetry\\Cache\\virtualenvs\\cognite-pygen-9ATJrLbx-py3.9\\lib\\site-packages\\cognite\\client\\_api_client.py:863\u001b[0m, in \u001b[0;36mAPIClient._create_multiple\u001b[1;34m(self, items, list_cls, resource_cls, resource_path, params, headers, extra_body_fields, limit, input_resource_cls, executor, api_subversion)\u001b[0m\n\u001b[0;32m    860\u001b[0m         \u001b[38;5;28;01mreturn\u001b[39;00m dumped\n\u001b[0;32m    861\u001b[0m     \u001b[38;5;28;01mreturn\u001b[39;00m el\n\u001b[1;32m--> 863\u001b[0m \u001b[43msummary\u001b[49m\u001b[38;5;241;43m.\u001b[39;49m\u001b[43mraise_compound_exception_if_failed_tasks\u001b[49m\u001b[43m(\u001b[49m\n\u001b[0;32m    864\u001b[0m \u001b[43m    \u001b[49m\u001b[43mtask_unwrap_fn\u001b[49m\u001b[38;5;241;43m=\u001b[39;49m\u001b[38;5;28;43;01mlambda\u001b[39;49;00m\u001b[43m \u001b[49m\u001b[43mtask\u001b[49m\u001b[43m:\u001b[49m\u001b[43m \u001b[49m\u001b[43mtask\u001b[49m\u001b[43m[\u001b[49m\u001b[38;5;241;43m1\u001b[39;49m\u001b[43m]\u001b[49m\u001b[43m[\u001b[49m\u001b[38;5;124;43m\"\u001b[39;49m\u001b[38;5;124;43mitems\u001b[39;49m\u001b[38;5;124;43m\"\u001b[39;49m\u001b[43m]\u001b[49m\u001b[43m,\u001b[49m\n\u001b[0;32m    865\u001b[0m \u001b[43m    \u001b[49m\u001b[43mtask_list_element_unwrap_fn\u001b[49m\u001b[38;5;241;43m=\u001b[39;49m\u001b[43munwrap_element\u001b[49m\u001b[43m,\u001b[49m\n\u001b[0;32m    866\u001b[0m \u001b[43m    \u001b[49m\u001b[43mstr_format_element_fn\u001b[49m\u001b[38;5;241;43m=\u001b[39;49m\u001b[43mstr_format_element\u001b[49m\u001b[43m,\u001b[49m\n\u001b[0;32m    867\u001b[0m \u001b[43m\u001b[49m\u001b[43m)\u001b[49m\n\u001b[0;32m    868\u001b[0m created_resources \u001b[38;5;241m=\u001b[39m summary\u001b[38;5;241m.\u001b[39mjoined_results(\u001b[38;5;28;01mlambda\u001b[39;00m res: res\u001b[38;5;241m.\u001b[39mjson()[\u001b[38;5;124m\"\u001b[39m\u001b[38;5;124mitems\u001b[39m\u001b[38;5;124m\"\u001b[39m])\n\u001b[0;32m    870\u001b[0m \u001b[38;5;28;01mif\u001b[39;00m single_item:\n",
      "File \u001b[1;32m~\\AppData\\Local\\pypoetry\\Cache\\virtualenvs\\cognite-pygen-9ATJrLbx-py3.9\\lib\\site-packages\\cognite\\client\\utils\\_concurrency.py:64\u001b[0m, in \u001b[0;36mTasksSummary.raise_compound_exception_if_failed_tasks\u001b[1;34m(self, task_unwrap_fn, task_list_element_unwrap_fn, str_format_element_fn)\u001b[0m\n\u001b[0;32m     61\u001b[0m     unknown \u001b[38;5;241m=\u001b[39m [task_unwrap_fn(t) \u001b[38;5;28;01mfor\u001b[39;00m t \u001b[38;5;129;01min\u001b[39;00m \u001b[38;5;28mself\u001b[39m\u001b[38;5;241m.\u001b[39munknown_tasks]\n\u001b[0;32m     62\u001b[0m     failed \u001b[38;5;241m=\u001b[39m [task_unwrap_fn(t) \u001b[38;5;28;01mfor\u001b[39;00m t \u001b[38;5;129;01min\u001b[39;00m \u001b[38;5;28mself\u001b[39m\u001b[38;5;241m.\u001b[39mfailed_tasks]\n\u001b[1;32m---> 64\u001b[0m \u001b[43mcollect_exc_info_and_raise\u001b[49m\u001b[43m(\u001b[49m\n\u001b[0;32m     65\u001b[0m \u001b[43m    \u001b[49m\u001b[38;5;28;43mself\u001b[39;49m\u001b[38;5;241;43m.\u001b[39;49m\u001b[43mexceptions\u001b[49m\u001b[43m,\u001b[49m\u001b[43m \u001b[49m\u001b[43msuccessful\u001b[49m\u001b[38;5;241;43m=\u001b[39;49m\u001b[43msuccessful\u001b[49m\u001b[43m,\u001b[49m\u001b[43m \u001b[49m\u001b[43mfailed\u001b[49m\u001b[38;5;241;43m=\u001b[39;49m\u001b[43mfailed\u001b[49m\u001b[43m,\u001b[49m\u001b[43m \u001b[49m\u001b[43munknown\u001b[49m\u001b[38;5;241;43m=\u001b[39;49m\u001b[43munknown\u001b[49m\u001b[43m,\u001b[49m\u001b[43m \u001b[49m\u001b[43munwrap_fn\u001b[49m\u001b[38;5;241;43m=\u001b[39;49m\u001b[43mstr_format_element_fn\u001b[49m\n\u001b[0;32m     66\u001b[0m \u001b[43m\u001b[49m\u001b[43m)\u001b[49m\n",
      "File \u001b[1;32m~\\AppData\\Local\\pypoetry\\Cache\\virtualenvs\\cognite-pygen-9ATJrLbx-py3.9\\lib\\site-packages\\cognite\\client\\utils\\_concurrency.py:101\u001b[0m, in \u001b[0;36mcollect_exc_info_and_raise\u001b[1;34m(exceptions, successful, failed, unknown, unwrap_fn)\u001b[0m\n\u001b[0;32m     99\u001b[0m \u001b[38;5;28;01mif\u001b[39;00m unknown_exc:\n\u001b[0;32m    100\u001b[0m     \u001b[38;5;28;01mif\u001b[39;00m \u001b[38;5;28misinstance\u001b[39m(unknown_exc, CogniteAPIError) \u001b[38;5;129;01mand\u001b[39;00m (failed \u001b[38;5;129;01mor\u001b[39;00m unknown):\n\u001b[1;32m--> 101\u001b[0m         \u001b[38;5;28;01mraise\u001b[39;00m CogniteAPIError(\n\u001b[0;32m    102\u001b[0m             message\u001b[38;5;241m=\u001b[39munknown_exc\u001b[38;5;241m.\u001b[39mmessage,\n\u001b[0;32m    103\u001b[0m             code\u001b[38;5;241m=\u001b[39munknown_exc\u001b[38;5;241m.\u001b[39mcode,\n\u001b[0;32m    104\u001b[0m             x_request_id\u001b[38;5;241m=\u001b[39munknown_exc\u001b[38;5;241m.\u001b[39mx_request_id,\n\u001b[0;32m    105\u001b[0m             missing\u001b[38;5;241m=\u001b[39mmissing,\n\u001b[0;32m    106\u001b[0m             duplicated\u001b[38;5;241m=\u001b[39mduplicated,\n\u001b[0;32m    107\u001b[0m             successful\u001b[38;5;241m=\u001b[39msuccessful,\n\u001b[0;32m    108\u001b[0m             failed\u001b[38;5;241m=\u001b[39mfailed,\n\u001b[0;32m    109\u001b[0m             unknown\u001b[38;5;241m=\u001b[39munknown,\n\u001b[0;32m    110\u001b[0m             unwrap_fn\u001b[38;5;241m=\u001b[39munwrap_fn,\n\u001b[0;32m    111\u001b[0m             extra\u001b[38;5;241m=\u001b[39munknown_exc\u001b[38;5;241m.\u001b[39mextra,\n\u001b[0;32m    112\u001b[0m         )\n\u001b[0;32m    113\u001b[0m     \u001b[38;5;28;01mraise\u001b[39;00m unknown_exc\n\u001b[0;32m    115\u001b[0m \u001b[38;5;28;01mif\u001b[39;00m missing_exc:\n",
      "\u001b[1;31mCogniteAPIError\u001b[0m: Cannot auto-create a direct relation target in node '108c5106-f638-4d9c-8ef2-4b470ed94495' because it has a container constraint. The target node must already exist and have data in the specified container. | code: 400 | X-Request-ID: c714095b-5925-9737-b118-c38d2942eeee\nThe API Failed to process some items.\nSuccessful (2xx): []\nUnknown (5xx): []\nFailed (4xx): ['108c5106-f638-4d9c-8ef2-4b470ed94495', 'bef8179e-9e0c-44a8-8577-cf6e5ce0bd8f', '479ef472-a2c1-4f03-b38d-7e29e4f90227', 'a92cfb02-09cd-4b47-b870-a7aded8aed07', '54e8a840-624d-41cb-91a3-1b978e292565', '32f92434-e5fb-49c1-b4c4-1a454ed699ea', 'f6ce45c7-b5a6-4a3b-b549-91e4a05580a7', 'bbbdda6e-b6d7-41e8-a722-3ed00031a9ba', '7a11b48e-a547-43cc-b907-83ef6ef363d3', '6b072855-8408-4c21-b1a3-5caf4bd22204', '8b3670e5-a6e4-4636-8066-ee54c0a52582', '29989d84-cd33-484f-a46f-b169249bdb14', 'e85f295b-da0f-48c5-8ef8-c25a1921047c', '95c51139-438b-4fd8-a5ce-b80dbcd77db4', 'cc2adb6c-34e8-4258-8634-3213c789854c', 'ffede5fa-f5ce-4f4a-8522-aaa874eed73f', '18597902-9887-42b6-84bd-444887cfa038', '9544b2c9-9abe-4a9b-b106-3db9510363c2', '502250e9-237b-4c87-85a3-ee100601bdba', '1881a55f-b084-4148-a2d1-41638a03bc7f', '8ffedeed-53ea-40d3-8ace-92baf19566ac', '21d6aa38-3157-4647-b286-009685c786d8', '326c4d28-2b7d-4853-bc96-01a2b13cc12b', '29e1422c-5a85-41ba-a941-5255619e5eb2', '973757d9-b5b2-4d25-b965-cc476fc3a576', '7ddac720-a272-4848-aa1f-f7ea571630d3', '5fed1620-fdaa-4c35-a530-a8d506a2bd8e', '2a740f5c-b9c8-4e26-a872-3e9e70bf99eb', 'a9072f9a-f814-45d1-8dbb-308b98ac3474', '36afcdd3-b2e5-4ed0-af47-07ba45f50c4f', 'e942481b-8abe-424d-8852-bbeb9ed53c02', 'ff4b6c85-d9a9-41d3-a006-d14f7d0a6214', '5a51f73f-6818-4001-b91e-655fe6a49eea', '13ed7d32-34cf-40dc-afd5-a285f90cf399', '0dba57ba-c183-4886-a348-9c909dfa4bb7', 'ed37db64-e895-40a4-9e9f-ae9e823a3327', '396b8a5c-5ba6-4107-89b6-88f57d799d8f', '46b2715d-669e-4de4-b73c-184aa811ddaa', '1f904a52-5040-4f8f-9698-7f8cbabf61f3', '36ddc3a4-9c95-4ce3-8027-69405e539086', 'f5e27135-a2ee-433d-b00f-268fa951b4f2', '73b4aa49-232d-4870-a7d8-9e1dd89c84ad', 'd8a5fb0f-5671-40f2-9c23-0edbf3aafdb4', '3b67394a-8d9d-411b-b0a1-0e9eda88ddff', '2d2c6486-a354-4992-a4f9-b48f7068c544', '945a6cd3-ecc8-43f2-9081-9f5e3e3662c8', '624c684e-e729-4e91-b705-7ab578b91b18', 'd6d4ccdc-dadf-4e08-9427-f5e67ff04f54', '769b621a-3f15-49eb-9333-009a399f2f21', 'c985dd32-fbf9-4790-9154-1c66dd0fa3b0', '8795fdc0-d617-475b-aec6-256d92e7b8cd', '067204a9-353d-44e9-ba69-168c230f3544', '6d1c7069-1539-4f9d-a892-5177c7de03a0', 'af55234f-0810-49a6-95e5-641524f718ec', '0feb34a0-ad42-4b95-8f25-56ffebed819a', '5e29b453-4c29-483c-9ca9-321266f6e4aa', '94c4480e-6085-4be1-a9c4-d3b4d62b00be', '8b5a9463-3a83-4b3b-a967-5383aea7b969', '93e9d0ad-7aff-4dfe-8ea7-727addab2d02', 'fe00f01f-fceb-43f9-8d10-7fb653024c64', '000ca4b9-c46a-4a3c-8ade-c82a0249d633', '7809bf4a-7dec-456d-ba8f-489e395b9dfd', 'a75486ad-93b9-4879-9bf3-58de83db695b', '4cb57e47-f0ed-4b3b-9efa-294ec00a3068', '7a7c6d82-680f-4505-8ec9-a98f4515ca9a', '7a692ad6-7f44-44e2-b70d-f7ccdf1da93a', '310b60ad-7b6a-4552-a3cb-57bbb3cc5874', '4a9c75d8-3213-4e6f-9c2c-c8750ecdb4a9', '6ee91d87-ccae-4e24-8447-dbed9e4529e5', '44731c25-e7e6-4b2c-aae5-0d2b495f17f9', '2bcaeaac-9fdc-4c28-9e35-da53a7421f73', '3ee0b618-b7d1-4f54-ae22-e2749944696a', 'a5e5a4d1-bce4-43db-8e71-08f6b377a2f0', 'e2567f5c-237d-4247-918c-cb7e67cea15d', 'b32db00d-33c7-4a32-a5b6-8da6bc21c9e3', 'f43f0292-d3fa-464c-a9bb-93a4decbca2b', '562e670c-9cd6-4fd9-83eb-3ca2e257c3c8', '339e568d-7f96-4c3d-b40f-adc37de748e2', '3c921edc-d86b-4c8a-af7d-83b410f7a2e4', 'ac8611d6-9e69-4938-9ae6-d7578bf88ac2', 'b99437c6-7671-424f-a07a-04a07ca659f2', 'e3ecd31a-72bd-41fc-8977-c3a54f14748d', '1b35469b-11ee-48aa-85c6-218b2c802713', 'c255e852-9bfd-4017-b5fc-6ea8ef48cb3b', '03c494b3-3de6-4aa6-ae8e-84b7b749e729', '22b948c0-7da0-4324-aec3-0f5c9dc9fefd', '2e6caeab-547e-40d4-9875-57197b7816b2', '9d23fe0f-eb42-4782-9107-96a27159c952', 'a3ac5825-8674-48ef-9bdc-ea326c16fdb4', '24a6d2ec-22c3-48c2-a709-eb0648339473', '169eb44e-96be-4bbc-a117-1c664a672f40', '672acbf8-aed3-4174-b8c8-076d13f6263f', 'b93f7511-43a3-423b-ac91-97faec5e1ae5', '78bbec25-03a3-4f4d-bfb5-7e047717d27c', '13ba3237-3c08-4d76-8de1-97d00bc1b72c', '79bd1733-afa5-4b6c-9d2f-e8458f042e7e', '454a1dcf-5017-4a11-9c66-5040f235f526', 'c3084885-5554-4010-b3dd-00322a5baf6f', 'a929ecd6-075a-46bb-a95f-759833bd9a21', 'fca75feb-8587-4311-b102-ab277f7a5860', '485c47ce-d2ac-4b4a-a4a8-c10647e92aee', 'fc354f90-99f1-48c5-b3ee-da917cbd7f1b', '97f352a2-f74f-4df3-87a2-b8e525ba197c', '6fe2a770-70d6-4ca3-85db-76ee5369b1f2', '3130d24c-b528-46de-abe3-4e1e86c4dc90', '4a1f48dd-1094-4e42-846e-935f39c20458', 'd55040f1-9d3e-4046-bda7-58652111064a', 'b7d5f341-88c0-4e27-a42d-2a35fe6dc08f', 'f644521e-fdd0-4021-8f52-ff8cf5e655f9', '2394a3c2-4205-4c72-95c3-c77503dad7b8', 'fa61f002-9b24-4a92-a55e-235e116323da', '57255e52-4858-456b-908d-bda5c99b1b92', '3ed032be-81fd-4743-ac64-9f78958e43c0', 'acd07034-830d-420f-b163-080145aa7844', '11ec48cc-b2d2-43dd-9f43-60f3f8b3b1b4', 'db840b9f-34a7-4049-af38-487c6b0ef283', '3ce8fc96-4d40-4b4e-b826-a6e76dbab681', 'e7a81ba1-0a44-4d7c-90b1-5bb1e5c77f95', '51dd70f1-7ceb-418a-86d2-ae0881b8479c', 'bb479412-b9bf-44c6-a067-58df6ba233c3', 'bf123b1c-fd1a-411b-99d4-17dcdb3e6499', '156fc529-b365-4341-8d7b-c87cb155b50c', 'd8c9a57d-a1de-47cd-b5af-e770eafb1d92', 'a3aff056-a373-40fc-9072-ade83ec9c502', '4bb17080-1fb9-4fd7-bb86-9386b67fb51e', 'fcad7224-c48c-4275-a53a-04b9f8d86cfd', '1fad20b7-b117-409f-a51a-8ed00325e6bb', '8f93e582-bdde-42b8-baa9-cf34b7dc7495', '75abfe50-41b2-4fbf-afee-5a1167487997', 'e52f8099-5077-404e-ab01-e5020ab143a4', '9199d796-9bf6-4fc8-9376-5101d533009a', '5d539221-371a-4c9c-abb6-f88108b98a0d', '35b5ff44-b05e-4979-9af2-94932a750797', '3396be3e-d4dd-4546-b6a2-e73c1036431f', 'e1b02f31-cfab-4b89-a330-2e5548682a19', '56321a6d-07eb-41e1-9a23-94817635d073', '414b7ca8-106e-4a60-8df8-929bd97fcc72', '70cffe6b-05a1-4525-8ee4-c00a91e25bde', 'd4a8df7f-0379-4535-919a-7dad862a7221', '8b4f55f2-bc32-4fef-afb0-fcf4b8744f3b', 'd8cca168-59f4-4f2b-8bee-7d93b4aafd1f', 'a3eee13b-76d0-4521-994a-69aa5ecc122c', '62516725-b6e2-4cdb-957c-23aae67a2a0b', '2446a7e0-bc36-496a-bef5-194490d5ac0f', 'f8791a74-66c1-4ab3-aa95-5ab56644bf13', '7522e53a-7863-480b-8496-443f64faa174', 'c6d4933a-454f-47e4-9c04-cdaaa33b77f4', 'd1ab7af2-71ea-47d0-8629-2ab9fe559ead', '4d46282f-7498-4abb-b328-7082c567287b', '185e08b3-fd2c-4cd9-b988-b0251f7b1de2', 'ce9b7760-734e-4022-ad99-a06523f9139c', '98c25973-a9cc-4670-8348-b5103b22fe2d', 'e908217e-2761-4575-ab9a-3f5774e714c6', '619e99f2-ecc9-491c-bc3b-5c674c18362a', 'df8804fb-5451-4051-b56c-784d31fb1bc3', '108c5106-f638-4d9c-8ef2-4b470ed94495:bef8179e-9e0c-44a8-8577-cf6e5ce0bd8f', '108c5106-f638-4d9c-8ef2-4b470ed94495:479ef472-a2c1-4f03-b38d-7e29e4f90227', '108c5106-f638-4d9c-8ef2-4b470ed94495:a92cfb02-09cd-4b47-b870-a7aded8aed07', '108c5106-f638-4d9c-8ef2-4b470ed94495:54e8a840-624d-41cb-91a3-1b978e292565', '32f92434-e5fb-49c1-b4c4-1a454ed699ea:f6ce45c7-b5a6-4a3b-b549-91e4a05580a7', '32f92434-e5fb-49c1-b4c4-1a454ed699ea:bbbdda6e-b6d7-41e8-a722-3ed00031a9ba', '32f92434-e5fb-49c1-b4c4-1a454ed699ea:7a11b48e-a547-43cc-b907-83ef6ef363d3', '6b072855-8408-4c21-b1a3-5caf4bd22204:8b3670e5-a6e4-4636-8066-ee54c0a52582', '6b072855-8408-4c21-b1a3-5caf4bd22204:29989d84-cd33-484f-a46f-b169249bdb14', '6b072855-8408-4c21-b1a3-5caf4bd22204:e85f295b-da0f-48c5-8ef8-c25a1921047c', '95c51139-438b-4fd8-a5ce-b80dbcd77db4:cc2adb6c-34e8-4258-8634-3213c789854c', '95c51139-438b-4fd8-a5ce-b80dbcd77db4:ffede5fa-f5ce-4f4a-8522-aaa874eed73f', '95c51139-438b-4fd8-a5ce-b80dbcd77db4:18597902-9887-42b6-84bd-444887cfa038', '9544b2c9-9abe-4a9b-b106-3db9510363c2:502250e9-237b-4c87-85a3-ee100601bdba', '9544b2c9-9abe-4a9b-b106-3db9510363c2:1881a55f-b084-4148-a2d1-41638a03bc7f', '9544b2c9-9abe-4a9b-b106-3db9510363c2:8ffedeed-53ea-40d3-8ace-92baf19566ac', '21d6aa38-3157-4647-b286-009685c786d8:326c4d28-2b7d-4853-bc96-01a2b13cc12b', '21d6aa38-3157-4647-b286-009685c786d8:29e1422c-5a85-41ba-a941-5255619e5eb2', '21d6aa38-3157-4647-b286-009685c786d8:973757d9-b5b2-4d25-b965-cc476fc3a576', '21d6aa38-3157-4647-b286-009685c786d8:7ddac720-a272-4848-aa1f-f7ea571630d3', '5fed1620-fdaa-4c35-a530-a8d506a2bd8e:2a740f5c-b9c8-4e26-a872-3e9e70bf99eb', '5fed1620-fdaa-4c35-a530-a8d506a2bd8e:a9072f9a-f814-45d1-8dbb-308b98ac3474', 'e942481b-8abe-424d-8852-bbeb9ed53c02:ff4b6c85-d9a9-41d3-a006-d14f7d0a6214', 'e942481b-8abe-424d-8852-bbeb9ed53c02:5a51f73f-6818-4001-b91e-655fe6a49eea', 'e942481b-8abe-424d-8852-bbeb9ed53c02:13ed7d32-34cf-40dc-afd5-a285f90cf399', '0dba57ba-c183-4886-a348-9c909dfa4bb7:ed37db64-e895-40a4-9e9f-ae9e823a3327', '0dba57ba-c183-4886-a348-9c909dfa4bb7:396b8a5c-5ba6-4107-89b6-88f57d799d8f', '0dba57ba-c183-4886-a348-9c909dfa4bb7:46b2715d-669e-4de4-b73c-184aa811ddaa', '1f904a52-5040-4f8f-9698-7f8cbabf61f3:36ddc3a4-9c95-4ce3-8027-69405e539086', '1f904a52-5040-4f8f-9698-7f8cbabf61f3:f5e27135-a2ee-433d-b00f-268fa951b4f2', '1f904a52-5040-4f8f-9698-7f8cbabf61f3:73b4aa49-232d-4870-a7d8-9e1dd89c84ad', 'd8a5fb0f-5671-40f2-9c23-0edbf3aafdb4:3b67394a-8d9d-411b-b0a1-0e9eda88ddff', 'd8a5fb0f-5671-40f2-9c23-0edbf3aafdb4:2d2c6486-a354-4992-a4f9-b48f7068c544', '945a6cd3-ecc8-43f2-9081-9f5e3e3662c8:624c684e-e729-4e91-b705-7ab578b91b18', '945a6cd3-ecc8-43f2-9081-9f5e3e3662c8:d6d4ccdc-dadf-4e08-9427-f5e67ff04f54', '945a6cd3-ecc8-43f2-9081-9f5e3e3662c8:769b621a-3f15-49eb-9333-009a399f2f21', '067204a9-353d-44e9-ba69-168c230f3544:6d1c7069-1539-4f9d-a892-5177c7de03a0', '067204a9-353d-44e9-ba69-168c230f3544:af55234f-0810-49a6-95e5-641524f718ec', '067204a9-353d-44e9-ba69-168c230f3544:0feb34a0-ad42-4b95-8f25-56ffebed819a', '067204a9-353d-44e9-ba69-168c230f3544:5e29b453-4c29-483c-9ca9-321266f6e4aa', '94c4480e-6085-4be1-a9c4-d3b4d62b00be:8b5a9463-3a83-4b3b-a967-5383aea7b969', '94c4480e-6085-4be1-a9c4-d3b4d62b00be:93e9d0ad-7aff-4dfe-8ea7-727addab2d02', '94c4480e-6085-4be1-a9c4-d3b4d62b00be:fe00f01f-fceb-43f9-8d10-7fb653024c64', '94c4480e-6085-4be1-a9c4-d3b4d62b00be:000ca4b9-c46a-4a3c-8ade-c82a0249d633', '7809bf4a-7dec-456d-ba8f-489e395b9dfd:a75486ad-93b9-4879-9bf3-58de83db695b', '7809bf4a-7dec-456d-ba8f-489e395b9dfd:4cb57e47-f0ed-4b3b-9efa-294ec00a3068', '7809bf4a-7dec-456d-ba8f-489e395b9dfd:7a7c6d82-680f-4505-8ec9-a98f4515ca9a', '7a692ad6-7f44-44e2-b70d-f7ccdf1da93a:310b60ad-7b6a-4552-a3cb-57bbb3cc5874', '4a9c75d8-3213-4e6f-9c2c-c8750ecdb4a9:6ee91d87-ccae-4e24-8447-dbed9e4529e5', '4a9c75d8-3213-4e6f-9c2c-c8750ecdb4a9:44731c25-e7e6-4b2c-aae5-0d2b495f17f9', '4a9c75d8-3213-4e6f-9c2c-c8750ecdb4a9:2bcaeaac-9fdc-4c28-9e35-da53a7421f73', '3ee0b618-b7d1-4f54-ae22-e2749944696a:a5e5a4d1-bce4-43db-8e71-08f6b377a2f0', '3ee0b618-b7d1-4f54-ae22-e2749944696a:e2567f5c-237d-4247-918c-cb7e67cea15d', '3ee0b618-b7d1-4f54-ae22-e2749944696a:b32db00d-33c7-4a32-a5b6-8da6bc21c9e3', '3ee0b618-b7d1-4f54-ae22-e2749944696a:f43f0292-d3fa-464c-a9bb-93a4decbca2b', '562e670c-9cd6-4fd9-83eb-3ca2e257c3c8:339e568d-7f96-4c3d-b40f-adc37de748e2', '562e670c-9cd6-4fd9-83eb-3ca2e257c3c8:3c921edc-d86b-4c8a-af7d-83b410f7a2e4', '562e670c-9cd6-4fd9-83eb-3ca2e257c3c8:ac8611d6-9e69-4938-9ae6-d7578bf88ac2', 'b99437c6-7671-424f-a07a-04a07ca659f2:e3ecd31a-72bd-41fc-8977-c3a54f14748d', '1b35469b-11ee-48aa-85c6-218b2c802713:c255e852-9bfd-4017-b5fc-6ea8ef48cb3b', '1b35469b-11ee-48aa-85c6-218b2c802713:03c494b3-3de6-4aa6-ae8e-84b7b749e729', '1b35469b-11ee-48aa-85c6-218b2c802713:22b948c0-7da0-4324-aec3-0f5c9dc9fefd', '2e6caeab-547e-40d4-9875-57197b7816b2:9d23fe0f-eb42-4782-9107-96a27159c952', '2e6caeab-547e-40d4-9875-57197b7816b2:a3ac5825-8674-48ef-9bdc-ea326c16fdb4', '24a6d2ec-22c3-48c2-a709-eb0648339473:169eb44e-96be-4bbc-a117-1c664a672f40', '24a6d2ec-22c3-48c2-a709-eb0648339473:672acbf8-aed3-4174-b8c8-076d13f6263f', '24a6d2ec-22c3-48c2-a709-eb0648339473:b93f7511-43a3-423b-ac91-97faec5e1ae5', '78bbec25-03a3-4f4d-bfb5-7e047717d27c:13ba3237-3c08-4d76-8de1-97d00bc1b72c', '78bbec25-03a3-4f4d-bfb5-7e047717d27c:79bd1733-afa5-4b6c-9d2f-e8458f042e7e', '454a1dcf-5017-4a11-9c66-5040f235f526:c3084885-5554-4010-b3dd-00322a5baf6f', '454a1dcf-5017-4a11-9c66-5040f235f526:a929ecd6-075a-46bb-a95f-759833bd9a21', '454a1dcf-5017-4a11-9c66-5040f235f526:fca75feb-8587-4311-b102-ab277f7a5860', '485c47ce-d2ac-4b4a-a4a8-c10647e92aee:fc354f90-99f1-48c5-b3ee-da917cbd7f1b', '6fe2a770-70d6-4ca3-85db-76ee5369b1f2:3130d24c-b528-46de-abe3-4e1e86c4dc90', '6fe2a770-70d6-4ca3-85db-76ee5369b1f2:4a1f48dd-1094-4e42-846e-935f39c20458', '6fe2a770-70d6-4ca3-85db-76ee5369b1f2:d55040f1-9d3e-4046-bda7-58652111064a', 'b7d5f341-88c0-4e27-a42d-2a35fe6dc08f:f644521e-fdd0-4021-8f52-ff8cf5e655f9', 'b7d5f341-88c0-4e27-a42d-2a35fe6dc08f:2394a3c2-4205-4c72-95c3-c77503dad7b8', 'fa61f002-9b24-4a92-a55e-235e116323da:57255e52-4858-456b-908d-bda5c99b1b92', 'acd07034-830d-420f-b163-080145aa7844:11ec48cc-b2d2-43dd-9f43-60f3f8b3b1b4', 'db840b9f-34a7-4049-af38-487c6b0ef283:3ce8fc96-4d40-4b4e-b826-a6e76dbab681', 'db840b9f-34a7-4049-af38-487c6b0ef283:e7a81ba1-0a44-4d7c-90b1-5bb1e5c77f95', 'bb479412-b9bf-44c6-a067-58df6ba233c3:bf123b1c-fd1a-411b-99d4-17dcdb3e6499', 'bb479412-b9bf-44c6-a067-58df6ba233c3:156fc529-b365-4341-8d7b-c87cb155b50c', 'bb479412-b9bf-44c6-a067-58df6ba233c3:d8c9a57d-a1de-47cd-b5af-e770eafb1d92', 'bb479412-b9bf-44c6-a067-58df6ba233c3:a3aff056-a373-40fc-9072-ade83ec9c502', '1fad20b7-b117-409f-a51a-8ed00325e6bb:8f93e582-bdde-42b8-baa9-cf34b7dc7495', '1fad20b7-b117-409f-a51a-8ed00325e6bb:75abfe50-41b2-4fbf-afee-5a1167487997', '1fad20b7-b117-409f-a51a-8ed00325e6bb:e52f8099-5077-404e-ab01-e5020ab143a4', '9199d796-9bf6-4fc8-9376-5101d533009a:5d539221-371a-4c9c-abb6-f88108b98a0d', '9199d796-9bf6-4fc8-9376-5101d533009a:35b5ff44-b05e-4979-9af2-94932a750797', '9199d796-9bf6-4fc8-9376-5101d533009a:3396be3e-d4dd-4546-b6a2-e73c1036431f', '9199d796-9bf6-4fc8-9376-5101d533009a:e1b02f31-cfab-4b89-a330-2e5548682a19', '414b7ca8-106e-4a60-8df8-929bd97fcc72:70cffe6b-05a1-4525-8ee4-c00a91e25bde', '414b7ca8-106e-4a60-8df8-929bd97fcc72:d4a8df7f-0379-4535-919a-7dad862a7221', 'd8cca168-59f4-4f2b-8bee-7d93b4aafd1f:a3eee13b-76d0-4521-994a-69aa5ecc122c', 'd8cca168-59f4-4f2b-8bee-7d93b4aafd1f:62516725-b6e2-4cdb-957c-23aae67a2a0b', 'd8cca168-59f4-4f2b-8bee-7d93b4aafd1f:2446a7e0-bc36-496a-bef5-194490d5ac0f', '7522e53a-7863-480b-8496-443f64faa174:c6d4933a-454f-47e4-9c04-cdaaa33b77f4', '7522e53a-7863-480b-8496-443f64faa174:d1ab7af2-71ea-47d0-8629-2ab9fe559ead', '7522e53a-7863-480b-8496-443f64faa174:4d46282f-7498-4abb-b328-7082c567287b', '185e08b3-fd2c-4cd9-b988-b0251f7b1de2:ce9b7760-734e-4022-ad99-a06523f9139c', '185e08b3-fd2c-4cd9-b988-b0251f7b1de2:98c25973-a9cc-4670-8348-b5103b22fe2d', 'e908217e-2761-4575-ab9a-3f5774e714c6:619e99f2-ecc9-491c-bc3b-5c674c18362a', 'e908217e-2761-4575-ab9a-3f5774e714c6:df8804fb-5451-4051-b56c-784d31fb1bc3']"
     ]
    }
   ],
   "source": [
    "results = destination.template.apply(destination_templates)"
   ]
  },
  {
   "cell_type": "markdown",
   "metadata": {},
   "source": [
    "Note that it is not necessary to do a call to `destination.template_items.apply(...)` as the above call iterates recursively through all linked objects and finds the nodes and edges.\n",
    "\n",
    "We can verify that the data has been uploaded correctly by calling the `.list()` method on the destination client."
   ]
  },
  {
   "cell_type": "code",
   "execution_count": 45,
   "metadata": {},
   "outputs": [
    {
     "data": {
      "text/html": [
       "<div>\n",
       "<style scoped>\n",
       "    .dataframe tbody tr th:only-of-type {\n",
       "        vertical-align: middle;\n",
       "    }\n",
       "\n",
       "    .dataframe tbody tr th {\n",
       "        vertical-align: top;\n",
       "    }\n",
       "\n",
       "    .dataframe thead th {\n",
       "        text-align: right;\n",
       "    }\n",
       "</style>\n",
       "<table border=\"1\" class=\"dataframe\">\n",
       "  <thead>\n",
       "    <tr style=\"text-align: right;\">\n",
       "      <th></th>\n",
       "      <th>external_id</th>\n",
       "      <th>title</th>\n",
       "      <th>description</th>\n",
       "      <th>labels</th>\n",
       "      <th>visibility</th>\n",
       "      <th>created_by</th>\n",
       "      <th>updated_by</th>\n",
       "      <th>is_archived</th>\n",
       "      <th>status</th>\n",
       "      <th>root_location</th>\n",
       "      <th>assigned_to</th>\n",
       "      <th>template_items</th>\n",
       "      <th>space</th>\n",
       "      <th>version</th>\n",
       "      <th>last_updated_time</th>\n",
       "      <th>created_time</th>\n",
       "      <th>deleted_time</th>\n",
       "    </tr>\n",
       "  </thead>\n",
       "  <tbody>\n",
       "  </tbody>\n",
       "</table>\n",
       "</div>"
      ],
      "text/plain": [
       "TemplateList([])"
      ]
     },
     "execution_count": 45,
     "metadata": {},
     "output_type": "execute_result"
    }
   ],
   "source": [
    "destination.template.list()"
   ]
  },
  {
   "cell_type": "code",
   "execution_count": null,
   "metadata": {},
   "outputs": [],
   "source": []
  }
 ],
 "metadata": {
  "kernelspec": {
   "display_name": "Python 3 (ipykernel)",
   "language": "python",
   "name": "python3"
  },
  "language_info": {
   "codemirror_mode": {
    "name": "ipython",
    "version": 3
   },
   "file_extension": ".py",
   "mimetype": "text/x-python",
   "name": "python",
   "nbconvert_exporter": "python",
   "pygments_lexer": "ipython3",
   "version": "3.9.13"
  }
 },
 "nbformat": 4,
 "nbformat_minor": 4
}
