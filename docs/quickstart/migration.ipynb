{
 "cells": [
  {
   "cell_type": "markdown",
   "metadata": {
    "editable": true,
    "slideshow": {
     "slide_type": ""
    },
    "tags": []
   },
   "source": [
    "# Data Migration\n",
    "**Prerequisites**\n",
    "- Access to a CDF Project.\n",
    "- Know how to use a terminal, so you can run `pygen` from the command line to \n",
    "  generate the SDK.\n",
    "- Knowledge of your the data and data models."
   ]
  },
  {
   "cell_type": "code",
   "execution_count": 1,
   "metadata": {
    "editable": true,
    "slideshow": {
     "slide_type": ""
    },
    "tags": [
     "hide"
    ]
   },
   "outputs": [],
   "source": [
    "import warnings\n",
    "\n",
    "warnings.filterwarnings(\"ignore\")\n",
    "# This is just to enable improting the generated SDK from the examples folder in the pygen repository\n",
    "import sys  # noqa: E402\n",
    "\n",
    "from tests.constants import REPO_ROOT  # noqa: E402\n",
    "\n",
    "sys.path.append(str(REPO_ROOT / \"examples\"))"
   ]
  },
  {
   "cell_type": "markdown",
   "metadata": {
    "editable": true,
    "slideshow": {
     "slide_type": ""
    },
    "tags": []
   },
   "source": [
    "## Introduction to Problem"
   ]
  },
  {
   "attachments": {},
   "cell_type": "markdown",
   "metadata": {
    "editable": true,
    "slideshow": {
     "slide_type": ""
    },
    "tags": []
   },
   "source": [
    "In the development of a solution, it is common that you move from one data model to another. Typically, the physicaly storage of data, the containers, stays the same, or are extended, \n",
    "and only the views of a data model change. In this case, there is no need for a data migration and all you do is update the solution code for the new model. \n",
    "\n",
    "If you, however, need to change how the data is stored in the containers, you need to move the data from one model to the other. A common to do this is to use CDF Transformations. An alternative\n",
    "ways is to use `pygen` for data migration.\n",
    "\n",
    "#### Advantage of CDF Transformations\n",
    "* Can handle large volume of data, millions of instances.\n",
    "* You can write the transformations in the UI using SQL.\n",
    "\n",
    "\n",
    "#### Advantages of using `pygen` \n",
    "* Edges are automatically created.\n",
    "* Can handle medium volume of data, hundreds of thousands of instances.\n",
    "* Support doing very custom migration (what ever you can do in Python code).\n",
    "\n",
    "**Why** would you **chose `pygen`** over **CDF Transformations**? If you are more comfortable with `Python` than writing `SQL`, you have data models with a of one-to-many edges, the number of nodes and edges (instances) is in the order of hundreds of thousands.\n",
    "\n",
    "\n"
   ]
  },
  {
   "attachments": {},
   "cell_type": "markdown",
   "metadata": {
    "editable": true,
    "slideshow": {
     "slide_type": ""
    },
    "tags": []
   },
   "source": [
    "## Use Case"
   ]
  },
  {
   "cell_type": "markdown",
   "metadata": {},
   "source": [
    "The use case we use in this guide is moving from one Asset Performance Model to another. \n",
    "\n",
    "We wil refer to the model we are moving away from as the **source** model and\n",
    "the model we are moving to as the **destination** model.\n",
    "\n",
    "**Source Model**\n",
    "\n",
    "\n",
    "<img src=\"images/source_model.png\" width=\"400\">"
   ]
  },
  {
   "attachments": {},
   "cell_type": "markdown",
   "metadata": {},
   "source": [
    "**Destination Model**:\n",
    "\n",
    "\n",
    "<img src=\"images/destination_model.png\" width=\"400\">"
   ]
  },
  {
   "cell_type": "markdown",
   "metadata": {},
   "source": [
    "As we see in the illustrations above (click to enlarge), we have many more edges in the destination than the source model, \n",
    "whiche means this is a good use case for using `pygen` for the data migration."
   ]
  },
  {
   "cell_type": "markdown",
   "metadata": {},
   "source": [
    "In this guide, we will not do the entire migration, but instead focus on the `APM_Template` to `Template` migration."
   ]
  },
  {
   "cell_type": "markdown",
   "metadata": {},
   "source": [
    "## Generating SDKs"
   ]
  },
  {
   "cell_type": "markdown",
   "metadata": {},
   "source": [
    "For demo purposes we will generate the SDKs in this notebook, however, depending on your use case it might be useful to use the `pygen` CLI to generate the SDKs.\n",
    "\n",
    "Migration scrips are often a one of, meaning you are not expected to regenerat the SDK as the model changes, thus if you generate it locally, you can do changes\n",
    "to the generated code as you are not expecting this to change later. This can be useful if you want to do some customization to the generated code.\n",
    "\n",
    "Note that we have set up a `config.toml` with credentials to connect to CDF."
   ]
  },
  {
   "cell_type": "code",
   "execution_count": 2,
   "metadata": {},
   "outputs": [],
   "source": [
    "from cognite.pygen import generate_sdk_notebook, load_cognite_client_from_toml"
   ]
  },
  {
   "cell_type": "code",
   "execution_count": 2,
   "metadata": {},
   "outputs": [],
   "source": [
    "client = load_cognite_client_from_toml(\"config.toml\")"
   ]
  },
  {
   "cell_type": "code",
   "execution_count": 3,
   "metadata": {},
   "outputs": [
    {
     "name": "stdout",
     "output_type": "stream",
     "text": [
      "Successfully retrieved data model(s) ('APM_AppData_4', 'APM_AppData_4', '7')\n",
      "Writing SDK to C:\\Users\\ANDERS~1\\AppData\\Local\\Temp\\pygen\n",
      "Done!\n",
      "Added C:\\Users\\ANDERS~1\\AppData\\Local\\Temp\\pygen to sys.path to enable import\n",
      "Imported apm_app_data_4.client\n"
     ]
    }
   ],
   "source": [
    "source = generate_sdk_notebook((\"APM_AppData_4\", \"APM_AppData_4\", \"7\"), client)"
   ]
  },
  {
   "cell_type": "code",
   "execution_count": 4,
   "metadata": {},
   "outputs": [
    {
     "name": "stdout",
     "output_type": "stream",
     "text": [
      "Successfully retrieved data model(s) ('IntegrationTestsImmutable', 'ApmAppData', 'v3')\n",
      "Writing SDK to C:\\Users\\ANDERS~1\\AppData\\Local\\Temp\\pygen\n",
      "Done!\n",
      "C:\\Users\\ANDERS~1\\AppData\\Local\\Temp\\pygen already in sys.path\n",
      "Imported apm_app_data.client\n"
     ]
    }
   ],
   "source": [
    "destination = generate_sdk_notebook((\"IntegrationTestsImmutable\", \"ApmAppData\", \"v3\"), client)"
   ]
  },
  {
   "cell_type": "markdown",
   "metadata": {},
   "source": [
    "## Retrieving Data"
   ]
  },
  {
   "cell_type": "markdown",
   "metadata": {},
   "source": [
    "It is common to store the nodes and edges, i.e., instances, in a differen space than the data model. To only get instances from an instance space, `sourceSpace`, \n",
    "we filter for it. In addition, it important that we retrieve all edges so we can connect the `templates` with the `templates_items`."
   ]
  },
  {
   "cell_type": "code",
   "execution_count": 5,
   "metadata": {},
   "outputs": [],
   "source": [
    "templates = source.apm_template.list(space=\"sourceSpace\", retrieve_edges=True, limit=-1)\n",
    "template_items = source.apm_template_item.list(space=\"sourceSpace\", limit=-1)"
   ]
  },
  {
   "cell_type": "code",
   "execution_count": 6,
   "metadata": {},
   "outputs": [
    {
     "data": {
      "text/plain": [
       "(50, 105)"
      ]
     },
     "execution_count": 6,
     "metadata": {},
     "output_type": "execute_result"
    }
   ],
   "source": [
    "len(templates), len(template_items)"
   ]
  },
  {
   "cell_type": "markdown",
   "metadata": {},
   "source": [
    "## Converting the Data"
   ]
  },
  {
   "cell_type": "markdown",
   "metadata": {},
   "source": [
    "We do the conversion in in the following steps\n",
    "\n",
    "1. We show some of the data of the source templates. This is usefult to have as a reference when writing the transformation code\n",
    "2. We put the `APMTemplateItem`s into a dictionary, `template_items_by_external_id` so we can easily reference it.\n",
    "3. We include a few other dictionaries, `visiblity_by_item_external_id`, `schedules_by_item_external_id`, `measurements_by_external_id`, and `visiblity_by_external_id`.\n",
    "   This is to show how we can include data from different sources. \n",
    "5. We iterate through all the `APMTemplates` and do the transformation for each `template_item`(s)s and `template`\n"
   ]
  },
  {
   "cell_type": "code",
   "execution_count": 7,
   "metadata": {},
   "outputs": [],
   "source": [
    "# Importing the new destination data classes\n",
    "from apm_app_data.data_classes import TemplateItemWrite, TemplateWrite, TemplateWriteList"
   ]
  },
  {
   "cell_type": "code",
   "execution_count": 8,
   "metadata": {},
   "outputs": [
    {
     "data": {
      "text/html": [
       "<div>\n",
       "<style scoped>\n",
       "    .dataframe tbody tr th:only-of-type {\n",
       "        vertical-align: middle;\n",
       "    }\n",
       "\n",
       "    .dataframe tbody tr th {\n",
       "        vertical-align: top;\n",
       "    }\n",
       "\n",
       "    .dataframe thead th {\n",
       "        text-align: right;\n",
       "    }\n",
       "</style>\n",
       "<table border=\"1\" class=\"dataframe\">\n",
       "  <thead>\n",
       "    <tr style=\"text-align: right;\">\n",
       "      <th></th>\n",
       "      <th>external_id</th>\n",
       "      <th>assigned_to</th>\n",
       "      <th>created_by_external_id</th>\n",
       "      <th>is_archived</th>\n",
       "      <th>root_location_external_id</th>\n",
       "      <th>status</th>\n",
       "      <th>title</th>\n",
       "      <th>updated_by_external_id</th>\n",
       "      <th>template_items</th>\n",
       "      <th>space</th>\n",
       "      <th>version</th>\n",
       "      <th>last_updated_time</th>\n",
       "      <th>created_time</th>\n",
       "      <th>deleted_time</th>\n",
       "    </tr>\n",
       "  </thead>\n",
       "  <tbody>\n",
       "    <tr>\n",
       "      <th>0</th>\n",
       "      <td>108c5106-f638-4d9c-8ef2-4b470ed94495</td>\n",
       "      <td>None</td>\n",
       "      <td>80d32fb4-bcbc-44ae-abed-fee53b148d82</td>\n",
       "      <td>False</td>\n",
       "      <td>31d9f834-a1ab-452a-b2a5-875f0e9f384a</td>\n",
       "      <td>OnHold</td>\n",
       "      <td>good</td>\n",
       "      <td>f1e7d13d-3fd2-42e4-bebc-68ad2aa905eb</td>\n",
       "      <td>[bef8179e-9e0c-44a8-8577-cf6e5ce0bd8f, 479ef47...</td>\n",
       "      <td>sourceSpace</td>\n",
       "      <td>1</td>\n",
       "      <td>2023-11-05 10:53:03.351000+00:00</td>\n",
       "      <td>2023-11-05 10:53:03.351000+00:00</td>\n",
       "      <td>None</td>\n",
       "    </tr>\n",
       "    <tr>\n",
       "      <th>1</th>\n",
       "      <td>32f92434-e5fb-49c1-b4c4-1a454ed699ea</td>\n",
       "      <td>None</td>\n",
       "      <td>6dbb225f-5059-4ff2-9543-7ab400e235e9</td>\n",
       "      <td>False</td>\n",
       "      <td>dac4077b-61d6-445c-a4f4-f6f3247125ab</td>\n",
       "      <td>OnHold</td>\n",
       "      <td>three</td>\n",
       "      <td>df561fd7-dad6-484e-95f7-ae967fb00ed3</td>\n",
       "      <td>[f6ce45c7-b5a6-4a3b-b549-91e4a05580a7, bbbdda6...</td>\n",
       "      <td>sourceSpace</td>\n",
       "      <td>1</td>\n",
       "      <td>2023-11-05 10:53:03.351000+00:00</td>\n",
       "      <td>2023-11-05 10:53:03.351000+00:00</td>\n",
       "      <td>None</td>\n",
       "    </tr>\n",
       "    <tr>\n",
       "      <th>2</th>\n",
       "      <td>6b072855-8408-4c21-b1a3-5caf4bd22204</td>\n",
       "      <td>None</td>\n",
       "      <td>863a0cd1-f55e-4529-ac50-34090596a279</td>\n",
       "      <td>True</td>\n",
       "      <td>1b582c43-bc07-4ab7-959e-cf7e434711a0</td>\n",
       "      <td>Completed</td>\n",
       "      <td>also</td>\n",
       "      <td>37d17cd1-2bbe-416a-b7b1-111e44c64b36</td>\n",
       "      <td>[8b3670e5-a6e4-4636-8066-ee54c0a52582, 29989d8...</td>\n",
       "      <td>sourceSpace</td>\n",
       "      <td>1</td>\n",
       "      <td>2023-11-05 10:53:03.351000+00:00</td>\n",
       "      <td>2023-11-05 10:53:03.351000+00:00</td>\n",
       "      <td>None</td>\n",
       "    </tr>\n",
       "    <tr>\n",
       "      <th>3</th>\n",
       "      <td>95c51139-438b-4fd8-a5ce-b80dbcd77db4</td>\n",
       "      <td>None</td>\n",
       "      <td>ac5c7d3f-564b-44d2-bdc6-6eaf23b075ce</td>\n",
       "      <td>True</td>\n",
       "      <td>1b582c43-bc07-4ab7-959e-cf7e434711a0</td>\n",
       "      <td>Completed</td>\n",
       "      <td>likely</td>\n",
       "      <td>caba29e9-fa98-438d-b5b7-6d43677764d3</td>\n",
       "      <td>[cc2adb6c-34e8-4258-8634-3213c789854c, ffede5f...</td>\n",
       "      <td>sourceSpace</td>\n",
       "      <td>1</td>\n",
       "      <td>2023-11-05 10:53:03.351000+00:00</td>\n",
       "      <td>2023-11-05 10:53:03.351000+00:00</td>\n",
       "      <td>None</td>\n",
       "    </tr>\n",
       "    <tr>\n",
       "      <th>4</th>\n",
       "      <td>9544b2c9-9abe-4a9b-b106-3db9510363c2</td>\n",
       "      <td>None</td>\n",
       "      <td>b3fd00cb-8b06-4365-aac5-b0fcf6f8044c</td>\n",
       "      <td>True</td>\n",
       "      <td>41ad2ff1-88b6-4c45-9bfd-a76d0c0ba9c6</td>\n",
       "      <td>Cancelled</td>\n",
       "      <td>thing</td>\n",
       "      <td>ac5c7d3f-564b-44d2-bdc6-6eaf23b075ce</td>\n",
       "      <td>[502250e9-237b-4c87-85a3-ee100601bdba, 1881a55...</td>\n",
       "      <td>sourceSpace</td>\n",
       "      <td>1</td>\n",
       "      <td>2023-11-05 10:53:03.351000+00:00</td>\n",
       "      <td>2023-11-05 10:53:03.351000+00:00</td>\n",
       "      <td>None</td>\n",
       "    </tr>\n",
       "  </tbody>\n",
       "</table>\n",
       "</div>"
      ],
      "text/plain": [
       "                            external_id assigned_to  \\\n",
       "0  108c5106-f638-4d9c-8ef2-4b470ed94495        None   \n",
       "1  32f92434-e5fb-49c1-b4c4-1a454ed699ea        None   \n",
       "2  6b072855-8408-4c21-b1a3-5caf4bd22204        None   \n",
       "3  95c51139-438b-4fd8-a5ce-b80dbcd77db4        None   \n",
       "4  9544b2c9-9abe-4a9b-b106-3db9510363c2        None   \n",
       "\n",
       "                 created_by_external_id  is_archived  \\\n",
       "0  80d32fb4-bcbc-44ae-abed-fee53b148d82        False   \n",
       "1  6dbb225f-5059-4ff2-9543-7ab400e235e9        False   \n",
       "2  863a0cd1-f55e-4529-ac50-34090596a279         True   \n",
       "3  ac5c7d3f-564b-44d2-bdc6-6eaf23b075ce         True   \n",
       "4  b3fd00cb-8b06-4365-aac5-b0fcf6f8044c         True   \n",
       "\n",
       "              root_location_external_id     status   title  \\\n",
       "0  31d9f834-a1ab-452a-b2a5-875f0e9f384a     OnHold    good   \n",
       "1  dac4077b-61d6-445c-a4f4-f6f3247125ab     OnHold   three   \n",
       "2  1b582c43-bc07-4ab7-959e-cf7e434711a0  Completed    also   \n",
       "3  1b582c43-bc07-4ab7-959e-cf7e434711a0  Completed  likely   \n",
       "4  41ad2ff1-88b6-4c45-9bfd-a76d0c0ba9c6  Cancelled   thing   \n",
       "\n",
       "                 updated_by_external_id  \\\n",
       "0  f1e7d13d-3fd2-42e4-bebc-68ad2aa905eb   \n",
       "1  df561fd7-dad6-484e-95f7-ae967fb00ed3   \n",
       "2  37d17cd1-2bbe-416a-b7b1-111e44c64b36   \n",
       "3  caba29e9-fa98-438d-b5b7-6d43677764d3   \n",
       "4  ac5c7d3f-564b-44d2-bdc6-6eaf23b075ce   \n",
       "\n",
       "                                      template_items        space  version  \\\n",
       "0  [bef8179e-9e0c-44a8-8577-cf6e5ce0bd8f, 479ef47...  sourceSpace        1   \n",
       "1  [f6ce45c7-b5a6-4a3b-b549-91e4a05580a7, bbbdda6...  sourceSpace        1   \n",
       "2  [8b3670e5-a6e4-4636-8066-ee54c0a52582, 29989d8...  sourceSpace        1   \n",
       "3  [cc2adb6c-34e8-4258-8634-3213c789854c, ffede5f...  sourceSpace        1   \n",
       "4  [502250e9-237b-4c87-85a3-ee100601bdba, 1881a55...  sourceSpace        1   \n",
       "\n",
       "                 last_updated_time                     created_time  \\\n",
       "0 2023-11-05 10:53:03.351000+00:00 2023-11-05 10:53:03.351000+00:00   \n",
       "1 2023-11-05 10:53:03.351000+00:00 2023-11-05 10:53:03.351000+00:00   \n",
       "2 2023-11-05 10:53:03.351000+00:00 2023-11-05 10:53:03.351000+00:00   \n",
       "3 2023-11-05 10:53:03.351000+00:00 2023-11-05 10:53:03.351000+00:00   \n",
       "4 2023-11-05 10:53:03.351000+00:00 2023-11-05 10:53:03.351000+00:00   \n",
       "\n",
       "  deleted_time  \n",
       "0         None  \n",
       "1         None  \n",
       "2         None  \n",
       "3         None  \n",
       "4         None  "
      ]
     },
     "execution_count": 8,
     "metadata": {},
     "output_type": "execute_result"
    }
   ],
   "source": [
    "templates.to_pandas().head(5)"
   ]
  },
  {
   "cell_type": "code",
   "execution_count": 9,
   "metadata": {},
   "outputs": [
    {
     "data": {
      "text/html": [
       "<div>\n",
       "<style scoped>\n",
       "    .dataframe tbody tr th:only-of-type {\n",
       "        vertical-align: middle;\n",
       "    }\n",
       "\n",
       "    .dataframe tbody tr th {\n",
       "        vertical-align: top;\n",
       "    }\n",
       "\n",
       "    .dataframe thead th {\n",
       "        text-align: right;\n",
       "    }\n",
       "</style>\n",
       "<table border=\"1\" class=\"dataframe\">\n",
       "  <thead>\n",
       "    <tr style=\"text-align: right;\">\n",
       "      <th></th>\n",
       "      <th>external_id</th>\n",
       "      <th>asset_external_id</th>\n",
       "      <th>created_by_external_id</th>\n",
       "      <th>labels</th>\n",
       "      <th>order</th>\n",
       "      <th>template_external_id</th>\n",
       "      <th>title</th>\n",
       "      <th>updated_by_external_id</th>\n",
       "      <th>space</th>\n",
       "      <th>version</th>\n",
       "      <th>last_updated_time</th>\n",
       "      <th>created_time</th>\n",
       "      <th>deleted_time</th>\n",
       "    </tr>\n",
       "  </thead>\n",
       "  <tbody>\n",
       "    <tr>\n",
       "      <th>68</th>\n",
       "      <td>79bd1733-afa5-4b6c-9d2f-e8458f042e7e</td>\n",
       "      <td>d810d514-7fbf-4e2d-a8f8-cfc4770b4539</td>\n",
       "      <td>09e50d8e-9fe8-4340-916a-349e722eaf73</td>\n",
       "      <td>[#f495e3, #7fe0a9, #dd6388]</td>\n",
       "      <td>9134</td>\n",
       "      <td>78bbec25-03a3-4f4d-bfb5-7e047717d27c</td>\n",
       "      <td>car</td>\n",
       "      <td>None</td>\n",
       "      <td>sourceSpace</td>\n",
       "      <td>1</td>\n",
       "      <td>2023-11-05 10:53:03.351000+00:00</td>\n",
       "      <td>2023-11-05 10:53:03.351000+00:00</td>\n",
       "      <td>None</td>\n",
       "    </tr>\n",
       "    <tr>\n",
       "      <th>83</th>\n",
       "      <td>156fc529-b365-4341-8d7b-c87cb155b50c</td>\n",
       "      <td>72786d8a-bbb4-4e83-8cf0-bca2fc3ed796</td>\n",
       "      <td>8a717d87-09c0-4b1c-abdb-721e1ff5dfa5</td>\n",
       "      <td>[]</td>\n",
       "      <td>4868</td>\n",
       "      <td>bb479412-b9bf-44c6-a067-58df6ba233c3</td>\n",
       "      <td>decision</td>\n",
       "      <td>None</td>\n",
       "      <td>sourceSpace</td>\n",
       "      <td>1</td>\n",
       "      <td>2023-11-05 10:53:03.351000+00:00</td>\n",
       "      <td>2023-11-05 10:53:03.351000+00:00</td>\n",
       "      <td>None</td>\n",
       "    </tr>\n",
       "    <tr>\n",
       "      <th>79</th>\n",
       "      <td>11ec48cc-b2d2-43dd-9f43-60f3f8b3b1b4</td>\n",
       "      <td>d810d514-7fbf-4e2d-a8f8-cfc4770b4539</td>\n",
       "      <td>bb5f75ed-e6ce-4269-ad5c-3ef4da6598b0</td>\n",
       "      <td>[#dd6388]</td>\n",
       "      <td>5920</td>\n",
       "      <td>acd07034-830d-420f-b163-080145aa7844</td>\n",
       "      <td>hard</td>\n",
       "      <td>None</td>\n",
       "      <td>sourceSpace</td>\n",
       "      <td>1</td>\n",
       "      <td>2023-11-05 10:53:03.351000+00:00</td>\n",
       "      <td>2023-11-05 10:53:03.351000+00:00</td>\n",
       "      <td>None</td>\n",
       "    </tr>\n",
       "    <tr>\n",
       "      <th>0</th>\n",
       "      <td>bef8179e-9e0c-44a8-8577-cf6e5ce0bd8f</td>\n",
       "      <td>4dc95bc8-49e8-4ee8-a5f5-c7aa47f139de</td>\n",
       "      <td>3caa43df-2fc3-4bba-b267-6e57c2ab826a</td>\n",
       "      <td>[#f495e3, #8516fc]</td>\n",
       "      <td>4071</td>\n",
       "      <td>108c5106-f638-4d9c-8ef2-4b470ed94495</td>\n",
       "      <td>half</td>\n",
       "      <td>None</td>\n",
       "      <td>sourceSpace</td>\n",
       "      <td>1</td>\n",
       "      <td>2023-11-05 10:53:03.351000+00:00</td>\n",
       "      <td>2023-11-05 10:53:03.351000+00:00</td>\n",
       "      <td>None</td>\n",
       "    </tr>\n",
       "    <tr>\n",
       "      <th>2</th>\n",
       "      <td>a92cfb02-09cd-4b47-b870-a7aded8aed07</td>\n",
       "      <td>72786d8a-bbb4-4e83-8cf0-bca2fc3ed796</td>\n",
       "      <td>2b0f4e82-f515-42ee-9545-03e08799c7c7</td>\n",
       "      <td>[#7fe0a9, #dd6388]</td>\n",
       "      <td>5920</td>\n",
       "      <td>108c5106-f638-4d9c-8ef2-4b470ed94495</td>\n",
       "      <td>behind</td>\n",
       "      <td>None</td>\n",
       "      <td>sourceSpace</td>\n",
       "      <td>1</td>\n",
       "      <td>2023-11-05 10:53:03.351000+00:00</td>\n",
       "      <td>2023-11-05 10:53:03.351000+00:00</td>\n",
       "      <td>None</td>\n",
       "    </tr>\n",
       "  </tbody>\n",
       "</table>\n",
       "</div>"
      ],
      "text/plain": [
       "                             external_id  \\\n",
       "68  79bd1733-afa5-4b6c-9d2f-e8458f042e7e   \n",
       "83  156fc529-b365-4341-8d7b-c87cb155b50c   \n",
       "79  11ec48cc-b2d2-43dd-9f43-60f3f8b3b1b4   \n",
       "0   bef8179e-9e0c-44a8-8577-cf6e5ce0bd8f   \n",
       "2   a92cfb02-09cd-4b47-b870-a7aded8aed07   \n",
       "\n",
       "                       asset_external_id  \\\n",
       "68  d810d514-7fbf-4e2d-a8f8-cfc4770b4539   \n",
       "83  72786d8a-bbb4-4e83-8cf0-bca2fc3ed796   \n",
       "79  d810d514-7fbf-4e2d-a8f8-cfc4770b4539   \n",
       "0   4dc95bc8-49e8-4ee8-a5f5-c7aa47f139de   \n",
       "2   72786d8a-bbb4-4e83-8cf0-bca2fc3ed796   \n",
       "\n",
       "                  created_by_external_id                       labels  order  \\\n",
       "68  09e50d8e-9fe8-4340-916a-349e722eaf73  [#f495e3, #7fe0a9, #dd6388]   9134   \n",
       "83  8a717d87-09c0-4b1c-abdb-721e1ff5dfa5                           []   4868   \n",
       "79  bb5f75ed-e6ce-4269-ad5c-3ef4da6598b0                    [#dd6388]   5920   \n",
       "0   3caa43df-2fc3-4bba-b267-6e57c2ab826a           [#f495e3, #8516fc]   4071   \n",
       "2   2b0f4e82-f515-42ee-9545-03e08799c7c7           [#7fe0a9, #dd6388]   5920   \n",
       "\n",
       "                    template_external_id     title updated_by_external_id  \\\n",
       "68  78bbec25-03a3-4f4d-bfb5-7e047717d27c       car                   None   \n",
       "83  bb479412-b9bf-44c6-a067-58df6ba233c3  decision                   None   \n",
       "79  acd07034-830d-420f-b163-080145aa7844      hard                   None   \n",
       "0   108c5106-f638-4d9c-8ef2-4b470ed94495      half                   None   \n",
       "2   108c5106-f638-4d9c-8ef2-4b470ed94495    behind                   None   \n",
       "\n",
       "          space  version                last_updated_time  \\\n",
       "68  sourceSpace        1 2023-11-05 10:53:03.351000+00:00   \n",
       "83  sourceSpace        1 2023-11-05 10:53:03.351000+00:00   \n",
       "79  sourceSpace        1 2023-11-05 10:53:03.351000+00:00   \n",
       "0   sourceSpace        1 2023-11-05 10:53:03.351000+00:00   \n",
       "2   sourceSpace        1 2023-11-05 10:53:03.351000+00:00   \n",
       "\n",
       "                       created_time deleted_time  \n",
       "68 2023-11-05 10:53:03.351000+00:00         None  \n",
       "83 2023-11-05 10:53:03.351000+00:00         None  \n",
       "79 2023-11-05 10:53:03.351000+00:00         None  \n",
       "0  2023-11-05 10:53:03.351000+00:00         None  \n",
       "2  2023-11-05 10:53:03.351000+00:00         None  "
      ]
     },
     "execution_count": 9,
     "metadata": {},
     "output_type": "execute_result"
    }
   ],
   "source": [
    "template_items.to_pandas().sample(5)"
   ]
  },
  {
   "cell_type": "code",
   "execution_count": 10,
   "metadata": {},
   "outputs": [],
   "source": [
    "template_item_by_external_id = {item.external_id: item for item in template_items}\n",
    "\n",
    "# The visiblity, schedules, and measurements are changes to the new template,\n",
    "# and thus the source of these needs to come from elsewhere. The point of including\n",
    "# these data structers is to show how\n",
    "visiblity_by_item_external_id: dict[str, str] = {}\n",
    "schedules_by_item_external_id: dict[str, list[str]] = {}\n",
    "measurements_by_external_id: dict[str, list[str]] = {}\n",
    "\n",
    "visiblity_by_external_id: dict[str, str] = {}"
   ]
  },
  {
   "cell_type": "code",
   "execution_count": 11,
   "metadata": {},
   "outputs": [],
   "source": [
    "destination_templates = TemplateWriteList([])\n",
    "for template in templates:\n",
    "    destination_items = []\n",
    "    for item_external_id in template.template_items or []:\n",
    "        item = template_item_by_external_id[item_external_id]\n",
    "        destination_item = TemplateItemWrite(\n",
    "            external_id=item.external_id,\n",
    "            space=\"destinationSpace\",\n",
    "            title=item.title,\n",
    "            labels=item.labels,\n",
    "            visibility=visiblity_by_item_external_id.get(item.external_id),\n",
    "            created_by=item.created_by_external_id,\n",
    "            updated_by=item.updated_by_external_id,\n",
    "            is_archived=template.is_archived,\n",
    "            order=item.order,\n",
    "            asset=item.asset_external_id,\n",
    "            schedules=schedules_by_item_external_id.get(item.external_id),\n",
    "            measurements=measurements_by_external_id.get(item.external_id),\n",
    "        )\n",
    "        destination_items.append(destination_item)\n",
    "\n",
    "    destination_template = TemplateWrite(\n",
    "        external_id=template.external_id,\n",
    "        space=\"destinationSpace\",\n",
    "        title=template.title,\n",
    "        visibility=visiblity_by_external_id.get(template.external_id),\n",
    "        created_by=template.created_by_external_id,\n",
    "        updated_by=template.updated_by_external_id,\n",
    "        is_archived=template.is_archived,\n",
    "        status=template.status,\n",
    "        labels=list({label for item in destination_items for label in item.labels}),\n",
    "        root_location=template.root_location_external_id,\n",
    "        assigned_to=template.assigned_to,\n",
    "        template_items=destination_items,\n",
    "    )\n",
    "    destination_templates.append(destination_template)"
   ]
  },
  {
   "cell_type": "markdown",
   "metadata": {},
   "source": [
    "## How <code>pygen</code> Creates Edges"
   ]
  },
  {
   "cell_type": "markdown",
   "metadata": {},
   "source": [
    "`pygen` create edges by looking at the relationships in the generated data classes. \n",
    "\n",
    "For example, in the current example we have the `TemplateItem` node which have the fields `schedules` and `measurements`. When writing to CDF `pygen` iterates through all the `TemplateItems` and check these fields, and if there is a `string` it is assumed to be the `external_id` of the end node, and `pygen` creates an edge to it. If it is an `object` that object is assumed to be the end node and `pygen` creates an edge to it.\n",
    "\n",
    "We can inspect what pygen is doing by calling the `.to_instances_write()` method and check the results.\n",
    "\n"
   ]
  },
  {
   "cell_type": "code",
   "execution_count": 12,
   "metadata": {},
   "outputs": [
    {
     "data": {
      "text/html": [
       "<div>\n",
       "<style scoped>\n",
       "    .dataframe tbody tr th:only-of-type {\n",
       "        vertical-align: middle;\n",
       "    }\n",
       "\n",
       "    .dataframe tbody tr th {\n",
       "        vertical-align: top;\n",
       "    }\n",
       "\n",
       "    .dataframe thead th {\n",
       "        text-align: right;\n",
       "    }\n",
       "</style>\n",
       "<table border=\"1\" class=\"dataframe\">\n",
       "  <thead>\n",
       "    <tr style=\"text-align: right;\">\n",
       "      <th></th>\n",
       "      <th>value</th>\n",
       "    </tr>\n",
       "  </thead>\n",
       "  <tbody>\n",
       "    <tr>\n",
       "      <th>space</th>\n",
       "      <td>destinationSpace</td>\n",
       "    </tr>\n",
       "    <tr>\n",
       "      <th>external_id</th>\n",
       "      <td>108c5106-f638-4d9c-8ef2-4b470ed94495</td>\n",
       "    </tr>\n",
       "    <tr>\n",
       "      <th>existing_version</th>\n",
       "      <td>None</td>\n",
       "    </tr>\n",
       "    <tr>\n",
       "      <th>title</th>\n",
       "      <td>good</td>\n",
       "    </tr>\n",
       "    <tr>\n",
       "      <th>description</th>\n",
       "      <td>None</td>\n",
       "    </tr>\n",
       "    <tr>\n",
       "      <th>labels</th>\n",
       "      <td>[#8516fc, #7fe0a9, #dd6388, #f4d89f, #f495e3]</td>\n",
       "    </tr>\n",
       "    <tr>\n",
       "      <th>visibility</th>\n",
       "      <td>None</td>\n",
       "    </tr>\n",
       "    <tr>\n",
       "      <th>created_by</th>\n",
       "      <td>80d32fb4-bcbc-44ae-abed-fee53b148d82</td>\n",
       "    </tr>\n",
       "    <tr>\n",
       "      <th>updated_by</th>\n",
       "      <td>f1e7d13d-3fd2-42e4-bebc-68ad2aa905eb</td>\n",
       "    </tr>\n",
       "    <tr>\n",
       "      <th>is_archived</th>\n",
       "      <td>False</td>\n",
       "    </tr>\n",
       "    <tr>\n",
       "      <th>status</th>\n",
       "      <td>OnHold</td>\n",
       "    </tr>\n",
       "    <tr>\n",
       "      <th>root_location</th>\n",
       "      <td>31d9f834-a1ab-452a-b2a5-875f0e9f384a</td>\n",
       "    </tr>\n",
       "    <tr>\n",
       "      <th>assigned_to</th>\n",
       "      <td>None</td>\n",
       "    </tr>\n",
       "    <tr>\n",
       "      <th>template_items</th>\n",
       "      <td>[{'space': 'destinationSpace', 'external_id': ...</td>\n",
       "    </tr>\n",
       "  </tbody>\n",
       "</table>\n",
       "</div>"
      ],
      "text/plain": [
       "TemplateApply(space='destinationSpace', external_id='108c5106-f638-4d9c-8ef2-4b470ed94495', existing_version=None, title='good', description=None, labels=['#8516fc', '#7fe0a9', '#dd6388', '#f4d89f', '#f495e3'], visibility=None, is_archived=False, status='OnHold', assigned_to=None)"
      ]
     },
     "execution_count": 12,
     "metadata": {},
     "output_type": "execute_result"
    }
   ],
   "source": [
    "destination_templates[0]"
   ]
  },
  {
   "cell_type": "code",
   "execution_count": 13,
   "metadata": {},
   "outputs": [
    {
     "data": {
      "text/plain": [
       "4"
      ]
     },
     "execution_count": 13,
     "metadata": {},
     "output_type": "execute_result"
    }
   ],
   "source": [
    "len(destination_templates[0].template_items)"
   ]
  },
  {
   "cell_type": "code",
   "execution_count": 14,
   "metadata": {},
   "outputs": [],
   "source": [
    "instances = destination_templates[0].to_instances_write()"
   ]
  },
  {
   "cell_type": "code",
   "execution_count": 15,
   "metadata": {},
   "outputs": [
    {
     "data": {
      "text/html": [
       "<div>\n",
       "<style scoped>\n",
       "    .dataframe tbody tr th:only-of-type {\n",
       "        vertical-align: middle;\n",
       "    }\n",
       "\n",
       "    .dataframe tbody tr th {\n",
       "        vertical-align: top;\n",
       "    }\n",
       "\n",
       "    .dataframe thead th {\n",
       "        text-align: right;\n",
       "    }\n",
       "</style>\n",
       "<table border=\"1\" class=\"dataframe\">\n",
       "  <thead>\n",
       "    <tr style=\"text-align: right;\">\n",
       "      <th></th>\n",
       "      <th>instance_type</th>\n",
       "      <th>space</th>\n",
       "      <th>external_id</th>\n",
       "      <th>sources</th>\n",
       "    </tr>\n",
       "  </thead>\n",
       "  <tbody>\n",
       "    <tr>\n",
       "      <th>0</th>\n",
       "      <td>node</td>\n",
       "      <td>destinationSpace</td>\n",
       "      <td>108c5106-f638-4d9c-8ef2-4b470ed94495</td>\n",
       "      <td>[{'properties': {'title': 'good', 'labels': ['...</td>\n",
       "    </tr>\n",
       "    <tr>\n",
       "      <th>1</th>\n",
       "      <td>node</td>\n",
       "      <td>destinationSpace</td>\n",
       "      <td>bef8179e-9e0c-44a8-8577-cf6e5ce0bd8f</td>\n",
       "      <td>[{'properties': {'title': 'half', 'labels': ['...</td>\n",
       "    </tr>\n",
       "    <tr>\n",
       "      <th>2</th>\n",
       "      <td>node</td>\n",
       "      <td>destinationSpace</td>\n",
       "      <td>479ef472-a2c1-4f03-b38d-7e29e4f90227</td>\n",
       "      <td>[{'properties': {'title': 'agreement', 'labels...</td>\n",
       "    </tr>\n",
       "    <tr>\n",
       "      <th>3</th>\n",
       "      <td>node</td>\n",
       "      <td>destinationSpace</td>\n",
       "      <td>a92cfb02-09cd-4b47-b870-a7aded8aed07</td>\n",
       "      <td>[{'properties': {'title': 'behind', 'labels': ...</td>\n",
       "    </tr>\n",
       "    <tr>\n",
       "      <th>4</th>\n",
       "      <td>node</td>\n",
       "      <td>destinationSpace</td>\n",
       "      <td>54e8a840-624d-41cb-91a3-1b978e292565</td>\n",
       "      <td>[{'properties': {'title': 'wall', 'labels': ['...</td>\n",
       "    </tr>\n",
       "  </tbody>\n",
       "</table>\n",
       "</div>"
      ],
      "text/plain": [
       "NodeApplyList([<NodeApply(space='destinationSpace', external_id='108c5106-f638-4d9c-8ef2-4b470ed94495') at 0x19a40f66d30>,\n",
       "               <NodeApply(space='destinationSpace', external_id='bef8179e-9e0c-44a8-8577-cf6e5ce0bd8f') at 0x19a5b22f2e0>,\n",
       "               <NodeApply(space='destinationSpace', external_id='479ef472-a2c1-4f03-b38d-7e29e4f90227') at 0x19a5b22fcd0>,\n",
       "               <NodeApply(space='destinationSpace', external_id='a92cfb02-09cd-4b47-b870-a7aded8aed07') at 0x19a5b5188b0>,\n",
       "               <NodeApply(space='destinationSpace', external_id='54e8a840-624d-41cb-91a3-1b978e292565') at 0x19a5b518040>])"
      ]
     },
     "execution_count": 15,
     "metadata": {},
     "output_type": "execute_result"
    }
   ],
   "source": [
    "instances.nodes"
   ]
  },
  {
   "cell_type": "code",
   "execution_count": 16,
   "metadata": {},
   "outputs": [
    {
     "data": {
      "text/html": [
       "<div>\n",
       "<style scoped>\n",
       "    .dataframe tbody tr th:only-of-type {\n",
       "        vertical-align: middle;\n",
       "    }\n",
       "\n",
       "    .dataframe tbody tr th {\n",
       "        vertical-align: top;\n",
       "    }\n",
       "\n",
       "    .dataframe thead th {\n",
       "        text-align: right;\n",
       "    }\n",
       "</style>\n",
       "<table border=\"1\" class=\"dataframe\">\n",
       "  <thead>\n",
       "    <tr style=\"text-align: right;\">\n",
       "      <th></th>\n",
       "      <th>instance_type</th>\n",
       "      <th>space</th>\n",
       "      <th>external_id</th>\n",
       "      <th>type</th>\n",
       "      <th>start_node</th>\n",
       "      <th>end_node</th>\n",
       "    </tr>\n",
       "  </thead>\n",
       "  <tbody>\n",
       "    <tr>\n",
       "      <th>0</th>\n",
       "      <td>edge</td>\n",
       "      <td>destinationSpace</td>\n",
       "      <td>108c5106-f638-4d9c-8ef2-4b470ed94495:bef8179e-...</td>\n",
       "      <td>{'space': 'IntegrationTestsImmutable', 'extern...</td>\n",
       "      <td>{'space': 'destinationSpace', 'external_id': '...</td>\n",
       "      <td>{'space': 'destinationSpace', 'external_id': '...</td>\n",
       "    </tr>\n",
       "    <tr>\n",
       "      <th>1</th>\n",
       "      <td>edge</td>\n",
       "      <td>destinationSpace</td>\n",
       "      <td>108c5106-f638-4d9c-8ef2-4b470ed94495:479ef472-...</td>\n",
       "      <td>{'space': 'IntegrationTestsImmutable', 'extern...</td>\n",
       "      <td>{'space': 'destinationSpace', 'external_id': '...</td>\n",
       "      <td>{'space': 'destinationSpace', 'external_id': '...</td>\n",
       "    </tr>\n",
       "    <tr>\n",
       "      <th>2</th>\n",
       "      <td>edge</td>\n",
       "      <td>destinationSpace</td>\n",
       "      <td>108c5106-f638-4d9c-8ef2-4b470ed94495:a92cfb02-...</td>\n",
       "      <td>{'space': 'IntegrationTestsImmutable', 'extern...</td>\n",
       "      <td>{'space': 'destinationSpace', 'external_id': '...</td>\n",
       "      <td>{'space': 'destinationSpace', 'external_id': '...</td>\n",
       "    </tr>\n",
       "    <tr>\n",
       "      <th>3</th>\n",
       "      <td>edge</td>\n",
       "      <td>destinationSpace</td>\n",
       "      <td>108c5106-f638-4d9c-8ef2-4b470ed94495:54e8a840-...</td>\n",
       "      <td>{'space': 'IntegrationTestsImmutable', 'extern...</td>\n",
       "      <td>{'space': 'destinationSpace', 'external_id': '...</td>\n",
       "      <td>{'space': 'destinationSpace', 'external_id': '...</td>\n",
       "    </tr>\n",
       "  </tbody>\n",
       "</table>\n",
       "</div>"
      ],
      "text/plain": [
       "EdgeApplyList([<EdgeApply(space='destinationSpace', external_id='108c5106-f638-4d9c-8ef2-4b470ed94495:bef8179e-9e0c-44a8-8577-cf6e5ce0bd8f') at 0x19a5b22fe80>,\n",
       "               <EdgeApply(space='destinationSpace', external_id='108c5106-f638-4d9c-8ef2-4b470ed94495:479ef472-a2c1-4f03-b38d-7e29e4f90227') at 0x19a5b22fdf0>,\n",
       "               <EdgeApply(space='destinationSpace', external_id='108c5106-f638-4d9c-8ef2-4b470ed94495:a92cfb02-09cd-4b47-b870-a7aded8aed07') at 0x19a595a0f70>,\n",
       "               <EdgeApply(space='destinationSpace', external_id='108c5106-f638-4d9c-8ef2-4b470ed94495:54e8a840-624d-41cb-91a3-1b978e292565') at 0x19a5b518340>])"
      ]
     },
     "execution_count": 16,
     "metadata": {},
     "output_type": "execute_result"
    }
   ],
   "source": [
    "instances.edges"
   ]
  },
  {
   "cell_type": "markdown",
   "metadata": {},
   "source": [
    "We can see here that for one `Template` item with 4 `TemplateItem`s `pygen` creates one node for each `=5`, and an edge connecting each of the `TemplateItem` to `Template` `=4`."
   ]
  },
  {
   "cell_type": "code",
   "execution_count": 3,
   "metadata": {},
   "outputs": [],
   "source": [
    "all_instances = destination_templates.to_instances_write()"
   ]
  },
  {
   "cell_type": "markdown",
   "metadata": {},
   "source": [
    "By doing the `.to_instances_write` call on the all the destination `Templates` we can see how \n",
    "many nodes and edges we are expecting to create."
   ]
  },
  {
   "cell_type": "code",
   "execution_count": 18,
   "metadata": {},
   "outputs": [
    {
     "data": {
      "text/plain": [
       "(155, 105)"
      ]
     },
     "execution_count": 18,
     "metadata": {},
     "output_type": "execute_result"
    }
   ],
   "source": [
    "len(all_instances.nodes), len(all_instances.edges)"
   ]
  },
  {
   "cell_type": "markdown",
   "metadata": {},
   "source": [
    "Note that for the use case we are using in this example one of the changes to the new model is that a lot of the relationships are made explicit. For example, in the old template we have `root_location_external_id`, while now we have direct link `root_location`. Due to the way `pygen` automatically creates edges this becomes an easier migration as if `pygen` knows that there should be an edge and have a `string` it is assumed to be an `external_id`. \n"
   ]
  },
  {
   "cell_type": "markdown",
   "metadata": {},
   "source": [
    "## Writing Data"
   ]
  },
  {
   "cell_type": "code",
   "execution_count": 19,
   "metadata": {
    "editable": true,
    "slideshow": {
     "slide_type": ""
    },
    "tags": [
     "hide"
    ]
   },
   "outputs": [],
   "source": [
    "# In case the space doesn't exists. This cell is hidden from the tutorial\n",
    "from cognite.client import data_modeling as dm\n",
    "\n",
    "client.data_modeling.spaces.apply(\n",
    "    dm.SpaceApply(\"destinationSpace\", name=\"Destination space\", description=\"For the data migration tutorial\")\n",
    ");"
   ]
  },
  {
   "cell_type": "markdown",
   "metadata": {},
   "source": [
    "We are no ready to write the new `Template` data to the new model.\n",
    "\n",
    "We use the `destination` client and call `.upsert`."
   ]
  },
  {
   "cell_type": "code",
   "execution_count": 22,
   "metadata": {},
   "outputs": [],
   "source": [
    "results = destination.upsert(destination_templates)"
   ]
  },
  {
   "cell_type": "code",
   "execution_count": 23,
   "metadata": {},
   "outputs": [
    {
     "data": {
      "text/plain": [
       "(155, 105)"
      ]
     },
     "execution_count": 23,
     "metadata": {},
     "output_type": "execute_result"
    }
   ],
   "source": [
    "len(results.nodes), len(results.edges)"
   ]
  },
  {
   "cell_type": "markdown",
   "metadata": {},
   "source": [
    "Note that it is not necessary to do a call to `destination.template_items.apply(...)` as the above call iterates recursively through all linked objects and finds the nodes and edges.\n",
    "\n",
    "We can verify that the data has been uploaded correctly by calling the `.list()` method on the destination client."
   ]
  },
  {
   "cell_type": "code",
   "execution_count": 28,
   "metadata": {},
   "outputs": [
    {
     "data": {
      "text/plain": [
       "50"
      ]
     },
     "execution_count": 28,
     "metadata": {},
     "output_type": "execute_result"
    }
   ],
   "source": [
    "created = destination.template.list(space=\"destinationSpace\", limit=-1)\n",
    "len(created)"
   ]
  },
  {
   "cell_type": "code",
   "execution_count": 29,
   "metadata": {},
   "outputs": [
    {
     "data": {
      "text/html": [
       "<div>\n",
       "<style scoped>\n",
       "    .dataframe tbody tr th:only-of-type {\n",
       "        vertical-align: middle;\n",
       "    }\n",
       "\n",
       "    .dataframe tbody tr th {\n",
       "        vertical-align: top;\n",
       "    }\n",
       "\n",
       "    .dataframe thead th {\n",
       "        text-align: right;\n",
       "    }\n",
       "</style>\n",
       "<table border=\"1\" class=\"dataframe\">\n",
       "  <thead>\n",
       "    <tr style=\"text-align: right;\">\n",
       "      <th></th>\n",
       "      <th>external_id</th>\n",
       "      <th>title</th>\n",
       "      <th>description</th>\n",
       "      <th>labels</th>\n",
       "      <th>visibility</th>\n",
       "      <th>created_by</th>\n",
       "      <th>updated_by</th>\n",
       "      <th>is_archived</th>\n",
       "      <th>status</th>\n",
       "      <th>root_location</th>\n",
       "      <th>assigned_to</th>\n",
       "      <th>template_items</th>\n",
       "      <th>space</th>\n",
       "      <th>version</th>\n",
       "      <th>last_updated_time</th>\n",
       "      <th>created_time</th>\n",
       "      <th>deleted_time</th>\n",
       "    </tr>\n",
       "  </thead>\n",
       "  <tbody>\n",
       "    <tr>\n",
       "      <th>0</th>\n",
       "      <td>108c5106-f638-4d9c-8ef2-4b470ed94495</td>\n",
       "      <td>good</td>\n",
       "      <td>None</td>\n",
       "      <td>[#8516fc, #7fe0a9, #dd6388, #f4d89f, #f495e3]</td>\n",
       "      <td>None</td>\n",
       "      <td>80d32fb4-bcbc-44ae-abed-fee53b148d82</td>\n",
       "      <td>f1e7d13d-3fd2-42e4-bebc-68ad2aa905eb</td>\n",
       "      <td>False</td>\n",
       "      <td>OnHold</td>\n",
       "      <td>31d9f834-a1ab-452a-b2a5-875f0e9f384a</td>\n",
       "      <td>None</td>\n",
       "      <td>[bef8179e-9e0c-44a8-8577-cf6e5ce0bd8f, 479ef47...</td>\n",
       "      <td>destinationSpace</td>\n",
       "      <td>1</td>\n",
       "      <td>2023-11-05 14:57:29.950000+00:00</td>\n",
       "      <td>2023-11-05 14:57:29.950000+00:00</td>\n",
       "      <td>None</td>\n",
       "    </tr>\n",
       "    <tr>\n",
       "      <th>1</th>\n",
       "      <td>32f92434-e5fb-49c1-b4c4-1a454ed699ea</td>\n",
       "      <td>three</td>\n",
       "      <td>None</td>\n",
       "      <td>[#8516fc, #7fe0a9, #dd6388, #f4d89f, #f495e3]</td>\n",
       "      <td>None</td>\n",
       "      <td>6dbb225f-5059-4ff2-9543-7ab400e235e9</td>\n",
       "      <td>df561fd7-dad6-484e-95f7-ae967fb00ed3</td>\n",
       "      <td>False</td>\n",
       "      <td>OnHold</td>\n",
       "      <td>dac4077b-61d6-445c-a4f4-f6f3247125ab</td>\n",
       "      <td>None</td>\n",
       "      <td>[f6ce45c7-b5a6-4a3b-b549-91e4a05580a7, bbbdda6...</td>\n",
       "      <td>destinationSpace</td>\n",
       "      <td>1</td>\n",
       "      <td>2023-11-05 14:57:29.950000+00:00</td>\n",
       "      <td>2023-11-05 14:57:29.950000+00:00</td>\n",
       "      <td>None</td>\n",
       "    </tr>\n",
       "    <tr>\n",
       "      <th>2</th>\n",
       "      <td>6b072855-8408-4c21-b1a3-5caf4bd22204</td>\n",
       "      <td>also</td>\n",
       "      <td>None</td>\n",
       "      <td>[#8516fc, #dd6388, #7fe0a9]</td>\n",
       "      <td>None</td>\n",
       "      <td>863a0cd1-f55e-4529-ac50-34090596a279</td>\n",
       "      <td>37d17cd1-2bbe-416a-b7b1-111e44c64b36</td>\n",
       "      <td>True</td>\n",
       "      <td>Completed</td>\n",
       "      <td>1b582c43-bc07-4ab7-959e-cf7e434711a0</td>\n",
       "      <td>None</td>\n",
       "      <td>[8b3670e5-a6e4-4636-8066-ee54c0a52582, 29989d8...</td>\n",
       "      <td>destinationSpace</td>\n",
       "      <td>1</td>\n",
       "      <td>2023-11-05 14:57:29.950000+00:00</td>\n",
       "      <td>2023-11-05 14:57:29.950000+00:00</td>\n",
       "      <td>None</td>\n",
       "    </tr>\n",
       "    <tr>\n",
       "      <th>3</th>\n",
       "      <td>95c51139-438b-4fd8-a5ce-b80dbcd77db4</td>\n",
       "      <td>likely</td>\n",
       "      <td>None</td>\n",
       "      <td>[#8516fc, #f4d89f, #7fe0a9]</td>\n",
       "      <td>None</td>\n",
       "      <td>ac5c7d3f-564b-44d2-bdc6-6eaf23b075ce</td>\n",
       "      <td>caba29e9-fa98-438d-b5b7-6d43677764d3</td>\n",
       "      <td>True</td>\n",
       "      <td>Completed</td>\n",
       "      <td>1b582c43-bc07-4ab7-959e-cf7e434711a0</td>\n",
       "      <td>None</td>\n",
       "      <td>[cc2adb6c-34e8-4258-8634-3213c789854c, ffede5f...</td>\n",
       "      <td>destinationSpace</td>\n",
       "      <td>1</td>\n",
       "      <td>2023-11-05 14:57:29.950000+00:00</td>\n",
       "      <td>2023-11-05 14:57:29.950000+00:00</td>\n",
       "      <td>None</td>\n",
       "    </tr>\n",
       "    <tr>\n",
       "      <th>4</th>\n",
       "      <td>9544b2c9-9abe-4a9b-b106-3db9510363c2</td>\n",
       "      <td>thing</td>\n",
       "      <td>None</td>\n",
       "      <td>[#dd6388, #7fe0a9]</td>\n",
       "      <td>None</td>\n",
       "      <td>b3fd00cb-8b06-4365-aac5-b0fcf6f8044c</td>\n",
       "      <td>ac5c7d3f-564b-44d2-bdc6-6eaf23b075ce</td>\n",
       "      <td>True</td>\n",
       "      <td>Cancelled</td>\n",
       "      <td>41ad2ff1-88b6-4c45-9bfd-a76d0c0ba9c6</td>\n",
       "      <td>None</td>\n",
       "      <td>[502250e9-237b-4c87-85a3-ee100601bdba, 1881a55...</td>\n",
       "      <td>destinationSpace</td>\n",
       "      <td>1</td>\n",
       "      <td>2023-11-05 14:57:29.950000+00:00</td>\n",
       "      <td>2023-11-05 14:57:29.950000+00:00</td>\n",
       "      <td>None</td>\n",
       "    </tr>\n",
       "  </tbody>\n",
       "</table>\n",
       "</div>"
      ],
      "text/plain": [
       "                            external_id   title description  \\\n",
       "0  108c5106-f638-4d9c-8ef2-4b470ed94495    good        None   \n",
       "1  32f92434-e5fb-49c1-b4c4-1a454ed699ea   three        None   \n",
       "2  6b072855-8408-4c21-b1a3-5caf4bd22204    also        None   \n",
       "3  95c51139-438b-4fd8-a5ce-b80dbcd77db4  likely        None   \n",
       "4  9544b2c9-9abe-4a9b-b106-3db9510363c2   thing        None   \n",
       "\n",
       "                                          labels visibility  \\\n",
       "0  [#8516fc, #7fe0a9, #dd6388, #f4d89f, #f495e3]       None   \n",
       "1  [#8516fc, #7fe0a9, #dd6388, #f4d89f, #f495e3]       None   \n",
       "2                    [#8516fc, #dd6388, #7fe0a9]       None   \n",
       "3                    [#8516fc, #f4d89f, #7fe0a9]       None   \n",
       "4                             [#dd6388, #7fe0a9]       None   \n",
       "\n",
       "                             created_by                            updated_by  \\\n",
       "0  80d32fb4-bcbc-44ae-abed-fee53b148d82  f1e7d13d-3fd2-42e4-bebc-68ad2aa905eb   \n",
       "1  6dbb225f-5059-4ff2-9543-7ab400e235e9  df561fd7-dad6-484e-95f7-ae967fb00ed3   \n",
       "2  863a0cd1-f55e-4529-ac50-34090596a279  37d17cd1-2bbe-416a-b7b1-111e44c64b36   \n",
       "3  ac5c7d3f-564b-44d2-bdc6-6eaf23b075ce  caba29e9-fa98-438d-b5b7-6d43677764d3   \n",
       "4  b3fd00cb-8b06-4365-aac5-b0fcf6f8044c  ac5c7d3f-564b-44d2-bdc6-6eaf23b075ce   \n",
       "\n",
       "   is_archived     status                         root_location assigned_to  \\\n",
       "0        False     OnHold  31d9f834-a1ab-452a-b2a5-875f0e9f384a        None   \n",
       "1        False     OnHold  dac4077b-61d6-445c-a4f4-f6f3247125ab        None   \n",
       "2         True  Completed  1b582c43-bc07-4ab7-959e-cf7e434711a0        None   \n",
       "3         True  Completed  1b582c43-bc07-4ab7-959e-cf7e434711a0        None   \n",
       "4         True  Cancelled  41ad2ff1-88b6-4c45-9bfd-a76d0c0ba9c6        None   \n",
       "\n",
       "                                      template_items             space  \\\n",
       "0  [bef8179e-9e0c-44a8-8577-cf6e5ce0bd8f, 479ef47...  destinationSpace   \n",
       "1  [f6ce45c7-b5a6-4a3b-b549-91e4a05580a7, bbbdda6...  destinationSpace   \n",
       "2  [8b3670e5-a6e4-4636-8066-ee54c0a52582, 29989d8...  destinationSpace   \n",
       "3  [cc2adb6c-34e8-4258-8634-3213c789854c, ffede5f...  destinationSpace   \n",
       "4  [502250e9-237b-4c87-85a3-ee100601bdba, 1881a55...  destinationSpace   \n",
       "\n",
       "   version                last_updated_time                     created_time  \\\n",
       "0        1 2023-11-05 14:57:29.950000+00:00 2023-11-05 14:57:29.950000+00:00   \n",
       "1        1 2023-11-05 14:57:29.950000+00:00 2023-11-05 14:57:29.950000+00:00   \n",
       "2        1 2023-11-05 14:57:29.950000+00:00 2023-11-05 14:57:29.950000+00:00   \n",
       "3        1 2023-11-05 14:57:29.950000+00:00 2023-11-05 14:57:29.950000+00:00   \n",
       "4        1 2023-11-05 14:57:29.950000+00:00 2023-11-05 14:57:29.950000+00:00   \n",
       "\n",
       "  deleted_time  \n",
       "0         None  \n",
       "1         None  \n",
       "2         None  \n",
       "3         None  \n",
       "4         None  "
      ]
     },
     "execution_count": 29,
     "metadata": {},
     "output_type": "execute_result"
    }
   ],
   "source": [
    "created.to_pandas().head()"
   ]
  },
  {
   "cell_type": "code",
   "execution_count": null,
   "metadata": {},
   "outputs": [],
   "source": []
  }
 ],
 "metadata": {
  "kernelspec": {
   "display_name": "Python 3 (ipykernel)",
   "language": "python",
   "name": "python3"
  },
  "language_info": {
   "codemirror_mode": {
    "name": "ipython",
    "version": 3
   },
   "file_extension": ".py",
   "mimetype": "text/x-python",
   "name": "python",
   "nbconvert_exporter": "python",
   "pygments_lexer": "ipython3",
   "version": "3.10.11"
  }
 },
 "nbformat": 4,
 "nbformat_minor": 4
}
