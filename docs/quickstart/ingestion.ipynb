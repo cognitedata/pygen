{
 "cells": [
  {
   "cell_type": "markdown",
   "metadata": {
    "editable": true,
    "slideshow": {
     "slide_type": ""
    },
    "tags": []
   },
   "source": [
    "# Data Population\n",
    "**Prerequisites**\n",
    "- Access to a CDF Project.\n",
    "- Know how to use a terminal, so you can run `pygen` from the command line to \n",
    "  generate the SDK.\n",
    "- Knowledge of your the data and data model."
   ]
  },
  {
   "cell_type": "code",
   "execution_count": 1,
   "metadata": {
    "editable": true,
    "slideshow": {
     "slide_type": ""
    },
    "tags": [
     "hide"
    ]
   },
   "outputs": [],
   "source": [
    "import warnings\n",
    "warnings.filterwarnings('ignore')\n",
    "# This is just to enable improting the generated SDK from the examples folder in the pygen repository\n",
    "import sys\n",
    "from tests.constants import REPO_ROOT\n",
    "sys.path.append(str(REPO_ROOT / \"examples\" ))"
   ]
  },
  {
   "cell_type": "markdown",
   "metadata": {
    "editable": true,
    "slideshow": {
     "slide_type": ""
    },
    "tags": []
   },
   "source": [
    "## Introduction to Problem"
   ]
  },
  {
   "attachments": {},
   "cell_type": "markdown",
   "metadata": {
    "editable": true,
    "slideshow": {
     "slide_type": ""
    },
    "tags": []
   },
   "source": [
    "`pygen` can be used to ingest data into an existing data model. It is well suited when the source data is nested and comes in a format such as `JSON`.\n",
    "\n",
    "Before you can ingest data you need the following:\n",
    "\n",
    "1. A Data Model Deployed to CDF.\n",
    "2. Generated an SDK for it.\n",
    "\n",
    "In this guide, we will use some windmill data as an example. First, we already have a deployed a model and generated an SDK for it.\n",
    "\n",
    "The model was generated with the follwing config from the `pyproject.toml`\n",
    "\n",
    "```toml\n",
    "[tool.pygen]\n",
    "data_models = [\n",
    "    [\"power-models\", \"Windmill\", \"1\"],\n",
    "]\n",
    "top_level_package = \"windmill.client\"\n",
    "client_name = \"WindmillClient\"\n",
    "\n",
    "```\n",
    "\n",
    "\n",
    "The model is illustrated in Cognite Data Fusions interface below:\n",
    "\n",
    "<img src=\"images/windmill_model.png\" width=\"400\">"
   ]
  },
  {
   "cell_type": "markdown",
   "metadata": {
    "editable": true,
    "slideshow": {
     "slide_type": ""
    },
    "tags": []
   },
   "source": [
    "First, we will inspect some of the data we have available"
   ]
  },
  {
   "cell_type": "code",
   "execution_count": 2,
   "metadata": {
    "editable": true,
    "slideshow": {
     "slide_type": ""
    },
    "tags": []
   },
   "outputs": [],
   "source": [
    "from tests.constants import WindMillFiles"
   ]
  },
  {
   "cell_type": "code",
   "execution_count": 3,
   "metadata": {
    "editable": true,
    "slideshow": {
     "slide_type": ""
    },
    "tags": []
   },
   "outputs": [
    {
     "name": "stdout",
     "output_type": "stream",
     "text": [
      "[\n",
      "    {\n",
      "\n",
      "        \"name\": \"hornsea_1_mill_3\",\n",
      "        \"windfarm\": \"Hornsea 1\",\n",
      "        \"capacity\": 7.0,\n",
      "        \"rotor\": {\n",
      "\n",
      "            \"rotor_speed_controller\": \"V52-WindTurbine.ROT\",\n",
      "            \"rpm_low_speed_shaft\": \"V52-WindTurbine.cnt0\"\n",
      "        },\n",
      "        \"nacelle\": {\n",
      "\n",
      "            \"gearbox\": {\n",
      "\n",
      "                \"displacement_x\": \"V52-WindTurbine.Gear_D_X\",\n",
      "                \"displacement_y\": \"V52-WindTurbine.Gear_D_Y\",\n",
      "                \"displacement_z\": \"V52-WindTurbine.Gear_D_Z\"\n",
      "            },\n"
     ]
    }
   ],
   "source": [
    "print(WindMillFiles.Data.wind_mill_json.read_text()[:500])"
   ]
  },
  {
   "cell_type": "markdown",
   "metadata": {
    "editable": true,
    "slideshow": {
     "slide_type": ""
    },
    "tags": []
   },
   "source": [
    "As we see in the snippet above this is nested data, which is well suited for `pygen` supported ingestion"
   ]
  },
  {
   "cell_type": "markdown",
   "metadata": {
    "editable": true,
    "slideshow": {
     "slide_type": ""
    },
    "tags": []
   },
   "source": [
    "## External ID Hook\n",
    "\n",
    "All data in CDF data models needs to have an `external_id` set. Often, source data does not come with an `external_id` set, and to help this `pygen` comes with a built in hook that enables you to set `external_id` when you are ingesting the data. The name of this hook is an `external_id_factory` and you can set it importing the `DomainModelApply` from your generated data classes. "
   ]
  },
  {
   "cell_type": "code",
   "execution_count": 16,
   "metadata": {
    "editable": true,
    "slideshow": {
     "slide_type": ""
    },
    "tags": []
   },
   "outputs": [],
   "source": [
    "from cognite.pygen.utils.external_id_factories import create_incremental_factory\n",
    "from windmill.client.data_classes import DomainModelApply"
   ]
  },
  {
   "cell_type": "code",
   "execution_count": 7,
   "metadata": {
    "editable": true,
    "slideshow": {
     "slide_type": ""
    },
    "tags": []
   },
   "outputs": [],
   "source": [
    "DomainModelApply.external_id_factory = uuid_factory"
   ]
  },
  {
   "cell_type": "markdown",
   "metadata": {
    "editable": true,
    "slideshow": {
     "slide_type": ""
    },
    "tags": []
   },
   "source": [
    "The `external_id_factory` is a function that takes in two arguments, first a `type` which is the data class for the object and then a `dict` with the data for that partuclar object. `pygen` comes with a few generic external id factories you can use, see [External ID factory](../api/utils_external_id_factory.html) These can be good for testing an exploration, but we recommend that you write your own factory function for (at least) the most important classes.\n",
    "\n",
    "In the example below, we write a factory method that sets the ID for all wells. Looking at the snippet below we note that the windmill have an `name` from the source system, so we would like to use this as the `external_id`."
   ]
  },
  {
   "cell_type": "code",
   "execution_count": 17,
   "metadata": {
    "editable": true,
    "slideshow": {
     "slide_type": ""
    },
    "tags": []
   },
   "outputs": [],
   "source": [
    "from windmill.client.data_classes import WindmillApply\n",
    "\n",
    "incremental_factory = create_incremental_factory()\n",
    "\n",
    "def well_factory(domain_cls: type, data: dict) -> str:\n",
    "    if domain_cls is WindmillApply:\n",
    "        return data[\"name\"]\n",
    "    else:\n",
    "        # Fallback to incremental\n",
    "        return incremental_factory(domain_cls, data)\n",
    "\n",
    "# Finally, we set the new factory\n",
    "DomainModelApply.external_id_factory = well_factory"
   ]
  },
  {
   "cell_type": "markdown",
   "metadata": {
    "editable": true,
    "slideshow": {
     "slide_type": ""
    },
    "tags": []
   },
   "source": [
    "## Ingesting the Data\n",
    "\n",
    "After we have set the `external_id_factory` we are all good to go. `pygen` is generating `pydantic` data classes which means we can use the built in support for json validation in `pydantic`\n",
    "\n",
    "We not that we had a list of windmills, in `pydantic` we use a `TypeAdapter` to parse a list of objects"
   ]
  },
  {
   "cell_type": "code",
   "execution_count": 18,
   "metadata": {},
   "outputs": [],
   "source": [
    "from pydantic import TypeAdapter"
   ]
  },
  {
   "cell_type": "code",
   "execution_count": 19,
   "metadata": {
    "editable": true,
    "slideshow": {
     "slide_type": ""
    },
    "tags": []
   },
   "outputs": [],
   "source": [
    "windmills = TypeAdapter(list[WindmillApply]).validate_json(WindMillFiles.Data.wind_mill_json.read_text())"
   ]
  },
  {
   "cell_type": "markdown",
   "metadata": {
    "editable": true,
    "slideshow": {
     "slide_type": ""
    },
    "tags": []
   },
   "source": [
    "`pygen` also support `pydantic` v1. The same line above for v1 is\n",
    "\n",
    "```python\n",
    "from pydantic import parse_as_obj\n",
    "\n",
    "well_data = parse_as_obj(list[WindmillApply], WindMillFiles.Data.wind_mill_json.read_text())\n",
    "```"
   ]
  },
  {
   "cell_type": "code",
   "execution_count": 20,
   "metadata": {
    "editable": true,
    "slideshow": {
     "slide_type": ""
    },
    "tags": []
   },
   "outputs": [],
   "source": [
    "from windmill.client.data_classes import WindmillApplyList"
   ]
  },
  {
   "cell_type": "code",
   "execution_count": 29,
   "metadata": {},
   "outputs": [
    {
     "data": {
      "text/html": [
       "<div>\n",
       "<style scoped>\n",
       "    .dataframe tbody tr th:only-of-type {\n",
       "        vertical-align: middle;\n",
       "    }\n",
       "\n",
       "    .dataframe tbody tr th {\n",
       "        vertical-align: top;\n",
       "    }\n",
       "\n",
       "    .dataframe thead th {\n",
       "        text-align: right;\n",
       "    }\n",
       "</style>\n",
       "<table border=\"1\" class=\"dataframe\">\n",
       "  <thead>\n",
       "    <tr style=\"text-align: right;\">\n",
       "      <th></th>\n",
       "      <th>external_id</th>\n",
       "      <th>blades</th>\n",
       "      <th>capacity</th>\n",
       "      <th>metmast</th>\n",
       "      <th>nacelle</th>\n",
       "      <th>name</th>\n",
       "      <th>rotor</th>\n",
       "      <th>windfarm</th>\n",
       "    </tr>\n",
       "  </thead>\n",
       "  <tbody>\n",
       "    <tr>\n",
       "      <th>0</th>\n",
       "      <td>hornsea_1_mill_3</td>\n",
       "      <td>[{'space': 'windmill-instances', 'external_id'...</td>\n",
       "      <td>7.0</td>\n",
       "      <td>[]</td>\n",
       "      <td>{'space': 'windmill-instances', 'external_id':...</td>\n",
       "      <td>hornsea_1_mill_3</td>\n",
       "      <td>{'space': 'windmill-instances', 'external_id':...</td>\n",
       "      <td>Hornsea 1</td>\n",
       "    </tr>\n",
       "    <tr>\n",
       "      <th>1</th>\n",
       "      <td>hornsea_1_mill_2</td>\n",
       "      <td>[{'space': 'windmill-instances', 'external_id'...</td>\n",
       "      <td>7.0</td>\n",
       "      <td>[]</td>\n",
       "      <td>{'space': 'windmill-instances', 'external_id':...</td>\n",
       "      <td>hornsea_1_mill_2</td>\n",
       "      <td>{'space': 'windmill-instances', 'external_id':...</td>\n",
       "      <td>Hornsea 1</td>\n",
       "    </tr>\n",
       "    <tr>\n",
       "      <th>2</th>\n",
       "      <td>hornsea_1_mill_1</td>\n",
       "      <td>[{'space': 'windmill-instances', 'external_id'...</td>\n",
       "      <td>7.0</td>\n",
       "      <td>[]</td>\n",
       "      <td>{'space': 'windmill-instances', 'external_id':...</td>\n",
       "      <td>hornsea_1_mill_1</td>\n",
       "      <td>{'space': 'windmill-instances', 'external_id':...</td>\n",
       "      <td>Hornsea 1</td>\n",
       "    </tr>\n",
       "    <tr>\n",
       "      <th>3</th>\n",
       "      <td>hornsea_1_mill_4</td>\n",
       "      <td>[{'space': 'windmill-instances', 'external_id'...</td>\n",
       "      <td>7.0</td>\n",
       "      <td>[]</td>\n",
       "      <td>{'space': 'windmill-instances', 'external_id':...</td>\n",
       "      <td>hornsea_1_mill_4</td>\n",
       "      <td>{'space': 'windmill-instances', 'external_id':...</td>\n",
       "      <td>Hornsea 1</td>\n",
       "    </tr>\n",
       "    <tr>\n",
       "      <th>4</th>\n",
       "      <td>hornsea_1_mill_5</td>\n",
       "      <td>[{'space': 'windmill-instances', 'external_id'...</td>\n",
       "      <td>7.0</td>\n",
       "      <td>[]</td>\n",
       "      <td>{'space': 'windmill-instances', 'external_id':...</td>\n",
       "      <td>hornsea_1_mill_5</td>\n",
       "      <td>{'space': 'windmill-instances', 'external_id':...</td>\n",
       "      <td>Hornsea 1</td>\n",
       "    </tr>\n",
       "  </tbody>\n",
       "</table>\n",
       "</div>"
      ],
      "text/plain": [
       "WindmillApplyList([WindmillApply(space='windmill-instances', external_id='hornsea_1_mill_3', existing_version=None, capacity=7.0, name='hornsea_1_mill_3', windfarm='Hornsea 1'),\n",
       "                   WindmillApply(space='windmill-instances', external_id='hornsea_1_mill_2', existing_version=None, capacity=7.0, name='hornsea_1_mill_2', windfarm='Hornsea 1'),\n",
       "                   WindmillApply(space='windmill-instances', external_id='hornsea_1_mill_1', existing_version=None, capacity=7.0, name='hornsea_1_mill_1', windfarm='Hornsea 1'),\n",
       "                   WindmillApply(space='windmill-instances', external_id='hornsea_1_mill_4', existing_version=None, capacity=7.0, name='hornsea_1_mill_4', windfarm='Hornsea 1'),\n",
       "                   WindmillApply(space='windmill-instances', external_id='hornsea_1_mill_5', existing_version=None, capacity=7.0, name='hornsea_1_mill_5', windfarm='Hornsea 1')])"
      ]
     },
     "execution_count": 29,
     "metadata": {},
     "output_type": "execute_result"
    }
   ],
   "source": [
    "# The WindmillApplyList has a few helper methods and nicer display than a regular list\n",
    "windmills = WindmillApplyList(windmills)\n",
    "windmills"
   ]
  },
  {
   "cell_type": "markdown",
   "metadata": {
    "editable": true,
    "slideshow": {
     "slide_type": ""
    },
    "tags": []
   },
   "source": [
    "We note that the `external_id` field is set to the `name` for the windmill. If we check the other objects we see these gets an `external_id` = `class_name.lower():counter`"
   ]
  },
  {
   "cell_type": "code",
   "execution_count": 22,
   "metadata": {
    "editable": true,
    "slideshow": {
     "slide_type": ""
    },
    "tags": []
   },
   "outputs": [
    {
     "data": {
      "text/html": [
       "<div>\n",
       "<style scoped>\n",
       "    .dataframe tbody tr th:only-of-type {\n",
       "        vertical-align: middle;\n",
       "    }\n",
       "\n",
       "    .dataframe tbody tr th {\n",
       "        vertical-align: top;\n",
       "    }\n",
       "\n",
       "    .dataframe thead th {\n",
       "        text-align: right;\n",
       "    }\n",
       "</style>\n",
       "<table border=\"1\" class=\"dataframe\">\n",
       "  <thead>\n",
       "    <tr style=\"text-align: right;\">\n",
       "      <th></th>\n",
       "      <th>value</th>\n",
       "    </tr>\n",
       "  </thead>\n",
       "  <tbody>\n",
       "    <tr>\n",
       "      <th>external_id</th>\n",
       "      <td>nacelle:1</td>\n",
       "    </tr>\n",
       "    <tr>\n",
       "      <th>acc_from_back_side_x</th>\n",
       "      <td>V52-WindTurbine.Acc1N</td>\n",
       "    </tr>\n",
       "    <tr>\n",
       "      <th>acc_from_back_side_y</th>\n",
       "      <td>V52-WindTurbine.Acc2N</td>\n",
       "    </tr>\n",
       "    <tr>\n",
       "      <th>acc_from_back_side_z</th>\n",
       "      <td>V52-WindTurbine.Acc3N</td>\n",
       "    </tr>\n",
       "    <tr>\n",
       "      <th>gearbox</th>\n",
       "      <td>{'space': 'windmill-instances', 'external_id':...</td>\n",
       "    </tr>\n",
       "    <tr>\n",
       "      <th>generator</th>\n",
       "      <td>{'space': 'windmill-instances', 'external_id':...</td>\n",
       "    </tr>\n",
       "    <tr>\n",
       "      <th>high_speed_shaft</th>\n",
       "      <td>{'space': 'windmill-instances', 'external_id':...</td>\n",
       "    </tr>\n",
       "    <tr>\n",
       "      <th>main_shaft</th>\n",
       "      <td>{'space': 'windmill-instances', 'external_id':...</td>\n",
       "    </tr>\n",
       "    <tr>\n",
       "      <th>power_inverter</th>\n",
       "      <td>{'space': 'windmill-instances', 'external_id':...</td>\n",
       "    </tr>\n",
       "    <tr>\n",
       "      <th>yaw_direction</th>\n",
       "      <td>V52-WindTurbine.yaw</td>\n",
       "    </tr>\n",
       "    <tr>\n",
       "      <th>yaw_error</th>\n",
       "      <td>V52-WindTurbine.YawErr</td>\n",
       "    </tr>\n",
       "  </tbody>\n",
       "</table>\n",
       "</div>"
      ],
      "text/plain": [
       "NacelleApply(space='windmill-instances', external_id='nacelle:1', existing_version=None, acc_from_back_side_x='V52-WindTurbine.Acc1N', acc_from_back_side_y='V52-WindTurbine.Acc2N', acc_from_back_side_z='V52-WindTurbine.Acc3N', yaw_direction='V52-WindTurbine.yaw', yaw_error='V52-WindTurbine.YawErr')"
      ]
     },
     "execution_count": 22,
     "metadata": {},
     "output_type": "execute_result"
    }
   ],
   "source": [
    "windmills[0].nacelle"
   ]
  },
  {
   "cell_type": "markdown",
   "metadata": {
    "editable": true,
    "slideshow": {
     "slide_type": ""
    },
    "tags": []
   },
   "source": [
    "We can now upload this data by creating a domain client and call the `windmill.apply` method. "
   ]
  },
  {
   "cell_type": "code",
   "execution_count": 23,
   "metadata": {
    "editable": true,
    "slideshow": {
     "slide_type": ""
    },
    "tags": []
   },
   "outputs": [],
   "source": [
    "from windmill.client import WindmillClient"
   ]
  },
  {
   "cell_type": "code",
   "execution_count": 26,
   "metadata": {
    "editable": true,
    "slideshow": {
     "slide_type": ""
    },
    "tags": []
   },
   "outputs": [],
   "source": [
    "wind = WindmillClient.from_toml(\"config.toml\")"
   ]
  },
  {
   "cell_type": "code",
   "execution_count": 28,
   "metadata": {
    "editable": true,
    "slideshow": {
     "slide_type": ""
    },
    "tags": []
   },
   "outputs": [
    {
     "name": "stdout",
     "output_type": "stream",
     "text": [
      "145 nodes and 105 uploaded\n"
     ]
    }
   ],
   "source": [
    "result = wind.windmill.apply(windmills);\n",
    "print(f\"{len(result.nodes)} nodes and {len(result.edges)} uploaded\")"
   ]
  },
  {
   "cell_type": "markdown",
   "metadata": {
    "editable": true,
    "slideshow": {
     "slide_type": ""
    },
    "tags": []
   },
   "source": [
    "Note that `pygen` have the method `.to_instances_apply()` you can use to check which `nodes`and `edges` were created.\n",
    "\n",
    "We note that `pygen` created in total 145 nodes and 105 edges between these nodes.\n",
    "\n",
    "The edges were of 2 different types, and then nodes were ingested into 10 different views"
   ]
  },
  {
   "cell_type": "code",
   "execution_count": 37,
   "metadata": {
    "editable": true,
    "slideshow": {
     "slide_type": ""
    },
    "tags": []
   },
   "outputs": [],
   "source": [
    "instances = windmills.to_instances_apply()"
   ]
  },
  {
   "cell_type": "code",
   "execution_count": 38,
   "metadata": {
    "editable": true,
    "slideshow": {
     "slide_type": ""
    },
    "tags": []
   },
   "outputs": [
    {
     "data": {
      "text/plain": [
       "(145, 105)"
      ]
     },
     "execution_count": 38,
     "metadata": {},
     "output_type": "execute_result"
    }
   ],
   "source": [
    "len(instances.nodes), len(instances.edges)"
   ]
  },
  {
   "cell_type": "code",
   "execution_count": 39,
   "metadata": {
    "editable": true,
    "slideshow": {
     "slide_type": ""
    },
    "tags": []
   },
   "outputs": [
    {
     "data": {
      "text/plain": [
       "(2, {'Blade.sensor_positions', 'Windmill.blades'})"
      ]
     },
     "execution_count": 39,
     "metadata": {},
     "output_type": "execute_result"
    }
   ],
   "source": [
    "unique = set(edge.type.external_id for edge in instances.edges)\n",
    "len(unique), unique"
   ]
  },
  {
   "cell_type": "code",
   "execution_count": 40,
   "metadata": {
    "editable": true,
    "slideshow": {
     "slide_type": ""
    },
    "tags": []
   },
   "outputs": [
    {
     "data": {
      "text/plain": [
       "(10,\n",
       " {ViewId(space='power-models', external_id='Blade', version='1'),\n",
       "  ViewId(space='power-models', external_id='Gearbox', version='1'),\n",
       "  ViewId(space='power-models', external_id='Generator', version='1'),\n",
       "  ViewId(space='power-models', external_id='HighSpeedShaft', version='1'),\n",
       "  ViewId(space='power-models', external_id='MainShaft', version='1'),\n",
       "  ViewId(space='power-models', external_id='Nacelle', version='1'),\n",
       "  ViewId(space='power-models', external_id='PowerInverter', version='1'),\n",
       "  ViewId(space='power-models', external_id='Rotor', version='1'),\n",
       "  ViewId(space='power-models', external_id='SensorPosition', version='1'),\n",
       "  ViewId(space='power-models', external_id='Windmill', version='1')})"
      ]
     },
     "execution_count": 40,
     "metadata": {},
     "output_type": "execute_result"
    }
   ],
   "source": [
    "unique = set([source.source for node in instances.nodes for source in node.sources])\n",
    "len(unique), unique"
   ]
  },
  {
   "cell_type": "code",
   "execution_count": 41,
   "metadata": {
    "editable": true,
    "slideshow": {
     "slide_type": ""
    },
    "tags": []
   },
   "outputs": [
    {
     "data": {
      "text/html": [
       "<div>\n",
       "<style scoped>\n",
       "    .dataframe tbody tr th:only-of-type {\n",
       "        vertical-align: middle;\n",
       "    }\n",
       "\n",
       "    .dataframe tbody tr th {\n",
       "        vertical-align: top;\n",
       "    }\n",
       "\n",
       "    .dataframe thead th {\n",
       "        text-align: right;\n",
       "    }\n",
       "</style>\n",
       "<table border=\"1\" class=\"dataframe\">\n",
       "  <thead>\n",
       "    <tr style=\"text-align: right;\">\n",
       "      <th></th>\n",
       "      <th>instance_type</th>\n",
       "      <th>space</th>\n",
       "      <th>external_id</th>\n",
       "      <th>sources</th>\n",
       "    </tr>\n",
       "  </thead>\n",
       "  <tbody>\n",
       "    <tr>\n",
       "      <th>0</th>\n",
       "      <td>node</td>\n",
       "      <td>windmill-instances</td>\n",
       "      <td>hornsea_1_mill_3</td>\n",
       "      <td>[{'properties': {'capacity': 7.0, 'nacelle': {...</td>\n",
       "    </tr>\n",
       "    <tr>\n",
       "      <th>1</th>\n",
       "      <td>node</td>\n",
       "      <td>windmill-instances</td>\n",
       "      <td>blade:1</td>\n",
       "      <td>[{'properties': {'is_damaged': False, 'name': ...</td>\n",
       "    </tr>\n",
       "    <tr>\n",
       "      <th>2</th>\n",
       "      <td>node</td>\n",
       "      <td>windmill-instances</td>\n",
       "      <td>sensorposition:1</td>\n",
       "      <td>[{'properties': {'flapwise_bend_mom': 'V52-Win...</td>\n",
       "    </tr>\n",
       "    <tr>\n",
       "      <th>3</th>\n",
       "      <td>node</td>\n",
       "      <td>windmill-instances</td>\n",
       "      <td>sensorposition:2</td>\n",
       "      <td>[{'properties': {'edgewise_bend_mom_offset': '...</td>\n",
       "    </tr>\n",
       "    <tr>\n",
       "      <th>4</th>\n",
       "      <td>node</td>\n",
       "      <td>windmill-instances</td>\n",
       "      <td>sensorposition:3</td>\n",
       "      <td>[{'properties': {'edgewise_bend_mom_crosstalk_...</td>\n",
       "    </tr>\n",
       "    <tr>\n",
       "      <th>...</th>\n",
       "      <td>...</td>\n",
       "      <td>...</td>\n",
       "      <td>...</td>\n",
       "      <td>...</td>\n",
       "    </tr>\n",
       "    <tr>\n",
       "      <th>140</th>\n",
       "      <td>node</td>\n",
       "      <td>windmill-instances</td>\n",
       "      <td>generator:5</td>\n",
       "      <td>[{'properties': {'generator_speed_controller':...</td>\n",
       "    </tr>\n",
       "    <tr>\n",
       "      <th>141</th>\n",
       "      <td>node</td>\n",
       "      <td>windmill-instances</td>\n",
       "      <td>highspeedshaft:5</td>\n",
       "      <td>[{'properties': {'bending_moment_y': 'V52-Wind...</td>\n",
       "    </tr>\n",
       "    <tr>\n",
       "      <th>142</th>\n",
       "      <td>node</td>\n",
       "      <td>windmill-instances</td>\n",
       "      <td>mainshaft:5</td>\n",
       "      <td>[{'properties': {'bending_x': 'V52-WindTurbine...</td>\n",
       "    </tr>\n",
       "    <tr>\n",
       "      <th>143</th>\n",
       "      <td>node</td>\n",
       "      <td>windmill-instances</td>\n",
       "      <td>powerinverter:5</td>\n",
       "      <td>[{'properties': {'active_power_total': 'V52-Wi...</td>\n",
       "    </tr>\n",
       "    <tr>\n",
       "      <th>144</th>\n",
       "      <td>node</td>\n",
       "      <td>windmill-instances</td>\n",
       "      <td>rotor:5</td>\n",
       "      <td>[{'properties': {'rotor_speed_controller': 'V5...</td>\n",
       "    </tr>\n",
       "  </tbody>\n",
       "</table>\n",
       "<p>145 rows × 4 columns</p>\n",
       "</div>"
      ],
      "text/plain": [
       "NodeApplyList([<NodeApply(space='windmill-instances', external_id='hornsea_1_mill_3') at 0x14e34916e20>,\n",
       "               <NodeApply(space='windmill-instances', external_id='blade:1') at 0x14e34916220>,\n",
       "               <NodeApply(space='windmill-instances', external_id='sensorposition:1') at 0x14e34918190>,\n",
       "               <NodeApply(space='windmill-instances', external_id='sensorposition:2') at 0x14e34918b50>,\n",
       "               <NodeApply(space='windmill-instances', external_id='sensorposition:3') at 0x14e34918850>,\n",
       "               <NodeApply(space='windmill-instances', external_id='sensorposition:4') at 0x14e34918340>,\n",
       "               <NodeApply(space='windmill-instances', external_id='sensorposition:5') at 0x14e34918070>,\n",
       "               <NodeApply(space='windmill-instances', external_id='sensorposition:6') at 0x14e34918700>,\n",
       "               <NodeApply(space='windmill-instances', external_id='blade:2') at 0x14e34918730>,\n",
       "               <NodeApply(space='windmill-instances', external_id='sensorposition:7') at 0x14e349dec70>,\n",
       "               <NodeApply(space='windmill-instances', external_id='sensorposition:8') at 0x14e349deb80>,\n",
       "               <NodeApply(space='windmill-instances', external_id='sensorposition:9') at 0x14e3491c040>,\n",
       "               <NodeApply(space='windmill-instances', external_id='sensorposition:10') at 0x14e3491c100>,\n",
       "               <NodeApply(space='windmill-instances', external_id='sensorposition:11') at 0x14e3491c400>,\n",
       "               <NodeApply(space='windmill-instances', external_id='sensorposition:12') at 0x14e3491c5e0>,\n",
       "               <NodeApply(space='windmill-instances', external_id='blade:3') at 0x14e34918bb0>,\n",
       "               <NodeApply(space='windmill-instances', external_id='sensorposition:13') at 0x14e3491c7c0>,\n",
       "               <NodeApply(space='windmill-instances', external_id='sensorposition:14') at 0x14e3491c190>,\n",
       "               <NodeApply(space='windmill-instances', external_id='sensorposition:15') at 0x14e349193a0>,\n",
       "               <NodeApply(space='windmill-instances', external_id='sensorposition:16') at 0x14e34919910>,\n",
       "               <NodeApply(space='windmill-instances', external_id='sensorposition:17') at 0x14e349196d0>,\n",
       "               <NodeApply(space='windmill-instances', external_id='sensorposition:18') at 0x14e349192e0>,\n",
       "               <NodeApply(space='windmill-instances', external_id='nacelle:1') at 0x14e34916280>,\n",
       "               <NodeApply(space='windmill-instances', external_id='gearbox:1') at 0x14e3491c370>,\n",
       "               <NodeApply(space='windmill-instances', external_id='generator:1') at 0x14e34919160>,\n",
       "               <NodeApply(space='windmill-instances', external_id='highspeedshaft:1') at 0x14e349191c0>,\n",
       "               <NodeApply(space='windmill-instances', external_id='mainshaft:1') at 0x14e34919a90>,\n",
       "               <NodeApply(space='windmill-instances', external_id='powerinverter:1') at 0x14e3490feb0>,\n",
       "               <NodeApply(space='windmill-instances', external_id='rotor:1') at 0x14e3491c9a0>,\n",
       "               <NodeApply(space='windmill-instances', external_id='hornsea_1_mill_2') at 0x14e349163a0>,\n",
       "               <NodeApply(space='windmill-instances', external_id='blade:4') at 0x14e3490f190>,\n",
       "               <NodeApply(space='windmill-instances', external_id='sensorposition:19') at 0x14e3490f7c0>,\n",
       "               <NodeApply(space='windmill-instances', external_id='sensorposition:20') at 0x14e3490f8e0>,\n",
       "               <NodeApply(space='windmill-instances', external_id='sensorposition:21') at 0x14e3490f940>,\n",
       "               <NodeApply(space='windmill-instances', external_id='sensorposition:22') at 0x14e3490fdc0>,\n",
       "               <NodeApply(space='windmill-instances', external_id='sensorposition:23') at 0x14e349077f0>,\n",
       "               <NodeApply(space='windmill-instances', external_id='sensorposition:24') at 0x14e34907850>,\n",
       "               <NodeApply(space='windmill-instances', external_id='blade:5') at 0x14e34907520>,\n",
       "               <NodeApply(space='windmill-instances', external_id='sensorposition:25') at 0x14e34907760>,\n",
       "               <NodeApply(space='windmill-instances', external_id='sensorposition:26') at 0x14e34907d60>,\n",
       "               <NodeApply(space='windmill-instances', external_id='sensorposition:27') at 0x14e34907640>,\n",
       "               <NodeApply(space='windmill-instances', external_id='sensorposition:28') at 0x14e34907400>,\n",
       "               <NodeApply(space='windmill-instances', external_id='sensorposition:29') at 0x14e3490ce20>,\n",
       "               <NodeApply(space='windmill-instances', external_id='sensorposition:30') at 0x14e3490c3d0>,\n",
       "               <NodeApply(space='windmill-instances', external_id='blade:6') at 0x14e34907490>,\n",
       "               <NodeApply(space='windmill-instances', external_id='sensorposition:31') at 0x14e3490c430>,\n",
       "               <NodeApply(space='windmill-instances', external_id='sensorposition:32') at 0x14e3490cdf0>,\n",
       "               <NodeApply(space='windmill-instances', external_id='sensorposition:33') at 0x14e3490cca0>,\n",
       "               <NodeApply(space='windmill-instances', external_id='sensorposition:34') at 0x14e3490c3a0>,\n",
       "               <NodeApply(space='windmill-instances', external_id='sensorposition:35') at 0x14e336d5dc0>,\n",
       "               <NodeApply(space='windmill-instances', external_id='sensorposition:36') at 0x14e336d5ac0>,\n",
       "               <NodeApply(space='windmill-instances', external_id='nacelle:2') at 0x14e3490fac0>,\n",
       "               <NodeApply(space='windmill-instances', external_id='gearbox:2') at 0x14e3490c130>,\n",
       "               <NodeApply(space='windmill-instances', external_id='generator:2') at 0x14e336d58b0>,\n",
       "               <NodeApply(space='windmill-instances', external_id='highspeedshaft:2') at 0x14e336d5e50>,\n",
       "               <NodeApply(space='windmill-instances', external_id='mainshaft:2') at 0x14e337746a0>,\n",
       "               <NodeApply(space='windmill-instances', external_id='powerinverter:2') at 0x14e349d7fd0>,\n",
       "               <NodeApply(space='windmill-instances', external_id='rotor:2') at 0x14e3490f0d0>,\n",
       "               <NodeApply(space='windmill-instances', external_id='hornsea_1_mill_1') at 0x14e349169d0>,\n",
       "               <NodeApply(space='windmill-instances', external_id='blade:7') at 0x14e349d7f40>,\n",
       "               <NodeApply(space='windmill-instances', external_id='sensorposition:37') at 0x14e349d7280>,\n",
       "               <NodeApply(space='windmill-instances', external_id='sensorposition:38') at 0x14e349d70a0>,\n",
       "               <NodeApply(space='windmill-instances', external_id='sensorposition:39') at 0x14e349d8c70>,\n",
       "               <NodeApply(space='windmill-instances', external_id='sensorposition:40') at 0x14e349d8b20>,\n",
       "               <NodeApply(space='windmill-instances', external_id='sensorposition:41') at 0x14e349d8730>,\n",
       "               <NodeApply(space='windmill-instances', external_id='sensorposition:42') at 0x14e349d8f70>,\n",
       "               <NodeApply(space='windmill-instances', external_id='blade:8') at 0x14e349d8ca0>,\n",
       "               <NodeApply(space='windmill-instances', external_id='sensorposition:43') at 0x14e349d8460>,\n",
       "               <NodeApply(space='windmill-instances', external_id='sensorposition:44') at 0x14e349d6ca0>,\n",
       "               <NodeApply(space='windmill-instances', external_id='sensorposition:45') at 0x14e349d6cd0>,\n",
       "               <NodeApply(space='windmill-instances', external_id='sensorposition:46') at 0x14e349d6850>,\n",
       "               <NodeApply(space='windmill-instances', external_id='sensorposition:47') at 0x14e349d6310>,\n",
       "               <NodeApply(space='windmill-instances', external_id='sensorposition:48') at 0x14e349d6be0>,\n",
       "               <NodeApply(space='windmill-instances', external_id='blade:9') at 0x14e349d8fd0>,\n",
       "               <NodeApply(space='windmill-instances', external_id='sensorposition:49') at 0x14e349d66d0>,\n",
       "               <NodeApply(space='windmill-instances', external_id='sensorposition:50') at 0x14e349d6250>,\n",
       "               <NodeApply(space='windmill-instances', external_id='sensorposition:51') at 0x14e349d98e0>,\n",
       "               <NodeApply(space='windmill-instances', external_id='sensorposition:52') at 0x14e349d9040>,\n",
       "               <NodeApply(space='windmill-instances', external_id='sensorposition:53') at 0x14e349d9bb0>,\n",
       "               <NodeApply(space='windmill-instances', external_id='sensorposition:54') at 0x14e349d9df0>,\n",
       "               <NodeApply(space='windmill-instances', external_id='nacelle:3') at 0x14e349d60d0>,\n",
       "               <NodeApply(space='windmill-instances', external_id='gearbox:3') at 0x14e349d82b0>,\n",
       "               <NodeApply(space='windmill-instances', external_id='generator:3') at 0x14e349d9d30>,\n",
       "               <NodeApply(space='windmill-instances', external_id='highspeedshaft:3') at 0x14e349d9490>,\n",
       "               <NodeApply(space='windmill-instances', external_id='mainshaft:3') at 0x14e349d9a90>,\n",
       "               <NodeApply(space='windmill-instances', external_id='powerinverter:3') at 0x14e349d9f40>,\n",
       "               <NodeApply(space='windmill-instances', external_id='rotor:3') at 0x14e349d67f0>,\n",
       "               <NodeApply(space='windmill-instances', external_id='hornsea_1_mill_4') at 0x14e34907af0>,\n",
       "               <NodeApply(space='windmill-instances', external_id='blade:10') at 0x14e349d9c10>,\n",
       "               <NodeApply(space='windmill-instances', external_id='sensorposition:55') at 0x14e3491f850>,\n",
       "               <NodeApply(space='windmill-instances', external_id='sensorposition:56') at 0x14e349d4d30>,\n",
       "               <NodeApply(space='windmill-instances', external_id='sensorposition:57') at 0x14e349d4a30>,\n",
       "               <NodeApply(space='windmill-instances', external_id='sensorposition:58') at 0x14e349d4d90>,\n",
       "               <NodeApply(space='windmill-instances', external_id='sensorposition:59') at 0x14e349d4eb0>,\n",
       "               <NodeApply(space='windmill-instances', external_id='sensorposition:60') at 0x14e349d4670>,\n",
       "               <NodeApply(space='windmill-instances', external_id='blade:11') at 0x14e349d4700>,\n",
       "               <NodeApply(space='windmill-instances', external_id='sensorposition:61') at 0x14e34915370>,\n",
       "               <NodeApply(space='windmill-instances', external_id='sensorposition:62') at 0x14e34915910>,\n",
       "               <NodeApply(space='windmill-instances', external_id='sensorposition:63') at 0x14e34915610>,\n",
       "               <NodeApply(space='windmill-instances', external_id='sensorposition:64') at 0x14e34915f70>,\n",
       "               <NodeApply(space='windmill-instances', external_id='sensorposition:65') at 0x14e34915700>,\n",
       "               <NodeApply(space='windmill-instances', external_id='sensorposition:66') at 0x14e34915b80>,\n",
       "               <NodeApply(space='windmill-instances', external_id='blade:12') at 0x14e349d4520>,\n",
       "               <NodeApply(space='windmill-instances', external_id='sensorposition:67') at 0x14e3490e700>,\n",
       "               <NodeApply(space='windmill-instances', external_id='sensorposition:68') at 0x14e3490e040>,\n",
       "               <NodeApply(space='windmill-instances', external_id='sensorposition:69') at 0x14e3490e7c0>,\n",
       "               <NodeApply(space='windmill-instances', external_id='sensorposition:70') at 0x14e34908370>,\n",
       "               <NodeApply(space='windmill-instances', external_id='sensorposition:71') at 0x14e34908ee0>,\n",
       "               <NodeApply(space='windmill-instances', external_id='sensorposition:72') at 0x14e34908a60>,\n",
       "               <NodeApply(space='windmill-instances', external_id='nacelle:4') at 0x14e349d99d0>,\n",
       "               <NodeApply(space='windmill-instances', external_id='gearbox:4') at 0x14e34915790>,\n",
       "               <NodeApply(space='windmill-instances', external_id='generator:4') at 0x14e34908190>,\n",
       "               <NodeApply(space='windmill-instances', external_id='highspeedshaft:4') at 0x14e34908c10>,\n",
       "               <NodeApply(space='windmill-instances', external_id='mainshaft:4') at 0x14e349084c0>,\n",
       "               <NodeApply(space='windmill-instances', external_id='powerinverter:4') at 0x14e34908700>,\n",
       "               <NodeApply(space='windmill-instances', external_id='rotor:4') at 0x14e349151c0>,\n",
       "               <NodeApply(space='windmill-instances', external_id='hornsea_1_mill_5') at 0x14e3490cd00>,\n",
       "               <NodeApply(space='windmill-instances', external_id='blade:13') at 0x14e34908ca0>,\n",
       "               <NodeApply(space='windmill-instances', external_id='sensorposition:73') at 0x14e349089a0>,\n",
       "               <NodeApply(space='windmill-instances', external_id='sensorposition:74') at 0x14e34913a00>,\n",
       "               <NodeApply(space='windmill-instances', external_id='sensorposition:75') at 0x14e349139a0>,\n",
       "               <NodeApply(space='windmill-instances', external_id='sensorposition:76') at 0x14e34913850>,\n",
       "               <NodeApply(space='windmill-instances', external_id='sensorposition:77') at 0x14e349b4f10>,\n",
       "               <NodeApply(space='windmill-instances', external_id='sensorposition:78') at 0x14e349ba460>,\n",
       "               <NodeApply(space='windmill-instances', external_id='blade:14') at 0x14e349baf70>,\n",
       "               <NodeApply(space='windmill-instances', external_id='sensorposition:79') at 0x14e348fe1c0>,\n",
       "               <NodeApply(space='windmill-instances', external_id='sensorposition:80') at 0x14e348fe520>,\n",
       "               <NodeApply(space='windmill-instances', external_id='sensorposition:81') at 0x14e348fe700>,\n",
       "               <NodeApply(space='windmill-instances', external_id='sensorposition:82') at 0x14e348fe8e0>,\n",
       "               <NodeApply(space='windmill-instances', external_id='sensorposition:83') at 0x14e348feac0>,\n",
       "               <NodeApply(space='windmill-instances', external_id='sensorposition:84') at 0x14e348feca0>,\n",
       "               <NodeApply(space='windmill-instances', external_id='blade:15') at 0x14e34913fd0>,\n",
       "               <NodeApply(space='windmill-instances', external_id='sensorposition:85') at 0x14e348fef40>,\n",
       "               <NodeApply(space='windmill-instances', external_id='sensorposition:86') at 0x14e348f42e0>,\n",
       "               <NodeApply(space='windmill-instances', external_id='sensorposition:87') at 0x14e348f44c0>,\n",
       "               <NodeApply(space='windmill-instances', external_id='sensorposition:88') at 0x14e348f46a0>,\n",
       "               <NodeApply(space='windmill-instances', external_id='sensorposition:89') at 0x14e348f4880>,\n",
       "               <NodeApply(space='windmill-instances', external_id='sensorposition:90') at 0x14e348f4a60>,\n",
       "               <NodeApply(space='windmill-instances', external_id='nacelle:5') at 0x14e34908d60>,\n",
       "               <NodeApply(space='windmill-instances', external_id='gearbox:5') at 0x14e348fe1f0>,\n",
       "               <NodeApply(space='windmill-instances', external_id='generator:5') at 0x14e348f4ac0>,\n",
       "               <NodeApply(space='windmill-instances', external_id='highspeedshaft:5') at 0x14e348f4400>,\n",
       "               <NodeApply(space='windmill-instances', external_id='mainshaft:5') at 0x14e348f4c10>,\n",
       "               <NodeApply(space='windmill-instances', external_id='powerinverter:5') at 0x14e348f4d00>,\n",
       "               <NodeApply(space='windmill-instances', external_id='rotor:5') at 0x14e348fee50>])"
      ]
     },
     "execution_count": 41,
     "metadata": {},
     "output_type": "execute_result"
    }
   ],
   "source": [
    "instances.nodes"
   ]
  },
  {
   "cell_type": "code",
   "execution_count": 42,
   "metadata": {
    "editable": true,
    "slideshow": {
     "slide_type": ""
    },
    "tags": []
   },
   "outputs": [
    {
     "data": {
      "text/html": [
       "<div>\n",
       "<style scoped>\n",
       "    .dataframe tbody tr th:only-of-type {\n",
       "        vertical-align: middle;\n",
       "    }\n",
       "\n",
       "    .dataframe tbody tr th {\n",
       "        vertical-align: top;\n",
       "    }\n",
       "\n",
       "    .dataframe thead th {\n",
       "        text-align: right;\n",
       "    }\n",
       "</style>\n",
       "<table border=\"1\" class=\"dataframe\">\n",
       "  <thead>\n",
       "    <tr style=\"text-align: right;\">\n",
       "      <th></th>\n",
       "      <th>instance_type</th>\n",
       "      <th>space</th>\n",
       "      <th>external_id</th>\n",
       "      <th>type</th>\n",
       "      <th>start_node</th>\n",
       "      <th>end_node</th>\n",
       "    </tr>\n",
       "  </thead>\n",
       "  <tbody>\n",
       "    <tr>\n",
       "      <th>0</th>\n",
       "      <td>edge</td>\n",
       "      <td>windmill-instances</td>\n",
       "      <td>hornsea_1_mill_3:blade:1</td>\n",
       "      <td>{'space': 'power-models', 'external_id': 'Wind...</td>\n",
       "      <td>{'space': 'windmill-instances', 'external_id':...</td>\n",
       "      <td>{'space': 'windmill-instances', 'external_id':...</td>\n",
       "    </tr>\n",
       "    <tr>\n",
       "      <th>1</th>\n",
       "      <td>edge</td>\n",
       "      <td>windmill-instances</td>\n",
       "      <td>blade:1:sensorposition:1</td>\n",
       "      <td>{'space': 'power-models', 'external_id': 'Blad...</td>\n",
       "      <td>{'space': 'windmill-instances', 'external_id':...</td>\n",
       "      <td>{'space': 'windmill-instances', 'external_id':...</td>\n",
       "    </tr>\n",
       "    <tr>\n",
       "      <th>2</th>\n",
       "      <td>edge</td>\n",
       "      <td>windmill-instances</td>\n",
       "      <td>blade:1:sensorposition:2</td>\n",
       "      <td>{'space': 'power-models', 'external_id': 'Blad...</td>\n",
       "      <td>{'space': 'windmill-instances', 'external_id':...</td>\n",
       "      <td>{'space': 'windmill-instances', 'external_id':...</td>\n",
       "    </tr>\n",
       "    <tr>\n",
       "      <th>3</th>\n",
       "      <td>edge</td>\n",
       "      <td>windmill-instances</td>\n",
       "      <td>blade:1:sensorposition:3</td>\n",
       "      <td>{'space': 'power-models', 'external_id': 'Blad...</td>\n",
       "      <td>{'space': 'windmill-instances', 'external_id':...</td>\n",
       "      <td>{'space': 'windmill-instances', 'external_id':...</td>\n",
       "    </tr>\n",
       "    <tr>\n",
       "      <th>4</th>\n",
       "      <td>edge</td>\n",
       "      <td>windmill-instances</td>\n",
       "      <td>blade:1:sensorposition:4</td>\n",
       "      <td>{'space': 'power-models', 'external_id': 'Blad...</td>\n",
       "      <td>{'space': 'windmill-instances', 'external_id':...</td>\n",
       "      <td>{'space': 'windmill-instances', 'external_id':...</td>\n",
       "    </tr>\n",
       "    <tr>\n",
       "      <th>...</th>\n",
       "      <td>...</td>\n",
       "      <td>...</td>\n",
       "      <td>...</td>\n",
       "      <td>...</td>\n",
       "      <td>...</td>\n",
       "      <td>...</td>\n",
       "    </tr>\n",
       "    <tr>\n",
       "      <th>100</th>\n",
       "      <td>edge</td>\n",
       "      <td>windmill-instances</td>\n",
       "      <td>blade:15:sensorposition:86</td>\n",
       "      <td>{'space': 'power-models', 'external_id': 'Blad...</td>\n",
       "      <td>{'space': 'windmill-instances', 'external_id':...</td>\n",
       "      <td>{'space': 'windmill-instances', 'external_id':...</td>\n",
       "    </tr>\n",
       "    <tr>\n",
       "      <th>101</th>\n",
       "      <td>edge</td>\n",
       "      <td>windmill-instances</td>\n",
       "      <td>blade:15:sensorposition:87</td>\n",
       "      <td>{'space': 'power-models', 'external_id': 'Blad...</td>\n",
       "      <td>{'space': 'windmill-instances', 'external_id':...</td>\n",
       "      <td>{'space': 'windmill-instances', 'external_id':...</td>\n",
       "    </tr>\n",
       "    <tr>\n",
       "      <th>102</th>\n",
       "      <td>edge</td>\n",
       "      <td>windmill-instances</td>\n",
       "      <td>blade:15:sensorposition:88</td>\n",
       "      <td>{'space': 'power-models', 'external_id': 'Blad...</td>\n",
       "      <td>{'space': 'windmill-instances', 'external_id':...</td>\n",
       "      <td>{'space': 'windmill-instances', 'external_id':...</td>\n",
       "    </tr>\n",
       "    <tr>\n",
       "      <th>103</th>\n",
       "      <td>edge</td>\n",
       "      <td>windmill-instances</td>\n",
       "      <td>blade:15:sensorposition:89</td>\n",
       "      <td>{'space': 'power-models', 'external_id': 'Blad...</td>\n",
       "      <td>{'space': 'windmill-instances', 'external_id':...</td>\n",
       "      <td>{'space': 'windmill-instances', 'external_id':...</td>\n",
       "    </tr>\n",
       "    <tr>\n",
       "      <th>104</th>\n",
       "      <td>edge</td>\n",
       "      <td>windmill-instances</td>\n",
       "      <td>blade:15:sensorposition:90</td>\n",
       "      <td>{'space': 'power-models', 'external_id': 'Blad...</td>\n",
       "      <td>{'space': 'windmill-instances', 'external_id':...</td>\n",
       "      <td>{'space': 'windmill-instances', 'external_id':...</td>\n",
       "    </tr>\n",
       "  </tbody>\n",
       "</table>\n",
       "<p>105 rows × 6 columns</p>\n",
       "</div>"
      ],
      "text/plain": [
       "EdgeApplyList([<EdgeApply(space='windmill-instances', external_id='hornsea_1_mill_3:blade:1') at 0x14e34916e80>,\n",
       "               <EdgeApply(space='windmill-instances', external_id='blade:1:sensorposition:1') at 0x14e34916100>,\n",
       "               <EdgeApply(space='windmill-instances', external_id='blade:1:sensorposition:2') at 0x14e349184f0>,\n",
       "               <EdgeApply(space='windmill-instances', external_id='blade:1:sensorposition:3') at 0x14e34918160>,\n",
       "               <EdgeApply(space='windmill-instances', external_id='blade:1:sensorposition:4') at 0x14e34918910>,\n",
       "               <EdgeApply(space='windmill-instances', external_id='blade:1:sensorposition:5') at 0x14e34918be0>,\n",
       "               <EdgeApply(space='windmill-instances', external_id='blade:1:sensorposition:6') at 0x14e34918d00>,\n",
       "               <EdgeApply(space='windmill-instances', external_id='hornsea_1_mill_3:blade:2') at 0x14e34916160>,\n",
       "               <EdgeApply(space='windmill-instances', external_id='blade:2:sensorposition:7') at 0x14e349deaf0>,\n",
       "               <EdgeApply(space='windmill-instances', external_id='blade:2:sensorposition:8') at 0x14e349defa0>,\n",
       "               <EdgeApply(space='windmill-instances', external_id='blade:2:sensorposition:9') at 0x14e34887910>,\n",
       "               <EdgeApply(space='windmill-instances', external_id='blade:2:sensorposition:10') at 0x14e349de970>,\n",
       "               <EdgeApply(space='windmill-instances', external_id='blade:2:sensorposition:11') at 0x14e3491cca0>,\n",
       "               <EdgeApply(space='windmill-instances', external_id='blade:2:sensorposition:12') at 0x14e3491c550>,\n",
       "               <EdgeApply(space='windmill-instances', external_id='hornsea_1_mill_3:blade:3') at 0x14e349166a0>,\n",
       "               <EdgeApply(space='windmill-instances', external_id='blade:3:sensorposition:13') at 0x14e3491c2e0>,\n",
       "               <EdgeApply(space='windmill-instances', external_id='blade:3:sensorposition:14') at 0x14e3491cc10>,\n",
       "               <EdgeApply(space='windmill-instances', external_id='blade:3:sensorposition:15') at 0x14e3491c7f0>,\n",
       "               <EdgeApply(space='windmill-instances', external_id='blade:3:sensorposition:16') at 0x14e3491c940>,\n",
       "               <EdgeApply(space='windmill-instances', external_id='blade:3:sensorposition:17') at 0x14e34919df0>,\n",
       "               <EdgeApply(space='windmill-instances', external_id='blade:3:sensorposition:18') at 0x14e349199d0>,\n",
       "               <EdgeApply(space='windmill-instances', external_id='hornsea_1_mill_2:blade:4') at 0x14e34918610>,\n",
       "               <EdgeApply(space='windmill-instances', external_id='blade:4:sensorposition:19') at 0x14e3490f3a0>,\n",
       "               <EdgeApply(space='windmill-instances', external_id='blade:4:sensorposition:20') at 0x14e3490f580>,\n",
       "               <EdgeApply(space='windmill-instances', external_id='blade:4:sensorposition:21') at 0x14e3490f4c0>,\n",
       "               <EdgeApply(space='windmill-instances', external_id='blade:4:sensorposition:22') at 0x14e3490f700>,\n",
       "               <EdgeApply(space='windmill-instances', external_id='blade:4:sensorposition:23') at 0x14e3490ff40>,\n",
       "               <EdgeApply(space='windmill-instances', external_id='blade:4:sensorposition:24') at 0x14e34907580>,\n",
       "               <EdgeApply(space='windmill-instances', external_id='hornsea_1_mill_2:blade:5') at 0x14e3490f5b0>,\n",
       "               <EdgeApply(space='windmill-instances', external_id='blade:5:sensorposition:25') at 0x14e349075e0>,\n",
       "               <EdgeApply(space='windmill-instances', external_id='blade:5:sensorposition:26') at 0x14e349073d0>,\n",
       "               <EdgeApply(space='windmill-instances', external_id='blade:5:sensorposition:27') at 0x14e34907df0>,\n",
       "               <EdgeApply(space='windmill-instances', external_id='blade:5:sensorposition:28') at 0x14e34907d00>,\n",
       "               <EdgeApply(space='windmill-instances', external_id='blade:5:sensorposition:29') at 0x14e34907250>,\n",
       "               <EdgeApply(space='windmill-instances', external_id='blade:5:sensorposition:30') at 0x14e349071f0>,\n",
       "               <EdgeApply(space='windmill-instances', external_id='hornsea_1_mill_2:blade:6') at 0x14e3490f1c0>,\n",
       "               <EdgeApply(space='windmill-instances', external_id='blade:6:sensorposition:31') at 0x14e3490c280>,\n",
       "               <EdgeApply(space='windmill-instances', external_id='blade:6:sensorposition:32') at 0x14e3490c6a0>,\n",
       "               <EdgeApply(space='windmill-instances', external_id='blade:6:sensorposition:33') at 0x14e3490c040>,\n",
       "               <EdgeApply(space='windmill-instances', external_id='blade:6:sensorposition:34') at 0x14e3490cf70>,\n",
       "               <EdgeApply(space='windmill-instances', external_id='blade:6:sensorposition:35') at 0x14e3490c790>,\n",
       "               <EdgeApply(space='windmill-instances', external_id='blade:6:sensorposition:36') at 0x14e3490ca90>,\n",
       "               <EdgeApply(space='windmill-instances', external_id='hornsea_1_mill_1:blade:7') at 0x14e3490c940>,\n",
       "               <EdgeApply(space='windmill-instances', external_id='blade:7:sensorposition:37') at 0x14e349d7670>,\n",
       "               <EdgeApply(space='windmill-instances', external_id='blade:7:sensorposition:38') at 0x14e349d7220>,\n",
       "               <EdgeApply(space='windmill-instances', external_id='blade:7:sensorposition:39') at 0x14e349d72e0>,\n",
       "               <EdgeApply(space='windmill-instances', external_id='blade:7:sensorposition:40') at 0x14e349d8ac0>,\n",
       "               <EdgeApply(space='windmill-instances', external_id='blade:7:sensorposition:41') at 0x14e349d89d0>,\n",
       "               <EdgeApply(space='windmill-instances', external_id='blade:7:sensorposition:42') at 0x14e349d8610>,\n",
       "               <EdgeApply(space='windmill-instances', external_id='hornsea_1_mill_1:blade:8') at 0x14e349d7310>,\n",
       "               <EdgeApply(space='windmill-instances', external_id='blade:8:sensorposition:43') at 0x14e349d8d90>,\n",
       "               <EdgeApply(space='windmill-instances', external_id='blade:8:sensorposition:44') at 0x14e349d8310>,\n",
       "               <EdgeApply(space='windmill-instances', external_id='blade:8:sensorposition:45') at 0x14e349d8370>,\n",
       "               <EdgeApply(space='windmill-instances', external_id='blade:8:sensorposition:46') at 0x14e349d6fa0>,\n",
       "               <EdgeApply(space='windmill-instances', external_id='blade:8:sensorposition:47') at 0x14e349d6670>,\n",
       "               <EdgeApply(space='windmill-instances', external_id='blade:8:sensorposition:48') at 0x14e349d6550>,\n",
       "               <EdgeApply(space='windmill-instances', external_id='hornsea_1_mill_1:blade:9') at 0x14e349d7e80>,\n",
       "               <EdgeApply(space='windmill-instances', external_id='blade:9:sensorposition:49') at 0x14e349d65b0>,\n",
       "               <EdgeApply(space='windmill-instances', external_id='blade:9:sensorposition:50') at 0x14e349d6b80>,\n",
       "               <EdgeApply(space='windmill-instances', external_id='blade:9:sensorposition:51') at 0x14e349d6100>,\n",
       "               <EdgeApply(space='windmill-instances', external_id='blade:9:sensorposition:52') at 0x14e349d6490>,\n",
       "               <EdgeApply(space='windmill-instances', external_id='blade:9:sensorposition:53') at 0x14e349d94c0>,\n",
       "               <EdgeApply(space='windmill-instances', external_id='blade:9:sensorposition:54') at 0x14e349d9af0>,\n",
       "               <EdgeApply(space='windmill-instances', external_id='hornsea_1_mill_4:blade:10') at 0x14e349d6430>,\n",
       "               <EdgeApply(space='windmill-instances', external_id='blade:10:sensorposition:55') at 0x14e3491f5e0>,\n",
       "               <EdgeApply(space='windmill-instances', external_id='blade:10:sensorposition:56') at 0x14e3491f250>,\n",
       "               <EdgeApply(space='windmill-instances', external_id='blade:10:sensorposition:57') at 0x14e349d4d60>,\n",
       "               <EdgeApply(space='windmill-instances', external_id='blade:10:sensorposition:58') at 0x14e349d4760>,\n",
       "               <EdgeApply(space='windmill-instances', external_id='blade:10:sensorposition:59') at 0x14e349d4f70>,\n",
       "               <EdgeApply(space='windmill-instances', external_id='blade:10:sensorposition:60') at 0x14e349d47f0>,\n",
       "               <EdgeApply(space='windmill-instances', external_id='hornsea_1_mill_4:blade:11') at 0x14e3491f790>,\n",
       "               <EdgeApply(space='windmill-instances', external_id='blade:11:sensorposition:61') at 0x14e349d4550>,\n",
       "               <EdgeApply(space='windmill-instances', external_id='blade:11:sensorposition:62') at 0x14e34915430>,\n",
       "               <EdgeApply(space='windmill-instances', external_id='blade:11:sensorposition:63') at 0x14e349152b0>,\n",
       "               <EdgeApply(space='windmill-instances', external_id='blade:11:sensorposition:64') at 0x14e34915d90>,\n",
       "               <EdgeApply(space='windmill-instances', external_id='blade:11:sensorposition:65') at 0x14e34915250>,\n",
       "               <EdgeApply(space='windmill-instances', external_id='blade:11:sensorposition:66') at 0x14e34915c10>,\n",
       "               <EdgeApply(space='windmill-instances', external_id='hornsea_1_mill_4:blade:12') at 0x14e349d97f0>,\n",
       "               <EdgeApply(space='windmill-instances', external_id='blade:12:sensorposition:67') at 0x14e34915070>,\n",
       "               <EdgeApply(space='windmill-instances', external_id='blade:12:sensorposition:68') at 0x14e3490e160>,\n",
       "               <EdgeApply(space='windmill-instances', external_id='blade:12:sensorposition:69') at 0x14e3490e340>,\n",
       "               <EdgeApply(space='windmill-instances', external_id='blade:12:sensorposition:70') at 0x14e3490eac0>,\n",
       "               <EdgeApply(space='windmill-instances', external_id='blade:12:sensorposition:71') at 0x14e3490e370>,\n",
       "               <EdgeApply(space='windmill-instances', external_id='blade:12:sensorposition:72') at 0x14e34908490>,\n",
       "               <EdgeApply(space='windmill-instances', external_id='hornsea_1_mill_5:blade:13') at 0x14e349153a0>,\n",
       "               <EdgeApply(space='windmill-instances', external_id='blade:13:sensorposition:73') at 0x14e34908670>,\n",
       "               <EdgeApply(space='windmill-instances', external_id='blade:13:sensorposition:74') at 0x14e34908130>,\n",
       "               <EdgeApply(space='windmill-instances', external_id='blade:13:sensorposition:75') at 0x14e349a5d30>,\n",
       "               <EdgeApply(space='windmill-instances', external_id='blade:13:sensorposition:76') at 0x14e34913e80>,\n",
       "               <EdgeApply(space='windmill-instances', external_id='blade:13:sensorposition:77') at 0x14e34913280>,\n",
       "               <EdgeApply(space='windmill-instances', external_id='blade:13:sensorposition:78') at 0x14e349b4fd0>,\n",
       "               <EdgeApply(space='windmill-instances', external_id='hornsea_1_mill_5:blade:14') at 0x14e34908c70>,\n",
       "               <EdgeApply(space='windmill-instances', external_id='blade:14:sensorposition:79') at 0x14e349c0f10>,\n",
       "               <EdgeApply(space='windmill-instances', external_id='blade:14:sensorposition:80') at 0x14e348fe0a0>,\n",
       "               <EdgeApply(space='windmill-instances', external_id='blade:14:sensorposition:81') at 0x14e348fe610>,\n",
       "               <EdgeApply(space='windmill-instances', external_id='blade:14:sensorposition:82') at 0x14e348fe7f0>,\n",
       "               <EdgeApply(space='windmill-instances', external_id='blade:14:sensorposition:83') at 0x14e348fe9d0>,\n",
       "               <EdgeApply(space='windmill-instances', external_id='blade:14:sensorposition:84') at 0x14e348febb0>,\n",
       "               <EdgeApply(space='windmill-instances', external_id='hornsea_1_mill_5:blade:15') at 0x14e349c0f70>,\n",
       "               <EdgeApply(space='windmill-instances', external_id='blade:15:sensorposition:85') at 0x14e348febe0>,\n",
       "               <EdgeApply(space='windmill-instances', external_id='blade:15:sensorposition:86') at 0x14e348f40d0>,\n",
       "               <EdgeApply(space='windmill-instances', external_id='blade:15:sensorposition:87') at 0x14e348f43d0>,\n",
       "               <EdgeApply(space='windmill-instances', external_id='blade:15:sensorposition:88') at 0x14e348f45b0>,\n",
       "               <EdgeApply(space='windmill-instances', external_id='blade:15:sensorposition:89') at 0x14e348f4790>,\n",
       "               <EdgeApply(space='windmill-instances', external_id='blade:15:sensorposition:90') at 0x14e348f4970>])"
      ]
     },
     "execution_count": 42,
     "metadata": {},
     "output_type": "execute_result"
    }
   ],
   "source": [
    "instances.edges"
   ]
  },
  {
   "cell_type": "code",
   "execution_count": null,
   "metadata": {
    "editable": true,
    "slideshow": {
     "slide_type": ""
    },
    "tags": []
   },
   "outputs": [],
   "source": []
  },
  {
   "cell_type": "code",
   "execution_count": null,
   "metadata": {
    "editable": true,
    "slideshow": {
     "slide_type": ""
    },
    "tags": []
   },
   "outputs": [],
   "source": []
  }
 ],
 "metadata": {
  "kernelspec": {
   "display_name": "Python 3 (ipykernel)",
   "language": "python",
   "name": "python3"
  },
  "language_info": {
   "codemirror_mode": {
    "name": "ipython",
    "version": 3
   },
   "file_extension": ".py",
   "mimetype": "text/x-python",
   "name": "python",
   "nbconvert_exporter": "python",
   "pygments_lexer": "ipython3",
   "version": "3.9.13"
  }
 },
 "nbformat": 4,
 "nbformat_minor": 4
}
