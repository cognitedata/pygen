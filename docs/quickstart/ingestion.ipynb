{
 "cells": [
  {
   "cell_type": "markdown",
   "metadata": {
    "editable": true,
    "slideshow": {
     "slide_type": ""
    },
    "tags": []
   },
   "source": [
    "# Data Population\n",
    "**Prerequisites**\n",
    "- Access to a CDF Project.\n",
    "- Know how to use a terminal, so you can run `pygen` from the command line to \n",
    "  generate the SDK.\n",
    "- Knowledge of your the data and data model."
   ]
  },
  {
   "cell_type": "code",
   "execution_count": null,
   "metadata": {
    "editable": true,
    "slideshow": {
     "slide_type": ""
    },
    "tags": [
     "hide"
    ]
   },
   "outputs": [],
   "source": [
    "import warnings\n",
    "\n",
    "warnings.filterwarnings(\"ignore\")\n",
    "# This is just to enable improting the generated SDK from the examples folder in the pygen repository\n",
    "import sys  # noqa: E402\n",
    "\n",
    "from tests.constants import REPO_ROOT  # noqa: E402\n",
    "\n",
    "sys.path.append(str(REPO_ROOT / \"examples\"))"
   ]
  },
  {
   "cell_type": "markdown",
   "metadata": {
    "editable": true,
    "slideshow": {
     "slide_type": ""
    },
    "tags": []
   },
   "source": [
    "## Introduction to Problem"
   ]
  },
  {
   "attachments": {},
   "cell_type": "markdown",
   "metadata": {
    "editable": true,
    "slideshow": {
     "slide_type": ""
    },
    "tags": []
   },
   "source": [
    "`pygen` can be used to ingest data into an existing data model. It is well suited when the source data is nested and comes in a format such as `JSON`.\n",
    "\n",
    "Before you can ingest data you need the following:\n",
    "\n",
    "1. A Data Model Deployed to CDF.\n",
    "2. Generated an SDK for it.\n",
    "\n",
    "In this guide, we will use some windmill data as an example. First, we already have a deployed a model and generated an SDK for it.\n",
    "\n",
    "The model was generated with the follwing config from the `pyproject.toml`\n",
    "\n",
    "```toml\n",
    "[tool.pygen]\n",
    "data_models = [\n",
    "    [\"sp_pygen_power\", \"WindTurbine\", \"1\"],\n",
    "]\n",
    "\n",
    "```\n",
    "\n",
    "\n",
    "The model is illustrated in Cognite Data Fusions interface below:\n",
    "\n",
    "<img src=\"images/windturbine_model\" width=\"800\">"
   ]
  },
  {
   "cell_type": "markdown",
   "metadata": {
    "editable": true,
    "slideshow": {
     "slide_type": ""
    },
    "tags": []
   },
   "source": [
    "First, we will inspect some of the data we have available"
   ]
  },
  {
   "cell_type": "code",
   "execution_count": 3,
   "metadata": {
    "editable": true,
    "slideshow": {
     "slide_type": ""
    },
    "tags": []
   },
   "outputs": [],
   "source": [
    "from tests.constants import WindMillFiles"
   ]
  },
  {
   "cell_type": "code",
   "execution_count": 4,
   "metadata": {
    "editable": true,
    "slideshow": {
     "slide_type": ""
    },
    "tags": []
   },
   "outputs": [
    {
     "name": "stdout",
     "output_type": "stream",
     "text": [
      "[\n",
      "    {\n",
      "\n",
      "        \"name\": \"hornsea_1_mill_3\",\n",
      "        \"windfarm\": \"Hornsea 1\",\n",
      "        \"capacity\": 7.0,\n",
      "        \"rotor\": {\n",
      "\n",
      "            \"rotor_speed_controller\": \"V52-WindTurbine.ROT\",\n",
      "            \"rpm_low_speed_shaft\": \"V52-WindTurbine.cnt0\"\n",
      "        },\n",
      "        \"nacelle\": {\n",
      "\n",
      "            \"gearbox\": {\n",
      "\n",
      "                \"displacement_x\": \"V52-WindTurbine.Gear_D_X\",\n",
      "                \"displacement_y\": \"V52-WindTurbine.Gear_D_Y\",\n",
      "                \"displacement_z\": \"V52-WindTurbine.Gear_D_Z\"\n",
      "            },\n"
     ]
    }
   ],
   "source": [
    "print(WindMillFiles.Data.wind_mill_json.read_text()[:500])"
   ]
  },
  {
   "cell_type": "markdown",
   "metadata": {
    "editable": true,
    "slideshow": {
     "slide_type": ""
    },
    "tags": []
   },
   "source": [
    "As we see in the snippet above this is nested data, which is well suited for `pygen` supported ingestion"
   ]
  },
  {
   "cell_type": "markdown",
   "metadata": {
    "editable": true,
    "slideshow": {
     "slide_type": ""
    },
    "tags": []
   },
   "source": [
    "## External ID Hook\n",
    "\n",
    "All data in CDF data models needs to have an `external_id` set. Often, source data does not come with an `external_id` set, and to help this `pygen` comes with a built in hook that enables you to set `external_id` when you are ingesting the data. The name of this hook is an `external_id_factory` and you can set it importing the `DomainModelWrite` from your generated data classes. "
   ]
  },
  {
   "cell_type": "code",
   "execution_count": 5,
   "metadata": {
    "editable": true,
    "slideshow": {
     "slide_type": ""
    },
    "tags": []
   },
   "outputs": [],
   "source": [
    "from windmill.data_classes import DomainModelWrite\n",
    "\n",
    "from cognite.pygen.utils.external_id_factories import create_external_id_factory, incremental_factory, uuid_factory"
   ]
  },
  {
   "cell_type": "code",
   "execution_count": 7,
   "metadata": {
    "editable": true,
    "slideshow": {
     "slide_type": ""
    },
    "tags": []
   },
   "outputs": [],
   "source": [
    "DomainModelWrite.external_id_factory = uuid_factory"
   ]
  },
  {
   "cell_type": "markdown",
   "metadata": {
    "editable": true,
    "slideshow": {
     "slide_type": ""
    },
    "tags": []
   },
   "source": [
    "The `external_id_factory` is a function that takes in two arguments, first a `type` which is the data class for the object and then a `dict` with the data for that partuclar object. `pygen` comes with a few generic external id factories you can use, see [External ID factory](../api/utils_external_id_factory.html) These can be good for testing an exploration, but we recommend that you write your own factory function for (at least) the most important classes.\n",
    "\n",
    "In the example below, we write a factory method that sets the ID for all windmills. Looking at the snippet below we note that the windmill have an `name` from the source system, so we would like to use this as the `external_id`."
   ]
  },
  {
   "cell_type": "code",
   "execution_count": 8,
   "metadata": {
    "editable": true,
    "slideshow": {
     "slide_type": ""
    },
    "tags": []
   },
   "outputs": [],
   "source": [
    "from windmill.data_classes import WindmillWrite\n",
    "\n",
    "fallback_factory = create_external_id_factory(suffix_ext_id_factory=incremental_factory)\n",
    "\n",
    "\n",
    "def windmill_factory(domain_cls: type, data: dict) -> str:\n",
    "    if domain_cls is WindmillWrite:\n",
    "        return data[\"name\"]\n",
    "    else:\n",
    "        # Fallback to incremental\n",
    "        return fallback_factory(domain_cls, data)\n",
    "\n",
    "\n",
    "# Finally, we set the new factory\n",
    "DomainModelWrite.external_id_factory = windmill_factory"
   ]
  },
  {
   "cell_type": "markdown",
   "metadata": {
    "editable": true,
    "slideshow": {
     "slide_type": ""
    },
    "tags": []
   },
   "source": [
    "## Ingesting the Data\n",
    "\n",
    "After we have set the `external_id_factory` we are all good to go. `pygen` is generating `pydantic` data classes which means we can use the built in support for json validation in `pydantic`\n",
    "\n",
    "We not that we had a list of windmills, in `pydantic` we use a `TypeAdapter` to parse a list of objects"
   ]
  },
  {
   "cell_type": "code",
   "execution_count": 9,
   "metadata": {},
   "outputs": [],
   "source": [
    "from pydantic import TypeAdapter"
   ]
  },
  {
   "cell_type": "code",
   "execution_count": 10,
   "metadata": {
    "editable": true,
    "slideshow": {
     "slide_type": ""
    },
    "tags": []
   },
   "outputs": [],
   "source": [
    "windmills = TypeAdapter(list[WindmillWrite]).validate_json(WindMillFiles.Data.wind_mill_json.read_text())"
   ]
  },
  {
   "cell_type": "markdown",
   "metadata": {
    "editable": true,
    "slideshow": {
     "slide_type": ""
    },
    "tags": []
   },
   "source": [
    "`pygen` also support `pydantic` v1. The same line above for v1 is\n",
    "\n",
    "```python\n",
    "from pydantic import parse_as_obj\n",
    "\n",
    "windmills = parse_as_obj(list[WindmillWrite], WindMillFiles.Data.wind_mill_json.read_text())\n",
    "```"
   ]
  },
  {
   "cell_type": "code",
   "execution_count": 11,
   "metadata": {
    "editable": true,
    "slideshow": {
     "slide_type": ""
    },
    "tags": []
   },
   "outputs": [],
   "source": [
    "from windmill.data_classes import WindmillWriteList"
   ]
  },
  {
   "cell_type": "code",
   "execution_count": 12,
   "metadata": {},
   "outputs": [
    {
     "data": {
      "text/html": [
       "<div>\n",
       "<style scoped>\n",
       "    .dataframe tbody tr th:only-of-type {\n",
       "        vertical-align: middle;\n",
       "    }\n",
       "\n",
       "    .dataframe tbody tr th {\n",
       "        vertical-align: top;\n",
       "    }\n",
       "\n",
       "    .dataframe thead th {\n",
       "        text-align: right;\n",
       "    }\n",
       "</style>\n",
       "<table border=\"1\" class=\"dataframe\">\n",
       "  <thead>\n",
       "    <tr style=\"text-align: right;\">\n",
       "      <th></th>\n",
       "      <th>space</th>\n",
       "      <th>external_id</th>\n",
       "      <th>blades</th>\n",
       "      <th>capacity</th>\n",
       "      <th>metmast</th>\n",
       "      <th>nacelle</th>\n",
       "      <th>name</th>\n",
       "      <th>rotor</th>\n",
       "      <th>windfarm</th>\n",
       "      <th>node_type</th>\n",
       "      <th>data_record</th>\n",
       "    </tr>\n",
       "  </thead>\n",
       "  <tbody>\n",
       "    <tr>\n",
       "      <th>0</th>\n",
       "      <td>windmill-instances</td>\n",
       "      <td>hornsea_1_mill_3</td>\n",
       "      <td>[{'space': 'windmill-instances', 'external_id'...</td>\n",
       "      <td>7.0</td>\n",
       "      <td>[]</td>\n",
       "      <td>{'space': 'windmill-instances', 'external_id':...</td>\n",
       "      <td>hornsea_1_mill_3</td>\n",
       "      <td>{'space': 'windmill-instances', 'external_id':...</td>\n",
       "      <td>Hornsea 1</td>\n",
       "      <td>None</td>\n",
       "      <td>{'existing_version': None}</td>\n",
       "    </tr>\n",
       "    <tr>\n",
       "      <th>1</th>\n",
       "      <td>windmill-instances</td>\n",
       "      <td>hornsea_1_mill_2</td>\n",
       "      <td>[{'space': 'windmill-instances', 'external_id'...</td>\n",
       "      <td>7.0</td>\n",
       "      <td>[]</td>\n",
       "      <td>{'space': 'windmill-instances', 'external_id':...</td>\n",
       "      <td>hornsea_1_mill_2</td>\n",
       "      <td>{'space': 'windmill-instances', 'external_id':...</td>\n",
       "      <td>Hornsea 1</td>\n",
       "      <td>None</td>\n",
       "      <td>{'existing_version': None}</td>\n",
       "    </tr>\n",
       "    <tr>\n",
       "      <th>2</th>\n",
       "      <td>windmill-instances</td>\n",
       "      <td>hornsea_1_mill_1</td>\n",
       "      <td>[{'space': 'windmill-instances', 'external_id'...</td>\n",
       "      <td>7.0</td>\n",
       "      <td>[]</td>\n",
       "      <td>{'space': 'windmill-instances', 'external_id':...</td>\n",
       "      <td>hornsea_1_mill_1</td>\n",
       "      <td>{'space': 'windmill-instances', 'external_id':...</td>\n",
       "      <td>Hornsea 1</td>\n",
       "      <td>None</td>\n",
       "      <td>{'existing_version': None}</td>\n",
       "    </tr>\n",
       "    <tr>\n",
       "      <th>3</th>\n",
       "      <td>windmill-instances</td>\n",
       "      <td>hornsea_1_mill_4</td>\n",
       "      <td>[{'space': 'windmill-instances', 'external_id'...</td>\n",
       "      <td>7.0</td>\n",
       "      <td>[]</td>\n",
       "      <td>{'space': 'windmill-instances', 'external_id':...</td>\n",
       "      <td>hornsea_1_mill_4</td>\n",
       "      <td>{'space': 'windmill-instances', 'external_id':...</td>\n",
       "      <td>Hornsea 1</td>\n",
       "      <td>None</td>\n",
       "      <td>{'existing_version': None}</td>\n",
       "    </tr>\n",
       "    <tr>\n",
       "      <th>4</th>\n",
       "      <td>windmill-instances</td>\n",
       "      <td>hornsea_1_mill_5</td>\n",
       "      <td>[{'space': 'windmill-instances', 'external_id'...</td>\n",
       "      <td>7.0</td>\n",
       "      <td>[]</td>\n",
       "      <td>{'space': 'windmill-instances', 'external_id':...</td>\n",
       "      <td>hornsea_1_mill_5</td>\n",
       "      <td>{'space': 'windmill-instances', 'external_id':...</td>\n",
       "      <td>Hornsea 1</td>\n",
       "      <td>None</td>\n",
       "      <td>{'existing_version': None}</td>\n",
       "    </tr>\n",
       "  </tbody>\n",
       "</table>\n",
       "</div>"
      ],
      "text/plain": [
       "WindmillWriteList([WindmillWrite(space='windmill-instances', external_id='hornsea_1_mill_3', data_record=DataRecordWrite(existing_version=None), node_type=None, capacity=7.0, name='hornsea_1_mill_3', windfarm='Hornsea 1'),\n",
       "                   WindmillWrite(space='windmill-instances', external_id='hornsea_1_mill_2', data_record=DataRecordWrite(existing_version=None), node_type=None, capacity=7.0, name='hornsea_1_mill_2', windfarm='Hornsea 1'),\n",
       "                   WindmillWrite(space='windmill-instances', external_id='hornsea_1_mill_1', data_record=DataRecordWrite(existing_version=None), node_type=None, capacity=7.0, name='hornsea_1_mill_1', windfarm='Hornsea 1'),\n",
       "                   WindmillWrite(space='windmill-instances', external_id='hornsea_1_mill_4', data_record=DataRecordWrite(existing_version=None), node_type=None, capacity=7.0, name='hornsea_1_mill_4', windfarm='Hornsea 1'),\n",
       "                   WindmillWrite(space='windmill-instances', external_id='hornsea_1_mill_5', data_record=DataRecordWrite(existing_version=None), node_type=None, capacity=7.0, name='hornsea_1_mill_5', windfarm='Hornsea 1')])"
      ]
     },
     "execution_count": 12,
     "metadata": {},
     "output_type": "execute_result"
    }
   ],
   "source": [
    "# The WindmillWriteList has a few helper methods and nicer display than a regular list\n",
    "windmills = WindmillWriteList(windmills)\n",
    "windmills"
   ]
  },
  {
   "cell_type": "markdown",
   "metadata": {
    "editable": true,
    "slideshow": {
     "slide_type": ""
    },
    "tags": []
   },
   "source": [
    "We note that the `external_id` field is set to the `name` for the windmill. If we check the other objects we see these gets an `external_id` = `class_name.lower():counter`"
   ]
  },
  {
   "cell_type": "code",
   "execution_count": 13,
   "metadata": {
    "editable": true,
    "slideshow": {
     "slide_type": ""
    },
    "tags": []
   },
   "outputs": [
    {
     "data": {
      "text/html": [
       "<div>\n",
       "<style scoped>\n",
       "    .dataframe tbody tr th:only-of-type {\n",
       "        vertical-align: middle;\n",
       "    }\n",
       "\n",
       "    .dataframe tbody tr th {\n",
       "        vertical-align: top;\n",
       "    }\n",
       "\n",
       "    .dataframe thead th {\n",
       "        text-align: right;\n",
       "    }\n",
       "</style>\n",
       "<table border=\"1\" class=\"dataframe\">\n",
       "  <thead>\n",
       "    <tr style=\"text-align: right;\">\n",
       "      <th></th>\n",
       "      <th>value</th>\n",
       "    </tr>\n",
       "  </thead>\n",
       "  <tbody>\n",
       "    <tr>\n",
       "      <th>space</th>\n",
       "      <td>windmill-instances</td>\n",
       "    </tr>\n",
       "    <tr>\n",
       "      <th>external_id</th>\n",
       "      <td>nacellewrite:1</td>\n",
       "    </tr>\n",
       "    <tr>\n",
       "      <th>data_record</th>\n",
       "      <td>{'existing_version': None}</td>\n",
       "    </tr>\n",
       "    <tr>\n",
       "      <th>node_type</th>\n",
       "      <td>None</td>\n",
       "    </tr>\n",
       "    <tr>\n",
       "      <th>acc_from_back_side_x</th>\n",
       "      <td>V52-WindTurbine.Acc1N</td>\n",
       "    </tr>\n",
       "    <tr>\n",
       "      <th>acc_from_back_side_y</th>\n",
       "      <td>V52-WindTurbine.Acc2N</td>\n",
       "    </tr>\n",
       "    <tr>\n",
       "      <th>acc_from_back_side_z</th>\n",
       "      <td>V52-WindTurbine.Acc3N</td>\n",
       "    </tr>\n",
       "    <tr>\n",
       "      <th>gearbox</th>\n",
       "      <td>{'space': 'windmill-instances', 'external_id':...</td>\n",
       "    </tr>\n",
       "    <tr>\n",
       "      <th>generator</th>\n",
       "      <td>{'space': 'windmill-instances', 'external_id':...</td>\n",
       "    </tr>\n",
       "    <tr>\n",
       "      <th>high_speed_shaft</th>\n",
       "      <td>{'space': 'windmill-instances', 'external_id':...</td>\n",
       "    </tr>\n",
       "    <tr>\n",
       "      <th>main_shaft</th>\n",
       "      <td>{'space': 'windmill-instances', 'external_id':...</td>\n",
       "    </tr>\n",
       "    <tr>\n",
       "      <th>power_inverter</th>\n",
       "      <td>{'space': 'windmill-instances', 'external_id':...</td>\n",
       "    </tr>\n",
       "    <tr>\n",
       "      <th>yaw_direction</th>\n",
       "      <td>V52-WindTurbine.yaw</td>\n",
       "    </tr>\n",
       "    <tr>\n",
       "      <th>yaw_error</th>\n",
       "      <td>V52-WindTurbine.YawErr</td>\n",
       "    </tr>\n",
       "  </tbody>\n",
       "</table>\n",
       "</div>"
      ],
      "text/plain": [
       "NacelleWrite(space='windmill-instances', external_id='nacellewrite:1', data_record=DataRecordWrite(existing_version=None), node_type=None, acc_from_back_side_x='V52-WindTurbine.Acc1N', acc_from_back_side_y='V52-WindTurbine.Acc2N', acc_from_back_side_z='V52-WindTurbine.Acc3N', yaw_direction='V52-WindTurbine.yaw', yaw_error='V52-WindTurbine.YawErr')"
      ]
     },
     "execution_count": 13,
     "metadata": {},
     "output_type": "execute_result"
    }
   ],
   "source": [
    "windmills[0].nacelle"
   ]
  },
  {
   "cell_type": "markdown",
   "metadata": {
    "editable": true,
    "slideshow": {
     "slide_type": ""
    },
    "tags": []
   },
   "source": [
    "We can now upload this data by creating a domain client and call the `windmill.upsert` method. "
   ]
  },
  {
   "cell_type": "code",
   "execution_count": 14,
   "metadata": {
    "editable": true,
    "slideshow": {
     "slide_type": ""
    },
    "tags": []
   },
   "outputs": [],
   "source": [
    "from windmill import WindmillClient"
   ]
  },
  {
   "cell_type": "code",
   "execution_count": 17,
   "metadata": {
    "editable": true,
    "slideshow": {
     "slide_type": ""
    },
    "tags": []
   },
   "outputs": [],
   "source": [
    "wind = WindmillClient.from_toml(\"config.toml\")"
   ]
  },
  {
   "cell_type": "code",
   "execution_count": 18,
   "metadata": {
    "editable": true,
    "slideshow": {
     "slide_type": ""
    },
    "tags": []
   },
   "outputs": [
    {
     "name": "stdout",
     "output_type": "stream",
     "text": [
      "145 nodes and 105 uploaded\n"
     ]
    }
   ],
   "source": [
    "result = wind.upsert(windmills)\n",
    "print(f\"{len(result.nodes)} nodes and {len(result.edges)} uploaded\")"
   ]
  },
  {
   "cell_type": "markdown",
   "metadata": {
    "editable": true,
    "slideshow": {
     "slide_type": ""
    },
    "tags": []
   },
   "source": [
    "Note that `pygen` have the method `.to_instances_write()` you can use to check which `nodes`and `edges` were created.\n",
    "\n",
    "We note that `pygen` created in total 145 nodes and 105 edges between these nodes.\n",
    "\n",
    "The edges were of 2 different types, and then nodes were ingested into 10 different views"
   ]
  },
  {
   "cell_type": "code",
   "execution_count": 19,
   "metadata": {
    "editable": true,
    "slideshow": {
     "slide_type": ""
    },
    "tags": []
   },
   "outputs": [],
   "source": [
    "instances = windmills.to_instances_write()"
   ]
  },
  {
   "cell_type": "code",
   "execution_count": 20,
   "metadata": {
    "editable": true,
    "slideshow": {
     "slide_type": ""
    },
    "tags": []
   },
   "outputs": [
    {
     "data": {
      "text/plain": [
       "(145, 105)"
      ]
     },
     "execution_count": 20,
     "metadata": {},
     "output_type": "execute_result"
    }
   ],
   "source": [
    "len(instances.nodes), len(instances.edges)"
   ]
  },
  {
   "cell_type": "code",
   "execution_count": 21,
   "metadata": {
    "editable": true,
    "slideshow": {
     "slide_type": ""
    },
    "tags": []
   },
   "outputs": [
    {
     "data": {
      "text/plain": [
       "(2, {'Blade.sensor_positions', 'Windmill.blades'})"
      ]
     },
     "execution_count": 21,
     "metadata": {},
     "output_type": "execute_result"
    }
   ],
   "source": [
    "unique = set(edge.type.external_id for edge in instances.edges)\n",
    "len(unique), unique"
   ]
  },
  {
   "cell_type": "code",
   "execution_count": 22,
   "metadata": {
    "editable": true,
    "slideshow": {
     "slide_type": ""
    },
    "tags": []
   },
   "outputs": [
    {
     "data": {
      "text/plain": [
       "(10,\n",
       " {ViewId(space='power-models', external_id='Blade', version='1'),\n",
       "  ViewId(space='power-models', external_id='Gearbox', version='1'),\n",
       "  ViewId(space='power-models', external_id='Generator', version='1'),\n",
       "  ViewId(space='power-models', external_id='HighSpeedShaft', version='1'),\n",
       "  ViewId(space='power-models', external_id='MainShaft', version='1'),\n",
       "  ViewId(space='power-models', external_id='Nacelle', version='1'),\n",
       "  ViewId(space='power-models', external_id='PowerInverter', version='1'),\n",
       "  ViewId(space='power-models', external_id='Rotor', version='1'),\n",
       "  ViewId(space='power-models', external_id='SensorPosition', version='1'),\n",
       "  ViewId(space='power-models', external_id='Windmill', version='1')})"
      ]
     },
     "execution_count": 22,
     "metadata": {},
     "output_type": "execute_result"
    }
   ],
   "source": [
    "unique = set([source.source for node in instances.nodes for source in node.sources])\n",
    "len(unique), unique"
   ]
  },
  {
   "cell_type": "code",
   "execution_count": 23,
   "metadata": {
    "editable": true,
    "slideshow": {
     "slide_type": ""
    },
    "tags": []
   },
   "outputs": [
    {
     "data": {
      "text/html": [
       "<div>\n",
       "<style scoped>\n",
       "    .dataframe tbody tr th:only-of-type {\n",
       "        vertical-align: middle;\n",
       "    }\n",
       "\n",
       "    .dataframe tbody tr th {\n",
       "        vertical-align: top;\n",
       "    }\n",
       "\n",
       "    .dataframe thead th {\n",
       "        text-align: right;\n",
       "    }\n",
       "</style>\n",
       "<table border=\"1\" class=\"dataframe\">\n",
       "  <thead>\n",
       "    <tr style=\"text-align: right;\">\n",
       "      <th></th>\n",
       "      <th>space</th>\n",
       "      <th>instance_type</th>\n",
       "      <th>external_id</th>\n",
       "      <th>sources</th>\n",
       "    </tr>\n",
       "  </thead>\n",
       "  <tbody>\n",
       "    <tr>\n",
       "      <th>0</th>\n",
       "      <td>windmill-instances</td>\n",
       "      <td>node</td>\n",
       "      <td>hornsea_1_mill_3</td>\n",
       "      <td>[{'properties': {'capacity': 7.0, 'nacelle': {...</td>\n",
       "    </tr>\n",
       "    <tr>\n",
       "      <th>1</th>\n",
       "      <td>windmill-instances</td>\n",
       "      <td>node</td>\n",
       "      <td>bladewrite:1</td>\n",
       "      <td>[{'properties': {'is_damaged': False, 'name': ...</td>\n",
       "    </tr>\n",
       "    <tr>\n",
       "      <th>2</th>\n",
       "      <td>windmill-instances</td>\n",
       "      <td>node</td>\n",
       "      <td>sensorpositionwrite:1</td>\n",
       "      <td>[{'properties': {'flapwise_bend_mom': 'V52-Win...</td>\n",
       "    </tr>\n",
       "    <tr>\n",
       "      <th>3</th>\n",
       "      <td>windmill-instances</td>\n",
       "      <td>node</td>\n",
       "      <td>sensorpositionwrite:2</td>\n",
       "      <td>[{'properties': {'edgewise_bend_mom_offset': '...</td>\n",
       "    </tr>\n",
       "    <tr>\n",
       "      <th>4</th>\n",
       "      <td>windmill-instances</td>\n",
       "      <td>node</td>\n",
       "      <td>sensorpositionwrite:3</td>\n",
       "      <td>[{'properties': {'edgewise_bend_mom_crosstalk_...</td>\n",
       "    </tr>\n",
       "    <tr>\n",
       "      <th>...</th>\n",
       "      <td>...</td>\n",
       "      <td>...</td>\n",
       "      <td>...</td>\n",
       "      <td>...</td>\n",
       "    </tr>\n",
       "    <tr>\n",
       "      <th>140</th>\n",
       "      <td>windmill-instances</td>\n",
       "      <td>node</td>\n",
       "      <td>generatorwrite:5</td>\n",
       "      <td>[{'properties': {'generator_speed_controller':...</td>\n",
       "    </tr>\n",
       "    <tr>\n",
       "      <th>141</th>\n",
       "      <td>windmill-instances</td>\n",
       "      <td>node</td>\n",
       "      <td>highspeedshaftwrite:5</td>\n",
       "      <td>[{'properties': {'bending_moment_y': 'V52-Wind...</td>\n",
       "    </tr>\n",
       "    <tr>\n",
       "      <th>142</th>\n",
       "      <td>windmill-instances</td>\n",
       "      <td>node</td>\n",
       "      <td>mainshaftwrite:5</td>\n",
       "      <td>[{'properties': {'bending_x': 'V52-WindTurbine...</td>\n",
       "    </tr>\n",
       "    <tr>\n",
       "      <th>143</th>\n",
       "      <td>windmill-instances</td>\n",
       "      <td>node</td>\n",
       "      <td>powerinverterwrite:5</td>\n",
       "      <td>[{'properties': {'active_power_total': 'V52-Wi...</td>\n",
       "    </tr>\n",
       "    <tr>\n",
       "      <th>144</th>\n",
       "      <td>windmill-instances</td>\n",
       "      <td>node</td>\n",
       "      <td>rotorwrite:5</td>\n",
       "      <td>[{'properties': {'rotor_speed_controller': 'V5...</td>\n",
       "    </tr>\n",
       "  </tbody>\n",
       "</table>\n",
       "<p>145 rows × 4 columns</p>\n",
       "</div>"
      ],
      "text/plain": [
       "NodeApplyList([<NodeApply(space='windmill-instances', external_id='hornsea_1_mill_3') at 0x2369851fbb0>,\n",
       "               <NodeApply(space='windmill-instances', external_id='bladewrite:1') at 0x2369851f6d0>,\n",
       "               <NodeApply(space='windmill-instances', external_id='sensorpositionwrite:1') at 0x2369851f040>,\n",
       "               <NodeApply(space='windmill-instances', external_id='sensorpositionwrite:2') at 0x2369851dcd0>,\n",
       "               <NodeApply(space='windmill-instances', external_id='sensorpositionwrite:3') at 0x2369851da00>,\n",
       "               <NodeApply(space='windmill-instances', external_id='sensorpositionwrite:4') at 0x2369851d700>,\n",
       "               <NodeApply(space='windmill-instances', external_id='sensorpositionwrite:5') at 0x2369851d220>,\n",
       "               <NodeApply(space='windmill-instances', external_id='sensorpositionwrite:6') at 0x2369851dd00>,\n",
       "               <NodeApply(space='windmill-instances', external_id='bladewrite:2') at 0x2369851dd30>,\n",
       "               <NodeApply(space='windmill-instances', external_id='sensorpositionwrite:7') at 0x2369851a4c0>,\n",
       "               <NodeApply(space='windmill-instances', external_id='sensorpositionwrite:8') at 0x2369851acd0>,\n",
       "               <NodeApply(space='windmill-instances', external_id='sensorpositionwrite:9') at 0x2369851a640>,\n",
       "               <NodeApply(space='windmill-instances', external_id='sensorpositionwrite:10') at 0x2369851a400>,\n",
       "               <NodeApply(space='windmill-instances', external_id='sensorpositionwrite:11') at 0x2369851a910>,\n",
       "               <NodeApply(space='windmill-instances', external_id='sensorpositionwrite:12') at 0x2369851a5e0>,\n",
       "               <NodeApply(space='windmill-instances', external_id='bladewrite:3') at 0x2369851d760>,\n",
       "               <NodeApply(space='windmill-instances', external_id='sensorpositionwrite:13') at 0x2369851a040>,\n",
       "               <NodeApply(space='windmill-instances', external_id='sensorpositionwrite:14') at 0x236984adcd0>,\n",
       "               <NodeApply(space='windmill-instances', external_id='sensorpositionwrite:15') at 0x236983c2a30>,\n",
       "               <NodeApply(space='windmill-instances', external_id='sensorpositionwrite:16') at 0x23698516b20>,\n",
       "               <NodeApply(space='windmill-instances', external_id='sensorpositionwrite:17') at 0x236985169d0>,\n",
       "               <NodeApply(space='windmill-instances', external_id='sensorpositionwrite:18') at 0x236985169a0>,\n",
       "               <NodeApply(space='windmill-instances', external_id='nacellewrite:1') at 0x2369851f6a0>,\n",
       "               <NodeApply(space='windmill-instances', external_id='gearboxwrite:1') at 0x2369851a0a0>,\n",
       "               <NodeApply(space='windmill-instances', external_id='generatorwrite:1') at 0x23698516970>,\n",
       "               <NodeApply(space='windmill-instances', external_id='highspeedshaftwrite:1') at 0x23698516d30>,\n",
       "               <NodeApply(space='windmill-instances', external_id='mainshaftwrite:1') at 0x23698516880>,\n",
       "               <NodeApply(space='windmill-instances', external_id='powerinverterwrite:1') at 0x236985166d0>,\n",
       "               <NodeApply(space='windmill-instances', external_id='rotorwrite:1') at 0x2369851d610>,\n",
       "               <NodeApply(space='windmill-instances', external_id='hornsea_1_mill_2') at 0x2369851f070>,\n",
       "               <NodeApply(space='windmill-instances', external_id='bladewrite:4') at 0x236985162e0>,\n",
       "               <NodeApply(space='windmill-instances', external_id='sensorpositionwrite:19') at 0x23698517df0>,\n",
       "               <NodeApply(space='windmill-instances', external_id='sensorpositionwrite:20') at 0x23698517ca0>,\n",
       "               <NodeApply(space='windmill-instances', external_id='sensorpositionwrite:21') at 0x23698517a00>,\n",
       "               <NodeApply(space='windmill-instances', external_id='sensorpositionwrite:22') at 0x23698517700>,\n",
       "               <NodeApply(space='windmill-instances', external_id='sensorpositionwrite:23') at 0x23698517e50>,\n",
       "               <NodeApply(space='windmill-instances', external_id='sensorpositionwrite:24') at 0x23698517400>,\n",
       "               <NodeApply(space='windmill-instances', external_id='bladewrite:5') at 0x23698517430>,\n",
       "               <NodeApply(space='windmill-instances', external_id='sensorpositionwrite:25') at 0x23698517280>,\n",
       "               <NodeApply(space='windmill-instances', external_id='sensorpositionwrite:26') at 0x2369850fd60>,\n",
       "               <NodeApply(space='windmill-instances', external_id='sensorpositionwrite:27') at 0x2369850fa60>,\n",
       "               <NodeApply(space='windmill-instances', external_id='sensorpositionwrite:28') at 0x2369850f310>,\n",
       "               <NodeApply(space='windmill-instances', external_id='sensorpositionwrite:29') at 0x2369850f400>,\n",
       "               <NodeApply(space='windmill-instances', external_id='sensorpositionwrite:30') at 0x2369850f850>,\n",
       "               <NodeApply(space='windmill-instances', external_id='bladewrite:6') at 0x23698517940>,\n",
       "               <NodeApply(space='windmill-instances', external_id='sensorpositionwrite:31') at 0x2369850f670>,\n",
       "               <NodeApply(space='windmill-instances', external_id='sensorpositionwrite:32') at 0x23698507d60>,\n",
       "               <NodeApply(space='windmill-instances', external_id='sensorpositionwrite:33') at 0x236983ccf10>,\n",
       "               <NodeApply(space='windmill-instances', external_id='sensorpositionwrite:34') at 0x236983ccb20>,\n",
       "               <NodeApply(space='windmill-instances', external_id='sensorpositionwrite:35') at 0x236983ccd60>,\n",
       "               <NodeApply(space='windmill-instances', external_id='sensorpositionwrite:36') at 0x236983cc610>,\n",
       "               <NodeApply(space='windmill-instances', external_id='nacellewrite:2') at 0x23698516100>,\n",
       "               <NodeApply(space='windmill-instances', external_id='gearboxwrite:2') at 0x23698517490>,\n",
       "               <NodeApply(space='windmill-instances', external_id='generatorwrite:2') at 0x236983cc490>,\n",
       "               <NodeApply(space='windmill-instances', external_id='highspeedshaftwrite:2') at 0x236983ccd30>,\n",
       "               <NodeApply(space='windmill-instances', external_id='mainshaftwrite:2') at 0x236983cc880>,\n",
       "               <NodeApply(space='windmill-instances', external_id='powerinverterwrite:2') at 0x236983cc9a0>,\n",
       "               <NodeApply(space='windmill-instances', external_id='rotorwrite:2') at 0x23698516490>,\n",
       "               <NodeApply(space='windmill-instances', external_id='hornsea_1_mill_1') at 0x2369851fee0>,\n",
       "               <NodeApply(space='windmill-instances', external_id='bladewrite:7') at 0x236983cceb0>,\n",
       "               <NodeApply(space='windmill-instances', external_id='sensorpositionwrite:37') at 0x236985cfb50>,\n",
       "               <NodeApply(space='windmill-instances', external_id='sensorpositionwrite:38') at 0x236985cfeb0>,\n",
       "               <NodeApply(space='windmill-instances', external_id='sensorpositionwrite:39') at 0x236985310d0>,\n",
       "               <NodeApply(space='windmill-instances', external_id='sensorpositionwrite:40') at 0x236985312b0>,\n",
       "               <NodeApply(space='windmill-instances', external_id='sensorpositionwrite:41') at 0x23698531490>,\n",
       "               <NodeApply(space='windmill-instances', external_id='sensorpositionwrite:42') at 0x23698531670>,\n",
       "               <NodeApply(space='windmill-instances', external_id='bladewrite:8') at 0x236985316a0>,\n",
       "               <NodeApply(space='windmill-instances', external_id='sensorpositionwrite:43') at 0x23698531a90>,\n",
       "               <NodeApply(space='windmill-instances', external_id='sensorpositionwrite:44') at 0x23698531df0>,\n",
       "               <NodeApply(space='windmill-instances', external_id='sensorpositionwrite:45') at 0x23698531fd0>,\n",
       "               <NodeApply(space='windmill-instances', external_id='sensorpositionwrite:46') at 0x236985321f0>,\n",
       "               <NodeApply(space='windmill-instances', external_id='sensorpositionwrite:47') at 0x236985323d0>,\n",
       "               <NodeApply(space='windmill-instances', external_id='sensorpositionwrite:48') at 0x236985325b0>,\n",
       "               <NodeApply(space='windmill-instances', external_id='bladewrite:9') at 0x23698531760>,\n",
       "               <NodeApply(space='windmill-instances', external_id='sensorpositionwrite:49') at 0x23698532850>,\n",
       "               <NodeApply(space='windmill-instances', external_id='sensorpositionwrite:50') at 0x23698532bb0>,\n",
       "               <NodeApply(space='windmill-instances', external_id='sensorpositionwrite:51') at 0x23698532d90>,\n",
       "               <NodeApply(space='windmill-instances', external_id='sensorpositionwrite:52') at 0x23698532f70>,\n",
       "               <NodeApply(space='windmill-instances', external_id='sensorpositionwrite:53') at 0x23698533190>,\n",
       "               <NodeApply(space='windmill-instances', external_id='sensorpositionwrite:54') at 0x23698533370>,\n",
       "               <NodeApply(space='windmill-instances', external_id='nacellewrite:3') at 0x236985328e0>,\n",
       "               <NodeApply(space='windmill-instances', external_id='gearboxwrite:3') at 0x23698531af0>,\n",
       "               <NodeApply(space='windmill-instances', external_id='generatorwrite:3') at 0x236985333d0>,\n",
       "               <NodeApply(space='windmill-instances', external_id='highspeedshaftwrite:3') at 0x23698533220>,\n",
       "               <NodeApply(space='windmill-instances', external_id='mainshaftwrite:3') at 0x23698533520>,\n",
       "               <NodeApply(space='windmill-instances', external_id='powerinverterwrite:3') at 0x23698533610>,\n",
       "               <NodeApply(space='windmill-instances', external_id='rotorwrite:3') at 0x236985329d0>,\n",
       "               <NodeApply(space='windmill-instances', external_id='hornsea_1_mill_4') at 0x2369851f7f0>,\n",
       "               <NodeApply(space='windmill-instances', external_id='bladewrite:10') at 0x23698533700>,\n",
       "               <NodeApply(space='windmill-instances', external_id='sensorpositionwrite:55') at 0x23698533c70>,\n",
       "               <NodeApply(space='windmill-instances', external_id='sensorpositionwrite:56') at 0x23698533fd0>,\n",
       "               <NodeApply(space='windmill-instances', external_id='sensorpositionwrite:57') at 0x236985351f0>,\n",
       "               <NodeApply(space='windmill-instances', external_id='sensorpositionwrite:58') at 0x236985353d0>,\n",
       "               <NodeApply(space='windmill-instances', external_id='sensorpositionwrite:59') at 0x236985355b0>,\n",
       "               <NodeApply(space='windmill-instances', external_id='sensorpositionwrite:60') at 0x23698535790>,\n",
       "               <NodeApply(space='windmill-instances', external_id='bladewrite:11') at 0x236985357c0>,\n",
       "               <NodeApply(space='windmill-instances', external_id='sensorpositionwrite:61') at 0x23698535bb0>,\n",
       "               <NodeApply(space='windmill-instances', external_id='sensorpositionwrite:62') at 0x23698535f10>,\n",
       "               <NodeApply(space='windmill-instances', external_id='sensorpositionwrite:63') at 0x23698537130>,\n",
       "               <NodeApply(space='windmill-instances', external_id='sensorpositionwrite:64') at 0x23698537310>,\n",
       "               <NodeApply(space='windmill-instances', external_id='sensorpositionwrite:65') at 0x236985374f0>,\n",
       "               <NodeApply(space='windmill-instances', external_id='sensorpositionwrite:66') at 0x236985376d0>,\n",
       "               <NodeApply(space='windmill-instances', external_id='bladewrite:12') at 0x23698535880>,\n",
       "               <NodeApply(space='windmill-instances', external_id='sensorpositionwrite:67') at 0x23698537970>,\n",
       "               <NodeApply(space='windmill-instances', external_id='sensorpositionwrite:68') at 0x23698537cd0>,\n",
       "               <NodeApply(space='windmill-instances', external_id='sensorpositionwrite:69') at 0x23698537eb0>,\n",
       "               <NodeApply(space='windmill-instances', external_id='sensorpositionwrite:70') at 0x23698519d30>,\n",
       "               <NodeApply(space='windmill-instances', external_id='sensorpositionwrite:71') at 0x23698519df0>,\n",
       "               <NodeApply(space='windmill-instances', external_id='sensorpositionwrite:72') at 0x236985198b0>,\n",
       "               <NodeApply(space='windmill-instances', external_id='nacellewrite:4') at 0x23698537a00>,\n",
       "               <NodeApply(space='windmill-instances', external_id='gearboxwrite:4') at 0x23698535c10>,\n",
       "               <NodeApply(space='windmill-instances', external_id='generatorwrite:4') at 0x236985199d0>,\n",
       "               <NodeApply(space='windmill-instances', external_id='highspeedshaftwrite:4') at 0x23698519190>,\n",
       "               <NodeApply(space='windmill-instances', external_id='mainshaftwrite:4') at 0x23698519670>,\n",
       "               <NodeApply(space='windmill-instances', external_id='powerinverterwrite:4') at 0x23698519220>,\n",
       "               <NodeApply(space='windmill-instances', external_id='rotorwrite:4') at 0x23698537af0>,\n",
       "               <NodeApply(space='windmill-instances', external_id='hornsea_1_mill_5') at 0x236983cc2e0>,\n",
       "               <NodeApply(space='windmill-instances', external_id='bladewrite:13') at 0x23698519ee0>,\n",
       "               <NodeApply(space='windmill-instances', external_id='sensorpositionwrite:73') at 0x236985195e0>,\n",
       "               <NodeApply(space='windmill-instances', external_id='sensorpositionwrite:74') at 0x2369851b130>,\n",
       "               <NodeApply(space='windmill-instances', external_id='sensorpositionwrite:75') at 0x2369851b310>,\n",
       "               <NodeApply(space='windmill-instances', external_id='sensorpositionwrite:76') at 0x2369851b4f0>,\n",
       "               <NodeApply(space='windmill-instances', external_id='sensorpositionwrite:77') at 0x2369851b6d0>,\n",
       "               <NodeApply(space='windmill-instances', external_id='sensorpositionwrite:78') at 0x2369851b8b0>,\n",
       "               <NodeApply(space='windmill-instances', external_id='bladewrite:14') at 0x2369851b8e0>,\n",
       "               <NodeApply(space='windmill-instances', external_id='sensorpositionwrite:79') at 0x2369851bcd0>,\n",
       "               <NodeApply(space='windmill-instances', external_id='sensorpositionwrite:80') at 0x23698514040>,\n",
       "               <NodeApply(space='windmill-instances', external_id='sensorpositionwrite:81') at 0x23698514df0>,\n",
       "               <NodeApply(space='windmill-instances', external_id='sensorpositionwrite:82') at 0x23698514ee0>,\n",
       "               <NodeApply(space='windmill-instances', external_id='sensorpositionwrite:83') at 0x23698514b50>,\n",
       "               <NodeApply(space='windmill-instances', external_id='sensorpositionwrite:84') at 0x236985144c0>,\n",
       "               <NodeApply(space='windmill-instances', external_id='bladewrite:15') at 0x2369851b9a0>,\n",
       "               <NodeApply(space='windmill-instances', external_id='sensorpositionwrite:85') at 0x23698514160>,\n",
       "               <NodeApply(space='windmill-instances', external_id='sensorpositionwrite:86') at 0x236985148b0>,\n",
       "               <NodeApply(space='windmill-instances', external_id='sensorpositionwrite:87') at 0x236985140a0>,\n",
       "               <NodeApply(space='windmill-instances', external_id='sensorpositionwrite:88') at 0x236985181f0>,\n",
       "               <NodeApply(space='windmill-instances', external_id='sensorpositionwrite:89') at 0x236985183d0>,\n",
       "               <NodeApply(space='windmill-instances', external_id='sensorpositionwrite:90') at 0x236985185b0>,\n",
       "               <NodeApply(space='windmill-instances', external_id='nacellewrite:5') at 0x23698519400>,\n",
       "               <NodeApply(space='windmill-instances', external_id='gearboxwrite:5') at 0x23698514550>,\n",
       "               <NodeApply(space='windmill-instances', external_id='generatorwrite:5') at 0x23698518670>,\n",
       "               <NodeApply(space='windmill-instances', external_id='highspeedshaftwrite:5') at 0x23698518610>,\n",
       "               <NodeApply(space='windmill-instances', external_id='mainshaftwrite:5') at 0x23698518250>,\n",
       "               <NodeApply(space='windmill-instances', external_id='powerinverterwrite:5') at 0x23698518760>,\n",
       "               <NodeApply(space='windmill-instances', external_id='rotorwrite:5') at 0x23698514b20>])"
      ]
     },
     "execution_count": 23,
     "metadata": {},
     "output_type": "execute_result"
    }
   ],
   "source": [
    "instances.nodes"
   ]
  },
  {
   "cell_type": "code",
   "execution_count": 24,
   "metadata": {
    "editable": true,
    "slideshow": {
     "slide_type": ""
    },
    "tags": []
   },
   "outputs": [
    {
     "data": {
      "text/html": [
       "<div>\n",
       "<style scoped>\n",
       "    .dataframe tbody tr th:only-of-type {\n",
       "        vertical-align: middle;\n",
       "    }\n",
       "\n",
       "    .dataframe tbody tr th {\n",
       "        vertical-align: top;\n",
       "    }\n",
       "\n",
       "    .dataframe thead th {\n",
       "        text-align: right;\n",
       "    }\n",
       "</style>\n",
       "<table border=\"1\" class=\"dataframe\">\n",
       "  <thead>\n",
       "    <tr style=\"text-align: right;\">\n",
       "      <th></th>\n",
       "      <th>space</th>\n",
       "      <th>instance_type</th>\n",
       "      <th>external_id</th>\n",
       "      <th>type</th>\n",
       "      <th>start_node</th>\n",
       "      <th>end_node</th>\n",
       "    </tr>\n",
       "  </thead>\n",
       "  <tbody>\n",
       "    <tr>\n",
       "      <th>0</th>\n",
       "      <td>windmill-instances</td>\n",
       "      <td>edge</td>\n",
       "      <td>hornsea_1_mill_3:bladewrite:1</td>\n",
       "      <td>{'space': 'power-models', 'external_id': 'Wind...</td>\n",
       "      <td>{'space': 'windmill-instances', 'external_id':...</td>\n",
       "      <td>{'space': 'windmill-instances', 'external_id':...</td>\n",
       "    </tr>\n",
       "    <tr>\n",
       "      <th>1</th>\n",
       "      <td>windmill-instances</td>\n",
       "      <td>edge</td>\n",
       "      <td>bladewrite:1:sensorpositionwrite:1</td>\n",
       "      <td>{'space': 'power-models', 'external_id': 'Blad...</td>\n",
       "      <td>{'space': 'windmill-instances', 'external_id':...</td>\n",
       "      <td>{'space': 'windmill-instances', 'external_id':...</td>\n",
       "    </tr>\n",
       "    <tr>\n",
       "      <th>2</th>\n",
       "      <td>windmill-instances</td>\n",
       "      <td>edge</td>\n",
       "      <td>bladewrite:1:sensorpositionwrite:2</td>\n",
       "      <td>{'space': 'power-models', 'external_id': 'Blad...</td>\n",
       "      <td>{'space': 'windmill-instances', 'external_id':...</td>\n",
       "      <td>{'space': 'windmill-instances', 'external_id':...</td>\n",
       "    </tr>\n",
       "    <tr>\n",
       "      <th>3</th>\n",
       "      <td>windmill-instances</td>\n",
       "      <td>edge</td>\n",
       "      <td>bladewrite:1:sensorpositionwrite:3</td>\n",
       "      <td>{'space': 'power-models', 'external_id': 'Blad...</td>\n",
       "      <td>{'space': 'windmill-instances', 'external_id':...</td>\n",
       "      <td>{'space': 'windmill-instances', 'external_id':...</td>\n",
       "    </tr>\n",
       "    <tr>\n",
       "      <th>4</th>\n",
       "      <td>windmill-instances</td>\n",
       "      <td>edge</td>\n",
       "      <td>bladewrite:1:sensorpositionwrite:4</td>\n",
       "      <td>{'space': 'power-models', 'external_id': 'Blad...</td>\n",
       "      <td>{'space': 'windmill-instances', 'external_id':...</td>\n",
       "      <td>{'space': 'windmill-instances', 'external_id':...</td>\n",
       "    </tr>\n",
       "    <tr>\n",
       "      <th>...</th>\n",
       "      <td>...</td>\n",
       "      <td>...</td>\n",
       "      <td>...</td>\n",
       "      <td>...</td>\n",
       "      <td>...</td>\n",
       "      <td>...</td>\n",
       "    </tr>\n",
       "    <tr>\n",
       "      <th>100</th>\n",
       "      <td>windmill-instances</td>\n",
       "      <td>edge</td>\n",
       "      <td>bladewrite:15:sensorpositionwrite:86</td>\n",
       "      <td>{'space': 'power-models', 'external_id': 'Blad...</td>\n",
       "      <td>{'space': 'windmill-instances', 'external_id':...</td>\n",
       "      <td>{'space': 'windmill-instances', 'external_id':...</td>\n",
       "    </tr>\n",
       "    <tr>\n",
       "      <th>101</th>\n",
       "      <td>windmill-instances</td>\n",
       "      <td>edge</td>\n",
       "      <td>bladewrite:15:sensorpositionwrite:87</td>\n",
       "      <td>{'space': 'power-models', 'external_id': 'Blad...</td>\n",
       "      <td>{'space': 'windmill-instances', 'external_id':...</td>\n",
       "      <td>{'space': 'windmill-instances', 'external_id':...</td>\n",
       "    </tr>\n",
       "    <tr>\n",
       "      <th>102</th>\n",
       "      <td>windmill-instances</td>\n",
       "      <td>edge</td>\n",
       "      <td>bladewrite:15:sensorpositionwrite:88</td>\n",
       "      <td>{'space': 'power-models', 'external_id': 'Blad...</td>\n",
       "      <td>{'space': 'windmill-instances', 'external_id':...</td>\n",
       "      <td>{'space': 'windmill-instances', 'external_id':...</td>\n",
       "    </tr>\n",
       "    <tr>\n",
       "      <th>103</th>\n",
       "      <td>windmill-instances</td>\n",
       "      <td>edge</td>\n",
       "      <td>bladewrite:15:sensorpositionwrite:89</td>\n",
       "      <td>{'space': 'power-models', 'external_id': 'Blad...</td>\n",
       "      <td>{'space': 'windmill-instances', 'external_id':...</td>\n",
       "      <td>{'space': 'windmill-instances', 'external_id':...</td>\n",
       "    </tr>\n",
       "    <tr>\n",
       "      <th>104</th>\n",
       "      <td>windmill-instances</td>\n",
       "      <td>edge</td>\n",
       "      <td>bladewrite:15:sensorpositionwrite:90</td>\n",
       "      <td>{'space': 'power-models', 'external_id': 'Blad...</td>\n",
       "      <td>{'space': 'windmill-instances', 'external_id':...</td>\n",
       "      <td>{'space': 'windmill-instances', 'external_id':...</td>\n",
       "    </tr>\n",
       "  </tbody>\n",
       "</table>\n",
       "<p>105 rows × 6 columns</p>\n",
       "</div>"
      ],
      "text/plain": [
       "EdgeApplyList([<EdgeApply(space='windmill-instances', external_id='hornsea_1_mill_3:bladewrite:1') at 0x2369851f5e0>,\n",
       "               <EdgeApply(space='windmill-instances', external_id='bladewrite:1:sensorpositionwrite:1') at 0x2369851f430>,\n",
       "               <EdgeApply(space='windmill-instances', external_id='bladewrite:1:sensorpositionwrite:2') at 0x2369851da30>,\n",
       "               <EdgeApply(space='windmill-instances', external_id='bladewrite:1:sensorpositionwrite:3') at 0x2369851d2b0>,\n",
       "               <EdgeApply(space='windmill-instances', external_id='bladewrite:1:sensorpositionwrite:4') at 0x2369851d880>,\n",
       "               <EdgeApply(space='windmill-instances', external_id='bladewrite:1:sensorpositionwrite:5') at 0x2369851d580>,\n",
       "               <EdgeApply(space='windmill-instances', external_id='bladewrite:1:sensorpositionwrite:6') at 0x2369851d820>,\n",
       "               <EdgeApply(space='windmill-instances', external_id='hornsea_1_mill_3:bladewrite:2') at 0x2369851f460>,\n",
       "               <EdgeApply(space='windmill-instances', external_id='bladewrite:2:sensorpositionwrite:7') at 0x2369851d490>,\n",
       "               <EdgeApply(space='windmill-instances', external_id='bladewrite:2:sensorpositionwrite:8') at 0x2369851ab80>,\n",
       "               <EdgeApply(space='windmill-instances', external_id='bladewrite:2:sensorpositionwrite:9') at 0x2369851ab50>,\n",
       "               <EdgeApply(space='windmill-instances', external_id='bladewrite:2:sensorpositionwrite:10') at 0x2369851a3a0>,\n",
       "               <EdgeApply(space='windmill-instances', external_id='bladewrite:2:sensorpositionwrite:11') at 0x2369851a460>,\n",
       "               <EdgeApply(space='windmill-instances', external_id='bladewrite:2:sensorpositionwrite:12') at 0x2369851a9d0>,\n",
       "               <EdgeApply(space='windmill-instances', external_id='hornsea_1_mill_3:bladewrite:3') at 0x2369851fc10>,\n",
       "               <EdgeApply(space='windmill-instances', external_id='bladewrite:3:sensorpositionwrite:13') at 0x2369851ac40>,\n",
       "               <EdgeApply(space='windmill-instances', external_id='bladewrite:3:sensorpositionwrite:14') at 0x2369851a880>,\n",
       "               <EdgeApply(space='windmill-instances', external_id='bladewrite:3:sensorpositionwrite:15') at 0x236984ad400>,\n",
       "               <EdgeApply(space='windmill-instances', external_id='bladewrite:3:sensorpositionwrite:16') at 0x236984ad850>,\n",
       "               <EdgeApply(space='windmill-instances', external_id='bladewrite:3:sensorpositionwrite:17') at 0x23698516b50>,\n",
       "               <EdgeApply(space='windmill-instances', external_id='bladewrite:3:sensorpositionwrite:18') at 0x23698516eb0>,\n",
       "               <EdgeApply(space='windmill-instances', external_id='hornsea_1_mill_2:bladewrite:4') at 0x23698516a30>,\n",
       "               <EdgeApply(space='windmill-instances', external_id='bladewrite:4:sensorpositionwrite:19') at 0x23698516370>,\n",
       "               <EdgeApply(space='windmill-instances', external_id='bladewrite:4:sensorpositionwrite:20') at 0x23698517fa0>,\n",
       "               <EdgeApply(space='windmill-instances', external_id='bladewrite:4:sensorpositionwrite:21') at 0x23698517b80>,\n",
       "               <EdgeApply(space='windmill-instances', external_id='bladewrite:4:sensorpositionwrite:22') at 0x23698517880>,\n",
       "               <EdgeApply(space='windmill-instances', external_id='bladewrite:4:sensorpositionwrite:23') at 0x236985171f0>,\n",
       "               <EdgeApply(space='windmill-instances', external_id='bladewrite:4:sensorpositionwrite:24') at 0x23698517c70>,\n",
       "               <EdgeApply(space='windmill-instances', external_id='hornsea_1_mill_2:bladewrite:5') at 0x23698516550>,\n",
       "               <EdgeApply(space='windmill-instances', external_id='bladewrite:5:sensorpositionwrite:25') at 0x23698517520>,\n",
       "               <EdgeApply(space='windmill-instances', external_id='bladewrite:5:sensorpositionwrite:26') at 0x2369850f3d0>,\n",
       "               <EdgeApply(space='windmill-instances', external_id='bladewrite:5:sensorpositionwrite:27') at 0x2369850fbe0>,\n",
       "               <EdgeApply(space='windmill-instances', external_id='bladewrite:5:sensorpositionwrite:28') at 0x2369850f550>,\n",
       "               <EdgeApply(space='windmill-instances', external_id='bladewrite:5:sensorpositionwrite:29') at 0x2369850f250>,\n",
       "               <EdgeApply(space='windmill-instances', external_id='bladewrite:5:sensorpositionwrite:30') at 0x2369850f820>,\n",
       "               <EdgeApply(space='windmill-instances', external_id='hornsea_1_mill_2:bladewrite:6') at 0x23698516dc0>,\n",
       "               <EdgeApply(space='windmill-instances', external_id='bladewrite:6:sensorpositionwrite:31') at 0x2369850f7f0>,\n",
       "               <EdgeApply(space='windmill-instances', external_id='bladewrite:6:sensorpositionwrite:32') at 0x2369850fd90>,\n",
       "               <EdgeApply(space='windmill-instances', external_id='bladewrite:6:sensorpositionwrite:33') at 0x23698507e20>,\n",
       "               <EdgeApply(space='windmill-instances', external_id='bladewrite:6:sensorpositionwrite:34') at 0x2369850f460>,\n",
       "               <EdgeApply(space='windmill-instances', external_id='bladewrite:6:sensorpositionwrite:35') at 0x236983cc460>,\n",
       "               <EdgeApply(space='windmill-instances', external_id='bladewrite:6:sensorpositionwrite:36') at 0x236983ccb80>,\n",
       "               <EdgeApply(space='windmill-instances', external_id='hornsea_1_mill_1:bladewrite:7') at 0x23698517610>,\n",
       "               <EdgeApply(space='windmill-instances', external_id='bladewrite:7:sensorpositionwrite:37') at 0x236983cc850>,\n",
       "               <EdgeApply(space='windmill-instances', external_id='bladewrite:7:sensorpositionwrite:38') at 0x236985cfc40>,\n",
       "               <EdgeApply(space='windmill-instances', external_id='bladewrite:7:sensorpositionwrite:39') at 0x236985cff10>,\n",
       "               <EdgeApply(space='windmill-instances', external_id='bladewrite:7:sensorpositionwrite:40') at 0x236985cfdc0>,\n",
       "               <EdgeApply(space='windmill-instances', external_id='bladewrite:7:sensorpositionwrite:41') at 0x23698531370>,\n",
       "               <EdgeApply(space='windmill-instances', external_id='bladewrite:7:sensorpositionwrite:42') at 0x23698531580>,\n",
       "               <EdgeApply(space='windmill-instances', external_id='hornsea_1_mill_1:bladewrite:8') at 0x236983ccc10>,\n",
       "               <EdgeApply(space='windmill-instances', external_id='bladewrite:8:sensorpositionwrite:43') at 0x23698531820>,\n",
       "               <EdgeApply(space='windmill-instances', external_id='bladewrite:8:sensorpositionwrite:44') at 0x23698531910>,\n",
       "               <EdgeApply(space='windmill-instances', external_id='bladewrite:8:sensorpositionwrite:45') at 0x23698531ee0>,\n",
       "               <EdgeApply(space='windmill-instances', external_id='bladewrite:8:sensorpositionwrite:46') at 0x23698531c40>,\n",
       "               <EdgeApply(space='windmill-instances', external_id='bladewrite:8:sensorpositionwrite:47') at 0x236985322b0>,\n",
       "               <EdgeApply(space='windmill-instances', external_id='bladewrite:8:sensorpositionwrite:48') at 0x236985324c0>,\n",
       "               <EdgeApply(space='windmill-instances', external_id='hornsea_1_mill_1:bladewrite:9') at 0x236983cc250>,\n",
       "               <EdgeApply(space='windmill-instances', external_id='bladewrite:9:sensorpositionwrite:49') at 0x236985324f0>,\n",
       "               <EdgeApply(space='windmill-instances', external_id='bladewrite:9:sensorpositionwrite:50') at 0x23698532040>,\n",
       "               <EdgeApply(space='windmill-instances', external_id='bladewrite:9:sensorpositionwrite:51') at 0x23698532ca0>,\n",
       "               <EdgeApply(space='windmill-instances', external_id='bladewrite:9:sensorpositionwrite:52') at 0x23698532e80>,\n",
       "               <EdgeApply(space='windmill-instances', external_id='bladewrite:9:sensorpositionwrite:53') at 0x23698532a30>,\n",
       "               <EdgeApply(space='windmill-instances', external_id='bladewrite:9:sensorpositionwrite:54') at 0x23698532ac0>,\n",
       "               <EdgeApply(space='windmill-instances', external_id='hornsea_1_mill_4:bladewrite:10') at 0x23698532940>,\n",
       "               <EdgeApply(space='windmill-instances', external_id='bladewrite:10:sensorpositionwrite:55') at 0x23698533a00>,\n",
       "               <EdgeApply(space='windmill-instances', external_id='bladewrite:10:sensorpositionwrite:56') at 0x23698533af0>,\n",
       "               <EdgeApply(space='windmill-instances', external_id='bladewrite:10:sensorpositionwrite:57') at 0x23698533e50>,\n",
       "               <EdgeApply(space='windmill-instances', external_id='bladewrite:10:sensorpositionwrite:58') at 0x236985352b0>,\n",
       "               <EdgeApply(space='windmill-instances', external_id='bladewrite:10:sensorpositionwrite:59') at 0x236985354c0>,\n",
       "               <EdgeApply(space='windmill-instances', external_id='bladewrite:10:sensorpositionwrite:60') at 0x236985356a0>,\n",
       "               <EdgeApply(space='windmill-instances', external_id='hornsea_1_mill_4:bladewrite:11') at 0x23698533dc0>,\n",
       "               <EdgeApply(space='windmill-instances', external_id='bladewrite:11:sensorpositionwrite:61') at 0x23698535940>,\n",
       "               <EdgeApply(space='windmill-instances', external_id='bladewrite:11:sensorpositionwrite:62') at 0x23698535a30>,\n",
       "               <EdgeApply(space='windmill-instances', external_id='bladewrite:11:sensorpositionwrite:63') at 0x23698535a60>,\n",
       "               <EdgeApply(space='windmill-instances', external_id='bladewrite:11:sensorpositionwrite:64') at 0x236985359a0>,\n",
       "               <EdgeApply(space='windmill-instances', external_id='bladewrite:11:sensorpositionwrite:65') at 0x23698537460>,\n",
       "               <EdgeApply(space='windmill-instances', external_id='bladewrite:11:sensorpositionwrite:66') at 0x236985375e0>,\n",
       "               <EdgeApply(space='windmill-instances', external_id='hornsea_1_mill_4:bladewrite:12') at 0x236985337c0>,\n",
       "               <EdgeApply(space='windmill-instances', external_id='bladewrite:12:sensorpositionwrite:67') at 0x23698537610>,\n",
       "               <EdgeApply(space='windmill-instances', external_id='bladewrite:12:sensorpositionwrite:68') at 0x23698537220>,\n",
       "               <EdgeApply(space='windmill-instances', external_id='bladewrite:12:sensorpositionwrite:69') at 0x23698537dc0>,\n",
       "               <EdgeApply(space='windmill-instances', external_id='bladewrite:12:sensorpositionwrite:70') at 0x23698537f10>,\n",
       "               <EdgeApply(space='windmill-instances', external_id='bladewrite:12:sensorpositionwrite:71') at 0x23698537b50>,\n",
       "               <EdgeApply(space='windmill-instances', external_id='bladewrite:12:sensorpositionwrite:72') at 0x23698519af0>,\n",
       "               <EdgeApply(space='windmill-instances', external_id='hornsea_1_mill_5:bladewrite:13') at 0x23698537a60>,\n",
       "               <EdgeApply(space='windmill-instances', external_id='bladewrite:13:sensorpositionwrite:73') at 0x23698519c40>,\n",
       "               <EdgeApply(space='windmill-instances', external_id='bladewrite:13:sensorpositionwrite:74') at 0x23698519910>,\n",
       "               <EdgeApply(space='windmill-instances', external_id='bladewrite:13:sensorpositionwrite:75') at 0x23698519070>,\n",
       "               <EdgeApply(space='windmill-instances', external_id='bladewrite:13:sensorpositionwrite:76') at 0x2369851b460>,\n",
       "               <EdgeApply(space='windmill-instances', external_id='bladewrite:13:sensorpositionwrite:77') at 0x2369851b5e0>,\n",
       "               <EdgeApply(space='windmill-instances', external_id='bladewrite:13:sensorpositionwrite:78') at 0x2369851b7c0>,\n",
       "               <EdgeApply(space='windmill-instances', external_id='hornsea_1_mill_5:bladewrite:14') at 0x23698519280>,\n",
       "               <EdgeApply(space='windmill-instances', external_id='bladewrite:14:sensorpositionwrite:79') at 0x2369851ba60>,\n",
       "               <EdgeApply(space='windmill-instances', external_id='bladewrite:14:sensorpositionwrite:80') at 0x2369851bb50>,\n",
       "               <EdgeApply(space='windmill-instances', external_id='bladewrite:14:sensorpositionwrite:81') at 0x2369851beb0>,\n",
       "               <EdgeApply(space='windmill-instances', external_id='bladewrite:14:sensorpositionwrite:82') at 0x23698514670>,\n",
       "               <EdgeApply(space='windmill-instances', external_id='bladewrite:14:sensorpositionwrite:83') at 0x23698514cd0>,\n",
       "               <EdgeApply(space='windmill-instances', external_id='bladewrite:14:sensorpositionwrite:84') at 0x236985149d0>,\n",
       "               <EdgeApply(space='windmill-instances', external_id='hornsea_1_mill_5:bladewrite:15') at 0x23698519dc0>,\n",
       "               <EdgeApply(space='windmill-instances', external_id='bladewrite:15:sensorpositionwrite:85') at 0x23698514a60>,\n",
       "               <EdgeApply(space='windmill-instances', external_id='bladewrite:15:sensorpositionwrite:86') at 0x23698514130>,\n",
       "               <EdgeApply(space='windmill-instances', external_id='bladewrite:15:sensorpositionwrite:87') at 0x23698514220>,\n",
       "               <EdgeApply(space='windmill-instances', external_id='bladewrite:15:sensorpositionwrite:88') at 0x23698514880>,\n",
       "               <EdgeApply(space='windmill-instances', external_id='bladewrite:15:sensorpositionwrite:89') at 0x236985182b0>,\n",
       "               <EdgeApply(space='windmill-instances', external_id='bladewrite:15:sensorpositionwrite:90') at 0x236985184c0>])"
      ]
     },
     "execution_count": 24,
     "metadata": {},
     "output_type": "execute_result"
    }
   ],
   "source": [
    "instances.edges"
   ]
  },
  {
   "cell_type": "code",
   "execution_count": null,
   "metadata": {
    "editable": true,
    "slideshow": {
     "slide_type": ""
    },
    "tags": []
   },
   "outputs": [],
   "source": []
  },
  {
   "cell_type": "code",
   "execution_count": null,
   "metadata": {
    "editable": true,
    "slideshow": {
     "slide_type": ""
    },
    "tags": []
   },
   "outputs": [],
   "source": []
  }
 ],
 "metadata": {
  "kernelspec": {
   "display_name": "Python 3 (ipykernel)",
   "language": "python",
   "name": "python3"
  },
  "language_info": {
   "codemirror_mode": {
    "name": "ipython",
    "version": 3
   },
   "file_extension": ".py",
   "mimetype": "text/x-python",
   "name": "python",
   "nbconvert_exporter": "python",
   "pygments_lexer": "ipython3",
   "version": "3.10.11"
  }
 },
 "nbformat": 4,
 "nbformat_minor": 4
}
