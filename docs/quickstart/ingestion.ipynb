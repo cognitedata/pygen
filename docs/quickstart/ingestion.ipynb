{
 "cells": [
  {
   "cell_type": "markdown",
   "metadata": {
    "editable": true,
    "slideshow": {
     "slide_type": ""
    },
    "tags": []
   },
   "source": [
    "# Data Population\n",
    "**Prerequisites**\n",
    "- Access to a CDF Project.\n",
    "- Know how to use a terminal, so you can run `pygen` from the command line to \n",
    "  generate the SDK.\n",
    "- Knowledge of your the data and data model."
   ]
  },
  {
   "cell_type": "code",
   "execution_count": 1,
   "metadata": {
    "editable": true,
    "slideshow": {
     "slide_type": ""
    },
    "tags": [
     "hide"
    ]
   },
   "outputs": [],
   "source": [
    "import warnings\n",
    "\n",
    "warnings.filterwarnings(\"ignore\")\n",
    "# This is just to enable improting the generated SDK from the examples folder in the pygen repository\n",
    "import sys  # noqa: E402\n",
    "\n",
    "from tests.constants import REPO_ROOT  # noqa: E402\n",
    "\n",
    "sys.path.append(str(REPO_ROOT / \"examples\"))"
   ]
  },
  {
   "cell_type": "markdown",
   "metadata": {
    "editable": true,
    "slideshow": {
     "slide_type": ""
    },
    "tags": []
   },
   "source": [
    "## Introduction to Problem"
   ]
  },
  {
   "cell_type": "markdown",
   "metadata": {},
   "source": [
    "`pygen` can be used to ingest data into an existing data model. It is well suited when the source data is nested and comes in a format such as `JSON`.\n",
    "\n",
    "Before you can ingest data you need the following:\n",
    "\n",
    "1. A Data Model Deployed to CDF.\n",
    "2. Generated an SDK for it.\n",
    "\n",
    "In this guide, we will use some windmill data as an example. First, we already have a deployed a model and generated an SDK for it.\n",
    "\n",
    "The model was generated with the follwing config from the `pyproject.toml`\n",
    "\n",
    "```toml\n",
    "[tool.pygen]\n",
    "data_models = [\n",
    "    [\"sp_pygen_power\", \"WindTurbine\", \"1\"],\n",
    "]\n",
    "\n",
    "```\n",
    "\n",
    "\n",
    "The model is illustrated in Cognite Data Fusions interface below:\n",
    "\n",
    "<img src=\"images/windturbine_model.png\" width=\"800\">"
   ]
  },
  {
   "cell_type": "markdown",
   "metadata": {
    "editable": true,
    "slideshow": {
     "slide_type": ""
    },
    "tags": []
   },
   "source": [
    "First, we will inspect some of the data we have available"
   ]
  },
  {
   "cell_type": "code",
   "execution_count": 2,
   "metadata": {
    "editable": true,
    "slideshow": {
     "slide_type": ""
    },
    "tags": []
   },
   "outputs": [],
   "source": [
    "from tests.constants import JSON_DIR"
   ]
  },
  {
   "cell_type": "code",
   "execution_count": 3,
   "metadata": {},
   "outputs": [],
   "source": [
    "source_filepath = JSON_DIR / \"turbine.json\""
   ]
  },
  {
   "cell_type": "code",
   "execution_count": 4,
   "metadata": {
    "editable": true,
    "slideshow": {
     "slide_type": ""
    },
    "tags": []
   },
   "outputs": [
    {
     "name": "stdout",
     "output_type": "stream",
     "text": [
      "[{\n",
      "\t\"capacity\": 7.0,\n",
      "\t\"name\": \"Doctrino Turbine 11\",\n",
      "    \"windfarm\": \"Oslo B2\",\n",
      "\t\"blades\": [\n",
      "\t\t{\n",
      "\t\t\t\"is_damaged\": false,\n",
      "\t\t\t\"name\": \"Blade A\"\n",
      "\t\t},\n",
      "\t\t{\n",
      "            \"is_damaged\": false,\n",
      "\t\t\t\"name\": \"Blade B\"\n",
      "\t\t},\n",
      "\t\t{\n",
      "\t\t\t\"is_damaged\": true,\n",
      "\t\t\t\"name\": \"Blade C\"\n",
      "\t\t}\n",
      "    ]\n",
      "}]\n",
      "\n"
     ]
    }
   ],
   "source": [
    "print(source_filepath.read_text())"
   ]
  },
  {
   "cell_type": "markdown",
   "metadata": {
    "editable": true,
    "slideshow": {
     "slide_type": ""
    },
    "tags": []
   },
   "source": [
    "As we see above, this is nested data, which is well suited for `pygen` supported ingestion"
   ]
  },
  {
   "cell_type": "markdown",
   "metadata": {
    "editable": true,
    "slideshow": {
     "slide_type": ""
    },
    "tags": []
   },
   "source": [
    "## External ID Hook\n",
    "\n",
    "All data in CDF data models needs to have an `external_id` set. Often, source data does not come with an `external_id` set, and to help this `pygen` comes with a built in hook that enables you to set `external_id` when you are ingesting the data. The name of this hook is an `external_id_factory` and you can set it importing the `DomainModelWrite` from your generated data classes. "
   ]
  },
  {
   "cell_type": "code",
   "execution_count": 5,
   "metadata": {
    "editable": true,
    "slideshow": {
     "slide_type": ""
    },
    "tags": []
   },
   "outputs": [],
   "source": [
    "from wind_turbine import data_classes as data_cls\n",
    "\n",
    "from cognite.pygen.utils.external_id_factories import ExternalIdFactory"
   ]
  },
  {
   "cell_type": "code",
   "execution_count": 6,
   "metadata": {
    "editable": true,
    "slideshow": {
     "slide_type": ""
    },
    "tags": []
   },
   "outputs": [],
   "source": [
    "data_cls.DomainModelWrite.external_id_factory = ExternalIdFactory.create_external_id_factory()"
   ]
  },
  {
   "cell_type": "markdown",
   "metadata": {
    "editable": true,
    "slideshow": {
     "slide_type": ""
    },
    "tags": []
   },
   "source": [
    "The `external_id_factory` is a function that takes in two arguments, first a `type` which is the data class for the object and then a `dict` with the data for that partuclar object. `pygen` comes with a few generic external id factories you can use, see [External ID factory](../api/utils_external_id_factory.html) These can be good for testing an exploration, but we recommend that you write your own factory function for (at least) the most important classes.\n",
    "\n",
    "In the example below, we write a factory method that sets the ID for all windmills. Looking at the snippet below we note that the windmill have an `name` from the source system, so we would like to use this as the `external_id`."
   ]
  },
  {
   "cell_type": "code",
   "execution_count": 7,
   "metadata": {
    "editable": true,
    "slideshow": {
     "slide_type": ""
    },
    "tags": []
   },
   "outputs": [],
   "source": [
    "from wind_turbine import data_classes as data_cls\n",
    "\n",
    "fallback_factory = ExternalIdFactory.incremental_factory()\n",
    "\n",
    "\n",
    "def my_factory(domain_cls: type, data: dict) -> str:\n",
    "    if domain_cls is data_cls.WindTurbineWrite:\n",
    "        return data[\"name\"].replace(\" \", \"_\")\n",
    "    else:\n",
    "        # Fallback to incremental\n",
    "        return fallback_factory(domain_cls, data)\n",
    "\n",
    "\n",
    "# Finally, we set the new factory\n",
    "data_cls.DomainModelWrite.external_id_factory = ExternalIdFactory.create_external_id_factory(\n",
    "    separator=\"-\", suffix_ext_id_factory=my_factory\n",
    ")"
   ]
  },
  {
   "cell_type": "markdown",
   "metadata": {
    "editable": true,
    "slideshow": {
     "slide_type": ""
    },
    "tags": []
   },
   "source": [
    "## Ingesting the Data\n",
    "\n",
    "After we have set the `external_id_factory` we are all good to go. `pygen` is generating `pydantic` data classes which means we can use the built in support for json validation in `pydantic`\n",
    "\n",
    "We not that we had a list of wind turbines, in `pydantic` we use a `TypeAdapter` to parse a list of objects"
   ]
  },
  {
   "cell_type": "code",
   "execution_count": 8,
   "metadata": {},
   "outputs": [],
   "source": [
    "from pydantic import TypeAdapter"
   ]
  },
  {
   "cell_type": "code",
   "execution_count": 9,
   "metadata": {
    "editable": true,
    "slideshow": {
     "slide_type": ""
    },
    "tags": []
   },
   "outputs": [],
   "source": [
    "turbines = TypeAdapter(list[data_cls.WindTurbineWrite]).validate_json(source_filepath.read_text())"
   ]
  },
  {
   "cell_type": "code",
   "execution_count": 10,
   "metadata": {},
   "outputs": [
    {
     "data": {
      "text/html": [
       "<div>\n",
       "<style scoped>\n",
       "    .dataframe tbody tr th:only-of-type {\n",
       "        vertical-align: middle;\n",
       "    }\n",
       "\n",
       "    .dataframe tbody tr th {\n",
       "        vertical-align: top;\n",
       "    }\n",
       "\n",
       "    .dataframe thead th {\n",
       "        text-align: right;\n",
       "    }\n",
       "</style>\n",
       "<table border=\"1\" class=\"dataframe\">\n",
       "  <thead>\n",
       "    <tr style=\"text-align: right;\">\n",
       "      <th></th>\n",
       "      <th>space</th>\n",
       "      <th>external_id</th>\n",
       "      <th>capacity</th>\n",
       "      <th>name</th>\n",
       "      <th>blades</th>\n",
       "      <th>windfarm</th>\n",
       "      <th>data_record</th>\n",
       "    </tr>\n",
       "  </thead>\n",
       "  <tbody>\n",
       "    <tr>\n",
       "      <th>0</th>\n",
       "      <td>sp_wind</td>\n",
       "      <td>windturbine-Doctrino_Turbine_11</td>\n",
       "      <td>7.0</td>\n",
       "      <td>Doctrino Turbine 11</td>\n",
       "      <td>[{'space': 'sp_wind', 'external_id': 'blade-1'...</td>\n",
       "      <td>Oslo B2</td>\n",
       "      <td>{'existing_version': None}</td>\n",
       "    </tr>\n",
       "  </tbody>\n",
       "</table>\n",
       "</div>"
      ],
      "text/plain": [
       "WindTurbineWriteList([WindTurbineWrite(space='sp_wind', external_id='windturbine-Doctrino_Turbine_11', data_record=DataRecordWrite(existing_version=None), node_type=None, capacity=7.0, description=None, name='Doctrino Turbine 11', power_curve=None, windfarm='Oslo B2')])"
      ]
     },
     "execution_count": 10,
     "metadata": {},
     "output_type": "execute_result"
    }
   ],
   "source": [
    "# The WindmillWriteList has a few helper methods and nicer display than a regular list\n",
    "turbines = data_cls.WindTurbineWriteList(turbines)\n",
    "turbines"
   ]
  },
  {
   "cell_type": "markdown",
   "metadata": {
    "editable": true,
    "slideshow": {
     "slide_type": ""
    },
    "tags": []
   },
   "source": [
    "We note that the `external_id` field is set to the `name` for the turbine. If we check the other objects we see these gets an `external_id` = `class_name.lower()-counter`"
   ]
  },
  {
   "cell_type": "code",
   "execution_count": 11,
   "metadata": {
    "editable": true,
    "slideshow": {
     "slide_type": ""
    },
    "tags": []
   },
   "outputs": [
    {
     "data": {
      "text/html": [
       "<div>\n",
       "<style scoped>\n",
       "    .dataframe tbody tr th:only-of-type {\n",
       "        vertical-align: middle;\n",
       "    }\n",
       "\n",
       "    .dataframe tbody tr th {\n",
       "        vertical-align: top;\n",
       "    }\n",
       "\n",
       "    .dataframe thead th {\n",
       "        text-align: right;\n",
       "    }\n",
       "</style>\n",
       "<table border=\"1\" class=\"dataframe\">\n",
       "  <thead>\n",
       "    <tr style=\"text-align: right;\">\n",
       "      <th></th>\n",
       "      <th>value</th>\n",
       "    </tr>\n",
       "  </thead>\n",
       "  <tbody>\n",
       "    <tr>\n",
       "      <th>space</th>\n",
       "      <td>sp_wind</td>\n",
       "    </tr>\n",
       "    <tr>\n",
       "      <th>external_id</th>\n",
       "      <td>blade-1</td>\n",
       "    </tr>\n",
       "    <tr>\n",
       "      <th>data_record</th>\n",
       "      <td>{'existing_version': None}</td>\n",
       "    </tr>\n",
       "    <tr>\n",
       "      <th>node_type</th>\n",
       "      <td>None</td>\n",
       "    </tr>\n",
       "    <tr>\n",
       "      <th>is_damaged</th>\n",
       "      <td>False</td>\n",
       "    </tr>\n",
       "    <tr>\n",
       "      <th>name</th>\n",
       "      <td>Blade A</td>\n",
       "    </tr>\n",
       "  </tbody>\n",
       "</table>\n",
       "</div>"
      ],
      "text/plain": [
       "BladeWrite(space='sp_wind', external_id='blade-1', data_record=DataRecordWrite(existing_version=None), node_type=None, is_damaged=False, name='Blade A')"
      ]
     },
     "execution_count": 11,
     "metadata": {},
     "output_type": "execute_result"
    }
   ],
   "source": [
    "turbines[0].blades[0]"
   ]
  },
  {
   "cell_type": "markdown",
   "metadata": {
    "editable": true,
    "slideshow": {
     "slide_type": ""
    },
    "tags": []
   },
   "source": [
    "We can now upload this data by creating a domain client and call the `pygen.upsert` method. "
   ]
  },
  {
   "cell_type": "code",
   "execution_count": 12,
   "metadata": {
    "editable": true,
    "slideshow": {
     "slide_type": ""
    },
    "tags": []
   },
   "outputs": [],
   "source": [
    "from wind_turbine import WindTurbineClient"
   ]
  },
  {
   "cell_type": "code",
   "execution_count": 13,
   "metadata": {
    "editable": true,
    "slideshow": {
     "slide_type": ""
    },
    "tags": []
   },
   "outputs": [],
   "source": [
    "pygen = WindTurbineClient.from_toml(\"config.toml\")"
   ]
  },
  {
   "cell_type": "code",
   "execution_count": 14,
   "metadata": {
    "editable": true,
    "slideshow": {
     "slide_type": ""
    },
    "tags": []
   },
   "outputs": [
    {
     "name": "stdout",
     "output_type": "stream",
     "text": [
      "4 nodes and 0 uploaded\n"
     ]
    }
   ],
   "source": [
    "result = pygen.upsert(turbines)\n",
    "print(f\"{len(result.nodes)} nodes and {len(result.edges)} uploaded\")"
   ]
  },
  {
   "cell_type": "markdown",
   "metadata": {
    "editable": true,
    "slideshow": {
     "slide_type": ""
    },
    "tags": []
   },
   "source": [
    "Note that `pygen` have the method `.to_instances_write()` you can use to check which `nodes`and `edges` were created.\n",
    "\n",
    "We note that `pygen` created in total 4 nodes and 0 edges."
   ]
  },
  {
   "cell_type": "code",
   "execution_count": 15,
   "metadata": {
    "editable": true,
    "slideshow": {
     "slide_type": ""
    },
    "tags": []
   },
   "outputs": [],
   "source": [
    "instances = turbines.to_instances_write()"
   ]
  },
  {
   "cell_type": "code",
   "execution_count": 16,
   "metadata": {
    "editable": true,
    "slideshow": {
     "slide_type": ""
    },
    "tags": []
   },
   "outputs": [
    {
     "data": {
      "text/plain": [
       "(4, 0)"
      ]
     },
     "execution_count": 16,
     "metadata": {},
     "output_type": "execute_result"
    }
   ],
   "source": [
    "len(instances.nodes), len(instances.edges)"
   ]
  },
  {
   "cell_type": "code",
   "execution_count": 17,
   "metadata": {
    "editable": true,
    "slideshow": {
     "slide_type": ""
    },
    "tags": []
   },
   "outputs": [
    {
     "data": {
      "text/plain": [
       "(2,\n",
       " {ViewId(space='sp_pygen_power', external_id='Blade', version='1'),\n",
       "  ViewId(space='sp_pygen_power', external_id='WindTurbine', version='1')})"
      ]
     },
     "execution_count": 17,
     "metadata": {},
     "output_type": "execute_result"
    }
   ],
   "source": [
    "unique = set([source.source for node in instances.nodes for source in node.sources])\n",
    "len(unique), unique"
   ]
  },
  {
   "cell_type": "code",
   "execution_count": 18,
   "metadata": {
    "editable": true,
    "slideshow": {
     "slide_type": ""
    },
    "tags": []
   },
   "outputs": [
    {
     "data": {
      "text/html": [
       "<div>\n",
       "<style scoped>\n",
       "    .dataframe tbody tr th:only-of-type {\n",
       "        vertical-align: middle;\n",
       "    }\n",
       "\n",
       "    .dataframe tbody tr th {\n",
       "        vertical-align: top;\n",
       "    }\n",
       "\n",
       "    .dataframe thead th {\n",
       "        text-align: right;\n",
       "    }\n",
       "</style>\n",
       "<table border=\"1\" class=\"dataframe\">\n",
       "  <thead>\n",
       "    <tr style=\"text-align: right;\">\n",
       "      <th></th>\n",
       "      <th>space</th>\n",
       "      <th>external_id</th>\n",
       "      <th>instance_type</th>\n",
       "      <th>sources</th>\n",
       "    </tr>\n",
       "  </thead>\n",
       "  <tbody>\n",
       "    <tr>\n",
       "      <th>0</th>\n",
       "      <td>sp_wind</td>\n",
       "      <td>windturbine-Doctrino_Turbine_11</td>\n",
       "      <td>node</td>\n",
       "      <td>[{'properties': {'blades': [{'space': 'sp_wind...</td>\n",
       "    </tr>\n",
       "    <tr>\n",
       "      <th>1</th>\n",
       "      <td>sp_wind</td>\n",
       "      <td>blade-1</td>\n",
       "      <td>node</td>\n",
       "      <td>[{'properties': {'is_damaged': False, 'name': ...</td>\n",
       "    </tr>\n",
       "    <tr>\n",
       "      <th>2</th>\n",
       "      <td>sp_wind</td>\n",
       "      <td>blade-2</td>\n",
       "      <td>node</td>\n",
       "      <td>[{'properties': {'is_damaged': False, 'name': ...</td>\n",
       "    </tr>\n",
       "    <tr>\n",
       "      <th>3</th>\n",
       "      <td>sp_wind</td>\n",
       "      <td>blade-3</td>\n",
       "      <td>node</td>\n",
       "      <td>[{'properties': {'is_damaged': True, 'name': '...</td>\n",
       "    </tr>\n",
       "  </tbody>\n",
       "</table>\n",
       "</div>"
      ],
      "text/plain": [
       "NodeApplyList([<NodeApply(space='sp_wind', external_id='windturbine-Doctrino_Turbine_11') at 0x129c8f44100>,\n",
       "               <NodeApply(space='sp_wind', external_id='blade-1') at 0x129c7d3d720>,\n",
       "               <NodeApply(space='sp_wind', external_id='blade-2') at 0x129c7d3f130>,\n",
       "               <NodeApply(space='sp_wind', external_id='blade-3') at 0x129c7d3efb0>])"
      ]
     },
     "execution_count": 18,
     "metadata": {},
     "output_type": "execute_result"
    }
   ],
   "source": [
    "instances.nodes"
   ]
  },
  {
   "cell_type": "code",
   "execution_count": 19,
   "metadata": {
    "editable": true,
    "slideshow": {
     "slide_type": ""
    },
    "tags": []
   },
   "outputs": [
    {
     "data": {
      "text/html": [
       "<div>\n",
       "<style scoped>\n",
       "    .dataframe tbody tr th:only-of-type {\n",
       "        vertical-align: middle;\n",
       "    }\n",
       "\n",
       "    .dataframe tbody tr th {\n",
       "        vertical-align: top;\n",
       "    }\n",
       "\n",
       "    .dataframe thead th {\n",
       "        text-align: right;\n",
       "    }\n",
       "</style>\n",
       "<table border=\"1\" class=\"dataframe\">\n",
       "  <thead>\n",
       "    <tr style=\"text-align: right;\">\n",
       "      <th></th>\n",
       "    </tr>\n",
       "  </thead>\n",
       "  <tbody>\n",
       "  </tbody>\n",
       "</table>\n",
       "</div>"
      ],
      "text/plain": [
       "EdgeApplyList([])"
      ]
     },
     "execution_count": 19,
     "metadata": {},
     "output_type": "execute_result"
    }
   ],
   "source": [
    "instances.edges"
   ]
  },
  {
   "cell_type": "code",
   "execution_count": 20,
   "metadata": {
    "editable": true,
    "slideshow": {
     "slide_type": ""
    },
    "tags": []
   },
   "outputs": [
    {
     "data": {
      "text/plain": [
       "InstancesDeleteResult(nodes=[NodeId(space='sp_wind', external_id='windturbine-Doctrino_Turbine_11'), NodeId(space='sp_wind', external_id='blade-1'), NodeId(space='sp_wind', external_id='blade-2'), NodeId(space='sp_wind', external_id='blade-3')], edges=[])"
      ]
     },
     "execution_count": 20,
     "metadata": {},
     "output_type": "execute_result"
    }
   ],
   "source": [
    "# Cleanup\n",
    "pygen.delete(turbines)"
   ]
  },
  {
   "cell_type": "code",
   "execution_count": null,
   "metadata": {
    "editable": true,
    "slideshow": {
     "slide_type": ""
    },
    "tags": []
   },
   "outputs": [],
   "source": []
  }
 ],
 "metadata": {
  "kernelspec": {
   "display_name": "Python 3 (ipykernel)",
   "language": "python",
   "name": "python3"
  },
  "language_info": {
   "codemirror_mode": {
    "name": "ipython",
    "version": 3
   },
   "file_extension": ".py",
   "mimetype": "text/x-python",
   "name": "python",
   "nbconvert_exporter": "python",
   "pygments_lexer": "ipython3",
   "version": "3.10.11"
  }
 },
 "nbformat": 4,
 "nbformat_minor": 4
}
