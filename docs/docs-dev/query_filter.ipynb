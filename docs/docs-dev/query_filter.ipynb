{
 "cells": [
  {
   "cell_type": "markdown",
   "id": "d008fe44-2be1-4e48-a220-6bbfaa43a847",
   "metadata": {},
   "source": [
    "# Filter Examples\n",
    "\n",
    "This tutorial demonstrates how to use the different leaf filters.\n",
    "\n",
    "In this tutorial, we will use the wind turbine model from the `pygen` docs.\n",
    "\n",
    "<img src=\"../usage/images/windturbine_model.png\" width=\"800\">\n",
    "\n",
    "Note that in this model all connections are modeled as direct relations, except the relation from `WindTurbin` to `MetMast` as this goes through the `Distance` edge."
   ]
  },
  {
   "cell_type": "markdown",
   "id": "71714da0-b4fd-47e0-ba96-246d0f20ac1d",
   "metadata": {},
   "source": [
    "## Setting up a cognite client"
   ]
  },
  {
   "cell_type": "code",
   "execution_count": 2,
   "id": "4888dce5-bbdd-4cf2-a757-d53d84ae688e",
   "metadata": {},
   "outputs": [],
   "source": [
    "import os\n",
    "\n",
    "from cognite.client import CogniteClient\n",
    "from dotenv import load_dotenv\n",
    "\n",
    "load_dotenv(\"../../.env\")\n",
    "\n",
    "client = CogniteClient.default_oauth_client_credentials(\n",
    "    project=os.environ[\"CDF_PROJECT\"],\n",
    "    cdf_cluster=os.environ[\"CDF_CLUSTER\"],\n",
    "    tenant_id=os.environ[\"IDP_TENANT_ID\"],\n",
    "    client_id=os.environ[\"IDP_CLIENT_ID\"],\n",
    "    client_secret=os.environ[\"IDP_CLIENT_SECRET\"],\n",
    ")"
   ]
  },
  {
   "cell_type": "markdown",
   "id": "a008e8db-37a6-452c-9836-687ef2d994a3",
   "metadata": {},
   "source": [
    "## Nested"
   ]
  },
  {
   "cell_type": "code",
   "execution_count": 3,
   "id": "9916785c-b7fa-4883-898b-b9d7f03d8948",
   "metadata": {},
   "outputs": [],
   "source": [
    "from cognite.client import data_modeling as dm\n",
    "from cognite.client.data_classes import filters"
   ]
  },
  {
   "cell_type": "markdown",
   "id": "0c422427-4ee2-4d52-87c9-23b03f3688d7",
   "metadata": {},
   "source": [
    "**Query: List wind turbines connected to a nacelle with a given yaw direction sensor**"
   ]
  },
  {
   "cell_type": "markdown",
   "id": "1255cea5-537f-4017-a0aa-ebb05a7fcdfd",
   "metadata": {},
   "source": [
    "Relevant part of `Nacelle` type:\n",
    "```graphql\n",
    "type Nacelle {\n",
    "  yaw_direction: SensorTimeSeries\n",
    "  ...\n",
    "}\n",
    "```\n",
    "\n",
    "Relevant part of `WindTurbine` type:\n",
    "```graphql\n",
    "type WindTurbine {\n",
    "  name: String\n",
    "  nacelle: Nacelle\n",
    "  ...\n",
    "}\n",
    "```"
   ]
  },
  {
   "cell_type": "code",
   "execution_count": 18,
   "id": "1e48694f-4f67-47ac-8629-259ea264cb6e",
   "metadata": {},
   "outputs": [],
   "source": [
    "nacelle_view = dm.ViewId(\"sp_pygen_power\", \"Nacelle\", \"1\")\n",
    "turbine_view = dm.ViewId(\"sp_pygen_power\", \"WindTurbine\", \"1\")"
   ]
  },
  {
   "cell_type": "code",
   "execution_count": 20,
   "id": "d0d3d6e3-ff93-4e81-ad53-42b098a2a443",
   "metadata": {},
   "outputs": [
    {
     "data": {
      "text/plain": [
       "{'space': 'sp_wind', 'externalId': 'V52-WindTurbine.yaw'}"
      ]
     },
     "execution_count": 20,
     "metadata": {},
     "output_type": "execute_result"
    }
   ],
   "source": [
    "yaw_sensor = client.data_modeling.instances.list(\n",
    "    sources=nacelle_view,\n",
    ")[0][\"yaw_direction\"]\n",
    "yaw_sensor"
   ]
  },
  {
   "cell_type": "markdown",
   "id": "7340c12d-e182-4576-9c30-ee9d144802cf",
   "metadata": {},
   "source": [
    "Our goal is to list the wind turbines with nacelle that uses the yaw direction sensor above."
   ]
  },
  {
   "cell_type": "code",
   "execution_count": 21,
   "id": "f84c43a7-30a4-413e-ab4f-dce43c9a8808",
   "metadata": {},
   "outputs": [],
   "source": [
    "is_selected_turbine = filters.Nested(\n",
    "    turbine_view.as_property_ref(\"nacelle\"), filters.Equals(nacelle_view.as_property_ref(\"yaw_direction\"), yaw_sensor)\n",
    ")"
   ]
  },
  {
   "cell_type": "code",
   "execution_count": 22,
   "id": "8d146a79-555e-47d9-9aed-fed81416cad1",
   "metadata": {},
   "outputs": [
    {
     "data": {
      "text/html": [
       "<div>\n",
       "<style scoped>\n",
       "    .dataframe tbody tr th:only-of-type {\n",
       "        vertical-align: middle;\n",
       "    }\n",
       "\n",
       "    .dataframe tbody tr th {\n",
       "        vertical-align: top;\n",
       "    }\n",
       "\n",
       "    .dataframe thead th {\n",
       "        text-align: right;\n",
       "    }\n",
       "</style>\n",
       "<table border=\"1\" class=\"dataframe\">\n",
       "  <thead>\n",
       "    <tr style=\"text-align: right;\">\n",
       "      <th></th>\n",
       "      <th>space</th>\n",
       "      <th>external_id</th>\n",
       "      <th>version</th>\n",
       "      <th>last_updated_time</th>\n",
       "      <th>created_time</th>\n",
       "      <th>instance_type</th>\n",
       "      <th>name</th>\n",
       "      <th>capacity</th>\n",
       "      <th>rotor</th>\n",
       "      <th>blades</th>\n",
       "      <th>nacelle</th>\n",
       "      <th>windfarm</th>\n",
       "      <th>datasheets</th>\n",
       "    </tr>\n",
       "  </thead>\n",
       "  <tbody>\n",
       "    <tr>\n",
       "      <th>0</th>\n",
       "      <td>sp_wind</td>\n",
       "      <td>hornsea_1_mill_3</td>\n",
       "      <td>8</td>\n",
       "      <td>2024-12-17 09:57:38.908</td>\n",
       "      <td>2024-11-16 14:08:01.544</td>\n",
       "      <td>node</td>\n",
       "      <td>hornsea_1_mill_3</td>\n",
       "      <td>7</td>\n",
       "      <td>{'space': 'sp_wind', 'externalId': 'hornsea_1_...</td>\n",
       "      <td>[{'space': 'sp_wind', 'externalId': 'hornsea_1...</td>\n",
       "      <td>{'space': 'sp_wind', 'externalId': 'hornsea_1_...</td>\n",
       "      <td>Hornsea 1</td>\n",
       "      <td>[{'space': 'sp_wind', 'externalId': 'windmill_...</td>\n",
       "    </tr>\n",
       "    <tr>\n",
       "      <th>1</th>\n",
       "      <td>sp_wind</td>\n",
       "      <td>hornsea_1_mill_2</td>\n",
       "      <td>8</td>\n",
       "      <td>2024-12-17 09:57:38.908</td>\n",
       "      <td>2024-11-16 14:08:01.544</td>\n",
       "      <td>node</td>\n",
       "      <td>hornsea_1_mill_2</td>\n",
       "      <td>7</td>\n",
       "      <td>{'space': 'sp_wind', 'externalId': 'hornsea_1_...</td>\n",
       "      <td>[{'space': 'sp_wind', 'externalId': 'hornsea_1...</td>\n",
       "      <td>{'space': 'sp_wind', 'externalId': 'hornsea_1_...</td>\n",
       "      <td>Hornsea 1</td>\n",
       "      <td>[{'space': 'sp_wind', 'externalId': 'windmill_...</td>\n",
       "    </tr>\n",
       "    <tr>\n",
       "      <th>2</th>\n",
       "      <td>sp_wind</td>\n",
       "      <td>hornsea_1_mill_1</td>\n",
       "      <td>8</td>\n",
       "      <td>2024-12-17 09:57:38.908</td>\n",
       "      <td>2024-11-16 14:08:01.544</td>\n",
       "      <td>node</td>\n",
       "      <td>hornsea_1_mill_1</td>\n",
       "      <td>7</td>\n",
       "      <td>{'space': 'sp_wind', 'externalId': 'hornsea_1_...</td>\n",
       "      <td>[{'space': 'sp_wind', 'externalId': 'hornsea_1...</td>\n",
       "      <td>{'space': 'sp_wind', 'externalId': 'hornsea_1_...</td>\n",
       "      <td>Hornsea 1</td>\n",
       "      <td>[{'space': 'sp_wind', 'externalId': 'windmill_...</td>\n",
       "    </tr>\n",
       "    <tr>\n",
       "      <th>3</th>\n",
       "      <td>sp_wind</td>\n",
       "      <td>hornsea_1_mill_4</td>\n",
       "      <td>8</td>\n",
       "      <td>2024-12-17 09:57:38.908</td>\n",
       "      <td>2024-11-16 14:08:01.544</td>\n",
       "      <td>node</td>\n",
       "      <td>hornsea_1_mill_4</td>\n",
       "      <td>7</td>\n",
       "      <td>{'space': 'sp_wind', 'externalId': 'hornsea_1_...</td>\n",
       "      <td>[{'space': 'sp_wind', 'externalId': 'hornsea_1...</td>\n",
       "      <td>{'space': 'sp_wind', 'externalId': 'hornsea_1_...</td>\n",
       "      <td>Hornsea 1</td>\n",
       "      <td>[{'space': 'sp_wind', 'externalId': 'windmill_...</td>\n",
       "    </tr>\n",
       "    <tr>\n",
       "      <th>4</th>\n",
       "      <td>sp_wind</td>\n",
       "      <td>hornsea_1_mill_5</td>\n",
       "      <td>8</td>\n",
       "      <td>2024-12-17 09:57:38.908</td>\n",
       "      <td>2024-11-16 14:08:01.544</td>\n",
       "      <td>node</td>\n",
       "      <td>hornsea_1_mill_5</td>\n",
       "      <td>7</td>\n",
       "      <td>{'space': 'sp_wind', 'externalId': 'hornsea_1_...</td>\n",
       "      <td>[{'space': 'sp_wind', 'externalId': 'hornsea_1...</td>\n",
       "      <td>{'space': 'sp_wind', 'externalId': 'hornsea_1_...</td>\n",
       "      <td>Hornsea 1</td>\n",
       "      <td>[{'space': 'sp_wind', 'externalId': 'windmill_...</td>\n",
       "    </tr>\n",
       "  </tbody>\n",
       "</table>\n",
       "</div>"
      ],
      "text/plain": [
       "NodeList([<Node(space='sp_wind', external_id='hornsea_1_mill_3', version=8) at 0x268791de230>,\n",
       "          <Node(space='sp_wind', external_id='hornsea_1_mill_2', version=8) at 0x268791dd570>,\n",
       "          <Node(space='sp_wind', external_id='hornsea_1_mill_1', version=8) at 0x268791dcdc0>,\n",
       "          <Node(space='sp_wind', external_id='hornsea_1_mill_4', version=8) at 0x268791dc940>,\n",
       "          <Node(space='sp_wind', external_id='hornsea_1_mill_5', version=8) at 0x268791dcc70>])"
      ]
     },
     "execution_count": 22,
     "metadata": {},
     "output_type": "execute_result"
    }
   ],
   "source": [
    "turbines = client.data_modeling.instances.list(\n",
    "    sources=turbine_view,\n",
    "    filter=is_selected_turbine,\n",
    "    limit=-1,\n",
    ")\n",
    "turbines"
   ]
  },
  {
   "cell_type": "markdown",
   "id": "701c936f-4e25-4336-8258-8fc38c793d7d",
   "metadata": {},
   "source": [
    "**Note** In this caes there are 5 wind turbines that all have a nacelle with the given `yaw_direction` sensor, i.e., one sensor is used for 5 turbines."
   ]
  },
  {
   "cell_type": "markdown",
   "id": "71da7a4f-ea12-4db5-b617-384b84d19e24",
   "metadata": {},
   "source": [
    "### Performance issues.\n",
    "\n",
    "Nested filtering can be expensive. The performance depens on the implementation of the data model (use of indexes, container size). We note that the above query can be split into two."
   ]
  },
  {
   "cell_type": "markdown",
   "id": "5c97b892-596b-4314-8a4a-3afd3049d16f",
   "metadata": {},
   "source": [
    "**Query 1: List all nacelle with a given yaw direction sensor**\n",
    "\n",
    "**Query 2: List all turbines with any of the nacelle returned in the first query**"
   ]
  },
  {
   "cell_type": "code",
   "execution_count": 23,
   "id": "02cf552e-d206-4eaa-8349-d138f4270c72",
   "metadata": {},
   "outputs": [
    {
     "data": {
      "text/plain": [
       "{'space': 'sp_wind', 'externalId': 'V52-WindTurbine.yaw'}"
      ]
     },
     "execution_count": 23,
     "metadata": {},
     "output_type": "execute_result"
    }
   ],
   "source": [
    "yaw_sensor"
   ]
  },
  {
   "cell_type": "code",
   "execution_count": 38,
   "id": "5fe8dc5d-7922-459d-9e3a-c23c89c8e480",
   "metadata": {},
   "outputs": [],
   "source": [
    "nacelle_list = client.data_modeling.instances.list(\n",
    "    sources=nacelle_view,\n",
    "    filter=filters.Equals(nacelle_view.as_property_ref(\"yaw_direction\"), yaw_sensor),\n",
    "    limit=-1,\n",
    ")"
   ]
  },
  {
   "cell_type": "code",
   "execution_count": 39,
   "id": "4ac5d38e-5fc7-4d44-9fd1-45d48615209f",
   "metadata": {},
   "outputs": [
    {
     "data": {
      "text/plain": [
       "[NodeId(space='sp_wind', external_id='hornsea_1_mill_1_nacelle'),\n",
       " NodeId(space='sp_wind', external_id='hornsea_1_mill_3_nacelle'),\n",
       " NodeId(space='sp_wind', external_id='hornsea_1_mill_2_nacelle'),\n",
       " NodeId(space='sp_wind', external_id='hornsea_1_mill_4_nacelle'),\n",
       " NodeId(space='sp_wind', external_id='hornsea_1_mill_5_nacelle')]"
      ]
     },
     "execution_count": 39,
     "metadata": {},
     "output_type": "execute_result"
    }
   ],
   "source": [
    "nacelle_list.as_ids()"
   ]
  },
  {
   "cell_type": "code",
   "execution_count": 40,
   "id": "db71f469-ef4d-46c8-bc27-abe8bd7bb76d",
   "metadata": {},
   "outputs": [
    {
     "data": {
      "text/html": [
       "<div>\n",
       "<style scoped>\n",
       "    .dataframe tbody tr th:only-of-type {\n",
       "        vertical-align: middle;\n",
       "    }\n",
       "\n",
       "    .dataframe tbody tr th {\n",
       "        vertical-align: top;\n",
       "    }\n",
       "\n",
       "    .dataframe thead th {\n",
       "        text-align: right;\n",
       "    }\n",
       "</style>\n",
       "<table border=\"1\" class=\"dataframe\">\n",
       "  <thead>\n",
       "    <tr style=\"text-align: right;\">\n",
       "      <th></th>\n",
       "      <th>space</th>\n",
       "      <th>external_id</th>\n",
       "      <th>version</th>\n",
       "      <th>last_updated_time</th>\n",
       "      <th>created_time</th>\n",
       "      <th>instance_type</th>\n",
       "      <th>name</th>\n",
       "      <th>capacity</th>\n",
       "      <th>rotor</th>\n",
       "      <th>blades</th>\n",
       "      <th>nacelle</th>\n",
       "      <th>windfarm</th>\n",
       "      <th>datasheets</th>\n",
       "    </tr>\n",
       "  </thead>\n",
       "  <tbody>\n",
       "    <tr>\n",
       "      <th>0</th>\n",
       "      <td>sp_wind</td>\n",
       "      <td>hornsea_1_mill_3</td>\n",
       "      <td>8</td>\n",
       "      <td>2024-12-17 09:57:38.908</td>\n",
       "      <td>2024-11-16 14:08:01.544</td>\n",
       "      <td>node</td>\n",
       "      <td>hornsea_1_mill_3</td>\n",
       "      <td>7</td>\n",
       "      <td>{'space': 'sp_wind', 'externalId': 'hornsea_1_...</td>\n",
       "      <td>[{'space': 'sp_wind', 'externalId': 'hornsea_1...</td>\n",
       "      <td>{'space': 'sp_wind', 'externalId': 'hornsea_1_...</td>\n",
       "      <td>Hornsea 1</td>\n",
       "      <td>[{'space': 'sp_wind', 'externalId': 'windmill_...</td>\n",
       "    </tr>\n",
       "    <tr>\n",
       "      <th>1</th>\n",
       "      <td>sp_wind</td>\n",
       "      <td>hornsea_1_mill_2</td>\n",
       "      <td>8</td>\n",
       "      <td>2024-12-17 09:57:38.908</td>\n",
       "      <td>2024-11-16 14:08:01.544</td>\n",
       "      <td>node</td>\n",
       "      <td>hornsea_1_mill_2</td>\n",
       "      <td>7</td>\n",
       "      <td>{'space': 'sp_wind', 'externalId': 'hornsea_1_...</td>\n",
       "      <td>[{'space': 'sp_wind', 'externalId': 'hornsea_1...</td>\n",
       "      <td>{'space': 'sp_wind', 'externalId': 'hornsea_1_...</td>\n",
       "      <td>Hornsea 1</td>\n",
       "      <td>[{'space': 'sp_wind', 'externalId': 'windmill_...</td>\n",
       "    </tr>\n",
       "    <tr>\n",
       "      <th>2</th>\n",
       "      <td>sp_wind</td>\n",
       "      <td>hornsea_1_mill_1</td>\n",
       "      <td>8</td>\n",
       "      <td>2024-12-17 09:57:38.908</td>\n",
       "      <td>2024-11-16 14:08:01.544</td>\n",
       "      <td>node</td>\n",
       "      <td>hornsea_1_mill_1</td>\n",
       "      <td>7</td>\n",
       "      <td>{'space': 'sp_wind', 'externalId': 'hornsea_1_...</td>\n",
       "      <td>[{'space': 'sp_wind', 'externalId': 'hornsea_1...</td>\n",
       "      <td>{'space': 'sp_wind', 'externalId': 'hornsea_1_...</td>\n",
       "      <td>Hornsea 1</td>\n",
       "      <td>[{'space': 'sp_wind', 'externalId': 'windmill_...</td>\n",
       "    </tr>\n",
       "    <tr>\n",
       "      <th>3</th>\n",
       "      <td>sp_wind</td>\n",
       "      <td>hornsea_1_mill_4</td>\n",
       "      <td>8</td>\n",
       "      <td>2024-12-17 09:57:38.908</td>\n",
       "      <td>2024-11-16 14:08:01.544</td>\n",
       "      <td>node</td>\n",
       "      <td>hornsea_1_mill_4</td>\n",
       "      <td>7</td>\n",
       "      <td>{'space': 'sp_wind', 'externalId': 'hornsea_1_...</td>\n",
       "      <td>[{'space': 'sp_wind', 'externalId': 'hornsea_1...</td>\n",
       "      <td>{'space': 'sp_wind', 'externalId': 'hornsea_1_...</td>\n",
       "      <td>Hornsea 1</td>\n",
       "      <td>[{'space': 'sp_wind', 'externalId': 'windmill_...</td>\n",
       "    </tr>\n",
       "    <tr>\n",
       "      <th>4</th>\n",
       "      <td>sp_wind</td>\n",
       "      <td>hornsea_1_mill_5</td>\n",
       "      <td>8</td>\n",
       "      <td>2024-12-17 09:57:38.908</td>\n",
       "      <td>2024-11-16 14:08:01.544</td>\n",
       "      <td>node</td>\n",
       "      <td>hornsea_1_mill_5</td>\n",
       "      <td>7</td>\n",
       "      <td>{'space': 'sp_wind', 'externalId': 'hornsea_1_...</td>\n",
       "      <td>[{'space': 'sp_wind', 'externalId': 'hornsea_1...</td>\n",
       "      <td>{'space': 'sp_wind', 'externalId': 'hornsea_1_...</td>\n",
       "      <td>Hornsea 1</td>\n",
       "      <td>[{'space': 'sp_wind', 'externalId': 'windmill_...</td>\n",
       "    </tr>\n",
       "  </tbody>\n",
       "</table>\n",
       "</div>"
      ],
      "text/plain": [
       "NodeList([<Node(space='sp_wind', external_id='hornsea_1_mill_3', version=8) at 0x2687991a200>,\n",
       "          <Node(space='sp_wind', external_id='hornsea_1_mill_2', version=8) at 0x2687991b490>,\n",
       "          <Node(space='sp_wind', external_id='hornsea_1_mill_1', version=8) at 0x2687991ab00>,\n",
       "          <Node(space='sp_wind', external_id='hornsea_1_mill_4', version=8) at 0x268799199f0>,\n",
       "          <Node(space='sp_wind', external_id='hornsea_1_mill_5', version=8) at 0x268799182e0>])"
      ]
     },
     "execution_count": 40,
     "metadata": {},
     "output_type": "execute_result"
    }
   ],
   "source": [
    "turbines = client.data_modeling.instances.list(\n",
    "    sources=turbine_view,\n",
    "    filter=filters.In(\n",
    "        turbine_view.as_property_ref(\"nacelle\"),\n",
    "        [nacelle_id.dump(include_instance_type=False) for nacelle_id in nacelle_list.as_ids()],\n",
    "    ),\n",
    "    limit=-1,\n",
    ")\n",
    "turbines"
   ]
  },
  {
   "cell_type": "markdown",
   "id": "626de3c7-ece2-4ff3-8269-1846bd173848",
   "metadata": {},
   "source": [
    "The result is the same as above. Note that if the first query returns several 1000s nacelle, the `In` filter is likely to time out. Then, you need to split up the second query into multiple queries. For example, for example, fetch turbines by filtering the nacelle in cunks of 100."
   ]
  },
  {
   "cell_type": "code",
   "execution_count": null,
   "id": "2b956e01-fe14-45bd-8c85-01741224b235",
   "metadata": {},
   "outputs": [],
   "source": []
  }
 ],
 "metadata": {
  "kernelspec": {
   "display_name": "Python 3 (ipykernel)",
   "language": "python",
   "name": "python3"
  },
  "language_info": {
   "codemirror_mode": {
    "name": "ipython",
    "version": 3
   },
   "file_extension": ".py",
   "mimetype": "text/x-python",
   "name": "python",
   "nbconvert_exporter": "python",
   "pygments_lexer": "ipython3",
   "version": "3.10.11"
  }
 },
 "nbformat": 4,
 "nbformat_minor": 5
}
